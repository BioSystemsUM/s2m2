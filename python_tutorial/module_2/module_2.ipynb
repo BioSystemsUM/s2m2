{
 "cells": [
  {
   "cell_type": "markdown",
   "metadata": {
    "collapsed": false,
    "pycharm": {
     "name": "#%% md\n"
    }
   },
   "source": [
    "# Define fuctions"
   ]
  },
  {
   "cell_type": "markdown",
   "metadata": {
    "collapsed": false,
    "pycharm": {
     "name": "#%% md\n"
    }
   },
   "source": [
    "In programming, a function is a chunk of code that takes an input and produces an output, performing one or several tasks.\n",
    "\n",
    "User-defined functions bring a lot of power to your programs and provide a way to define your own algorithms in a generic way:\n",
    "* Functions are convenient when you need repeatedly to perform a task. After defining a function, you simply call it instead of typing or copy-pasting the same code snippet over and over again. Moreover, if you decide to change a block of code, you only need to change it where you define the function. This change will be applied anywhere the function is called.\n",
    "* By defining and using functions, you can break down a complex task into smaller pieces. This is a great way to reduce the amount of code you need to write.\n",
    "* Finally, with user-defined functions, your code is usually easier to read. You can clearly see which task is accomplished with each code block. This is especially true when functions are defined following the best practices discussed later.\n",
    "\n",
    "Are you excited? Okay, let’s define a couple of functions together."
   ]
  },
  {
   "cell_type": "markdown",
   "metadata": {
    "collapsed": false,
    "pycharm": {
     "name": "#%% md\n"
    }
   },
   "source": [
    "## Defining a function in python"
   ]
  },
  {
   "cell_type": "markdown",
   "metadata": {
    "collapsed": false,
    "pycharm": {
     "name": "#%% md\n"
    }
   },
   "source": [
    "Defining a function is very simple.\n",
    "- It only requires the keyword `def` followed by the name of the function and the parentheses containing the input parameters. The input parameters are separated by commas.\n",
    "- The function body is defined after the colon. The function body is made up of lines of code.\n",
    "- The last line of the function body must be the return statement.\n",
    "- The return statement returns the value of the function. The return statement is optional.\n",
    "- If the function does not return a value, it returns `None`."
   ]
  },
  {
   "cell_type": "markdown",
   "metadata": {
    "collapsed": false,
    "pycharm": {
     "name": "#%% md\n"
    }
   },
   "source": [
    "Let’s define a function that takes two parameters and returns the sum of the two."
   ]
  },
  {
   "cell_type": "code",
   "execution_count": 10,
   "metadata": {
    "collapsed": false,
    "pycharm": {
     "name": "#%%\n"
    }
   },
   "outputs": [],
   "source": [
    "def add(a, b):\n",
    "    return a + b"
   ]
  },
  {
   "cell_type": "markdown",
   "metadata": {
    "collapsed": false,
    "pycharm": {
     "name": "#%% md\n"
    }
   },
   "source": [
    "And here is a description of the syntax:\n",
    "\n",
    "- We start with the def keyword to inform Python that a new function is being defined.\n",
    "- Then, we give our function a meaningful name.\n",
    "- Next, in parentheses, we list the arguments or parameters that the function needs to perform a task. You can include as many parameters as you want. If you define a function without parameters, you can also leave the parentheses empty.\n",
    "- The colon symbol “:” denotes the end of the function’s header and a transition to the function’s body.\n",
    "- After the indentation, we write the code block needed to perform the task at hand.\n",
    "- When done with the code block, we leave an empty line to mark the end of the function definition.\n"
   ]
  },
  {
   "cell_type": "markdown",
   "metadata": {
    "collapsed": false,
    "pycharm": {
     "name": "#%% md\n"
    }
   },
   "source": [
    "As you see, pretty simple. The function takes two parameters as input and returns the sum of the two as output."
   ]
  },
  {
   "cell_type": "code",
   "execution_count": 11,
   "metadata": {
    "collapsed": false,
    "pycharm": {
     "name": "#%%\n"
    }
   },
   "outputs": [
    {
     "data": {
      "text/plain": [
       "3"
      ]
     },
     "execution_count": 11,
     "metadata": {},
     "output_type": "execute_result"
    }
   ],
   "source": [
    "add(1, 2)"
   ]
  },
  {
   "cell_type": "markdown",
   "metadata": {
    "collapsed": false,
    "pycharm": {
     "name": "#%% md\n"
    }
   },
   "source": [
    "The function is called with the arguments 1 and 2. The function returns 3. The function is called as follows: `add(1, 2)`."
   ]
  },
  {
   "cell_type": "markdown",
   "metadata": {
    "collapsed": false,
    "pycharm": {
     "name": "#%% md\n"
    }
   },
   "source": [
    "### Functions with one parameter"
   ]
  },
  {
   "cell_type": "markdown",
   "metadata": {
    "collapsed": false,
    "pycharm": {
     "name": "#%% md\n"
    }
   },
   "source": [
    "Let's start with a function that takes only one parameter. We will use the function `print` to print a message with the value of the parameter."
   ]
  },
  {
   "cell_type": "code",
   "execution_count": 12,
   "metadata": {
    "collapsed": false,
    "pycharm": {
     "name": "#%%\n"
    }
   },
   "outputs": [],
   "source": [
    "def hello(name):\n",
    "    print(\"Hello \",name)"
   ]
  },
  {
   "cell_type": "code",
   "execution_count": 13,
   "metadata": {
    "collapsed": false,
    "pycharm": {
     "name": "#%%\n"
    }
   },
   "outputs": [
    {
     "name": "stdout",
     "output_type": "stream",
     "text": [
      "Hello  John\n"
     ]
    }
   ],
   "source": [
    "hello(\"John\")"
   ]
  },
  {
   "cell_type": "markdown",
   "metadata": {
    "collapsed": false,
    "pycharm": {
     "name": "#%% md\n"
    }
   },
   "source": [
    "### Functions with no parameters"
   ]
  },
  {
   "cell_type": "markdown",
   "metadata": {
    "collapsed": false,
    "pycharm": {
     "name": "#%% md\n"
    }
   },
   "source": [
    "In some cases, you may want to define functions without any arguments. For example, let’s write a function that will print a message."
   ]
  },
  {
   "cell_type": "code",
   "execution_count": 14,
   "metadata": {
    "collapsed": false,
    "pycharm": {
     "name": "#%%\n"
    }
   },
   "outputs": [],
   "source": [
    "def hello():\n",
    "    print(\"Hello World\")"
   ]
  },
  {
   "cell_type": "code",
   "execution_count": 15,
   "metadata": {
    "collapsed": false,
    "pycharm": {
     "name": "#%%\n"
    }
   },
   "outputs": [
    {
     "name": "stdout",
     "output_type": "stream",
     "text": [
      "Hello World\n"
     ]
    }
   ],
   "source": [
    "hello()"
   ]
  },
  {
   "cell_type": "markdown",
   "metadata": {
    "collapsed": false,
    "pycharm": {
     "name": "#%% md\n"
    }
   },
   "source": [
    "### Functions with multiple parameters"
   ]
  },
  {
   "cell_type": "markdown",
   "metadata": {
    "collapsed": false,
    "pycharm": {
     "name": "#%% md\n"
    }
   },
   "source": [
    "In some cases, you may want to define functions with multiple parameters. For example, let’s write a function that calculate a person's age based on his or her birthday."
   ]
  },
  {
   "cell_type": "code",
   "execution_count": 17,
   "metadata": {
    "collapsed": false,
    "pycharm": {
     "name": "#%%\n"
    }
   },
   "outputs": [],
   "source": [
    "def multiply_values(number1, number2):\n",
    "    result = number1 * number2\n",
    "    return result"
   ]
  },
  {
   "cell_type": "code",
   "execution_count": 20,
   "metadata": {
    "collapsed": false,
    "pycharm": {
     "name": "#%%\n"
    }
   },
   "outputs": [
    {
     "data": {
      "text/plain": [
       "6"
      ]
     },
     "execution_count": 20,
     "metadata": {},
     "output_type": "execute_result"
    }
   ],
   "source": [
    "res = multiply_values(2, 3)\n",
    "res"
   ]
  },
  {
   "cell_type": "markdown",
   "metadata": {
    "collapsed": false,
    "pycharm": {
     "name": "#%% md\n"
    }
   },
   "source": [
    "Note that this function requires two arguments: number1 and number2. In the body of the `multiply_values` function, we use the positional parameters `number1` by `number2` and save the result with the `result` variable.\n",
    "\n",
    "That’s when the return statement comes into play. Use the return keyword to specify the return value, which can be just about any Python object (e.g., integer, string, list, tuple, dictionary, set, etc.).\n",
    "\n",
    "Now, let’s call our `multiply_values()` function with multiple arguments. We have two options with regarding arguments:\n",
    "\n",
    "- Positional arguments. This involves passing the arguments in the order that corresponds with parameters in the function definition:\n",
    "\n",
    "```python\n",
    "multiply_values(2, 3)\n",
    "```\n",
    "\n",
    "- Keyword arguments. This involves passing the arguments in the order that corresponds with the parameter names in the function definition.\n",
    "\n",
    "```python\n",
    "multiply_values(number1=2, number2=3)\n",
    "```"
   ]
  },
  {
   "cell_type": "markdown",
   "metadata": {
    "collapsed": false,
    "pycharm": {
     "name": "#%% md\n"
    }
   },
   "source": [
    "### Best practices for defining functions in Python"
   ]
  },
  {
   "cell_type": "markdown",
   "metadata": {
    "collapsed": false,
    "pycharm": {
     "name": "#%% md\n"
    }
   },
   "source": [
    "I’d like to conclude this guide by listing some helpful practices for defining functions in Python:\n",
    "\n",
    "- Use meaningful function names. Function names should be descriptive and should not contain any special characters. For example, `add` is a good function name, but `add_` is not. The underscore character is used to indicate that a function is private. For example, `_add` is a good function name, but `__add` is not. The double underscore character is used to indicate that a function is private and should not be used outside of the module in which it is defined. For example, `__add` is a good function name, but `__add__` is not.\n",
    "- Assign one task to one function. If you need to perform multiple tasks, define a new function for each task. For example, if you need to add two numbers and then multiply them sequentially, you can define a function called `add`, call it with the arguments and define an extra function called `multiply` and call it with the arguments. Finally, call the `multiply` function with the result of the `add` function. This is a good practice to organize your code and make it easier to read and use.\n",
    "- Provide comments on the function task. Make sure to include a brief summary of what the function does right below the header. This comment is called a docstring and should be surrounded with triple-double quotes (“””).\n",
    "\n",
    "Follow these practices so that your code looks clean and professional."
   ]
  },
  {
   "cell_type": "markdown",
   "metadata": {
    "collapsed": false,
    "pycharm": {
     "name": "#%% md\n"
    }
   },
   "source": [
    "# Python Classes and Objects"
   ]
  },
  {
   "cell_type": "markdown",
   "metadata": {
    "collapsed": false,
    "pycharm": {
     "name": "#%% md\n"
    }
   },
   "source": [
    "Python is an object-oriented programming language. It is a dynamic language that allows you to create objects and interact with them. Objects are created by defining a class and instantiating an object from that class. The class defines the attributes and methods of the object.\n",
    "\n",
    "Almost everything in Python is an object, with its properties and methods.\n",
    "\n",
    "A Class is like an object constructor, or a \"blueprint\" for creating objects."
   ]
  },
  {
   "cell_type": "markdown",
   "metadata": {},
   "source": [
    "Now we will define a class called `Person` by using the keyword `class`. A class allows one to define attributes that can store data and define methods that can perform certain functions.\n",
    "\n",
    "After defining a class, you can then use it by creating instances or objects of the class. You can then use objects to save data and use its methods."
   ]
  },
  {
   "cell_type": "code",
   "execution_count": 43,
   "metadata": {
    "collapsed": false,
    "pycharm": {
     "name": "#%%\n"
    }
   },
   "outputs": [],
   "source": [
    "class Person():\n",
    "    def __init__(self, name, age): #instance initializer: runs when an instance is created \n",
    "        self.name = name #self.name is an attribute of the instance\n",
    "        self.age = age #self.age is an attribute of the instance\n",
    "\n",
    "        #self: refers to the instance\n",
    "        #self.name: refers to the instance's name attribute\n",
    "        #self.age: refers to the instance's age attribute\n",
    "\n",
    "    def say_hello(self): #method\n",
    "        print(\"Hello\", self.name)\n",
    "\n",
    "    def say_age(self): #method\n",
    "        print(\"I am \", self.age)\n",
    "    \n",
    "    def say_name(self): #method\n",
    "        print(\"My name is \", self.name) \n",
    "\n",
    "    def say_birthyear(self): #method\n",
    "        print(\"I was born in \", 2022 - self.age)"
   ]
  },
  {
   "cell_type": "code",
   "execution_count": 44,
   "metadata": {},
   "outputs": [],
   "source": [
    "person1 = Person(\"John\", 23)"
   ]
  },
  {
   "cell_type": "code",
   "execution_count": 45,
   "metadata": {},
   "outputs": [
    {
     "name": "stdout",
     "output_type": "stream",
     "text": [
      "Hello John\n"
     ]
    }
   ],
   "source": [
    "person1.say_hello()"
   ]
  },
  {
   "cell_type": "code",
   "execution_count": 46,
   "metadata": {},
   "outputs": [
    {
     "name": "stdout",
     "output_type": "stream",
     "text": [
      "I was born in  1999\n"
     ]
    }
   ],
   "source": [
    "person1.say_birthyear()"
   ]
  }
 ],
 "metadata": {
  "interpreter": {
   "hash": "b4ec87973305f9ffb3442234baeeb84c511b3ec6629537291ad644fdb1b60223"
  },
  "kernelspec": {
   "display_name": "Python 3.9.7 ('base')",
   "language": "python",
   "name": "python3"
  },
  "language_info": {
   "codemirror_mode": {
    "name": "ipython",
    "version": 3
   },
   "file_extension": ".py",
   "mimetype": "text/x-python",
   "name": "python",
   "nbconvert_exporter": "python",
   "pygments_lexer": "ipython3",
   "version": "3.9.7"
  }
 },
 "nbformat": 4,
 "nbformat_minor": 0
}
