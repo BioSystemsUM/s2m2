{
 "cells": [
  {
   "cell_type": "markdown",
   "metadata": {},
   "source": [
    "\n",
    "# Exercice 1\n",
    "Nutrient and proteome limited growth."
   ]
  },
  {
   "cell_type": "code",
   "execution_count": null,
   "metadata": {},
   "outputs": [],
   "source": [
    "%matplotlib inline\n",
    "from cobra.io.sbml import read_sbml_model\n",
    "import matplotlib.pyplot as plt\n",
    "from mewpy.simulation import get_simulator\n"
   ]
  },
  {
   "cell_type": "markdown",
   "metadata": {},
   "source": [
    "Start by loading the E. coli model iJO1366. \n",
    "You may use COBRApy."
   ]
  },
  {
   "cell_type": "code",
   "execution_count": null,
   "metadata": {},
   "outputs": [],
   "source": [
    "model = read_sbml_model('data/iJO1366.xml')\n",
    "simul = get_simulator(model)"
   ]
  },
  {
   "cell_type": "markdown",
   "metadata": {},
   "source": [
    "Create medium conditions where all nutrients, except glucose, are unlimited. This medium simulates somehow what could be found in batch cultures"
   ]
  },
  {
   "cell_type": "code",
   "execution_count": null,
   "metadata": {},
   "outputs": [],
   "source": [
    "GLC = 'EX_glc__D_e'\n",
    "BIOMASS = \"BIOMASS_Ec_iJO1366_WT_53p95M\"\n",
    "envcond = {rxn:(-10000,10000) for rxn in simul.get_uptake_reactions() if rxn!=GLC}"
   ]
  },
  {
   "cell_type": "markdown",
   "metadata": {},
   "source": [
    "Redefine the simulation environment considering this medium."
   ]
  },
  {
   "cell_type": "code",
   "execution_count": null,
   "metadata": {},
   "outputs": [],
   "source": [
    "simul = get_simulator(model,envcond=envcond)\n",
    "simul.objective = BIOMASS"
   ]
  },
  {
   "cell_type": "markdown",
   "metadata": {},
   "source": [
    "The function bellow plots the glucose dependent growth given a simulation environment "
   ]
  },
  {
   "cell_type": "code",
   "execution_count": null,
   "metadata": {},
   "outputs": [],
   "source": [
    "def plot_growth(simul,title=''):\n",
    "    x_values =[]\n",
    "    y_values =[]\n",
    "    for x in range(1,100,5):\n",
    "        c = {GLC:(-x,1000)}\n",
    "        s = simul.simulate(constraints=c)\n",
    "        try:\n",
    "            b = s.fluxes[BIOMASS]\n",
    "        except:\n",
    "            b = 0\n",
    "        x_values.append(x)\n",
    "        y_values.append(b)\n",
    "    plt.xlabel('Glucose uptake [mmol/(gDW*h)]')\n",
    "    plt.ylabel('Growth [1/h]')\n",
    "    plt.title(title)\n",
    "    plt.plot(x_values,y_values)"
   ]
  },
  {
   "cell_type": "code",
   "execution_count": null,
   "metadata": {},
   "outputs": [],
   "source": [
    "plot_growth(simul,'Nutrient-limited growth')"
   ]
  },
  {
   "cell_type": "markdown",
   "metadata": {},
   "source": [
    "### Exercices\n",
    "\n",
    "Replicate the previous experiment using the metabolic model with enzymatic constraints: `\"data/iJO1366_sMOMENT_2019_06_25.xml\"`.\n"
   ]
  },
  {
   "cell_type": "code",
   "execution_count": null,
   "metadata": {},
   "outputs": [],
   "source": [
    "model = read_sbml_model('data/iJO1366_sMOMENT_2019_06_25.xml')\n",
    "model.reactions.get_by_id('EX_glc__D_e').bounds = (-10000, 10000)\n",
    "simul = get_simulator(model,envcond=envcond)"
   ]
  },
  {
   "cell_type": "code",
   "execution_count": null,
   "metadata": {},
   "outputs": [],
   "source": [
    "simul.find(simul.get_uptake_reactions())"
   ]
  },
  {
   "cell_type": "code",
   "execution_count": null,
   "metadata": {},
   "outputs": [],
   "source": [
    "simul.find()"
   ]
  },
  {
   "cell_type": "markdown",
   "metadata": {},
   "source": [
    "### Ex 1\n",
    "Note that the stoichiometry of some reactions include the usage of a _prot_pool_ pseudo-substrate"
   ]
  },
  {
   "cell_type": "markdown",
   "metadata": {},
   "source": [
    "Complete the exercice:\n",
    "\n",
    "* define the simulation objective;\n",
    "* use the `plot_growth` function to plot the cellular growth. You may define as title 'Nutrient and Proteome-limited growth'"
   ]
  },
  {
   "cell_type": "code",
   "execution_count": null,
   "metadata": {},
   "outputs": [],
   "source": [
    "# define the simulation objective\n"
   ]
  },
  {
   "cell_type": "code",
   "execution_count": null,
   "metadata": {},
   "outputs": [],
   "source": [
    "# plot\n"
   ]
  },
  {
   "cell_type": "markdown",
   "metadata": {},
   "source": [
    "### Ex 2\n",
    "\n",
    "Identify the minimum glucose uptake that allows to reach maximal growth:\n",
    "* identify the maximum biomass value\n",
    "* run an FBA simulation setting as objective the \"minimization\" of glucose uptake, constrained by a maximum biomass rate. Note that uptakes rate are negative. You might want to look at the `simulate` method documentation, `help(simul.simulate)` "
   ]
  },
  {
   "cell_type": "code",
   "execution_count": null,
   "metadata": {},
   "outputs": [],
   "source": [
    "# compute the maximal growth\n"
   ]
  },
  {
   "cell_type": "code",
   "execution_count": null,
   "metadata": {},
   "outputs": [],
   "source": [
    "# compute the minimal glucose uptake rate that enables maximal growth\n"
   ]
  }
 ],
 "metadata": {
  "kernelspec": {
   "display_name": "s2m2",
   "language": "python",
   "name": "s2m2"
  },
  "language_info": {
   "codemirror_mode": {
    "name": "ipython",
    "version": 3
   },
   "file_extension": ".py",
   "mimetype": "text/x-python",
   "name": "python",
   "nbconvert_exporter": "python",
   "pygments_lexer": "ipython3",
   "version": "3.7.10"
  }
 },
 "nbformat": 4,
 "nbformat_minor": 4
}
