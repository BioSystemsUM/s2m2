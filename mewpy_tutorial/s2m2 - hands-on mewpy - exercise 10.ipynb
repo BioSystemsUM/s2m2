{
 "cells": [
  {
   "cell_type": "markdown",
   "metadata": {},
   "source": [
    "\n",
    "# Nutrient and proteome limited growth."
   ]
  },
  {
   "cell_type": "code",
   "execution_count": 1,
   "metadata": {},
   "outputs": [],
   "source": [
    "%matplotlib inline\n",
    "from cobra.io.sbml import read_sbml_model\n",
    "import matplotlib.pyplot as plt\n",
    "from mewpy.simulation import get_simulator\n"
   ]
  },
  {
   "cell_type": "markdown",
   "metadata": {},
   "source": [
    "Start by loading the E. coli model iJO1366. \n",
    "You may use COBRApy."
   ]
  },
  {
   "cell_type": "code",
   "execution_count": 2,
   "metadata": {},
   "outputs": [],
   "source": [
    "model = read_sbml_model('data/iJO1366.xml')\n",
    "simul = get_simulator(model)"
   ]
  },
  {
   "cell_type": "markdown",
   "metadata": {},
   "source": [
    "Create medium conditions where all nutrients, except glucose, are unlimited. This medium simulates somehow what could be found in batch cultures"
   ]
  },
  {
   "cell_type": "code",
   "execution_count": 4,
   "metadata": {},
   "outputs": [],
   "source": [
    "GLC = 'EX_glc__D_e'\n",
    "BIOMASS = \"BIOMASS_Ec_iJO1366_WT_53p95M\"\n",
    "envcond = {rxn:(-10000,10000) for rxn in simul.get_uptake_reactions() if rxn!=GLC}"
   ]
  },
  {
   "cell_type": "markdown",
   "metadata": {},
   "source": [
    "Redefine the simulation environment considering this medium."
   ]
  },
  {
   "cell_type": "code",
   "execution_count": 5,
   "metadata": {},
   "outputs": [],
   "source": [
    "simul = get_simulator(model,envcond=envcond)\n",
    "simul.objective = BIOMASS"
   ]
  },
  {
   "cell_type": "markdown",
   "metadata": {},
   "source": [
    "The function bellow plots the glucose dependent growth given a simulation environment "
   ]
  },
  {
   "cell_type": "code",
   "execution_count": 6,
   "metadata": {},
   "outputs": [],
   "source": [
    "def plot_growth(simul,title=''):\n",
    "    x_values =[]\n",
    "    y_values =[]\n",
    "    for x in range(1,100,5):\n",
    "        c = {GLC:(-x,1000)}\n",
    "        s = simul.simulate(constraints=c)\n",
    "        try:\n",
    "            b = s.fluxes[BIOMASS]\n",
    "        except:\n",
    "            b = 0\n",
    "        x_values.append(x)\n",
    "        y_values.append(b)\n",
    "    plt.xlabel('Glucose uptake [mmol/(gDW*h)]')\n",
    "    plt.ylabel('Growth [1/h]')\n",
    "    plt.title(title)\n",
    "    plt.plot(x_values,y_values)"
   ]
  },
  {
   "cell_type": "code",
   "execution_count": 7,
   "metadata": {},
   "outputs": [
    {
     "data": {
      "image/png": "[encoded data removed]",
      "text/plain": [
       "<Figure size 432x288 with 1 Axes>"
      ]
     },
     "metadata": {
      "needs_background": "light"
     },
     "output_type": "display_data"
    }
   ],
   "source": [
    "plot_growth(simul,'Nutrient-limited growth')"
   ]
  },
  {
   "cell_type": "markdown",
   "metadata": {},
   "source": [
    "### Exercices\n",
    "\n",
    "Replicate the previous experiment using the metabolic model with enzymatic constraints: `\"data/iJO1366_sMOMENT_2019_06_25.xml\"`.\n"
   ]
  },
  {
   "cell_type": "code",
   "execution_count": 8,
   "metadata": {},
   "outputs": [],
   "source": [
    "model = read_sbml_model('data/iJO1366_sMOMENT_2019_06_25.xml')\n",
    "model.reactions.get_by_id('EX_glc__D_e').bounds = (-10000, 10000)\n",
    "simul = get_simulator(model,envcond=envcond)"
   ]
  },
  {
   "cell_type": "code",
   "execution_count": 9,
   "metadata": {},
   "outputs": [
    {
     "data": {
      "text/html": [
       "<div>\n",
       "<style scoped>\n",
       "    .dataframe tbody tr th:only-of-type {\n",
       "        vertical-align: middle;\n",
       "    }\n",
       "\n",
       "    .dataframe tbody tr th {\n",
       "        vertical-align: top;\n",
       "    }\n",
       "\n",
       "    .dataframe thead th {\n",
       "        text-align: right;\n",
       "    }\n",
       "</style>\n",
       "<table border=\"1\" class=\"dataframe\">\n",
       "  <thead>\n",
       "    <tr style=\"text-align: right;\">\n",
       "      <th></th>\n",
       "      <th>id</th>\n",
       "      <th>name</th>\n",
       "      <th>lb</th>\n",
       "      <th>ub</th>\n",
       "      <th>stoichiometry</th>\n",
       "      <th>gpr</th>\n",
       "    </tr>\n",
       "  </thead>\n",
       "  <tbody>\n",
       "    <tr>\n",
       "      <th>0</th>\n",
       "      <td>EX_ca2_e</td>\n",
       "      <td>Calcium exchange</td>\n",
       "      <td>-10000</td>\n",
       "      <td>10000</td>\n",
       "      <td>{'ca2_e': -1.0}</td>\n",
       "      <td></td>\n",
       "    </tr>\n",
       "    <tr>\n",
       "      <th>1</th>\n",
       "      <td>EX_cbl1_e</td>\n",
       "      <td>Cob(I)alamin exchange</td>\n",
       "      <td>-10000</td>\n",
       "      <td>10000</td>\n",
       "      <td>{'cbl1_e': -1.0}</td>\n",
       "      <td></td>\n",
       "    </tr>\n",
       "    <tr>\n",
       "      <th>2</th>\n",
       "      <td>EX_cl_e</td>\n",
       "      <td>Chloride exchange</td>\n",
       "      <td>-10000</td>\n",
       "      <td>10000</td>\n",
       "      <td>{'cl_e': -1.0}</td>\n",
       "      <td></td>\n",
       "    </tr>\n",
       "    <tr>\n",
       "      <th>3</th>\n",
       "      <td>EX_co2_e</td>\n",
       "      <td>CO2 exchange</td>\n",
       "      <td>-10000</td>\n",
       "      <td>10000</td>\n",
       "      <td>{'co2_e': -1.0}</td>\n",
       "      <td></td>\n",
       "    </tr>\n",
       "    <tr>\n",
       "      <th>4</th>\n",
       "      <td>EX_cobalt2_e</td>\n",
       "      <td>Co2+ exchange</td>\n",
       "      <td>-10000</td>\n",
       "      <td>10000</td>\n",
       "      <td>{'cobalt2_e': -1.0}</td>\n",
       "      <td></td>\n",
       "    </tr>\n",
       "    <tr>\n",
       "      <th>5</th>\n",
       "      <td>EX_cu2_e</td>\n",
       "      <td>Cu2+ exchange</td>\n",
       "      <td>-10000</td>\n",
       "      <td>10000</td>\n",
       "      <td>{'cu2_e': -1.0}</td>\n",
       "      <td></td>\n",
       "    </tr>\n",
       "    <tr>\n",
       "      <th>6</th>\n",
       "      <td>EX_fe2_e</td>\n",
       "      <td>Fe2+ exchange</td>\n",
       "      <td>-10000</td>\n",
       "      <td>10000</td>\n",
       "      <td>{'fe2_e': -1.0}</td>\n",
       "      <td></td>\n",
       "    </tr>\n",
       "    <tr>\n",
       "      <th>7</th>\n",
       "      <td>EX_fe3_e</td>\n",
       "      <td>Fe3+ exchange</td>\n",
       "      <td>-10000</td>\n",
       "      <td>10000</td>\n",
       "      <td>{'fe3_e': -1.0}</td>\n",
       "      <td></td>\n",
       "    </tr>\n",
       "    <tr>\n",
       "      <th>8</th>\n",
       "      <td>EX_glc__D_e</td>\n",
       "      <td>D-Glucose exchange</td>\n",
       "      <td>-10000</td>\n",
       "      <td>10000</td>\n",
       "      <td>{'glc__D_e': -1.0}</td>\n",
       "      <td></td>\n",
       "    </tr>\n",
       "    <tr>\n",
       "      <th>9</th>\n",
       "      <td>EX_h_e</td>\n",
       "      <td>H+ exchange</td>\n",
       "      <td>-10000</td>\n",
       "      <td>10000</td>\n",
       "      <td>{'h_e': -1.0}</td>\n",
       "      <td></td>\n",
       "    </tr>\n",
       "    <tr>\n",
       "      <th>10</th>\n",
       "      <td>EX_h2o_e</td>\n",
       "      <td>H2O exchange</td>\n",
       "      <td>-10000</td>\n",
       "      <td>10000</td>\n",
       "      <td>{'h2o_e': -1.0}</td>\n",
       "      <td></td>\n",
       "    </tr>\n",
       "    <tr>\n",
       "      <th>11</th>\n",
       "      <td>EX_k_e</td>\n",
       "      <td>K+ exchange</td>\n",
       "      <td>-10000</td>\n",
       "      <td>10000</td>\n",
       "      <td>{'k_e': -1.0}</td>\n",
       "      <td></td>\n",
       "    </tr>\n",
       "    <tr>\n",
       "      <th>12</th>\n",
       "      <td>EX_mg2_e</td>\n",
       "      <td>Mg exchange</td>\n",
       "      <td>-10000</td>\n",
       "      <td>10000</td>\n",
       "      <td>{'mg2_e': -1.0}</td>\n",
       "      <td></td>\n",
       "    </tr>\n",
       "    <tr>\n",
       "      <th>13</th>\n",
       "      <td>EX_mn2_e</td>\n",
       "      <td>Mn2+ exchange</td>\n",
       "      <td>-10000</td>\n",
       "      <td>10000</td>\n",
       "      <td>{'mn2_e': -1.0}</td>\n",
       "      <td></td>\n",
       "    </tr>\n",
       "    <tr>\n",
       "      <th>14</th>\n",
       "      <td>EX_mobd_e</td>\n",
       "      <td>Molybdate exchange</td>\n",
       "      <td>-10000</td>\n",
       "      <td>10000</td>\n",
       "      <td>{'mobd_e': -1.0}</td>\n",
       "      <td></td>\n",
       "    </tr>\n",
       "    <tr>\n",
       "      <th>15</th>\n",
       "      <td>EX_na1_e</td>\n",
       "      <td>Sodium exchange</td>\n",
       "      <td>-10000</td>\n",
       "      <td>10000</td>\n",
       "      <td>{'na1_e': -1.0}</td>\n",
       "      <td></td>\n",
       "    </tr>\n",
       "    <tr>\n",
       "      <th>16</th>\n",
       "      <td>EX_nh4_e</td>\n",
       "      <td>Ammonia exchange</td>\n",
       "      <td>-10000</td>\n",
       "      <td>10000</td>\n",
       "      <td>{'nh4_e': -1.0}</td>\n",
       "      <td></td>\n",
       "    </tr>\n",
       "    <tr>\n",
       "      <th>17</th>\n",
       "      <td>EX_ni2_e</td>\n",
       "      <td>Ni2+ exchange</td>\n",
       "      <td>-10000</td>\n",
       "      <td>10000</td>\n",
       "      <td>{'ni2_e': -1.0}</td>\n",
       "      <td></td>\n",
       "    </tr>\n",
       "    <tr>\n",
       "      <th>18</th>\n",
       "      <td>EX_o2_e</td>\n",
       "      <td>O2 exchange</td>\n",
       "      <td>-10000</td>\n",
       "      <td>10000</td>\n",
       "      <td>{'o2_e': -1.0}</td>\n",
       "      <td></td>\n",
       "    </tr>\n",
       "    <tr>\n",
       "      <th>19</th>\n",
       "      <td>EX_pi_e</td>\n",
       "      <td>Phosphate exchange</td>\n",
       "      <td>-10000</td>\n",
       "      <td>10000</td>\n",
       "      <td>{'pi_e': -1.0}</td>\n",
       "      <td></td>\n",
       "    </tr>\n",
       "    <tr>\n",
       "      <th>20</th>\n",
       "      <td>EX_sel_e</td>\n",
       "      <td>Selenate exchange</td>\n",
       "      <td>-10000</td>\n",
       "      <td>10000</td>\n",
       "      <td>{'sel_e': -1.0}</td>\n",
       "      <td></td>\n",
       "    </tr>\n",
       "    <tr>\n",
       "      <th>21</th>\n",
       "      <td>EX_slnt_e</td>\n",
       "      <td>Selenite exchange</td>\n",
       "      <td>-10000</td>\n",
       "      <td>10000</td>\n",
       "      <td>{'slnt_e': -1.0}</td>\n",
       "      <td></td>\n",
       "    </tr>\n",
       "    <tr>\n",
       "      <th>22</th>\n",
       "      <td>EX_so4_e</td>\n",
       "      <td>Sulfate exchange</td>\n",
       "      <td>-10000</td>\n",
       "      <td>10000</td>\n",
       "      <td>{'so4_e': -1.0}</td>\n",
       "      <td></td>\n",
       "    </tr>\n",
       "    <tr>\n",
       "      <th>23</th>\n",
       "      <td>EX_tungs_e</td>\n",
       "      <td>Tungstate exchange</td>\n",
       "      <td>-10000</td>\n",
       "      <td>10000</td>\n",
       "      <td>{'tungs_e': -1.0}</td>\n",
       "      <td></td>\n",
       "    </tr>\n",
       "    <tr>\n",
       "      <th>24</th>\n",
       "      <td>EX_zn2_e</td>\n",
       "      <td>Zinc exchange</td>\n",
       "      <td>-10000</td>\n",
       "      <td>10000</td>\n",
       "      <td>{'zn2_e': -1.0}</td>\n",
       "      <td></td>\n",
       "    </tr>\n",
       "  </tbody>\n",
       "</table>\n",
       "</div>"
      ],
      "text/plain": [
       "              id                   name     lb     ub        stoichiometry gpr\n",
       "0       EX_ca2_e       Calcium exchange -10000  10000      {'ca2_e': -1.0}    \n",
       "1      EX_cbl1_e  Cob(I)alamin exchange -10000  10000     {'cbl1_e': -1.0}    \n",
       "2        EX_cl_e      Chloride exchange -10000  10000       {'cl_e': -1.0}    \n",
       "3       EX_co2_e           CO2 exchange -10000  10000      {'co2_e': -1.0}    \n",
       "4   EX_cobalt2_e          Co2+ exchange -10000  10000  {'cobalt2_e': -1.0}    \n",
       "5       EX_cu2_e          Cu2+ exchange -10000  10000      {'cu2_e': -1.0}    \n",
       "6       EX_fe2_e          Fe2+ exchange -10000  10000      {'fe2_e': -1.0}    \n",
       "7       EX_fe3_e          Fe3+ exchange -10000  10000      {'fe3_e': -1.0}    \n",
       "8    EX_glc__D_e     D-Glucose exchange -10000  10000   {'glc__D_e': -1.0}    \n",
       "9         EX_h_e            H+ exchange -10000  10000        {'h_e': -1.0}    \n",
       "10      EX_h2o_e           H2O exchange -10000  10000      {'h2o_e': -1.0}    \n",
       "11        EX_k_e            K+ exchange -10000  10000        {'k_e': -1.0}    \n",
       "12      EX_mg2_e            Mg exchange -10000  10000      {'mg2_e': -1.0}    \n",
       "13      EX_mn2_e          Mn2+ exchange -10000  10000      {'mn2_e': -1.0}    \n",
       "14     EX_mobd_e     Molybdate exchange -10000  10000     {'mobd_e': -1.0}    \n",
       "15      EX_na1_e        Sodium exchange -10000  10000      {'na1_e': -1.0}    \n",
       "16      EX_nh4_e       Ammonia exchange -10000  10000      {'nh4_e': -1.0}    \n",
       "17      EX_ni2_e          Ni2+ exchange -10000  10000      {'ni2_e': -1.0}    \n",
       "18       EX_o2_e            O2 exchange -10000  10000       {'o2_e': -1.0}    \n",
       "19       EX_pi_e     Phosphate exchange -10000  10000       {'pi_e': -1.0}    \n",
       "20      EX_sel_e      Selenate exchange -10000  10000      {'sel_e': -1.0}    \n",
       "21     EX_slnt_e      Selenite exchange -10000  10000     {'slnt_e': -1.0}    \n",
       "22      EX_so4_e       Sulfate exchange -10000  10000      {'so4_e': -1.0}    \n",
       "23    EX_tungs_e     Tungstate exchange -10000  10000    {'tungs_e': -1.0}    \n",
       "24      EX_zn2_e          Zinc exchange -10000  10000      {'zn2_e': -1.0}    "
      ]
     },
     "execution_count": 9,
     "metadata": {},
     "output_type": "execute_result"
    }
   ],
   "source": [
    "simul.find(simul.get_uptake_reactions())"
   ]
  },
  {
   "cell_type": "code",
   "execution_count": 10,
   "metadata": {},
   "outputs": [
    {
     "data": {
      "text/html": [
       "<div>\n",
       "<style scoped>\n",
       "    .dataframe tbody tr th:only-of-type {\n",
       "        vertical-align: middle;\n",
       "    }\n",
       "\n",
       "    .dataframe tbody tr th {\n",
       "        vertical-align: top;\n",
       "    }\n",
       "\n",
       "    .dataframe thead th {\n",
       "        text-align: right;\n",
       "    }\n",
       "</style>\n",
       "<table border=\"1\" class=\"dataframe\">\n",
       "  <thead>\n",
       "    <tr style=\"text-align: right;\">\n",
       "      <th></th>\n",
       "      <th>id</th>\n",
       "      <th>name</th>\n",
       "      <th>lb</th>\n",
       "      <th>ub</th>\n",
       "      <th>stoichiometry</th>\n",
       "      <th>gpr</th>\n",
       "    </tr>\n",
       "  </thead>\n",
       "  <tbody>\n",
       "    <tr>\n",
       "      <th>0</th>\n",
       "      <td>DM_4crsol_c</td>\n",
       "      <td>Sink needed to allow p-Cresol to leave system</td>\n",
       "      <td>0.0</td>\n",
       "      <td>1000.0000</td>\n",
       "      <td>{'4crsol_c': -1.0}</td>\n",
       "      <td></td>\n",
       "    </tr>\n",
       "    <tr>\n",
       "      <th>1</th>\n",
       "      <td>DM_5drib_c</td>\n",
       "      <td>Sink needed to allow 5'-deoxyribose to leave s...</td>\n",
       "      <td>0.0</td>\n",
       "      <td>1000.0000</td>\n",
       "      <td>{'5drib_c': -1.0}</td>\n",
       "      <td></td>\n",
       "    </tr>\n",
       "    <tr>\n",
       "      <th>2</th>\n",
       "      <td>DM_aacald_c</td>\n",
       "      <td>Sink needed to allow aminoacetaldehyde to leav...</td>\n",
       "      <td>0.0</td>\n",
       "      <td>1000.0000</td>\n",
       "      <td>{'aacald_c': -1.0}</td>\n",
       "      <td></td>\n",
       "    </tr>\n",
       "    <tr>\n",
       "      <th>3</th>\n",
       "      <td>DM_amob_c</td>\n",
       "      <td>Sink needed to allow S-Adenosyl-4-methylthio-2...</td>\n",
       "      <td>0.0</td>\n",
       "      <td>1000.0000</td>\n",
       "      <td>{'amob_c': -1.0}</td>\n",
       "      <td></td>\n",
       "    </tr>\n",
       "    <tr>\n",
       "      <th>4</th>\n",
       "      <td>DM_mththf_c</td>\n",
       "      <td>Sink needed to allow (2R,4S)-2-methyl-2,3,3,4-...</td>\n",
       "      <td>0.0</td>\n",
       "      <td>1000.0000</td>\n",
       "      <td>{'mththf_c': -1.0}</td>\n",
       "      <td></td>\n",
       "    </tr>\n",
       "    <tr>\n",
       "      <th>...</th>\n",
       "      <td>...</td>\n",
       "      <td>...</td>\n",
       "      <td>...</td>\n",
       "      <td>...</td>\n",
       "      <td>...</td>\n",
       "      <td>...</td>\n",
       "    </tr>\n",
       "    <tr>\n",
       "      <th>3173</th>\n",
       "      <td>XYLtex_TG_forward</td>\n",
       "      <td>D-xylose transport via diffusion (extracellula...</td>\n",
       "      <td>0.0</td>\n",
       "      <td>1000.0000</td>\n",
       "      <td>{'xyl__D_e': -1.0, 'prot_pool': -2.31055471762...</td>\n",
       "      <td>b1377 or b0241 or b0929 or b2215</td>\n",
       "    </tr>\n",
       "    <tr>\n",
       "      <th>3174</th>\n",
       "      <td>XYLtex_TG_reverse</td>\n",
       "      <td>D-xylose transport via diffusion (extracellula...</td>\n",
       "      <td>0.0</td>\n",
       "      <td>1000.0000</td>\n",
       "      <td>{'xyl__D_p': -1.0, 'prot_pool': -2.31055471762...</td>\n",
       "      <td>b1377 or b0241 or b0929 or b2215</td>\n",
       "    </tr>\n",
       "    <tr>\n",
       "      <th>3175</th>\n",
       "      <td>Zn2tex_TG_forward</td>\n",
       "      <td>Zinc (Zn+2) transport via diffusion (extracell...</td>\n",
       "      <td>0.0</td>\n",
       "      <td>1000.0000</td>\n",
       "      <td>{'zn2_e': -1.0, 'prot_pool': -2.31055471762559...</td>\n",
       "      <td>b1377 or b0241 or b0929 or b2215</td>\n",
       "    </tr>\n",
       "    <tr>\n",
       "      <th>3176</th>\n",
       "      <td>Zn2tex_TG_reverse</td>\n",
       "      <td>Zinc (Zn+2) transport via diffusion (extracell...</td>\n",
       "      <td>0.0</td>\n",
       "      <td>1000.0000</td>\n",
       "      <td>{'zn2_p': -1.0, 'prot_pool': -2.31055471762559...</td>\n",
       "      <td>b1377 or b0241 or b0929 or b2215</td>\n",
       "    </tr>\n",
       "    <tr>\n",
       "      <th>3177</th>\n",
       "      <td>ER_pool_TG_</td>\n",
       "      <td>prot_pool reaction for unmeasured proteins</td>\n",
       "      <td>0.0</td>\n",
       "      <td>0.0948</td>\n",
       "      <td>{'prot_pool': 1.0}</td>\n",
       "      <td></td>\n",
       "    </tr>\n",
       "  </tbody>\n",
       "</table>\n",
       "<p>3178 rows × 6 columns</p>\n",
       "</div>"
      ],
      "text/plain": [
       "                     id                                               name  \\\n",
       "0           DM_4crsol_c      Sink needed to allow p-Cresol to leave system   \n",
       "1            DM_5drib_c  Sink needed to allow 5'-deoxyribose to leave s...   \n",
       "2           DM_aacald_c  Sink needed to allow aminoacetaldehyde to leav...   \n",
       "3             DM_amob_c  Sink needed to allow S-Adenosyl-4-methylthio-2...   \n",
       "4           DM_mththf_c  Sink needed to allow (2R,4S)-2-methyl-2,3,3,4-...   \n",
       "...                 ...                                                ...   \n",
       "3173  XYLtex_TG_forward  D-xylose transport via diffusion (extracellula...   \n",
       "3174  XYLtex_TG_reverse  D-xylose transport via diffusion (extracellula...   \n",
       "3175  Zn2tex_TG_forward  Zinc (Zn+2) transport via diffusion (extracell...   \n",
       "3176  Zn2tex_TG_reverse  Zinc (Zn+2) transport via diffusion (extracell...   \n",
       "3177        ER_pool_TG_         prot_pool reaction for unmeasured proteins   \n",
       "\n",
       "       lb         ub                                      stoichiometry  \\\n",
       "0     0.0  1000.0000                                 {'4crsol_c': -1.0}   \n",
       "1     0.0  1000.0000                                  {'5drib_c': -1.0}   \n",
       "2     0.0  1000.0000                                 {'aacald_c': -1.0}   \n",
       "3     0.0  1000.0000                                   {'amob_c': -1.0}   \n",
       "4     0.0  1000.0000                                 {'mththf_c': -1.0}   \n",
       "...   ...        ...                                                ...   \n",
       "3173  0.0  1000.0000  {'xyl__D_e': -1.0, 'prot_pool': -2.31055471762...   \n",
       "3174  0.0  1000.0000  {'xyl__D_p': -1.0, 'prot_pool': -2.31055471762...   \n",
       "3175  0.0  1000.0000  {'zn2_e': -1.0, 'prot_pool': -2.31055471762559...   \n",
       "3176  0.0  1000.0000  {'zn2_p': -1.0, 'prot_pool': -2.31055471762559...   \n",
       "3177  0.0     0.0948                                 {'prot_pool': 1.0}   \n",
       "\n",
       "                                   gpr  \n",
       "0                                       \n",
       "1                                       \n",
       "2                                       \n",
       "3                                       \n",
       "4                                       \n",
       "...                                ...  \n",
       "3173  b1377 or b0241 or b0929 or b2215  \n",
       "3174  b1377 or b0241 or b0929 or b2215  \n",
       "3175  b1377 or b0241 or b0929 or b2215  \n",
       "3176  b1377 or b0241 or b0929 or b2215  \n",
       "3177                                    \n",
       "\n",
       "[3178 rows x 6 columns]"
      ]
     },
     "execution_count": 10,
     "metadata": {},
     "output_type": "execute_result"
    }
   ],
   "source": [
    "simul.find()"
   ]
  },
  {
   "cell_type": "markdown",
   "metadata": {},
   "source": [
    "### Ex 1\n",
    "Note that the stoichiometry of some reactions include the usage of a _prot_pool_ pseudo-substrate"
   ]
  },
  {
   "cell_type": "markdown",
   "metadata": {},
   "source": [
    "Complete the exercice:\n",
    "\n",
    "* define the simulation objective;\n",
    "* use the `plot_growth` function to plot the cellular growth. You may define as title 'Nutrient and Proteome-limited growth'"
   ]
  },
  {
   "cell_type": "code",
   "execution_count": 11,
   "metadata": {},
   "outputs": [],
   "source": [
    "# define the simulation objective\n",
    "simul.objective = BIOMASS"
   ]
  },
  {
   "cell_type": "code",
   "execution_count": 12,
   "metadata": {},
   "outputs": [
    {
     "data": {
      "image/png": "[encoded data removed]",
      "text/plain": [
       "<Figure size 432x288 with 1 Axes>"
      ]
     },
     "metadata": {
      "needs_background": "light"
     },
     "output_type": "display_data"
    }
   ],
   "source": [
    "# plot\n",
    "plot_growth(simul,'Nutrient and Proteome-limited growth')"
   ]
  },
  {
   "cell_type": "markdown",
   "metadata": {},
   "source": [
    "### Ex 2\n",
    "\n",
    "Identify the minimum glucose uptake that allows to reach maximal growth:\n",
    "* identify the maximum biomass value\n",
    "* run an FBA simulation setting as objective the \"minimization\" of glucose uptake, constrained by a maximum biomass rate. Note that uptakes rate are negative. You might want to look at the `simulate` method documentation, `help(simul.simulate)` "
   ]
  },
  {
   "cell_type": "code",
   "execution_count": 14,
   "metadata": {},
   "outputs": [
    {
     "data": {
      "text/plain": [
       "0.7586643769762126"
      ]
     },
     "execution_count": 14,
     "metadata": {},
     "output_type": "execute_result"
    }
   ],
   "source": [
    "# compute the maximal growth\n",
    "res = simul.simulate()\n",
    "growth = res.objective_value\n",
    "growth"
   ]
  },
  {
   "cell_type": "code",
   "execution_count": 15,
   "metadata": {},
   "outputs": [
    {
     "data": {
      "text/plain": [
       "objective: -26.22220086296752\n",
       "Status: OPTIMAL\n",
       "Constraints: OrderedDict([('EX_co2_e', (-10000, 10000)), ('EX_cobalt2_e', (-10000, 10000)), ('EX_h_e', (-10000, 10000)), ('EX_h2o_e', (-10000, 10000)), ('EX_k_e', (-10000, 10000)), ('EX_cu2_e', (-10000, 10000)), ('EX_mg2_e', (-10000, 10000)), ('EX_mn2_e', (-10000, 10000)), ('EX_mobd_e', (-10000, 10000)), ('EX_na1_e', (-10000, 10000)), ('EX_nh4_e', (-10000, 10000)), ('EX_ca2_e', (-10000, 10000)), ('EX_cbl1_e', (-10000, 10000)), ('EX_ni2_e', (-10000, 10000)), ('EX_o2_e', (-10000, 10000)), ('EX_cl_e', (-10000, 10000)), ('EX_pi_e', (-10000, 10000)), ('EX_zn2_e', (-10000, 10000)), ('EX_sel_e', (-10000, 10000)), ('EX_slnt_e', (-10000, 10000)), ('EX_so4_e', (-10000, 10000)), ('EX_tungs_e', (-10000, 10000)), ('EX_fe2_e', (-10000, 10000)), ('EX_fe3_e', (-10000, 10000)), ('BIOMASS_Ec_iJO1366_WT_53p95M', (0.7586643769762126, 10000))])\n",
       "Method:SimulationMethod.FBA"
      ]
     },
     "execution_count": 15,
     "metadata": {},
     "output_type": "execute_result"
    }
   ],
   "source": [
    "# compute the minimal glucose uptake rate that enables maximal growth\n",
    "simul.simulate(objective={GLC:1},constraints={BIOMASS:(growth,growth)})"
   ]
  },
  {
   "cell_type": "code",
   "execution_count": 16,
   "metadata": {},
   "outputs": [
    {
     "name": "stdout",
     "output_type": "stream",
     "text": [
      "Help on method FVA in module mewpy.simulation.cobra:\n",
      "\n",
      "FVA(reactions=None, obj_frac=0.9, constraints=None, loopless=False, internal=None, solver=None, format='dict') method of mewpy.simulation.cobra.Simulation instance\n",
      "    Flux Variability Analysis (FVA).\n",
      "    \n",
      "    :param model: An instance of a constraint-based model.\n",
      "    :param float obj_frac: The minimum fraction of the maximum growth rate (default 0.9). Requires that the             objective value is at least the fraction times maximum objective value. A value of 0.85 for instance             means that the objective has to be at least at 85% percent of its maximum.\n",
      "    :param list reactions: List of reactions to analyze (default: all).\n",
      "    :param dic constraints: Additional constraints (optional).\n",
      "    :param boolean loopless: Run looplessFBA internally (very slow) (default: false).\n",
      "    :param list internal: List of internal reactions for looplessFBA (optional).\n",
      "    :param solver: A pre-instantiated solver instance (optional).\n",
      "    :param format: The return format: 'dict', returns a dictionary,'df' returns a data frame.\n",
      "    :returns: A dictionary of flux variation ranges.\n",
      "\n"
     ]
    }
   ],
   "source": [
    "help(simul.FVA)"
   ]
  },
  {
   "cell_type": "code",
   "execution_count": null,
   "metadata": {},
   "outputs": [],
   "source": []
  }
 ],
 "metadata": {
  "kernelspec": {
   "display_name": "Python 3 (ipykernel)",
   "language": "python",
   "name": "python3"
  },
  "language_info": {
   "codemirror_mode": {
    "name": "ipython",
    "version": 3
   },
   "file_extension": ".py",
   "mimetype": "text/x-python",
   "name": "python",
   "nbconvert_exporter": "python",
   "pygments_lexer": "ipython3",
   "version": "3.7.11"
  }
 },
 "nbformat": 4,
 "nbformat_minor": 4
}
