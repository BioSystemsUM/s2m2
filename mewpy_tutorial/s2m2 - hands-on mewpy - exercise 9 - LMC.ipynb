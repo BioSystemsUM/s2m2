{
 "cells": [
  {
   "cell_type": "markdown",
   "metadata": {},
   "source": [
    "\n",
    "###### Original notebook developed by Vitor Pereira\n",
    "\n",
    "###### Lucas Carvalho modified \"Refining solutions within the solution space\" and \"GKOProblem\".\n"
   ]
  },
  {
   "cell_type": "markdown",
   "metadata": {},
   "source": [
    "# Strain Optimization in MEWpy\n",
    "\n",
    "This notebook exemplifies how MEWpy may be used in strain optimization tasks.\n",
    "We will consider the as goal to increase the production of succinate in E. coli in anaerobic conditions."
   ]
  },
  {
   "cell_type": "code",
   "execution_count": null,
   "metadata": {},
   "outputs": [],
   "source": [
    "%matplotlib inline\n",
    "from cobra.io.sbml import read_sbml_model\n",
    "model = read_sbml_model(\"data/e_coli_core.xml.gz\")"
   ]
  },
  {
   "cell_type": "markdown",
   "metadata": {},
   "source": [
    "Analyse the model's default medium"
   ]
  },
  {
   "cell_type": "code",
   "execution_count": null,
   "metadata": {},
   "outputs": [],
   "source": [
    "from mewpy.simulation.environment import Environment\n",
    "import pandas as pd\n",
    "\n",
    "medium = Environment.from_model(model).get_compounds()\n",
    "env = Environment.from_compounds(medium)\n",
    "pd.DataFrame(env,index=['lb','ub']).T\n"
   ]
  },
  {
   "cell_type": "markdown",
   "metadata": {},
   "source": [
    "Commercial solvers are better suited to address optimization tasks, such, as stain designs. As such, you might want to check the linear programming solvers available on your system:"
   ]
  },
  {
   "cell_type": "code",
   "execution_count": null,
   "metadata": {},
   "outputs": [],
   "source": [
    "#old versions\n",
    "#from mewpy.simulation import solvers\n",
    "#solvers\n",
    "\n",
    "# depending of mewpy version, you could use\n",
    "from mewpy.simulation import get_default_solver\n",
    "get_default_solver()\n",
    "\n",
    "from mewpy.simulation import set_default_solver\n",
    "set_default_solver('glpk')"
   ]
  },
  {
   "cell_type": "markdown",
   "metadata": {},
   "source": [
    "## Optimization problem\n",
    "\n",
    "Before running any optimization let us verify the production rate as well as the theoretic maximum rate of succinate in anaerobic conditions.\n",
    "To ease the script reutilization we will define some reaction identifiers as constants:"
   ]
  },
  {
   "cell_type": "code",
   "execution_count": null,
   "metadata": {},
   "outputs": [],
   "source": [
    "BIOMASS = 'BIOMASS_Ecoli_core_w_GAM'\n",
    "PRODUCT = 'EX_succ_e'\n",
    "O2 = 'EX_o2_e'\n",
    "GLC = 'EX_glc__D_e'"
   ]
  },
  {
   "cell_type": "code",
   "execution_count": null,
   "metadata": {},
   "outputs": [],
   "source": [
    "anaerobic = {O2: (0, 0)}"
   ]
  },
  {
   "cell_type": "code",
   "execution_count": null,
   "metadata": {},
   "outputs": [],
   "source": [
    "from mewpy.simulation import get_simulator\n",
    "sim = get_simulator(model,envcond=anaerobic)\n",
    "sim.FVA(reactions=[PRODUCT],format='df')"
   ]
  },
  {
   "cell_type": "code",
   "execution_count": null,
   "metadata": {},
   "outputs": [],
   "source": [
    "sim.simulate(method='pFBA').find(BIOMASS)"
   ]
  },
  {
   "cell_type": "code",
   "execution_count": null,
   "metadata": {},
   "outputs": [],
   "source": [
    "res = sim.simulate(method='pFBA')\n",
    "res.fluxes[PRODUCT]"
   ]
  },
  {
   "cell_type": "markdown",
   "metadata": {},
   "source": [
    "The optimization problem requires the definition of one or more objective functions.\n",
    "In the next example, we define as objective the maximization of the Biomass-Product coupled yield and the maximization of the targeted product. MEWpy makes available other optimization objectives, please refer to the documentation."
   ]
  },
  {
   "cell_type": "code",
   "execution_count": null,
   "metadata": {},
   "outputs": [],
   "source": [
    "from mewpy.optimization.evaluation import BPCY, TargetFlux\n",
    "\n",
    "objs = [ \n",
    "    BPCY(BIOMASS, PRODUCT),\n",
    "    TargetFlux(PRODUCT)\n",
    "]"
   ]
  },
  {
   "cell_type": "markdown",
   "metadata": {},
   "source": [
    "We can now define the growth medium and select the type of modification.\n",
    "We will begin by performing gene deletion (GKO) by selecting the appropriate problem instance, GKOProblem. "
   ]
  },
  {
   "cell_type": "code",
   "execution_count": null,
   "metadata": {},
   "outputs": [],
   "source": [
    "from mewpy.problems import GKOProblem, GOUProblem\n",
    "\n",
    "problem = GOUProblem(model, objs, envcond=anaerobic, candidate_max_size=6)"
   ]
  },
  {
   "cell_type": "markdown",
   "metadata": {},
   "source": [
    "Other optimization methods/strategies may be used:\n",
    "* Reaction deletion: *RKOProblem*\n",
    "* Reaction under or over expression: *ROUProblem*\n",
    "* Gene under or over expression: *GOUProblem*\n",
    "\n",
    "A problem may include other parameters, such as the maximum number of genetic modification, a list of specitic targets, or non-targets (reactions/genes not to be modified). "
   ]
  },
  {
   "cell_type": "markdown",
   "metadata": {},
   "source": [
    "## Optimization algorithm\n",
    "\n",
    "An optimization engine to solve the problem need to be instanciated. MEWpy uses Evolutionary Algorithms (EA) for this task.\n",
    "\n",
    "EAs are algorithms that mimic the Darwinian evolutionary process, where a population of solutions evolves generation after generation. In the example we define a maximum of 50 generations.  "
   ]
  },
  {
   "cell_type": "code",
   "execution_count": null,
   "metadata": {},
   "outputs": [],
   "source": [
    "from mewpy.optimization import EA\n",
    "ea = EA(problem, max_generations=50)"
   ]
  },
  {
   "cell_type": "markdown",
   "metadata": {},
   "source": [
    "For informations on additional options you may use the `help` command"
   ]
  },
  {
   "cell_type": "code",
   "execution_count": null,
   "metadata": {},
   "outputs": [],
   "source": [
    "help(EA)"
   ]
  },
  {
   "cell_type": "markdown",
   "metadata": {},
   "source": [
    "The EA may contemplate aditional parameters such as the identification of a specific algorithm (e.g. SPEA2, NSGAII, NSGAIII, GDE3, etc.), multiprocessing options, initial seeding, etc.\n",
    "\n",
    "To start the optimization process invoke the run method:"
   ]
  },
  {
   "cell_type": "code",
   "execution_count": null,
   "metadata": {},
   "outputs": [],
   "source": [
    "solutions = ea.run()"
   ]
  },
  {
   "cell_type": "markdown",
   "metadata": {},
   "source": [
    "We can now list the set of solutions:"
   ]
  },
  {
   "cell_type": "code",
   "execution_count": null,
   "metadata": {},
   "outputs": [],
   "source": [
    "df=ea.dataframe()\n",
    "df"
   ]
  },
  {
   "cell_type": "code",
   "execution_count": null,
   "metadata": {},
   "outputs": [],
   "source": [
    "df[\"biomass\"] = df[\"BPCY\"]/df[\"TargetFlux\"]\n",
    "df"
   ]
  },
  {
   "cell_type": "markdown",
   "metadata": {},
   "source": [
    "Or view the best solutions on the objective space, the so called Pareto front:"
   ]
  },
  {
   "cell_type": "code",
   "execution_count": null,
   "metadata": {},
   "outputs": [],
   "source": [
    "ea.plot()"
   ]
  },
  {
   "cell_type": "markdown",
   "metadata": {},
   "source": [
    "We can save the solutions to file:"
   ]
  },
  {
   "cell_type": "code",
   "execution_count": null,
   "metadata": {},
   "outputs": [],
   "source": [
    "df.to_csv('solutions.csv')"
   ]
  },
  {
   "cell_type": "markdown",
   "metadata": {},
   "source": [
    "or performe additional analysis on the solutions by retreiving the simulator used during the optimization.\n",
    " "
   ]
  },
  {
   "cell_type": "markdown",
   "metadata": {},
   "source": [
    "## Working with solutions\n",
    "\n",
    "Let us select the first solution:"
   ]
  },
  {
   "cell_type": "code",
   "execution_count": null,
   "metadata": {
    "scrolled": true
   },
   "outputs": [],
   "source": [
    "solution = solutions[1]\n",
    "solution"
   ]
  },
  {
   "cell_type": "markdown",
   "metadata": {},
   "source": [
    "The solution is converted to metabolict constraints to be applied to the model. We can access these constrains using *solution.constraints*"
   ]
  },
  {
   "cell_type": "code",
   "execution_count": null,
   "metadata": {},
   "outputs": [],
   "source": [
    "solution.constraints"
   ]
  },
  {
   "cell_type": "markdown",
   "metadata": {},
   "source": [
    "We may run phenotypic simulations with the solution using those constraints. Note that there is no need to redefine the medium as they are persistent in the simulator instance."
   ]
  },
  {
   "cell_type": "code",
   "execution_count": null,
   "metadata": {},
   "outputs": [],
   "source": [
    "sim = problem.simulator\n",
    "res=sim.simulate(constraints=solution.constraints,method='ROOM')\n",
    "res"
   ]
  },
  {
   "cell_type": "code",
   "execution_count": null,
   "metadata": {},
   "outputs": [],
   "source": [
    "res.dataframe"
   ]
  },
  {
   "cell_type": "code",
   "execution_count": null,
   "metadata": {},
   "outputs": [],
   "source": [
    "res.find([PRODUCT,BIOMASS])"
   ]
  },
  {
   "cell_type": "code",
   "execution_count": null,
   "metadata": {},
   "outputs": [],
   "source": [
    "from mewpy.visualization.envelope import plot_flux_envelope\n",
    "\n",
    "plot_flux_envelope(sim,BIOMASS,PRODUCT,constraints = solution.constraints)"
   ]
  },
  {
   "cell_type": "markdown",
   "metadata": {},
   "source": [
    "## Refining solutions within the solution space\n",
    "\n",
    "How to filter the solutions?"
   ]
  },
  {
   "cell_type": "markdown",
   "metadata": {},
   "source": [
    "One approach for filtering solutions involves identifying solutions that satisfy the following criteria:\n",
    "\n",
    "1. Minimum biomass requirement of 0.1. and/or\n",
    "2. The presence of a minimum FVA value greater than 0 (FVA_min > 0) in succinate exchange reaction when used as constraints. and/or\n",
    "3. The size of modifications (principally in GKOProblem)"
   ]
  },
  {
   "cell_type": "code",
   "execution_count": null,
   "metadata": {},
   "outputs": [],
   "source": [
    "final_solutions=pd.DataFrame(columns=[\"solution\",\"pFBA_succ\",\"Biomass\"])\n",
    "k=0\n",
    "\n",
    "for sol in solutions:\n",
    "    \n",
    "    sim = problem.simulator\n",
    "    res=sim.simulate(constraints=sol.constraints,method='pFBA')\n",
    "    \n",
    "    #pFBA fluxes and biomass \n",
    "    #remember: Biomass = BPCY/TargetFlux\n",
    "    fluxes = res.fluxes\n",
    "    biomass = fluxes[BIOMASS]\n",
    "    succ_pFBA = fluxes[PRODUCT]\n",
    "\n",
    "    if biomass >= 0.1:\n",
    "        final_solutions.loc[k]=[sol,succ_pFBA,biomass]\n",
    "        k=k+1\n"
   ]
  },
  {
   "cell_type": "code",
   "execution_count": null,
   "metadata": {},
   "outputs": [],
   "source": [
    "final_solutions"
   ]
  },
  {
   "cell_type": "markdown",
   "metadata": {},
   "source": [
    "Also, we could find the most frequently genes in all solutions"
   ]
  },
  {
   "cell_type": "code",
   "execution_count": null,
   "metadata": {},
   "outputs": [],
   "source": [
    "# Initialize the final list\n",
    "final_list = []\n",
    "\n",
    "for sol in solutions:\n",
    "    \n",
    "    values = sol.constraints.keys()\n",
    "\n",
    "    # Add the different lists of reactions to the final list\n",
    "    final_list.extend(list(values))\n",
    "\n",
    "# Calculate the frequency of each reaction in the final list\n",
    "react_frequency = {}\n",
    "for react in final_list:\n",
    "    if react in react_frequency:\n",
    "        react_frequency[react] += 1\n",
    "    else:\n",
    "        react_frequency[react] = 1\n",
    "\n",
    "# Print the frequency of each reaction\n",
    "for react, frequency in react_frequency.items():\n",
    "    print(f\"{react}: {frequency}\")\n"
   ]
  },
  {
   "cell_type": "markdown",
   "metadata": {},
   "source": [
    "## GKOProblem\n",
    "\n",
    "Let's find the deletions to increase the succinate production.\n",
    "\n",
    "We're going to use the BIOMASS and PRODUCT variables defined in GOUProblem."
   ]
  },
  {
   "cell_type": "code",
   "execution_count": null,
   "metadata": {},
   "outputs": [],
   "source": [
    "BIOMASS = 'BIOMASS_Ecoli_core_w_GAM'\n",
    "PRODUCT = 'EX_succ_e'\n",
    "O2 = 'EX_o2_e'\n",
    "GLC = 'EX_glc__D_e'\n",
    "\n",
    "anaerobic = {O2: (0, 0)}"
   ]
  },
  {
   "cell_type": "code",
   "execution_count": null,
   "metadata": {},
   "outputs": [],
   "source": [
    "from mewpy.problems import GKOProblem\n",
    "\n",
    "objs = [ \n",
    "    BPCY(BIOMASS, PRODUCT),\n",
    "    TargetFlux(PRODUCT)\n",
    "]\n",
    "\n",
    "problem = GKOProblem(model, objs, envcond=anaerobic, candidate_max_size=6)\n"
   ]
  },
  {
   "cell_type": "code",
   "execution_count": null,
   "metadata": {},
   "outputs": [],
   "source": [
    "from mewpy.optimization import EA\n",
    "\n",
    "ea = EA(problem, max_generations=20)\n",
    "\n",
    "solutions = ea.run()\n"
   ]
  },
  {
   "cell_type": "code",
   "execution_count": null,
   "metadata": {},
   "outputs": [],
   "source": [
    "df=ea.dataframe()\n",
    "print(df)\n"
   ]
  },
  {
   "cell_type": "markdown",
   "metadata": {},
   "source": [
    "We may check the minimum biomass production"
   ]
  },
  {
   "cell_type": "code",
   "execution_count": null,
   "metadata": {},
   "outputs": [],
   "source": [
    "df[\"biomass\"] = df[\"BPCY\"]/df[\"TargetFlux\"]\n",
    "df"
   ]
  },
  {
   "cell_type": "markdown",
   "metadata": {},
   "source": [
    "Save the solutions in a csv file"
   ]
  },
  {
   "cell_type": "code",
   "execution_count": null,
   "metadata": {},
   "outputs": [],
   "source": [
    "df.to_csv('solutions_GKOProblem.csv')"
   ]
  },
  {
   "cell_type": "markdown",
   "metadata": {},
   "source": [
    "In GKOProblem, you may filter, using the same critereas. But, if you'd like to check the pFBA values to see the succ production and confirm with the EA solution, you may run:"
   ]
  },
  {
   "cell_type": "code",
   "execution_count": null,
   "metadata": {},
   "outputs": [],
   "source": [
    "sol = df[\"Modification\"][0] #select one solution\n",
    "constraints = problem.solution_to_constraints(sol)\n",
    "constraints"
   ]
  },
  {
   "cell_type": "code",
   "execution_count": null,
   "metadata": {},
   "outputs": [],
   "source": [
    "sim = get_simulator(model,envcond=anaerobic,constraints=constraints)\n",
    "res=sim.simulate(constraints=constraints,method='pFBA')\n",
    "res.find([BIOMASS,PRODUCT])"
   ]
  },
  {
   "cell_type": "markdown",
   "metadata": {},
   "source": [
    "Let's filter the solution based on the minimum biomass value and min FVA theorical production"
   ]
  },
  {
   "cell_type": "code",
   "execution_count": null,
   "metadata": {},
   "outputs": [],
   "source": [
    "\n",
    "#final dataframe\n",
    "column_names = [\"solution\", \"Size\", \"pFBA\", \"EX_etoh_pFBA\", \"Biomass\", \"FVA_min_etoh\",\"FVA_max_etoh\"]\n",
    "final_solutions = pd.DataFrame(columns = column_names)\n",
    "k=0\n",
    "\n",
    "#all solutions\n",
    "tam = len(df[\"Modification\"])\n",
    "\n",
    "for i in range(0,tam):\n",
    "    \n",
    "    sol = df[\"Modification\"].iloc[i]\n",
    "    size = df[\"Size\"].iloc[i]\n",
    "    constraints = problem.solution_to_constraints(sol)\n",
    "\n",
    "    #run pFBA and get the fluxes\n",
    "    res = problem.simulate(constraints = constraints, method=\"pFBA\")\n",
    "    pfba_sol = res.objective_value\n",
    "    fluxes = res.fluxes\n",
    "    etoh = fluxes[PRODUCT]\n",
    "    biomass = fluxes[BIOMASS]    \n",
    "\n",
    "    #FVA based on constraints\n",
    "    sim = problem.simulator\n",
    "    res_fva = sim.FVA(constraints=constraints, obj_frac=0.90)\n",
    "    res_fva\n",
    "\n",
    "    #fva min succ > 0\n",
    "    fva_min_etoh = res_fva[\"EX_succ_e\"][0]\n",
    "    fva_max_etoh = res_fva[\"EX_succ_e\"][1]\n",
    "    \n",
    "    if biomass > 0.1 and fva_min_etoh > 0:\n",
    "        final_solutions.loc[k]=[sol,size,pfba_sol,etoh,biomass,fva_min_etoh,fva_max_etoh]\n",
    "        k=k+1\n",
    "    "
   ]
  },
  {
   "cell_type": "code",
   "execution_count": null,
   "metadata": {},
   "outputs": [],
   "source": [
    "final_solutions"
   ]
  },
  {
   "cell_type": "markdown",
   "metadata": {},
   "source": [
    "## Exercice 1\n",
    "\n",
    "Alter the notebook to run a gene over/under-expression (GOUProblem) optimization task. You may also try other optimization objectives (replacing or adding new objectives) such as `CandidateSize` or `BPCY_FVA`."
   ]
  },
  {
   "cell_type": "markdown",
   "metadata": {},
   "source": [
    "## Exercice 2\n",
    "\n",
    "Alter the notebook to find possible genetic modifications for the increased production of ethanol (EX_etoh_e)"
   ]
  },
  {
   "cell_type": "markdown",
   "metadata": {},
   "source": [
    "# Simulating user defined modifications\n",
    "\n",
    "Genetic modifications at the gene, enzyme, transcription or regulatory levels need to be translated to the (pseudo) reaction level. This task is problem dependent and consequently requires the instantiation of a problem. If we do not intend run any optimization task, there is no need to define optimization objectives."
   ]
  },
  {
   "cell_type": "code",
   "execution_count": null,
   "metadata": {},
   "outputs": [],
   "source": [
    "problem = GOUProblem(model,[], envcond=anaerobic)\n",
    "sim = problem.simulator"
   ]
  },
  {
   "cell_type": "markdown",
   "metadata": {},
   "source": [
    "A solution for a GOUProblem is a dictionary of genes' expression folds, e.g.:"
   ]
  },
  {
   "cell_type": "code",
   "execution_count": null,
   "metadata": {},
   "outputs": [],
   "source": [
    "solution = {'b3956': 8, 'b2914': 4}"
   ]
  },
  {
   "cell_type": "markdown",
   "metadata": {},
   "source": [
    "You may get information on the genes using the simulator find functions"
   ]
  },
  {
   "cell_type": "code",
   "execution_count": null,
   "metadata": {},
   "outputs": [],
   "source": [
    "all_reactions = sim.get_gene_reactions()\n",
    "gene_list = ['b3956','b2914']\n",
    "found_reactions = [all_reactions[gene] for gene in gene_list if gene in all_reactions]\n",
    "\n",
    "print(found_reactions)"
   ]
  },
  {
   "cell_type": "markdown",
   "metadata": {},
   "source": [
    "The gene expressions are converted by the problem into reaction constraints:"
   ]
  },
  {
   "cell_type": "code",
   "execution_count": null,
   "metadata": {},
   "outputs": [],
   "source": [
    "constraints = problem.solution_to_constraints(solution)\n",
    "constraints"
   ]
  },
  {
   "cell_type": "markdown",
   "metadata": {},
   "source": [
    "that are used to run phenotypic simulations:"
   ]
  },
  {
   "cell_type": "code",
   "execution_count": null,
   "metadata": {},
   "outputs": [],
   "source": [
    "sim.simulate(constraints=constraints).find()"
   ]
  },
  {
   "cell_type": "markdown",
   "metadata": {},
   "source": [
    "This functionality allows, for example, to simulate a same genetic modification on different methods or using other GEMs."
   ]
  }
 ],
 "metadata": {
  "kernelspec": {
   "display_name": "Python 3",
   "language": "python",
   "name": "python3"
  },
  "language_info": {
   "codemirror_mode": {
    "name": "ipython",
    "version": 3
   },
   "file_extension": ".py",
   "mimetype": "text/x-python",
   "name": "python",
   "nbconvert_exporter": "python",
   "pygments_lexer": "ipython3",
   "version": "3.7.3"
  }
 },
 "nbformat": 4,
 "nbformat_minor": 4
}
