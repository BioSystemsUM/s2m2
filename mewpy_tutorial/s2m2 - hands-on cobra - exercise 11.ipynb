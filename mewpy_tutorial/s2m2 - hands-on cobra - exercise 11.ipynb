{
 "cells": [
  {
   "cell_type": "markdown",
   "metadata": {},
   "source": [
    "# Advanced Modeling \n",
    "\n",
    "In this exercice your aim is to increase the production of succinate in Yeast resorting to GECKO and ETFL formulations."
   ]
  },
  {
   "cell_type": "markdown",
   "metadata": {},
   "source": [
    "## GECKO model\n",
    "\n",
    "Start by installing the `geckopy` package containing a model for yeast"
   ]
  },
  {
   "cell_type": "code",
   "execution_count": 1,
   "metadata": {},
   "outputs": [],
   "source": [
    "!pip install geckopy --upgrade --quiet"
   ]
  },
  {
   "cell_type": "markdown",
   "metadata": {},
   "source": [
    "and perform the necessary imports."
   ]
  },
  {
   "cell_type": "code",
   "execution_count": 2,
   "metadata": {},
   "outputs": [],
   "source": [
    "from geckopy.gecko import GeckoModel\n",
    "from mewpy.problems import GeckoOUProblem\n",
    "import pandas as pd"
   ]
  },
  {
   "cell_type": "markdown",
   "metadata": {},
   "source": [
    "We may now load the GECKO yeast model"
   ]
  },
  {
   "cell_type": "code",
   "execution_count": 3,
   "metadata": {},
   "outputs": [],
   "source": [
    "model = GeckoModel('single-pool')"
   ]
  },
  {
   "cell_type": "markdown",
   "metadata": {},
   "source": [
    "We can use GECKO model to find genetic modifications that favor the production of succinate. However, instead of applying genetic modifications (deletions / up / down-regulations) by evaluating GPR rules, the modifications are imposed on the enzyme usage pseudo-reactions."
   ]
  },
  {
   "cell_type": "markdown",
   "metadata": {},
   "source": [
    "As the optimization tasks can be long, we will simulate previously obtained modification solutions. We will, nonetheless, define a problem but without any optimization objectives."
   ]
  },
  {
   "cell_type": "markdown",
   "metadata": {},
   "source": [
    "Start by defining the required identifiers and the medium. We will considere an aerobic medium with a maximum glucose and oxygen of uptake of 10 and 20 mmol/(gDW.h)"
   ]
  },
  {
   "cell_type": "code",
   "execution_count": 4,
   "metadata": {},
   "outputs": [],
   "source": [
    "BIOMASS = 'r_2111'\n",
    "GLC = 'r_1714'\n",
    "O2 = 'r_1992'\n",
    "# succinate\n",
    "PRODUCT = 'r_2056'\n",
    "\n",
    "medium = {GLC:(-10,10000),O2:(-20,10000)}"
   ]
  },
  {
   "cell_type": "markdown",
   "metadata": {},
   "source": [
    "Define a GECKO up/down-regulation problem:"
   ]
  },
  {
   "cell_type": "code",
   "execution_count": 5,
   "metadata": {},
   "outputs": [],
   "source": [
    "problem = GeckoOUProblem(model,[],envcond=medium)"
   ]
  },
  {
   "cell_type": "code",
   "execution_count": 6,
   "metadata": {},
   "outputs": [],
   "source": [
    "sim = problem.simulator"
   ]
  },
  {
   "cell_type": "markdown",
   "metadata": {},
   "source": [
    "## Exercice 1\n",
    "\n",
    "**1.1:** Identify the list of essential proteins.\n"
   ]
  },
  {
   "cell_type": "code",
   "execution_count": 7,
   "metadata": {},
   "outputs": [
    {
     "name": "stderr",
     "output_type": "stream",
     "text": [
      "100%|███████████████████████████████████████████████████████████████████████████████████████████████████████████████████████████████████████████████████████████████████████████| 816/816 [02:57<00:00,  4.61it/s]\n"
     ]
    },
    {
     "data": {
      "text/plain": [
       "['P06197',\n",
       " 'Q12055',\n",
       " 'P40495',\n",
       " 'P33312',\n",
       " 'P39954',\n",
       " 'P39522',\n",
       " 'P07149',\n",
       " 'P36421',\n",
       " 'P18408',\n",
       " 'P53045',\n",
       " 'P04801',\n",
       " 'P20051',\n",
       " 'Q04728',\n",
       " 'P00498',\n",
       " 'P38145',\n",
       " 'P00899',\n",
       " 'P49367',\n",
       " 'P38972',\n",
       " 'P32462',\n",
       " 'P32288',\n",
       " 'P38998',\n",
       " 'Q12122',\n",
       " 'P28272',\n",
       " 'P09436',\n",
       " 'Q05506',\n",
       " 'P07283',\n",
       " 'P07244',\n",
       " 'P21147',\n",
       " 'P54839',\n",
       " 'P31116',\n",
       " 'Q12189',\n",
       " 'P25340',\n",
       " 'P24521',\n",
       " 'P07285',\n",
       " 'P04161',\n",
       " 'P22768',\n",
       " 'P19097',\n",
       " 'P13188',\n",
       " 'P38625',\n",
       " 'P00937',\n",
       " 'P18544',\n",
       " 'P05694',\n",
       " 'Q02196',\n",
       " 'Q12109',\n",
       " 'P11986',\n",
       " 'P32377',\n",
       " 'P07342',\n",
       " 'P36148',\n",
       " 'P08524',\n",
       " 'P00958',\n",
       " 'P05150',\n",
       " 'P38707',\n",
       " 'P32476',\n",
       " 'P17423',\n",
       " 'P08566',\n",
       " 'P29704',\n",
       " 'Q01217',\n",
       " 'P04173',\n",
       " 'Q12452',\n",
       " 'P06168',\n",
       " 'P07264',\n",
       " 'P46655',\n",
       " 'P04802',\n",
       " 'Q05911',\n",
       " 'P38708',\n",
       " 'Q00955',\n",
       " 'P19414',\n",
       " 'P28777',\n",
       " 'P80210']"
      ]
     },
     "execution_count": 7,
     "metadata": {},
     "output_type": "execute_result"
    }
   ],
   "source": [
    "sim.essential_proteins()"
   ]
  },
  {
   "cell_type": "markdown",
   "metadata": {},
   "source": [
    "**1.2:** For one randomly selected essential proteins identify the reactions it calatyzes and respective turnover, as well as its molecular weight."
   ]
  },
  {
   "cell_type": "code",
   "execution_count": 12,
   "metadata": {},
   "outputs": [
    {
     "data": {
      "text/plain": [
       "{'r_2454No1': 1631.986944104447,\n",
       " 'r_2455No1': 1631.986944104447,\n",
       " 'r_2456No1': 1631.986944104447,\n",
       " 'r_2457No1': 1631.986944104447,\n",
       " 'r_2458No1': 1631.986944104447,\n",
       " 'r_2459No1': 1631.986944104447,\n",
       " 'r_2460No1': 1631.986944104447,\n",
       " 'r_2461No1': 1631.986944104447}"
      ]
     },
     "execution_count": 12,
     "metadata": {},
     "output_type": "execute_result"
    }
   ],
   "source": [
    "sim.getKcat(\"P06197\")"
   ]
  },
  {
   "cell_type": "code",
   "execution_count": 13,
   "metadata": {},
   "outputs": [
    {
     "data": {
      "text/html": [
       "<div>\n",
       "<style scoped>\n",
       "    .dataframe tbody tr th:only-of-type {\n",
       "        vertical-align: middle;\n",
       "    }\n",
       "\n",
       "    .dataframe tbody tr th {\n",
       "        vertical-align: top;\n",
       "    }\n",
       "\n",
       "    .dataframe thead th {\n",
       "        text-align: right;\n",
       "    }\n",
       "</style>\n",
       "<table border=\"1\" class=\"dataframe\">\n",
       "  <thead>\n",
       "    <tr style=\"text-align: right;\">\n",
       "      <th></th>\n",
       "      <th>id</th>\n",
       "      <th>name</th>\n",
       "      <th>lb</th>\n",
       "      <th>ub</th>\n",
       "      <th>stoichiometry</th>\n",
       "      <th>gpr</th>\n",
       "    </tr>\n",
       "  </thead>\n",
       "  <tbody>\n",
       "    <tr>\n",
       "      <th>0</th>\n",
       "      <td>draw_prot_P06197</td>\n",
       "      <td>draw_prot_P06197</td>\n",
       "      <td>0.0</td>\n",
       "      <td>1000.0</td>\n",
       "      <td>{'prot_pool_c': -24.8234, 'prot_P06197_c': 1.0}</td>\n",
       "      <td>YPR113W</td>\n",
       "    </tr>\n",
       "  </tbody>\n",
       "</table>\n",
       "</div>"
      ],
      "text/plain": [
       "                 id              name   lb      ub  \\\n",
       "0  draw_prot_P06197  draw_prot_P06197  0.0  1000.0   \n",
       "\n",
       "                                     stoichiometry      gpr  \n",
       "0  {'prot_pool_c': -24.8234, 'prot_P06197_c': 1.0}  YPR113W  "
      ]
     },
     "execution_count": 13,
     "metadata": {},
     "output_type": "execute_result"
    }
   ],
   "source": [
    "sim.find(\"P06197\")"
   ]
  },
  {
   "cell_type": "markdown",
   "metadata": {},
   "source": [
    "**1.3:** Compute the wildtype production of succinate. "
   ]
  },
  {
   "cell_type": "code",
   "execution_count": 14,
   "metadata": {},
   "outputs": [
    {
     "data": {
      "text/html": [
       "<div>\n",
       "<style scoped>\n",
       "    .dataframe tbody tr th:only-of-type {\n",
       "        vertical-align: middle;\n",
       "    }\n",
       "\n",
       "    .dataframe tbody tr th {\n",
       "        vertical-align: top;\n",
       "    }\n",
       "\n",
       "    .dataframe thead th {\n",
       "        text-align: right;\n",
       "    }\n",
       "</style>\n",
       "<table border=\"1\" class=\"dataframe\">\n",
       "  <thead>\n",
       "    <tr style=\"text-align: right;\">\n",
       "      <th></th>\n",
       "      <th>Reaction ID</th>\n",
       "      <th>Flux rate</th>\n",
       "    </tr>\n",
       "  </thead>\n",
       "  <tbody>\n",
       "    <tr>\n",
       "      <th>0</th>\n",
       "      <td>r_2056</td>\n",
       "      <td>0.0</td>\n",
       "    </tr>\n",
       "    <tr>\n",
       "      <th>1</th>\n",
       "      <td>r_2056_REV</td>\n",
       "      <td>0.0</td>\n",
       "    </tr>\n",
       "  </tbody>\n",
       "</table>\n",
       "</div>"
      ],
      "text/plain": [
       "  Reaction ID  Flux rate\n",
       "0      r_2056        0.0\n",
       "1  r_2056_REV        0.0"
      ]
     },
     "execution_count": 14,
     "metadata": {},
     "output_type": "execute_result"
    }
   ],
   "source": [
    "sim.simulate(method='pFBA').find(PRODUCT)"
   ]
  },
  {
   "cell_type": "markdown",
   "metadata": {},
   "source": [
    "**1.4:** Compute the theoretical maximum production rate of succinate with a 95% confidence on growth."
   ]
  },
  {
   "cell_type": "code",
   "execution_count": 16,
   "metadata": {},
   "outputs": [
    {
     "data": {
      "text/plain": [
       "{'r_2056': [0.0, 1.4934295018021757]}"
      ]
     },
     "execution_count": 16,
     "metadata": {},
     "output_type": "execute_result"
    }
   ],
   "source": [
    "sim.FVA(PRODUCT,obj_frac=0.95)"
   ]
  },
  {
   "cell_type": "markdown",
   "metadata": {},
   "source": [
    "Consider the sets of genetic modifications below that resulted from GECKO optimizations: "
   ]
  },
  {
   "cell_type": "code",
   "execution_count": 17,
   "metadata": {},
   "outputs": [
    {
     "data": {
      "text/html": [
       "<div>\n",
       "<style scoped>\n",
       "    .dataframe tbody tr th:only-of-type {\n",
       "        vertical-align: middle;\n",
       "    }\n",
       "\n",
       "    .dataframe tbody tr th {\n",
       "        vertical-align: top;\n",
       "    }\n",
       "\n",
       "    .dataframe thead th {\n",
       "        text-align: right;\n",
       "    }\n",
       "</style>\n",
       "<table border=\"1\" class=\"dataframe\">\n",
       "  <thead>\n",
       "    <tr style=\"text-align: right;\">\n",
       "      <th></th>\n",
       "      <th>Modification</th>\n",
       "      <th>Size</th>\n",
       "      <th>BPCY</th>\n",
       "      <th>TargetFlux</th>\n",
       "      <th>WYIELD</th>\n",
       "    </tr>\n",
       "  </thead>\n",
       "  <tbody>\n",
       "    <tr>\n",
       "      <th>0</th>\n",
       "      <td>{'P07143': 0, 'P12695': 8, 'P32264': 4, 'Q1218...</td>\n",
       "      <td>5</td>\n",
       "      <td>0.955805</td>\n",
       "      <td>5.874193</td>\n",
       "      <td>1.854254</td>\n",
       "    </tr>\n",
       "    <tr>\n",
       "      <th>1</th>\n",
       "      <td>{'P07143': 0, 'P12695': 8, 'Q06549': 16, 'P327...</td>\n",
       "      <td>9</td>\n",
       "      <td>0.947737</td>\n",
       "      <td>5.824609</td>\n",
       "      <td>3.824441</td>\n",
       "    </tr>\n",
       "    <tr>\n",
       "      <th>2</th>\n",
       "      <td>{'P07143': 0, 'P32264': 16, 'P12695': 8, 'P072...</td>\n",
       "      <td>8</td>\n",
       "      <td>0.666016</td>\n",
       "      <td>6.060021</td>\n",
       "      <td>2.337248</td>\n",
       "    </tr>\n",
       "    <tr>\n",
       "      <th>3</th>\n",
       "      <td>{'P07143': 0, 'P12695': 8, 'P36421': 0.125, 'Q...</td>\n",
       "      <td>5</td>\n",
       "      <td>0.189540</td>\n",
       "      <td>4.659503</td>\n",
       "      <td>3.824441</td>\n",
       "    </tr>\n",
       "    <tr>\n",
       "      <th>4</th>\n",
       "      <td>{'P32419': 32, 'P06106': 2, 'P07262': 4, 'P164...</td>\n",
       "      <td>7</td>\n",
       "      <td>0.608419</td>\n",
       "      <td>7.478452</td>\n",
       "      <td>2.459736</td>\n",
       "    </tr>\n",
       "    <tr>\n",
       "      <th>5</th>\n",
       "      <td>{'P28777': 0.125, 'P16451': 4, 'P07258': 4, 'P...</td>\n",
       "      <td>5</td>\n",
       "      <td>0.191607</td>\n",
       "      <td>4.710320</td>\n",
       "      <td>3.893614</td>\n",
       "    </tr>\n",
       "    <tr>\n",
       "      <th>6</th>\n",
       "      <td>{'P16451': 4, 'P28777': 0.125, 'P07258': 4, 'P...</td>\n",
       "      <td>5</td>\n",
       "      <td>0.120300</td>\n",
       "      <td>2.957356</td>\n",
       "      <td>4.139504</td>\n",
       "    </tr>\n",
       "  </tbody>\n",
       "</table>\n",
       "</div>"
      ],
      "text/plain": [
       "                                        Modification  Size      BPCY  \\\n",
       "0  {'P07143': 0, 'P12695': 8, 'P32264': 4, 'Q1218...     5  0.955805   \n",
       "1  {'P07143': 0, 'P12695': 8, 'Q06549': 16, 'P327...     9  0.947737   \n",
       "2  {'P07143': 0, 'P32264': 16, 'P12695': 8, 'P072...     8  0.666016   \n",
       "3  {'P07143': 0, 'P12695': 8, 'P36421': 0.125, 'Q...     5  0.189540   \n",
       "4  {'P32419': 32, 'P06106': 2, 'P07262': 4, 'P164...     7  0.608419   \n",
       "5  {'P28777': 0.125, 'P16451': 4, 'P07258': 4, 'P...     5  0.191607   \n",
       "6  {'P16451': 4, 'P28777': 0.125, 'P07258': 4, 'P...     5  0.120300   \n",
       "\n",
       "   TargetFlux    WYIELD  \n",
       "0    5.874193  1.854254  \n",
       "1    5.824609  3.824441  \n",
       "2    6.060021  2.337248  \n",
       "3    4.659503  3.824441  \n",
       "4    7.478452  2.459736  \n",
       "5    4.710320  3.893614  \n",
       "6    2.957356  4.139504  "
      ]
     },
     "execution_count": 17,
     "metadata": {},
     "output_type": "execute_result"
    }
   ],
   "source": [
    "df = pd.read_csv('data/succ_yeast.csv')\n",
    "df"
   ]
  },
  {
   "cell_type": "markdown",
   "metadata": {},
   "source": [
    "You can retrieve the first solution using, for example, the command below:"
   ]
  },
  {
   "cell_type": "code",
   "execution_count": 35,
   "metadata": {},
   "outputs": [
    {
     "data": {
      "text/plain": [
       "{'P07143': 0,\n",
       " 'P32264': 16,\n",
       " 'P12695': 8,\n",
       " 'P07257': 0.125,\n",
       " 'P53296': 0,\n",
       " 'P54857': 0,\n",
       " 'Q12189': 0.0625,\n",
       " 'Q05533': 32}"
      ]
     },
     "execution_count": 35,
     "metadata": {},
     "output_type": "execute_result"
    }
   ],
   "source": [
    "solution = eval(df.iloc[2,0]) # the first 0 identifies the row index\n",
    "solution"
   ]
  },
  {
   "cell_type": "markdown",
   "metadata": {},
   "source": [
    "### Exercice 2\n",
    "Briefly analyse the solutions running phenotypic simulations (pFBA, lMOMA, ROOM and FVA) and plot the production envelopes"
   ]
  },
  {
   "cell_type": "code",
   "execution_count": 36,
   "metadata": {},
   "outputs": [],
   "source": [
    "constraints = problem.solution_to_constraints(solution)"
   ]
  },
  {
   "cell_type": "code",
   "execution_count": 37,
   "metadata": {},
   "outputs": [],
   "source": [
    "res = sim.simulate(method='ROOM',constraints=constraints)"
   ]
  },
  {
   "cell_type": "code",
   "execution_count": 38,
   "metadata": {},
   "outputs": [
    {
     "data": {
      "text/html": [
       "<div>\n",
       "<style scoped>\n",
       "    .dataframe tbody tr th:only-of-type {\n",
       "        vertical-align: middle;\n",
       "    }\n",
       "\n",
       "    .dataframe tbody tr th {\n",
       "        vertical-align: top;\n",
       "    }\n",
       "\n",
       "    .dataframe thead th {\n",
       "        text-align: right;\n",
       "    }\n",
       "</style>\n",
       "<table border=\"1\" class=\"dataframe\">\n",
       "  <thead>\n",
       "    <tr style=\"text-align: right;\">\n",
       "      <th></th>\n",
       "      <th>Reaction ID</th>\n",
       "      <th>Flux rate</th>\n",
       "    </tr>\n",
       "  </thead>\n",
       "  <tbody>\n",
       "    <tr>\n",
       "      <th>0</th>\n",
       "      <td>r_2056</td>\n",
       "      <td>6.059740</td>\n",
       "    </tr>\n",
       "    <tr>\n",
       "      <th>1</th>\n",
       "      <td>r_2111</td>\n",
       "      <td>0.106185</td>\n",
       "    </tr>\n",
       "    <tr>\n",
       "      <th>2</th>\n",
       "      <td>r_2056_REV</td>\n",
       "      <td>0.000000</td>\n",
       "    </tr>\n",
       "    <tr>\n",
       "      <th>3</th>\n",
       "      <td>r_2111_REV</td>\n",
       "      <td>0.000000</td>\n",
       "    </tr>\n",
       "  </tbody>\n",
       "</table>\n",
       "</div>"
      ],
      "text/plain": [
       "  Reaction ID  Flux rate\n",
       "0      r_2056   6.059740\n",
       "1      r_2111   0.106185\n",
       "2  r_2056_REV   0.000000\n",
       "3  r_2111_REV   0.000000"
      ]
     },
     "execution_count": 38,
     "metadata": {},
     "output_type": "execute_result"
    }
   ],
   "source": [
    "res.find([PRODUCT,BIOMASS])"
   ]
  },
  {
   "cell_type": "code",
   "execution_count": 40,
   "metadata": {},
   "outputs": [
    {
     "data": {
      "text/plain": [
       "<matplotlib.axes._subplots.AxesSubplot at 0x22deea9ba88>"
      ]
     },
     "execution_count": 40,
     "metadata": {},
     "output_type": "execute_result"
    },
    {
     "data": {
      "image/png": "[encoded data removed]",
      "text/plain": [
       "<Figure size 432x288 with 1 Axes>"
      ]
     },
     "metadata": {
      "needs_background": "light"
     },
     "output_type": "display_data"
    }
   ],
   "source": [
    "%matplotlib inline\n",
    "from mewpy.visualization.envelope import plot_flux_envelope\n",
    "\n",
    "plot_flux_envelope(sim,BIOMASS,PRODUCT,constraints = constraints)"
   ]
  },
  {
   "cell_type": "markdown",
   "metadata": {},
   "source": [
    "## ETFL model"
   ]
  },
  {
   "cell_type": "code",
   "execution_count": 41,
   "metadata": {},
   "outputs": [],
   "source": [
    "!pip install https://github.com/EPFL-LCSB/pytfa/archive/refs/heads/master.zip --quiet\n",
    "!pip install https://github.com/EPFL-LCSB/etfl/archive/refs/heads/master.zip --quiet"
   ]
  },
  {
   "cell_type": "code",
   "execution_count": 42,
   "metadata": {},
   "outputs": [],
   "source": [
    "from etfl.io.json import load_json_model\n",
    "from mewpy.problems import ETFLGOUProblem"
   ]
  },
  {
   "cell_type": "code",
   "execution_count": 48,
   "metadata": {},
   "outputs": [
    {
     "name": "stderr",
     "output_type": "stream",
     "text": [
      "2022-06-21 17:06:41,543 - ME modelyeast8_vEFL_2584_enz_128_bins__20210908_192334 - INFO - # ETFL Model ETFL_model initialized\n",
      "2022-06-21 17:06:41,543 - ME modelyeast8_vEFL_2584_enz_128_bins__20210908_192334 - INFO - Empty model initialized\n",
      "rebuilding variables: 100%|███████████████████████████████████████████████████████████████████████████████████████████████████████████████████████████████████████████████| 22952/22952 [00:04<00:00, 4700.11it/s]\n",
      "rebuilding constraints: 100%|█████████████████████████████████████████████████████████████████████████████████████████████████████████████████████████████████████████████| 71110/71110 [00:23<00:00, 3037.41it/s]\n"
     ]
    }
   ],
   "source": [
    "model = load_json_model('data/yeast8_vEFL_2584_enz_128_bins__20210908_192334.json','cplex')"
   ]
  },
  {
   "cell_type": "markdown",
   "metadata": {},
   "source": [
    "Create a ETFLGOUProblem using the ETFL model"
   ]
  },
  {
   "cell_type": "code",
   "execution_count": 50,
   "metadata": {},
   "outputs": [],
   "source": [
    "from mewpy.simulation import get_simulator\n",
    "sim = get_simulator(model)"
   ]
  },
  {
   "cell_type": "code",
   "execution_count": null,
   "metadata": {},
   "outputs": [],
   "source": [
    "problem = ETFLGOUProblem(model,[],envcond=medium)"
   ]
  },
  {
   "cell_type": "code",
   "execution_count": null,
   "metadata": {},
   "outputs": [],
   "source": [
    "sim = problem.simulator"
   ]
  },
  {
   "cell_type": "markdown",
   "metadata": {},
   "source": [
    "You may use the `find` function to identify gene (/protein) transcription, translation and degration pseudo reactions."
   ]
  },
  {
   "cell_type": "code",
   "execution_count": null,
   "metadata": {},
   "outputs": [],
   "source": []
  },
  {
   "cell_type": "code",
   "execution_count": null,
   "metadata": {},
   "outputs": [],
   "source": []
  },
  {
   "cell_type": "markdown",
   "metadata": {},
   "source": [
    "Genetic modifications on ETFL models use the gene identifier instead of the uniprot identifier, as such, we need to convert the IDs in the GECKO solutions for them to be simulated on ETFL models. The function below does that for you."
   ]
  },
  {
   "cell_type": "code",
   "execution_count": 39,
   "metadata": {},
   "outputs": [],
   "source": [
    "gp = pd.read_csv('data/prot_gene.csv')\n",
    "\n",
    "def prot_to_gene(solution):\n",
    "    ''' Convert a solution with protein identifier to a solution\n",
    "    with gene identifiers\n",
    "    '''\n",
    "    def p2g(p):\n",
    "        return gp.loc[gp.Protein==p,'Gene'].item()\n",
    "    return {p2g(k):v for k,v in solution.items()}"
   ]
  },
  {
   "cell_type": "markdown",
   "metadata": {},
   "source": [
    "### Exercice 3\n",
    "\n",
    "We can now simulate the sets of genetic modification, used with the GECKO formulation, on the ETFL model."
   ]
  },
  {
   "cell_type": "code",
   "execution_count": 46,
   "metadata": {},
   "outputs": [
    {
     "data": {
      "text/plain": [
       "{'YOR065W': 0,\n",
       " 'YDR300C': 16,\n",
       " 'YNL071W': 8,\n",
       " 'YPR191W': 0.125,\n",
       " 'YGR177C': 0,\n",
       " 'YDR058C': 0,\n",
       " 'YOR095C': 0.0625,\n",
       " 'YDR287W': 32}"
      ]
     },
     "execution_count": 46,
     "metadata": {},
     "output_type": "execute_result"
    }
   ],
   "source": [
    "prot_to_gene(solution)"
   ]
  },
  {
   "cell_type": "code",
   "execution_count": 47,
   "metadata": {},
   "outputs": [
    {
     "data": {
      "text/plain": [
       "{'P07143': 0,\n",
       " 'P32264': 16,\n",
       " 'P12695': 8,\n",
       " 'P07257': 0.125,\n",
       " 'P53296': 0,\n",
       " 'P54857': 0,\n",
       " 'Q12189': 0.0625,\n",
       " 'Q05533': 32}"
      ]
     },
     "execution_count": 47,
     "metadata": {},
     "output_type": "execute_result"
    }
   ],
   "source": [
    "solution"
   ]
  },
  {
   "cell_type": "code",
   "execution_count": null,
   "metadata": {},
   "outputs": [],
   "source": []
  }
 ],
 "metadata": {
  "kernelspec": {
   "display_name": "Python 3 (ipykernel)",
   "language": "python",
   "name": "python3"
  },
  "language_info": {
   "codemirror_mode": {
    "name": "ipython",
    "version": 3
   },
   "file_extension": ".py",
   "mimetype": "text/x-python",
   "name": "python",
   "nbconvert_exporter": "python",
   "pygments_lexer": "ipython3",
   "version": "3.7.11"
  }
 },
 "nbformat": 4,
 "nbformat_minor": 4
}
