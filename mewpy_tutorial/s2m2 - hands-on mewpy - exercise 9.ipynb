{
 "cells": [
  {
   "cell_type": "markdown",
   "metadata": {},
   "source": [
    "# Strain Optimization in MEWpy\n",
    "\n",
    "This notebook exemplifies how MEWpy may be used in strain optimization tasks.\n",
    "We will consider the as goal to increase the production of succinate in E. coli in anaerobic conditions."
   ]
  },
  {
   "cell_type": "code",
   "execution_count": 1,
   "metadata": {},
   "outputs": [],
   "source": [
    "%matplotlib inline\n",
    "from cobra.io.sbml import read_sbml_model\n",
    "model = read_sbml_model(\"data/e_coli_core.xml.gz\")"
   ]
  },
  {
   "cell_type": "markdown",
   "metadata": {},
   "source": [
    "Analyse the model's default medium"
   ]
  },
  {
   "cell_type": "code",
   "execution_count": 2,
   "metadata": {},
   "outputs": [
    {
     "data": {
      "text/html": [
       "<div>\n",
       "<style scoped>\n",
       "    .dataframe tbody tr th:only-of-type {\n",
       "        vertical-align: middle;\n",
       "    }\n",
       "\n",
       "    .dataframe tbody tr th {\n",
       "        vertical-align: top;\n",
       "    }\n",
       "\n",
       "    .dataframe thead th {\n",
       "        text-align: right;\n",
       "    }\n",
       "</style>\n",
       "<table border=\"1\" class=\"dataframe\">\n",
       "  <thead>\n",
       "    <tr style=\"text-align: right;\">\n",
       "      <th></th>\n",
       "      <th>lb</th>\n",
       "      <th>ub</th>\n",
       "    </tr>\n",
       "  </thead>\n",
       "  <tbody>\n",
       "    <tr>\n",
       "      <th>EX_co2_e</th>\n",
       "      <td>-10.0</td>\n",
       "      <td>inf</td>\n",
       "    </tr>\n",
       "    <tr>\n",
       "      <th>EX_glc__D_e</th>\n",
       "      <td>-10.0</td>\n",
       "      <td>inf</td>\n",
       "    </tr>\n",
       "    <tr>\n",
       "      <th>EX_h_e</th>\n",
       "      <td>-10.0</td>\n",
       "      <td>inf</td>\n",
       "    </tr>\n",
       "    <tr>\n",
       "      <th>EX_h2o_e</th>\n",
       "      <td>-10.0</td>\n",
       "      <td>inf</td>\n",
       "    </tr>\n",
       "    <tr>\n",
       "      <th>EX_nh4_e</th>\n",
       "      <td>-10.0</td>\n",
       "      <td>inf</td>\n",
       "    </tr>\n",
       "    <tr>\n",
       "      <th>EX_o2_e</th>\n",
       "      <td>-10.0</td>\n",
       "      <td>inf</td>\n",
       "    </tr>\n",
       "    <tr>\n",
       "      <th>EX_pi_e</th>\n",
       "      <td>-10.0</td>\n",
       "      <td>inf</td>\n",
       "    </tr>\n",
       "  </tbody>\n",
       "</table>\n",
       "</div>"
      ],
      "text/plain": [
       "               lb   ub\n",
       "EX_co2_e    -10.0  inf\n",
       "EX_glc__D_e -10.0  inf\n",
       "EX_h_e      -10.0  inf\n",
       "EX_h2o_e    -10.0  inf\n",
       "EX_nh4_e    -10.0  inf\n",
       "EX_o2_e     -10.0  inf\n",
       "EX_pi_e     -10.0  inf"
      ]
     },
     "execution_count": 2,
     "metadata": {},
     "output_type": "execute_result"
    }
   ],
   "source": [
    "from mewpy.simulation.environment import Environment\n",
    "import pandas as pd\n",
    "\n",
    "medium = Environment.from_model(model).get_compounds()\n",
    "env = Environment.from_compounds(medium)\n",
    "pd.DataFrame(env,index=['lb','ub']).T\n"
   ]
  },
  {
   "cell_type": "markdown",
   "metadata": {},
   "source": [
    "Commercial solvers are better suited to address optimization tasks, such, as stain designs. As such, you might want to check the linear programming solvers available on your system:"
   ]
  },
  {
   "cell_type": "code",
   "execution_count": 3,
   "metadata": {},
   "outputs": [
    {
     "data": {
      "text/plain": [
       "['cplex', 'glpk']"
      ]
     },
     "execution_count": 3,
     "metadata": {},
     "output_type": "execute_result"
    }
   ],
   "source": [
    "from mewpy.simulation import solvers\n",
    "solvers"
   ]
  },
  {
   "cell_type": "markdown",
   "metadata": {},
   "source": [
    "## Optimization problem\n",
    "\n",
    "Before running any optimization let us verify the production rate as well as the theoretic maximum rate of succinate in anaerobic conditions.\n",
    "To ease the script reutilization we will define some reaction identifiers as constants:"
   ]
  },
  {
   "cell_type": "code",
   "execution_count": 4,
   "metadata": {},
   "outputs": [],
   "source": [
    "BIOMASS = 'BIOMASS_Ecoli_core_w_GAM'\n",
    "PRODUCT = 'EX_succ_e'\n",
    "O2 = 'EX_o2_e'\n",
    "GLC = 'EX_glc__D_e'"
   ]
  },
  {
   "cell_type": "code",
   "execution_count": 5,
   "metadata": {},
   "outputs": [],
   "source": [
    "anaerobic = {O2: (0, 0)}"
   ]
  },
  {
   "cell_type": "code",
   "execution_count": 7,
   "metadata": {},
   "outputs": [
    {
     "data": {
      "text/html": [
       "<div>\n",
       "<style scoped>\n",
       "    .dataframe tbody tr th:only-of-type {\n",
       "        vertical-align: middle;\n",
       "    }\n",
       "\n",
       "    .dataframe tbody tr th {\n",
       "        vertical-align: top;\n",
       "    }\n",
       "\n",
       "    .dataframe thead th {\n",
       "        text-align: right;\n",
       "    }\n",
       "</style>\n",
       "<table border=\"1\" class=\"dataframe\">\n",
       "  <thead>\n",
       "    <tr style=\"text-align: right;\">\n",
       "      <th></th>\n",
       "      <th>Reaction ID</th>\n",
       "      <th>Minimum</th>\n",
       "      <th>Maximum</th>\n",
       "    </tr>\n",
       "  </thead>\n",
       "  <tbody>\n",
       "    <tr>\n",
       "      <th>0</th>\n",
       "      <td>EX_succ_e</td>\n",
       "      <td>0.0</td>\n",
       "      <td>1.911</td>\n",
       "    </tr>\n",
       "  </tbody>\n",
       "</table>\n",
       "</div>"
      ],
      "text/plain": [
       "  Reaction ID  Minimum  Maximum\n",
       "0   EX_succ_e      0.0    1.911"
      ]
     },
     "execution_count": 7,
     "metadata": {},
     "output_type": "execute_result"
    }
   ],
   "source": [
    "from mewpy.simulation import get_simulator\n",
    "sim = get_simulator(model,envcond=anaerobic)\n",
    "sim.FVA(reactions=[PRODUCT],format='df')"
   ]
  },
  {
   "cell_type": "code",
   "execution_count": 8,
   "metadata": {},
   "outputs": [
    {
     "data": {
      "text/html": [
       "<div>\n",
       "<style scoped>\n",
       "    .dataframe tbody tr th:only-of-type {\n",
       "        vertical-align: middle;\n",
       "    }\n",
       "\n",
       "    .dataframe tbody tr th {\n",
       "        vertical-align: top;\n",
       "    }\n",
       "\n",
       "    .dataframe thead th {\n",
       "        text-align: right;\n",
       "    }\n",
       "</style>\n",
       "<table border=\"1\" class=\"dataframe\">\n",
       "  <thead>\n",
       "    <tr style=\"text-align: right;\">\n",
       "      <th></th>\n",
       "      <th>Reaction ID</th>\n",
       "      <th>Flux rate</th>\n",
       "    </tr>\n",
       "  </thead>\n",
       "  <tbody>\n",
       "    <tr>\n",
       "      <th>0</th>\n",
       "      <td>BIOMASS_Ecoli_core_w_GAM</td>\n",
       "      <td>0.211663</td>\n",
       "    </tr>\n",
       "    <tr>\n",
       "      <th>1</th>\n",
       "      <td>EX_succ_e</td>\n",
       "      <td>-0.000000</td>\n",
       "    </tr>\n",
       "  </tbody>\n",
       "</table>\n",
       "</div>"
      ],
      "text/plain": [
       "                Reaction ID  Flux rate\n",
       "0  BIOMASS_Ecoli_core_w_GAM   0.211663\n",
       "1                 EX_succ_e  -0.000000"
      ]
     },
     "execution_count": 8,
     "metadata": {},
     "output_type": "execute_result"
    }
   ],
   "source": [
    "sim.simulate(method='pFBA').find([BIOMASS,PRODUCT])"
   ]
  },
  {
   "cell_type": "markdown",
   "metadata": {},
   "source": [
    "The optimization problem requires the definition of one or more objective functions.\n",
    "In the next example, we define as objective the maximization of the Biomass-Product coupled yield and the maximization of the targeted product. MEWpy makes available other optimization objectives, please refer to the documentation."
   ]
  },
  {
   "cell_type": "code",
   "execution_count": 25,
   "metadata": {},
   "outputs": [],
   "source": [
    "from mewpy.optimization.evaluation import BPCY, TargetFlux, ModificationType\n",
    "\n",
    "objs = [ \n",
    "    BPCY(BIOMASS, PRODUCT),\n",
    "    TargetFlux(PRODUCT),\n",
    "    ModificationType()\n",
    "]"
   ]
  },
  {
   "cell_type": "markdown",
   "metadata": {},
   "source": [
    "We can now define the growth medium and select the type of modification.\n",
    "We will begin by performing gene deletion (GKO) by selecting the appropriate problem instance, GKOProblem. "
   ]
  },
  {
   "cell_type": "code",
   "execution_count": 10,
   "metadata": {},
   "outputs": [],
   "source": [
    "from mewpy.problems import GKOProblem, GOUProblem\n",
    "\n",
    "problem = GOUProblem(model, objs, envcond=anaerobic, candidate_max_size=10)"
   ]
  },
  {
   "cell_type": "markdown",
   "metadata": {},
   "source": [
    "Other optimization methods/strategies may be used:\n",
    "* Reaction deletion: *RKOProblem*\n",
    "* Reaction under or over expression: *ROUProblem*\n",
    "* Gene under or over expression: *GOUProblem*\n",
    "\n",
    "A problem may include other parameters, such as the maximum number of genetic modification, a list of specitic targets, or non-targets (reactions/genes not to be modified). "
   ]
  },
  {
   "cell_type": "markdown",
   "metadata": {},
   "source": [
    "## Optimization algorithm\n",
    "\n",
    "An optimization engine to solve the problem need to be instanciated. MEWpy uses Evolutionary Algorithms (EA) for this task.\n",
    "\n",
    "EAs are algorithms that mimic the Darwinian evolutionary process, where a population of solutions evolves generation after generation. In the example we define a maximum of 50 generations.  "
   ]
  },
  {
   "cell_type": "code",
   "execution_count": 11,
   "metadata": {},
   "outputs": [],
   "source": [
    "from mewpy.optimization import EA\n",
    "ea = EA(problem, max_generations=20)"
   ]
  },
  {
   "cell_type": "markdown",
   "metadata": {},
   "source": [
    "For informations on additional options you may use the `help` command"
   ]
  },
  {
   "cell_type": "code",
   "execution_count": null,
   "metadata": {},
   "outputs": [],
   "source": [
    "help(EA)"
   ]
  },
  {
   "cell_type": "markdown",
   "metadata": {},
   "source": [
    "The EA may contemplate aditional parameters such as the identification of a specific algorithm (e.g. SPEA2, NSGAII, NSGAIII, GDE3, etc.), multiprocessing options, initial seeding, etc.\n",
    "\n",
    "To start the optimization process invoke the run method:"
   ]
  },
  {
   "cell_type": "code",
   "execution_count": 12,
   "metadata": {},
   "outputs": [
    {
     "name": "stdout",
     "output_type": "stream",
     "text": [
      "Running NSGAII\n",
      "Eval(s)|     Worst      Best    Median   Average   Std Dev|     Worst      Best    Median   Average   Std Dev|\n",
      "    100|  -0.000000  0.253703  0.000000  0.003020  0.025648|  -0.000000  1.662235  0.000000  0.018984  0.166816|\n",
      "    200|  -0.000000  0.834491  0.000000  0.013194  0.087529|  -0.000000  7.097740  0.000000  0.099406  0.726403|\n",
      "    300|  -0.000000  0.834491  0.000000  0.045528  0.164331|  -0.000000  7.097740  0.000000  0.358066  1.398445|\n",
      "    400|  -0.000000  0.841615  0.000000  0.126206  0.256732|  -0.000000  7.801256  0.000000  0.997240  2.215039|\n",
      "    500|  -0.000000  0.841615  0.253703  0.323021  0.331958|  -0.000000  7.801256  1.652859  2.569083  2.970088|\n",
      "    600|  0.045781  0.841615  0.834491  0.720564  0.223254|  1.652859  7.843953  7.055392  6.232343  2.009968|\n",
      "    700|  0.594861  0.841615  0.834491  0.830393  0.026870|  7.055392  9.110254  7.097740  7.153113  0.258671|\n",
      "    800|  0.594861  0.849299  0.834491  0.825567  0.035987|  7.055392  9.110254  7.097740  7.212289  0.345981|\n",
      "    900|  0.594861  0.849299  0.834491  0.820806  0.036495|  7.055392  9.110254  7.097740  7.298223  0.381778|\n",
      "   1000|  0.594861  0.849299  0.834491  0.817852  0.043141|  7.055392  9.110254  7.097740  7.421431  0.444980|\n",
      "   1100|  0.594861  0.849299  0.804068  0.795194  0.061727|  7.055392  9.110254  7.801256  7.776135  0.469740|\n",
      "   1200|  0.593926  0.854150  0.804068  0.788042  0.067307|  7.392432  9.111804  7.801256  7.895137  0.442637|\n",
      "   1300|  0.593926  0.857213  0.804068  0.786670  0.076149|  7.380338  9.111804  7.801256  7.910514  0.509437|\n",
      "   1400|  0.593926  0.857213  0.807215  0.770854  0.097180|  7.380338  9.111804  7.801256  8.025329  0.654012|\n",
      "   1500|  0.593926  0.857213  0.835550  0.791654  0.088654|  7.380338  9.111804  7.638481  7.926013  0.635521|\n",
      "   1600|  0.591396  0.857213  0.836880  0.791614  0.092360|  7.380338  9.115993  7.546473  7.872761  0.641001|\n",
      "   1700|  0.590648  0.857213  0.846719  0.784966  0.099068|  7.380338  9.117232  7.421537  7.922631  0.691284|\n",
      "   1800|  0.590648  0.857213  0.846719  0.782243  0.100190|  7.380338  9.117232  7.421537  7.961122  0.696246|\n",
      "   1900|  0.290337  0.857213  0.846719  0.774447  0.121421|  7.380338  10.973555  7.421537  8.004955  0.736913|\n",
      "   2000|  0.290337  0.857213  0.835000  0.771113  0.132603|  7.380338  10.973555  7.935900  8.046368  0.767471|\n",
      "   2100|  0.290337  0.857213  0.846719  0.758488  0.164798|  7.380338  10.973555  7.421537  8.020992  0.844029|\n",
      "   2200|  0.290337  0.857213  0.846719  0.748240  0.175458|  7.380338  10.973555  7.421537  8.067969  0.894843|\n",
      "   2300|  0.290337  0.857213  0.845154  0.744534  0.176796|  7.380338  10.973555  7.907114  8.104044  0.896595|\n",
      "   2400|  0.290337  0.857213  0.835000  0.727280  0.185706|  7.380338  10.973555  7.935900  8.200099  0.903753|\n",
      "   2500|  0.290337  0.857213  0.835000  0.747681  0.163446|  7.380338  10.973555  7.935900  8.153504  0.884879|\n",
      "   2600|  0.290337  0.857213  0.826324  0.747602  0.157781|  7.380338  10.973555  7.971920  8.160262  0.843616|\n",
      "   2700|  0.290337  0.857213  0.817648  0.746904  0.157413|  7.380338  10.973555  8.007939  8.172417  0.837169|\n",
      "   2800|  0.290337  0.857213  0.817648  0.743122  0.160588|  7.380338  10.973555  8.007939  8.198180  0.828505|\n",
      "   2900|  0.290337  0.857213  0.817648  0.743698  0.164951|  7.380338  10.973555  8.007939  8.192345  0.828372|\n",
      "   3000|  0.290337  0.857213  0.810621  0.740677  0.168443|  7.380338  10.973555  8.033146  8.229500  0.819918|\n",
      "   3100|  0.290337  0.857213  0.808519  0.730467  0.175744|  7.380338  10.973555  8.040643  8.273652  0.830506|\n",
      "   3200|  0.290337  0.857213  0.808519  0.724148  0.179353|  7.380338  10.973555  8.040643  8.287163  0.835283|\n",
      "   3300|  0.290337  0.857213  0.808519  0.728368  0.173662|  7.380338  10.973555  8.040643  8.278157  0.787729|\n",
      "   3400|  0.290337  0.857213  0.808392  0.727111  0.172420|  7.380338  10.973555  8.041095  8.299581  0.765873|\n",
      "   3500|  0.290337  0.857213  0.808265  0.719144  0.176720|  7.380338  10.973555  8.041548  8.335289  0.764117|\n",
      "   3600|  0.290337  0.857213  0.808265  0.721167  0.176960|  7.380338  10.973555  8.041548  8.325545  0.771660|\n",
      "   3700|  0.290337  0.857213  0.805961  0.717126  0.175806|  7.380338  10.973555  8.274610  8.374663  0.754548|\n",
      "   3800|  0.290337  0.857213  0.803656  0.710787  0.177829|  7.380338  10.973555  8.507672  8.417482  0.734442|\n",
      "   3900|  0.290337  0.857213  0.803656  0.709011  0.182013|  7.380338  10.973555  8.507672  8.438834  0.766706|\n",
      "   4000|  0.290337  0.857213  0.803656  0.708876  0.183820|  7.380338  10.973555  8.507672  8.444551  0.810466|\n",
      "   4100|  0.290337  0.857213  0.803656  0.706435  0.183424|  7.380338  10.973555  8.507672  8.461604  0.805768|\n",
      "   4200|  0.290337  0.857213  0.800295  0.701257  0.185840|  7.380338  10.973555  8.594950  8.484572  0.795806|\n",
      "   4300|  0.290337  0.857213  0.800295  0.703460  0.182903|  7.380338  10.973555  8.594950  8.489453  0.794274|\n",
      "   4400|  0.290337  0.857213  0.800295  0.702958  0.182558|  7.380338  10.973555  8.594950  8.496098  0.787822|\n",
      "   4500|  0.290337  0.857213  0.800295  0.702876  0.182501|  7.380338  10.973555  8.594950  8.496484  0.787556|\n",
      "   4600|  0.290337  0.857213  0.803656  0.707539  0.179703|  7.380338  10.973555  8.507672  8.478956  0.787235|\n",
      "   4700|  0.290337  0.857213  0.803656  0.703145  0.182642|  7.380338  10.973555  8.507672  8.489573  0.788633|\n",
      "   4800|  0.290337  0.857213  0.803656  0.713573  0.173264|  7.380338  10.973555  8.507672  8.470164  0.781575|\n",
      "   4900|  0.290337  0.857213  0.808265  0.757784  0.129112|  7.380338  10.973555  8.041548  8.361458  0.798911|\n",
      "   5000|  0.290337  0.857213  0.808265  0.757526  0.129085|  7.380338  10.973555  8.041548  8.369564  0.803634|\n"
     ]
    }
   ],
   "source": [
    "solutions = ea.run()"
   ]
  },
  {
   "cell_type": "markdown",
   "metadata": {},
   "source": [
    "We can now list the set of solutions:"
   ]
  },
  {
   "cell_type": "code",
   "execution_count": 13,
   "metadata": {},
   "outputs": [
    {
     "data": {
      "text/html": [
       "<div>\n",
       "<style scoped>\n",
       "    .dataframe tbody tr th:only-of-type {\n",
       "        vertical-align: middle;\n",
       "    }\n",
       "\n",
       "    .dataframe tbody tr th {\n",
       "        vertical-align: top;\n",
       "    }\n",
       "\n",
       "    .dataframe thead th {\n",
       "        text-align: right;\n",
       "    }\n",
       "</style>\n",
       "<table border=\"1\" class=\"dataframe\">\n",
       "  <thead>\n",
       "    <tr style=\"text-align: right;\">\n",
       "      <th></th>\n",
       "      <th>Modification</th>\n",
       "      <th>Size</th>\n",
       "      <th>BPCY</th>\n",
       "      <th>TargetFlux</th>\n",
       "    </tr>\n",
       "  </thead>\n",
       "  <tbody>\n",
       "    <tr>\n",
       "      <th>0</th>\n",
       "      <td>{'b3956': 16, 'b3403': 0}</td>\n",
       "      <td>2</td>\n",
       "      <td>0.857213</td>\n",
       "      <td>7.380338</td>\n",
       "    </tr>\n",
       "    <tr>\n",
       "      <th>1</th>\n",
       "      <td>{'b1761': 0.03125, 'b1136': 0.125, 'b0720': 8,...</td>\n",
       "      <td>4</td>\n",
       "      <td>0.290337</td>\n",
       "      <td>10.973555</td>\n",
       "    </tr>\n",
       "    <tr>\n",
       "      <th>2</th>\n",
       "      <td>{'b1761': 0.03125, 'b3403': 0, 'b2914': 4, 'b3...</td>\n",
       "      <td>5</td>\n",
       "      <td>0.621729</td>\n",
       "      <td>8.753395</td>\n",
       "    </tr>\n",
       "    <tr>\n",
       "      <th>3</th>\n",
       "      <td>{'b1136': 0.125, 'b0720': 8, 'b3403': 0, 'b395...</td>\n",
       "      <td>4</td>\n",
       "      <td>0.290337</td>\n",
       "      <td>10.973555</td>\n",
       "    </tr>\n",
       "    <tr>\n",
       "      <th>4</th>\n",
       "      <td>{'b3956': 16, 'b3403': 0, 'b1761': 0, 'b0720': 8}</td>\n",
       "      <td>4</td>\n",
       "      <td>0.590648</td>\n",
       "      <td>9.117232</td>\n",
       "    </tr>\n",
       "    <tr>\n",
       "      <th>5</th>\n",
       "      <td>{'b3956': 16, 'b3403': 0, 'b1761': 0, 'b1136': 4}</td>\n",
       "      <td>4</td>\n",
       "      <td>0.775218</td>\n",
       "      <td>8.749446</td>\n",
       "    </tr>\n",
       "    <tr>\n",
       "      <th>6</th>\n",
       "      <td>{'b3403': 0, 'b1761': 0.5, 'b3956': 16, 'b3734...</td>\n",
       "      <td>4</td>\n",
       "      <td>0.846719</td>\n",
       "      <td>7.421537</td>\n",
       "    </tr>\n",
       "    <tr>\n",
       "      <th>7</th>\n",
       "      <td>{'b3403': 0, 'b3956': 16, 'b1136': 2, 'b3734':...</td>\n",
       "      <td>5</td>\n",
       "      <td>0.803881</td>\n",
       "      <td>8.057122</td>\n",
       "    </tr>\n",
       "    <tr>\n",
       "      <th>8</th>\n",
       "      <td>{'b0720': 8, 'b1761': 0.25, 'b3956': 16}</td>\n",
       "      <td>3</td>\n",
       "      <td>0.618979</td>\n",
       "      <td>9.070078</td>\n",
       "    </tr>\n",
       "    <tr>\n",
       "      <th>9</th>\n",
       "      <td>{'b3403': 0, 'b1761': 0.25, 'b3956': 16, 'b113...</td>\n",
       "      <td>5</td>\n",
       "      <td>0.826924</td>\n",
       "      <td>7.974331</td>\n",
       "    </tr>\n",
       "    <tr>\n",
       "      <th>10</th>\n",
       "      <td>{'b3403': 0, 'b2279': 8, 'b1761': 0.25, 'b3956...</td>\n",
       "      <td>5</td>\n",
       "      <td>0.826924</td>\n",
       "      <td>7.974331</td>\n",
       "    </tr>\n",
       "    <tr>\n",
       "      <th>11</th>\n",
       "      <td>{'b3403': 0, 'b2279': 8, 'b1761': 0.25, 'b3956...</td>\n",
       "      <td>5</td>\n",
       "      <td>0.826924</td>\n",
       "      <td>7.974331</td>\n",
       "    </tr>\n",
       "    <tr>\n",
       "      <th>12</th>\n",
       "      <td>{'b3403': 0, 'b1761': 0.5, 'b3956': 16}</td>\n",
       "      <td>3</td>\n",
       "      <td>0.854150</td>\n",
       "      <td>7.392432</td>\n",
       "    </tr>\n",
       "    <tr>\n",
       "      <th>13</th>\n",
       "      <td>{'b3956': 16, 'b3403': 0, 'b3734': 0.5}</td>\n",
       "      <td>3</td>\n",
       "      <td>0.849299</td>\n",
       "      <td>7.411469</td>\n",
       "    </tr>\n",
       "  </tbody>\n",
       "</table>\n",
       "</div>"
      ],
      "text/plain": [
       "                                         Modification  Size      BPCY  \\\n",
       "0                           {'b3956': 16, 'b3403': 0}     2  0.857213   \n",
       "1   {'b1761': 0.03125, 'b1136': 0.125, 'b0720': 8,...     4  0.290337   \n",
       "2   {'b1761': 0.03125, 'b3403': 0, 'b2914': 4, 'b3...     5  0.621729   \n",
       "3   {'b1136': 0.125, 'b0720': 8, 'b3403': 0, 'b395...     4  0.290337   \n",
       "4   {'b3956': 16, 'b3403': 0, 'b1761': 0, 'b0720': 8}     4  0.590648   \n",
       "5   {'b3956': 16, 'b3403': 0, 'b1761': 0, 'b1136': 4}     4  0.775218   \n",
       "6   {'b3403': 0, 'b1761': 0.5, 'b3956': 16, 'b3734...     4  0.846719   \n",
       "7   {'b3403': 0, 'b3956': 16, 'b1136': 2, 'b3734':...     5  0.803881   \n",
       "8            {'b0720': 8, 'b1761': 0.25, 'b3956': 16}     3  0.618979   \n",
       "9   {'b3403': 0, 'b1761': 0.25, 'b3956': 16, 'b113...     5  0.826924   \n",
       "10  {'b3403': 0, 'b2279': 8, 'b1761': 0.25, 'b3956...     5  0.826924   \n",
       "11  {'b3403': 0, 'b2279': 8, 'b1761': 0.25, 'b3956...     5  0.826924   \n",
       "12            {'b3403': 0, 'b1761': 0.5, 'b3956': 16}     3  0.854150   \n",
       "13            {'b3956': 16, 'b3403': 0, 'b3734': 0.5}     3  0.849299   \n",
       "\n",
       "    TargetFlux  \n",
       "0     7.380338  \n",
       "1    10.973555  \n",
       "2     8.753395  \n",
       "3    10.973555  \n",
       "4     9.117232  \n",
       "5     8.749446  \n",
       "6     7.421537  \n",
       "7     8.057122  \n",
       "8     9.070078  \n",
       "9     7.974331  \n",
       "10    7.974331  \n",
       "11    7.974331  \n",
       "12    7.392432  \n",
       "13    7.411469  "
      ]
     },
     "execution_count": 13,
     "metadata": {},
     "output_type": "execute_result"
    }
   ],
   "source": [
    "df=ea.dataframe()\n",
    "df"
   ]
  },
  {
   "cell_type": "markdown",
   "metadata": {},
   "source": [
    "Or view the best solutions on the objective space, the so called Pareto front:"
   ]
  },
  {
   "cell_type": "code",
   "execution_count": 14,
   "metadata": {},
   "outputs": [
    {
     "data": {
      "image/png": "[encoded data removed]",
      "text/plain": [
       "<Figure size 432x288 with 1 Axes>"
      ]
     },
     "metadata": {
      "needs_background": "light"
     },
     "output_type": "display_data"
    }
   ],
   "source": [
    "ea.plot()"
   ]
  },
  {
   "cell_type": "markdown",
   "metadata": {},
   "source": [
    "We can save the solutions to file:"
   ]
  },
  {
   "cell_type": "code",
   "execution_count": 15,
   "metadata": {},
   "outputs": [],
   "source": [
    "df.to_csv('solutions.csv')"
   ]
  },
  {
   "cell_type": "markdown",
   "metadata": {},
   "source": [
    "or performe additional analysis on the solutions by retreiving the simulator used during the optimization.\n",
    " "
   ]
  },
  {
   "cell_type": "markdown",
   "metadata": {},
   "source": [
    "## Working with solutions\n",
    "\n",
    "Let us select the first solution:"
   ]
  },
  {
   "cell_type": "code",
   "execution_count": 17,
   "metadata": {},
   "outputs": [
    {
     "data": {
      "text/plain": [
       "[0.8572131947589658, 7.38033806993072];{'b3956': 16, 'b3403': 0}"
      ]
     },
     "execution_count": 17,
     "metadata": {},
     "output_type": "execute_result"
    }
   ],
   "source": [
    "#solutions\n",
    "solution = solutions[0]\n",
    "solution"
   ]
  },
  {
   "cell_type": "markdown",
   "metadata": {},
   "source": [
    "The solution is converted to metabolict constraints to be applied to the model. We can access these constrains using *solution.constraints*"
   ]
  },
  {
   "cell_type": "code",
   "execution_count": 18,
   "metadata": {},
   "outputs": [
    {
     "data": {
      "text/plain": [
       "{'PPC': (9.704661580184096, 10000), 'PPCK': (0, 0)}"
      ]
     },
     "execution_count": 18,
     "metadata": {},
     "output_type": "execute_result"
    }
   ],
   "source": [
    "solution.constraints"
   ]
  },
  {
   "cell_type": "markdown",
   "metadata": {},
   "source": [
    "We may run phenotypic simulations with the solution using those constraints. Note that there is no need to redefine the medium as they are persistent in the simulator instance."
   ]
  },
  {
   "cell_type": "code",
   "execution_count": 22,
   "metadata": {},
   "outputs": [
    {
     "data": {
      "text/plain": [
       "objective: 0.0\n",
       "Status: OPTIMAL\n",
       "Constraints: OrderedDict([('EX_o2_e', (0, 0)), ('PPC', (9.704661580184096, 10000)), ('PPCK', (0, 0))])\n",
       "Method:lMOMA"
      ]
     },
     "execution_count": 22,
     "metadata": {},
     "output_type": "execute_result"
    }
   ],
   "source": [
    "sim = problem.simulator\n",
    "res=sim.simulate(constraints=solution.constraints,method='lMOMA')\n",
    "res"
   ]
  },
  {
   "cell_type": "code",
   "execution_count": 23,
   "metadata": {},
   "outputs": [
    {
     "data": {
      "text/html": [
       "<div>\n",
       "<style scoped>\n",
       "    .dataframe tbody tr th:only-of-type {\n",
       "        vertical-align: middle;\n",
       "    }\n",
       "\n",
       "    .dataframe tbody tr th {\n",
       "        vertical-align: top;\n",
       "    }\n",
       "\n",
       "    .dataframe thead th {\n",
       "        text-align: right;\n",
       "    }\n",
       "</style>\n",
       "<table border=\"1\" class=\"dataframe\">\n",
       "  <thead>\n",
       "    <tr style=\"text-align: right;\">\n",
       "      <th></th>\n",
       "      <th>Reaction ID</th>\n",
       "      <th>Flux rate</th>\n",
       "    </tr>\n",
       "  </thead>\n",
       "  <tbody>\n",
       "    <tr>\n",
       "      <th>0</th>\n",
       "      <td>ACALD</td>\n",
       "      <td>-1.675528</td>\n",
       "    </tr>\n",
       "    <tr>\n",
       "      <th>1</th>\n",
       "      <td>ACALDt</td>\n",
       "      <td>0.000000</td>\n",
       "    </tr>\n",
       "    <tr>\n",
       "      <th>2</th>\n",
       "      <td>ACKr</td>\n",
       "      <td>-9.178855</td>\n",
       "    </tr>\n",
       "    <tr>\n",
       "      <th>3</th>\n",
       "      <td>ACONTa</td>\n",
       "      <td>0.125312</td>\n",
       "    </tr>\n",
       "    <tr>\n",
       "      <th>4</th>\n",
       "      <td>ACONTb</td>\n",
       "      <td>0.125312</td>\n",
       "    </tr>\n",
       "    <tr>\n",
       "      <th>...</th>\n",
       "      <td>...</td>\n",
       "      <td>...</td>\n",
       "    </tr>\n",
       "    <tr>\n",
       "      <th>90</th>\n",
       "      <td>TALA</td>\n",
       "      <td>-0.020779</td>\n",
       "    </tr>\n",
       "    <tr>\n",
       "      <th>91</th>\n",
       "      <td>THD2</td>\n",
       "      <td>0.000000</td>\n",
       "    </tr>\n",
       "    <tr>\n",
       "      <th>92</th>\n",
       "      <td>TKT1</td>\n",
       "      <td>-0.020779</td>\n",
       "    </tr>\n",
       "    <tr>\n",
       "      <th>93</th>\n",
       "      <td>TKT2</td>\n",
       "      <td>-0.062708</td>\n",
       "    </tr>\n",
       "    <tr>\n",
       "      <th>94</th>\n",
       "      <td>TPI</td>\n",
       "      <td>9.884467</td>\n",
       "    </tr>\n",
       "  </tbody>\n",
       "</table>\n",
       "<p>95 rows × 2 columns</p>\n",
       "</div>"
      ],
      "text/plain": [
       "   Reaction ID  Flux rate\n",
       "0        ACALD  -1.675528\n",
       "1       ACALDt   0.000000\n",
       "2         ACKr  -9.178855\n",
       "3       ACONTa   0.125312\n",
       "4       ACONTb   0.125312\n",
       "..         ...        ...\n",
       "90        TALA  -0.020779\n",
       "91        THD2   0.000000\n",
       "92        TKT1  -0.020779\n",
       "93        TKT2  -0.062708\n",
       "94         TPI   9.884467\n",
       "\n",
       "[95 rows x 2 columns]"
      ]
     },
     "execution_count": 23,
     "metadata": {},
     "output_type": "execute_result"
    }
   ],
   "source": [
    "res.dataframe"
   ]
  },
  {
   "cell_type": "code",
   "execution_count": 24,
   "metadata": {},
   "outputs": [
    {
     "data": {
      "text/html": [
       "<div>\n",
       "<style scoped>\n",
       "    .dataframe tbody tr th:only-of-type {\n",
       "        vertical-align: middle;\n",
       "    }\n",
       "\n",
       "    .dataframe tbody tr th {\n",
       "        vertical-align: top;\n",
       "    }\n",
       "\n",
       "    .dataframe thead th {\n",
       "        text-align: right;\n",
       "    }\n",
       "</style>\n",
       "<table border=\"1\" class=\"dataframe\">\n",
       "  <thead>\n",
       "    <tr style=\"text-align: right;\">\n",
       "      <th></th>\n",
       "      <th>Reaction ID</th>\n",
       "      <th>Flux rate</th>\n",
       "    </tr>\n",
       "  </thead>\n",
       "  <tbody>\n",
       "    <tr>\n",
       "      <th>0</th>\n",
       "      <td>BIOMASS_Ecoli_core_w_GAM</td>\n",
       "      <td>0.116148</td>\n",
       "    </tr>\n",
       "    <tr>\n",
       "      <th>1</th>\n",
       "      <td>EX_succ_e</td>\n",
       "      <td>7.380338</td>\n",
       "    </tr>\n",
       "  </tbody>\n",
       "</table>\n",
       "</div>"
      ],
      "text/plain": [
       "                Reaction ID  Flux rate\n",
       "0  BIOMASS_Ecoli_core_w_GAM   0.116148\n",
       "1                 EX_succ_e   7.380338"
      ]
     },
     "execution_count": 24,
     "metadata": {},
     "output_type": "execute_result"
    }
   ],
   "source": [
    "res.find([PRODUCT,BIOMASS])"
   ]
  },
  {
   "cell_type": "code",
   "execution_count": null,
   "metadata": {},
   "outputs": [],
   "source": [
    "from mewpy.visualization.envelope import plot_flux_envelope\n",
    "\n",
    "plot_flux_envelope(sim,BIOMASS,PRODUCT,constraints = solution.constraints)"
   ]
  },
  {
   "cell_type": "markdown",
   "metadata": {},
   "source": [
    "## Exercice 1\n",
    "\n",
    "Alter the notebook to run a gene over/under-expression (GOUProblem) optimization task. You may also try other optimization objectives (replacing or adding new objectives) such as `CandidateSize`, `ModificationType` or `BPCY_FVA`."
   ]
  },
  {
   "cell_type": "markdown",
   "metadata": {},
   "source": [
    "## Exercice 2\n",
    "\n",
    "Alter the notebook to find possible genetic modifications for the increased production of ethanol (EX_etoh_e)"
   ]
  },
  {
   "cell_type": "markdown",
   "metadata": {},
   "source": [
    "# Simulating user defined modifications\n",
    "\n",
    "Genetic modifications at the gene, enzyme, transcription or regulatory levels need to be translated to the (pseudo) reaction level. This task is problem dependent and consequently requires the instantiation of a problem. If we do not intend run any optimization task, there is no need to define optimization objectives."
   ]
  },
  {
   "cell_type": "code",
   "execution_count": null,
   "metadata": {},
   "outputs": [],
   "source": [
    "problem = GOUProblem(model,[], envcond=anaerobic)\n",
    "sim = problem.simulator"
   ]
  },
  {
   "cell_type": "markdown",
   "metadata": {},
   "source": [
    "A solution for a GOUProblem is a dictionary of genes' expression folds, e.g.:"
   ]
  },
  {
   "cell_type": "code",
   "execution_count": null,
   "metadata": {},
   "outputs": [],
   "source": [
    "solution = {'b3956': 8, 'b2914': 4}"
   ]
  },
  {
   "cell_type": "markdown",
   "metadata": {},
   "source": [
    "You may get information on the genes using the simulator find functions"
   ]
  },
  {
   "cell_type": "code",
   "execution_count": null,
   "metadata": {},
   "outputs": [],
   "source": [
    "sim.find_genes('b3956|b2914')"
   ]
  },
  {
   "cell_type": "markdown",
   "metadata": {},
   "source": [
    "The gene expressions are converted by the problem into reaction constraints:"
   ]
  },
  {
   "cell_type": "code",
   "execution_count": null,
   "metadata": {},
   "outputs": [],
   "source": [
    "constraints = problem.solution_to_constraints(solution)\n",
    "constraints"
   ]
  },
  {
   "cell_type": "markdown",
   "metadata": {},
   "source": [
    "that are used to run phenotypic simulations:"
   ]
  },
  {
   "cell_type": "code",
   "execution_count": null,
   "metadata": {},
   "outputs": [],
   "source": [
    "sim.simulate(constraints=constraints).find()"
   ]
  },
  {
   "cell_type": "markdown",
   "metadata": {},
   "source": [
    "This functionality allows, for example, to simulate a same genetic modification on different methods or using other GEMs."
   ]
  }
 ],
 "metadata": {
  "kernelspec": {
   "display_name": "Python 3 (ipykernel)",
   "language": "python",
   "name": "python3"
  },
  "language_info": {
   "codemirror_mode": {
    "name": "ipython",
    "version": 3
   },
   "file_extension": ".py",
   "mimetype": "text/x-python",
   "name": "python",
   "nbconvert_exporter": "python",
   "pygments_lexer": "ipython3",
   "version": "3.7.11"
  }
 },
 "nbformat": 4,
 "nbformat_minor": 4
}
