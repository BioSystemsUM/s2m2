{
 "cells": [
  {
   "cell_type": "markdown",
   "metadata": {},
   "source": [
    "# MEWpy Simulation \n",
    "\n",
    "This notebook exemplifies how MEWpy may be used for phenotype simulation."
   ]
  },
  {
   "cell_type": "markdown",
   "metadata": {},
   "source": [
    "Models can be loaded using MEW, REFRAMED, or COBRApy. \n",
    "\n",
    "Load a model using REFRAMED: "
   ]
  },
  {
   "cell_type": "code",
   "execution_count": 6,
   "metadata": {},
   "outputs": [],
   "source": [
    "! pip install mewpy --upgrade --quiet"
   ]
  },
  {
   "cell_type": "code",
   "execution_count": 3,
   "metadata": {},
   "outputs": [
    {
     "name": "stdout",
     "output_type": "stream",
     "text": [
      "MEWpy version: 0.1.16\n",
      "Author: BiSBII CEB University of Minho\n",
      "Contact: vpereira@ceb.uminho.pt \n",
      "\n",
      "Available LP solvers: cplex glpk\n",
      "Default LP solver: cplex \n",
      "\n",
      "Available ODE solvers: scipy\n",
      "Default ODE solver: scipy \n",
      "\n",
      "Optimization Problems: AbstractKOProblem AbstractOUProblem CommunityKOProblem ETFLGKOProblem ETFLGOUProblem GKOProblem GOUProblem GeckoKOProblem GeckoOUProblem KineticKOProblem KineticOUProblem MediumProblem OptORFProblem OptRamProblem RKOProblem ROUProblem\n",
      "\n",
      "Available EA engines: inspyred jmetal\n",
      "Default EA engine: jmetal\n",
      "Available EAs: GA NSGAII NSGAIII SA SPEA2 \n",
      "\n"
     ]
    }
   ],
   "source": [
    "import mewpy\n",
    "mewpy.info()"
   ]
  },
  {
   "cell_type": "markdown",
   "metadata": {},
   "source": [
    "IMPORTANT: The notebooks require a MEWpy version >= 0.1.16"
   ]
  },
  {
   "cell_type": "code",
   "execution_count": null,
   "metadata": {},
   "outputs": [],
   "source": [
    "from reframed.io.sbml import load_cbmodel\n",
    "model = load_cbmodel('data/e_coli_core.xml.gz')"
   ]
  },
  {
   "cell_type": "markdown",
   "metadata": {},
   "source": [
    "or using COBRApy:"
   ]
  },
  {
   "cell_type": "code",
   "execution_count": 7,
   "metadata": {},
   "outputs": [],
   "source": [
    "from cobra.io import read_sbml_model\n",
    "model = read_sbml_model('data/e_coli_core.xml.gz')"
   ]
  },
  {
   "cell_type": "markdown",
   "metadata": {},
   "source": [
    "A simulator object provides a common interface to realize the main phenotype analysis tasks. The *get_simulator* function returns a simulator, a wrapper,  for the provided model. The simulator interface remains the same regardless of how the model was loaded, using REFRAMED or COBRApy. This simplify the use of both environments and ease the management of future changes and deprecation on their APIs.\n"
   ]
  },
  {
   "cell_type": "code",
   "execution_count": 8,
   "metadata": {},
   "outputs": [],
   "source": [
    "from mewpy.simulation import get_simulator\n",
    "simul = get_simulator(model)"
   ]
  },
  {
   "cell_type": "markdown",
   "metadata": {},
   "source": [
    "The simulator offers a wide API, and enable to perform basic tasks, such as, list  metabolites, reactions, genes, compartments, uptake reactions, and transport reactions:"
   ]
  },
  {
   "cell_type": "code",
   "execution_count": 9,
   "metadata": {},
   "outputs": [
    {
     "data": {
      "text/plain": [
       "['glc__D_e',\n",
       " 'gln__L_c',\n",
       " 'gln__L_e',\n",
       " 'glu__L_c',\n",
       " 'glu__L_e',\n",
       " 'glx_c',\n",
       " 'h2o_c',\n",
       " 'h2o_e',\n",
       " 'h_c',\n",
       " 'h_e']"
      ]
     },
     "execution_count": 9,
     "metadata": {},
     "output_type": "execute_result"
    }
   ],
   "source": [
    "# first 10 metabolites\n",
    "simul.metabolites[:10]"
   ]
  },
  {
   "cell_type": "code",
   "execution_count": 10,
   "metadata": {},
   "outputs": [
    {
     "data": {
      "text/plain": [
       "['ACALD',\n",
       " 'ACALDt',\n",
       " 'ACKr',\n",
       " 'ACONTa',\n",
       " 'ACONTb',\n",
       " 'ACt2r',\n",
       " 'ADK1',\n",
       " 'AKGDH',\n",
       " 'AKGt2r',\n",
       " 'ALCD2x']"
      ]
     },
     "execution_count": 10,
     "metadata": {},
     "output_type": "execute_result"
    }
   ],
   "source": [
    "# first 10 metabolites\n",
    "simul.reactions[:10]"
   ]
  },
  {
   "cell_type": "code",
   "execution_count": 11,
   "metadata": {},
   "outputs": [
    {
     "data": {
      "text/plain": [
       "['b1241',\n",
       " 'b0351',\n",
       " 's0001',\n",
       " 'b2296',\n",
       " 'b1849',\n",
       " 'b3115',\n",
       " 'b0118',\n",
       " 'b1276',\n",
       " 'b0474',\n",
       " 'b0726']"
      ]
     },
     "execution_count": 11,
     "metadata": {},
     "output_type": "execute_result"
    }
   ],
   "source": [
    "# first 10 genes\n",
    "simul.genes[:10]"
   ]
  },
  {
   "cell_type": "code",
   "execution_count": 12,
   "metadata": {},
   "outputs": [
    {
     "data": {
      "text/plain": [
       "{'e': 'extracellular space', 'c': 'cytosol'}"
      ]
     },
     "execution_count": 12,
     "metadata": {},
     "output_type": "execute_result"
    }
   ],
   "source": [
    "simul.compartments"
   ]
  },
  {
   "cell_type": "markdown",
   "metadata": {},
   "source": [
    "For a more compreensive look at the list of reactions, you may use the `find` function, without any parameters (list all reactions), or by adding a _filter_:"
   ]
  },
  {
   "cell_type": "code",
   "execution_count": 13,
   "metadata": {},
   "outputs": [
    {
     "data": {
      "text/html": [
       "<div>\n",
       "<style scoped>\n",
       "    .dataframe tbody tr th:only-of-type {\n",
       "        vertical-align: middle;\n",
       "    }\n",
       "\n",
       "    .dataframe tbody tr th {\n",
       "        vertical-align: top;\n",
       "    }\n",
       "\n",
       "    .dataframe thead th {\n",
       "        text-align: right;\n",
       "    }\n",
       "</style>\n",
       "<table border=\"1\" class=\"dataframe\">\n",
       "  <thead>\n",
       "    <tr style=\"text-align: right;\">\n",
       "      <th></th>\n",
       "      <th>id</th>\n",
       "      <th>name</th>\n",
       "      <th>lb</th>\n",
       "      <th>ub</th>\n",
       "      <th>stoichiometry</th>\n",
       "      <th>gpr</th>\n",
       "    </tr>\n",
       "  </thead>\n",
       "  <tbody>\n",
       "    <tr>\n",
       "      <th>0</th>\n",
       "      <td>ACALD</td>\n",
       "      <td>Acetaldehyde dehydrogenase (acetylating)</td>\n",
       "      <td>-1000.0</td>\n",
       "      <td>1000.0</td>\n",
       "      <td>{'acald_c': -1.0, 'coa_c': -1.0, 'nad_c': -1.0...</td>\n",
       "      <td>b0351 or b1241</td>\n",
       "    </tr>\n",
       "    <tr>\n",
       "      <th>1</th>\n",
       "      <td>ACALDt</td>\n",
       "      <td>Acetaldehyde reversible transport</td>\n",
       "      <td>-1000.0</td>\n",
       "      <td>1000.0</td>\n",
       "      <td>{'acald_e': -1.0, 'acald_c': 1.0}</td>\n",
       "      <td>s0001</td>\n",
       "    </tr>\n",
       "    <tr>\n",
       "      <th>2</th>\n",
       "      <td>ACKr</td>\n",
       "      <td>Acetate kinase</td>\n",
       "      <td>-1000.0</td>\n",
       "      <td>1000.0</td>\n",
       "      <td>{'ac_c': -1.0, 'atp_c': -1.0, 'actp_c': 1.0, '...</td>\n",
       "      <td>b2296 or b3115 or b1849</td>\n",
       "    </tr>\n",
       "    <tr>\n",
       "      <th>3</th>\n",
       "      <td>ACONTa</td>\n",
       "      <td>Aconitase (half-reaction A, Citrate hydro-lyase)</td>\n",
       "      <td>-1000.0</td>\n",
       "      <td>1000.0</td>\n",
       "      <td>{'cit_c': -1.0, 'acon_C_c': 1.0, 'h2o_c': 1.0}</td>\n",
       "      <td>b0118 or b1276</td>\n",
       "    </tr>\n",
       "    <tr>\n",
       "      <th>4</th>\n",
       "      <td>ACONTb</td>\n",
       "      <td>Aconitase (half-reaction B, Isocitrate hydro-l...</td>\n",
       "      <td>-1000.0</td>\n",
       "      <td>1000.0</td>\n",
       "      <td>{'acon_C_c': -1.0, 'h2o_c': -1.0, 'icit_c': 1.0}</td>\n",
       "      <td>b0118 or b1276</td>\n",
       "    </tr>\n",
       "    <tr>\n",
       "      <th>...</th>\n",
       "      <td>...</td>\n",
       "      <td>...</td>\n",
       "      <td>...</td>\n",
       "      <td>...</td>\n",
       "      <td>...</td>\n",
       "      <td>...</td>\n",
       "    </tr>\n",
       "    <tr>\n",
       "      <th>90</th>\n",
       "      <td>TALA</td>\n",
       "      <td>Transaldolase</td>\n",
       "      <td>-1000.0</td>\n",
       "      <td>1000.0</td>\n",
       "      <td>{'g3p_c': -1.0, 's7p_c': -1.0, 'e4p_c': 1.0, '...</td>\n",
       "      <td>b2464 or b0008</td>\n",
       "    </tr>\n",
       "    <tr>\n",
       "      <th>91</th>\n",
       "      <td>THD2</td>\n",
       "      <td>NAD(P) transhydrogenase</td>\n",
       "      <td>0.0</td>\n",
       "      <td>1000.0</td>\n",
       "      <td>{'h_e': -2.0, 'nadh_c': -1.0, 'nadp_c': -1.0, ...</td>\n",
       "      <td>b1602 and b1603</td>\n",
       "    </tr>\n",
       "    <tr>\n",
       "      <th>92</th>\n",
       "      <td>TKT1</td>\n",
       "      <td>Transketolase</td>\n",
       "      <td>-1000.0</td>\n",
       "      <td>1000.0</td>\n",
       "      <td>{'r5p_c': -1.0, 'xu5p__D_c': -1.0, 'g3p_c': 1....</td>\n",
       "      <td>b2935 or b2465</td>\n",
       "    </tr>\n",
       "    <tr>\n",
       "      <th>93</th>\n",
       "      <td>TKT2</td>\n",
       "      <td>Transketolase</td>\n",
       "      <td>-1000.0</td>\n",
       "      <td>1000.0</td>\n",
       "      <td>{'e4p_c': -1.0, 'xu5p__D_c': -1.0, 'f6p_c': 1....</td>\n",
       "      <td>b2935 or b2465</td>\n",
       "    </tr>\n",
       "    <tr>\n",
       "      <th>94</th>\n",
       "      <td>TPI</td>\n",
       "      <td>Triose-phosphate isomerase</td>\n",
       "      <td>-1000.0</td>\n",
       "      <td>1000.0</td>\n",
       "      <td>{'dhap_c': -1.0, 'g3p_c': 1.0}</td>\n",
       "      <td>b3919</td>\n",
       "    </tr>\n",
       "  </tbody>\n",
       "</table>\n",
       "<p>95 rows × 6 columns</p>\n",
       "</div>"
      ],
      "text/plain": [
       "        id                                               name      lb      ub  \\\n",
       "0    ACALD           Acetaldehyde dehydrogenase (acetylating) -1000.0  1000.0   \n",
       "1   ACALDt                  Acetaldehyde reversible transport -1000.0  1000.0   \n",
       "2     ACKr                                     Acetate kinase -1000.0  1000.0   \n",
       "3   ACONTa   Aconitase (half-reaction A, Citrate hydro-lyase) -1000.0  1000.0   \n",
       "4   ACONTb  Aconitase (half-reaction B, Isocitrate hydro-l... -1000.0  1000.0   \n",
       "..     ...                                                ...     ...     ...   \n",
       "90    TALA                                      Transaldolase -1000.0  1000.0   \n",
       "91    THD2                            NAD(P) transhydrogenase     0.0  1000.0   \n",
       "92    TKT1                                      Transketolase -1000.0  1000.0   \n",
       "93    TKT2                                      Transketolase -1000.0  1000.0   \n",
       "94     TPI                         Triose-phosphate isomerase -1000.0  1000.0   \n",
       "\n",
       "                                        stoichiometry                      gpr  \n",
       "0   {'acald_c': -1.0, 'coa_c': -1.0, 'nad_c': -1.0...           b0351 or b1241  \n",
       "1                   {'acald_e': -1.0, 'acald_c': 1.0}                    s0001  \n",
       "2   {'ac_c': -1.0, 'atp_c': -1.0, 'actp_c': 1.0, '...  b2296 or b3115 or b1849  \n",
       "3      {'cit_c': -1.0, 'acon_C_c': 1.0, 'h2o_c': 1.0}           b0118 or b1276  \n",
       "4    {'acon_C_c': -1.0, 'h2o_c': -1.0, 'icit_c': 1.0}           b0118 or b1276  \n",
       "..                                                ...                      ...  \n",
       "90  {'g3p_c': -1.0, 's7p_c': -1.0, 'e4p_c': 1.0, '...           b2464 or b0008  \n",
       "91  {'h_e': -2.0, 'nadh_c': -1.0, 'nadp_c': -1.0, ...          b1602 and b1603  \n",
       "92  {'r5p_c': -1.0, 'xu5p__D_c': -1.0, 'g3p_c': 1....           b2935 or b2465  \n",
       "93  {'e4p_c': -1.0, 'xu5p__D_c': -1.0, 'f6p_c': 1....           b2935 or b2465  \n",
       "94                     {'dhap_c': -1.0, 'g3p_c': 1.0}                    b3919  \n",
       "\n",
       "[95 rows x 6 columns]"
      ]
     },
     "execution_count": 13,
     "metadata": {},
     "output_type": "execute_result"
    }
   ],
   "source": [
    "simul.find()"
   ]
  },
  {
   "cell_type": "code",
   "execution_count": 14,
   "metadata": {},
   "outputs": [
    {
     "data": {
      "text/html": [
       "<div>\n",
       "<style scoped>\n",
       "    .dataframe tbody tr th:only-of-type {\n",
       "        vertical-align: middle;\n",
       "    }\n",
       "\n",
       "    .dataframe tbody tr th {\n",
       "        vertical-align: top;\n",
       "    }\n",
       "\n",
       "    .dataframe thead th {\n",
       "        text-align: right;\n",
       "    }\n",
       "</style>\n",
       "<table border=\"1\" class=\"dataframe\">\n",
       "  <thead>\n",
       "    <tr style=\"text-align: right;\">\n",
       "      <th></th>\n",
       "      <th>id</th>\n",
       "      <th>name</th>\n",
       "      <th>lb</th>\n",
       "      <th>ub</th>\n",
       "      <th>stoichiometry</th>\n",
       "      <th>gpr</th>\n",
       "    </tr>\n",
       "  </thead>\n",
       "  <tbody>\n",
       "    <tr>\n",
       "      <th>0</th>\n",
       "      <td>BIOMASS_Ecoli_core_w_GAM</td>\n",
       "      <td>Biomass Objective Function with GAM</td>\n",
       "      <td>0.0</td>\n",
       "      <td>1000.0</td>\n",
       "      <td>{'3pg_c': -1.496, 'accoa_c': -3.7478, 'atp_c':...</td>\n",
       "      <td></td>\n",
       "    </tr>\n",
       "    <tr>\n",
       "      <th>1</th>\n",
       "      <td>EX_ac_e</td>\n",
       "      <td>Acetate exchange</td>\n",
       "      <td>0.0</td>\n",
       "      <td>1000.0</td>\n",
       "      <td>{'ac_e': -1.0}</td>\n",
       "      <td></td>\n",
       "    </tr>\n",
       "    <tr>\n",
       "      <th>2</th>\n",
       "      <td>EX_acald_e</td>\n",
       "      <td>Acetaldehyde exchange</td>\n",
       "      <td>0.0</td>\n",
       "      <td>1000.0</td>\n",
       "      <td>{'acald_e': -1.0}</td>\n",
       "      <td></td>\n",
       "    </tr>\n",
       "    <tr>\n",
       "      <th>3</th>\n",
       "      <td>EX_akg_e</td>\n",
       "      <td>2-Oxoglutarate exchange</td>\n",
       "      <td>0.0</td>\n",
       "      <td>1000.0</td>\n",
       "      <td>{'akg_e': -1.0}</td>\n",
       "      <td></td>\n",
       "    </tr>\n",
       "    <tr>\n",
       "      <th>4</th>\n",
       "      <td>EX_co2_e</td>\n",
       "      <td>CO2 exchange</td>\n",
       "      <td>-1000.0</td>\n",
       "      <td>1000.0</td>\n",
       "      <td>{'co2_e': -1.0}</td>\n",
       "      <td></td>\n",
       "    </tr>\n",
       "    <tr>\n",
       "      <th>5</th>\n",
       "      <td>EX_etoh_e</td>\n",
       "      <td>Ethanol exchange</td>\n",
       "      <td>0.0</td>\n",
       "      <td>1000.0</td>\n",
       "      <td>{'etoh_e': -1.0}</td>\n",
       "      <td></td>\n",
       "    </tr>\n",
       "    <tr>\n",
       "      <th>6</th>\n",
       "      <td>EX_for_e</td>\n",
       "      <td>Formate exchange</td>\n",
       "      <td>0.0</td>\n",
       "      <td>1000.0</td>\n",
       "      <td>{'for_e': -1.0}</td>\n",
       "      <td></td>\n",
       "    </tr>\n",
       "    <tr>\n",
       "      <th>7</th>\n",
       "      <td>EX_fru_e</td>\n",
       "      <td>D-Fructose exchange</td>\n",
       "      <td>0.0</td>\n",
       "      <td>1000.0</td>\n",
       "      <td>{'fru_e': -1.0}</td>\n",
       "      <td></td>\n",
       "    </tr>\n",
       "    <tr>\n",
       "      <th>8</th>\n",
       "      <td>EX_fum_e</td>\n",
       "      <td>Fumarate exchange</td>\n",
       "      <td>0.0</td>\n",
       "      <td>1000.0</td>\n",
       "      <td>{'fum_e': -1.0}</td>\n",
       "      <td></td>\n",
       "    </tr>\n",
       "    <tr>\n",
       "      <th>9</th>\n",
       "      <td>EX_glc__D_e</td>\n",
       "      <td>D-Glucose exchange</td>\n",
       "      <td>-10.0</td>\n",
       "      <td>1000.0</td>\n",
       "      <td>{'glc__D_e': -1.0}</td>\n",
       "      <td></td>\n",
       "    </tr>\n",
       "    <tr>\n",
       "      <th>10</th>\n",
       "      <td>EX_gln__L_e</td>\n",
       "      <td>L-Glutamine exchange</td>\n",
       "      <td>0.0</td>\n",
       "      <td>1000.0</td>\n",
       "      <td>{'gln__L_e': -1.0}</td>\n",
       "      <td></td>\n",
       "    </tr>\n",
       "    <tr>\n",
       "      <th>11</th>\n",
       "      <td>EX_glu__L_e</td>\n",
       "      <td>L-Glutamate exchange</td>\n",
       "      <td>0.0</td>\n",
       "      <td>1000.0</td>\n",
       "      <td>{'glu__L_e': -1.0}</td>\n",
       "      <td></td>\n",
       "    </tr>\n",
       "    <tr>\n",
       "      <th>12</th>\n",
       "      <td>EX_h_e</td>\n",
       "      <td>H+ exchange</td>\n",
       "      <td>-1000.0</td>\n",
       "      <td>1000.0</td>\n",
       "      <td>{'h_e': -1.0}</td>\n",
       "      <td></td>\n",
       "    </tr>\n",
       "    <tr>\n",
       "      <th>13</th>\n",
       "      <td>EX_h2o_e</td>\n",
       "      <td>H2O exchange</td>\n",
       "      <td>-1000.0</td>\n",
       "      <td>1000.0</td>\n",
       "      <td>{'h2o_e': -1.0}</td>\n",
       "      <td></td>\n",
       "    </tr>\n",
       "    <tr>\n",
       "      <th>14</th>\n",
       "      <td>EX_lac__D_e</td>\n",
       "      <td>D-lactate exchange</td>\n",
       "      <td>0.0</td>\n",
       "      <td>1000.0</td>\n",
       "      <td>{'lac__D_e': -1.0}</td>\n",
       "      <td></td>\n",
       "    </tr>\n",
       "    <tr>\n",
       "      <th>15</th>\n",
       "      <td>EX_mal__L_e</td>\n",
       "      <td>L-Malate exchange</td>\n",
       "      <td>0.0</td>\n",
       "      <td>1000.0</td>\n",
       "      <td>{'mal__L_e': -1.0}</td>\n",
       "      <td></td>\n",
       "    </tr>\n",
       "    <tr>\n",
       "      <th>16</th>\n",
       "      <td>EX_nh4_e</td>\n",
       "      <td>Ammonia exchange</td>\n",
       "      <td>-1000.0</td>\n",
       "      <td>1000.0</td>\n",
       "      <td>{'nh4_e': -1.0}</td>\n",
       "      <td></td>\n",
       "    </tr>\n",
       "    <tr>\n",
       "      <th>17</th>\n",
       "      <td>EX_o2_e</td>\n",
       "      <td>O2 exchange</td>\n",
       "      <td>-1000.0</td>\n",
       "      <td>1000.0</td>\n",
       "      <td>{'o2_e': -1.0}</td>\n",
       "      <td></td>\n",
       "    </tr>\n",
       "    <tr>\n",
       "      <th>18</th>\n",
       "      <td>EX_pi_e</td>\n",
       "      <td>Phosphate exchange</td>\n",
       "      <td>-1000.0</td>\n",
       "      <td>1000.0</td>\n",
       "      <td>{'pi_e': -1.0}</td>\n",
       "      <td></td>\n",
       "    </tr>\n",
       "    <tr>\n",
       "      <th>19</th>\n",
       "      <td>EX_pyr_e</td>\n",
       "      <td>Pyruvate exchange</td>\n",
       "      <td>0.0</td>\n",
       "      <td>1000.0</td>\n",
       "      <td>{'pyr_e': -1.0}</td>\n",
       "      <td></td>\n",
       "    </tr>\n",
       "    <tr>\n",
       "      <th>20</th>\n",
       "      <td>EX_succ_e</td>\n",
       "      <td>Succinate exchange</td>\n",
       "      <td>0.0</td>\n",
       "      <td>1000.0</td>\n",
       "      <td>{'succ_e': -1.0}</td>\n",
       "      <td></td>\n",
       "    </tr>\n",
       "  </tbody>\n",
       "</table>\n",
       "</div>"
      ],
      "text/plain": [
       "                          id                                 name      lb  \\\n",
       "0   BIOMASS_Ecoli_core_w_GAM  Biomass Objective Function with GAM     0.0   \n",
       "1                    EX_ac_e                     Acetate exchange     0.0   \n",
       "2                 EX_acald_e                Acetaldehyde exchange     0.0   \n",
       "3                   EX_akg_e              2-Oxoglutarate exchange     0.0   \n",
       "4                   EX_co2_e                         CO2 exchange -1000.0   \n",
       "5                  EX_etoh_e                     Ethanol exchange     0.0   \n",
       "6                   EX_for_e                     Formate exchange     0.0   \n",
       "7                   EX_fru_e                  D-Fructose exchange     0.0   \n",
       "8                   EX_fum_e                    Fumarate exchange     0.0   \n",
       "9                EX_glc__D_e                   D-Glucose exchange   -10.0   \n",
       "10               EX_gln__L_e                 L-Glutamine exchange     0.0   \n",
       "11               EX_glu__L_e                 L-Glutamate exchange     0.0   \n",
       "12                    EX_h_e                          H+ exchange -1000.0   \n",
       "13                  EX_h2o_e                         H2O exchange -1000.0   \n",
       "14               EX_lac__D_e                   D-lactate exchange     0.0   \n",
       "15               EX_mal__L_e                    L-Malate exchange     0.0   \n",
       "16                  EX_nh4_e                     Ammonia exchange -1000.0   \n",
       "17                   EX_o2_e                          O2 exchange -1000.0   \n",
       "18                   EX_pi_e                   Phosphate exchange -1000.0   \n",
       "19                  EX_pyr_e                    Pyruvate exchange     0.0   \n",
       "20                 EX_succ_e                   Succinate exchange     0.0   \n",
       "\n",
       "        ub                                      stoichiometry gpr  \n",
       "0   1000.0  {'3pg_c': -1.496, 'accoa_c': -3.7478, 'atp_c':...      \n",
       "1   1000.0                                     {'ac_e': -1.0}      \n",
       "2   1000.0                                  {'acald_e': -1.0}      \n",
       "3   1000.0                                    {'akg_e': -1.0}      \n",
       "4   1000.0                                    {'co2_e': -1.0}      \n",
       "5   1000.0                                   {'etoh_e': -1.0}      \n",
       "6   1000.0                                    {'for_e': -1.0}      \n",
       "7   1000.0                                    {'fru_e': -1.0}      \n",
       "8   1000.0                                    {'fum_e': -1.0}      \n",
       "9   1000.0                                 {'glc__D_e': -1.0}      \n",
       "10  1000.0                                 {'gln__L_e': -1.0}      \n",
       "11  1000.0                                 {'glu__L_e': -1.0}      \n",
       "12  1000.0                                      {'h_e': -1.0}      \n",
       "13  1000.0                                    {'h2o_e': -1.0}      \n",
       "14  1000.0                                 {'lac__D_e': -1.0}      \n",
       "15  1000.0                                 {'mal__L_e': -1.0}      \n",
       "16  1000.0                                    {'nh4_e': -1.0}      \n",
       "17  1000.0                                     {'o2_e': -1.0}      \n",
       "18  1000.0                                     {'pi_e': -1.0}      \n",
       "19  1000.0                                    {'pyr_e': -1.0}      \n",
       "20  1000.0                                   {'succ_e': -1.0}      "
      ]
     },
     "execution_count": 14,
     "metadata": {},
     "output_type": "execute_result"
    }
   ],
   "source": [
    "simul.find(['EX_','BIO'])"
   ]
  },
  {
   "cell_type": "code",
   "execution_count": 16,
   "metadata": {},
   "outputs": [
    {
     "data": {
      "text/html": [
       "<div>\n",
       "<style scoped>\n",
       "    .dataframe tbody tr th:only-of-type {\n",
       "        vertical-align: middle;\n",
       "    }\n",
       "\n",
       "    .dataframe tbody tr th {\n",
       "        vertical-align: top;\n",
       "    }\n",
       "\n",
       "    .dataframe thead th {\n",
       "        text-align: right;\n",
       "    }\n",
       "</style>\n",
       "<table border=\"1\" class=\"dataframe\">\n",
       "  <thead>\n",
       "    <tr style=\"text-align: right;\">\n",
       "      <th></th>\n",
       "      <th>id</th>\n",
       "      <th>name</th>\n",
       "      <th>compartment</th>\n",
       "      <th>formula</th>\n",
       "    </tr>\n",
       "  </thead>\n",
       "  <tbody>\n",
       "    <tr>\n",
       "      <th>0</th>\n",
       "      <td>glc__D_e</td>\n",
       "      <td>D-Glucose</td>\n",
       "      <td>e</td>\n",
       "      <td>C6H12O6</td>\n",
       "    </tr>\n",
       "  </tbody>\n",
       "</table>\n",
       "</div>"
      ],
      "text/plain": [
       "         id       name compartment  formula\n",
       "0  glc__D_e  D-Glucose           e  C6H12O6"
      ]
     },
     "execution_count": 16,
     "metadata": {},
     "output_type": "execute_result"
    }
   ],
   "source": [
    "# metabolites\n",
    "simul.find_metabolites('glc')"
   ]
  },
  {
   "cell_type": "code",
   "execution_count": 17,
   "metadata": {},
   "outputs": [
    {
     "data": {
      "text/html": [
       "<div>\n",
       "<style scoped>\n",
       "    .dataframe tbody tr th:only-of-type {\n",
       "        vertical-align: middle;\n",
       "    }\n",
       "\n",
       "    .dataframe tbody tr th {\n",
       "        vertical-align: top;\n",
       "    }\n",
       "\n",
       "    .dataframe thead th {\n",
       "        text-align: right;\n",
       "    }\n",
       "</style>\n",
       "<table border=\"1\" class=\"dataframe\">\n",
       "  <thead>\n",
       "    <tr style=\"text-align: right;\">\n",
       "      <th></th>\n",
       "      <th>id</th>\n",
       "      <th>name</th>\n",
       "      <th>reactions</th>\n",
       "    </tr>\n",
       "  </thead>\n",
       "  <tbody>\n",
       "    <tr>\n",
       "      <th>0</th>\n",
       "      <td>b1241</td>\n",
       "      <td></td>\n",
       "      <td>[ACALD, ALCD2x]</td>\n",
       "    </tr>\n",
       "    <tr>\n",
       "      <th>1</th>\n",
       "      <td>b0351</td>\n",
       "      <td></td>\n",
       "      <td>[ACALD]</td>\n",
       "    </tr>\n",
       "    <tr>\n",
       "      <th>2</th>\n",
       "      <td>s0001</td>\n",
       "      <td></td>\n",
       "      <td>[ACALDt, CO2t, H2Ot, NH4t, O2t]</td>\n",
       "    </tr>\n",
       "    <tr>\n",
       "      <th>3</th>\n",
       "      <td>b2296</td>\n",
       "      <td></td>\n",
       "      <td>[ACKr]</td>\n",
       "    </tr>\n",
       "    <tr>\n",
       "      <th>4</th>\n",
       "      <td>b1849</td>\n",
       "      <td></td>\n",
       "      <td>[ACKr]</td>\n",
       "    </tr>\n",
       "    <tr>\n",
       "      <th>...</th>\n",
       "      <td>...</td>\n",
       "      <td>...</td>\n",
       "      <td>...</td>\n",
       "    </tr>\n",
       "    <tr>\n",
       "      <th>132</th>\n",
       "      <td>b2464</td>\n",
       "      <td></td>\n",
       "      <td>[TALA]</td>\n",
       "    </tr>\n",
       "    <tr>\n",
       "      <th>133</th>\n",
       "      <td>b0008</td>\n",
       "      <td></td>\n",
       "      <td>[TALA]</td>\n",
       "    </tr>\n",
       "    <tr>\n",
       "      <th>134</th>\n",
       "      <td>b2935</td>\n",
       "      <td></td>\n",
       "      <td>[TKT1, TKT2]</td>\n",
       "    </tr>\n",
       "    <tr>\n",
       "      <th>135</th>\n",
       "      <td>b2465</td>\n",
       "      <td></td>\n",
       "      <td>[TKT1, TKT2]</td>\n",
       "    </tr>\n",
       "    <tr>\n",
       "      <th>136</th>\n",
       "      <td>b3919</td>\n",
       "      <td></td>\n",
       "      <td>[TPI]</td>\n",
       "    </tr>\n",
       "  </tbody>\n",
       "</table>\n",
       "<p>137 rows × 3 columns</p>\n",
       "</div>"
      ],
      "text/plain": [
       "        id name                        reactions\n",
       "0    b1241                       [ACALD, ALCD2x]\n",
       "1    b0351                               [ACALD]\n",
       "2    s0001       [ACALDt, CO2t, H2Ot, NH4t, O2t]\n",
       "3    b2296                                [ACKr]\n",
       "4    b1849                                [ACKr]\n",
       "..     ...  ...                              ...\n",
       "132  b2464                                [TALA]\n",
       "133  b0008                                [TALA]\n",
       "134  b2935                          [TKT1, TKT2]\n",
       "135  b2465                          [TKT1, TKT2]\n",
       "136  b3919                                 [TPI]\n",
       "\n",
       "[137 rows x 3 columns]"
      ]
     },
     "execution_count": 17,
     "metadata": {},
     "output_type": "execute_result"
    }
   ],
   "source": [
    "# metabolites\n",
    "simul.find_genes()"
   ]
  },
  {
   "cell_type": "markdown",
   "metadata": {},
   "source": [
    "Listing the uptake reactions:"
   ]
  },
  {
   "cell_type": "code",
   "execution_count": 18,
   "metadata": {},
   "outputs": [
    {
     "data": {
      "text/plain": [
       "['EX_co2_e',\n",
       " 'EX_glc__D_e',\n",
       " 'EX_h_e',\n",
       " 'EX_h2o_e',\n",
       " 'EX_nh4_e',\n",
       " 'EX_o2_e',\n",
       " 'EX_pi_e']"
      ]
     },
     "execution_count": 18,
     "metadata": {},
     "output_type": "execute_result"
    }
   ],
   "source": [
    "simul.get_uptake_reactions()"
   ]
  },
  {
   "cell_type": "code",
   "execution_count": 19,
   "metadata": {},
   "outputs": [
    {
     "data": {
      "text/html": [
       "<div>\n",
       "<style scoped>\n",
       "    .dataframe tbody tr th:only-of-type {\n",
       "        vertical-align: middle;\n",
       "    }\n",
       "\n",
       "    .dataframe tbody tr th {\n",
       "        vertical-align: top;\n",
       "    }\n",
       "\n",
       "    .dataframe thead th {\n",
       "        text-align: right;\n",
       "    }\n",
       "</style>\n",
       "<table border=\"1\" class=\"dataframe\">\n",
       "  <thead>\n",
       "    <tr style=\"text-align: right;\">\n",
       "      <th></th>\n",
       "      <th>id</th>\n",
       "      <th>name</th>\n",
       "      <th>lb</th>\n",
       "      <th>ub</th>\n",
       "      <th>stoichiometry</th>\n",
       "      <th>gpr</th>\n",
       "    </tr>\n",
       "  </thead>\n",
       "  <tbody>\n",
       "    <tr>\n",
       "      <th>0</th>\n",
       "      <td>EX_co2_e</td>\n",
       "      <td>CO2 exchange</td>\n",
       "      <td>-1000.0</td>\n",
       "      <td>1000.0</td>\n",
       "      <td>{'co2_e': -1.0}</td>\n",
       "      <td></td>\n",
       "    </tr>\n",
       "    <tr>\n",
       "      <th>1</th>\n",
       "      <td>EX_glc__D_e</td>\n",
       "      <td>D-Glucose exchange</td>\n",
       "      <td>-10.0</td>\n",
       "      <td>1000.0</td>\n",
       "      <td>{'glc__D_e': -1.0}</td>\n",
       "      <td></td>\n",
       "    </tr>\n",
       "    <tr>\n",
       "      <th>2</th>\n",
       "      <td>EX_h_e</td>\n",
       "      <td>H+ exchange</td>\n",
       "      <td>-1000.0</td>\n",
       "      <td>1000.0</td>\n",
       "      <td>{'h_e': -1.0}</td>\n",
       "      <td></td>\n",
       "    </tr>\n",
       "    <tr>\n",
       "      <th>3</th>\n",
       "      <td>EX_h2o_e</td>\n",
       "      <td>H2O exchange</td>\n",
       "      <td>-1000.0</td>\n",
       "      <td>1000.0</td>\n",
       "      <td>{'h2o_e': -1.0}</td>\n",
       "      <td></td>\n",
       "    </tr>\n",
       "    <tr>\n",
       "      <th>4</th>\n",
       "      <td>EX_nh4_e</td>\n",
       "      <td>Ammonia exchange</td>\n",
       "      <td>-1000.0</td>\n",
       "      <td>1000.0</td>\n",
       "      <td>{'nh4_e': -1.0}</td>\n",
       "      <td></td>\n",
       "    </tr>\n",
       "    <tr>\n",
       "      <th>5</th>\n",
       "      <td>EX_o2_e</td>\n",
       "      <td>O2 exchange</td>\n",
       "      <td>-1000.0</td>\n",
       "      <td>1000.0</td>\n",
       "      <td>{'o2_e': -1.0}</td>\n",
       "      <td></td>\n",
       "    </tr>\n",
       "    <tr>\n",
       "      <th>6</th>\n",
       "      <td>EX_pi_e</td>\n",
       "      <td>Phosphate exchange</td>\n",
       "      <td>-1000.0</td>\n",
       "      <td>1000.0</td>\n",
       "      <td>{'pi_e': -1.0}</td>\n",
       "      <td></td>\n",
       "    </tr>\n",
       "  </tbody>\n",
       "</table>\n",
       "</div>"
      ],
      "text/plain": [
       "            id                name      lb      ub       stoichiometry gpr\n",
       "0     EX_co2_e        CO2 exchange -1000.0  1000.0     {'co2_e': -1.0}    \n",
       "1  EX_glc__D_e  D-Glucose exchange   -10.0  1000.0  {'glc__D_e': -1.0}    \n",
       "2       EX_h_e         H+ exchange -1000.0  1000.0       {'h_e': -1.0}    \n",
       "3     EX_h2o_e        H2O exchange -1000.0  1000.0     {'h2o_e': -1.0}    \n",
       "4     EX_nh4_e    Ammonia exchange -1000.0  1000.0     {'nh4_e': -1.0}    \n",
       "5      EX_o2_e         O2 exchange -1000.0  1000.0      {'o2_e': -1.0}    \n",
       "6      EX_pi_e  Phosphate exchange -1000.0  1000.0      {'pi_e': -1.0}    "
      ]
     },
     "execution_count": 19,
     "metadata": {},
     "output_type": "execute_result"
    }
   ],
   "source": [
    "# for a more compreensive listage\n",
    "simul.find(simul.get_uptake_reactions())"
   ]
  },
  {
   "cell_type": "markdown",
   "metadata": {},
   "source": [
    "A simulator may also be loaded considering environmental conditions, that will be considered during phenotype simulations. In the next example, glucose consumption is limited to 10 mmol/gDW/h in anaerobical conditions."
   ]
  },
  {
   "cell_type": "code",
   "execution_count": 20,
   "metadata": {},
   "outputs": [],
   "source": [
    "envcond = {'EX_glc__D_e': (-10.0, 100000.0),\n",
    "           'EX_o2_e':(0,0)}\n",
    "\n",
    "simul = get_simulator(model,envcond=envcond)"
   ]
  },
  {
   "cell_type": "markdown",
   "metadata": {},
   "source": [
    "All phenotype simulations will consider the imposed environmental conditions, and as such they only need to be set once. Also, these conditions do not persistently alter the model, which can be reused with a different simulator instance."
   ]
  },
  {
   "cell_type": "markdown",
   "metadata": {},
   "source": [
    "## Phenotype simulation\n",
    "\n",
    "Phenotype simulations are also run using the simulator instance using  the `simulate` method. "
   ]
  },
  {
   "cell_type": "code",
   "execution_count": 21,
   "metadata": {},
   "outputs": [
    {
     "data": {
      "text/plain": [
       "objective: 0.21166294973531058\n",
       "Status: OPTIMAL\n",
       "Constraints: OrderedDict([('EX_glc__D_e', (-10.0, 100000.0)), ('EX_o2_e', (0, 0))])\n",
       "Method:FBA"
      ]
     },
     "execution_count": 21,
     "metadata": {},
     "output_type": "execute_result"
    }
   ],
   "source": [
    "# FBA \n",
    "result = simul.simulate()\n",
    "# or \n",
    "result = simul.simulate(method='FBA')\n",
    "\n",
    "result"
   ]
  },
  {
   "cell_type": "markdown",
   "metadata": {},
   "source": [
    "Flux Balance Analysis (FBA) can be run without identifying any method, or  by passing the 'FBA' as method parameter. Other phenotype simulation methods may also be run using one of the identifiers:\n",
    "\n",
    "- Flux Balance Analysis: `method = 'FBA'`\n",
    "- Parsimonious FBA:`method = 'pFBA'`\n",
    "- Minimization of Metabolic Adjustment:`method = 'MOMA'`\n",
    "- Linear MOMA: `method = 'lMOMA'`\n",
    "- Regulatory on/off minimization of metabolic flux: `method = 'ROOM'`"
   ]
  },
  {
   "cell_type": "code",
   "execution_count": 25,
   "metadata": {},
   "outputs": [
    {
     "data": {
      "text/plain": [
       "objective: 335.6506168629248\n",
       "Status: OPTIMAL\n",
       "Constraints: OrderedDict([('EX_glc__D_e', (-10.0, 100000.0)), ('EX_o2_e', (0, 0))])\n",
       "Method:pFBA"
      ]
     },
     "execution_count": 25,
     "metadata": {},
     "output_type": "execute_result"
    }
   ],
   "source": [
    "# pFBA\n",
    "result = simul.simulate(method = 'pFBA')\n",
    "result"
   ]
  },
  {
   "cell_type": "markdown",
   "metadata": {},
   "source": [
    "## Reaction fluxes\n",
    "\n",
    "The phenotype simulation result object, besides containing the objective value and solver status, also include reaction fluxes in the form of a dictionary:\n"
   ]
  },
  {
   "cell_type": "code",
   "execution_count": 26,
   "metadata": {},
   "outputs": [
    {
     "data": {
      "text/plain": [
       "OrderedDict([('ACALD', -8.279455380486558),\n",
       "             ('ACALDt', 0.0),\n",
       "             ('ACKr', -8.503585277961323),\n",
       "             ('ACONTa', 0.22836315646942662),\n",
       "             ('ACONTb', 0.22836315646942662),\n",
       "             ('ACt2r', -8.503585277961323),\n",
       "             ('ADK1', 0.0),\n",
       "             ('AKGDH', 0.0),\n",
       "             ('AKGt2r', 0.0),\n",
       "             ('ALCD2x', -8.279455380486558),\n",
       "             ('ATPM', 8.39),\n",
       "             ('ATPS4r', -5.4520525768109085),\n",
       "             ('BIOMASS_Ecoli_core_w_GAM', 0.21166294973531058),\n",
       "             ('CO2t', 0.3781781922920794),\n",
       "             ('CS', 0.22836315646942662),\n",
       "             ('CYTBD', 0.0),\n",
       "             ('D_LACt2', 0.0),\n",
       "             ('ENO', 19.120688607914598),\n",
       "             ('ETOHt2r', -8.279455380486558),\n",
       "             ('EX_ac_e', 8.503585277961323),\n",
       "             ('EX_acald_e', 0.0),\n",
       "             ('EX_akg_e', 0.0),\n",
       "             ('EX_co2_e', -0.3781781922920794),\n",
       "             ('EX_etoh_e', 8.279455380486558),\n",
       "             ('EX_for_e', 17.804674217935304),\n",
       "             ('EX_fru_e', 0.0),\n",
       "             ('EX_fum_e', 0.0),\n",
       "             ('EX_glc__D_e', -10.0),\n",
       "             ('EX_gln__L_e', 0.0),\n",
       "             ('EX_glu__L_e', 0.0),\n",
       "             ('EX_h_e', 30.554218267587018),\n",
       "             ('EX_h2o_e', -7.115795981726787),\n",
       "             ('EX_lac__D_e', 0.0),\n",
       "             ('EX_mal__L_e', 0.0),\n",
       "             ('EX_nh4_e', -1.1541557323167015),\n",
       "             ('EX_o2_e', 0.0),\n",
       "             ('EX_pi_e', -0.7786444931912833),\n",
       "             ('EX_pyr_e', 0.0),\n",
       "             ('EX_succ_e', -0.0),\n",
       "             ('FBA', 9.789458863898286),\n",
       "             ('FBP', 0.0),\n",
       "             ('FORt2', 0.0),\n",
       "             ('FORt', -17.804674217935304),\n",
       "             ('FRD7', 0.0),\n",
       "             ('FRUpts2', 0.0),\n",
       "             ('FUM', 0.0),\n",
       "             ('FUMt2_2', 0.0),\n",
       "             ('G6PDH2r', 0.0),\n",
       "             ('GAPD', 19.437336380718623),\n",
       "             ('GLCpts', 10.0),\n",
       "             ('GLNS', 0.05412221624731891),\n",
       "             ('GLNabc', 0.0),\n",
       "             ('GLUDy', -1.1000335160693826),\n",
       "             ('GLUN', 0.0),\n",
       "             ('GLUSy', 0.0),\n",
       "             ('GLUt2r', 0.0),\n",
       "             ('GND', 0.0),\n",
       "             ('H2Ot', 7.115795981726787),\n",
       "             ('ICDHyr', 0.22836315646942662),\n",
       "             ('ICL', 0.0),\n",
       "             ('LDH_D', 0.0),\n",
       "             ('MALS', 0.0),\n",
       "             ('MALt2_2', 0.0),\n",
       "             ('MDH', 0.0),\n",
       "             ('ME1', 0.0),\n",
       "             ('ME2', 0.0),\n",
       "             ('NADH16', 0.0),\n",
       "             ('NADTRHD', 0.0),\n",
       "             ('NH4t', 1.1541557323167015),\n",
       "             ('O2t', 0.0),\n",
       "             ('PDH', 0.0),\n",
       "             ('PFK', 9.789458863898286),\n",
       "             ('PFL', 17.804674217935304),\n",
       "             ('PGI', 9.95660909530426),\n",
       "             ('PGK', -19.437336380718623),\n",
       "             ('PGL', 0.0),\n",
       "             ('PGM', -19.120688607914598),\n",
       "             ('PIt2r', 0.7786444931912833),\n",
       "             ('PPC', 0.606541348761506),\n",
       "             ('PPCK', 0.0),\n",
       "             ('PPS', 0.0),\n",
       "             ('PTAr', 8.503585277961323),\n",
       "             ('PYK', 8.404273021945492),\n",
       "             ('PYRt2', 0.0),\n",
       "             ('RPE', -0.15214332826974125),\n",
       "             ('RPI', -0.15214332826974125),\n",
       "             ('SUCCt2_2', 0.0),\n",
       "             ('SUCCt3', 0.0),\n",
       "             ('SUCDi', 0.0),\n",
       "             ('SUCOAS', 0.0),\n",
       "             ('TALA', -0.03786650170764708),\n",
       "             ('THD2', 3.629194102456609),\n",
       "             ('TKT1', -0.03786650170764708),\n",
       "             ('TKT2', -0.11427682656209417),\n",
       "             ('TPI', 9.789458863898286)])"
      ]
     },
     "execution_count": 26,
     "metadata": {},
     "output_type": "execute_result"
    }
   ],
   "source": [
    "result.fluxes"
   ]
  },
  {
   "cell_type": "markdown",
   "metadata": {},
   "source": [
    "or as a dataframe:"
   ]
  },
  {
   "cell_type": "code",
   "execution_count": 28,
   "metadata": {},
   "outputs": [
    {
     "data": {
      "text/html": [
       "<div>\n",
       "<style scoped>\n",
       "    .dataframe tbody tr th:only-of-type {\n",
       "        vertical-align: middle;\n",
       "    }\n",
       "\n",
       "    .dataframe tbody tr th {\n",
       "        vertical-align: top;\n",
       "    }\n",
       "\n",
       "    .dataframe thead th {\n",
       "        text-align: right;\n",
       "    }\n",
       "</style>\n",
       "<table border=\"1\" class=\"dataframe\">\n",
       "  <thead>\n",
       "    <tr style=\"text-align: right;\">\n",
       "      <th></th>\n",
       "      <th>Reaction ID</th>\n",
       "      <th>Flux rate</th>\n",
       "    </tr>\n",
       "  </thead>\n",
       "  <tbody>\n",
       "    <tr>\n",
       "      <th>0</th>\n",
       "      <td>BIOMASS_Ecoli_core_w_GAM</td>\n",
       "      <td>0.211663</td>\n",
       "    </tr>\n",
       "  </tbody>\n",
       "</table>\n",
       "</div>"
      ],
      "text/plain": [
       "                Reaction ID  Flux rate\n",
       "0  BIOMASS_Ecoli_core_w_GAM   0.211663"
      ]
     },
     "execution_count": 28,
     "metadata": {},
     "output_type": "execute_result"
    }
   ],
   "source": [
    "result.find('BIO')"
   ]
  },
  {
   "cell_type": "markdown",
   "metadata": {},
   "source": [
    "Individual reaction flux values can be obtained from the dictionary representation. For example, the *triose-phosphate isomerase* (TPI) reaction flux can be obtained from the previous pFBA simulation using the reaction identifier:"
   ]
  },
  {
   "cell_type": "code",
   "execution_count": 29,
   "metadata": {},
   "outputs": [
    {
     "data": {
      "text/plain": [
       "9.789458863898286"
      ]
     },
     "execution_count": 29,
     "metadata": {},
     "output_type": "execute_result"
    }
   ],
   "source": [
    "result.fluxes['TPI']"
   ]
  },
  {
   "cell_type": "code",
   "execution_count": 30,
   "metadata": {},
   "outputs": [
    {
     "data": {
      "text/html": [
       "<div>\n",
       "<style scoped>\n",
       "    .dataframe tbody tr th:only-of-type {\n",
       "        vertical-align: middle;\n",
       "    }\n",
       "\n",
       "    .dataframe tbody tr th {\n",
       "        vertical-align: top;\n",
       "    }\n",
       "\n",
       "    .dataframe thead th {\n",
       "        text-align: right;\n",
       "    }\n",
       "</style>\n",
       "<table border=\"1\" class=\"dataframe\">\n",
       "  <thead>\n",
       "    <tr style=\"text-align: right;\">\n",
       "      <th></th>\n",
       "      <th>Reaction ID</th>\n",
       "      <th>Flux rate</th>\n",
       "    </tr>\n",
       "  </thead>\n",
       "  <tbody>\n",
       "    <tr>\n",
       "      <th>0</th>\n",
       "      <td>BIOMASS_Ecoli_core_w_GAM</td>\n",
       "      <td>0.211663</td>\n",
       "    </tr>\n",
       "    <tr>\n",
       "      <th>1</th>\n",
       "      <td>TPI</td>\n",
       "      <td>9.789459</td>\n",
       "    </tr>\n",
       "  </tbody>\n",
       "</table>\n",
       "</div>"
      ],
      "text/plain": [
       "                Reaction ID  Flux rate\n",
       "0  BIOMASS_Ecoli_core_w_GAM   0.211663\n",
       "1                       TPI   9.789459"
      ]
     },
     "execution_count": 30,
     "metadata": {},
     "output_type": "execute_result"
    }
   ],
   "source": [
    "result.find(['TPI','BIO'])"
   ]
  },
  {
   "cell_type": "markdown",
   "metadata": {},
   "source": [
    "To retrieve the net conversion equation invoke the `get_net_conversion` method. Exchange reactions with no flux are not presented."
   ]
  },
  {
   "cell_type": "code",
   "execution_count": 31,
   "metadata": {},
   "outputs": [
    {
     "data": {
      "text/plain": [
       "'0.3781781922920794 co2_e + 10.0 glc__D_e + 7.115795981726787 h2o_e + 1.1541557323167015 nh4_e + 0.7786444931912833 pi_e --> 8.503585277961323 ac_e + 8.279455380486558 etoh_e + 17.804674217935304 for_e + 30.554218267587018 h_e'"
      ]
     },
     "execution_count": 31,
     "metadata": {},
     "output_type": "execute_result"
    }
   ],
   "source": [
    "result.get_net_conversion()"
   ]
  },
  {
   "cell_type": "markdown",
   "metadata": {},
   "source": [
    "\n",
    "\n",
    "\n",
    "## Retrieving and setting the model objective\n",
    "\n",
    "The simulation objective, when running FBA or pFBA phenotype simulations, is, by default, the model objective which can be seen using the simulator."
   ]
  },
  {
   "cell_type": "code",
   "execution_count": 32,
   "metadata": {},
   "outputs": [
    {
     "data": {
      "text/plain": [
       "{'BIOMASS_Ecoli_core_w_GAM': 1.0}"
      ]
     },
     "execution_count": 32,
     "metadata": {},
     "output_type": "execute_result"
    }
   ],
   "source": [
    "simul.objective"
   ]
  },
  {
   "cell_type": "markdown",
   "metadata": {},
   "source": [
    "The simulator may also be used to change the model objective, for example, to optimize the ATP maintenance requirement (ATPM):"
   ]
  },
  {
   "cell_type": "code",
   "execution_count": 33,
   "metadata": {},
   "outputs": [],
   "source": [
    "simul.objective = 'ATPM'"
   ]
  },
  {
   "cell_type": "code",
   "execution_count": 34,
   "metadata": {},
   "outputs": [
    {
     "data": {
      "text/plain": [
       "{'ATPM': 1.0}"
      ]
     },
     "execution_count": 34,
     "metadata": {},
     "output_type": "execute_result"
    }
   ],
   "source": [
    "simul.objective"
   ]
  },
  {
   "cell_type": "code",
   "execution_count": 35,
   "metadata": {},
   "outputs": [],
   "source": [
    "simul.objective='BIOMASS_Ecoli_core_w_GAM'"
   ]
  },
  {
   "cell_type": "markdown",
   "metadata": {},
   "source": [
    "## Adding additional constraints to phenotype simulations\n",
    "\n",
    "Simulations may include additional metabolic constraints on reaction fluxes. From the previous pFBA simulation one can observe that the organism does not produce succinate:"
   ]
  },
  {
   "cell_type": "code",
   "execution_count": 36,
   "metadata": {},
   "outputs": [
    {
     "data": {
      "text/plain": [
       "-0.0"
      ]
     },
     "execution_count": 36,
     "metadata": {},
     "output_type": "execute_result"
    }
   ],
   "source": [
    "result.fluxes['EX_succ_e']"
   ]
  },
  {
   "cell_type": "markdown",
   "metadata": {},
   "source": [
    "Additional constraints may be added to the model so that the organism start to produce this aromatic amino acid. We may alter, for example, the *phosphogluconate dehydrogenase* reaction bounds, among others, starting by verifying its initial bounds:"
   ]
  },
  {
   "cell_type": "code",
   "execution_count": 37,
   "metadata": {},
   "outputs": [
    {
     "data": {
      "text/plain": [
       "(0.0, 1000.0)"
      ]
     },
     "execution_count": 37,
     "metadata": {},
     "output_type": "execute_result"
    }
   ],
   "source": [
    "simul.get_reaction_bounds('GND')"
   ]
  },
  {
   "cell_type": "code",
   "execution_count": 41,
   "metadata": {},
   "outputs": [
    {
     "data": {
      "text/html": [
       "<div>\n",
       "<style scoped>\n",
       "    .dataframe tbody tr th:only-of-type {\n",
       "        vertical-align: middle;\n",
       "    }\n",
       "\n",
       "    .dataframe tbody tr th {\n",
       "        vertical-align: top;\n",
       "    }\n",
       "\n",
       "    .dataframe thead th {\n",
       "        text-align: right;\n",
       "    }\n",
       "</style>\n",
       "<table border=\"1\" class=\"dataframe\">\n",
       "  <thead>\n",
       "    <tr style=\"text-align: right;\">\n",
       "      <th></th>\n",
       "      <th>Reaction ID</th>\n",
       "      <th>Flux rate</th>\n",
       "    </tr>\n",
       "  </thead>\n",
       "  <tbody>\n",
       "    <tr>\n",
       "      <th>0</th>\n",
       "      <td>BIOMASS_Ecoli_core_w_GAM</td>\n",
       "      <td>0.110096</td>\n",
       "    </tr>\n",
       "    <tr>\n",
       "      <th>1</th>\n",
       "      <td>EX_succ_e</td>\n",
       "      <td>8.499789</td>\n",
       "    </tr>\n",
       "  </tbody>\n",
       "</table>\n",
       "</div>"
      ],
      "text/plain": [
       "                Reaction ID  Flux rate\n",
       "0  BIOMASS_Ecoli_core_w_GAM   0.110096\n",
       "1                 EX_succ_e   8.499789"
      ]
     },
     "execution_count": 41,
     "metadata": {},
     "output_type": "execute_result"
    }
   ],
   "source": [
    "constraints = {'GND': 0, # deletion\n",
    "               'PYK': 0, # deletion\n",
    "               'ME2': 0, # deletion\n",
    "              }\n",
    "\n",
    "# run a pFBA simulation accounting with the new constraint\n",
    "result = simul.simulate(method='pFBA',constraints=constraints)\n",
    "\n",
    "#result\n",
    "result.find(['succ','BIO'])"
   ]
  },
  {
   "cell_type": "markdown",
   "metadata": {},
   "source": [
    "Note that the modifications are not persistently applied to the model, they only exist during the simulation.\n",
    "\n",
    "We also need to verify that the organism continues to grow:"
   ]
  },
  {
   "cell_type": "code",
   "execution_count": 42,
   "metadata": {},
   "outputs": [
    {
     "data": {
      "text/plain": [
       "0.1100958897735904"
      ]
     },
     "execution_count": 42,
     "metadata": {},
     "output_type": "execute_result"
    }
   ],
   "source": [
    "result.fluxes['BIOMASS_Ecoli_core_w_GAM']"
   ]
  },
  {
   "cell_type": "markdown",
   "metadata": {},
   "source": [
    "We can also plot the production envelope:"
   ]
  },
  {
   "cell_type": "code",
   "execution_count": 43,
   "metadata": {},
   "outputs": [
    {
     "data": {
      "text/plain": [
       "<matplotlib.axes._subplots.AxesSubplot at 0x2cf6d6872c8>"
      ]
     },
     "execution_count": 43,
     "metadata": {},
     "output_type": "execute_result"
    },
    {
     "data": {
      "image/png": "[encoded data removed]",
      "text/plain": [
       "<Figure size 432x288 with 1 Axes>"
      ]
     },
     "metadata": {
      "needs_background": "light"
     },
     "output_type": "display_data"
    }
   ],
   "source": [
    "%matplotlib inline\n",
    "from mewpy.visualization.envelope import plot_flux_envelope\n",
    "\n",
    "plot_flux_envelope(simul,'BIOMASS_Ecoli_core_w_GAM','EX_succ_e',constraints = constraints)"
   ]
  },
  {
   "cell_type": "markdown",
   "metadata": {},
   "source": [
    "The `simulate` method includes additional parameters, such as the optimization direction. For a full description please refer to the module documentation. "
   ]
  },
  {
   "cell_type": "markdown",
   "metadata": {},
   "source": [
    "## Flux Variability Analysis\n",
    "\n",
    "The simulator interface also allows to perform Flux Variability Analysis (FVA) for all reactions, a list of reactions, or only for succinate:\n"
   ]
  },
  {
   "cell_type": "code",
   "execution_count": 45,
   "metadata": {},
   "outputs": [
    {
     "data": {
      "text/html": [
       "<div>\n",
       "<style scoped>\n",
       "    .dataframe tbody tr th:only-of-type {\n",
       "        vertical-align: middle;\n",
       "    }\n",
       "\n",
       "    .dataframe tbody tr th {\n",
       "        vertical-align: top;\n",
       "    }\n",
       "\n",
       "    .dataframe thead th {\n",
       "        text-align: right;\n",
       "    }\n",
       "</style>\n",
       "<table border=\"1\" class=\"dataframe\">\n",
       "  <thead>\n",
       "    <tr style=\"text-align: right;\">\n",
       "      <th></th>\n",
       "      <th>Reaction ID</th>\n",
       "      <th>Minimum</th>\n",
       "      <th>Maximum</th>\n",
       "    </tr>\n",
       "  </thead>\n",
       "  <tbody>\n",
       "    <tr>\n",
       "      <th>0</th>\n",
       "      <td>ACALD</td>\n",
       "      <td>-12.838557</td>\n",
       "      <td>0.000000</td>\n",
       "    </tr>\n",
       "    <tr>\n",
       "      <th>1</th>\n",
       "      <td>ACALDt</td>\n",
       "      <td>-1.457600</td>\n",
       "      <td>0.000000</td>\n",
       "    </tr>\n",
       "    <tr>\n",
       "      <th>2</th>\n",
       "      <td>ACKr</td>\n",
       "      <td>-9.299480</td>\n",
       "      <td>-5.655480</td>\n",
       "    </tr>\n",
       "    <tr>\n",
       "      <th>3</th>\n",
       "      <td>ACONTa</td>\n",
       "      <td>0.106904</td>\n",
       "      <td>0.627476</td>\n",
       "    </tr>\n",
       "    <tr>\n",
       "      <th>4</th>\n",
       "      <td>ACONTb</td>\n",
       "      <td>0.106904</td>\n",
       "      <td>0.627476</td>\n",
       "    </tr>\n",
       "    <tr>\n",
       "      <th>...</th>\n",
       "      <td>...</td>\n",
       "      <td>...</td>\n",
       "      <td>...</td>\n",
       "    </tr>\n",
       "    <tr>\n",
       "      <th>90</th>\n",
       "      <td>TALA</td>\n",
       "      <td>-0.019696</td>\n",
       "      <td>-0.017727</td>\n",
       "    </tr>\n",
       "    <tr>\n",
       "      <th>91</th>\n",
       "      <td>THD2</td>\n",
       "      <td>1.178372</td>\n",
       "      <td>3.520944</td>\n",
       "    </tr>\n",
       "    <tr>\n",
       "      <th>92</th>\n",
       "      <td>TKT1</td>\n",
       "      <td>-0.019696</td>\n",
       "      <td>-0.017727</td>\n",
       "    </tr>\n",
       "    <tr>\n",
       "      <th>93</th>\n",
       "      <td>TKT2</td>\n",
       "      <td>-0.059441</td>\n",
       "      <td>-0.053497</td>\n",
       "    </tr>\n",
       "    <tr>\n",
       "      <th>94</th>\n",
       "      <td>TPI</td>\n",
       "      <td>9.380867</td>\n",
       "      <td>9.901439</td>\n",
       "    </tr>\n",
       "  </tbody>\n",
       "</table>\n",
       "<p>95 rows × 3 columns</p>\n",
       "</div>"
      ],
      "text/plain": [
       "   Reaction ID    Minimum   Maximum\n",
       "0        ACALD -12.838557  0.000000\n",
       "1       ACALDt  -1.457600  0.000000\n",
       "2         ACKr  -9.299480 -5.655480\n",
       "3       ACONTa   0.106904  0.627476\n",
       "4       ACONTb   0.106904  0.627476\n",
       "..         ...        ...       ...\n",
       "90        TALA  -0.019696 -0.017727\n",
       "91        THD2   1.178372  3.520944\n",
       "92        TKT1  -0.019696 -0.017727\n",
       "93        TKT2  -0.059441 -0.053497\n",
       "94         TPI   9.380867  9.901439\n",
       "\n",
       "[95 rows x 3 columns]"
      ]
     },
     "execution_count": 45,
     "metadata": {},
     "output_type": "execute_result"
    }
   ],
   "source": [
    "# returns a dictionary\n",
    "simul.FVA(format='df',constraints=constraints)"
   ]
  },
  {
   "cell_type": "code",
   "execution_count": null,
   "metadata": {},
   "outputs": [],
   "source": [
    "# or a data frame\n",
    "simul.FVA('EX_succ_e',format='df')"
   ]
  },
  {
   "cell_type": "markdown",
   "metadata": {},
   "source": [
    "By default, MEWpy sets the model objective fraction to 90%, however this fraction may be altered. For example, one might want to consider a fraction of 10% from optimal growth:"
   ]
  },
  {
   "cell_type": "code",
   "execution_count": null,
   "metadata": {},
   "outputs": [],
   "source": [
    "simul.FVA('EX_succ_e',obj_frac=0.9,format='df')"
   ]
  },
  {
   "cell_type": "markdown",
   "metadata": {},
   "source": [
    "The FVA simulations are run considering the defined environmental conditions. Additional constraints may be added, or changed, such as the previouly used to increase L-tyrosine production."
   ]
  },
  {
   "cell_type": "code",
   "execution_count": null,
   "metadata": {},
   "outputs": [],
   "source": [
    "simul.FVA('EX_succ_e', constraints=constraints,format='df')"
   ]
  },
  {
   "cell_type": "markdown",
   "metadata": {},
   "source": [
    "COBRApy users may have noticed that this same task would have required many additional coding lines if using the COBRApy API directly."
   ]
  },
  {
   "cell_type": "markdown",
   "metadata": {},
   "source": [
    "## Genes and reactions essentiality\n",
    "\n",
    "Gene and reaction essentiality tests identify, respectively, the list of genes and reactions whose deletion would prevent the organism to grow. "
   ]
  },
  {
   "cell_type": "code",
   "execution_count": 46,
   "metadata": {},
   "outputs": [
    {
     "name": "stderr",
     "output_type": "stream",
     "text": [
      "100%|████████████████████████████████████████████████████████████████████████████████████████████████████████████████████████████████████████████████████████████████████████████| 95/95 [00:00<00:00, 437.15it/s]\n"
     ]
    },
    {
     "data": {
      "text/plain": [
       "['ACONTa',\n",
       " 'ACONTb',\n",
       " 'BIOMASS_Ecoli_core_w_GAM',\n",
       " 'CS',\n",
       " 'EX_h_e',\n",
       " 'EX_nh4_e',\n",
       " 'EX_pi_e',\n",
       " 'GLNS',\n",
       " 'ICDHyr',\n",
       " 'NH4t',\n",
       " 'PIt2r',\n",
       " 'PPC',\n",
       " 'RPI']"
      ]
     },
     "execution_count": 46,
     "metadata": {},
     "output_type": "execute_result"
    }
   ],
   "source": [
    "simul.essential_reactions()"
   ]
  },
  {
   "cell_type": "code",
   "execution_count": 49,
   "metadata": {},
   "outputs": [
    {
     "data": {
      "text/plain": [
       "['b0720', 'b1136', 'b3956']"
      ]
     },
     "execution_count": 49,
     "metadata": {},
     "output_type": "execute_result"
    }
   ],
   "source": [
    "simul.essential_genes(min_growth=0.01)"
   ]
  },
  {
   "cell_type": "markdown",
   "metadata": {},
   "source": [
    "For more options and methods please refer to the MEWpy documentation."
   ]
  }
 ],
 "metadata": {
  "kernelspec": {
   "display_name": "Python 3 (ipykernel)",
   "language": "python",
   "name": "python3"
  },
  "language_info": {
   "codemirror_mode": {
    "name": "ipython",
    "version": 3
   },
   "file_extension": ".py",
   "mimetype": "text/x-python",
   "name": "python",
   "nbconvert_exporter": "python",
   "pygments_lexer": "ipython3",
   "version": "3.7.11"
  }
 },
 "nbformat": 4,
 "nbformat_minor": 4
}
