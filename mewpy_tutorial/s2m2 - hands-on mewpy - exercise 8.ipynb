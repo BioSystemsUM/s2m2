{
 "cells": [
  {
   "cell_type": "markdown",
   "metadata": {},
   "source": [
    "# MEWpy Simulation \n",
    "\n",
    "Author: Vitor Pereira\n",
    "\n",
    "License: [CC BY-SA 4.0](http://creativecommons.org/licenses/by-sa/4.0/)\n",
    "\n",
    "-------\n",
    "This notebook exemplifies how MEWpy may be used for phenotype simulation."
   ]
  },
  {
   "cell_type": "markdown",
   "metadata": {},
   "source": [
    "Models can be loaded using MEW, REFRAMED, or COBRApy. \n",
    "\n",
    "Load a model using REFRAMED: "
   ]
  },
  {
   "cell_type": "code",
   "execution_count": null,
   "metadata": {},
   "outputs": [],
   "source": [
    "! pip install -U -q mewpy"
   ]
  },
  {
   "cell_type": "code",
   "execution_count": 1,
   "metadata": {
    "ExecuteTime": {
     "end_time": "2024-06-19T14:35:39.141516500Z",
     "start_time": "2024-06-19T14:35:35.664362600Z"
    }
   },
   "outputs": [
    {
     "name": "stdout",
     "output_type": "stream",
     "text": [
      "MEWpy version: 0.1.30\n",
      "Author: BiSBII CEB University of Minho\n",
      "Contact: vpereira@ceb.uminho.pt \n",
      "\n",
      "Available LP solvers: cplex glpk\n",
      "Default LP solver: cplex \n",
      "Available ODE solvers: scipy\n",
      "Default ODE solver: scipy \n",
      "Optimization Problems: AbstractKOProblem AbstractOUProblem CofactorSwapProblem CommunityKOProblem ETFLGKOProblem ETFLGOUProblem GKOProblem GOUProblem GeckoKOProblem GeckoOUProblem KcatOptProblem KineticKOProblem KineticOUProblem MediumProblem OptORFProblem OptRamProblem RKOProblem ROUProblem \n",
      "\n",
      "Available EA engines: inspyred jmetal\n",
      "Default EA engine: jmetal\n",
      "Available EAs: GA NSGAII NSGAIII SA SPEA2 \n"
     ]
    }
   ],
   "source": [
    "import mewpy\n",
    "mewpy.info()"
   ]
  },
  {
   "cell_type": "markdown",
   "metadata": {},
   "source": [
    "IMPORTANT: The notebooks require a MEWpy version >= 0.1.16"
   ]
  },
  {
   "cell_type": "code",
   "execution_count": 2,
   "metadata": {
    "ExecuteTime": {
     "end_time": "2024-06-19T14:35:39.378202300Z",
     "start_time": "2024-06-19T14:35:39.336545600Z"
    }
   },
   "outputs": [],
   "source": [
    "from reframed.io.sbml import load_cbmodel\n",
    "model = load_cbmodel('data/e_coli_core.xml.gz')"
   ]
  },
  {
   "cell_type": "markdown",
   "metadata": {},
   "source": [
    "or using COBRApy:"
   ]
  },
  {
   "cell_type": "code",
   "execution_count": 3,
   "metadata": {
    "ExecuteTime": {
     "end_time": "2024-06-19T14:35:39.692470300Z",
     "start_time": "2024-06-19T14:35:39.379203100Z"
    }
   },
   "outputs": [],
   "source": [
    "from cobra.io import read_sbml_model\n",
    "model = read_sbml_model('data/e_coli_core.xml.gz')"
   ]
  },
  {
   "cell_type": "markdown",
   "metadata": {},
   "source": [
    "A simulator object provides a common interface to realize the main phenotype analysis tasks. The *get_simulator* function returns a simulator, a wrapper,  for the provided model. The simulator interface remains the same regardless of how the model was loaded, using REFRAMED or COBRApy. This simplify the use of both environments and ease the management of future changes and deprecation on their APIs.\n"
   ]
  },
  {
   "cell_type": "code",
   "execution_count": 4,
   "metadata": {
    "ExecuteTime": {
     "end_time": "2024-06-19T14:35:39.753922100Z",
     "start_time": "2024-06-19T14:35:39.694465800Z"
    }
   },
   "outputs": [],
   "source": [
    "from mewpy.simulation import get_simulator\n",
    "simul = get_simulator(model)"
   ]
  },
  {
   "cell_type": "markdown",
   "metadata": {},
   "source": [
    "The simulator offers a wide API, and enable to perform basic tasks, such as, list  metabolites, reactions, genes, compartments, uptake reactions, and transport reactions:"
   ]
  },
  {
   "cell_type": "code",
   "execution_count": 5,
   "metadata": {
    "ExecuteTime": {
     "end_time": "2024-06-19T14:35:39.769929300Z",
     "start_time": "2024-06-19T14:35:39.757927800Z"
    }
   },
   "outputs": [
    {
     "data": {
      "text/plain": "['glc__D_e',\n 'gln__L_c',\n 'gln__L_e',\n 'glu__L_c',\n 'glu__L_e',\n 'glx_c',\n 'h2o_c',\n 'h2o_e',\n 'h_c',\n 'h_e']"
     },
     "execution_count": 5,
     "metadata": {},
     "output_type": "execute_result"
    }
   ],
   "source": [
    "# first 10 metabolites\n",
    "simul.metabolites[:10]"
   ]
  },
  {
   "cell_type": "code",
   "execution_count": 6,
   "metadata": {
    "ExecuteTime": {
     "end_time": "2024-06-19T14:35:39.831457400Z",
     "start_time": "2024-06-19T14:35:39.772930900Z"
    }
   },
   "outputs": [
    {
     "data": {
      "text/plain": "['ACALD',\n 'ACALDt',\n 'ACKr',\n 'ACONTa',\n 'ACONTb',\n 'ACt2r',\n 'ADK1',\n 'AKGDH',\n 'AKGt2r',\n 'ALCD2x']"
     },
     "execution_count": 6,
     "metadata": {},
     "output_type": "execute_result"
    }
   ],
   "source": [
    "# first 10 metabolites\n",
    "simul.reactions[:10]"
   ]
  },
  {
   "cell_type": "code",
   "execution_count": 7,
   "metadata": {
    "ExecuteTime": {
     "end_time": "2024-06-19T14:35:39.842453800Z",
     "start_time": "2024-06-19T14:35:39.789464500Z"
    }
   },
   "outputs": [
    {
     "data": {
      "text/plain": "['b1241',\n 'b0351',\n 's0001',\n 'b2296',\n 'b1849',\n 'b3115',\n 'b0118',\n 'b1276',\n 'b0474',\n 'b0726']"
     },
     "execution_count": 7,
     "metadata": {},
     "output_type": "execute_result"
    }
   ],
   "source": [
    "# first 10 genes\n",
    "simul.genes[:10]"
   ]
  },
  {
   "cell_type": "code",
   "execution_count": 8,
   "metadata": {
    "ExecuteTime": {
     "end_time": "2024-06-19T14:35:39.843456600Z",
     "start_time": "2024-06-19T14:35:39.804457Z"
    }
   },
   "outputs": [
    {
     "data": {
      "text/plain": "{'e': 'extracellular space', 'c': 'cytosol'}"
     },
     "execution_count": 8,
     "metadata": {},
     "output_type": "execute_result"
    }
   ],
   "source": [
    "simul.compartments"
   ]
  },
  {
   "cell_type": "markdown",
   "metadata": {},
   "source": [
    "For a more compreensive look at the list of reactions, you may use the `find` function, without any parameters (list all reactions), or by adding a _filter_:"
   ]
  },
  {
   "cell_type": "code",
   "execution_count": 9,
   "metadata": {
    "ExecuteTime": {
     "end_time": "2024-06-19T14:35:39.857461900Z",
     "start_time": "2024-06-19T14:35:39.818457700Z"
    }
   },
   "outputs": [
    {
     "data": {
      "text/plain": "                                                     name      lb      ub  \\\nid                                                                          \nACALD            Acetaldehyde dehydrogenase (acetylating) -1000.0  1000.0   \nACALDt                  Acetaldehyde reversible transport -1000.0  1000.0   \nACKr                                       Acetate kinase -1000.0  1000.0   \nACONTa   Aconitase (half-reaction A, Citrate hydro-lyase) -1000.0  1000.0   \nACONTb  Aconitase (half-reaction B, Isocitrate hydro-l... -1000.0  1000.0   \n...                                                   ...     ...     ...   \nTALA                                        Transaldolase -1000.0  1000.0   \nTHD2                              NAD(P) transhydrogenase     0.0  1000.0   \nTKT1                                        Transketolase -1000.0  1000.0   \nTKT2                                        Transketolase -1000.0  1000.0   \nTPI                            Triose-phosphate isomerase -1000.0  1000.0   \n\n                                            stoichiometry  \\\nid                                                          \nACALD   {'acald_c': -1.0, 'coa_c': -1.0, 'nad_c': -1.0...   \nACALDt                  {'acald_e': -1.0, 'acald_c': 1.0}   \nACKr    {'ac_c': -1.0, 'atp_c': -1.0, 'actp_c': 1.0, '...   \nACONTa     {'cit_c': -1.0, 'acon_C_c': 1.0, 'h2o_c': 1.0}   \nACONTb   {'acon_C_c': -1.0, 'h2o_c': -1.0, 'icit_c': 1.0}   \n...                                                   ...   \nTALA    {'g3p_c': -1.0, 's7p_c': -1.0, 'e4p_c': 1.0, '...   \nTHD2    {'h_e': -2.0, 'nadh_c': -1.0, 'nadp_c': -1.0, ...   \nTKT1    {'r5p_c': -1.0, 'xu5p__D_c': -1.0, 'g3p_c': 1....   \nTKT2    {'e4p_c': -1.0, 'xu5p__D_c': -1.0, 'f6p_c': 1....   \nTPI                        {'dhap_c': -1.0, 'g3p_c': 1.0}   \n\n                            gpr  \\\nid                                \nACALD            b0351 or b1241   \nACALDt                    s0001   \nACKr    b2296 or b3115 or b1849   \nACONTa           b0118 or b1276   \nACONTb           b0118 or b1276   \n...                         ...   \nTALA             b2464 or b0008   \nTHD2            b1602 and b1603   \nTKT1             b2935 or b2465   \nTKT2             b2935 or b2465   \nTPI                       b3919   \n\n                                              annotations  \nid                                                         \nACALD   {'sbo': 'SBO:0000375', 'bigg.reaction': 'ACALD...  \nACALDt  {'sbo': 'SBO:0000375', 'bigg.reaction': 'ACALD...  \nACKr    {'sbo': 'SBO:0000375', 'bigg.reaction': 'ACKr'...  \nACONTa  {'sbo': 'SBO:0000375', 'bigg.reaction': 'ACONT...  \nACONTb  {'sbo': 'SBO:0000375', 'bigg.reaction': 'ACONT...  \n...                                                   ...  \nTALA    {'sbo': 'SBO:0000375', 'bigg.reaction': 'TALA'...  \nTHD2    {'sbo': 'SBO:0000375', 'bigg.reaction': 'THD2'...  \nTKT1    {'sbo': 'SBO:0000375', 'bigg.reaction': 'TKT1'...  \nTKT2    {'sbo': 'SBO:0000375', 'bigg.reaction': 'TKT2'...  \nTPI     {'sbo': 'SBO:0000375', 'bigg.reaction': 'TPI',...  \n\n[95 rows x 6 columns]",
      "text/html": "<div>\n<style scoped>\n    .dataframe tbody tr th:only-of-type {\n        vertical-align: middle;\n    }\n\n    .dataframe tbody tr th {\n        vertical-align: top;\n    }\n\n    .dataframe thead th {\n        text-align: right;\n    }\n</style>\n<table border=\"1\" class=\"dataframe\">\n  <thead>\n    <tr style=\"text-align: right;\">\n      <th></th>\n      <th>name</th>\n      <th>lb</th>\n      <th>ub</th>\n      <th>stoichiometry</th>\n      <th>gpr</th>\n      <th>annotations</th>\n    </tr>\n    <tr>\n      <th>id</th>\n      <th></th>\n      <th></th>\n      <th></th>\n      <th></th>\n      <th></th>\n      <th></th>\n    </tr>\n  </thead>\n  <tbody>\n    <tr>\n      <th>ACALD</th>\n      <td>Acetaldehyde dehydrogenase (acetylating)</td>\n      <td>-1000.0</td>\n      <td>1000.0</td>\n      <td>{'acald_c': -1.0, 'coa_c': -1.0, 'nad_c': -1.0...</td>\n      <td>b0351 or b1241</td>\n      <td>{'sbo': 'SBO:0000375', 'bigg.reaction': 'ACALD...</td>\n    </tr>\n    <tr>\n      <th>ACALDt</th>\n      <td>Acetaldehyde reversible transport</td>\n      <td>-1000.0</td>\n      <td>1000.0</td>\n      <td>{'acald_e': -1.0, 'acald_c': 1.0}</td>\n      <td>s0001</td>\n      <td>{'sbo': 'SBO:0000375', 'bigg.reaction': 'ACALD...</td>\n    </tr>\n    <tr>\n      <th>ACKr</th>\n      <td>Acetate kinase</td>\n      <td>-1000.0</td>\n      <td>1000.0</td>\n      <td>{'ac_c': -1.0, 'atp_c': -1.0, 'actp_c': 1.0, '...</td>\n      <td>b2296 or b3115 or b1849</td>\n      <td>{'sbo': 'SBO:0000375', 'bigg.reaction': 'ACKr'...</td>\n    </tr>\n    <tr>\n      <th>ACONTa</th>\n      <td>Aconitase (half-reaction A, Citrate hydro-lyase)</td>\n      <td>-1000.0</td>\n      <td>1000.0</td>\n      <td>{'cit_c': -1.0, 'acon_C_c': 1.0, 'h2o_c': 1.0}</td>\n      <td>b0118 or b1276</td>\n      <td>{'sbo': 'SBO:0000375', 'bigg.reaction': 'ACONT...</td>\n    </tr>\n    <tr>\n      <th>ACONTb</th>\n      <td>Aconitase (half-reaction B, Isocitrate hydro-l...</td>\n      <td>-1000.0</td>\n      <td>1000.0</td>\n      <td>{'acon_C_c': -1.0, 'h2o_c': -1.0, 'icit_c': 1.0}</td>\n      <td>b0118 or b1276</td>\n      <td>{'sbo': 'SBO:0000375', 'bigg.reaction': 'ACONT...</td>\n    </tr>\n    <tr>\n      <th>...</th>\n      <td>...</td>\n      <td>...</td>\n      <td>...</td>\n      <td>...</td>\n      <td>...</td>\n      <td>...</td>\n    </tr>\n    <tr>\n      <th>TALA</th>\n      <td>Transaldolase</td>\n      <td>-1000.0</td>\n      <td>1000.0</td>\n      <td>{'g3p_c': -1.0, 's7p_c': -1.0, 'e4p_c': 1.0, '...</td>\n      <td>b2464 or b0008</td>\n      <td>{'sbo': 'SBO:0000375', 'bigg.reaction': 'TALA'...</td>\n    </tr>\n    <tr>\n      <th>THD2</th>\n      <td>NAD(P) transhydrogenase</td>\n      <td>0.0</td>\n      <td>1000.0</td>\n      <td>{'h_e': -2.0, 'nadh_c': -1.0, 'nadp_c': -1.0, ...</td>\n      <td>b1602 and b1603</td>\n      <td>{'sbo': 'SBO:0000375', 'bigg.reaction': 'THD2'...</td>\n    </tr>\n    <tr>\n      <th>TKT1</th>\n      <td>Transketolase</td>\n      <td>-1000.0</td>\n      <td>1000.0</td>\n      <td>{'r5p_c': -1.0, 'xu5p__D_c': -1.0, 'g3p_c': 1....</td>\n      <td>b2935 or b2465</td>\n      <td>{'sbo': 'SBO:0000375', 'bigg.reaction': 'TKT1'...</td>\n    </tr>\n    <tr>\n      <th>TKT2</th>\n      <td>Transketolase</td>\n      <td>-1000.0</td>\n      <td>1000.0</td>\n      <td>{'e4p_c': -1.0, 'xu5p__D_c': -1.0, 'f6p_c': 1....</td>\n      <td>b2935 or b2465</td>\n      <td>{'sbo': 'SBO:0000375', 'bigg.reaction': 'TKT2'...</td>\n    </tr>\n    <tr>\n      <th>TPI</th>\n      <td>Triose-phosphate isomerase</td>\n      <td>-1000.0</td>\n      <td>1000.0</td>\n      <td>{'dhap_c': -1.0, 'g3p_c': 1.0}</td>\n      <td>b3919</td>\n      <td>{'sbo': 'SBO:0000375', 'bigg.reaction': 'TPI',...</td>\n    </tr>\n  </tbody>\n</table>\n<p>95 rows × 6 columns</p>\n</div>"
     },
     "execution_count": 9,
     "metadata": {},
     "output_type": "execute_result"
    }
   ],
   "source": [
    "simul.find()"
   ]
  },
  {
   "cell_type": "code",
   "execution_count": 10,
   "metadata": {
    "ExecuteTime": {
     "end_time": "2024-06-19T14:35:39.957359100Z",
     "start_time": "2024-06-19T14:35:39.851459500Z"
    }
   },
   "outputs": [
    {
     "data": {
      "text/plain": "                                                         name      lb      ub  \\\nid                                                                              \nBIOMASS_Ecoli_core_w_GAM  Biomass Objective Function with GAM     0.0  1000.0   \nEX_ac_e                                      Acetate exchange     0.0  1000.0   \nEX_acald_e                              Acetaldehyde exchange     0.0  1000.0   \nEX_akg_e                              2-Oxoglutarate exchange     0.0  1000.0   \nEX_co2_e                                         CO2 exchange -1000.0  1000.0   \nEX_etoh_e                                    Ethanol exchange     0.0  1000.0   \nEX_for_e                                     Formate exchange     0.0  1000.0   \nEX_fru_e                                  D-Fructose exchange     0.0  1000.0   \nEX_fum_e                                    Fumarate exchange     0.0  1000.0   \nEX_glc__D_e                                D-Glucose exchange   -10.0  1000.0   \nEX_gln__L_e                              L-Glutamine exchange     0.0  1000.0   \nEX_glu__L_e                              L-Glutamate exchange     0.0  1000.0   \nEX_h_e                                            H+ exchange -1000.0  1000.0   \nEX_h2o_e                                         H2O exchange -1000.0  1000.0   \nEX_lac__D_e                                D-lactate exchange     0.0  1000.0   \nEX_mal__L_e                                 L-Malate exchange     0.0  1000.0   \nEX_nh4_e                                     Ammonia exchange -1000.0  1000.0   \nEX_o2_e                                           O2 exchange -1000.0  1000.0   \nEX_pi_e                                    Phosphate exchange -1000.0  1000.0   \nEX_pyr_e                                    Pyruvate exchange     0.0  1000.0   \nEX_succ_e                                  Succinate exchange     0.0  1000.0   \n\n                                                              stoichiometry  \\\nid                                                                            \nBIOMASS_Ecoli_core_w_GAM  {'3pg_c': -1.496, 'accoa_c': -3.7478, 'atp_c':...   \nEX_ac_e                                                      {'ac_e': -1.0}   \nEX_acald_e                                                {'acald_e': -1.0}   \nEX_akg_e                                                    {'akg_e': -1.0}   \nEX_co2_e                                                    {'co2_e': -1.0}   \nEX_etoh_e                                                  {'etoh_e': -1.0}   \nEX_for_e                                                    {'for_e': -1.0}   \nEX_fru_e                                                    {'fru_e': -1.0}   \nEX_fum_e                                                    {'fum_e': -1.0}   \nEX_glc__D_e                                              {'glc__D_e': -1.0}   \nEX_gln__L_e                                              {'gln__L_e': -1.0}   \nEX_glu__L_e                                              {'glu__L_e': -1.0}   \nEX_h_e                                                        {'h_e': -1.0}   \nEX_h2o_e                                                    {'h2o_e': -1.0}   \nEX_lac__D_e                                              {'lac__D_e': -1.0}   \nEX_mal__L_e                                              {'mal__L_e': -1.0}   \nEX_nh4_e                                                    {'nh4_e': -1.0}   \nEX_o2_e                                                      {'o2_e': -1.0}   \nEX_pi_e                                                      {'pi_e': -1.0}   \nEX_pyr_e                                                    {'pyr_e': -1.0}   \nEX_succ_e                                                  {'succ_e': -1.0}   \n\n                         gpr  \\\nid                             \nBIOMASS_Ecoli_core_w_GAM       \nEX_ac_e                        \nEX_acald_e                     \nEX_akg_e                       \nEX_co2_e                       \nEX_etoh_e                      \nEX_for_e                       \nEX_fru_e                       \nEX_fum_e                       \nEX_glc__D_e                    \nEX_gln__L_e                    \nEX_glu__L_e                    \nEX_h_e                         \nEX_h2o_e                       \nEX_lac__D_e                    \nEX_mal__L_e                    \nEX_nh4_e                       \nEX_o2_e                        \nEX_pi_e                        \nEX_pyr_e                       \nEX_succ_e                      \n\n                                                                annotations  \nid                                                                           \nBIOMASS_Ecoli_core_w_GAM  {'sbo': ['SBO:0000629'], 'bigg.reaction': ['BI...  \nEX_ac_e                   {'sbo': 'SBO:0000627', 'bigg.reaction': ['EX_a...  \nEX_acald_e                {'sbo': 'SBO:0000627', 'bigg.reaction': ['EX_a...  \nEX_akg_e                  {'sbo': 'SBO:0000627', 'bigg.reaction': ['EX_a...  \nEX_co2_e                  {'sbo': 'SBO:0000627', 'bigg.reaction': ['EX_c...  \nEX_etoh_e                 {'sbo': 'SBO:0000627', 'bigg.reaction': ['EX_e...  \nEX_for_e                  {'sbo': 'SBO:0000627', 'bigg.reaction': ['EX_f...  \nEX_fru_e                  {'sbo': 'SBO:0000627', 'bigg.reaction': ['EX_f...  \nEX_fum_e                  {'sbo': 'SBO:0000627', 'bigg.reaction': ['EX_f...  \nEX_glc__D_e               {'sbo': 'SBO:0000627', 'bigg.reaction': ['EX_g...  \nEX_gln__L_e               {'sbo': 'SBO:0000627', 'bigg.reaction': ['EX_g...  \nEX_glu__L_e               {'sbo': 'SBO:0000627', 'bigg.reaction': ['EX_g...  \nEX_h_e                    {'sbo': 'SBO:0000627', 'bigg.reaction': ['EX_h...  \nEX_h2o_e                  {'sbo': 'SBO:0000627', 'bigg.reaction': ['EX_h...  \nEX_lac__D_e               {'sbo': 'SBO:0000627', 'bigg.reaction': ['EX_l...  \nEX_mal__L_e               {'sbo': 'SBO:0000627', 'bigg.reaction': ['EX_m...  \nEX_nh4_e                  {'sbo': 'SBO:0000627', 'bigg.reaction': ['EX_n...  \nEX_o2_e                   {'sbo': 'SBO:0000627', 'bigg.reaction': ['EX_o...  \nEX_pi_e                   {'sbo': 'SBO:0000627', 'bigg.reaction': ['EX_p...  \nEX_pyr_e                  {'sbo': 'SBO:0000627', 'bigg.reaction': ['EX_p...  \nEX_succ_e                 {'sbo': 'SBO:0000627', 'bigg.reaction': ['EX_s...  ",
      "text/html": "<div>\n<style scoped>\n    .dataframe tbody tr th:only-of-type {\n        vertical-align: middle;\n    }\n\n    .dataframe tbody tr th {\n        vertical-align: top;\n    }\n\n    .dataframe thead th {\n        text-align: right;\n    }\n</style>\n<table border=\"1\" class=\"dataframe\">\n  <thead>\n    <tr style=\"text-align: right;\">\n      <th></th>\n      <th>name</th>\n      <th>lb</th>\n      <th>ub</th>\n      <th>stoichiometry</th>\n      <th>gpr</th>\n      <th>annotations</th>\n    </tr>\n    <tr>\n      <th>id</th>\n      <th></th>\n      <th></th>\n      <th></th>\n      <th></th>\n      <th></th>\n      <th></th>\n    </tr>\n  </thead>\n  <tbody>\n    <tr>\n      <th>BIOMASS_Ecoli_core_w_GAM</th>\n      <td>Biomass Objective Function with GAM</td>\n      <td>0.0</td>\n      <td>1000.0</td>\n      <td>{'3pg_c': -1.496, 'accoa_c': -3.7478, 'atp_c':...</td>\n      <td></td>\n      <td>{'sbo': ['SBO:0000629'], 'bigg.reaction': ['BI...</td>\n    </tr>\n    <tr>\n      <th>EX_ac_e</th>\n      <td>Acetate exchange</td>\n      <td>0.0</td>\n      <td>1000.0</td>\n      <td>{'ac_e': -1.0}</td>\n      <td></td>\n      <td>{'sbo': 'SBO:0000627', 'bigg.reaction': ['EX_a...</td>\n    </tr>\n    <tr>\n      <th>EX_acald_e</th>\n      <td>Acetaldehyde exchange</td>\n      <td>0.0</td>\n      <td>1000.0</td>\n      <td>{'acald_e': -1.0}</td>\n      <td></td>\n      <td>{'sbo': 'SBO:0000627', 'bigg.reaction': ['EX_a...</td>\n    </tr>\n    <tr>\n      <th>EX_akg_e</th>\n      <td>2-Oxoglutarate exchange</td>\n      <td>0.0</td>\n      <td>1000.0</td>\n      <td>{'akg_e': -1.0}</td>\n      <td></td>\n      <td>{'sbo': 'SBO:0000627', 'bigg.reaction': ['EX_a...</td>\n    </tr>\n    <tr>\n      <th>EX_co2_e</th>\n      <td>CO2 exchange</td>\n      <td>-1000.0</td>\n      <td>1000.0</td>\n      <td>{'co2_e': -1.0}</td>\n      <td></td>\n      <td>{'sbo': 'SBO:0000627', 'bigg.reaction': ['EX_c...</td>\n    </tr>\n    <tr>\n      <th>EX_etoh_e</th>\n      <td>Ethanol exchange</td>\n      <td>0.0</td>\n      <td>1000.0</td>\n      <td>{'etoh_e': -1.0}</td>\n      <td></td>\n      <td>{'sbo': 'SBO:0000627', 'bigg.reaction': ['EX_e...</td>\n    </tr>\n    <tr>\n      <th>EX_for_e</th>\n      <td>Formate exchange</td>\n      <td>0.0</td>\n      <td>1000.0</td>\n      <td>{'for_e': -1.0}</td>\n      <td></td>\n      <td>{'sbo': 'SBO:0000627', 'bigg.reaction': ['EX_f...</td>\n    </tr>\n    <tr>\n      <th>EX_fru_e</th>\n      <td>D-Fructose exchange</td>\n      <td>0.0</td>\n      <td>1000.0</td>\n      <td>{'fru_e': -1.0}</td>\n      <td></td>\n      <td>{'sbo': 'SBO:0000627', 'bigg.reaction': ['EX_f...</td>\n    </tr>\n    <tr>\n      <th>EX_fum_e</th>\n      <td>Fumarate exchange</td>\n      <td>0.0</td>\n      <td>1000.0</td>\n      <td>{'fum_e': -1.0}</td>\n      <td></td>\n      <td>{'sbo': 'SBO:0000627', 'bigg.reaction': ['EX_f...</td>\n    </tr>\n    <tr>\n      <th>EX_glc__D_e</th>\n      <td>D-Glucose exchange</td>\n      <td>-10.0</td>\n      <td>1000.0</td>\n      <td>{'glc__D_e': -1.0}</td>\n      <td></td>\n      <td>{'sbo': 'SBO:0000627', 'bigg.reaction': ['EX_g...</td>\n    </tr>\n    <tr>\n      <th>EX_gln__L_e</th>\n      <td>L-Glutamine exchange</td>\n      <td>0.0</td>\n      <td>1000.0</td>\n      <td>{'gln__L_e': -1.0}</td>\n      <td></td>\n      <td>{'sbo': 'SBO:0000627', 'bigg.reaction': ['EX_g...</td>\n    </tr>\n    <tr>\n      <th>EX_glu__L_e</th>\n      <td>L-Glutamate exchange</td>\n      <td>0.0</td>\n      <td>1000.0</td>\n      <td>{'glu__L_e': -1.0}</td>\n      <td></td>\n      <td>{'sbo': 'SBO:0000627', 'bigg.reaction': ['EX_g...</td>\n    </tr>\n    <tr>\n      <th>EX_h_e</th>\n      <td>H+ exchange</td>\n      <td>-1000.0</td>\n      <td>1000.0</td>\n      <td>{'h_e': -1.0}</td>\n      <td></td>\n      <td>{'sbo': 'SBO:0000627', 'bigg.reaction': ['EX_h...</td>\n    </tr>\n    <tr>\n      <th>EX_h2o_e</th>\n      <td>H2O exchange</td>\n      <td>-1000.0</td>\n      <td>1000.0</td>\n      <td>{'h2o_e': -1.0}</td>\n      <td></td>\n      <td>{'sbo': 'SBO:0000627', 'bigg.reaction': ['EX_h...</td>\n    </tr>\n    <tr>\n      <th>EX_lac__D_e</th>\n      <td>D-lactate exchange</td>\n      <td>0.0</td>\n      <td>1000.0</td>\n      <td>{'lac__D_e': -1.0}</td>\n      <td></td>\n      <td>{'sbo': 'SBO:0000627', 'bigg.reaction': ['EX_l...</td>\n    </tr>\n    <tr>\n      <th>EX_mal__L_e</th>\n      <td>L-Malate exchange</td>\n      <td>0.0</td>\n      <td>1000.0</td>\n      <td>{'mal__L_e': -1.0}</td>\n      <td></td>\n      <td>{'sbo': 'SBO:0000627', 'bigg.reaction': ['EX_m...</td>\n    </tr>\n    <tr>\n      <th>EX_nh4_e</th>\n      <td>Ammonia exchange</td>\n      <td>-1000.0</td>\n      <td>1000.0</td>\n      <td>{'nh4_e': -1.0}</td>\n      <td></td>\n      <td>{'sbo': 'SBO:0000627', 'bigg.reaction': ['EX_n...</td>\n    </tr>\n    <tr>\n      <th>EX_o2_e</th>\n      <td>O2 exchange</td>\n      <td>-1000.0</td>\n      <td>1000.0</td>\n      <td>{'o2_e': -1.0}</td>\n      <td></td>\n      <td>{'sbo': 'SBO:0000627', 'bigg.reaction': ['EX_o...</td>\n    </tr>\n    <tr>\n      <th>EX_pi_e</th>\n      <td>Phosphate exchange</td>\n      <td>-1000.0</td>\n      <td>1000.0</td>\n      <td>{'pi_e': -1.0}</td>\n      <td></td>\n      <td>{'sbo': 'SBO:0000627', 'bigg.reaction': ['EX_p...</td>\n    </tr>\n    <tr>\n      <th>EX_pyr_e</th>\n      <td>Pyruvate exchange</td>\n      <td>0.0</td>\n      <td>1000.0</td>\n      <td>{'pyr_e': -1.0}</td>\n      <td></td>\n      <td>{'sbo': 'SBO:0000627', 'bigg.reaction': ['EX_p...</td>\n    </tr>\n    <tr>\n      <th>EX_succ_e</th>\n      <td>Succinate exchange</td>\n      <td>0.0</td>\n      <td>1000.0</td>\n      <td>{'succ_e': -1.0}</td>\n      <td></td>\n      <td>{'sbo': 'SBO:0000627', 'bigg.reaction': ['EX_s...</td>\n    </tr>\n  </tbody>\n</table>\n</div>"
     },
     "execution_count": 10,
     "metadata": {},
     "output_type": "execute_result"
    }
   ],
   "source": [
    "simul.find(['EX_','BIO'])"
   ]
  },
  {
   "cell_type": "code",
   "execution_count": 11,
   "metadata": {
    "ExecuteTime": {
     "end_time": "2024-06-19T14:35:39.976851400Z",
     "start_time": "2024-06-19T14:35:39.897333500Z"
    }
   },
   "outputs": [
    {
     "data": {
      "text/plain": "                                name compartment    formula\nid                                                         \nglc__D_e                   D-Glucose           e    C6H12O6\ngln__L_c                 L-Glutamine           c  C5H10N2O3\ngln__L_e                 L-Glutamine           e  C5H10N2O3\nglu__L_c                 L-Glutamate           c    C5H8NO4\nglu__L_e                 L-Glutamate           e    C5H8NO4\n...                              ...         ...        ...\nfru_e                     D-Fructose           e    C6H12O6\nfum_c                       Fumarate           c     C4H2O4\nfum_e                       Fumarate           e     C4H2O4\ng3p_c     Glyceraldehyde 3-phosphate           c    C3H5O6P\ng6p_c          D-Glucose 6-phosphate           c   C6H11O9P\n\n[72 rows x 3 columns]",
      "text/html": "<div>\n<style scoped>\n    .dataframe tbody tr th:only-of-type {\n        vertical-align: middle;\n    }\n\n    .dataframe tbody tr th {\n        vertical-align: top;\n    }\n\n    .dataframe thead th {\n        text-align: right;\n    }\n</style>\n<table border=\"1\" class=\"dataframe\">\n  <thead>\n    <tr style=\"text-align: right;\">\n      <th></th>\n      <th>name</th>\n      <th>compartment</th>\n      <th>formula</th>\n    </tr>\n    <tr>\n      <th>id</th>\n      <th></th>\n      <th></th>\n      <th></th>\n    </tr>\n  </thead>\n  <tbody>\n    <tr>\n      <th>glc__D_e</th>\n      <td>D-Glucose</td>\n      <td>e</td>\n      <td>C6H12O6</td>\n    </tr>\n    <tr>\n      <th>gln__L_c</th>\n      <td>L-Glutamine</td>\n      <td>c</td>\n      <td>C5H10N2O3</td>\n    </tr>\n    <tr>\n      <th>gln__L_e</th>\n      <td>L-Glutamine</td>\n      <td>e</td>\n      <td>C5H10N2O3</td>\n    </tr>\n    <tr>\n      <th>glu__L_c</th>\n      <td>L-Glutamate</td>\n      <td>c</td>\n      <td>C5H8NO4</td>\n    </tr>\n    <tr>\n      <th>glu__L_e</th>\n      <td>L-Glutamate</td>\n      <td>e</td>\n      <td>C5H8NO4</td>\n    </tr>\n    <tr>\n      <th>...</th>\n      <td>...</td>\n      <td>...</td>\n      <td>...</td>\n    </tr>\n    <tr>\n      <th>fru_e</th>\n      <td>D-Fructose</td>\n      <td>e</td>\n      <td>C6H12O6</td>\n    </tr>\n    <tr>\n      <th>fum_c</th>\n      <td>Fumarate</td>\n      <td>c</td>\n      <td>C4H2O4</td>\n    </tr>\n    <tr>\n      <th>fum_e</th>\n      <td>Fumarate</td>\n      <td>e</td>\n      <td>C4H2O4</td>\n    </tr>\n    <tr>\n      <th>g3p_c</th>\n      <td>Glyceraldehyde 3-phosphate</td>\n      <td>c</td>\n      <td>C3H5O6P</td>\n    </tr>\n    <tr>\n      <th>g6p_c</th>\n      <td>D-Glucose 6-phosphate</td>\n      <td>c</td>\n      <td>C6H11O9P</td>\n    </tr>\n  </tbody>\n</table>\n<p>72 rows × 3 columns</p>\n</div>"
     },
     "execution_count": 11,
     "metadata": {},
     "output_type": "execute_result"
    }
   ],
   "source": [
    "# metabolites\n",
    "simul.find_metabolites()"
   ]
  },
  {
   "cell_type": "code",
   "execution_count": 12,
   "metadata": {
    "ExecuteTime": {
     "end_time": "2024-06-19T14:35:39.978865400Z",
     "start_time": "2024-06-19T14:35:39.914329600Z"
    }
   },
   "outputs": [
    {
     "data": {
      "text/plain": "      name                        reactions\nid                                         \nb1241                       [ACALD, ALCD2x]\nb0351                               [ACALD]\ns0001       [ACALDt, CO2t, H2Ot, NH4t, O2t]\nb2296                                [ACKr]\nb1849                                [ACKr]\n...    ...                              ...\nb2464                                [TALA]\nb0008                                [TALA]\nb2935                          [TKT1, TKT2]\nb2465                          [TKT1, TKT2]\nb3919                                 [TPI]\n\n[137 rows x 2 columns]",
      "text/html": "<div>\n<style scoped>\n    .dataframe tbody tr th:only-of-type {\n        vertical-align: middle;\n    }\n\n    .dataframe tbody tr th {\n        vertical-align: top;\n    }\n\n    .dataframe thead th {\n        text-align: right;\n    }\n</style>\n<table border=\"1\" class=\"dataframe\">\n  <thead>\n    <tr style=\"text-align: right;\">\n      <th></th>\n      <th>name</th>\n      <th>reactions</th>\n    </tr>\n    <tr>\n      <th>id</th>\n      <th></th>\n      <th></th>\n    </tr>\n  </thead>\n  <tbody>\n    <tr>\n      <th>b1241</th>\n      <td></td>\n      <td>[ACALD, ALCD2x]</td>\n    </tr>\n    <tr>\n      <th>b0351</th>\n      <td></td>\n      <td>[ACALD]</td>\n    </tr>\n    <tr>\n      <th>s0001</th>\n      <td></td>\n      <td>[ACALDt, CO2t, H2Ot, NH4t, O2t]</td>\n    </tr>\n    <tr>\n      <th>b2296</th>\n      <td></td>\n      <td>[ACKr]</td>\n    </tr>\n    <tr>\n      <th>b1849</th>\n      <td></td>\n      <td>[ACKr]</td>\n    </tr>\n    <tr>\n      <th>...</th>\n      <td>...</td>\n      <td>...</td>\n    </tr>\n    <tr>\n      <th>b2464</th>\n      <td></td>\n      <td>[TALA]</td>\n    </tr>\n    <tr>\n      <th>b0008</th>\n      <td></td>\n      <td>[TALA]</td>\n    </tr>\n    <tr>\n      <th>b2935</th>\n      <td></td>\n      <td>[TKT1, TKT2]</td>\n    </tr>\n    <tr>\n      <th>b2465</th>\n      <td></td>\n      <td>[TKT1, TKT2]</td>\n    </tr>\n    <tr>\n      <th>b3919</th>\n      <td></td>\n      <td>[TPI]</td>\n    </tr>\n  </tbody>\n</table>\n<p>137 rows × 2 columns</p>\n</div>"
     },
     "execution_count": 12,
     "metadata": {},
     "output_type": "execute_result"
    }
   ],
   "source": [
    "# metabolites\n",
    "simul.find_genes()"
   ]
  },
  {
   "cell_type": "markdown",
   "metadata": {},
   "source": [
    "Listing the uptake reactions:"
   ]
  },
  {
   "cell_type": "code",
   "execution_count": 13,
   "metadata": {
    "ExecuteTime": {
     "end_time": "2024-06-19T14:35:39.999862600Z",
     "start_time": "2024-06-19T14:35:39.934333200Z"
    }
   },
   "outputs": [
    {
     "data": {
      "text/plain": "['EX_co2_e',\n 'EX_glc__D_e',\n 'EX_h_e',\n 'EX_h2o_e',\n 'EX_nh4_e',\n 'EX_o2_e',\n 'EX_pi_e']"
     },
     "execution_count": 13,
     "metadata": {},
     "output_type": "execute_result"
    }
   ],
   "source": [
    "simul.get_uptake_reactions()"
   ]
  },
  {
   "cell_type": "code",
   "execution_count": 14,
   "metadata": {
    "ExecuteTime": {
     "end_time": "2024-06-19T14:35:40.089962600Z",
     "start_time": "2024-06-19T14:35:39.948331Z"
    }
   },
   "outputs": [
    {
     "data": {
      "text/plain": "                           name      lb      ub       stoichiometry gpr  \\\nid                                                                        \nEX_co2_e           CO2 exchange -1000.0  1000.0     {'co2_e': -1.0}       \nEX_glc__D_e  D-Glucose exchange   -10.0  1000.0  {'glc__D_e': -1.0}       \nEX_h_e              H+ exchange -1000.0  1000.0       {'h_e': -1.0}       \nEX_h2o_e           H2O exchange -1000.0  1000.0     {'h2o_e': -1.0}       \nEX_nh4_e       Ammonia exchange -1000.0  1000.0     {'nh4_e': -1.0}       \nEX_o2_e             O2 exchange -1000.0  1000.0      {'o2_e': -1.0}       \nEX_pi_e      Phosphate exchange -1000.0  1000.0      {'pi_e': -1.0}       \n\n                                                   annotations  \nid                                                              \nEX_co2_e     {'sbo': 'SBO:0000627', 'bigg.reaction': ['EX_c...  \nEX_glc__D_e  {'sbo': 'SBO:0000627', 'bigg.reaction': ['EX_g...  \nEX_h_e       {'sbo': 'SBO:0000627', 'bigg.reaction': ['EX_h...  \nEX_h2o_e     {'sbo': 'SBO:0000627', 'bigg.reaction': ['EX_h...  \nEX_nh4_e     {'sbo': 'SBO:0000627', 'bigg.reaction': ['EX_n...  \nEX_o2_e      {'sbo': 'SBO:0000627', 'bigg.reaction': ['EX_o...  \nEX_pi_e      {'sbo': 'SBO:0000627', 'bigg.reaction': ['EX_p...  ",
      "text/html": "<div>\n<style scoped>\n    .dataframe tbody tr th:only-of-type {\n        vertical-align: middle;\n    }\n\n    .dataframe tbody tr th {\n        vertical-align: top;\n    }\n\n    .dataframe thead th {\n        text-align: right;\n    }\n</style>\n<table border=\"1\" class=\"dataframe\">\n  <thead>\n    <tr style=\"text-align: right;\">\n      <th></th>\n      <th>name</th>\n      <th>lb</th>\n      <th>ub</th>\n      <th>stoichiometry</th>\n      <th>gpr</th>\n      <th>annotations</th>\n    </tr>\n    <tr>\n      <th>id</th>\n      <th></th>\n      <th></th>\n      <th></th>\n      <th></th>\n      <th></th>\n      <th></th>\n    </tr>\n  </thead>\n  <tbody>\n    <tr>\n      <th>EX_co2_e</th>\n      <td>CO2 exchange</td>\n      <td>-1000.0</td>\n      <td>1000.0</td>\n      <td>{'co2_e': -1.0}</td>\n      <td></td>\n      <td>{'sbo': 'SBO:0000627', 'bigg.reaction': ['EX_c...</td>\n    </tr>\n    <tr>\n      <th>EX_glc__D_e</th>\n      <td>D-Glucose exchange</td>\n      <td>-10.0</td>\n      <td>1000.0</td>\n      <td>{'glc__D_e': -1.0}</td>\n      <td></td>\n      <td>{'sbo': 'SBO:0000627', 'bigg.reaction': ['EX_g...</td>\n    </tr>\n    <tr>\n      <th>EX_h_e</th>\n      <td>H+ exchange</td>\n      <td>-1000.0</td>\n      <td>1000.0</td>\n      <td>{'h_e': -1.0}</td>\n      <td></td>\n      <td>{'sbo': 'SBO:0000627', 'bigg.reaction': ['EX_h...</td>\n    </tr>\n    <tr>\n      <th>EX_h2o_e</th>\n      <td>H2O exchange</td>\n      <td>-1000.0</td>\n      <td>1000.0</td>\n      <td>{'h2o_e': -1.0}</td>\n      <td></td>\n      <td>{'sbo': 'SBO:0000627', 'bigg.reaction': ['EX_h...</td>\n    </tr>\n    <tr>\n      <th>EX_nh4_e</th>\n      <td>Ammonia exchange</td>\n      <td>-1000.0</td>\n      <td>1000.0</td>\n      <td>{'nh4_e': -1.0}</td>\n      <td></td>\n      <td>{'sbo': 'SBO:0000627', 'bigg.reaction': ['EX_n...</td>\n    </tr>\n    <tr>\n      <th>EX_o2_e</th>\n      <td>O2 exchange</td>\n      <td>-1000.0</td>\n      <td>1000.0</td>\n      <td>{'o2_e': -1.0}</td>\n      <td></td>\n      <td>{'sbo': 'SBO:0000627', 'bigg.reaction': ['EX_o...</td>\n    </tr>\n    <tr>\n      <th>EX_pi_e</th>\n      <td>Phosphate exchange</td>\n      <td>-1000.0</td>\n      <td>1000.0</td>\n      <td>{'pi_e': -1.0}</td>\n      <td></td>\n      <td>{'sbo': 'SBO:0000627', 'bigg.reaction': ['EX_p...</td>\n    </tr>\n  </tbody>\n</table>\n</div>"
     },
     "execution_count": 14,
     "metadata": {},
     "output_type": "execute_result"
    }
   ],
   "source": [
    "# for a more compreensive listage\n",
    "simul.find(simul.get_uptake_reactions())"
   ]
  },
  {
   "cell_type": "markdown",
   "metadata": {},
   "source": [
    "A simulator may also be loaded considering environmental conditions, that will be considered during phenotype simulations. In the next example, glucose consumption is limited to 10 mmol/gDW/h in anaerobical conditions."
   ]
  },
  {
   "cell_type": "code",
   "execution_count": 15,
   "metadata": {
    "ExecuteTime": {
     "end_time": "2024-06-19T14:35:40.141956Z",
     "start_time": "2024-06-19T14:35:39.977861700Z"
    }
   },
   "outputs": [],
   "source": [
    "envcond = {'EX_glc__D_e': (-10.0, 100000.0),\n",
    "           'EX_o2_e':(0,0)}\n",
    "\n",
    "simul = get_simulator(model,envcond=envcond)"
   ]
  },
  {
   "cell_type": "markdown",
   "metadata": {},
   "source": [
    "All phenotype simulations will consider the imposed environmental conditions, and as such they only need to be set once. Also, these conditions do not persistently alter the model, which can be reused with a different simulator instance."
   ]
  },
  {
   "cell_type": "markdown",
   "metadata": {},
   "source": [
    "## Phenotype simulation\n",
    "\n",
    "Phenotype simulations are also run using the simulator instance using  the `simulate` method. "
   ]
  },
  {
   "cell_type": "code",
   "execution_count": 16,
   "metadata": {
    "ExecuteTime": {
     "end_time": "2024-06-19T14:35:40.143931100Z",
     "start_time": "2024-06-19T14:35:39.992861800Z"
    }
   },
   "outputs": [
    {
     "data": {
      "text/plain": "objective: 0.21166294973531058\nStatus: OPTIMAL\nMethod:FBA"
     },
     "execution_count": 16,
     "metadata": {},
     "output_type": "execute_result"
    }
   ],
   "source": [
    "# FBA \n",
    "result = simul.simulate()\n",
    "# or \n",
    "result = simul.simulate(method='FBA')\n",
    "\n",
    "result"
   ]
  },
  {
   "cell_type": "markdown",
   "metadata": {},
   "source": [
    "Flux Balance Analysis (FBA) can be run without identifying any method, or  by passing the 'FBA' as method parameter. Other phenotype simulation methods may also be run using one of the identifiers:\n",
    "\n",
    "- Flux Balance Analysis: `method = 'FBA'`\n",
    "- Parsimonious FBA:`method = 'pFBA'`\n",
    "- Minimization of Metabolic Adjustment:`method = 'MOMA'`\n",
    "- Linear MOMA: `method = 'lMOMA'`\n",
    "- Regulatory on/off minimization of metabolic flux: `method = 'ROOM'`"
   ]
  },
  {
   "cell_type": "code",
   "execution_count": 17,
   "metadata": {
    "ExecuteTime": {
     "end_time": "2024-06-19T14:35:40.244511700Z",
     "start_time": "2024-06-19T14:35:40.023863100Z"
    }
   },
   "outputs": [
    {
     "data": {
      "text/plain": "objective: 335.65061686292484\nStatus: OPTIMAL\nMethod:pFBA"
     },
     "execution_count": 17,
     "metadata": {},
     "output_type": "execute_result"
    }
   ],
   "source": [
    "# pFBA\n",
    "result = simul.simulate(method = 'pFBA')\n",
    "result"
   ]
  },
  {
   "cell_type": "markdown",
   "metadata": {},
   "source": [
    "## Reaction fluxes\n",
    "\n",
    "The phenotype simulation result object, besides containing the objective value and solver status, also include reaction fluxes in the form of a dictionary:\n"
   ]
  },
  {
   "cell_type": "code",
   "execution_count": 18,
   "metadata": {
    "ExecuteTime": {
     "end_time": "2024-06-19T14:35:40.361041Z",
     "start_time": "2024-06-19T14:35:40.105933900Z"
    }
   },
   "outputs": [
    {
     "data": {
      "text/plain": "OrderedDict([('ACALD', -8.279455380486564),\n             ('ACALDt', 0.0),\n             ('ACKr', -8.50358527796132),\n             ('ACONTa', 0.22836315646942662),\n             ('ACONTb', 0.22836315646942662),\n             ('ACt2r', -8.50358527796132),\n             ('ADK1', 0.0),\n             ('AKGDH', 0.0),\n             ('AKGt2r', 0.0),\n             ('ALCD2x', -8.279455380486564),\n             ('ATPM', 8.39),\n             ('ATPS4r', -5.452052576810921),\n             ('BIOMASS_Ecoli_core_w_GAM', 0.21166294973531058),\n             ('CO2t', 0.3781781922920794),\n             ('CS', 0.22836315646942662),\n             ('CYTBD', 0.0),\n             ('D_LACt2', 0.0),\n             ('ENO', 19.1206886079146),\n             ('ETOHt2r', -8.279455380486564),\n             ('EX_ac_e', 8.50358527796132),\n             ('EX_acald_e', 0.0),\n             ('EX_akg_e', 0.0),\n             ('EX_co2_e', -0.3781781922920794),\n             ('EX_etoh_e', 8.279455380486564),\n             ('EX_for_e', 17.804674217935307),\n             ('EX_fru_e', 0.0),\n             ('EX_fum_e', 0.0),\n             ('EX_glc__D_e', -10.0),\n             ('EX_gln__L_e', 0.0),\n             ('EX_glu__L_e', 0.0),\n             ('EX_h_e', 30.554218267587004),\n             ('EX_h2o_e', -7.115795981726796),\n             ('EX_lac__D_e', 0.0),\n             ('EX_mal__L_e', 0.0),\n             ('EX_nh4_e', -1.1541557323167015),\n             ('EX_o2_e', 0.0),\n             ('EX_pi_e', -0.7786444931912726),\n             ('EX_pyr_e', 0.0),\n             ('EX_succ_e', -0.0),\n             ('FBA', 9.789458863898286),\n             ('FBP', 0.0),\n             ('FORt2', 0.0),\n             ('FORt', -17.804674217935307),\n             ('FRD7', 0.0),\n             ('FRUpts2', 0.0),\n             ('FUM', 0.0),\n             ('FUMt2_2', 0.0),\n             ('G6PDH2r', 0.0),\n             ('GAPD', 19.437336380718627),\n             ('GLCpts', 10.0),\n             ('GLNS', 0.05412221624731891),\n             ('GLNabc', 0.0),\n             ('GLUDy', -1.1000335160693826),\n             ('GLUN', 0.0),\n             ('GLUSy', 0.0),\n             ('GLUt2r', 0.0),\n             ('GND', 0.0),\n             ('H2Ot', 7.115795981726796),\n             ('ICDHyr', 0.22836315646942662),\n             ('ICL', 0.0),\n             ('LDH_D', 0.0),\n             ('MALS', 0.0),\n             ('MALt2_2', 0.0),\n             ('MDH', 0.0),\n             ('ME1', 0.0),\n             ('ME2', 0.0),\n             ('NADH16', 0.0),\n             ('NADTRHD', 0.0),\n             ('NH4t', 1.1541557323167015),\n             ('O2t', 0.0),\n             ('PDH', 0.0),\n             ('PFK', 9.789458863898286),\n             ('PFL', 17.804674217935307),\n             ('PGI', 9.95660909530426),\n             ('PGK', -19.437336380718627),\n             ('PGL', 0.0),\n             ('PGM', -19.1206886079146),\n             ('PIt2r', 0.7786444931912726),\n             ('PPC', 0.606541348761506),\n             ('PPCK', 0.0),\n             ('PPS', 0.0),\n             ('PTAr', 8.50358527796132),\n             ('PYK', 8.404273021945496),\n             ('PYRt2', 0.0),\n             ('RPE', -0.15214332826974125),\n             ('RPI', -0.15214332826974125),\n             ('SUCCt2_2', 0.0),\n             ('SUCCt3', 0.0),\n             ('SUCDi', 0.0),\n             ('SUCOAS', 0.0),\n             ('TALA', -0.03786650170764707),\n             ('THD2', 3.629194102456646),\n             ('TKT1', -0.03786650170764707),\n             ('TKT2', -0.11427682656209417),\n             ('TPI', 9.789458863898286)])"
     },
     "execution_count": 18,
     "metadata": {},
     "output_type": "execute_result"
    }
   ],
   "source": [
    "result.fluxes"
   ]
  },
  {
   "cell_type": "markdown",
   "metadata": {},
   "source": [
    "or as a dataframe:"
   ]
  },
  {
   "cell_type": "code",
   "execution_count": 19,
   "metadata": {
    "ExecuteTime": {
     "end_time": "2024-06-19T14:35:40.362044Z",
     "start_time": "2024-06-19T14:35:40.118938200Z"
    }
   },
   "outputs": [
    {
     "data": {
      "text/plain": "                          Flux rate\nReaction ID                        \nACALD                     -8.279455\nACKr                      -8.503585\nACONTa                     0.228363\nACONTb                     0.228363\nACt2r                     -8.503585\nALCD2x                    -8.279455\nATPM                       8.390000\nATPS4r                    -5.452053\nBIOMASS_Ecoli_core_w_GAM   0.211663\nCO2t                       0.378178\nCS                         0.228363\nENO                       19.120689\nETOHt2r                   -8.279455\nEX_ac_e                    8.503585\nEX_co2_e                  -0.378178\nEX_etoh_e                  8.279455\nEX_for_e                  17.804674\nEX_glc__D_e              -10.000000\nEX_h_e                    30.554218\nEX_h2o_e                  -7.115796\nEX_nh4_e                  -1.154156\nEX_pi_e                   -0.778644\nFBA                        9.789459\nFORt                     -17.804674\nGAPD                      19.437336\nGLCpts                    10.000000\nGLNS                       0.054122\nGLUDy                     -1.100034\nH2Ot                       7.115796\nICDHyr                     0.228363\nNH4t                       1.154156\nPFK                        9.789459\nPFL                       17.804674\nPGI                        9.956609\nPGK                      -19.437336\nPGM                      -19.120689\nPIt2r                      0.778644\nPPC                        0.606541\nPTAr                       8.503585\nPYK                        8.404273\nRPE                       -0.152143\nRPI                       -0.152143\nTALA                      -0.037867\nTHD2                       3.629194\nTKT1                      -0.037867\nTKT2                      -0.114277\nTPI                        9.789459",
      "text/html": "<div>\n<style scoped>\n    .dataframe tbody tr th:only-of-type {\n        vertical-align: middle;\n    }\n\n    .dataframe tbody tr th {\n        vertical-align: top;\n    }\n\n    .dataframe thead th {\n        text-align: right;\n    }\n</style>\n<table border=\"1\" class=\"dataframe\">\n  <thead>\n    <tr style=\"text-align: right;\">\n      <th></th>\n      <th>Flux rate</th>\n    </tr>\n    <tr>\n      <th>Reaction ID</th>\n      <th></th>\n    </tr>\n  </thead>\n  <tbody>\n    <tr>\n      <th>ACALD</th>\n      <td>-8.279455</td>\n    </tr>\n    <tr>\n      <th>ACKr</th>\n      <td>-8.503585</td>\n    </tr>\n    <tr>\n      <th>ACONTa</th>\n      <td>0.228363</td>\n    </tr>\n    <tr>\n      <th>ACONTb</th>\n      <td>0.228363</td>\n    </tr>\n    <tr>\n      <th>ACt2r</th>\n      <td>-8.503585</td>\n    </tr>\n    <tr>\n      <th>ALCD2x</th>\n      <td>-8.279455</td>\n    </tr>\n    <tr>\n      <th>ATPM</th>\n      <td>8.390000</td>\n    </tr>\n    <tr>\n      <th>ATPS4r</th>\n      <td>-5.452053</td>\n    </tr>\n    <tr>\n      <th>BIOMASS_Ecoli_core_w_GAM</th>\n      <td>0.211663</td>\n    </tr>\n    <tr>\n      <th>CO2t</th>\n      <td>0.378178</td>\n    </tr>\n    <tr>\n      <th>CS</th>\n      <td>0.228363</td>\n    </tr>\n    <tr>\n      <th>ENO</th>\n      <td>19.120689</td>\n    </tr>\n    <tr>\n      <th>ETOHt2r</th>\n      <td>-8.279455</td>\n    </tr>\n    <tr>\n      <th>EX_ac_e</th>\n      <td>8.503585</td>\n    </tr>\n    <tr>\n      <th>EX_co2_e</th>\n      <td>-0.378178</td>\n    </tr>\n    <tr>\n      <th>EX_etoh_e</th>\n      <td>8.279455</td>\n    </tr>\n    <tr>\n      <th>EX_for_e</th>\n      <td>17.804674</td>\n    </tr>\n    <tr>\n      <th>EX_glc__D_e</th>\n      <td>-10.000000</td>\n    </tr>\n    <tr>\n      <th>EX_h_e</th>\n      <td>30.554218</td>\n    </tr>\n    <tr>\n      <th>EX_h2o_e</th>\n      <td>-7.115796</td>\n    </tr>\n    <tr>\n      <th>EX_nh4_e</th>\n      <td>-1.154156</td>\n    </tr>\n    <tr>\n      <th>EX_pi_e</th>\n      <td>-0.778644</td>\n    </tr>\n    <tr>\n      <th>FBA</th>\n      <td>9.789459</td>\n    </tr>\n    <tr>\n      <th>FORt</th>\n      <td>-17.804674</td>\n    </tr>\n    <tr>\n      <th>GAPD</th>\n      <td>19.437336</td>\n    </tr>\n    <tr>\n      <th>GLCpts</th>\n      <td>10.000000</td>\n    </tr>\n    <tr>\n      <th>GLNS</th>\n      <td>0.054122</td>\n    </tr>\n    <tr>\n      <th>GLUDy</th>\n      <td>-1.100034</td>\n    </tr>\n    <tr>\n      <th>H2Ot</th>\n      <td>7.115796</td>\n    </tr>\n    <tr>\n      <th>ICDHyr</th>\n      <td>0.228363</td>\n    </tr>\n    <tr>\n      <th>NH4t</th>\n      <td>1.154156</td>\n    </tr>\n    <tr>\n      <th>PFK</th>\n      <td>9.789459</td>\n    </tr>\n    <tr>\n      <th>PFL</th>\n      <td>17.804674</td>\n    </tr>\n    <tr>\n      <th>PGI</th>\n      <td>9.956609</td>\n    </tr>\n    <tr>\n      <th>PGK</th>\n      <td>-19.437336</td>\n    </tr>\n    <tr>\n      <th>PGM</th>\n      <td>-19.120689</td>\n    </tr>\n    <tr>\n      <th>PIt2r</th>\n      <td>0.778644</td>\n    </tr>\n    <tr>\n      <th>PPC</th>\n      <td>0.606541</td>\n    </tr>\n    <tr>\n      <th>PTAr</th>\n      <td>8.503585</td>\n    </tr>\n    <tr>\n      <th>PYK</th>\n      <td>8.404273</td>\n    </tr>\n    <tr>\n      <th>RPE</th>\n      <td>-0.152143</td>\n    </tr>\n    <tr>\n      <th>RPI</th>\n      <td>-0.152143</td>\n    </tr>\n    <tr>\n      <th>TALA</th>\n      <td>-0.037867</td>\n    </tr>\n    <tr>\n      <th>THD2</th>\n      <td>3.629194</td>\n    </tr>\n    <tr>\n      <th>TKT1</th>\n      <td>-0.037867</td>\n    </tr>\n    <tr>\n      <th>TKT2</th>\n      <td>-0.114277</td>\n    </tr>\n    <tr>\n      <th>TPI</th>\n      <td>9.789459</td>\n    </tr>\n  </tbody>\n</table>\n</div>"
     },
     "execution_count": 19,
     "metadata": {},
     "output_type": "execute_result"
    }
   ],
   "source": [
    "result.find()"
   ]
  },
  {
   "cell_type": "markdown",
   "metadata": {},
   "source": [
    "Individual reaction flux values can be obtained from the dictionary representation. For example, the *triose-phosphate isomerase* (TPI) reaction flux can be obtained from the previous pFBA simulation using the reaction identifier:"
   ]
  },
  {
   "cell_type": "code",
   "execution_count": 20,
   "metadata": {
    "ExecuteTime": {
     "end_time": "2024-06-19T14:35:40.383574800Z",
     "start_time": "2024-06-19T14:35:40.132935300Z"
    }
   },
   "outputs": [
    {
     "data": {
      "text/plain": "9.789458863898286"
     },
     "execution_count": 20,
     "metadata": {},
     "output_type": "execute_result"
    }
   ],
   "source": [
    "result.fluxes['TPI']"
   ]
  },
  {
   "cell_type": "code",
   "execution_count": 21,
   "metadata": {
    "ExecuteTime": {
     "end_time": "2024-06-19T14:35:40.431572100Z",
     "start_time": "2024-06-19T14:35:40.148931Z"
    }
   },
   "outputs": [
    {
     "data": {
      "text/plain": "                          Flux rate\nReaction ID                        \nBIOMASS_Ecoli_core_w_GAM   0.211663\nTPI                        9.789459",
      "text/html": "<div>\n<style scoped>\n    .dataframe tbody tr th:only-of-type {\n        vertical-align: middle;\n    }\n\n    .dataframe tbody tr th {\n        vertical-align: top;\n    }\n\n    .dataframe thead th {\n        text-align: right;\n    }\n</style>\n<table border=\"1\" class=\"dataframe\">\n  <thead>\n    <tr style=\"text-align: right;\">\n      <th></th>\n      <th>Flux rate</th>\n    </tr>\n    <tr>\n      <th>Reaction ID</th>\n      <th></th>\n    </tr>\n  </thead>\n  <tbody>\n    <tr>\n      <th>BIOMASS_Ecoli_core_w_GAM</th>\n      <td>0.211663</td>\n    </tr>\n    <tr>\n      <th>TPI</th>\n      <td>9.789459</td>\n    </tr>\n  </tbody>\n</table>\n</div>"
     },
     "execution_count": 21,
     "metadata": {},
     "output_type": "execute_result"
    }
   ],
   "source": [
    "result.find(['TPI','BIO'])"
   ]
  },
  {
   "cell_type": "markdown",
   "metadata": {},
   "source": [
    "To retrieve the net conversion equation invoke the `get_net_conversion` method. Exchange reactions with no flux are not presented."
   ]
  },
  {
   "cell_type": "code",
   "execution_count": 22,
   "metadata": {
    "ExecuteTime": {
     "end_time": "2024-06-19T14:35:40.541109900Z",
     "start_time": "2024-06-19T14:35:40.166954Z"
    }
   },
   "outputs": [
    {
     "data": {
      "text/plain": "'0.3781781922920794 co2_e + 10.0 glc__D_e + 7.115795981726796 h2o_e + 1.1541557323167015 nh4_e + 0.7786444931912726 pi_e --> 8.50358527796132 ac_e + 8.279455380486564 etoh_e + 17.804674217935307 for_e + 30.554218267587004 h_e'"
     },
     "execution_count": 22,
     "metadata": {},
     "output_type": "execute_result"
    }
   ],
   "source": [
    "result.get_net_conversion()"
   ]
  },
  {
   "cell_type": "markdown",
   "metadata": {},
   "source": [
    "\n",
    "\n",
    "\n",
    "## Retrieving and setting the model objective\n",
    "\n",
    "The simulation objective, when running FBA or pFBA phenotype simulations, is, by default, the model objective which can be seen using the simulator."
   ]
  },
  {
   "cell_type": "code",
   "execution_count": 23,
   "metadata": {
    "ExecuteTime": {
     "end_time": "2024-06-19T14:35:40.569124700Z",
     "start_time": "2024-06-19T14:35:40.181515900Z"
    }
   },
   "outputs": [
    {
     "data": {
      "text/plain": "{'BIOMASS_Ecoli_core_w_GAM': 1.0}"
     },
     "execution_count": 23,
     "metadata": {},
     "output_type": "execute_result"
    }
   ],
   "source": [
    "simul.objective"
   ]
  },
  {
   "cell_type": "markdown",
   "metadata": {},
   "source": [
    "The simulator may also be used to change the model objective, for example, to optimize the ATP maintenance requirement (ATPM):"
   ]
  },
  {
   "cell_type": "code",
   "execution_count": 24,
   "metadata": {
    "ExecuteTime": {
     "end_time": "2024-06-19T14:35:40.570125900Z",
     "start_time": "2024-06-19T14:35:40.194539Z"
    }
   },
   "outputs": [],
   "source": [
    "simul.objective = 'ATPM'"
   ]
  },
  {
   "cell_type": "code",
   "execution_count": 25,
   "metadata": {
    "ExecuteTime": {
     "end_time": "2024-06-19T14:35:40.601639900Z",
     "start_time": "2024-06-19T14:35:40.212518500Z"
    }
   },
   "outputs": [
    {
     "data": {
      "text/plain": "{'ATPM': 1.0}"
     },
     "execution_count": 25,
     "metadata": {},
     "output_type": "execute_result"
    }
   ],
   "source": [
    "simul.objective"
   ]
  },
  {
   "cell_type": "code",
   "execution_count": 26,
   "metadata": {
    "ExecuteTime": {
     "end_time": "2024-06-19T14:35:40.653640400Z",
     "start_time": "2024-06-19T14:35:40.229520300Z"
    }
   },
   "outputs": [],
   "source": [
    "simul.objective='BIOMASS_Ecoli_core_w_GAM'"
   ]
  },
  {
   "cell_type": "markdown",
   "metadata": {},
   "source": [
    "## Adding additional constraints to phenotype simulations\n",
    "\n",
    "Simulations may include additional metabolic constraints on reaction fluxes. From the previous pFBA simulation one can observe that the organism does not produce succinate:"
   ]
  },
  {
   "cell_type": "code",
   "execution_count": 27,
   "metadata": {
    "ExecuteTime": {
     "end_time": "2024-06-19T14:35:40.655641800Z",
     "start_time": "2024-06-19T14:35:40.248512400Z"
    }
   },
   "outputs": [
    {
     "data": {
      "text/plain": "-0.0"
     },
     "execution_count": 27,
     "metadata": {},
     "output_type": "execute_result"
    }
   ],
   "source": [
    "result.fluxes['EX_succ_e']"
   ]
  },
  {
   "cell_type": "markdown",
   "metadata": {},
   "source": [
    "Additional constraints may be added to the model so that the organism start to produce this aromatic amino acid. We may alter, for example, the *phosphogluconate dehydrogenase* reaction bounds, among others, starting by verifying its initial bounds:"
   ]
  },
  {
   "cell_type": "code",
   "execution_count": 28,
   "metadata": {
    "ExecuteTime": {
     "end_time": "2024-06-19T14:35:40.714173200Z",
     "start_time": "2024-06-19T14:35:40.261513300Z"
    }
   },
   "outputs": [
    {
     "data": {
      "text/plain": "(0.0, 1000.0)"
     },
     "execution_count": 28,
     "metadata": {},
     "output_type": "execute_result"
    }
   ],
   "source": [
    "simul.get_reaction_bounds('GND')"
   ]
  },
  {
   "cell_type": "code",
   "execution_count": 29,
   "metadata": {
    "ExecuteTime": {
     "end_time": "2024-06-19T14:35:40.716165800Z",
     "start_time": "2024-06-19T14:35:40.293039700Z"
    }
   },
   "outputs": [
    {
     "data": {
      "text/plain": "8.499789367589152"
     },
     "execution_count": 29,
     "metadata": {},
     "output_type": "execute_result"
    }
   ],
   "source": [
    "constraints = {'GND': 0, # deletion\n",
    "               'PYK': 0, # deletion\n",
    "               'ME2': 0, # deletion\n",
    "              }\n",
    "\n",
    "# run a pFBA simulation accounting with the new constraint\n",
    "result = simul.simulate(method='pFBA',constraints=constraints)\n",
    "\n",
    "result.fluxes['EX_succ_e']"
   ]
  },
  {
   "cell_type": "markdown",
   "metadata": {},
   "source": [
    "Note that the modifications are not persistently applied to the model, they only exist during the simulation.\n",
    "\n",
    "We also need to verify that the organism continues to grow:"
   ]
  },
  {
   "cell_type": "code",
   "execution_count": 30,
   "metadata": {
    "ExecuteTime": {
     "end_time": "2024-06-19T14:35:40.716165800Z",
     "start_time": "2024-06-19T14:35:40.324039600Z"
    }
   },
   "outputs": [
    {
     "data": {
      "text/plain": "0.1100958897735904"
     },
     "execution_count": 30,
     "metadata": {},
     "output_type": "execute_result"
    }
   ],
   "source": [
    "result.fluxes['BIOMASS_Ecoli_core_w_GAM']"
   ]
  },
  {
   "cell_type": "markdown",
   "metadata": {},
   "source": [
    "We can also plot the production envelope:"
   ]
  },
  {
   "cell_type": "code",
   "execution_count": 31,
   "metadata": {
    "ExecuteTime": {
     "end_time": "2024-06-19T14:35:41.201814Z",
     "start_time": "2024-06-19T14:35:40.340037400Z"
    }
   },
   "outputs": [
    {
     "data": {
      "text/plain": "<AxesSubplot:xlabel='BIOMASS_Ecoli_core_w_GAM', ylabel='EX_succ_e'>"
     },
     "execution_count": 31,
     "metadata": {},
     "output_type": "execute_result"
    },
    {
     "data": {
      "text/plain": "<Figure size 640x480 with 1 Axes>",
      "image/png": "[encoded data removed]"
     },
     "metadata": {},
     "output_type": "display_data"
    }
   ],
   "source": [
    "%matplotlib inline\n",
    "from mewpy.visualization.envelope import plot_flux_envelope\n",
    "\n",
    "plot_flux_envelope(simul,'BIOMASS_Ecoli_core_w_GAM','EX_succ_e',constraints = constraints)"
   ]
  },
  {
   "cell_type": "markdown",
   "metadata": {},
   "source": [
    "The `simulate` method includes additional parameters, such as the optimization direction. For a full description please refer to the module documentation. "
   ]
  },
  {
   "cell_type": "markdown",
   "metadata": {},
   "source": [
    "## Flux Variability Analysis\n",
    "\n",
    "The simulator interface also allows to perform Flux Variability Analysis (FVA) for all reactions, a list of reactions, or only for succinate:\n"
   ]
  },
  {
   "cell_type": "code",
   "execution_count": 32,
   "metadata": {
    "ExecuteTime": {
     "end_time": "2024-06-19T14:35:51.606471500Z",
     "start_time": "2024-06-19T14:35:40.689167700Z"
    }
   },
   "outputs": [
    {
     "data": {
      "text/plain": "               Minimum   Maximum\nReaction ID                     \nACALD       -16.095510 -5.903510\nACALDt       -3.057600  0.000000\nACKr         -8.653227 -0.464848\nACONTa        0.205527  0.900436\nACONTb        0.205527  0.900436\n...                ...       ...\nTALA         -0.037867  0.943613\nTHD2          0.000000  7.088275\nTKT1         -0.037867  0.943613\nTKT2         -0.114277  0.874844\nTPI           8.694947  9.810513\n\n[95 rows x 2 columns]",
      "text/html": "<div>\n<style scoped>\n    .dataframe tbody tr th:only-of-type {\n        vertical-align: middle;\n    }\n\n    .dataframe tbody tr th {\n        vertical-align: top;\n    }\n\n    .dataframe thead th {\n        text-align: right;\n    }\n</style>\n<table border=\"1\" class=\"dataframe\">\n  <thead>\n    <tr style=\"text-align: right;\">\n      <th></th>\n      <th>Minimum</th>\n      <th>Maximum</th>\n    </tr>\n    <tr>\n      <th>Reaction ID</th>\n      <th></th>\n      <th></th>\n    </tr>\n  </thead>\n  <tbody>\n    <tr>\n      <th>ACALD</th>\n      <td>-16.095510</td>\n      <td>-5.903510</td>\n    </tr>\n    <tr>\n      <th>ACALDt</th>\n      <td>-3.057600</td>\n      <td>0.000000</td>\n    </tr>\n    <tr>\n      <th>ACKr</th>\n      <td>-8.653227</td>\n      <td>-0.464848</td>\n    </tr>\n    <tr>\n      <th>ACONTa</th>\n      <td>0.205527</td>\n      <td>0.900436</td>\n    </tr>\n    <tr>\n      <th>ACONTb</th>\n      <td>0.205527</td>\n      <td>0.900436</td>\n    </tr>\n    <tr>\n      <th>...</th>\n      <td>...</td>\n      <td>...</td>\n    </tr>\n    <tr>\n      <th>TALA</th>\n      <td>-0.037867</td>\n      <td>0.943613</td>\n    </tr>\n    <tr>\n      <th>THD2</th>\n      <td>0.000000</td>\n      <td>7.088275</td>\n    </tr>\n    <tr>\n      <th>TKT1</th>\n      <td>-0.037867</td>\n      <td>0.943613</td>\n    </tr>\n    <tr>\n      <th>TKT2</th>\n      <td>-0.114277</td>\n      <td>0.874844</td>\n    </tr>\n    <tr>\n      <th>TPI</th>\n      <td>8.694947</td>\n      <td>9.810513</td>\n    </tr>\n  </tbody>\n</table>\n<p>95 rows × 2 columns</p>\n</div>"
     },
     "execution_count": 32,
     "metadata": {},
     "output_type": "execute_result"
    }
   ],
   "source": [
    "# returns a dictionary\n",
    "simul.FVA(format='df')"
   ]
  },
  {
   "cell_type": "code",
   "execution_count": 33,
   "metadata": {
    "ExecuteTime": {
     "end_time": "2024-06-19T14:35:51.663756Z",
     "start_time": "2024-06-19T14:35:51.607471700Z"
    }
   },
   "outputs": [
    {
     "data": {
      "text/plain": "             Minimum  Maximum\nReaction ID                  \nEX_succ_e        0.0    1.911",
      "text/html": "<div>\n<style scoped>\n    .dataframe tbody tr th:only-of-type {\n        vertical-align: middle;\n    }\n\n    .dataframe tbody tr th {\n        vertical-align: top;\n    }\n\n    .dataframe thead th {\n        text-align: right;\n    }\n</style>\n<table border=\"1\" class=\"dataframe\">\n  <thead>\n    <tr style=\"text-align: right;\">\n      <th></th>\n      <th>Minimum</th>\n      <th>Maximum</th>\n    </tr>\n    <tr>\n      <th>Reaction ID</th>\n      <th></th>\n      <th></th>\n    </tr>\n  </thead>\n  <tbody>\n    <tr>\n      <th>EX_succ_e</th>\n      <td>0.0</td>\n      <td>1.911</td>\n    </tr>\n  </tbody>\n</table>\n</div>"
     },
     "execution_count": 33,
     "metadata": {},
     "output_type": "execute_result"
    }
   ],
   "source": [
    "# or a data frame\n",
    "simul.FVA('EX_succ_e',format='df')"
   ]
  },
  {
   "cell_type": "markdown",
   "metadata": {},
   "source": [
    "By default, MEWpy sets the model objective fraction to 90%, however this fraction may be altered. For example, one might want to consider a fraction of 10% from optimal growth:"
   ]
  },
  {
   "cell_type": "code",
   "execution_count": 34,
   "metadata": {
    "ExecuteTime": {
     "end_time": "2024-06-19T14:35:51.756292800Z",
     "start_time": "2024-06-19T14:35:51.640474Z"
    }
   },
   "outputs": [
    {
     "data": {
      "text/plain": "             Minimum  Maximum\nReaction ID                  \nEX_succ_e        0.0    1.911",
      "text/html": "<div>\n<style scoped>\n    .dataframe tbody tr th:only-of-type {\n        vertical-align: middle;\n    }\n\n    .dataframe tbody tr th {\n        vertical-align: top;\n    }\n\n    .dataframe thead th {\n        text-align: right;\n    }\n</style>\n<table border=\"1\" class=\"dataframe\">\n  <thead>\n    <tr style=\"text-align: right;\">\n      <th></th>\n      <th>Minimum</th>\n      <th>Maximum</th>\n    </tr>\n    <tr>\n      <th>Reaction ID</th>\n      <th></th>\n      <th></th>\n    </tr>\n  </thead>\n  <tbody>\n    <tr>\n      <th>EX_succ_e</th>\n      <td>0.0</td>\n      <td>1.911</td>\n    </tr>\n  </tbody>\n</table>\n</div>"
     },
     "execution_count": 34,
     "metadata": {},
     "output_type": "execute_result"
    }
   ],
   "source": [
    "simul.FVA('EX_succ_e',obj_frac=0.9,format='df')"
   ]
  },
  {
   "cell_type": "markdown",
   "metadata": {},
   "source": [
    "The FVA simulations are run considering the defined environmental conditions. Additional constraints may be added, or changed, such as the previouly used to increase L-tyrosine production."
   ]
  },
  {
   "cell_type": "code",
   "execution_count": 35,
   "metadata": {
    "ExecuteTime": {
     "end_time": "2024-06-19T14:35:51.892015600Z",
     "start_time": "2024-06-19T14:35:51.669763400Z"
    }
   },
   "outputs": [
    {
     "data": {
      "text/plain": "             Minimum   Maximum\nReaction ID                   \nEX_succ_e        0.0  9.651385",
      "text/html": "<div>\n<style scoped>\n    .dataframe tbody tr th:only-of-type {\n        vertical-align: middle;\n    }\n\n    .dataframe tbody tr th {\n        vertical-align: top;\n    }\n\n    .dataframe thead th {\n        text-align: right;\n    }\n</style>\n<table border=\"1\" class=\"dataframe\">\n  <thead>\n    <tr style=\"text-align: right;\">\n      <th></th>\n      <th>Minimum</th>\n      <th>Maximum</th>\n    </tr>\n    <tr>\n      <th>Reaction ID</th>\n      <th></th>\n      <th></th>\n    </tr>\n  </thead>\n  <tbody>\n    <tr>\n      <th>EX_succ_e</th>\n      <td>0.0</td>\n      <td>9.651385</td>\n    </tr>\n  </tbody>\n</table>\n</div>"
     },
     "execution_count": 35,
     "metadata": {},
     "output_type": "execute_result"
    }
   ],
   "source": [
    "simul.FVA('EX_succ_e', constraints=constraints,format='df')"
   ]
  },
  {
   "cell_type": "markdown",
   "metadata": {},
   "source": [
    "COBRApy users may have noticed that this same task would have required many additional coding lines if using the COBRApy API directly."
   ]
  },
  {
   "cell_type": "markdown",
   "metadata": {},
   "source": [
    "## Genes and reactions essentiality\n",
    "\n",
    "Gene and reaction essentiality tests identify, respectively, the list of genes and reactions whose deletion would prevent the organism to grow. "
   ]
  },
  {
   "cell_type": "code",
   "execution_count": 36,
   "metadata": {
    "ExecuteTime": {
     "end_time": "2024-06-19T14:35:51.931042700Z",
     "start_time": "2024-06-19T14:35:51.702294400Z"
    }
   },
   "outputs": [
    {
     "name": "stderr",
     "output_type": "stream",
     "text": [
      "100%|██████████| 95/95 [00:00<00:00, 752.80it/s]\n"
     ]
    },
    {
     "data": {
      "text/plain": "['ACONTa',\n 'ACONTb',\n 'BIOMASS_Ecoli_core_w_GAM',\n 'CS',\n 'ENO',\n 'EX_h_e',\n 'EX_nh4_e',\n 'EX_pi_e',\n 'FBA',\n 'GAPD',\n 'GLCpts',\n 'GLNS',\n 'ICDHyr',\n 'NH4t',\n 'PFK',\n 'PGI',\n 'PGK',\n 'PGM',\n 'PIt2r',\n 'PPC',\n 'RPI',\n 'TPI']"
     },
     "execution_count": 36,
     "metadata": {},
     "output_type": "execute_result"
    }
   ],
   "source": [
    "simul.essential_reactions()"
   ]
  },
  {
   "cell_type": "code",
   "execution_count": 37,
   "metadata": {
    "ExecuteTime": {
     "end_time": "2024-06-19T14:35:52.244664500Z",
     "start_time": "2024-06-19T14:35:51.842486400Z"
    }
   },
   "outputs": [
    {
     "name": "stderr",
     "output_type": "stream",
     "text": [
      "100%|██████████| 137/137 [00:00<00:00, 937.36it/s]\n"
     ]
    },
    {
     "data": {
      "text/plain": "['b0720',\n 'b2779',\n 'b2415',\n 'b2416',\n 'b1779',\n 'b1136',\n 'b4025',\n 'b2926',\n 'b3956',\n 'b3919']"
     },
     "execution_count": 37,
     "metadata": {},
     "output_type": "execute_result"
    }
   ],
   "source": [
    "simul.essential_genes()"
   ]
  },
  {
   "cell_type": "markdown",
   "metadata": {},
   "source": [
    "For more options and methods please refer to the MEWpy documentation."
   ]
  }
 ],
 "metadata": {
  "kernelspec": {
   "display_name": "Python 3.9.6 64-bit",
   "language": "python",
   "name": "python3"
  },
  "language_info": {
   "codemirror_mode": {
    "name": "ipython",
    "version": 3
   },
   "file_extension": ".py",
   "mimetype": "text/x-python",
   "name": "python",
   "nbconvert_exporter": "python",
   "pygments_lexer": "ipython3",
   "version": "3.9.6"
  },
  "vscode": {
   "interpreter": {
    "hash": "31f2aee4e71d21fbe5cf8b01ff0e069b9275f58929596ceb00d14d90e3e16cd6"
   }
  }
 },
 "nbformat": 4,
 "nbformat_minor": 4
}
