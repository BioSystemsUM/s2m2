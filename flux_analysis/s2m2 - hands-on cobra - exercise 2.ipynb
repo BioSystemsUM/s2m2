{
 "cells": [
  {
   "cell_type": "markdown",
   "id": "typical-freight",
   "metadata": {
    "pycharm": {
     "name": "#%% md\n"
    }
   },
   "source": [
    "# COBRApy\n",
    "\n",
    "COBRApy is a package for constraint-based modeling of biological networks written in Python.\n",
    "\n",
    "This tool allows loading and inspecting Genome-Scale Metabolic (GEM) models written in the Systems Biology Markup Language (SBML) format.\n",
    "\n",
    "Using COBRApy, one can analyse the following model contents:\n",
    "1. Reactions\n",
    "2. Metabolites\n",
    "3. Genes\n",
    "4. Exchange reactions (Environmental Conditions)\n",
    "\n",
    "COBRApy allows manipulating the contents of a GEM model. For instance, one can edit reactions' flux bounds, knock out a metabolic gene, or change the environmental conditions.\n",
    "\n",
    "Phenotype prediction can be simulated with several flux analysis methods implemented in COBRApy. These include Flux Balance Analysis (FBA), Parsimonious FBA, or Flux Variability Analysis (FVA).\n",
    "\n",
    "The simulation of gene and reaction deletions for a given GEM model is a simple and straightforward process. One can simulate single or double knock outs using one of the flux analysis methods mentioned above."
   ]
  },
  {
   "cell_type": "markdown",
   "id": "boring-compensation",
   "metadata": {
    "pycharm": {
     "name": "#%% md\n"
    }
   },
   "source": [
    "## Instalation\n",
    "\n",
    "\n",
    "### Requirements\n",
    "The following requirements need to be installed to use COBRApy:\n",
    "- Python 3.6 or higher\n",
    "- pip must be installed\n",
    "- GLPK solver is used by default but CPLEX is prefered\n",
    "\n",
    "\n",
    "### How to install COBRApy?\n",
    "```\n",
    "pip install cobra\n",
    "```"
   ]
  },
  {
   "cell_type": "markdown",
   "id": "political-twenty",
   "metadata": {
    "pycharm": {
     "name": "#%% md\n"
    }
   },
   "source": [
    "## Working with a GEM model\n",
    "\n",
    "COBRApy can be used to read a GEM model in SBML format file.\n",
    "For this practical session, we will be using two models:\n",
    "- _E. coli_ core model which contains the central carbon metabolism of _Escherichia coli_ -> file: ..data/e_coli_core.xml\n",
    "\n",
    "The reactions, metabolites, and genes encoded into a SBML format file can be parsed by COBRApy. These contents are loaded into Python objects simple to use, namely `cobra.Reaction`, `cobra.Metabolite`, and `cobra.Gene`\n",
    "\n",
    "The model itself will be available as an `cobra.Model` object containing all these attributes."
   ]
  },
  {
   "cell_type": "code",
   "execution_count": 1,
   "id": "minimal-productivity",
   "metadata": {
    "scrolled": true,
    "pycharm": {
     "name": "#%%\n"
    }
   },
   "outputs": [
    {
     "data": {
      "text/html": [
       "\n",
       "        <table>\n",
       "            <tr>\n",
       "                <td><strong>Name</strong></td>\n",
       "                <td>e_coli_core</td>\n",
       "            </tr><tr>\n",
       "                <td><strong>Memory address</strong></td>\n",
       "                <td>0x024bed7a8888</td>\n",
       "            </tr><tr>\n",
       "                <td><strong>Number of metabolites</strong></td>\n",
       "                <td>72</td>\n",
       "            </tr><tr>\n",
       "                <td><strong>Number of reactions</strong></td>\n",
       "                <td>95</td>\n",
       "            </tr><tr>\n",
       "                <td><strong>Number of groups</strong></td>\n",
       "                <td>0</td>\n",
       "            </tr><tr>\n",
       "                <td><strong>Objective expression</strong></td>\n",
       "                <td>1.0*BIOMASS_Ecoli_core_w_GAM - 1.0*BIOMASS_Ecoli_core_w_GAM_reverse_712e5</td>\n",
       "            </tr><tr>\n",
       "                <td><strong>Compartments</strong></td>\n",
       "                <td>extracellular space, cytosol</td>\n",
       "            </tr>\n",
       "          </table>"
      ],
      "text/plain": [
       "<Model e_coli_core at 0x24bed7a8888>"
      ]
     },
     "execution_count": 1,
     "metadata": {},
     "output_type": "execute_result"
    }
   ],
   "source": [
    "# importing cobra\n",
    "import cobra\n",
    "\n",
    "# Loading a model\n",
    "model_path = '../data/e_coli_core.xml'\n",
    "model = cobra.io.read_sbml_model(model_path)\n",
    "\n",
    "model"
   ]
  },
  {
   "cell_type": "code",
   "execution_count": 2,
   "id": "271ea401",
   "metadata": {
    "pycharm": {
     "name": "#%%\n"
    }
   },
   "outputs": [
    {
     "data": {
      "text/plain": [
       "[<Reaction PFK at 0x24bee86d748>,\n",
       " <Reaction PFL at 0x24bee86d708>,\n",
       " <Reaction PGI at 0x24bee874a88>,\n",
       " <Reaction PGK at 0x24bee87aa08>,\n",
       " <Reaction PGL at 0x24bee87afc8>]"
      ]
     },
     "execution_count": 2,
     "metadata": {},
     "output_type": "execute_result"
    }
   ],
   "source": [
    "#retriving first five reactions of the model\n",
    "model.reactions[0:5]"
   ]
  },
  {
   "cell_type": "code",
   "execution_count": 3,
   "id": "db222e49",
   "metadata": {
    "scrolled": true,
    "pycharm": {
     "name": "#%%\n"
    }
   },
   "outputs": [
    {
     "data": {
      "text/html": [
       "\n",
       "        <table>\n",
       "            <tr>\n",
       "                <td><strong>Reaction identifier</strong></td><td>PFK</td>\n",
       "            </tr><tr>\n",
       "                <td><strong>Name</strong></td><td>Phosphofructokinase</td>\n",
       "            </tr><tr>\n",
       "                <td><strong>Memory address</strong></td>\n",
       "                <td>0x24bee86d748</td>\n",
       "            </tr><tr>\n",
       "                <td><strong>Stoichiometry</strong></td>\n",
       "                <td>\n",
       "                    <p style='text-align:right'>atp_c + f6p_c --> adp_c + fdp_c + h_c</p>\n",
       "                    <p style='text-align:right'>ATP C10H12N5O13P3 + D-Fructose 6-phosphate --> ADP C10H12N5O10P2 + D-Fructose 1,6-bisphosphate + H+</p>\n",
       "                </td>\n",
       "            </tr><tr>\n",
       "                <td><strong>GPR</strong></td><td>b3916 or b1723</td>\n",
       "            </tr><tr>\n",
       "                <td><strong>Lower bound</strong></td><td>0.0</td>\n",
       "            </tr><tr>\n",
       "                <td><strong>Upper bound</strong></td><td>1000.0</td>\n",
       "            </tr>\n",
       "        </table>\n",
       "        "
      ],
      "text/plain": [
       "<Reaction PFK at 0x24bee86d748>"
      ]
     },
     "execution_count": 3,
     "metadata": {},
     "output_type": "execute_result"
    }
   ],
   "source": [
    "#inspecting the first reaction of the model\n",
    "model.reactions[0]"
   ]
  },
  {
   "cell_type": "code",
   "execution_count": 4,
   "id": "3204cb7c",
   "metadata": {
    "pycharm": {
     "name": "#%%\n"
    }
   },
   "outputs": [
    {
     "data": {
      "text/html": [
       "\n",
       "        <table>\n",
       "            <tr>\n",
       "                <td><strong>Reaction identifier</strong></td><td>ACALD</td>\n",
       "            </tr><tr>\n",
       "                <td><strong>Name</strong></td><td>Acetaldehyde dehydrogenase (acetylating)</td>\n",
       "            </tr><tr>\n",
       "                <td><strong>Memory address</strong></td>\n",
       "                <td>0x24bee87af08</td>\n",
       "            </tr><tr>\n",
       "                <td><strong>Stoichiometry</strong></td>\n",
       "                <td>\n",
       "                    <p style='text-align:right'>acald_c + coa_c + nad_c <=> accoa_c + h_c + nadh_c</p>\n",
       "                    <p style='text-align:right'>Acetaldehyde + Coenzyme A + Nicotinamide adenine dinucleotide <=> Acetyl-CoA + H+ + Nicotinamide adenine dinucleotide - reduced</p>\n",
       "                </td>\n",
       "            </tr><tr>\n",
       "                <td><strong>GPR</strong></td><td>b0351 or b1241</td>\n",
       "            </tr><tr>\n",
       "                <td><strong>Lower bound</strong></td><td>-1000.0</td>\n",
       "            </tr><tr>\n",
       "                <td><strong>Upper bound</strong></td><td>1000.0</td>\n",
       "            </tr>\n",
       "        </table>\n",
       "        "
      ],
      "text/plain": [
       "<Reaction ACALD at 0x24bee87af08>"
      ]
     },
     "execution_count": 4,
     "metadata": {},
     "output_type": "execute_result"
    }
   ],
   "source": [
    "#inspecting a reaction by its ID\n",
    "model.reactions.get_by_id(\"ACALD\")"
   ]
  },
  {
   "cell_type": "code",
   "execution_count": 5,
   "id": "e0b93231",
   "metadata": {
    "pycharm": {
     "name": "#%%\n"
    }
   },
   "outputs": [
    {
     "data": {
      "text/plain": [
       "[<Metabolite glc__D_e at 0x24bed7dffc8>,\n",
       " <Metabolite gln__L_c at 0x24bed7dff88>,\n",
       " <Metabolite gln__L_e at 0x24bed7ee788>,\n",
       " <Metabolite glu__L_c at 0x24bee7c22c8>,\n",
       " <Metabolite glu__L_e at 0x24bee7c2508>]"
      ]
     },
     "execution_count": 5,
     "metadata": {},
     "output_type": "execute_result"
    }
   ],
   "source": [
    "#retriving first five metabolites of the model\n",
    "model.metabolites[0:5]"
   ]
  },
  {
   "cell_type": "code",
   "execution_count": 6,
   "id": "d31e05e5",
   "metadata": {
    "pycharm": {
     "name": "#%%\n"
    }
   },
   "outputs": [
    {
     "data": {
      "text/html": [
       "\n",
       "        <table>\n",
       "            <tr>\n",
       "                <td><strong>Metabolite identifier</strong></td><td>glc__D_e</td>\n",
       "            </tr><tr>\n",
       "                <td><strong>Name</strong></td><td>D-Glucose</td>\n",
       "            </tr><tr>\n",
       "                <td><strong>Memory address</strong></td>\n",
       "                <td>0x24bed7dffc8</td>\n",
       "            </tr><tr>\n",
       "                <td><strong>Formula</strong></td><td>C6H12O6</td>\n",
       "            </tr><tr>\n",
       "                <td><strong>Compartment</strong></td><td>e</td>\n",
       "            </tr><tr>\n",
       "                <td><strong>In 2 reaction(s)</strong></td><td>\n",
       "                    EX_glc__D_e, GLCpts\n",
       "                    </td>\n",
       "            </tr>\n",
       "        </table>"
      ],
      "text/plain": [
       "<Metabolite glc__D_e at 0x24bed7dffc8>"
      ]
     },
     "execution_count": 6,
     "metadata": {},
     "output_type": "execute_result"
    }
   ],
   "source": [
    "#inspecting the first metabolite of the model\n",
    "model.metabolites[0]"
   ]
  },
  {
   "cell_type": "code",
   "execution_count": 7,
   "id": "1992e8f8",
   "metadata": {
    "pycharm": {
     "name": "#%%\n"
    }
   },
   "outputs": [
    {
     "data": {
      "text/html": [
       "\n",
       "        <table>\n",
       "            <tr>\n",
       "                <td><strong>Metabolite identifier</strong></td><td>13dpg_c</td>\n",
       "            </tr><tr>\n",
       "                <td><strong>Name</strong></td><td>3-Phospho-D-glyceroyl phosphate</td>\n",
       "            </tr><tr>\n",
       "                <td><strong>Memory address</strong></td>\n",
       "                <td>0x24bee7d2408</td>\n",
       "            </tr><tr>\n",
       "                <td><strong>Formula</strong></td><td>C3H4O10P2</td>\n",
       "            </tr><tr>\n",
       "                <td><strong>Compartment</strong></td><td>c</td>\n",
       "            </tr><tr>\n",
       "                <td><strong>In 2 reaction(s)</strong></td><td>\n",
       "                    PGK, GAPD\n",
       "                    </td>\n",
       "            </tr>\n",
       "        </table>"
      ],
      "text/plain": [
       "<Metabolite 13dpg_c at 0x24bee7d2408>"
      ]
     },
     "execution_count": 7,
     "metadata": {},
     "output_type": "execute_result"
    }
   ],
   "source": [
    "#inspecting a metabolite by its ID\n",
    "model.metabolites.get_by_id(\"13dpg_c\")"
   ]
  },
  {
   "cell_type": "code",
   "execution_count": 8,
   "id": "83287794",
   "metadata": {
    "pycharm": {
     "name": "#%%\n"
    }
   },
   "outputs": [
    {
     "data": {
      "text/plain": [
       "[<Gene b1241 at 0x24bee8049c8>,\n",
       " <Gene b0351 at 0x24bee8047c8>,\n",
       " <Gene s0001 at 0x24bed7bbf48>,\n",
       " <Gene b1849 at 0x24bee814608>,\n",
       " <Gene b3115 at 0x24bee814a88>]"
      ]
     },
     "execution_count": 8,
     "metadata": {},
     "output_type": "execute_result"
    }
   ],
   "source": [
    "#retriving first five genes of the model\n",
    "model.genes[0:5]"
   ]
  },
  {
   "cell_type": "code",
   "execution_count": 9,
   "id": "b4683d3a",
   "metadata": {
    "pycharm": {
     "name": "#%%\n"
    }
   },
   "outputs": [
    {
     "data": {
      "text/html": [
       "\n",
       "        <table>\n",
       "            <tr>\n",
       "                <td><strong>Gene identifier</strong></td><td>b1241</td>\n",
       "            </tr><tr>\n",
       "                <td><strong>Name</strong></td><td>adhE</td>\n",
       "            </tr><tr>\n",
       "                <td><strong>Memory address</strong></td>\n",
       "                <td>0x24bee8049c8</td>\n",
       "            </tr><tr>\n",
       "                <td><strong>Functional</strong></td><td>True</td>\n",
       "            </tr><tr>\n",
       "                <td><strong>In 2 reaction(s)</strong></td><td>\n",
       "                    ACALD, ALCD2x\n",
       "                    </td>\n",
       "            </tr>\n",
       "        </table>"
      ],
      "text/plain": [
       "<Gene b1241 at 0x24bee8049c8>"
      ]
     },
     "execution_count": 9,
     "metadata": {},
     "output_type": "execute_result"
    }
   ],
   "source": [
    "#inspecting the first gene of the model\n",
    "model.genes[0]"
   ]
  },
  {
   "cell_type": "code",
   "execution_count": 10,
   "id": "7cae917a",
   "metadata": {
    "pycharm": {
     "name": "#%%\n"
    }
   },
   "outputs": [
    {
     "data": {
      "text/html": [
       "\n",
       "        <table>\n",
       "            <tr>\n",
       "                <td><strong>Gene identifier</strong></td><td>b1241</td>\n",
       "            </tr><tr>\n",
       "                <td><strong>Name</strong></td><td>adhE</td>\n",
       "            </tr><tr>\n",
       "                <td><strong>Memory address</strong></td>\n",
       "                <td>0x24bee8049c8</td>\n",
       "            </tr><tr>\n",
       "                <td><strong>Functional</strong></td><td>True</td>\n",
       "            </tr><tr>\n",
       "                <td><strong>In 2 reaction(s)</strong></td><td>\n",
       "                    ACALD, ALCD2x\n",
       "                    </td>\n",
       "            </tr>\n",
       "        </table>"
      ],
      "text/plain": [
       "<Gene b1241 at 0x24bee8049c8>"
      ]
     },
     "execution_count": 10,
     "metadata": {},
     "output_type": "execute_result"
    }
   ],
   "source": [
    "#inspecting a gene by its ID\n",
    "model.genes.get_by_id('b1241')"
   ]
  },
  {
   "cell_type": "markdown",
   "id": "d0c64159",
   "metadata": {
    "pycharm": {
     "name": "#%% md\n"
    }
   },
   "source": [
    "### Reactions\n",
    "\n",
    "In COBRApy reactions are objects that can be inspected. These objects can contain usefull information for all reactions in the model, such as:\n",
    "- name;\n",
    "- metabolites;\n",
    "- stoichiometry;\n",
    "- genes;\n",
    "- formula;\n",
    "- reversibility;\n",
    "- flux bounds;\n",
    "- gpr;"
   ]
  },
  {
   "cell_type": "code",
   "execution_count": 11,
   "id": "9c5ac10a",
   "metadata": {
    "pycharm": {
     "name": "#%%\n"
    }
   },
   "outputs": [
    {
     "name": "stdout",
     "output_type": "stream",
     "text": [
      "Acetaldehyde dehydrogenase (acetylating) \n",
      "\n",
      "acald_c + coa_c + nad_c <=> accoa_c + h_c + nadh_c \n",
      "\n",
      "acald_c -> -1.0\n",
      "coa_c -> -1.0\n",
      "nad_c -> -1.0\n",
      "accoa_c -> 1.0\n",
      "h_c -> 1.0\n",
      "nadh_c -> 1.0\n"
     ]
    }
   ],
   "source": [
    "#inspecting the reaction name, formula, metabolites, and stoichiometry.\n",
    "reaction = model.reactions.get_by_id('ACALD')\n",
    "\n",
    "print(reaction.name, '\\n')\n",
    "print(reaction.reaction, '\\n')\n",
    "for metabolite, coefficient in reaction.metabolites.items():\n",
    "    print(metabolite, '->', coefficient)"
   ]
  },
  {
   "cell_type": "code",
   "execution_count": 12,
   "id": "24b8e81a",
   "metadata": {
    "pycharm": {
     "name": "#%%\n"
    }
   },
   "outputs": [
    {
     "name": "stdout",
     "output_type": "stream",
     "text": [
      "-1000.0 < ACALD < 1000.0 \n",
      "\n",
      "True \n",
      "\n",
      "(-1000.0, 1000.0)\n"
     ]
    }
   ],
   "source": [
    "#inspecting reversibility and flux bounds.\n",
    "print(reaction.lower_bound, \"< ACALD <\", reaction.upper_bound, '\\n')\n",
    "print(reaction.reversibility, '\\n')\n",
    "print(reaction.bounds)"
   ]
  },
  {
   "cell_type": "code",
   "execution_count": 13,
   "id": "7f189664",
   "metadata": {
    "pycharm": {
     "name": "#%%\n"
    }
   },
   "outputs": [
    {
     "name": "stdout",
     "output_type": "stream",
     "text": [
      "-1000.0 < ACALD < 1000.0 \n",
      "\n",
      "True\n"
     ]
    }
   ],
   "source": [
    "#change reaction bounds\n",
    "reaction.bounds = (0, 1000)\n",
    "print(reaction.lower_bound, \"< ACALD <\", reaction.upper_bound, '\\n')\n",
    "print(reaction.reversibility)"
   ]
  },
  {
   "cell_type": "markdown",
   "id": "approved-respect",
   "metadata": {
    "pycharm": {
     "name": "#%% md\n"
    }
   },
   "source": [
    "#### GPR\n",
    "A Gene-Protein-Reaction (GPR) rule is a boolean representation of the gene requirements for a given reaction to be active.\n",
    "In COBRApy, a string representation of the GPR is stored as the `gene_reaction_rule` in the `Reaction` object."
   ]
  },
  {
   "cell_type": "code",
   "execution_count": 14,
   "id": "d0941fd8",
   "metadata": {
    "pycharm": {
     "name": "#%%\n"
    }
   },
   "outputs": [
    {
     "data": {
      "text/plain": [
       "'b0351 or b1241'"
      ]
     },
     "execution_count": 14,
     "metadata": {},
     "output_type": "execute_result"
    }
   ],
   "source": [
    "#inspect gene reaction rule\n",
    "reaction.gene_reaction_rule"
   ]
  },
  {
   "cell_type": "markdown",
   "id": "transsexual-instruction",
   "metadata": {
    "pycharm": {
     "name": "#%% md\n"
    }
   },
   "source": [
    "In the `ACALD` reaction, either gene *b0351* or *b1241* are required for this reaction to be active."
   ]
  },
  {
   "cell_type": "markdown",
   "id": "66289c1c",
   "metadata": {
    "pycharm": {
     "name": "#%% md\n"
    }
   },
   "source": [
    "### Metabolites\n",
    "\n",
    "In COBRApy metabolites are objects that can be inspected. These objects can contain usefull information for all metabolites in the model, such as:\n",
    "- name;\n",
    "- chemical formula;\n",
    "- compartment;\n",
    "- reactions;"
   ]
  },
  {
   "cell_type": "code",
   "execution_count": 15,
   "id": "4a10d4d8",
   "metadata": {
    "pycharm": {
     "name": "#%%\n"
    }
   },
   "outputs": [
    {
     "name": "stdout",
     "output_type": "stream",
     "text": [
      "3-Phospho-D-glyceroyl phosphate \n",
      "\n",
      "C3H4O10P2 \n",
      "\n",
      "Metabolite Compartment: c \n",
      "\n",
      "PGK : acald_c + coa_c + nad_c <=> accoa_c + h_c + nadh_c\n",
      "GAPD : acald_c + coa_c + nad_c <=> accoa_c + h_c + nadh_c\n"
     ]
    }
   ],
   "source": [
    "#inspecting metabolite name, chemical formula, compartment and reactions.\n",
    "metabolite = model.metabolites.get_by_id('13dpg_c')\n",
    "\n",
    "print(metabolite.name, '\\n')\n",
    "print(metabolite.formula, '\\n')\n",
    "print('Metabolite Compartment:',metabolite.compartment, '\\n')\n",
    "for _reaction in metabolite.reactions:\n",
    "    print(_reaction.id, ':', reaction.reaction)"
   ]
  },
  {
   "cell_type": "markdown",
   "id": "9b1f9f95",
   "metadata": {
    "pycharm": {
     "name": "#%% md\n"
    }
   },
   "source": [
    "### Genes\n",
    "\n",
    "In COBRApy metabolites are objects that can be inspected. These objects can contain usefull information for all metabolites in the model, such as:\n",
    "- name;\n",
    "- reactions;"
   ]
  },
  {
   "cell_type": "code",
   "execution_count": 16,
   "id": "d276d220",
   "metadata": {
    "pycharm": {
     "name": "#%%\n"
    }
   },
   "outputs": [
    {
     "name": "stdout",
     "output_type": "stream",
     "text": [
      "mhpF \n",
      "\n",
      "ACALD : b0351 or b1241\n"
     ]
    }
   ],
   "source": [
    "#inspect gene name and reactions.\n",
    "gene = model.genes.get_by_id('b0351')\n",
    "\n",
    "print(gene.name, '\\n')\n",
    "for reaction_ in gene.reactions:\n",
    "    print(reaction_.id, ':', reaction.gene_reaction_rule)"
   ]
  },
  {
   "cell_type": "markdown",
   "id": "2da1dce1",
   "metadata": {
    "pycharm": {
     "name": "#%% md\n"
    }
   },
   "source": [
    "### Exchanges"
   ]
  },
  {
   "cell_type": "markdown",
   "id": "b061d983",
   "metadata": {
    "pycharm": {
     "name": "#%% md\n"
    }
   },
   "source": [
    "In COBRApy exchanges are reaction objects that can be inspected in the model. These special reactions define the environmental condictions (eg. medium) of the model. According to the lower and upper bound of each exchange reactions, one can visualize the model's uptake and secretion metabolites."
   ]
  },
  {
   "cell_type": "code",
   "execution_count": 17,
   "id": "98894b23",
   "metadata": {
    "scrolled": true,
    "pycharm": {
     "name": "#%%\n"
    }
   },
   "outputs": [
    {
     "name": "stdout",
     "output_type": "stream",
     "text": [
      "Acetate exchange -> (0.0, 1000.0)\n",
      "Acetaldehyde exchange -> (0.0, 1000.0)\n",
      "2-Oxoglutarate exchange -> (0.0, 1000.0)\n",
      "CO2 exchange -> (-1000.0, 1000.0)\n",
      "Ethanol exchange -> (0.0, 1000.0)\n",
      "Formate exchange -> (0.0, 1000.0)\n",
      "D-Fructose exchange -> (0.0, 1000.0)\n",
      "Fumarate exchange -> (0.0, 1000.0)\n",
      "D-Glucose exchange -> (-10.0, 1000.0)\n",
      "L-Glutamine exchange -> (0.0, 1000.0)\n",
      "L-Glutamate exchange -> (0.0, 1000.0)\n",
      "H+ exchange -> (-1000.0, 1000.0)\n",
      "H2O exchange -> (-1000.0, 1000.0)\n",
      "D-lactate exchange -> (0.0, 1000.0)\n",
      "L-Malate exchange -> (0.0, 1000.0)\n",
      "Ammonia exchange -> (-1000.0, 1000.0)\n",
      "O2 exchange -> (-1000.0, 1000.0)\n",
      "Phosphate exchange -> (-1000.0, 1000.0)\n",
      "Pyruvate exchange -> (0.0, 1000.0)\n",
      "Succinate exchange -> (0.0, 1000.0)\n"
     ]
    }
   ],
   "source": [
    "#inspecting the reaction name, formula, metabolites, and stoichiometry.\n",
    "for exchange in model.exchanges:\n",
    "    print(exchange.name, '->', exchange.bounds)"
   ]
  },
  {
   "attachments": {},
   "cell_type": "markdown",
   "id": "female-nursery",
   "metadata": {
    "pycharm": {
     "name": "#%% md\n"
    }
   },
   "source": [
    "### Linear problem\n",
    "The number of degrees of freedom can be calculated by subtracting the number of variables by the number of linear mass equations. That is, one can determine the degree of under-determination of this model by subtracting the number reactions by the number of metabolites."
   ]
  },
  {
   "cell_type": "code",
   "execution_count": 41,
   "id": "purple-threat",
   "metadata": {
    "pycharm": {
     "name": "#%%\n"
    }
   },
   "outputs": [
    {
     "data": {
      "text/plain": [
       "23"
      ]
     },
     "execution_count": 41,
     "metadata": {},
     "output_type": "execute_result"
    }
   ],
   "source": [
    "# calculing the linear problem degrees of freedom\n",
    "degrees = len(model.reactions) - len(model.metabolites)\n",
    "degrees"
   ]
  },
  {
   "cell_type": "markdown",
   "id": "7de6bd17",
   "metadata": {
    "pycharm": {
     "name": "#%% md\n"
    }
   },
   "source": [
    "### Phenotype Prediction"
   ]
  },
  {
   "cell_type": "markdown",
   "id": "5fea53b7",
   "metadata": {
    "pycharm": {
     "name": "#%% md\n"
    }
   },
   "source": [
    "COBRApy includes three different algortithms for phenotype prediction. These include Flux Balance Analysis (FBA), Parsimonious Flux Balance Analysis (pFBA), and Flux Variability Analysis (FVA).\n",
    "\n",
    "To perform a simulation using one of these methods, you should first define an objective function. This can be a reaction or an exchange, which will be maximized or minimized. By default, the biomass reaction is set as the model objective function as this mimics the biological behavior of most organisms."
   ]
  },
  {
   "cell_type": "code",
   "execution_count": 18,
   "id": "f026a013",
   "metadata": {
    "pycharm": {
     "name": "#%%\n"
    }
   },
   "outputs": [],
   "source": [
    "model.objective = 'BIOMASS_Ecoli_core_w_GAM'"
   ]
  },
  {
   "cell_type": "markdown",
   "id": "3462f94e",
   "metadata": {
    "pycharm": {
     "name": "#%% md\n"
    }
   },
   "source": [
    "#### Flux Balance Analysis (FBA)"
   ]
  },
  {
   "cell_type": "markdown",
   "id": "75a8c7f0",
   "metadata": {
    "pycharm": {
     "name": "#%% md\n"
    }
   },
   "source": [
    "FBA simulations can be performed using `model.optimize()`. This returns a solution object, which includes the result of the simulation. This includes:\n",
    "- objective_value;\n",
    "- status;\n",
    "- fluxes;"
   ]
  },
  {
   "cell_type": "code",
   "execution_count": 40,
   "id": "a612d911",
   "metadata": {
    "pycharm": {
     "name": "#%%\n"
    }
   },
   "outputs": [
    {
     "data": {
      "text/html": [
       "<strong><em>Optimal</em> solution with objective value 0.874</strong><br><div>\n",
       "<style scoped>\n",
       "    .dataframe tbody tr th:only-of-type {\n",
       "        vertical-align: middle;\n",
       "    }\n",
       "\n",
       "    .dataframe tbody tr th {\n",
       "        vertical-align: top;\n",
       "    }\n",
       "\n",
       "    .dataframe thead th {\n",
       "        text-align: right;\n",
       "    }\n",
       "</style>\n",
       "<table border=\"1\" class=\"dataframe\">\n",
       "  <thead>\n",
       "    <tr style=\"text-align: right;\">\n",
       "      <th></th>\n",
       "      <th>fluxes</th>\n",
       "      <th>reduced_costs</th>\n",
       "    </tr>\n",
       "  </thead>\n",
       "  <tbody>\n",
       "    <tr>\n",
       "      <th>PFK</th>\n",
       "      <td>7.477382</td>\n",
       "      <td>8.673617e-19</td>\n",
       "    </tr>\n",
       "    <tr>\n",
       "      <th>PFL</th>\n",
       "      <td>0.000000</td>\n",
       "      <td>-1.527746e-02</td>\n",
       "    </tr>\n",
       "    <tr>\n",
       "      <th>PGI</th>\n",
       "      <td>4.860861</td>\n",
       "      <td>0.000000e+00</td>\n",
       "    </tr>\n",
       "    <tr>\n",
       "      <th>PGK</th>\n",
       "      <td>-16.023526</td>\n",
       "      <td>3.469447e-18</td>\n",
       "    </tr>\n",
       "    <tr>\n",
       "      <th>PGL</th>\n",
       "      <td>4.959985</td>\n",
       "      <td>0.000000e+00</td>\n",
       "    </tr>\n",
       "    <tr>\n",
       "      <th>...</th>\n",
       "      <td>...</td>\n",
       "      <td>...</td>\n",
       "    </tr>\n",
       "    <tr>\n",
       "      <th>NADH16</th>\n",
       "      <td>38.534610</td>\n",
       "      <td>0.000000e+00</td>\n",
       "    </tr>\n",
       "    <tr>\n",
       "      <th>NADTRHD</th>\n",
       "      <td>0.000000</td>\n",
       "      <td>-2.546243e-03</td>\n",
       "    </tr>\n",
       "    <tr>\n",
       "      <th>NH4t</th>\n",
       "      <td>4.765319</td>\n",
       "      <td>0.000000e+00</td>\n",
       "    </tr>\n",
       "    <tr>\n",
       "      <th>O2t</th>\n",
       "      <td>21.799493</td>\n",
       "      <td>0.000000e+00</td>\n",
       "    </tr>\n",
       "    <tr>\n",
       "      <th>PDH</th>\n",
       "      <td>9.282533</td>\n",
       "      <td>1.734723e-18</td>\n",
       "    </tr>\n",
       "  </tbody>\n",
       "</table>\n",
       "<p>95 rows × 2 columns</p>\n",
       "</div>"
      ],
      "text/plain": [
       "<Solution 0.874 at 0x24bf314d688>"
      ]
     },
     "execution_count": 40,
     "metadata": {},
     "output_type": "execute_result"
    }
   ],
   "source": [
    "#performing a FBA simulation\n",
    "fba_solution = model.optimize()\n",
    "fba_solution"
   ]
  },
  {
   "cell_type": "markdown",
   "id": "326574a5",
   "metadata": {
    "pycharm": {
     "name": "#%% md\n"
    }
   },
   "source": [
    "Models solved using the FBA method can be further analysed using the `model.summary()` method.\n",
    "\n",
    "\n",
    "This method returns the flux value for the reaction defined as objective function. It also returns the fluxes for the exchange reactions. In this table, one can see uptake fluxes, which corresponds to the rates of metabolite cosumption in the model. On the other hand, the secretion fluxes corresponds to the rates of metabolite production in the model."
   ]
  },
  {
   "cell_type": "code",
   "execution_count": 20,
   "id": "89a661f7",
   "metadata": {
    "pycharm": {
     "name": "#%%\n"
    }
   },
   "outputs": [
    {
     "data": {
      "text/html": [
       "<h3>Objective</h3><p>1.0 BIOMASS_Ecoli_core_w_GAM = 0.8739215069684302</p><h4>Uptake</h4><table border=\"1\" class=\"dataframe\">\n",
       "  <thead>\n",
       "    <tr style=\"text-align: right;\">\n",
       "      <th>Metabolite</th>\n",
       "      <th>Reaction</th>\n",
       "      <th>Flux</th>\n",
       "      <th>C-Number</th>\n",
       "      <th>C-Flux</th>\n",
       "    </tr>\n",
       "  </thead>\n",
       "  <tbody>\n",
       "    <tr>\n",
       "      <td>glc__D_e</td>\n",
       "      <td>EX_glc__D_e</td>\n",
       "      <td>10</td>\n",
       "      <td>6</td>\n",
       "      <td>100.00%</td>\n",
       "    </tr>\n",
       "    <tr>\n",
       "      <td>nh4_e</td>\n",
       "      <td>EX_nh4_e</td>\n",
       "      <td>4.765</td>\n",
       "      <td>0</td>\n",
       "      <td>0.00%</td>\n",
       "    </tr>\n",
       "    <tr>\n",
       "      <td>o2_e</td>\n",
       "      <td>EX_o2_e</td>\n",
       "      <td>21.8</td>\n",
       "      <td>0</td>\n",
       "      <td>0.00%</td>\n",
       "    </tr>\n",
       "    <tr>\n",
       "      <td>pi_e</td>\n",
       "      <td>EX_pi_e</td>\n",
       "      <td>3.215</td>\n",
       "      <td>0</td>\n",
       "      <td>0.00%</td>\n",
       "    </tr>\n",
       "  </tbody>\n",
       "</table><h4>Secretion</h4><table border=\"1\" class=\"dataframe\">\n",
       "  <thead>\n",
       "    <tr style=\"text-align: right;\">\n",
       "      <th>Metabolite</th>\n",
       "      <th>Reaction</th>\n",
       "      <th>Flux</th>\n",
       "      <th>C-Number</th>\n",
       "      <th>C-Flux</th>\n",
       "    </tr>\n",
       "  </thead>\n",
       "  <tbody>\n",
       "    <tr>\n",
       "      <td>co2_e</td>\n",
       "      <td>EX_co2_e</td>\n",
       "      <td>-22.81</td>\n",
       "      <td>1</td>\n",
       "      <td>100.00%</td>\n",
       "    </tr>\n",
       "    <tr>\n",
       "      <td>h2o_e</td>\n",
       "      <td>EX_h2o_e</td>\n",
       "      <td>-29.18</td>\n",
       "      <td>0</td>\n",
       "      <td>0.00%</td>\n",
       "    </tr>\n",
       "    <tr>\n",
       "      <td>h_e</td>\n",
       "      <td>EX_h_e</td>\n",
       "      <td>-17.53</td>\n",
       "      <td>0</td>\n",
       "      <td>0.00%</td>\n",
       "    </tr>\n",
       "  </tbody>\n",
       "</table>"
      ],
      "text/plain": [
       "<cobra.summary.model_summary.ModelSummary at 0x24beeaced48>"
      ]
     },
     "execution_count": 20,
     "metadata": {},
     "output_type": "execute_result"
    }
   ],
   "source": [
    "model.summary()"
   ]
  },
  {
   "cell_type": "markdown",
   "id": "12014348",
   "metadata": {
    "pycharm": {
     "name": "#%% md\n"
    }
   },
   "source": [
    "#### Parsimonious Flux Balance Analysis (pFBA)"
   ]
  },
  {
   "cell_type": "markdown",
   "id": "abf11c94",
   "metadata": {
    "pycharm": {
     "name": "#%% md\n"
    }
   },
   "source": [
    "pFBA simulations gives the optimal growth rate, while minimizing the total sum of fluxes.\n",
    "pFBA can be used from the flux analysis package `cobra.flux_analysis.pfba(model)`."
   ]
  },
  {
   "cell_type": "code",
   "execution_count": 21,
   "id": "1b712fd0",
   "metadata": {
    "pycharm": {
     "name": "#%%\n"
    }
   },
   "outputs": [
    {
     "data": {
      "text/html": [
       "<strong><em>Optimal</em> solution with objective value 518.422</strong><br><div>\n",
       "<style scoped>\n",
       "    .dataframe tbody tr th:only-of-type {\n",
       "        vertical-align: middle;\n",
       "    }\n",
       "\n",
       "    .dataframe tbody tr th {\n",
       "        vertical-align: top;\n",
       "    }\n",
       "\n",
       "    .dataframe thead th {\n",
       "        text-align: right;\n",
       "    }\n",
       "</style>\n",
       "<table border=\"1\" class=\"dataframe\">\n",
       "  <thead>\n",
       "    <tr style=\"text-align: right;\">\n",
       "      <th></th>\n",
       "      <th>fluxes</th>\n",
       "      <th>reduced_costs</th>\n",
       "    </tr>\n",
       "  </thead>\n",
       "  <tbody>\n",
       "    <tr>\n",
       "      <th>PFK</th>\n",
       "      <td>7.477382</td>\n",
       "      <td>-2.000000</td>\n",
       "    </tr>\n",
       "    <tr>\n",
       "      <th>PFL</th>\n",
       "      <td>0.000000</td>\n",
       "      <td>5.733333</td>\n",
       "    </tr>\n",
       "    <tr>\n",
       "      <th>PGI</th>\n",
       "      <td>4.860861</td>\n",
       "      <td>-2.000000</td>\n",
       "    </tr>\n",
       "    <tr>\n",
       "      <th>PGK</th>\n",
       "      <td>-16.023526</td>\n",
       "      <td>2.000000</td>\n",
       "    </tr>\n",
       "    <tr>\n",
       "      <th>PGL</th>\n",
       "      <td>4.959985</td>\n",
       "      <td>-2.000000</td>\n",
       "    </tr>\n",
       "    <tr>\n",
       "      <th>...</th>\n",
       "      <td>...</td>\n",
       "      <td>...</td>\n",
       "    </tr>\n",
       "    <tr>\n",
       "      <th>NADH16</th>\n",
       "      <td>38.534610</td>\n",
       "      <td>-2.000000</td>\n",
       "    </tr>\n",
       "    <tr>\n",
       "      <th>NADTRHD</th>\n",
       "      <td>0.000000</td>\n",
       "      <td>1.422222</td>\n",
       "    </tr>\n",
       "    <tr>\n",
       "      <th>NH4t</th>\n",
       "      <td>4.765319</td>\n",
       "      <td>-2.000000</td>\n",
       "    </tr>\n",
       "    <tr>\n",
       "      <th>O2t</th>\n",
       "      <td>21.799493</td>\n",
       "      <td>-2.000000</td>\n",
       "    </tr>\n",
       "    <tr>\n",
       "      <th>PDH</th>\n",
       "      <td>9.282533</td>\n",
       "      <td>-2.000000</td>\n",
       "    </tr>\n",
       "  </tbody>\n",
       "</table>\n",
       "<p>95 rows × 2 columns</p>\n",
       "</div>"
      ],
      "text/plain": [
       "<Solution 518.422 at 0x24beead0188>"
      ]
     },
     "execution_count": 21,
     "metadata": {},
     "output_type": "execute_result"
    }
   ],
   "source": [
    "#performing pfba simulation\n",
    "pfba_solution = cobra.flux_analysis.pfba(model)\n",
    "pfba_solution"
   ]
  },
  {
   "cell_type": "markdown",
   "id": "426310dc",
   "metadata": {
    "pycharm": {
     "name": "#%% md\n"
    }
   },
   "source": [
    "The optimal solution of the pFBA is considerably different from the FBA result. This happens because the objective value for the pFBA is defined as the sum of all flux values (`sum(abs(pfba_solution.fluxes.values))`). On the other hand the FBA result corresponds to the flux value of the reaction that is being optimized (`fba_solution.fluxes[\"Biomass_Ecoli_core\"]`)."
   ]
  },
  {
   "cell_type": "code",
   "execution_count": 22,
   "id": "e416cbc9",
   "metadata": {
    "pycharm": {
     "name": "#%%\n"
    }
   },
   "outputs": [
    {
     "data": {
      "text/plain": [
       "518.4220855176067"
      ]
     },
     "execution_count": 22,
     "metadata": {},
     "output_type": "execute_result"
    }
   ],
   "source": [
    "#calculating the objective value of a pFBA solution\n",
    "sum(abs(pfba_solution.fluxes.values))"
   ]
  },
  {
   "cell_type": "markdown",
   "id": "15c67909",
   "metadata": {
    "pycharm": {
     "name": "#%% md\n"
    }
   },
   "source": [
    "#### Flux Variability Analysis (FVA)"
   ]
  },
  {
   "cell_type": "markdown",
   "id": "c6cc5f62",
   "metadata": {
    "pycharm": {
     "name": "#%% md\n"
    }
   },
   "source": [
    "FBA does not obtain an unique flux distribution for a given objective function, but rathar a space with multiple optimum soltuion. FVA is a simulation method that finds the possible flux range for each reaction while optimizing the objective function. FVA can be used from the flux analysis package `cobra.flux_analysis.flux_variability_analysis(model)`."
   ]
  },
  {
   "cell_type": "code",
   "execution_count": 23,
   "id": "b2b4c04a",
   "metadata": {
    "scrolled": false,
    "pycharm": {
     "name": "#%%\n"
    }
   },
   "outputs": [
    {
     "data": {
      "text/html": [
       "<div>\n",
       "<style scoped>\n",
       "    .dataframe tbody tr th:only-of-type {\n",
       "        vertical-align: middle;\n",
       "    }\n",
       "\n",
       "    .dataframe tbody tr th {\n",
       "        vertical-align: top;\n",
       "    }\n",
       "\n",
       "    .dataframe thead th {\n",
       "        text-align: right;\n",
       "    }\n",
       "</style>\n",
       "<table border=\"1\" class=\"dataframe\">\n",
       "  <thead>\n",
       "    <tr style=\"text-align: right;\">\n",
       "      <th></th>\n",
       "      <th>minimum</th>\n",
       "      <th>maximum</th>\n",
       "    </tr>\n",
       "  </thead>\n",
       "  <tbody>\n",
       "    <tr>\n",
       "      <th>PFK</th>\n",
       "      <td>7.477382</td>\n",
       "      <td>7.477382</td>\n",
       "    </tr>\n",
       "    <tr>\n",
       "      <th>PFL</th>\n",
       "      <td>0.000000</td>\n",
       "      <td>0.000000</td>\n",
       "    </tr>\n",
       "    <tr>\n",
       "      <th>PGI</th>\n",
       "      <td>4.860861</td>\n",
       "      <td>4.860861</td>\n",
       "    </tr>\n",
       "    <tr>\n",
       "      <th>PGK</th>\n",
       "      <td>-16.023526</td>\n",
       "      <td>-16.023526</td>\n",
       "    </tr>\n",
       "    <tr>\n",
       "      <th>PGL</th>\n",
       "      <td>4.959985</td>\n",
       "      <td>4.959985</td>\n",
       "    </tr>\n",
       "    <tr>\n",
       "      <th>...</th>\n",
       "      <td>...</td>\n",
       "      <td>...</td>\n",
       "    </tr>\n",
       "    <tr>\n",
       "      <th>NADH16</th>\n",
       "      <td>38.534610</td>\n",
       "      <td>38.534610</td>\n",
       "    </tr>\n",
       "    <tr>\n",
       "      <th>NADTRHD</th>\n",
       "      <td>0.000000</td>\n",
       "      <td>0.000000</td>\n",
       "    </tr>\n",
       "    <tr>\n",
       "      <th>NH4t</th>\n",
       "      <td>4.765319</td>\n",
       "      <td>4.765319</td>\n",
       "    </tr>\n",
       "    <tr>\n",
       "      <th>O2t</th>\n",
       "      <td>21.799493</td>\n",
       "      <td>21.799493</td>\n",
       "    </tr>\n",
       "    <tr>\n",
       "      <th>PDH</th>\n",
       "      <td>9.282533</td>\n",
       "      <td>9.282533</td>\n",
       "    </tr>\n",
       "  </tbody>\n",
       "</table>\n",
       "<p>95 rows × 2 columns</p>\n",
       "</div>"
      ],
      "text/plain": [
       "           minimum    maximum\n",
       "PFK       7.477382   7.477382\n",
       "PFL       0.000000   0.000000\n",
       "PGI       4.860861   4.860861\n",
       "PGK     -16.023526 -16.023526\n",
       "PGL       4.959985   4.959985\n",
       "...            ...        ...\n",
       "NADH16   38.534610  38.534610\n",
       "NADTRHD   0.000000   0.000000\n",
       "NH4t      4.765319   4.765319\n",
       "O2t      21.799493  21.799493\n",
       "PDH       9.282533   9.282533\n",
       "\n",
       "[95 rows x 2 columns]"
      ]
     },
     "execution_count": 23,
     "metadata": {},
     "output_type": "execute_result"
    }
   ],
   "source": [
    "#performing fva simulation\n",
    "fva_solution = cobra.flux_analysis.flux_variability_analysis(model)\n",
    "fva_solution"
   ]
  },
  {
   "cell_type": "markdown",
   "id": "e8ad48a1",
   "metadata": {
    "pycharm": {
     "name": "#%% md\n"
    }
   },
   "source": [
    "### Simulating Deletions"
   ]
  },
  {
   "cell_type": "markdown",
   "id": "f1aed98f",
   "metadata": {
    "pycharm": {
     "name": "#%% md\n"
    }
   },
   "source": [
    "As previously mentioned, COBRApy can be used to simulate gene or reaction knock outs or deletions."
   ]
  },
  {
   "cell_type": "markdown",
   "id": "227c1a25",
   "metadata": {
    "pycharm": {
     "name": "#%% md\n"
    }
   },
   "source": [
    "#### Single Reaction and Gene Knock outs"
   ]
  },
  {
   "cell_type": "markdown",
   "id": "0c0a6e67",
   "metadata": {
    "pycharm": {
     "name": "#%% md\n"
    }
   },
   "source": [
    "The function `knock_out()` can be used to access what happens when a specific reaction is knocked out and not allowed to have any flux. Considering the previously analysed PFK reaction:"
   ]
  },
  {
   "cell_type": "code",
   "execution_count": 24,
   "id": "fbb59894",
   "metadata": {
    "pycharm": {
     "name": "#%%\n"
    }
   },
   "outputs": [
    {
     "name": "stdout",
     "output_type": "stream",
     "text": [
      "PFK knocked out:  <Solution 0.704 at 0x24beec24148>\n"
     ]
    }
   ],
   "source": [
    "#knock out the ACALD reaction\n",
    "with model:\n",
    "    model.reactions.PFK.knock_out()\n",
    "    print('PFK knocked out: ', model.optimize())"
   ]
  },
  {
   "cell_type": "code",
   "execution_count": 25,
   "id": "b2ede2bc",
   "metadata": {
    "pycharm": {
     "name": "#%%\n"
    }
   },
   "outputs": [
    {
     "name": "stdout",
     "output_type": "stream",
     "text": [
      "b1723 knocked out:  <Solution 0.874 at 0x24beec27248>\n",
      "b3916 knocked out:  <Solution 0.704 at 0x24beec12048>\n"
     ]
    }
   ],
   "source": [
    "#knock out the b1723 and b3916 genes, which are associated with the pfk reaction\n",
    "with model:\n",
    "    model.genes.b1723.knock_out()\n",
    "    print('b1723 knocked out: ', model.optimize())\n",
    "    model.genes.b3916.knock_out()\n",
    "    print('b3916 knocked out: ', model.optimize())"
   ]
  },
  {
   "cell_type": "markdown",
   "id": "92f18d76",
   "metadata": {
    "pycharm": {
     "name": "#%% md\n"
    }
   },
   "source": [
    "Moreover, COBRApy incorporates to simulation methods that are used predict the flux distribution after a gene knock out. These are the Minimization of Metabolic Adjustment (MOMA), which can be called using `cobra.flux_analysis.moma()`, and Regulatory On/Off Minimization (ROOM), using `cobra.flux_analysis.room()`."
   ]
  },
  {
   "cell_type": "code",
   "execution_count": 26,
   "id": "6101d834",
   "metadata": {
    "pycharm": {
     "name": "#%%\n"
    }
   },
   "outputs": [
    {
     "name": "stdout",
     "output_type": "stream",
     "text": [
      "MOMA Result:  <Solution 288.041 at 0x24beecb6208>\n"
     ]
    }
   ],
   "source": [
    "#using MOMA with COBRApy\n",
    "with model:\n",
    "    model.genes.b1723.knock_out()\n",
    "    model.genes.b3916.knock_out()\n",
    "    moma_result = cobra.flux_analysis.moma(model, fba_solution)\n",
    "    print('MOMA Result: ', moma_result)"
   ]
  },
  {
   "cell_type": "code",
   "execution_count": 27,
   "id": "5f90bbc6",
   "metadata": {
    "pycharm": {
     "name": "#%%\n"
    }
   },
   "outputs": [
    {
     "name": "stdout",
     "output_type": "stream",
     "text": [
      "ROOM Result:  <Solution 41.000 at 0x24beedc9988>\n"
     ]
    }
   ],
   "source": [
    "#using ROOM with COBRApy\n",
    "with model:\n",
    "    model.genes.b1723.knock_out()\n",
    "    model.genes.b3916.knock_out()\n",
    "    room_result = cobra.flux_analysis.room(model, fba_solution)\n",
    "    print('ROOM Result: ', room_result)"
   ]
  },
  {
   "cell_type": "markdown",
   "id": "fd66c161",
   "metadata": {
    "pycharm": {
     "name": "#%% md\n"
    }
   },
   "source": [
    "#### Single Deletions"
   ]
  },
  {
   "cell_type": "markdown",
   "id": "613a478b",
   "metadata": {
    "pycharm": {
     "name": "#%% md\n"
    }
   },
   "source": [
    "Single gene and reaction delections can also be simulated with the flux analysis package of COBRApy. To do so the `cobra.flux_analysis.single_gene_deletion()` and `cobra.flux_analysis.single_reaction_deletion()` methods."
   ]
  },
  {
   "cell_type": "code",
   "execution_count": 28,
   "id": "1841f60e",
   "metadata": {
    "pycharm": {
     "name": "#%%\n"
    }
   },
   "outputs": [
    {
     "data": {
      "text/html": [
       "<div>\n",
       "<style scoped>\n",
       "    .dataframe tbody tr th:only-of-type {\n",
       "        vertical-align: middle;\n",
       "    }\n",
       "\n",
       "    .dataframe tbody tr th {\n",
       "        vertical-align: top;\n",
       "    }\n",
       "\n",
       "    .dataframe thead th {\n",
       "        text-align: right;\n",
       "    }\n",
       "</style>\n",
       "<table border=\"1\" class=\"dataframe\">\n",
       "  <thead>\n",
       "    <tr style=\"text-align: right;\">\n",
       "      <th></th>\n",
       "      <th>ids</th>\n",
       "      <th>growth</th>\n",
       "      <th>status</th>\n",
       "    </tr>\n",
       "  </thead>\n",
       "  <tbody>\n",
       "    <tr>\n",
       "      <th>0</th>\n",
       "      <td>{PIt2r}</td>\n",
       "      <td>0.000000</td>\n",
       "      <td>optimal</td>\n",
       "    </tr>\n",
       "    <tr>\n",
       "      <th>1</th>\n",
       "      <td>{EX_pyr_e}</td>\n",
       "      <td>0.873922</td>\n",
       "      <td>optimal</td>\n",
       "    </tr>\n",
       "    <tr>\n",
       "      <th>2</th>\n",
       "      <td>{ME1}</td>\n",
       "      <td>0.873922</td>\n",
       "      <td>optimal</td>\n",
       "    </tr>\n",
       "    <tr>\n",
       "      <th>3</th>\n",
       "      <td>{FORt2}</td>\n",
       "      <td>0.873922</td>\n",
       "      <td>optimal</td>\n",
       "    </tr>\n",
       "    <tr>\n",
       "      <th>4</th>\n",
       "      <td>{PPS}</td>\n",
       "      <td>0.873922</td>\n",
       "      <td>optimal</td>\n",
       "    </tr>\n",
       "    <tr>\n",
       "      <th>...</th>\n",
       "      <td>...</td>\n",
       "      <td>...</td>\n",
       "      <td>...</td>\n",
       "    </tr>\n",
       "    <tr>\n",
       "      <th>90</th>\n",
       "      <td>{H2Ot}</td>\n",
       "      <td>0.383515</td>\n",
       "      <td>optimal</td>\n",
       "    </tr>\n",
       "    <tr>\n",
       "      <th>91</th>\n",
       "      <td>{ETOHt2r}</td>\n",
       "      <td>0.873922</td>\n",
       "      <td>optimal</td>\n",
       "    </tr>\n",
       "    <tr>\n",
       "      <th>92</th>\n",
       "      <td>{GND}</td>\n",
       "      <td>0.863813</td>\n",
       "      <td>optimal</td>\n",
       "    </tr>\n",
       "    <tr>\n",
       "      <th>93</th>\n",
       "      <td>{EX_etoh_e}</td>\n",
       "      <td>0.873922</td>\n",
       "      <td>optimal</td>\n",
       "    </tr>\n",
       "    <tr>\n",
       "      <th>94</th>\n",
       "      <td>{SUCDi}</td>\n",
       "      <td>0.814298</td>\n",
       "      <td>optimal</td>\n",
       "    </tr>\n",
       "  </tbody>\n",
       "</table>\n",
       "<p>95 rows × 3 columns</p>\n",
       "</div>"
      ],
      "text/plain": [
       "            ids    growth   status\n",
       "0       {PIt2r}  0.000000  optimal\n",
       "1    {EX_pyr_e}  0.873922  optimal\n",
       "2         {ME1}  0.873922  optimal\n",
       "3       {FORt2}  0.873922  optimal\n",
       "4         {PPS}  0.873922  optimal\n",
       "..          ...       ...      ...\n",
       "90       {H2Ot}  0.383515  optimal\n",
       "91    {ETOHt2r}  0.873922  optimal\n",
       "92        {GND}  0.863813  optimal\n",
       "93  {EX_etoh_e}  0.873922  optimal\n",
       "94      {SUCDi}  0.814298  optimal\n",
       "\n",
       "[95 rows x 3 columns]"
      ]
     },
     "execution_count": 28,
     "metadata": {},
     "output_type": "execute_result"
    }
   ],
   "source": [
    "#single reaction deletion\n",
    "reaction_deletion_results = cobra.flux_analysis.single_reaction_deletion(model)\n",
    "reaction_deletion_results"
   ]
  },
  {
   "cell_type": "code",
   "execution_count": 29,
   "id": "7ce5a73a",
   "metadata": {
    "pycharm": {
     "name": "#%%\n"
    }
   },
   "outputs": [
    {
     "data": {
      "text/html": [
       "<div>\n",
       "<style scoped>\n",
       "    .dataframe tbody tr th:only-of-type {\n",
       "        vertical-align: middle;\n",
       "    }\n",
       "\n",
       "    .dataframe tbody tr th {\n",
       "        vertical-align: top;\n",
       "    }\n",
       "\n",
       "    .dataframe thead th {\n",
       "        text-align: right;\n",
       "    }\n",
       "</style>\n",
       "<table border=\"1\" class=\"dataframe\">\n",
       "  <thead>\n",
       "    <tr style=\"text-align: right;\">\n",
       "      <th></th>\n",
       "      <th>ids</th>\n",
       "      <th>growth</th>\n",
       "      <th>status</th>\n",
       "    </tr>\n",
       "  </thead>\n",
       "  <tbody>\n",
       "    <tr>\n",
       "      <th>0</th>\n",
       "      <td>{b2097}</td>\n",
       "      <td>0.873922</td>\n",
       "      <td>optimal</td>\n",
       "    </tr>\n",
       "    <tr>\n",
       "      <th>1</th>\n",
       "      <td>{b0903}</td>\n",
       "      <td>0.873922</td>\n",
       "      <td>optimal</td>\n",
       "    </tr>\n",
       "    <tr>\n",
       "      <th>2</th>\n",
       "      <td>{b4090}</td>\n",
       "      <td>0.873922</td>\n",
       "      <td>optimal</td>\n",
       "    </tr>\n",
       "    <tr>\n",
       "      <th>3</th>\n",
       "      <td>{b2935}</td>\n",
       "      <td>0.873922</td>\n",
       "      <td>optimal</td>\n",
       "    </tr>\n",
       "    <tr>\n",
       "      <th>4</th>\n",
       "      <td>{b3603}</td>\n",
       "      <td>0.873922</td>\n",
       "      <td>optimal</td>\n",
       "    </tr>\n",
       "    <tr>\n",
       "      <th>...</th>\n",
       "      <td>...</td>\n",
       "      <td>...</td>\n",
       "      <td>...</td>\n",
       "    </tr>\n",
       "    <tr>\n",
       "      <th>132</th>\n",
       "      <td>{b0008}</td>\n",
       "      <td>0.873922</td>\n",
       "      <td>optimal</td>\n",
       "    </tr>\n",
       "    <tr>\n",
       "      <th>133</th>\n",
       "      <td>{b3213}</td>\n",
       "      <td>0.873922</td>\n",
       "      <td>optimal</td>\n",
       "    </tr>\n",
       "    <tr>\n",
       "      <th>134</th>\n",
       "      <td>{b1101}</td>\n",
       "      <td>0.873922</td>\n",
       "      <td>optimal</td>\n",
       "    </tr>\n",
       "    <tr>\n",
       "      <th>135</th>\n",
       "      <td>{b2297}</td>\n",
       "      <td>0.873922</td>\n",
       "      <td>optimal</td>\n",
       "    </tr>\n",
       "    <tr>\n",
       "      <th>136</th>\n",
       "      <td>{b0767}</td>\n",
       "      <td>0.863813</td>\n",
       "      <td>optimal</td>\n",
       "    </tr>\n",
       "  </tbody>\n",
       "</table>\n",
       "<p>137 rows × 3 columns</p>\n",
       "</div>"
      ],
      "text/plain": [
       "         ids    growth   status\n",
       "0    {b2097}  0.873922  optimal\n",
       "1    {b0903}  0.873922  optimal\n",
       "2    {b4090}  0.873922  optimal\n",
       "3    {b2935}  0.873922  optimal\n",
       "4    {b3603}  0.873922  optimal\n",
       "..       ...       ...      ...\n",
       "132  {b0008}  0.873922  optimal\n",
       "133  {b3213}  0.873922  optimal\n",
       "134  {b1101}  0.873922  optimal\n",
       "135  {b2297}  0.873922  optimal\n",
       "136  {b0767}  0.863813  optimal\n",
       "\n",
       "[137 rows x 3 columns]"
      ]
     },
     "execution_count": 29,
     "metadata": {},
     "output_type": "execute_result"
    }
   ],
   "source": [
    "#single gene deletion\n",
    "gene_deletion_results = cobra.flux_analysis.single_gene_deletion(model)\n",
    "gene_deletion_results"
   ]
  },
  {
   "cell_type": "markdown",
   "id": "e800f7aa",
   "metadata": {
    "pycharm": {
     "name": "#%% md\n"
    }
   },
   "source": [
    "It is worth noting that genes and reactions with a growth value equal to zero can be considered as essential genes or essential reactions, respectively."
   ]
  },
  {
   "cell_type": "markdown",
   "id": "f13be5b5",
   "metadata": {
    "pycharm": {
     "name": "#%% md\n"
    }
   },
   "source": [
    "#### Double Delections"
   ]
  },
  {
   "cell_type": "markdown",
   "id": "61f39278",
   "metadata": {
    "pycharm": {
     "name": "#%% md\n"
    }
   },
   "source": [
    "Double gene and reaction delections can also be simulated with the flux analysis package of COBRApy. To do so the `cobra.flux_analysis.double_gene_deletion()` and `cobra.flux_analysis.double_reaction_deletion()` methods. These methods test the deletion of all the possible combinations."
   ]
  },
  {
   "cell_type": "code",
   "execution_count": 30,
   "id": "4e16b218",
   "metadata": {
    "pycharm": {
     "name": "#%%\n"
    }
   },
   "outputs": [
    {
     "data": {
      "text/html": [
       "<div>\n",
       "<style scoped>\n",
       "    .dataframe tbody tr th:only-of-type {\n",
       "        vertical-align: middle;\n",
       "    }\n",
       "\n",
       "    .dataframe tbody tr th {\n",
       "        vertical-align: top;\n",
       "    }\n",
       "\n",
       "    .dataframe thead th {\n",
       "        text-align: right;\n",
       "    }\n",
       "</style>\n",
       "<table border=\"1\" class=\"dataframe\">\n",
       "  <thead>\n",
       "    <tr style=\"text-align: right;\">\n",
       "      <th></th>\n",
       "      <th>ids</th>\n",
       "      <th>growth</th>\n",
       "      <th>status</th>\n",
       "    </tr>\n",
       "  </thead>\n",
       "  <tbody>\n",
       "    <tr>\n",
       "      <th>0</th>\n",
       "      <td>{PFL, ICL}</td>\n",
       "      <td>0.873922</td>\n",
       "      <td>optimal</td>\n",
       "    </tr>\n",
       "    <tr>\n",
       "      <th>1</th>\n",
       "      <td>{ACt2r, NADH16}</td>\n",
       "      <td>0.206935</td>\n",
       "      <td>optimal</td>\n",
       "    </tr>\n",
       "    <tr>\n",
       "      <th>2</th>\n",
       "      <td>{EX_gln__L_e, D_LACt2}</td>\n",
       "      <td>0.873922</td>\n",
       "      <td>optimal</td>\n",
       "    </tr>\n",
       "    <tr>\n",
       "      <th>3</th>\n",
       "      <td>{ACt2r, RPE}</td>\n",
       "      <td>0.865716</td>\n",
       "      <td>optimal</td>\n",
       "    </tr>\n",
       "    <tr>\n",
       "      <th>4</th>\n",
       "      <td>{CO2t, PYK}</td>\n",
       "      <td>0.429326</td>\n",
       "      <td>optimal</td>\n",
       "    </tr>\n",
       "    <tr>\n",
       "      <th>...</th>\n",
       "      <td>...</td>\n",
       "      <td>...</td>\n",
       "      <td>...</td>\n",
       "    </tr>\n",
       "    <tr>\n",
       "      <th>4555</th>\n",
       "      <td>{PGK, CS}</td>\n",
       "      <td>0.000000</td>\n",
       "      <td>optimal</td>\n",
       "    </tr>\n",
       "    <tr>\n",
       "      <th>4556</th>\n",
       "      <td>{EX_pyr_e, PPC}</td>\n",
       "      <td>0.870745</td>\n",
       "      <td>optimal</td>\n",
       "    </tr>\n",
       "    <tr>\n",
       "      <th>4557</th>\n",
       "      <td>{FBA, PPS}</td>\n",
       "      <td>0.481972</td>\n",
       "      <td>optimal</td>\n",
       "    </tr>\n",
       "    <tr>\n",
       "      <th>4558</th>\n",
       "      <td>{ADK1, MALS}</td>\n",
       "      <td>0.873922</td>\n",
       "      <td>optimal</td>\n",
       "    </tr>\n",
       "    <tr>\n",
       "      <th>4559</th>\n",
       "      <td>{PFL, GLUt2r}</td>\n",
       "      <td>0.873922</td>\n",
       "      <td>optimal</td>\n",
       "    </tr>\n",
       "  </tbody>\n",
       "</table>\n",
       "<p>4560 rows × 3 columns</p>\n",
       "</div>"
      ],
      "text/plain": [
       "                         ids    growth   status\n",
       "0                 {PFL, ICL}  0.873922  optimal\n",
       "1            {ACt2r, NADH16}  0.206935  optimal\n",
       "2     {EX_gln__L_e, D_LACt2}  0.873922  optimal\n",
       "3               {ACt2r, RPE}  0.865716  optimal\n",
       "4                {CO2t, PYK}  0.429326  optimal\n",
       "...                      ...       ...      ...\n",
       "4555               {PGK, CS}  0.000000  optimal\n",
       "4556         {EX_pyr_e, PPC}  0.870745  optimal\n",
       "4557              {FBA, PPS}  0.481972  optimal\n",
       "4558            {ADK1, MALS}  0.873922  optimal\n",
       "4559           {PFL, GLUt2r}  0.873922  optimal\n",
       "\n",
       "[4560 rows x 3 columns]"
      ]
     },
     "execution_count": 30,
     "metadata": {},
     "output_type": "execute_result"
    }
   ],
   "source": [
    "#double reaction deletion\n",
    "double_reaction_deletion_results = cobra.flux_analysis.double_reaction_deletion(model)\n",
    "double_reaction_deletion_results"
   ]
  },
  {
   "cell_type": "code",
   "execution_count": 31,
   "id": "4dd61842",
   "metadata": {
    "pycharm": {
     "name": "#%%\n"
    }
   },
   "outputs": [
    {
     "data": {
      "text/html": [
       "<div>\n",
       "<style scoped>\n",
       "    .dataframe tbody tr th:only-of-type {\n",
       "        vertical-align: middle;\n",
       "    }\n",
       "\n",
       "    .dataframe tbody tr th {\n",
       "        vertical-align: top;\n",
       "    }\n",
       "\n",
       "    .dataframe thead th {\n",
       "        text-align: right;\n",
       "    }\n",
       "</style>\n",
       "<table border=\"1\" class=\"dataframe\">\n",
       "  <thead>\n",
       "    <tr style=\"text-align: right;\">\n",
       "      <th></th>\n",
       "      <th>ids</th>\n",
       "      <th>growth</th>\n",
       "      <th>status</th>\n",
       "    </tr>\n",
       "  </thead>\n",
       "  <tbody>\n",
       "    <tr>\n",
       "      <th>0</th>\n",
       "      <td>{b2914, b2282}</td>\n",
       "      <td>0.211663</td>\n",
       "      <td>optimal</td>\n",
       "    </tr>\n",
       "    <tr>\n",
       "      <th>1</th>\n",
       "      <td>{b3956, b3114}</td>\n",
       "      <td>0.870745</td>\n",
       "      <td>optimal</td>\n",
       "    </tr>\n",
       "    <tr>\n",
       "      <th>2</th>\n",
       "      <td>{b1852, b0734}</td>\n",
       "      <td>0.863813</td>\n",
       "      <td>optimal</td>\n",
       "    </tr>\n",
       "    <tr>\n",
       "      <th>3</th>\n",
       "      <td>{b3919, b0978}</td>\n",
       "      <td>0.704037</td>\n",
       "      <td>optimal</td>\n",
       "    </tr>\n",
       "    <tr>\n",
       "      <th>4</th>\n",
       "      <td>{b2417, b2458}</td>\n",
       "      <td>0.873922</td>\n",
       "      <td>optimal</td>\n",
       "    </tr>\n",
       "    <tr>\n",
       "      <th>...</th>\n",
       "      <td>...</td>\n",
       "      <td>...</td>\n",
       "      <td>...</td>\n",
       "    </tr>\n",
       "    <tr>\n",
       "      <th>9448</th>\n",
       "      <td>{b2282, b1773}</td>\n",
       "      <td>0.211663</td>\n",
       "      <td>optimal</td>\n",
       "    </tr>\n",
       "    <tr>\n",
       "      <th>9449</th>\n",
       "      <td>{b1524, b1380}</td>\n",
       "      <td>0.873922</td>\n",
       "      <td>optimal</td>\n",
       "    </tr>\n",
       "    <tr>\n",
       "      <th>9450</th>\n",
       "      <td>{b1812, b2465}</td>\n",
       "      <td>0.873922</td>\n",
       "      <td>optimal</td>\n",
       "    </tr>\n",
       "    <tr>\n",
       "      <th>9451</th>\n",
       "      <td>{b2282, b2925}</td>\n",
       "      <td>0.211663</td>\n",
       "      <td>optimal</td>\n",
       "    </tr>\n",
       "    <tr>\n",
       "      <th>9452</th>\n",
       "      <td>{b2285, b2277}</td>\n",
       "      <td>0.211663</td>\n",
       "      <td>optimal</td>\n",
       "    </tr>\n",
       "  </tbody>\n",
       "</table>\n",
       "<p>9453 rows × 3 columns</p>\n",
       "</div>"
      ],
      "text/plain": [
       "                 ids    growth   status\n",
       "0     {b2914, b2282}  0.211663  optimal\n",
       "1     {b3956, b3114}  0.870745  optimal\n",
       "2     {b1852, b0734}  0.863813  optimal\n",
       "3     {b3919, b0978}  0.704037  optimal\n",
       "4     {b2417, b2458}  0.873922  optimal\n",
       "...              ...       ...      ...\n",
       "9448  {b2282, b1773}  0.211663  optimal\n",
       "9449  {b1524, b1380}  0.873922  optimal\n",
       "9450  {b1812, b2465}  0.873922  optimal\n",
       "9451  {b2282, b2925}  0.211663  optimal\n",
       "9452  {b2285, b2277}  0.211663  optimal\n",
       "\n",
       "[9453 rows x 3 columns]"
      ]
     },
     "execution_count": 31,
     "metadata": {},
     "output_type": "execute_result"
    }
   ],
   "source": [
    "#double reaction deletion\n",
    "double_gene_deletion_results = cobra.flux_analysis.double_gene_deletion(model)\n",
    "double_gene_deletion_results"
   ]
  },
  {
   "cell_type": "markdown",
   "id": "a7db1b17",
   "metadata": {
    "pycharm": {
     "name": "#%% md\n"
    }
   },
   "source": [
    "### Production envelopes"
   ]
  },
  {
   "cell_type": "markdown",
   "id": "46da3428",
   "metadata": {
    "pycharm": {
     "name": "#%% md\n"
    }
   },
   "source": [
    "Production Envelopes can be used to show distinct phases of optimal growth using two different carbon substrates. If we want to access a phenotype phase plane to evaluate uptakes of Glucose and Oxygen:"
   ]
  },
  {
   "cell_type": "code",
   "execution_count": 32,
   "id": "a765ac20",
   "metadata": {
    "pycharm": {
     "name": "#%%\n"
    }
   },
   "outputs": [
    {
     "data": {
      "text/html": [
       "<div>\n",
       "<style scoped>\n",
       "    .dataframe tbody tr th:only-of-type {\n",
       "        vertical-align: middle;\n",
       "    }\n",
       "\n",
       "    .dataframe tbody tr th {\n",
       "        vertical-align: top;\n",
       "    }\n",
       "\n",
       "    .dataframe thead th {\n",
       "        text-align: right;\n",
       "    }\n",
       "</style>\n",
       "<table border=\"1\" class=\"dataframe\">\n",
       "  <thead>\n",
       "    <tr style=\"text-align: right;\">\n",
       "      <th></th>\n",
       "      <th>carbon_source</th>\n",
       "      <th>flux_minimum</th>\n",
       "      <th>carbon_yield_minimum</th>\n",
       "      <th>mass_yield_minimum</th>\n",
       "      <th>flux_maximum</th>\n",
       "      <th>carbon_yield_maximum</th>\n",
       "      <th>mass_yield_maximum</th>\n",
       "      <th>EX_glc__D_e</th>\n",
       "      <th>EX_o2_e</th>\n",
       "    </tr>\n",
       "  </thead>\n",
       "  <tbody>\n",
       "    <tr>\n",
       "      <th>0</th>\n",
       "      <td>EX_glc__D_e</td>\n",
       "      <td>0.0</td>\n",
       "      <td>0.0</td>\n",
       "      <td>NaN</td>\n",
       "      <td>0.000000</td>\n",
       "      <td>0.00000</td>\n",
       "      <td>NaN</td>\n",
       "      <td>-10.0</td>\n",
       "      <td>-60.000000</td>\n",
       "    </tr>\n",
       "    <tr>\n",
       "      <th>1</th>\n",
       "      <td>EX_glc__D_e</td>\n",
       "      <td>0.0</td>\n",
       "      <td>0.0</td>\n",
       "      <td>NaN</td>\n",
       "      <td>0.072244</td>\n",
       "      <td>1.31005</td>\n",
       "      <td>NaN</td>\n",
       "      <td>-10.0</td>\n",
       "      <td>-56.842105</td>\n",
       "    </tr>\n",
       "    <tr>\n",
       "      <th>2</th>\n",
       "      <td>EX_glc__D_e</td>\n",
       "      <td>0.0</td>\n",
       "      <td>0.0</td>\n",
       "      <td>NaN</td>\n",
       "      <td>0.144488</td>\n",
       "      <td>2.62010</td>\n",
       "      <td>NaN</td>\n",
       "      <td>-10.0</td>\n",
       "      <td>-53.684211</td>\n",
       "    </tr>\n",
       "    <tr>\n",
       "      <th>3</th>\n",
       "      <td>EX_glc__D_e</td>\n",
       "      <td>0.0</td>\n",
       "      <td>0.0</td>\n",
       "      <td>NaN</td>\n",
       "      <td>0.216732</td>\n",
       "      <td>3.93015</td>\n",
       "      <td>NaN</td>\n",
       "      <td>-10.0</td>\n",
       "      <td>-50.526316</td>\n",
       "    </tr>\n",
       "    <tr>\n",
       "      <th>4</th>\n",
       "      <td>EX_glc__D_e</td>\n",
       "      <td>0.0</td>\n",
       "      <td>0.0</td>\n",
       "      <td>NaN</td>\n",
       "      <td>0.288975</td>\n",
       "      <td>5.24020</td>\n",
       "      <td>NaN</td>\n",
       "      <td>-10.0</td>\n",
       "      <td>-47.368421</td>\n",
       "    </tr>\n",
       "  </tbody>\n",
       "</table>\n",
       "</div>"
      ],
      "text/plain": [
       "  carbon_source  flux_minimum  carbon_yield_minimum  mass_yield_minimum  \\\n",
       "0   EX_glc__D_e           0.0                   0.0                 NaN   \n",
       "1   EX_glc__D_e           0.0                   0.0                 NaN   \n",
       "2   EX_glc__D_e           0.0                   0.0                 NaN   \n",
       "3   EX_glc__D_e           0.0                   0.0                 NaN   \n",
       "4   EX_glc__D_e           0.0                   0.0                 NaN   \n",
       "\n",
       "   flux_maximum  carbon_yield_maximum  mass_yield_maximum  EX_glc__D_e  \\\n",
       "0      0.000000               0.00000                 NaN        -10.0   \n",
       "1      0.072244               1.31005                 NaN        -10.0   \n",
       "2      0.144488               2.62010                 NaN        -10.0   \n",
       "3      0.216732               3.93015                 NaN        -10.0   \n",
       "4      0.288975               5.24020                 NaN        -10.0   \n",
       "\n",
       "     EX_o2_e  \n",
       "0 -60.000000  \n",
       "1 -56.842105  \n",
       "2 -53.684211  \n",
       "3 -50.526316  \n",
       "4 -47.368421  "
      ]
     },
     "execution_count": 32,
     "metadata": {},
     "output_type": "execute_result"
    }
   ],
   "source": [
    "#How to perform a production envolope\n",
    "prod_env = cobra.flux_analysis.production_envelope(model, [\"EX_glc__D_e\", \"EX_o2_e\"])\n",
    "prod_env.head()"
   ]
  },
  {
   "cell_type": "markdown",
   "id": "f375970f",
   "metadata": {
    "pycharm": {
     "name": "#%% md\n"
    }
   },
   "source": [
    "Moreover, if we want to specify the carbon source, the `production_envelope()` can also return the carbon and mass yield. For instance, when the objective is to produce Acetate, it is possible to obtain a production envelope as follows and quickly plot the results:"
   ]
  },
  {
   "cell_type": "code",
   "execution_count": 33,
   "id": "7880b2aa",
   "metadata": {
    "pycharm": {
     "name": "#%%\n"
    }
   },
   "outputs": [
    {
     "data": {
      "text/plain": [
       "<matplotlib.axes._subplots.AxesSubplot at 0x24bf0b19cc8>"
      ]
     },
     "execution_count": 33,
     "metadata": {},
     "output_type": "execute_result"
    },
    {
     "data": {
      "image/png": "[encoded data removed]",
      "text/plain": [
       "<Figure size 432x288 with 1 Axes>"
      ]
     },
     "metadata": {
      "needs_background": "light"
     },
     "output_type": "display_data"
    }
   ],
   "source": [
    "#obtain a plot of a production envelope using glucose as carbon source and optimizing Acetate production\n",
    "prod_env = cobra.flux_analysis.production_envelope(model, [\"EX_o2_e\"], objective=\"EX_ac_e\", carbon_sources=\"EX_glc__D_e\")\n",
    "prod_env.plot(kind='line', x='EX_o2_e', y='carbon_yield_maximum')"
   ]
  },
  {
   "cell_type": "markdown",
   "id": "2807d7bf",
   "metadata": {
    "pycharm": {
     "name": "#%% md\n"
    }
   },
   "source": [
    "Finally, the production envelope can also be used obtain a flux variation plot. This can be achieved as follows:"
   ]
  },
  {
   "cell_type": "code",
   "execution_count": 34,
   "id": "878664b8",
   "metadata": {
    "pycharm": {
     "name": "#%%\n"
    }
   },
   "outputs": [
    {
     "ename": "KeyError",
     "evalue": "'Biomass_Ecoli_core'",
     "output_type": "error",
     "traceback": [
      "\u001B[1;31m---------------------------------------------------------------------------\u001B[0m",
      "\u001B[1;31mKeyError\u001B[0m                                  Traceback (most recent call last)",
      "\u001B[1;32m<ipython-input-34-f8bf16800972>\u001B[0m in \u001B[0;36m<module>\u001B[1;34m\u001B[0m\n\u001B[0;32m      1\u001B[0m \u001B[1;31m#obtain a flux varariation plot\u001B[0m\u001B[1;33m\u001B[0m\u001B[1;33m\u001B[0m\u001B[1;33m\u001B[0m\u001B[0m\n\u001B[1;32m----> 2\u001B[1;33m \u001B[0mprod_env_co2\u001B[0m \u001B[1;33m=\u001B[0m \u001B[0mcobra\u001B[0m\u001B[1;33m.\u001B[0m\u001B[0mflux_analysis\u001B[0m\u001B[1;33m.\u001B[0m\u001B[0mproduction_envelope\u001B[0m\u001B[1;33m(\u001B[0m\u001B[0mmodel\u001B[0m\u001B[1;33m,\u001B[0m \u001B[1;33m[\u001B[0m\u001B[1;34m\"Biomass_Ecoli_core\"\u001B[0m\u001B[1;33m]\u001B[0m\u001B[1;33m,\u001B[0m \u001B[0mobjective\u001B[0m\u001B[1;33m=\u001B[0m\u001B[1;33m[\u001B[0m\u001B[1;34m'EX_co2_e'\u001B[0m\u001B[1;33m]\u001B[0m\u001B[1;33m)\u001B[0m\u001B[1;33m\u001B[0m\u001B[1;33m\u001B[0m\u001B[0m\n\u001B[0m\u001B[0;32m      3\u001B[0m \u001B[0mprod_env_co2\u001B[0m\u001B[1;33m.\u001B[0m\u001B[0mplot\u001B[0m\u001B[1;33m(\u001B[0m\u001B[0mkind\u001B[0m\u001B[1;33m=\u001B[0m\u001B[1;34m'line'\u001B[0m\u001B[1;33m,\u001B[0m \u001B[0mx\u001B[0m\u001B[1;33m=\u001B[0m\u001B[1;34m'Biomass_Ecoli_core'\u001B[0m\u001B[1;33m,\u001B[0m \u001B[0my\u001B[0m\u001B[1;33m=\u001B[0m\u001B[1;33m[\u001B[0m\u001B[1;34m'flux_minimum'\u001B[0m\u001B[1;33m,\u001B[0m \u001B[1;34m'flux_maximum'\u001B[0m\u001B[1;33m]\u001B[0m\u001B[1;33m)\u001B[0m\u001B[1;33m\u001B[0m\u001B[1;33m\u001B[0m\u001B[0m\n",
      "\u001B[1;32mc:\\users\\bisbii\\appdata\\local\\programs\\python\\python37\\lib\\site-packages\\cobra\\flux_analysis\\phenotype_phase_plane.py\u001B[0m in \u001B[0;36mproduction_envelope\u001B[1;34m(model, reactions, objective, carbon_sources, points, threshold)\u001B[0m\n\u001B[0;32m    102\u001B[0m \u001B[1;33m\u001B[0m\u001B[0m\n\u001B[0;32m    103\u001B[0m     \"\"\"\n\u001B[1;32m--> 104\u001B[1;33m     \u001B[0mreactions\u001B[0m \u001B[1;33m=\u001B[0m \u001B[0mmodel\u001B[0m\u001B[1;33m.\u001B[0m\u001B[0mreactions\u001B[0m\u001B[1;33m.\u001B[0m\u001B[0mget_by_any\u001B[0m\u001B[1;33m(\u001B[0m\u001B[0mreactions\u001B[0m\u001B[1;33m)\u001B[0m\u001B[1;33m\u001B[0m\u001B[1;33m\u001B[0m\u001B[0m\n\u001B[0m\u001B[0;32m    105\u001B[0m     \u001B[0mobjective\u001B[0m \u001B[1;33m=\u001B[0m \u001B[0mmodel\u001B[0m\u001B[1;33m.\u001B[0m\u001B[0msolver\u001B[0m\u001B[1;33m.\u001B[0m\u001B[0mobjective\u001B[0m \u001B[1;32mif\u001B[0m \u001B[0mobjective\u001B[0m \u001B[1;32mis\u001B[0m \u001B[1;32mNone\u001B[0m \u001B[1;32melse\u001B[0m \u001B[0mobjective\u001B[0m\u001B[1;33m\u001B[0m\u001B[1;33m\u001B[0m\u001B[0m\n\u001B[0;32m    106\u001B[0m     \u001B[0mdata\u001B[0m \u001B[1;33m=\u001B[0m \u001B[0mdict\u001B[0m\u001B[1;33m(\u001B[0m\u001B[1;33m)\u001B[0m\u001B[1;33m\u001B[0m\u001B[1;33m\u001B[0m\u001B[0m\n",
      "\u001B[1;32mc:\\users\\bisbii\\appdata\\local\\programs\\python\\python37\\lib\\site-packages\\cobra\\core\\dictlist.py\u001B[0m in \u001B[0;36mget_by_any\u001B[1;34m(self, iterable)\u001B[0m\n\u001B[0;32m    106\u001B[0m         \u001B[1;32mif\u001B[0m \u001B[1;32mnot\u001B[0m \u001B[0misinstance\u001B[0m\u001B[1;33m(\u001B[0m\u001B[0miterable\u001B[0m\u001B[1;33m,\u001B[0m \u001B[0mlist\u001B[0m\u001B[1;33m)\u001B[0m\u001B[1;33m:\u001B[0m\u001B[1;33m\u001B[0m\u001B[1;33m\u001B[0m\u001B[0m\n\u001B[0;32m    107\u001B[0m             \u001B[0miterable\u001B[0m \u001B[1;33m=\u001B[0m \u001B[1;33m[\u001B[0m\u001B[0miterable\u001B[0m\u001B[1;33m]\u001B[0m\u001B[1;33m\u001B[0m\u001B[1;33m\u001B[0m\u001B[0m\n\u001B[1;32m--> 108\u001B[1;33m         \u001B[1;32mreturn\u001B[0m \u001B[1;33m[\u001B[0m\u001B[0mget_item\u001B[0m\u001B[1;33m(\u001B[0m\u001B[0mitem\u001B[0m\u001B[1;33m)\u001B[0m \u001B[1;32mfor\u001B[0m \u001B[0mitem\u001B[0m \u001B[1;32min\u001B[0m \u001B[0miterable\u001B[0m\u001B[1;33m]\u001B[0m\u001B[1;33m\u001B[0m\u001B[1;33m\u001B[0m\u001B[0m\n\u001B[0m\u001B[0;32m    109\u001B[0m \u001B[1;33m\u001B[0m\u001B[0m\n\u001B[0;32m    110\u001B[0m     def query(\n",
      "\u001B[1;32mc:\\users\\bisbii\\appdata\\local\\programs\\python\\python37\\lib\\site-packages\\cobra\\core\\dictlist.py\u001B[0m in \u001B[0;36m<listcomp>\u001B[1;34m(.0)\u001B[0m\n\u001B[0;32m    106\u001B[0m         \u001B[1;32mif\u001B[0m \u001B[1;32mnot\u001B[0m \u001B[0misinstance\u001B[0m\u001B[1;33m(\u001B[0m\u001B[0miterable\u001B[0m\u001B[1;33m,\u001B[0m \u001B[0mlist\u001B[0m\u001B[1;33m)\u001B[0m\u001B[1;33m:\u001B[0m\u001B[1;33m\u001B[0m\u001B[1;33m\u001B[0m\u001B[0m\n\u001B[0;32m    107\u001B[0m             \u001B[0miterable\u001B[0m \u001B[1;33m=\u001B[0m \u001B[1;33m[\u001B[0m\u001B[0miterable\u001B[0m\u001B[1;33m]\u001B[0m\u001B[1;33m\u001B[0m\u001B[1;33m\u001B[0m\u001B[0m\n\u001B[1;32m--> 108\u001B[1;33m         \u001B[1;32mreturn\u001B[0m \u001B[1;33m[\u001B[0m\u001B[0mget_item\u001B[0m\u001B[1;33m(\u001B[0m\u001B[0mitem\u001B[0m\u001B[1;33m)\u001B[0m \u001B[1;32mfor\u001B[0m \u001B[0mitem\u001B[0m \u001B[1;32min\u001B[0m \u001B[0miterable\u001B[0m\u001B[1;33m]\u001B[0m\u001B[1;33m\u001B[0m\u001B[1;33m\u001B[0m\u001B[0m\n\u001B[0m\u001B[0;32m    109\u001B[0m \u001B[1;33m\u001B[0m\u001B[0m\n\u001B[0;32m    110\u001B[0m     def query(\n",
      "\u001B[1;32mc:\\users\\bisbii\\appdata\\local\\programs\\python\\python37\\lib\\site-packages\\cobra\\core\\dictlist.py\u001B[0m in \u001B[0;36mget_item\u001B[1;34m(item)\u001B[0m\n\u001B[0;32m     98\u001B[0m                 \u001B[1;32mreturn\u001B[0m \u001B[0mself\u001B[0m\u001B[1;33m[\u001B[0m\u001B[0mitem\u001B[0m\u001B[1;33m]\u001B[0m\u001B[1;33m\u001B[0m\u001B[1;33m\u001B[0m\u001B[0m\n\u001B[0;32m     99\u001B[0m             \u001B[1;32melif\u001B[0m \u001B[0misinstance\u001B[0m\u001B[1;33m(\u001B[0m\u001B[0mitem\u001B[0m\u001B[1;33m,\u001B[0m \u001B[0mstr\u001B[0m\u001B[1;33m)\u001B[0m\u001B[1;33m:\u001B[0m\u001B[1;33m\u001B[0m\u001B[1;33m\u001B[0m\u001B[0m\n\u001B[1;32m--> 100\u001B[1;33m                 \u001B[1;32mreturn\u001B[0m \u001B[0mself\u001B[0m\u001B[1;33m.\u001B[0m\u001B[0mget_by_id\u001B[0m\u001B[1;33m(\u001B[0m\u001B[0mitem\u001B[0m\u001B[1;33m)\u001B[0m\u001B[1;33m\u001B[0m\u001B[1;33m\u001B[0m\u001B[0m\n\u001B[0m\u001B[0;32m    101\u001B[0m             \u001B[1;32melif\u001B[0m \u001B[0mitem\u001B[0m \u001B[1;32min\u001B[0m \u001B[0mself\u001B[0m\u001B[1;33m:\u001B[0m\u001B[1;33m\u001B[0m\u001B[1;33m\u001B[0m\u001B[0m\n\u001B[0;32m    102\u001B[0m                 \u001B[1;32mreturn\u001B[0m \u001B[0mitem\u001B[0m\u001B[1;33m\u001B[0m\u001B[1;33m\u001B[0m\u001B[0m\n",
      "\u001B[1;32mc:\\users\\bisbii\\appdata\\local\\programs\\python\\python37\\lib\\site-packages\\cobra\\core\\dictlist.py\u001B[0m in \u001B[0;36mget_by_id\u001B[1;34m(self, id)\u001B[0m\n\u001B[0;32m     72\u001B[0m     \u001B[1;32mdef\u001B[0m \u001B[0mget_by_id\u001B[0m\u001B[1;33m(\u001B[0m\u001B[0mself\u001B[0m\u001B[1;33m,\u001B[0m \u001B[0mid\u001B[0m\u001B[1;33m:\u001B[0m \u001B[0mUnion\u001B[0m\u001B[1;33m[\u001B[0m\u001B[0mObject\u001B[0m\u001B[1;33m,\u001B[0m \u001B[0mstr\u001B[0m\u001B[1;33m]\u001B[0m\u001B[1;33m)\u001B[0m \u001B[1;33m->\u001B[0m \u001B[0mObject\u001B[0m\u001B[1;33m:\u001B[0m\u001B[1;33m\u001B[0m\u001B[1;33m\u001B[0m\u001B[0m\n\u001B[0;32m     73\u001B[0m         \u001B[1;34m\"\"\"Return the element with a matching id.\"\"\"\u001B[0m\u001B[1;33m\u001B[0m\u001B[1;33m\u001B[0m\u001B[0m\n\u001B[1;32m---> 74\u001B[1;33m         \u001B[1;32mreturn\u001B[0m \u001B[0mlist\u001B[0m\u001B[1;33m.\u001B[0m\u001B[0m__getitem__\u001B[0m\u001B[1;33m(\u001B[0m\u001B[0mself\u001B[0m\u001B[1;33m,\u001B[0m \u001B[0mself\u001B[0m\u001B[1;33m.\u001B[0m\u001B[0m_dict\u001B[0m\u001B[1;33m[\u001B[0m\u001B[0mid\u001B[0m\u001B[1;33m]\u001B[0m\u001B[1;33m)\u001B[0m\u001B[1;33m\u001B[0m\u001B[1;33m\u001B[0m\u001B[0m\n\u001B[0m\u001B[0;32m     75\u001B[0m \u001B[1;33m\u001B[0m\u001B[0m\n\u001B[0;32m     76\u001B[0m     \u001B[1;32mdef\u001B[0m \u001B[0mlist_attr\u001B[0m\u001B[1;33m(\u001B[0m\u001B[0mself\u001B[0m\u001B[1;33m,\u001B[0m \u001B[0mattribute\u001B[0m\u001B[1;33m:\u001B[0m \u001B[0mstr\u001B[0m\u001B[1;33m)\u001B[0m \u001B[1;33m->\u001B[0m \u001B[0mlist\u001B[0m\u001B[1;33m:\u001B[0m\u001B[1;33m\u001B[0m\u001B[1;33m\u001B[0m\u001B[0m\n",
      "\u001B[1;31mKeyError\u001B[0m: 'Biomass_Ecoli_core'"
     ]
    }
   ],
   "source": [
    "#obtain a flux varariation plot\n",
    "prod_env_co2 = cobra.flux_analysis.production_envelope(model, [\"Biomass_Ecoli_core\"], objective=['EX_co2_e'])\n",
    "prod_env_co2.plot(kind='line', x='Biomass_Ecoli_core', y=['flux_minimum', 'flux_maximum'])"
   ]
  },
  {
   "cell_type": "markdown",
   "id": "1e50d254",
   "metadata": {
    "pycharm": {
     "name": "#%% md\n"
    }
   },
   "source": [
    "### Pathway Visualization"
   ]
  },
  {
   "cell_type": "markdown",
   "id": "f4a21891",
   "metadata": {
    "pycharm": {
     "name": "#%% md\n"
    }
   },
   "source": [
    "COBRApy does not include any pathway visualization method. Nevertheless, independent tools that work with cobra models can be use for that goal. One of such tools is named Escher.\n",
    "\n",
    "Escher allows the visualization of metabolic pathway maps. Escher maps can be build using the `escher.Build()` function, which requires the model and a FBA solution.\n",
    "\n",
    "To obtain the metabolic map for the model in question, Escher can be run as follows:"
   ]
  },
  {
   "cell_type": "code",
   "execution_count": null,
   "id": "1d0526c7",
   "metadata": {
    "pycharm": {
     "name": "#%%\n"
    }
   },
   "outputs": [],
   "source": [
    "import escher\n",
    "\n",
    "builder = escher.Builder(map_name='e_coli_core.Core metabolism', model=model, reaction_data=fba_solution.fluxes)\n",
    "builder"
   ]
  },
  {
   "cell_type": "code",
   "execution_count": null,
   "id": "1cbb2360",
   "metadata": {
    "pycharm": {
     "name": "#%%\n"
    }
   },
   "outputs": [],
   "source": []
  }
 ],
 "metadata": {
  "kernelspec": {
   "display_name": "Python 3",
   "language": "python",
   "name": "python3"
  },
  "language_info": {
   "codemirror_mode": {
    "name": "ipython",
    "version": 3
   },
   "file_extension": ".py",
   "mimetype": "text/x-python",
   "name": "python",
   "nbconvert_exporter": "python",
   "pygments_lexer": "ipython3",
   "version": "3.7.7"
  }
 },
 "nbformat": 4,
 "nbformat_minor": 5
}