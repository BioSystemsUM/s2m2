{
 "cells": [
  {
   "cell_type": "markdown",
   "metadata": {
    "pycharm": {
     "name": "#%% md\n"
    }
   },
   "source": [
    "# COBRApy\n",
    "\n",
    "COBRApy is a package for constraint-based modeling of biological networks written in Python.\n",
    "\n",
    "This tool allows loading and inspecting Genome-Scale Metabolic (GEM) models written in the Systems Biology Markup Language (SBML) format.\n",
    "\n",
    "Using COBRApy, one can analyze the following model contents:\n",
    "1. Reactions\n",
    "2. Metabolites\n",
    "3. Genes\n",
    "4. Exchange reactions (Environmental Conditions)\n",
    "\n",
    "COBRApy allows manipulating the contents of a GEM model. For instance, one can edit reactions' flux bounds, knock out a metabolic gene, or change environmental conditions.\n",
    "\n",
    "COBRApy contains flux analysis methods to simulate an organism's phenotypic behavior. These include Flux Balance Analysis (FBA), Parsimonious FBA, or Flux Variability Analysis (FVA).\n",
    "\n",
    "The simulation of gene and reaction deletions for a given GEM model is a straightforward process. One can simulate single or double knockouts using one of the flux analysis methods mentioned above."
   ],
   "id": "9441980efe220baa"
  },
  {
   "cell_type": "markdown",
   "metadata": {
    "pycharm": {
     "name": "#%% md\n"
    }
   },
   "source": [
    "## Installation\n",
    "\n",
    "\n",
    "### Requirements\n",
    "The following requirements are needed to use COBRApy:\n",
    "- Python 3.6 or higher\n",
    "- pip must be installed\n",
    "- GLPK is the default solver, but CPLEX is preferred\n",
    "\n",
    "\n",
    "### How to install COBRApy?\n",
    "```\n",
    "pip install cobra\n",
    "```"
   ],
   "id": "9370849ea9eb54e5"
  },
  {
   "cell_type": "markdown",
   "metadata": {
    "pycharm": {
     "name": "#%% md\n"
    }
   },
   "source": [
    "# Exercise 2 - Flux analysis & Constraint-based modeling"
   ],
   "id": "d598ce3dd462d684"
  },
  {
   "cell_type": "markdown",
   "metadata": {
    "pycharm": {
     "name": "#%% md\n"
    }
   },
   "source": [
    "## Working with a GEM model\n",
    "\n",
    "COBRApy can be used to read a GEM model in SBML format file.\n",
    "For this practical session, we will be using the following model:\n",
    "- _textbook_ model which contains the metabolic network presented in the _exercise 1_ -> file: ../data/textbook.xml\n",
    "\n",
    "The reactions, metabolites, and genes encoded into a SBML format file can be parsed by COBRApy. These contents are loaded into Python objects simple to use, namely `cobra.Reaction`, `cobra.Metabolite`, and `cobra.Gene`\n",
    "\n",
    "The model itself will be available as an `cobra.Model` object containing all these attributes."
   ],
   "id": "529b8de6dcf8609c"
  },
  {
   "cell_type": "code",
   "execution_count": 1,
   "metadata": {
    "pycharm": {
     "name": "#%%\n"
    },
    "ExecuteTime": {
     "end_time": "2024-06-19T14:55:53.662104Z",
     "start_time": "2024-06-19T14:55:51.902785300Z"
    }
   },
   "outputs": [],
   "source": [
    "# importing cobra\n",
    "import cobra"
   ],
   "id": "559c4ecd6fa7b42b"
  },
  {
   "cell_type": "code",
   "execution_count": 2,
   "metadata": {
    "pycharm": {
     "name": "#%%\n"
    },
    "ExecuteTime": {
     "end_time": "2024-06-19T14:55:53.741387500Z",
     "start_time": "2024-06-19T14:55:53.666616600Z"
    }
   },
   "outputs": [
    {
     "data": {
      "text/plain": "<Model textbook at 0x16be51ec408>",
      "text/html": "\n        <table>\n            <tr>\n                <td><strong>Name</strong></td>\n                <td>textbook</td>\n            </tr><tr>\n                <td><strong>Memory address</strong></td>\n                <td>16be51ec408</td>\n            </tr><tr>\n                <td><strong>Number of metabolites</strong></td>\n                <td>9</td>\n            </tr><tr>\n                <td><strong>Number of reactions</strong></td>\n                <td>12</td>\n            </tr><tr>\n                <td><strong>Number of genes</strong></td>\n                <td>0</td>\n            </tr><tr>\n                <td><strong>Number of groups</strong></td>\n                <td>0</td>\n            </tr><tr>\n                <td><strong>Objective expression</strong></td>\n                <td>1.0*R4 - 1.0*R4_reverse_8717c</td>\n            </tr><tr>\n                <td><strong>Compartments</strong></td>\n                <td>c</td>\n            </tr>\n          </table>"
     },
     "execution_count": 2,
     "metadata": {},
     "output_type": "execute_result"
    }
   ],
   "source": [
    "# Loading a model\n",
    "model_path = '../data/textbook.xml'\n",
    "model = cobra.io.read_sbml_model(model_path)\n",
    "\n",
    "model"
   ],
   "id": "ca9023432a9a7ecf"
  },
  {
   "cell_type": "markdown",
   "metadata": {
    "pycharm": {
     "name": "#%% md\n"
    }
   },
   "source": [
    "### Linear problem\n",
    "The degrees of freedom can be calculated by subtracting the number of variables by the number of linear mass equations. That is, one can determine the degree of under-determination of this model by subtracting the number of reactions by the number of metabolites."
   ],
   "id": "b5a9159bed4758b"
  },
  {
   "cell_type": "code",
   "execution_count": 3,
   "metadata": {
    "pycharm": {
     "name": "#%%\n"
    },
    "ExecuteTime": {
     "end_time": "2024-06-19T14:55:53.775794900Z",
     "start_time": "2024-06-19T14:55:53.739387700Z"
    }
   },
   "outputs": [
    {
     "data": {
      "text/plain": "3"
     },
     "execution_count": 3,
     "metadata": {},
     "output_type": "execute_result"
    }
   ],
   "source": [
    "# calculating the linear problem degrees of freedom\n",
    "degrees = len(model.reactions) - len(model.metabolites)\n",
    "degrees"
   ],
   "id": "7567a268a07f6be2"
  },
  {
   "cell_type": "markdown",
   "metadata": {
    "pycharm": {
     "name": "#%% md\n"
    }
   },
   "source": [
    "## Environmental Conditions\n",
    "\n",
    "\n",
    "The set of measured exchange fluxes can be used to define the environmental conditions of our _textbook_ model. Thus, we can use the measurements obtained to turn our under-determined system into a determined system ready to be solved."
   ],
   "id": "86b6327dedcdae3"
  },
  {
   "cell_type": "code",
   "execution_count": 4,
   "metadata": {
    "pycharm": {
     "name": "#%%\n"
    },
    "ExecuteTime": {
     "end_time": "2024-06-19T14:55:53.797299900Z",
     "start_time": "2024-06-19T14:55:53.759396600Z"
    }
   },
   "outputs": [
    {
     "data": {
      "text/plain": "{'R1': (-1, 0), 'R2': (0.5, 1000), 'R3': (0.5, 1000)}"
     },
     "execution_count": 4,
     "metadata": {},
     "output_type": "execute_result"
    }
   ],
   "source": [
    "# create the environmental conditions with our measurements\n",
    "environmental_conditions = {\n",
    "    'R1': (-1, 0),\n",
    "    'R2': (0.5, 1000),\n",
    "    'R3': (0.5, 1000),\n",
    "}\n",
    "environmental_conditions"
   ],
   "id": "41cb44083e15a96a"
  },
  {
   "cell_type": "code",
   "execution_count": 5,
   "metadata": {
    "pycharm": {
     "name": "#%%\n"
    },
    "ExecuteTime": {
     "end_time": "2024-06-19T14:55:53.806300800Z",
     "start_time": "2024-06-19T14:55:53.771913100Z"
    }
   },
   "outputs": [],
   "source": [
    "# set the environmental conditions in the textbook model\n",
    "for reaction_id, bound in environmental_conditions.items():\n",
    "    model.reactions.get_by_id(reaction_id).bounds = bound"
   ],
   "id": "a4694204e1c3462b"
  },
  {
   "cell_type": "markdown",
   "metadata": {
    "pycharm": {
     "name": "#%% md\n"
    }
   },
   "source": [
    "### Flux analysis with FBA"
   ],
   "id": "f6cb6366548afacd"
  },
  {
   "cell_type": "markdown",
   "metadata": {
    "pycharm": {
     "name": "#%% md\n"
    }
   },
   "source": [
    "COBRApy allows performing Flux Balance Analysis (FBA) in GEM models.\n",
    "\n",
    "To perform a simulation using this method, you should first define an objective function. This can be a reaction or an exchange, which will be maximized or minimized. "
   ],
   "id": "95db72a94a806064"
  },
  {
   "cell_type": "markdown",
   "metadata": {
    "pycharm": {
     "name": "#%% md\n"
    }
   },
   "source": [
    "By default, the _textbook_ model objective function is reaction 4, R4. \n",
    "This can be thought of as the maximization of the ethanol production."
   ],
   "id": "645d3f85a6a3029c"
  },
  {
   "cell_type": "code",
   "execution_count": 6,
   "metadata": {
    "pycharm": {
     "name": "#%%\n"
    },
    "ExecuteTime": {
     "end_time": "2024-06-19T14:55:53.972745300Z",
     "start_time": "2024-06-19T14:55:53.786875Z"
    }
   },
   "outputs": [
    {
     "data": {
      "text/plain": "1.0*R4 - 1.0*R4_reverse_8717c",
      "text/latex": "$\\displaystyle 1.0 \\cdot R_{4} - 1.0 \\cdot R_{4 reverse 8717c}$"
     },
     "execution_count": 6,
     "metadata": {},
     "output_type": "execute_result"
    }
   ],
   "source": [
    "model.objective.expression"
   ],
   "id": "bf779ca4f37f3d91"
  },
  {
   "cell_type": "markdown",
   "metadata": {
    "pycharm": {
     "name": "#%% md\n"
    }
   },
   "source": [
    "#### Flux Balance Analysis (FBA)"
   ],
   "id": "c7348ca64341bf3c"
  },
  {
   "cell_type": "markdown",
   "metadata": {
    "pycharm": {
     "name": "#%% md\n"
    }
   },
   "source": [
    "FBA simulations can be performed using `model.optimize()`. One can easily see the flux distribution as a result."
   ],
   "id": "f1f43a4d3ebfda20"
  },
  {
   "cell_type": "code",
   "execution_count": 7,
   "metadata": {
    "pycharm": {
     "name": "#%%\n"
    },
    "ExecuteTime": {
     "end_time": "2024-06-19T14:55:53.986748600Z",
     "start_time": "2024-06-19T14:55:53.971750200Z"
    }
   },
   "outputs": [
    {
     "data": {
      "text/plain": "<Solution 1.250 at 0x16be5619688>",
      "text/html": "<strong><em>Optimal</em> solution with objective value 1.250</strong><br><div>\n<style scoped>\n    .dataframe tbody tr th:only-of-type {\n        vertical-align: middle;\n    }\n\n    .dataframe tbody tr th {\n        vertical-align: top;\n    }\n\n    .dataframe thead th {\n        text-align: right;\n    }\n</style>\n<table border=\"1\" class=\"dataframe\">\n  <thead>\n    <tr style=\"text-align: right;\">\n      <th></th>\n      <th>fluxes</th>\n      <th>reduced_costs</th>\n    </tr>\n  </thead>\n  <tbody>\n    <tr>\n      <th>V1</th>\n      <td>2.00</td>\n      <td>0.0</td>\n    </tr>\n    <tr>\n      <th>V2</th>\n      <td>0.50</td>\n      <td>0.0</td>\n    </tr>\n    <tr>\n      <th>V3</th>\n      <td>1.00</td>\n      <td>0.0</td>\n    </tr>\n    <tr>\n      <th>V4</th>\n      <td>0.50</td>\n      <td>0.0</td>\n    </tr>\n    <tr>\n      <th>V5</th>\n      <td>0.25</td>\n      <td>0.0</td>\n    </tr>\n    <tr>\n      <th>...</th>\n      <td>...</td>\n      <td>...</td>\n    </tr>\n    <tr>\n      <th>R2</th>\n      <td>0.50</td>\n      <td>-2.0</td>\n    </tr>\n    <tr>\n      <th>R3</th>\n      <td>0.50</td>\n      <td>-1.0</td>\n    </tr>\n    <tr>\n      <th>R4</th>\n      <td>1.25</td>\n      <td>0.0</td>\n    </tr>\n    <tr>\n      <th>R5</th>\n      <td>0.25</td>\n      <td>0.0</td>\n    </tr>\n    <tr>\n      <th>R6</th>\n      <td>1.00</td>\n      <td>0.0</td>\n    </tr>\n  </tbody>\n</table>\n<p>12 rows × 2 columns</p>\n</div>"
     },
     "execution_count": 7,
     "metadata": {},
     "output_type": "execute_result"
    }
   ],
   "source": [
    "flux_distribution = model.optimize()\n",
    "flux_distribution"
   ],
   "id": "a679efc5cefb3d6b"
  },
  {
   "cell_type": "markdown",
   "metadata": {
    "pycharm": {
     "name": "#%% md\n"
    }
   },
   "source": [
    "### Pathway Visualization"
   ],
   "id": "1a3b878844da5918"
  },
  {
   "cell_type": "markdown",
   "metadata": {
    "pycharm": {
     "name": "#%% md\n"
    }
   },
   "source": [
    "COBRApy does not include any pathway visualization method. Nevertheless, independent tools that work with cobra models can be used for that goal. One such tool is named Escher.\n",
    "\n",
    "Escher allows the visualization of metabolic pathway maps. Escher maps can be visualized using the `escher.Build()` function, which requires the model, the metabolic pathway map, and an FBA solution.\n",
    "\n",
    "To obtain the metabolic map for the model in question, Escher can be run as follows:"
   ],
   "id": "6004cc66bf7cb1d4"
  },
  {
   "cell_type": "code",
   "execution_count": 8,
   "metadata": {
    "pycharm": {
     "name": "#%%\n"
    },
    "ExecuteTime": {
     "end_time": "2024-06-19T14:55:54.149282800Z",
     "start_time": "2024-06-19T14:55:53.986748600Z"
    }
   },
   "outputs": [],
   "source": [
    "# import escher\n",
    "import escher"
   ],
   "id": "668f32cd786a74a1"
  },
  {
   "cell_type": "code",
   "execution_count": 9,
   "metadata": {
    "pycharm": {
     "name": "#%%\n"
    },
    "ExecuteTime": {
     "end_time": "2024-06-19T14:55:54.182797700Z",
     "start_time": "2024-06-19T14:55:54.132277300Z"
    }
   },
   "outputs": [
    {
     "data": {
      "text/plain": "Builder(reaction_data={'V1': 2.0, 'V2': 0.5, 'V3': 1.0, 'V4': 0.5, 'V5': 0.25, 'V6': 1.25, 'R1': -1.0, 'R2': 0…",
      "application/vnd.jupyter.widget-view+json": {
       "version_major": 2,
       "version_minor": 0,
       "model_id": "b8fa4a79a58b4d24851d5f8a1645d60f"
      }
     },
     "metadata": {},
     "output_type": "display_data"
    }
   ],
   "source": [
    "builder = escher.Builder(map_json='../data/textbook_map.json', model=model, reaction_data=flux_distribution.fluxes)\n",
    "builder"
   ],
   "id": "f9fbbcdb8d1bfaa2"
  }
 ],
 "metadata": {
  "kernelspec": {
   "display_name": "Python 3",
   "language": "python",
   "name": "python3"
  },
  "language_info": {
   "codemirror_mode": {
    "name": "ipython",
    "version": 3
   },
   "file_extension": ".py",
   "mimetype": "text/x-python",
   "name": "python",
   "nbconvert_exporter": "python",
   "pygments_lexer": "ipython3",
   "version": "3.7.7"
  }
 },
 "nbformat": 4,
 "nbformat_minor": 5
}
