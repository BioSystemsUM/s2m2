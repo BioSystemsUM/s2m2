{
 "cells": [
  {
   "cell_type": "markdown",
   "metadata": {
    "pycharm": {
     "name": "#%% md\n"
    }
   },
   "source": [
    "# COBRApy\n",
    "\n",
    "COBRApy is a package for constraint-based modeling of biological networks written in Python.\n",
    "\n",
    "This tool allows loading and inspecting Genome-Scale Metabolic (GEM) models written in the Systems Biology Markup Language (SBML) format.\n",
    "\n",
    "Using COBRApy, one can analyze the following model contents:\n",
    "1. Reactions\n",
    "2. Metabolites\n",
    "3. Genes\n",
    "4. Exchange reactions (Environmental Conditions)\n",
    "\n",
    "COBRApy allows manipulating the contents of a GEM model. For instance, one can edit reactions' flux bounds, knock out a metabolic gene, or change environmental conditions.\n",
    "\n",
    "COBRApy contains flux analysis methods to simulate an organism's phenotypic behavior. These include Flux Balance Analysis (FBA), Parsimonious FBA, or Flux Variability Analysis (FVA).\n",
    "\n",
    "The simulation of gene and reaction deletions for a given GEM model is a straightforward process. One can simulate single or double knockouts using one of the flux analysis methods mentioned above."
   ]
  },
  {
   "cell_type": "markdown",
   "metadata": {
    "pycharm": {
     "name": "#%% md\n"
    }
   },
   "source": [
    "## Installation\n",
    "\n",
    "\n",
    "### Requirements\n",
    "The following requirements are needed to use COBRApy:\n",
    "- Python 3.6 or higher\n",
    "- pip must be installed\n",
    "- GLPK is the default solver, but CPLEX is preferred\n",
    "\n",
    "\n",
    "### How to install COBRApy?\n",
    "```\n",
    "pip install cobra\n",
    "```"
   ]
  },
  {
   "cell_type": "markdown",
   "metadata": {
    "pycharm": {
     "name": "#%% md\n"
    }
   },
   "source": [
    "# Exercise 2 - Flux analysis & Constraint-based modeling"
   ]
  },
  {
   "cell_type": "markdown",
   "metadata": {
    "pycharm": {
     "name": "#%% md\n"
    }
   },
   "source": [
    "## Working with a GEM model\n",
    "\n",
    "COBRApy can be used to read a GEM model in SBML format file.\n",
    "For this practical session, we will be using the following model:\n",
    "- _textbook_ model which contains the metabolic network presented in the _exercise 1_ -> file: ../data/textbook.xml\n",
    "\n",
    "The reactions, metabolites, and genes encoded into a SBML format file can be parsed by COBRApy. These contents are loaded into Python objects simple to use, namely `cobra.Reaction`, `cobra.Metabolite`, and `cobra.Gene`\n",
    "\n",
    "The model itself will be available as an `cobra.Model` object containing all these attributes."
   ]
  },
  {
   "cell_type": "code",
   "execution_count": null,
   "metadata": {
    "pycharm": {
     "name": "#%%\n"
    }
   },
   "outputs": [],
   "source": [
    "# importing cobra\n",
    "import cobra"
   ]
  },
  {
   "cell_type": "code",
   "execution_count": null,
   "metadata": {
    "pycharm": {
     "name": "#%%\n"
    }
   },
   "outputs": [],
   "source": [
    "# Loading a model\n",
    "model_path = '../data/textbook.xml'\n",
    "model = cobra.io.read_sbml_model(model_path)\n",
    "\n",
    "model"
   ]
  },
  {
   "cell_type": "markdown",
   "metadata": {
    "pycharm": {
     "name": "#%% md\n"
    }
   },
   "source": [
    "### Linear problem\n",
    "The degrees of freedom can be calculated by subtracting the number of variables by the number of linear mass equations. That is, one can determine the degree of under-determination of this model by subtracting the number of reactions by the number of metabolites."
   ]
  },
  {
   "cell_type": "code",
   "execution_count": null,
   "metadata": {
    "pycharm": {
     "name": "#%%\n"
    }
   },
   "outputs": [],
   "source": [
    "# calculating the linear problem degrees of freedom\n",
    "degrees = len(model.reactions) - len(model.metabolites)\n",
    "degrees"
   ]
  },
  {
   "cell_type": "markdown",
   "metadata": {
    "pycharm": {
     "name": "#%% md\n"
    }
   },
   "source": [
    "## Environmental Conditions\n",
    "\n",
    "\n",
    "The set of measured exchange fluxes can be used to define the environmental conditions of our _textbook_ model. Thus, we can use the measurements obtained to turn our under-determined system into a determined system ready to be solved."
   ]
  },
  {
   "cell_type": "code",
   "execution_count": null,
   "metadata": {
    "pycharm": {
     "name": "#%%\n"
    }
   },
   "outputs": [],
   "source": [
    "# create the environmental conditions with our measurements\n",
    "environmental_conditions = {\n",
    "    'R1': (-1, 0),\n",
    "    'R2': (0.5, 1000),\n",
    "    'R3': (0.5, 1000),\n",
    "}\n",
    "environmental_conditions"
   ]
  },
  {
   "cell_type": "code",
   "execution_count": null,
   "metadata": {
    "pycharm": {
     "name": "#%%\n"
    }
   },
   "outputs": [],
   "source": [
    "# set the environmental conditions in the textbook model\n",
    "for reaction_id, bound in environmental_conditions.items():\n",
    "    model.reactions.get_by_id(reaction_id).bounds = bound"
   ]
  },
  {
   "cell_type": "markdown",
   "metadata": {
    "pycharm": {
     "name": "#%% md\n"
    }
   },
   "source": [
    "### Flux analysis with FBA"
   ]
  },
  {
   "cell_type": "markdown",
   "metadata": {
    "pycharm": {
     "name": "#%% md\n"
    }
   },
   "source": [
    "COBRApy allows performing Flux Balance Analysis (FBA) in GEM models.\n",
    "\n",
    "To perform a simulation using this method, you should first define an objective function. This can be a reaction or an exchange, which will be maximized or minimized. "
   ]
  },
  {
   "cell_type": "markdown",
   "metadata": {
    "pycharm": {
     "name": "#%% md\n"
    }
   },
   "source": [
    "By default, the _textbook_ model objective function is reaction 4, R4. \n",
    "This can be thought of as the maximization of the ethanol production."
   ]
  },
  {
   "cell_type": "code",
   "execution_count": null,
   "metadata": {
    "pycharm": {
     "name": "#%%\n"
    }
   },
   "outputs": [],
   "source": [
    "model.objective.expression"
   ]
  },
  {
   "cell_type": "markdown",
   "metadata": {
    "pycharm": {
     "name": "#%% md\n"
    }
   },
   "source": [
    "#### Flux Balance Analysis (FBA)"
   ]
  },
  {
   "cell_type": "markdown",
   "metadata": {
    "pycharm": {
     "name": "#%% md\n"
    }
   },
   "source": [
    "FBA simulations can be performed using `model.optimize()`. One can easily see the flux distribution as a result."
   ]
  },
  {
   "cell_type": "code",
   "execution_count": null,
   "metadata": {
    "pycharm": {
     "name": "#%%\n"
    }
   },
   "outputs": [],
   "source": [
    "flux_distribution = model.optimize()\n",
    "flux_distribution"
   ]
  },
  {
   "cell_type": "markdown",
   "metadata": {
    "pycharm": {
     "name": "#%% md\n"
    }
   },
   "source": [
    "### Pathway Visualization"
   ]
  },
  {
   "cell_type": "markdown",
   "metadata": {
    "pycharm": {
     "name": "#%% md\n"
    }
   },
   "source": [
    "COBRApy does not include any pathway visualization method. Nevertheless, independent tools that work with cobra models can be used for that goal. One such tool is named Escher.\n",
    "\n",
    "Escher allows the visualization of metabolic pathway maps. Escher maps can be visualized using the `escher.Build()` function, which requires the model, the metabolic pathway map, and an FBA solution.\n",
    "\n",
    "To obtain the metabolic map for the model in question, Escher can be run as follows:"
   ]
  },
  {
   "cell_type": "code",
   "execution_count": null,
   "metadata": {
    "pycharm": {
     "name": "#%%\n"
    }
   },
   "outputs": [],
   "source": [
    "# import escher\n",
    "import escher"
   ]
  },
  {
   "cell_type": "code",
   "execution_count": null,
   "metadata": {
    "pycharm": {
     "name": "#%%\n"
    }
   },
   "outputs": [],
   "source": [
    "builder = escher.Builder(map_json='../data/textbook_map.json', model=model, reaction_data=flux_distribution.fluxes)\n",
    "builder"
   ]
  }
 ],
 "metadata": {
  "kernelspec": {
   "display_name": "Python 3",
   "language": "python",
   "name": "python3"
  },
  "language_info": {
   "codemirror_mode": {
    "name": "ipython",
    "version": 3
   },
   "file_extension": ".py",
   "mimetype": "text/x-python",
   "name": "python",
   "nbconvert_exporter": "python",
   "pygments_lexer": "ipython3",
   "version": "3.7.7"
  }
 },
 "nbformat": 4,
 "nbformat_minor": 5
}