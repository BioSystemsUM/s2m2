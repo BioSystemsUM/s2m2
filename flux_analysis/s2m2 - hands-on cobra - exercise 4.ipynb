{
 "cells": [
  {
   "cell_type": "markdown",
   "metadata": {
    "pycharm": {
     "name": "#%% md\n"
    }
   },
   "source": [
    "# COBRApy\n",
    "\n",
    "COBRApy is a package for constraint-based modeling of biological networks written in Python.\n",
    "\n",
    "This tool allows loading and inspecting Genome-Scale Metabolic (GEM) models written in the Systems Biology Markup Language (SBML) format.\n",
    "\n",
    "Using COBRApy, one can analyze the following model contents:\n",
    "1. Reactions\n",
    "2. Metabolites\n",
    "3. Genes\n",
    "4. Exchange reactions (Environmental Conditions)\n",
    "\n",
    "COBRApy allows manipulating the contents of a GEM model. For instance, one can edit reactions' flux bounds, knock out a metabolic gene, or change environmental conditions.\n",
    "\n",
    "COBRApy contains flux analysis methods to simulate an organism's phenotypic behavior. These include Flux Balance Analysis (FBA), Parsimonious FBA, or Flux Variability Analysis (FVA).\n",
    "\n",
    "The simulation of gene and reaction deletions for a given GEM model is a straightforward process. One can simulate single or double knockouts using one of the flux analysis methods mentioned above."
   ]
  },
  {
   "cell_type": "markdown",
   "metadata": {
    "pycharm": {
     "name": "#%% md\n"
    }
   },
   "source": [
    "## Installation\n",
    "\n",
    "\n",
    "### Requirements\n",
    "The following requirements are needed to use COBRApy:\n",
    "- Python 3.6 or higher\n",
    "- pip must be installed\n",
    "- GLPK is the default solver, but CPLEX is preferred\n",
    "\n",
    "\n",
    "### How to install COBRApy?\n",
    "```\n",
    "pip install cobra\n",
    "```"
   ]
  },
  {
   "cell_type": "markdown",
   "metadata": {
    "pycharm": {
     "name": "#%% md\n"
    }
   },
   "source": [
    "# Exercise 4 - Flux Analysis & Constraint-based modeling"
   ]
  },
  {
   "cell_type": "markdown",
   "metadata": {
    "pycharm": {
     "name": "#%% md\n"
    }
   },
   "source": [
    "## Working with a GEM model\n",
    "\n",
    "COBRApy can be used to read a GEM model in an SBML format file.\n",
    "For this practical session, we will be using the following model:\n",
    "- _iJO1366_ model which contains the whole metabolism of _Escherichia coli_ -> file: ../data/iJO1366.xml\n",
    "\n",
    "You can read more about _E. coli_ iJO1366 model (Orth et al., 2011) in the following links:\n",
    "- https://www.embopress.org/doi/full/10.1038/msb.2011.65\n",
    "- http://bigg.ucsd.edu/models/iJO1366"
   ]
  },
  {
   "cell_type": "code",
   "execution_count": null,
   "metadata": {
    "pycharm": {
     "name": "#%%\n"
    }
   },
   "outputs": [],
   "source": [
    "# importing cobra\n",
    "import cobra\n",
    "\n",
    "# loading a model\n",
    "model_path = '../data/iJO1366.xml'\n",
    "model = cobra.io.read_sbml_model(model_path)\n",
    "\n",
    "model"
   ]
  },
  {
   "cell_type": "code",
   "execution_count": null,
   "metadata": {
    "pycharm": {
     "name": "#%%\n"
    }
   },
   "outputs": [],
   "source": [
    "# retrieving the first ten reactions of the model\n",
    "model.reactions[0:10]"
   ]
  },
  {
   "cell_type": "code",
   "execution_count": null,
   "metadata": {
    "pycharm": {
     "name": "#%%\n"
    }
   },
   "outputs": [],
   "source": [
    "# inspecting Enolase reaction by its ID\n",
    "model.reactions.get_by_id(\"ENO\")"
   ]
  },
  {
   "cell_type": "code",
   "execution_count": null,
   "metadata": {
    "pycharm": {
     "name": "#%%\n"
    }
   },
   "outputs": [],
   "source": [
    "# inspecting the 1093rd reaction of the model\n",
    "model.reactions[1092]"
   ]
  },
  {
   "cell_type": "code",
   "execution_count": null,
   "metadata": {
    "scrolled": true,
    "pycharm": {
     "name": "#%%\n"
    }
   },
   "outputs": [],
   "source": [
    "# inspecting the model.reactions.ENO attribute\n",
    "model.reactions.ENO"
   ]
  },
  {
   "cell_type": "code",
   "execution_count": null,
   "metadata": {
    "pycharm": {
     "name": "#%%\n"
    }
   },
   "outputs": [],
   "source": [
    "# retrieving the first five metabolites of the model\n",
    "model.metabolites[:5]"
   ]
  },
  {
   "cell_type": "code",
   "execution_count": null,
   "metadata": {
    "pycharm": {
     "name": "#%%\n"
    },
    "scrolled": false
   },
   "outputs": [],
   "source": [
    "# inspecting the Phosphoenolpyruvate metabolite by its ID\n",
    "model.metabolites.get_by_id(\"pep_c\")"
   ]
  },
  {
   "cell_type": "code",
   "execution_count": null,
   "metadata": {
    "pycharm": {
     "name": "#%%\n"
    },
    "scrolled": true
   },
   "outputs": [],
   "source": [
    "# inspecting the 702nd metabolite of the model\n",
    "model.metabolites[701]"
   ]
  },
  {
   "cell_type": "code",
   "execution_count": null,
   "metadata": {
    "scrolled": true,
    "pycharm": {
     "name": "#%%\n"
    }
   },
   "outputs": [],
   "source": [
    "# inspecting the model.metabolites.pep_c attribute\n",
    "model.metabolites.pep_c"
   ]
  },
  {
   "cell_type": "code",
   "execution_count": null,
   "metadata": {
    "pycharm": {
     "name": "#%%\n"
    },
    "scrolled": false
   },
   "outputs": [],
   "source": [
    "# retrieving the last ten genes of the model\n",
    "model.genes[-10:]"
   ]
  },
  {
   "cell_type": "code",
   "execution_count": null,
   "metadata": {
    "pycharm": {
     "name": "#%%\n"
    }
   },
   "outputs": [],
   "source": [
    "# inspecting eno gene by its ID\n",
    "model.genes.get_by_id('b2779')"
   ]
  },
  {
   "cell_type": "code",
   "execution_count": null,
   "metadata": {
    "pycharm": {
     "name": "#%%\n"
    },
    "scrolled": true
   },
   "outputs": [],
   "source": [
    "# inspecting the 495th gene of the model\n",
    "model.genes[494]"
   ]
  },
  {
   "cell_type": "code",
   "execution_count": null,
   "metadata": {
    "pycharm": {
     "name": "#%%\n"
    }
   },
   "outputs": [],
   "source": [
    "# inspecting the model.genes.b2779 attribute\n",
    "model.genes.b2779"
   ]
  },
  {
   "cell_type": "code",
   "execution_count": null,
   "metadata": {
    "pycharm": {
     "name": "#%%\n"
    }
   },
   "outputs": [],
   "source": [
    "# inspecting the exchange reactions.\n",
    "for exchange in model.exchanges:\n",
    "    print(exchange.name, '->', exchange.bounds)"
   ]
  },
  {
   "cell_type": "code",
   "execution_count": null,
   "metadata": {
    "pycharm": {
     "name": "#%%\n"
    }
   },
   "outputs": [],
   "source": [
    "# inspecting the aerobic condition\n",
    "model.exchanges.EX_o2_e"
   ]
  },
  {
   "cell_type": "markdown",
   "metadata": {
    "pycharm": {
     "name": "#%% md\n"
    }
   },
   "source": [
    "### Phenotype Prediction"
   ]
  },
  {
   "cell_type": "code",
   "execution_count": null,
   "metadata": {
    "pycharm": {
     "name": "#%%\n"
    }
   },
   "outputs": [],
   "source": [
    "model.objective.expression"
   ]
  },
  {
   "cell_type": "markdown",
   "metadata": {
    "pycharm": {
     "name": "#%% md\n"
    }
   },
   "source": [
    "#### Flux Balance Analysis (FBA)"
   ]
  },
  {
   "cell_type": "code",
   "execution_count": null,
   "metadata": {
    "pycharm": {
     "name": "#%%\n"
    }
   },
   "outputs": [],
   "source": [
    "#performing a FBA simulation\n",
    "fba_solution = model.optimize()\n",
    "fba_solution"
   ]
  },
  {
   "cell_type": "code",
   "execution_count": null,
   "metadata": {
    "pycharm": {
     "name": "#%%\n"
    }
   },
   "outputs": [],
   "source": [
    "fba_solution['ENO']"
   ]
  },
  {
   "cell_type": "code",
   "execution_count": null,
   "metadata": {
    "pycharm": {
     "name": "#%%\n"
    },
    "scrolled": true
   },
   "outputs": [],
   "source": [
    "model.summary()"
   ]
  },
  {
   "cell_type": "markdown",
   "metadata": {
    "pycharm": {
     "name": "#%% md\n"
    }
   },
   "source": [
    "### Pathway Visualization"
   ]
  },
  {
   "cell_type": "code",
   "execution_count": null,
   "metadata": {
    "pycharm": {
     "name": "#%%\n"
    }
   },
   "outputs": [],
   "source": [
    "# import escher\n",
    "import escher\n",
    "\n",
    "# create the builder object which contains the metabolic map\n",
    "builder = escher.Builder(map_name='iJO1366.Central metabolism', model=model, reaction_data=fba_solution.fluxes)\n",
    "builder"
   ]
  }
 ],
 "metadata": {
  "kernelspec": {
   "display_name": "Python 3",
   "language": "python",
   "name": "python3"
  },
  "language_info": {
   "codemirror_mode": {
    "name": "ipython",
    "version": 3
   },
   "file_extension": ".py",
   "mimetype": "text/x-python",
   "name": "python",
   "nbconvert_exporter": "python",
   "pygments_lexer": "ipython3",
   "version": "3.7.7"
  }
 },
 "nbformat": 4,
 "nbformat_minor": 5
}