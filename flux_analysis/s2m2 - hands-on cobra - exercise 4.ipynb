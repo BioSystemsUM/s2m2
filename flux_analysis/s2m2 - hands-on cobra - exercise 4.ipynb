{
 "cells": [
  {
   "cell_type": "markdown",
   "id": "typical-freight",
   "metadata": {
    "pycharm": {
     "name": "#%% md\n"
    }
   },
   "source": [
    "# COBRApy\n",
    "\n",
    "COBRApy is a package for constraint-based modeling of biological networks written in Python.\n",
    "\n",
    "This tool allows loading and inspecting Genome-Scale Metabolic (GEM) models written in the Systems Biology Markup Language (SBML) format.\n",
    "\n",
    "Using COBRApy, one can analyse the following model contents:\n",
    "1. Reactions\n",
    "2. Metabolites\n",
    "3. Genes\n",
    "4. Exchange reactions (Environmental Conditions)\n",
    "\n",
    "COBRApy allows manipulating the contents of a GEM model. For instance, one can edit reactions' flux bounds, knock out a metabolic gene, or change the environmental conditions.\n",
    "\n",
    "Phenotype prediction can be simulated with several flux analysis methods implemented in COBRApy. These include Flux Balance Analysis (FBA), Parsimonious FBA, or Flux Variability Analysis (FVA).\n",
    "\n",
    "The simulation of gene and reaction deletions for a given GEM model is a simple and straightforward process. One can simulate single or double knock outs using one of the flux analysis methods mentioned above."
   ]
  },
  {
   "cell_type": "markdown",
   "id": "boring-compensation",
   "metadata": {
    "pycharm": {
     "name": "#%% md\n"
    }
   },
   "source": [
    "## Instalation\n",
    "\n",
    "\n",
    "### Requirements\n",
    "The following requirements need to be installed to use COBRApy:\n",
    "- Python 3.6 or higher\n",
    "- pip must be installed\n",
    "- GLPK solver is used by default but CPLEX is prefered\n",
    "\n",
    "\n",
    "### How to install COBRApy?\n",
    "```\n",
    "pip install cobra\n",
    "```"
   ]
  },
  {
   "cell_type": "markdown",
   "id": "d64966cc",
   "metadata": {
    "pycharm": {
     "name": "#%% md\n"
    }
   },
   "source": [
    "## Working with a GEM model\n",
    "\n",
    "COBRApy can be used to read a GEM model in SBML format file.\n",
    "For this practical session, we will be using the following model:\n",
    "- _iJO1366_ model which contains the whole metabolism of _Escherichia coli_ -> file: ../data/iJO1366.xml\n",
    "\n",
    "The reactions, metabolites, and genes encoded into a SBML format file can be parsed by COBRApy. These contents are loaded into Python objects simple to use, namely `cobra.Reaction`, `cobra.Metabolite`, and `cobra.Gene`\n",
    "\n",
    "The model itself will be available as an `cobra.Model` object containing all these attributes."
   ]
  },
  {
   "cell_type": "code",
   "execution_count": 18,
   "id": "62ccfad2",
   "metadata": {
    "pycharm": {
     "is_executing": true,
     "name": "#%%\n"
    }
   },
   "outputs": [
    {
     "data": {
      "text/html": [
       "\n",
       "        <table>\n",
       "            <tr>\n",
       "                <td><strong>Name</strong></td>\n",
       "                <td>iJO1366</td>\n",
       "            </tr><tr>\n",
       "                <td><strong>Memory address</strong></td>\n",
       "                <td>0x029607449c70</td>\n",
       "            </tr><tr>\n",
       "                <td><strong>Number of metabolites</strong></td>\n",
       "                <td>1805</td>\n",
       "            </tr><tr>\n",
       "                <td><strong>Number of reactions</strong></td>\n",
       "                <td>2583</td>\n",
       "            </tr><tr>\n",
       "                <td><strong>Number of groups</strong></td>\n",
       "                <td>0</td>\n",
       "            </tr><tr>\n",
       "                <td><strong>Objective expression</strong></td>\n",
       "                <td>1.0*BIOMASS_Ec_iJO1366_core_53p95M - 1.0*BIOMASS_Ec_iJO1366_core_53p95M_reverse_5c8b1</td>\n",
       "            </tr><tr>\n",
       "                <td><strong>Compartments</strong></td>\n",
       "                <td>cytosol, extracellular space, periplasm</td>\n",
       "            </tr>\n",
       "          </table>"
      ],
      "text/plain": [
       "<Model iJO1366 at 0x29607449c70>"
      ]
     },
     "execution_count": 18,
     "metadata": {},
     "output_type": "execute_result"
    }
   ],
   "source": [
    "# importing cobra\n",
    "import cobra\n",
    "\n",
    "# loading a model\n",
    "model_path = '../data/iJO1366.xml'\n",
    "model = cobra.io.read_sbml_model(model_path)\n",
    "\n",
    "model"
   ]
  },
  {
   "cell_type": "code",
   "execution_count": 19,
   "id": "cba5945e",
   "metadata": {
    "pycharm": {
     "name": "#%%\n"
    }
   },
   "outputs": [
    {
     "data": {
      "text/plain": [
       "[<Reaction EX_cm_e at 0x29606bc3b80>,\n",
       " <Reaction EX_cmp_e at 0x29606bc3cd0>,\n",
       " <Reaction EX_co2_e at 0x29606bc3c70>,\n",
       " <Reaction EX_cobalt2_e at 0x29606bc3d30>,\n",
       " <Reaction DM_4crsol_c at 0x29606bc3df0>,\n",
       " <Reaction DM_5drib_c at 0x29606bc3a90>,\n",
       " <Reaction DM_aacald_c at 0x29606bc3940>,\n",
       " <Reaction DM_amob_c at 0x29606bc3340>,\n",
       " <Reaction DM_mththf_c at 0x29606bc3520>,\n",
       " <Reaction EX_colipa_e at 0x29606bc3490>]"
      ]
     },
     "execution_count": 19,
     "metadata": {},
     "output_type": "execute_result"
    }
   ],
   "source": [
    "# retriving first ten reactions of the model\n",
    "model.reactions[0:10]"
   ]
  },
  {
   "cell_type": "code",
   "execution_count": 20,
   "id": "abaa11c5",
   "metadata": {
    "pycharm": {
     "name": "#%%\n"
    }
   },
   "outputs": [
    {
     "data": {
      "text/html": [
       "\n",
       "        <table>\n",
       "            <tr>\n",
       "                <td><strong>Reaction identifier</strong></td><td>ENO</td>\n",
       "            </tr><tr>\n",
       "                <td><strong>Name</strong></td><td>Enolase</td>\n",
       "            </tr><tr>\n",
       "                <td><strong>Memory address</strong></td>\n",
       "                <td>0x0296082638b0</td>\n",
       "            </tr><tr>\n",
       "                <td><strong>Stoichiometry</strong></td>\n",
       "                <td>\n",
       "                    <p style='text-align:right'>2pg_c <=> h2o_c + pep_c</p>\n",
       "                    <p style='text-align:right'>D-Glycerate 2-phosphate <=> H2O H2O + Phosphoenolpyruvate</p>\n",
       "                </td>\n",
       "            </tr><tr>\n",
       "                <td><strong>GPR</strong></td><td>b2779</td>\n",
       "            </tr><tr>\n",
       "                <td><strong>Lower bound</strong></td><td>-1000.0</td>\n",
       "            </tr><tr>\n",
       "                <td><strong>Upper bound</strong></td><td>1000.0</td>\n",
       "            </tr>\n",
       "        </table>\n",
       "        "
      ],
      "text/plain": [
       "<Reaction ENO at 0x296082638b0>"
      ]
     },
     "execution_count": 20,
     "metadata": {},
     "output_type": "execute_result"
    }
   ],
   "source": [
    "# inspecting the 1093rd reaction of the model\n",
    "model.reactions[1092]"
   ]
  },
  {
   "cell_type": "code",
   "execution_count": 21,
   "id": "847b66c8",
   "metadata": {
    "pycharm": {
     "name": "#%%\n"
    }
   },
   "outputs": [
    {
     "data": {
      "text/html": [
       "\n",
       "        <table>\n",
       "            <tr>\n",
       "                <td><strong>Reaction identifier</strong></td><td>ENO</td>\n",
       "            </tr><tr>\n",
       "                <td><strong>Name</strong></td><td>Enolase</td>\n",
       "            </tr><tr>\n",
       "                <td><strong>Memory address</strong></td>\n",
       "                <td>0x0296082638b0</td>\n",
       "            </tr><tr>\n",
       "                <td><strong>Stoichiometry</strong></td>\n",
       "                <td>\n",
       "                    <p style='text-align:right'>2pg_c <=> h2o_c + pep_c</p>\n",
       "                    <p style='text-align:right'>D-Glycerate 2-phosphate <=> H2O H2O + Phosphoenolpyruvate</p>\n",
       "                </td>\n",
       "            </tr><tr>\n",
       "                <td><strong>GPR</strong></td><td>b2779</td>\n",
       "            </tr><tr>\n",
       "                <td><strong>Lower bound</strong></td><td>-1000.0</td>\n",
       "            </tr><tr>\n",
       "                <td><strong>Upper bound</strong></td><td>1000.0</td>\n",
       "            </tr>\n",
       "        </table>\n",
       "        "
      ],
      "text/plain": [
       "<Reaction ENO at 0x296082638b0>"
      ]
     },
     "execution_count": 21,
     "metadata": {},
     "output_type": "execute_result"
    }
   ],
   "source": [
    "# inspecting a reaction by its ID\n",
    "model.reactions.get_by_id(\"ENO\")"
   ]
  },
  {
   "cell_type": "code",
   "execution_count": 22,
   "id": "3843b4b5",
   "metadata": {
    "pycharm": {
     "name": "#%%\n"
    }
   },
   "outputs": [
    {
     "data": {
      "text/plain": [
       "[<Metabolite 10fthf_c at 0x296073be280>,\n",
       " <Metabolite 12dgr120_c at 0x296073be0d0>,\n",
       " <Metabolite 12dgr140_c at 0x296073be040>,\n",
       " <Metabolite 12dgr141_c at 0x296073be190>,\n",
       " <Metabolite 12dgr160_c at 0x296073be100>]"
      ]
     },
     "execution_count": 22,
     "metadata": {},
     "output_type": "execute_result"
    }
   ],
   "source": [
    "# retriving first five metabolites of the model\n",
    "model.metabolites[0:5]"
   ]
  },
  {
   "cell_type": "code",
   "execution_count": 23,
   "id": "d9e63344",
   "metadata": {
    "pycharm": {
     "name": "#%%\n"
    }
   },
   "outputs": [
    {
     "data": {
      "text/html": [
       "\n",
       "        <table>\n",
       "            <tr>\n",
       "                <td><strong>Metabolite identifier</strong></td><td>pep_c</td>\n",
       "            </tr><tr>\n",
       "                <td><strong>Name</strong></td><td>Phosphoenolpyruvate</td>\n",
       "            </tr><tr>\n",
       "                <td><strong>Memory address</strong></td>\n",
       "                <td>0x029607203340</td>\n",
       "            </tr><tr>\n",
       "                <td><strong>Formula</strong></td><td>C3H2O6P</td>\n",
       "            </tr><tr>\n",
       "                <td><strong>Compartment</strong></td><td>c</td>\n",
       "            </tr><tr>\n",
       "                <td><strong>In 28 reaction(s)</strong></td><td>\n",
       "                    KDOPS, ENO, MALTptspp, PPC, FRUpts2pp, SUCptspp, GALTptspp, GLCptspp, PYK, PPS, MNLptspp, DHAPT, PPCK, ASCBptspp, ACMANAptspp, FRUptspp, CHTBSptspp, ARBTptspp, UAGCVT, PSCVT, ACMUMptspp, DDPA,...</td>\n",
       "            </tr>\n",
       "        </table>"
      ],
      "text/plain": [
       "<Metabolite pep_c at 0x29607203340>"
      ]
     },
     "execution_count": 23,
     "metadata": {},
     "output_type": "execute_result"
    }
   ],
   "source": [
    "# inspecting the 702nd metabolite of the model\n",
    "model.metabolites[701]"
   ]
  },
  {
   "cell_type": "code",
   "execution_count": 24,
   "id": "6273e090",
   "metadata": {
    "pycharm": {
     "name": "#%%\n"
    }
   },
   "outputs": [
    {
     "data": {
      "text/html": [
       "\n",
       "        <table>\n",
       "            <tr>\n",
       "                <td><strong>Metabolite identifier</strong></td><td>pep_c</td>\n",
       "            </tr><tr>\n",
       "                <td><strong>Name</strong></td><td>Phosphoenolpyruvate</td>\n",
       "            </tr><tr>\n",
       "                <td><strong>Memory address</strong></td>\n",
       "                <td>0x029607203340</td>\n",
       "            </tr><tr>\n",
       "                <td><strong>Formula</strong></td><td>C3H2O6P</td>\n",
       "            </tr><tr>\n",
       "                <td><strong>Compartment</strong></td><td>c</td>\n",
       "            </tr><tr>\n",
       "                <td><strong>In 28 reaction(s)</strong></td><td>\n",
       "                    KDOPS, ENO, MALTptspp, PPC, FRUpts2pp, SUCptspp, GALTptspp, GLCptspp, PYK, PPS, MNLptspp, DHAPT, PPCK, ASCBptspp, ACMANAptspp, FRUptspp, CHTBSptspp, ARBTptspp, UAGCVT, PSCVT, ACMUMptspp, DDPA,...</td>\n",
       "            </tr>\n",
       "        </table>"
      ],
      "text/plain": [
       "<Metabolite pep_c at 0x29607203340>"
      ]
     },
     "execution_count": 24,
     "metadata": {},
     "output_type": "execute_result"
    }
   ],
   "source": [
    "# inspecting a metabolite by its ID\n",
    "model.metabolites.get_by_id(\"pep_c\")"
   ]
  },
  {
   "cell_type": "code",
   "execution_count": 25,
   "id": "446e6b33",
   "metadata": {
    "pycharm": {
     "name": "#%%\n"
    }
   },
   "outputs": [
    {
     "data": {
      "text/plain": [
       "[<Gene b2914 at 0x29606bc3250>,\n",
       " <Gene b0638 at 0x29606bc3550>,\n",
       " <Gene b1679 at 0x29606bc35b0>,\n",
       " <Gene b1682 at 0x29606bc3670>,\n",
       " <Gene b1681 at 0x29606bc36d0>,\n",
       " <Gene b1680 at 0x29606bc3880>,\n",
       " <Gene b1683 at 0x29606bc3910>,\n",
       " <Gene b1684 at 0x29606bc39a0>,\n",
       " <Gene b0222 at 0x29606bc3a00>,\n",
       " <Gene b1745 at 0x29606bc3ac0>]"
      ]
     },
     "execution_count": 25,
     "metadata": {},
     "output_type": "execute_result"
    }
   ],
   "source": [
    "# retriving the last ten genes of the model\n",
    "model.genes[-10:]"
   ]
  },
  {
   "cell_type": "code",
   "execution_count": 26,
   "id": "03ff7872",
   "metadata": {
    "pycharm": {
     "name": "#%%\n"
    }
   },
   "outputs": [
    {
     "data": {
      "text/html": [
       "\n",
       "        <table>\n",
       "            <tr>\n",
       "                <td><strong>Gene identifier</strong></td><td>b2779</td>\n",
       "            </tr><tr>\n",
       "                <td><strong>Name</strong></td><td>eno</td>\n",
       "            </tr><tr>\n",
       "                <td><strong>Memory address</strong></td>\n",
       "                <td>0x029606ca5040</td>\n",
       "            </tr><tr>\n",
       "                <td><strong>Functional</strong></td><td>True</td>\n",
       "            </tr><tr>\n",
       "                <td><strong>In 1 reaction(s)</strong></td><td>\n",
       "                    ENO</td>\n",
       "            </tr>\n",
       "        </table>"
      ],
      "text/plain": [
       "<Gene b2779 at 0x29606ca5040>"
      ]
     },
     "execution_count": 26,
     "metadata": {},
     "output_type": "execute_result"
    }
   ],
   "source": [
    "# inspecting the 495th gene of the model\n",
    "model.genes[494]"
   ]
  },
  {
   "cell_type": "code",
   "execution_count": 27,
   "id": "66d7993b",
   "metadata": {
    "pycharm": {
     "name": "#%%\n"
    }
   },
   "outputs": [
    {
     "data": {
      "text/html": [
       "\n",
       "        <table>\n",
       "            <tr>\n",
       "                <td><strong>Gene identifier</strong></td><td>b2779</td>\n",
       "            </tr><tr>\n",
       "                <td><strong>Name</strong></td><td>eno</td>\n",
       "            </tr><tr>\n",
       "                <td><strong>Memory address</strong></td>\n",
       "                <td>0x029606ca5040</td>\n",
       "            </tr><tr>\n",
       "                <td><strong>Functional</strong></td><td>True</td>\n",
       "            </tr><tr>\n",
       "                <td><strong>In 1 reaction(s)</strong></td><td>\n",
       "                    ENO</td>\n",
       "            </tr>\n",
       "        </table>"
      ],
      "text/plain": [
       "<Gene b2779 at 0x29606ca5040>"
      ]
     },
     "execution_count": 27,
     "metadata": {},
     "output_type": "execute_result"
    }
   ],
   "source": [
    "# inspecting a gene by its ID\n",
    "model.genes.get_by_id('b2779')"
   ]
  },
  {
   "cell_type": "code",
   "execution_count": 28,
   "id": "0cc9325d",
   "metadata": {
    "pycharm": {
     "name": "#%%\n"
    }
   },
   "outputs": [
    {
     "name": "stdout",
     "output_type": "stream",
     "text": [
      "Chloramphenicol exchange -> (0.0, 1000.0)\n",
      "CMP exchange -> (0.0, 1000.0)\n",
      "CO2 exchange -> (-1000.0, 1000.0)\n",
      "Co2+ exchange -> (-1000.0, 1000.0)\n",
      "Core oligosaccharide lipid A exchange -> (0.0, 1000.0)\n",
      "D-Glucose exchange -> (-10.0, 1000.0)\n",
      "D-Gluconate exchange -> (0.0, 1000.0)\n",
      "D-Glucarate exchange -> (0.0, 1000.0)\n",
      "Core oligosaccharide lipid A diphosphate exchange -> (0.0, 1000.0)\n",
      "D-Glucuronate exchange -> (0.0, 1000.0)\n",
      "D-Glucuronate 1-phosphate exchange -> (0.0, 1000.0)\n",
      "(R)-Propane-1,2-diol exchange -> (0.0, 1000.0)\n",
      "L-Glutamine exchange -> (0.0, 1000.0)\n",
      "Coprogen exchange -> (0.0, 1000.0)\n",
      "L-Glutamate exchange -> (0.0, 1000.0)\n",
      "Glycine exchange -> (0.0, 1000.0)\n",
      "D-Glyceraldehyde exchange -> (0.0, 1000.0)\n",
      "Glycine betaine exchange -> (0.0, 1000.0)\n",
      "Glycerol exchange -> (0.0, 1000.0)\n",
      "(S)-Propane-1,2-diol exchange -> (0.0, 1000.0)\n",
      "1,4-alpha-D-glucan exchange -> (0.0, 1000.0)\n",
      "Coprogen unloaded (no Fe(III)) exchange -> (0.0, 1000.0)\n",
      "1,5-Diaminopentane exchange -> (0.0, 1000.0)\n",
      "(R)-Glycerate exchange -> (0.0, 1000.0)\n",
      "Glycerol 2-phosphate exchange -> (0.0, 1000.0)\n",
      "2',3'-Cyclic AMP exchange -> (0.0, 1000.0)\n",
      "2',3'-Cyclic CMP exchange -> (0.0, 1000.0)\n",
      "2',3'-Cyclic GMP exchange -> (0.0, 1000.0)\n",
      "2',3'-Cyclic UMP exchange -> (0.0, 1000.0)\n",
      "2,3-diaminopropionate exchange -> (0.0, 1000.0)\n",
      "Meso-2,6-Diaminoheptanedioate exchange -> (0.0, 1000.0)\n",
      "Glycerol 3-phosphate exchange -> (0.0, 1000.0)\n",
      "Glycolate exchange -> (0.0, 1000.0)\n",
      "GMP exchange -> (0.0, 1000.0)\n",
      "Guanosine exchange -> (0.0, 1000.0)\n",
      "Oxidized glutathione exchange -> (0.0, 1000.0)\n",
      "Reduced glutathione exchange -> (0.0, 1000.0)\n",
      "GTP exchange -> (0.0, 1000.0)\n",
      "Guanine exchange -> (0.0, 1000.0)\n",
      "H+ exchange -> (-1000.0, 1000.0)\n",
      "H2 exchange -> (0.0, 1000.0)\n",
      "H2O exchange -> (-1000.0, 1000.0)\n",
      "Hydrogen peroxide exchange -> (0.0, 1000.0)\n",
      "Hydrogen sulfide exchange -> (0.0, 1000.0)\n",
      "Hepta-acylated core oligosaccharide lipid A (E. coli) exchange -> (0.0, 1000.0)\n",
      "Hepta-acylated KDO(2)-lipid (A) exchange -> (0.0, 1000.0)\n",
      "Hexadecanoate (n-C16:0) exchange -> (0.0, 1000.0)\n",
      "Hexadecenoate (n-C16:1) exchange -> (0.0, 1000.0)\n",
      "Hg2+ exchange -> (0.0, 1000.0)\n",
      "L-Histidine exchange -> (0.0, 1000.0)\n",
      "2-Dehydro-3-deoxy-D-gluconate exchange -> (0.0, 1000.0)\n",
      "3,4-Dihydroxyphenylacetaldehyde exchange -> (0.0, 1000.0)\n",
      "3'-AMP exchange -> (0.0, 1000.0)\n",
      "3'-cmp exchange -> (0.0, 1000.0)\n",
      "3'-GMP exchange -> (0.0, 1000.0)\n",
      "3-hydroxycinnamic acid exchange -> (0.0, 1000.0)\n",
      "3-Hydroxypropanoate exchange -> (0.0, 1000.0)\n",
      "3-(3-hydroxy-phenyl)propionate exchange -> (0.0, 1000.0)\n",
      "L-Homoserine exchange -> (0.0, 1000.0)\n",
      "Hexanoate (n-C6:0) exchange -> (0.0, 1000.0)\n",
      "Hypoxanthine exchange -> (0.0, 1000.0)\n",
      "L-Idonate exchange -> (0.0, 1000.0)\n",
      "3'-UMP exchange -> (0.0, 1000.0)\n",
      "4-Aminobutanoate exchange -> (0.0, 1000.0)\n",
      "4-Hydroxyphenylacetaldehyde exchange -> (0.0, 1000.0)\n",
      "5-Dehydro-D-gluconate exchange -> (0.0, 1000.0)\n",
      "5-Methylthio-D-ribose exchange -> (0.0, 1000.0)\n",
      "L-alanine-D-glutamate exchange -> (0.0, 1000.0)\n",
      "L-Isoleucine exchange -> (0.0, 1000.0)\n",
      "IMP exchange -> (0.0, 1000.0)\n",
      "Indole exchange -> (0.0, 1000.0)\n",
      "Myo-Inositol exchange -> (0.0, 1000.0)\n",
      "Inosine exchange -> (0.0, 1000.0)\n",
      "Isethionic acid exchange -> (0.0, 1000.0)\n",
      "K+ exchange -> (-1000.0, 1000.0)\n",
      "L-alanine-D-glutamate-meso-2,6-diaminoheptanedioate exchange -> (0.0, 1000.0)\n",
      "L-alanine-D-glutamate-meso-2,6-diaminoheptanedioate-D-alanine exchange -> (0.0, 1000.0)\n",
      "L-alanine-L-glutamate exchange -> (0.0, 1000.0)\n",
      "KDO(2)-lipid IV(A) exchange -> (0.0, 1000.0)\n",
      "Acetate exchange -> (0.0, 1000.0)\n",
      "L-Carnitine exchange -> (0.0, 1000.0)\n",
      "Acetoacetate exchange -> (0.0, 1000.0)\n",
      "Acetaldehyde exchange -> (0.0, 1000.0)\n",
      "D-lactate exchange -> (0.0, 1000.0)\n",
      "L-Lactate exchange -> (0.0, 1000.0)\n",
      "D-carnitine exchange -> (0.0, 1000.0)\n",
      "Lactose exchange -> (0.0, 1000.0)\n",
      "N-Acetyl-D-galactosamine exchange -> (0.0, 1000.0)\n",
      "N-Acetyl-D-galactosamine 1-phosphate exchange -> (0.0, 1000.0)\n",
      "N-Acetyl-D-glucosamine exchange -> (0.0, 1000.0)\n",
      "L-Leucine exchange -> (0.0, 1000.0)\n",
      "Cytosine exchange -> (0.0, 1000.0)\n",
      "N-Acetyl-D-glucosamine 1-phosphate exchange -> (0.0, 1000.0)\n",
      "N-Acetyl-D-mannosamine exchange -> (0.0, 1000.0)\n",
      "N-Acetylmuramate exchange -> (0.0, 1000.0)\n",
      "KDO(2)-lipid (A) exchange -> (0.0, 1000.0)\n",
      "Cu+ exchange -> (0.0, 1000.0)\n",
      "Cold adapted KDO(2)-lipid (A) exchange -> (0.0, 1000.0)\n",
      "N-Acetylneuraminate exchange -> (0.0, 1000.0)\n",
      "4-Amino-4-deoxy-L-arabinose modified core oligosaccharide lipid A exchange -> (0.0, 1000.0)\n",
      "Cu2+ exchange -> (-1000.0, 1000.0)\n",
      "O-Acetyl-L-serine exchange -> (0.0, 1000.0)\n",
      "Adenine exchange -> (0.0, 1000.0)\n",
      "Adenosine exchange -> (0.0, 1000.0)\n",
      "Adenosylcobalamin exchange -> (0.0, 1000.0)\n",
      "Silver exchange -> (0.0, 1000.0)\n",
      "Lipoate exchange -> (0.0, 1000.0)\n",
      "L-Lysine exchange -> (0.0, 1000.0)\n",
      "L-Lyxose exchange -> (0.0, 1000.0)\n",
      "D-Malate exchange -> (0.0, 1000.0)\n",
      "Agmatine exchange -> (0.0, 1000.0)\n",
      "2-Oxoglutarate exchange -> (0.0, 1000.0)\n",
      "Hydrogen cyanide exchange -> (0.0, 1000.0)\n",
      "Beta-Alanine exchange -> (0.0, 1000.0)\n",
      "D-Alanine exchange -> (0.0, 1000.0)\n",
      "L-Alanine exchange -> (0.0, 1000.0)\n",
      "D-Alanyl-D-alanine exchange -> (0.0, 1000.0)\n",
      "D-Allose exchange -> (0.0, 1000.0)\n",
      "Allantoin exchange -> (0.0, 1000.0)\n",
      "AMP exchange -> (0.0, 1000.0)\n",
      "N-Acetyl-D-glucosamine(anhydrous)N-Acetylmuramic acid exchange -> (0.0, 1000.0)\n",
      "L-Arabinose exchange -> (0.0, 1000.0)\n",
      "L-Malate exchange -> (0.0, 1000.0)\n",
      "Maltose exchange -> (0.0, 1000.0)\n",
      "Maltohexaose exchange -> (0.0, 1000.0)\n",
      "Maltopentaose exchange -> (0.0, 1000.0)\n",
      "Maltotriose exchange -> (0.0, 1000.0)\n",
      "Maltotetraose exchange -> (0.0, 1000.0)\n",
      "D-Mannose exchange -> (0.0, 1000.0)\n",
      "Cyanate exchange -> (0.0, 1000.0)\n",
      "D-Mannose 6-phosphate exchange -> (0.0, 1000.0)\n",
      "2(alpha-D-Mannosyl)-D-glycerate exchange -> (0.0, 1000.0)\n",
      "Melibiose exchange -> (0.0, 1000.0)\n",
      "D-Cysteine exchange -> (0.0, 1000.0)\n",
      "Methanol exchange -> (0.0, 1000.0)\n",
      "D-Methionine exchange -> (0.0, 1000.0)\n",
      "Arbutin exchange -> (0.0, 1000.0)\n",
      "Aerobactin minus Fe3 exchange -> (0.0, 1000.0)\n",
      "Aerobactin exchange -> (0.0, 1000.0)\n",
      "L-Methionine exchange -> (0.0, 1000.0)\n",
      "L-Cysteine exchange -> (0.0, 1000.0)\n",
      "L-methionine-R-sulfoxide exchange -> (0.0, 1000.0)\n",
      "L-Methionine S-oxide exchange -> (0.0, 1000.0)\n",
      "Mg exchange -> (-1000.0, 1000.0)\n",
      "Minocycline exchange -> (0.0, 1000.0)\n",
      "Myo-Inositol hexakisphosphate exchange -> (0.0, 1000.0)\n",
      "S-Methyl-L-methionine exchange -> (0.0, 1000.0)\n",
      "L-Arginine exchange -> (0.0, 1000.0)\n",
      "L-Ascorbate exchange -> (0.0, 1000.0)\n",
      "L-Asparagine exchange -> (0.0, 1000.0)\n",
      "Arsenite exchange -> (0.0, 1000.0)\n",
      "L-Aspartate exchange -> (0.0, 1000.0)\n",
      "Biotin exchange -> (0.0, 1000.0)\n",
      "Butyrate (n-C4:0) exchange -> (0.0, 1000.0)\n",
      "Mn2+ exchange -> (-1000.0, 1000.0)\n",
      "D-Mannitol exchange -> (0.0, 1000.0)\n",
      "Molybdate exchange -> (-1000.0, 1000.0)\n",
      "Methanesulfonate exchange -> (0.0, 1000.0)\n",
      "Nitrous oxide exchange -> (0.0, 1000.0)\n",
      "Sodium exchange -> (-1000.0, 1000.0)\n",
      "Nicotinate exchange -> (0.0, 1000.0)\n",
      "Ammonia exchange -> (-1000.0, 1000.0)\n",
      "Butanesulfonate exchange -> (0.0, 1000.0)\n",
      "Calcium exchange -> (-1000.0, 1000.0)\n",
      "Cobinamide exchange -> (0.0, 1000.0)\n",
      "Cytidine exchange -> (0.0, 1000.0)\n",
      "Cob(I)alamin exchange -> (-0.01, 1000.0)\n",
      "Cadmium exchange -> (0.0, 1000.0)\n",
      "Cys-Gly exchange -> (0.0, 1000.0)\n",
      "Ni2+ exchange -> (-1000.0, 1000.0)\n",
      "NMN exchange -> (0.0, 1000.0)\n",
      "Nitric oxide exchange -> (0.0, 1000.0)\n",
      "Nitrite exchange -> (0.0, 1000.0)\n",
      "Nitrate exchange -> (0.0, 1000.0)\n",
      "Novobiocin exchange -> (0.0, 1000.0)\n",
      "(O16 antigen)x4 core oligosaccharide lipid A exchange -> (0.0, 1000.0)\n",
      "O2 exchange -> (-1000.0, 1000.0)\n",
      "Superoxide anion exchange -> (0.0, 1000.0)\n",
      "Octadecanoate (n-C18:0) exchange -> (0.0, 1000.0)\n",
      "Octadecenoate (n-C18:1) exchange -> (0.0, 1000.0)\n",
      "Octanoate (n-C8:0) exchange -> (0.0, 1000.0)\n",
      "Ornithine exchange -> (0.0, 1000.0)\n",
      "Orotate exchange -> (0.0, 1000.0)\n",
      "Phenylacetaldehyde exchange -> (0.0, 1000.0)\n",
      "Phenethylamine exchange -> (0.0, 1000.0)\n",
      "L-Phenylalanine exchange -> (0.0, 1000.0)\n",
      "Protoheme exchange -> (0.0, 1000.0)\n",
      "Choline exchange -> (0.0, 1000.0)\n",
      "Chitobiose exchange -> (0.0, 1000.0)\n",
      "Citrate exchange -> (0.0, 1000.0)\n",
      "Chloride exchange -> (-1000.0, 1000.0)\n",
      "Phosphate exchange -> (-1000.0, 1000.0)\n",
      "Deoxyadenosine exchange -> (0.0, 1000.0)\n",
      "(R)-Pantothenate exchange -> (0.0, 1000.0)\n",
      "Propionate exchange -> (0.0, 1000.0)\n",
      "DAMP exchange -> (0.0, 1000.0)\n",
      "Propanal exchange -> (0.0, 1000.0)\n",
      "Decanoate (n-C10:0) exchange -> (0.0, 1000.0)\n",
      "Phenylpropanoate exchange -> (0.0, 1000.0)\n",
      "Phosphonate exchange -> (0.0, 1000.0)\n",
      "DCMP exchange -> (0.0, 1000.0)\n",
      "L-Proline exchange -> (0.0, 1000.0)\n",
      "Deoxycytidine exchange -> (0.0, 1000.0)\n",
      "L-Prolinylglycine exchange -> (0.0, 1000.0)\n",
      "Psicoselysine exchange -> (0.0, 1000.0)\n",
      "Dodecanoate (n-C12:0) exchange -> (0.0, 1000.0)\n",
      "O-Phospho-L-serine exchange -> (0.0, 1000.0)\n",
      "Putrescine exchange -> (0.0, 1000.0)\n",
      "DGMP exchange -> (0.0, 1000.0)\n",
      "Deoxyguanosine exchange -> (0.0, 1000.0)\n",
      "L-Valine exchange -> (0.0, 1000.0)\n",
      "Xanthine exchange -> (0.0, 1000.0)\n",
      "Dihydroxyacetone exchange -> (0.0, 1000.0)\n",
      "Xanthosine 5'-phosphate exchange -> (0.0, 1000.0)\n",
      "DIMP exchange -> (0.0, 1000.0)\n",
      "Deoxyinosine exchange -> (0.0, 1000.0)\n",
      "Xanthosine exchange -> (0.0, 1000.0)\n",
      "Pyridoxamine exchange -> (0.0, 1000.0)\n",
      "D-Xylose exchange -> (0.0, 1000.0)\n",
      "L-Xylulose exchange -> (0.0, 1000.0)\n",
      "Zinc exchange -> (-1000.0, 1000.0)\n",
      "Pyridoxal exchange -> (0.0, 1000.0)\n",
      "Pyridoxine exchange -> (0.0, 1000.0)\n",
      "Pyruvate exchange -> (0.0, 1000.0)\n",
      "Quinate exchange -> (0.0, 1000.0)\n",
      "Alpha-D-Ribose 5-phosphate exchange -> (0.0, 1000.0)\n",
      "Rifampin exchange -> (0.0, 1000.0)\n",
      "D-Ribose exchange -> (0.0, 1000.0)\n",
      "L-Rhamnose exchange -> (0.0, 1000.0)\n",
      "D-Sorbitol exchange -> (0.0, 1000.0)\n",
      "Selenate exchange -> (-1000.0, 1000.0)\n",
      "D-Serine exchange -> (0.0, 1000.0)\n",
      "L-Serine exchange -> (0.0, 1000.0)\n",
      "Shikimate exchange -> (0.0, 1000.0)\n",
      "Dimethyl sulfide exchange -> (0.0, 1000.0)\n",
      "Selenite exchange -> (-1000.0, 1000.0)\n",
      "Sulfur dioxide exchange -> (0.0, 1000.0)\n",
      "Sulfite exchange -> (0.0, 1000.0)\n",
      "Dimethyl sulfoxide exchange -> (0.0, 1000.0)\n",
      "Sulfate exchange -> (-1000.0, 1000.0)\n",
      "Spermidine exchange -> (0.0, 1000.0)\n",
      "Succinate exchange -> (0.0, 1000.0)\n",
      "Sucrose exchange -> (0.0, 1000.0)\n",
      "Sulfoacetate exchange -> (0.0, 1000.0)\n",
      "D-tartrate exchange -> (0.0, 1000.0)\n",
      "Dopamine exchange -> (0.0, 1000.0)\n",
      "L-tartrate exchange -> (0.0, 1000.0)\n",
      "Taurine exchange -> (0.0, 1000.0)\n",
      "Thiocyanate exchange -> (0.0, 1000.0)\n",
      "Doxorubicin exchange -> (0.0, 1000.0)\n",
      "Thiamin exchange -> (0.0, 1000.0)\n",
      "L-Threonine exchange -> (0.0, 1000.0)\n",
      "DTMP exchange -> (0.0, 1000.0)\n",
      "L-Threonine O-3-phosphate exchange -> (0.0, 1000.0)\n",
      "Thymine exchange -> (0.0, 1000.0)\n",
      "DUMP exchange -> (0.0, 1000.0)\n",
      "Thymidine exchange -> (0.0, 1000.0)\n",
      "Trimethylamine exchange -> (0.0, 1000.0)\n",
      "Deoxyuridine exchange -> (0.0, 1000.0)\n",
      "Trimethylamine N-oxide exchange -> (0.0, 1000.0)\n",
      "Trehalose exchange -> (0.0, 1000.0)\n",
      "L-Tryptophan exchange -> (0.0, 1000.0)\n",
      "Thiosulfate exchange -> (0.0, 1000.0)\n",
      "(enterobacterial common antigen)x4 core oligosaccharide lipid A exchange -> (0.0, 1000.0)\n",
      "Tetradecanoate (n-C14:0) exchange -> (0.0, 1000.0)\n",
      "Tetradecenoate (n-C14:1) exchange -> (0.0, 1000.0)\n",
      "Phosphoethanolamine KDO(2)-lipid (A) exchange -> (0.0, 1000.0)\n",
      "Tetracycline exchange -> (0.0, 1000.0)\n",
      "Enterochelin exchange -> (0.0, 1000.0)\n",
      "Ethanolamine exchange -> (0.0, 1000.0)\n",
      "Tungstate exchange -> (-1000.0, 1000.0)\n",
      "Tyramine exchange -> (0.0, 1000.0)\n",
      "Ethanesulfonate exchange -> (0.0, 1000.0)\n",
      "L-Tyrosine exchange -> (0.0, 1000.0)\n",
      "Phosphotyrosine exchange -> (0.0, 1000.0)\n",
      "UDP-N-acetyl-D-glucosamine exchange -> (0.0, 1000.0)\n",
      "UDP-N-acetyl-D-galactosamine exchange -> (0.0, 1000.0)\n",
      "UDPglucose exchange -> (0.0, 1000.0)\n",
      "UDPgalactose exchange -> (0.0, 1000.0)\n",
      "Ethanol exchange -> (0.0, 1000.0)\n",
      "UDP-D-glucuronate exchange -> (0.0, 1000.0)\n",
      "UMP exchange -> (0.0, 1000.0)\n",
      "D-fructose 6-phosphate exchange -> (0.0, 1000.0)\n",
      "Uracil exchange -> (0.0, 1000.0)\n",
      "Urea exchange -> (0.0, 1000.0)\n",
      "Formaldehyde exchange -> (0.0, 1000.0)\n",
      "Uridine exchange -> (0.0, 1000.0)\n",
      "Fe2+ exchange -> (-1000.0, 1000.0)\n",
      "Fe3+ exchange -> (-1000.0, 1000.0)\n",
      "Fe(III)dicitrate exchange -> (0.0, 1000.0)\n",
      "Ferric 2,3-dihydroxybenzoylserine exchange -> (0.0, 1000.0)\n",
      "Fe(III)hydroxamate exchange -> (0.0, 1000.0)\n",
      "Fe(III)hydoxamate, unloaded exchange -> (0.0, 1000.0)\n",
      "Ferrichrome exchange -> (0.0, 1000.0)\n",
      "Ferrichrome minus Fe(III) exchange -> (0.0, 1000.0)\n",
      "Fe-enterobactin exchange -> (0.0, 1000.0)\n",
      "Ferroxamine exchange -> (0.0, 1000.0)\n",
      "Ferroxamine minus Fe(3) exchange -> (0.0, 1000.0)\n",
      "Formate exchange -> (0.0, 1000.0)\n",
      "D-Fructose exchange -> (0.0, 1000.0)\n",
      "Fructoselysine exchange -> (0.0, 1000.0)\n",
      "D-Fructuronate exchange -> (0.0, 1000.0)\n",
      "L-Fucose exchange -> (0.0, 1000.0)\n",
      "Fumarate exchange -> (0.0, 1000.0)\n",
      "Fusidic acid exchange -> (0.0, 1000.0)\n",
      "D-Glucose 1-phosphate exchange -> (0.0, 1000.0)\n",
      "Sn-Glycero-3-phosphocholine exchange -> (0.0, 1000.0)\n",
      "Sn-Glycero-3-phosphoethanolamine exchange -> (0.0, 1000.0)\n",
      "Glycerophosphoglycerol exchange -> (0.0, 1000.0)\n",
      "Sn-Glycero-3-phospho-1-inositol exchange -> (0.0, 1000.0)\n",
      "Glycerophosphoserine exchange -> (0.0, 1000.0)\n",
      "D-Glucose 6-phosphate exchange -> (0.0, 1000.0)\n",
      "D-Galactose exchange -> (0.0, 1000.0)\n",
      "Beta D-Galactose exchange -> (0.0, 1000.0)\n",
      "Alpha-D-Galactose 1-phosphate exchange -> (0.0, 1000.0)\n",
      "D-Galactarate exchange -> (0.0, 1000.0)\n",
      "D-Galactonate exchange -> (0.0, 1000.0)\n",
      "L-Galactonate exchange -> (0.0, 1000.0)\n",
      "Galactitol exchange -> (0.0, 1000.0)\n",
      "D-Galacturonate exchange -> (0.0, 1000.0)\n",
      "D-Glucosamine exchange -> (0.0, 1000.0)\n",
      "D-Glucosamine 6-phosphate exchange -> (0.0, 1000.0)\n",
      "Gamma-butyrobetaine exchange -> (0.0, 1000.0)\n",
      "GDP exchange -> (0.0, 1000.0)\n"
     ]
    }
   ],
   "source": [
    "# inspecting the exchange reactions.\n",
    "for exchange in model.exchanges:\n",
    "    print(exchange.name, '->', exchange.bounds)"
   ]
  },
  {
   "cell_type": "code",
   "execution_count": 29,
   "id": "d67f2806",
   "metadata": {
    "pycharm": {
     "name": "#%%\n"
    }
   },
   "outputs": [
    {
     "data": {
      "text/html": [
       "\n",
       "        <table>\n",
       "            <tr>\n",
       "                <td><strong>Reaction identifier</strong></td><td>EX_o2_e</td>\n",
       "            </tr><tr>\n",
       "                <td><strong>Name</strong></td><td>O2 exchange</td>\n",
       "            </tr><tr>\n",
       "                <td><strong>Memory address</strong></td>\n",
       "                <td>0x0296036fa310</td>\n",
       "            </tr><tr>\n",
       "                <td><strong>Stoichiometry</strong></td>\n",
       "                <td>\n",
       "                    <p style='text-align:right'>o2_e <=></p>\n",
       "                    <p style='text-align:right'>O2 O2 <=></p>\n",
       "                </td>\n",
       "            </tr><tr>\n",
       "                <td><strong>GPR</strong></td><td></td>\n",
       "            </tr><tr>\n",
       "                <td><strong>Lower bound</strong></td><td>-1000.0</td>\n",
       "            </tr><tr>\n",
       "                <td><strong>Upper bound</strong></td><td>1000.0</td>\n",
       "            </tr>\n",
       "        </table>\n",
       "        "
      ],
      "text/plain": [
       "<Reaction EX_o2_e at 0x296036fa310>"
      ]
     },
     "execution_count": 29,
     "metadata": {},
     "output_type": "execute_result"
    }
   ],
   "source": [
    "model.exchanges.get_by_id('EX_o2_e')"
   ]
  },
  {
   "cell_type": "markdown",
   "id": "6076a785",
   "metadata": {
    "pycharm": {
     "name": "#%% md\n"
    }
   },
   "source": [
    "### Phenotype Prediction"
   ]
  },
  {
   "cell_type": "code",
   "execution_count": null,
   "outputs": [],
   "source": [
    "model.objective.expression"
   ],
   "metadata": {
    "collapsed": false,
    "pycharm": {
     "name": "#%%\n"
    }
   }
  },
  {
   "cell_type": "markdown",
   "source": [
    "#### Flux Balance Analysis (FBA)"
   ],
   "metadata": {
    "collapsed": false,
    "pycharm": {
     "name": "#%% md\n"
    }
   }
  },
  {
   "cell_type": "code",
   "execution_count": null,
   "outputs": [],
   "source": [
    "#performing a FBA simulation\n",
    "fba_solution = model.optimize()\n",
    "fba_solution"
   ],
   "metadata": {
    "collapsed": false,
    "pycharm": {
     "name": "#%%\n"
    }
   }
  },
  {
   "cell_type": "code",
   "execution_count": null,
   "id": "eb25f808",
   "metadata": {
    "pycharm": {
     "name": "#%%\n"
    }
   },
   "outputs": [],
   "source": [
    "fba_solution['ENO']"
   ]
  },
  {
   "cell_type": "code",
   "execution_count": null,
   "id": "e8eaad99",
   "metadata": {
    "pycharm": {
     "name": "#%%\n"
    }
   },
   "outputs": [],
   "source": [
    "model.summary()"
   ]
  },
  {
   "cell_type": "code",
   "execution_count": null,
   "outputs": [],
   "source": [
    "model.summary()"
   ],
   "metadata": {
    "collapsed": false,
    "pycharm": {
     "name": "#%%\n"
    }
   }
  },
  {
   "cell_type": "markdown",
   "source": [
    "### Pathway Visualization"
   ],
   "metadata": {
    "collapsed": false,
    "pycharm": {
     "name": "#%% md\n"
    }
   }
  },
  {
   "cell_type": "code",
   "execution_count": null,
   "outputs": [],
   "source": [
    "# first import escher\n",
    "import escher"
   ],
   "metadata": {
    "collapsed": false,
    "pycharm": {
     "name": "#%%\n"
    }
   }
  },
  {
   "cell_type": "code",
   "execution_count": null,
   "outputs": [],
   "source": [
    "# create the builder object wich contains the metabolic map\n",
    "builder = escher.Builder(map_name='iJO1366.Central metabolism', model=model, reaction_data=fba_solution.fluxes)\n",
    "builder"
   ],
   "metadata": {
    "collapsed": false,
    "pycharm": {
     "name": "#%%\n"
    }
   }
  },
  {
   "cell_type": "code",
   "execution_count": null,
   "outputs": [],
   "source": [],
   "metadata": {
    "collapsed": false,
    "pycharm": {
     "name": "#%%\n"
    }
   }
  }
 ],
 "metadata": {
  "kernelspec": {
   "display_name": "Python 3 (ipykernel)",
   "language": "python",
   "name": "python3"
  },
  "language_info": {
   "codemirror_mode": {
    "name": "ipython",
    "version": 3
   },
   "file_extension": ".py",
   "mimetype": "text/x-python",
   "name": "python",
   "nbconvert_exporter": "python",
   "pygments_lexer": "ipython3",
   "version": "3.8.0"
  }
 },
 "nbformat": 4,
 "nbformat_minor": 5
}