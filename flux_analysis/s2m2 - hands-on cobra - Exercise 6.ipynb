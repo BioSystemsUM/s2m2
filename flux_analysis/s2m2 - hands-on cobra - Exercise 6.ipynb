{
 "cells": [
  {
   "cell_type": "markdown",
   "id": "sticky-reception",
   "metadata": {
    "pycharm": {
     "name": "#%% md\n"
    }
   },
   "source": [
    "# COBRApy\n",
    "\n",
    "COBRApy is a package for constraint-based modeling of biological networks written in Python.\n",
    "\n",
    "This tool allows loading and inspecting Genome-Scale Metabolic (GEM) models written in the Sytems Biology Markup Language (SBML) format.\n",
    "\n",
    "Using COBRApy, one can analyse the following model contents:\n",
    "1. Reactions\n",
    "2. Metabolites\n",
    "3. Genes\n",
    "4. Exchange reactions (Environmental Conditions)\n",
    "\n",
    "COBRApy allows manipulating the contents of a GEM model. For instance, one can edit reactions' flux bounds, knock out a metabolic gene, or change the environmental conditions.\n",
    "\n",
    "Phenotype prediction can be simulated with several flux analysis methods implemented in COBRApy. These include Flux Balance Anlysis (FBA), Parsimonious FBA, or Flux Variability Analysis (FVA).\n",
    "\n",
    "The simulation of gene and reaction deletions for a given GEM model is a simple and straightforward process. One can simulate single or double knock outs using one of the flux analysis methods mentioned above."
   ]
  },
  {
   "cell_type": "markdown",
   "id": "signed-encounter",
   "metadata": {
    "pycharm": {
     "name": "#%% md\n"
    }
   },
   "source": [
    "## Instalation\n",
    "\n",
    "\n",
    "### Requirements\n",
    "The following requirements need to be installed to use COBRApy:\n",
    "- Python 3.6 or higher\n",
    "- pip must be installed\n",
    "- GLPK solver is used by default but CPLEX is prefered\n",
    "\n",
    "\n",
    "### How to install COBRApy?\n",
    "```\n",
    "pip install cobra\n",
    "```"
   ]
  },
  {
   "cell_type": "markdown",
   "id": "a8754581",
   "metadata": {
    "pycharm": {
     "name": "#%% md\n"
    }
   },
   "source": [
    "# Exercise 5 - Phenotype prediction"
   ]
  },
  {
   "cell_type": "markdown",
   "id": "declared-remainder",
   "metadata": {
    "pycharm": {
     "name": "#%% md\n"
    }
   },
   "source": [
    "## Working with a GEM model\n",
    "\n",
    "For this practical session, we will be using the following model:\n",
    "- _iMM904_ model which contains the whole metabolism of _S. cerevisiae_ -> file: ../data/iMM904.xml\n",
    "\n",
    "This exercise consists of exploring the phenotype prediction tools of COBRApy. Thus, the following steps will be followed:\n",
    "- Loading the model with COBRApy;\n",
    "- Perform a FBA simulation using an aerobic/anaerobic medium;\n",
    "- Perform reaction and gene deletions\n",
    "- Perform other flux analysis methods, such as pFBA, FVA, ROOM and MOMA;\n",
    "- Analyzing the model essential "
   ]
  },
  {
   "cell_type": "code",
   "execution_count": 28,
   "id": "985a959b",
   "metadata": {
    "pycharm": {
     "is_executing": true,
     "name": "#%%\n"
    }
   },
   "outputs": [
    {
     "data": {
      "text/html": [
       "\n",
       "        <table>\n",
       "            <tr>\n",
       "                <td><strong>Name</strong></td>\n",
       "                <td>iMM904</td>\n",
       "            </tr><tr>\n",
       "                <td><strong>Memory address</strong></td>\n",
       "                <td>0x019aa2f93908</td>\n",
       "            </tr><tr>\n",
       "                <td><strong>Number of metabolites</strong></td>\n",
       "                <td>1226</td>\n",
       "            </tr><tr>\n",
       "                <td><strong>Number of reactions</strong></td>\n",
       "                <td>1577</td>\n",
       "            </tr><tr>\n",
       "                <td><strong>Number of groups</strong></td>\n",
       "                <td>0</td>\n",
       "            </tr><tr>\n",
       "                <td><strong>Objective expression</strong></td>\n",
       "                <td>1.0*BIOMASS_SC5_notrace - 1.0*BIOMASS_SC5_notrace_reverse_93090</td>\n",
       "            </tr><tr>\n",
       "                <td><strong>Compartments</strong></td>\n",
       "                <td>cytosol, extracellular space, mitochondria, peroxisome/glyoxysome, endoplasmic reticulum, vacuole, golgi apparatus, nucleus</td>\n",
       "            </tr>\n",
       "          </table>"
      ],
      "text/plain": [
       "<Model iMM904 at 0x19aa2f93908>"
      ]
     },
     "execution_count": 28,
     "metadata": {},
     "output_type": "execute_result"
    }
   ],
   "source": [
    "# importing cobra\n",
    "import cobra\n",
    "\n",
    "# Loading a model\n",
    "model_path = '../data/iMM904.xml'\n",
    "model = cobra.io.read_sbml_model(model_path)\n",
    "\n",
    "model"
   ]
  },
  {
   "cell_type": "markdown",
   "id": "5ecd92df",
   "metadata": {
    "pycharm": {
     "name": "#%% md\n"
    }
   },
   "source": [
    "### Phenotype Prediction"
   ]
  },
  {
   "cell_type": "markdown",
   "id": "fb7c4e7e",
   "metadata": {
    "pycharm": {
     "name": "#%% md\n"
    }
   },
   "source": [
    "#### Flux Balance Analysis (FBA) - Aerobiose"
   ]
  },
  {
   "cell_type": "code",
   "execution_count": 29,
   "id": "92bec461",
   "metadata": {
    "pycharm": {
     "name": "#%%\n"
    }
   },
   "outputs": [
    {
     "name": "stdout",
     "output_type": "stream",
     "text": [
      "Episterol ester  yeast specific exchange -> (0.0, 999999.0)\n",
      "Episterol exchange -> (0.0, 999999.0)\n",
      "Ergosterol exchange -> (0.0, 999999.0)\n",
      "Ergosterol ester  yeast specific exchange -> (0.0, 999999.0)\n",
      "1 3 beta D Glucan exchange -> (0.0, 999999.0)\n",
      "Ethanolamine exchange -> (0.0, 999999.0)\n",
      "2 Hydroxybutyrate exchange -> (0.0, 999999.0)\n",
      "Ethanol exchange -> (0.0, 999999.0)\n",
      "Fe2+ exchange -> (-999999.0, 999999.0)\n",
      "Fecosterol exchange -> (0.0, 999999.0)\n",
      "2 methylbutyl acetate exchange -> (0.0, 999999.0)\n",
      "2 methylbutyraldehyde exchange -> (0.0, 999999.0)\n",
      "2 methyl 1 butanol exchange -> (0.0, 999999.0)\n",
      "2 methylpropanal exchange -> (0.0, 999999.0)\n",
      "2 phenylethanol exchange -> (0.0, 999999.0)\n",
      "Fecosterol ester  yeast specific exchange -> (0.0, 999999.0)\n",
      "FMN exchange -> (0.0, 999999.0)\n",
      "3 Carboxy 3 hydroxy 4 methylpentanoate exchange -> (0.0, 999999.0)\n",
      "3 Methylbutanal exchange -> (0.0, 999999.0)\n",
      "Formate exchange -> (0.0, 999999.0)\n",
      "D-Fructose exchange -> (0.0, 999999.0)\n",
      "3mop exchange -> (0.0, 999999.0)\n",
      "4-Aminobutanoate exchange -> (0.0, 999999.0)\n",
      "Fumarate exchange -> (0.0, 999999.0)\n",
      "Sn-Glycero-3-phosphocholine exchange -> (0.0, 999999.0)\n",
      "4 Aminobenzoate exchange -> (0.0, 999999.0)\n",
      "5 Amino 4 oxopentanoate exchange -> (0.0, 999999.0)\n",
      "Sn-Glycero-3-phospho-1-inositol exchange -> (0.0, 999999.0)\n",
      "D-Galactose exchange -> (0.0, 999999.0)\n",
      "8 Amino 7 oxononanoate exchange -> (0.0, 999999.0)\n",
      "N N bisformyl dityrosine exchange -> (0.0, 999999.0)\n",
      "L Arabinitol exchange -> (0.0, 999999.0)\n",
      "Acetate exchange -> (0.0, 999999.0)\n",
      "Acetaldehyde exchange -> (0.0, 999999.0)\n",
      "Acetic ester exchange -> (0.0, 999999.0)\n",
      "D-Galacturonate exchange -> (0.0, 999999.0)\n",
      "D-Glucosamine 6-phosphate exchange -> (0.0, 999999.0)\n",
      "Glycolaldehyde exchange -> (0.0, 999999.0)\n",
      "D-Glucose exchange -> (-10.0, 999999.0)\n",
      "L-Glutamine exchange -> (0.0, 999999.0)\n",
      "L-Glutamate exchange -> (0.0, 999999.0)\n",
      "Glyoxylate exchange -> (0.0, 999999.0)\n",
      "Adenine exchange -> (0.0, 999999.0)\n",
      "Adenosine exchange -> (0.0, 999999.0)\n",
      "2-Oxoglutarate exchange -> (0.0, 999999.0)\n",
      "L-Alanine exchange -> (0.0, 999999.0)\n",
      "Glycine exchange -> (0.0, 999999.0)\n",
      "Glycerol exchange -> (0.0, 999999.0)\n",
      "Guanosine exchange -> (0.0, 999999.0)\n",
      "Oxidized glutathione exchange -> (0.0, 999999.0)\n",
      "Reduced glutathione exchange -> (0.0, 999999.0)\n",
      "Allantoin exchange -> (0.0, 999999.0)\n",
      "Allantoate exchange -> (0.0, 999999.0)\n",
      "S Adenosyl L methionine exchange -> (0.0, 999999.0)\n",
      "D Arabinose exchange -> (0.0, 999999.0)\n",
      "L-Arabinose exchange -> (0.0, 999999.0)\n",
      "Guanine exchange -> (0.0, 999999.0)\n",
      "L-Arginine exchange -> (0.0, 999999.0)\n",
      "H2O exchange -> (-999999.0, 999999.0)\n",
      "H+ exchange -> (-999999.0, 999999.0)\n",
      "Hexadecanoate (n-C16:0) exchange -> (0.0, 999999.0)\n",
      "Hexadecenoate (n-C16:1) exchange -> (0.0, 999999.0)\n",
      "L-Asparagine exchange -> (0.0, 999999.0)\n",
      "L-Aspartate exchange -> (0.0, 999999.0)\n",
      " R R  2 3 Butanediol exchange -> (0.0, 999999.0)\n",
      "Biotin exchange -> (0.0, 999999.0)\n",
      "Hexacosanoate  n C260  exchange -> (0.0, 999999.0)\n",
      "L-Histidine exchange -> (0.0, 999999.0)\n",
      "Hypoxanthine exchange -> (0.0, 999999.0)\n",
      "Isoamyl acetate exchange -> (0.0, 999999.0)\n",
      "Isoamyl alcohol exchange -> (0.0, 999999.0)\n",
      "Isobutyl acetate exchange -> (0.0, 999999.0)\n",
      "Choline exchange -> (0.0, 999999.0)\n",
      "Citrate exchange -> (0.0, 999999.0)\n",
      "CO2 exchange -> (0.0, 999999.0)\n",
      "L-Carnitine exchange -> (0.0, 999999.0)\n",
      "Cytosine exchange -> (0.0, 999999.0)\n",
      "L-Cysteine exchange -> (0.0, 999999.0)\n",
      "Cytidine exchange -> (0.0, 999999.0)\n",
      "Deoxyadenosine exchange -> (0.0, 999999.0)\n",
      "7 8 Diaminononanoate exchange -> (0.0, 999999.0)\n",
      "Isobutyl alcohol exchange -> (0.0, 999999.0)\n",
      "Indole 3 acetaldehyde exchange -> (0.0, 999999.0)\n",
      "L-Isoleucine exchange -> (0.0, 999999.0)\n",
      "Indole 3 ethanol exchange -> (0.0, 999999.0)\n",
      "Myo-Inositol exchange -> (0.0, 999999.0)\n",
      "Decanoate (n-C10:0) exchange -> (0.0, 999999.0)\n",
      "Deoxycytidine exchange -> (0.0, 999999.0)\n",
      "Dodecanoate (n-C12:0) exchange -> (0.0, 999999.0)\n",
      "Inosine exchange -> (0.0, 999999.0)\n",
      "K+ exchange -> (-999999.0, 999999.0)\n",
      "Deoxyguanosine exchange -> (0.0, 999999.0)\n",
      "Deoxyinosine exchange -> (0.0, 999999.0)\n",
      "D-lactate exchange -> (0.0, 999999.0)\n",
      "L-Lactate exchange -> (0.0, 999999.0)\n",
      "Lanosterol exchange -> (0.0, 999999.0)\n",
      "Lanosterol ester  yeast specific exchange -> (0.0, 999999.0)\n",
      "DTTP exchange -> (0.0, 999999.0)\n",
      "Deoxyuridine exchange -> (0.0, 999999.0)\n",
      "L-Leucine exchange -> (0.0, 999999.0)\n",
      "L-Lysine exchange -> (0.0, 999999.0)\n",
      "L-Malate exchange -> (0.0, 999999.0)\n",
      "Maltose exchange -> (0.0, 999999.0)\n",
      "Riboflavin exchange -> (0.0, 999999.0)\n",
      "D-Sorbitol exchange -> (0.0, 999999.0)\n",
      "D-Mannose exchange -> (0.0, 999999.0)\n",
      "Melibiose exchange -> (0.0, 999999.0)\n",
      "L-Methionine exchange -> (0.0, 999999.0)\n",
      "S-Methyl-L-methionine exchange -> (0.0, 999999.0)\n",
      "Sodium exchange -> (-999999.0, 999999.0)\n",
      "Nicotinate exchange -> (0.0, 999999.0)\n",
      "L Sorbitol exchange -> (0.0, 999999.0)\n",
      "L-Serine exchange -> (0.0, 999999.0)\n",
      "Sulfite exchange -> (0.0, 999999.0)\n",
      "Sulfate exchange -> (-999999.0, 999999.0)\n",
      "Spermidine exchange -> (0.0, 999999.0)\n",
      "Spermine exchange -> (0.0, 999999.0)\n",
      "L Sorbose exchange -> (0.0, 999999.0)\n",
      "Succinate exchange -> (0.0, 999999.0)\n",
      "Nicotinamide adenine dinucleotide phosphate exchange -> (0.0, 999999.0)\n",
      "Ammonia exchange -> (-999999.0, 999999.0)\n",
      "NMN exchange -> (0.0, 999999.0)\n",
      "Sucrose exchange -> (0.0, 999999.0)\n",
      "O2 exchange -> (-2.0, 999999.0)\n",
      "Taurine exchange -> (0.0, 999999.0)\n",
      "Thiamin exchange -> (0.0, 999999.0)\n",
      "Oxaloacetate exchange -> (0.0, 999999.0)\n",
      "Octadecanoate (n-C18:0) exchange -> (0.0, 999999.0)\n",
      "Octadecenoate (n-C18:1) exchange -> (0.0, 999999.0)\n",
      "Octadecynoate  n C182  exchange -> (0.0, 999999.0)\n",
      "Ornithine exchange -> (0.0, 999999.0)\n",
      "Thiamin monophosphate exchange -> (0.0, 999999.0)\n",
      "Thiamine diphosphate exchange -> (0.0, 999999.0)\n",
      "L-Threonine exchange -> (0.0, 999999.0)\n",
      "Thymine exchange -> (0.0, 999999.0)\n",
      "Phenylacetaldehyde exchange -> (0.0, 999999.0)\n",
      "Adenosine 3  5  bisphosphate exchange -> (0.0, 999999.0)\n",
      "Thymidine exchange -> (0.0, 999999.0)\n",
      "Trehalose exchange -> (0.0, 999999.0)\n",
      "L-Tryptophan exchange -> (0.0, 999999.0)\n",
      "Phosphatidylcholine  yeast specific exchange -> (0.0, 999999.0)\n",
      "Pectin exchange -> (0.0, 999999.0)\n",
      "Peptide exchange -> (0.0, 999999.0)\n",
      "L-Phenylalanine exchange -> (0.0, 999999.0)\n",
      "Phenethyl acetate exchange -> (0.0, 999999.0)\n",
      "Phosphate exchange -> (-999999.0, 999999.0)\n",
      "(R)-Pantothenate exchange -> (0.0, 999999.0)\n",
      "Tetradecanoate (n-C14:0) exchange -> (0.0, 999999.0)\n",
      "L-Tyrosine exchange -> (0.0, 999999.0)\n",
      "Uracil exchange -> (0.0, 999999.0)\n",
      "Urea exchange -> (0.0, 999999.0)\n",
      "Uridine exchange -> (0.0, 999999.0)\n",
      "L-Valine exchange -> (0.0, 999999.0)\n",
      "Xanthine exchange -> (0.0, 999999.0)\n",
      "Xanthosine exchange -> (0.0, 999999.0)\n",
      "L-Proline exchange -> (0.0, 999999.0)\n",
      "Phosphatidyl 1D myo inositol  yeast specific exchange -> (0.0, 999999.0)\n",
      "Putrescine exchange -> (0.0, 999999.0)\n",
      "Pyruvate exchange -> (0.0, 999999.0)\n",
      "D-Xylose exchange -> (0.0, 999999.0)\n",
      "Xylitol exchange -> (0.0, 999999.0)\n",
      "D-Ribose exchange -> (0.0, 999999.0)\n",
      "Zymosterol exchange -> (0.0, 999999.0)\n",
      "Zymosterol ester  yeast specific exchange -> (0.0, 999999.0)\n"
     ]
    }
   ],
   "source": [
    "#check model exchanges\n",
    "for exchange in model.exchanges:\n",
    "    print(exchange.name, '->', exchange.bounds)"
   ]
  },
  {
   "cell_type": "code",
   "execution_count": 30,
   "id": "34dd73ee",
   "metadata": {
    "pycharm": {
     "name": "#%%\n"
    }
   },
   "outputs": [
    {
     "data": {
      "text/html": [
       "<strong><em>Optimal</em> solution with objective value 0.288</strong><br><div>\n",
       "<style scoped>\n",
       "    .dataframe tbody tr th:only-of-type {\n",
       "        vertical-align: middle;\n",
       "    }\n",
       "\n",
       "    .dataframe tbody tr th {\n",
       "        vertical-align: top;\n",
       "    }\n",
       "\n",
       "    .dataframe thead th {\n",
       "        text-align: right;\n",
       "    }\n",
       "</style>\n",
       "<table border=\"1\" class=\"dataframe\">\n",
       "  <thead>\n",
       "    <tr style=\"text-align: right;\">\n",
       "      <th></th>\n",
       "      <th>fluxes</th>\n",
       "      <th>reduced_costs</th>\n",
       "    </tr>\n",
       "  </thead>\n",
       "  <tbody>\n",
       "    <tr>\n",
       "      <th>CITtcp</th>\n",
       "      <td>0.000000</td>\n",
       "      <td>-3.469447e-18</td>\n",
       "    </tr>\n",
       "    <tr>\n",
       "      <th>13BGH</th>\n",
       "      <td>0.000000</td>\n",
       "      <td>-4.751566e-02</td>\n",
       "    </tr>\n",
       "    <tr>\n",
       "      <th>13BGHe</th>\n",
       "      <td>0.000000</td>\n",
       "      <td>0.000000e+00</td>\n",
       "    </tr>\n",
       "    <tr>\n",
       "      <th>13GS</th>\n",
       "      <td>0.326670</td>\n",
       "      <td>0.000000e+00</td>\n",
       "    </tr>\n",
       "    <tr>\n",
       "      <th>16GS</th>\n",
       "      <td>0.000000</td>\n",
       "      <td>-9.503132e-02</td>\n",
       "    </tr>\n",
       "    <tr>\n",
       "      <th>...</th>\n",
       "      <td>...</td>\n",
       "      <td>...</td>\n",
       "    </tr>\n",
       "    <tr>\n",
       "      <th>PYDXO</th>\n",
       "      <td>0.000000</td>\n",
       "      <td>0.000000e+00</td>\n",
       "    </tr>\n",
       "    <tr>\n",
       "      <th>PYK</th>\n",
       "      <td>17.721990</td>\n",
       "      <td>0.000000e+00</td>\n",
       "    </tr>\n",
       "    <tr>\n",
       "      <th>PYNP2r</th>\n",
       "      <td>0.000000</td>\n",
       "      <td>-0.000000e+00</td>\n",
       "    </tr>\n",
       "    <tr>\n",
       "      <th>PYR5CDm</th>\n",
       "      <td>0.000000</td>\n",
       "      <td>-2.969729e-02</td>\n",
       "    </tr>\n",
       "    <tr>\n",
       "      <th>PYRDC</th>\n",
       "      <td>15.946051</td>\n",
       "      <td>0.000000e+00</td>\n",
       "    </tr>\n",
       "  </tbody>\n",
       "</table>\n",
       "<p>1577 rows × 2 columns</p>\n",
       "</div>"
      ],
      "text/plain": [
       "<Solution 0.288 at 0x19aa63bf388>"
      ]
     },
     "execution_count": 30,
     "metadata": {},
     "output_type": "execute_result"
    }
   ],
   "source": [
    "#Perform a FBA with aerobic conditions\n",
    "aerobic_solution = model.optimize()\n",
    "aerobic_solution"
   ]
  },
  {
   "cell_type": "code",
   "execution_count": 31,
   "id": "074475d3",
   "metadata": {
    "pycharm": {
     "name": "#%%\n"
    }
   },
   "outputs": [
    {
     "data": {
      "text/html": [
       "<h3>Objective</h3><p>1.0 BIOMASS_SC5_notrace = 0.287865703704018</p><h4>Uptake</h4><table border=\"1\" class=\"dataframe\">\n",
       "  <thead>\n",
       "    <tr style=\"text-align: right;\">\n",
       "      <th>Metabolite</th>\n",
       "      <th>Reaction</th>\n",
       "      <th>Flux</th>\n",
       "      <th>C-Number</th>\n",
       "      <th>C-Flux</th>\n",
       "    </tr>\n",
       "  </thead>\n",
       "  <tbody>\n",
       "    <tr>\n",
       "      <td>glc__D_e</td>\n",
       "      <td>EX_glc__D_e</td>\n",
       "      <td>10</td>\n",
       "      <td>6</td>\n",
       "      <td>100.00%</td>\n",
       "    </tr>\n",
       "    <tr>\n",
       "      <td>nh4_e</td>\n",
       "      <td>EX_nh4_e</td>\n",
       "      <td>1.611</td>\n",
       "      <td>0</td>\n",
       "      <td>0.00%</td>\n",
       "    </tr>\n",
       "    <tr>\n",
       "      <td>o2_e</td>\n",
       "      <td>EX_o2_e</td>\n",
       "      <td>2</td>\n",
       "      <td>0</td>\n",
       "      <td>0.00%</td>\n",
       "    </tr>\n",
       "    <tr>\n",
       "      <td>pi_e</td>\n",
       "      <td>EX_pi_e</td>\n",
       "      <td>0.05691</td>\n",
       "      <td>0</td>\n",
       "      <td>0.00%</td>\n",
       "    </tr>\n",
       "    <tr>\n",
       "      <td>so4_e</td>\n",
       "      <td>EX_so4_e</td>\n",
       "      <td>0.02225</td>\n",
       "      <td>0</td>\n",
       "      <td>0.00%</td>\n",
       "    </tr>\n",
       "  </tbody>\n",
       "</table><h4>Secretion</h4><table border=\"1\" class=\"dataframe\">\n",
       "  <thead>\n",
       "    <tr style=\"text-align: right;\">\n",
       "      <th>Metabolite</th>\n",
       "      <th>Reaction</th>\n",
       "      <th>Flux</th>\n",
       "      <th>C-Number</th>\n",
       "      <th>C-Flux</th>\n",
       "    </tr>\n",
       "  </thead>\n",
       "  <tbody>\n",
       "    <tr>\n",
       "      <td>co2_e</td>\n",
       "      <td>EX_co2_e</td>\n",
       "      <td>-18.02</td>\n",
       "      <td>1</td>\n",
       "      <td>36.29%</td>\n",
       "    </tr>\n",
       "    <tr>\n",
       "      <td>etoh_e</td>\n",
       "      <td>EX_etoh_e</td>\n",
       "      <td>-15.82</td>\n",
       "      <td>2</td>\n",
       "      <td>63.70%</td>\n",
       "    </tr>\n",
       "    <tr>\n",
       "      <td>for_e</td>\n",
       "      <td>EX_for_e</td>\n",
       "      <td>-0.001488</td>\n",
       "      <td>1</td>\n",
       "      <td>0.00%</td>\n",
       "    </tr>\n",
       "    <tr>\n",
       "      <td>h2o_e</td>\n",
       "      <td>EX_h2o_e</td>\n",
       "      <td>-5.64</td>\n",
       "      <td>0</td>\n",
       "      <td>0.00%</td>\n",
       "    </tr>\n",
       "    <tr>\n",
       "      <td>h_e</td>\n",
       "      <td>EX_h_e</td>\n",
       "      <td>-1.45</td>\n",
       "      <td>0</td>\n",
       "      <td>0.00%</td>\n",
       "    </tr>\n",
       "  </tbody>\n",
       "</table>"
      ],
      "text/plain": [
       "<cobra.summary.model_summary.ModelSummary at 0x19aa63bf488>"
      ]
     },
     "execution_count": 31,
     "metadata": {},
     "output_type": "execute_result"
    }
   ],
   "source": [
    "model.summary()"
   ]
  },
  {
   "cell_type": "markdown",
   "id": "99452141",
   "metadata": {
    "pycharm": {
     "name": "#%% md\n"
    }
   },
   "source": [
    "#### Flux Balance Analysis (FBA) - Anaerobiose"
   ]
  },
  {
   "cell_type": "code",
   "execution_count": 32,
   "id": "6baa383e",
   "metadata": {},
   "outputs": [
    {
     "data": {
      "text/html": [
       "\n",
       "        <table>\n",
       "            <tr>\n",
       "                <td><strong>Reaction identifier</strong></td><td>EX_o2_e</td>\n",
       "            </tr><tr>\n",
       "                <td><strong>Name</strong></td><td>O2 exchange</td>\n",
       "            </tr><tr>\n",
       "                <td><strong>Memory address</strong></td>\n",
       "                <td>0x19aa5b10188</td>\n",
       "            </tr><tr>\n",
       "                <td><strong>Stoichiometry</strong></td>\n",
       "                <td>\n",
       "                    <p style='text-align:right'>o2_e --></p>\n",
       "                    <p style='text-align:right'>O2 O2 --></p>\n",
       "                </td>\n",
       "            </tr><tr>\n",
       "                <td><strong>GPR</strong></td><td></td>\n",
       "            </tr><tr>\n",
       "                <td><strong>Lower bound</strong></td><td>0</td>\n",
       "            </tr><tr>\n",
       "                <td><strong>Upper bound</strong></td><td>1000</td>\n",
       "            </tr>\n",
       "        </table>\n",
       "        "
      ],
      "text/plain": [
       "<Reaction EX_o2_e at 0x19aa5b10188>"
      ]
     },
     "execution_count": 32,
     "metadata": {},
     "output_type": "execute_result"
    }
   ],
   "source": [
    "#setting the environmental conditions to replicate an anaerobic medium\n",
    "o2 = model.reactions.get_by_id('EX_o2_e')\n",
    "o2.bounds = (0,1000)\n",
    "o2"
   ]
  },
  {
   "cell_type": "code",
   "execution_count": 33,
   "id": "106734f4",
   "metadata": {
    "pycharm": {
     "name": "#%%\n"
    },
    "scrolled": true
   },
   "outputs": [
    {
     "data": {
      "text/html": [
       "<strong><em>Optimal</em> solution with objective value 0.000</strong><br><div>\n",
       "<style scoped>\n",
       "    .dataframe tbody tr th:only-of-type {\n",
       "        vertical-align: middle;\n",
       "    }\n",
       "\n",
       "    .dataframe tbody tr th {\n",
       "        vertical-align: top;\n",
       "    }\n",
       "\n",
       "    .dataframe thead th {\n",
       "        text-align: right;\n",
       "    }\n",
       "</style>\n",
       "<table border=\"1\" class=\"dataframe\">\n",
       "  <thead>\n",
       "    <tr style=\"text-align: right;\">\n",
       "      <th></th>\n",
       "      <th>fluxes</th>\n",
       "      <th>reduced_costs</th>\n",
       "    </tr>\n",
       "  </thead>\n",
       "  <tbody>\n",
       "    <tr>\n",
       "      <th>CITtcp</th>\n",
       "      <td>0.0</td>\n",
       "      <td>-0.0</td>\n",
       "    </tr>\n",
       "    <tr>\n",
       "      <th>13BGH</th>\n",
       "      <td>0.0</td>\n",
       "      <td>0.0</td>\n",
       "    </tr>\n",
       "    <tr>\n",
       "      <th>13BGHe</th>\n",
       "      <td>0.0</td>\n",
       "      <td>0.0</td>\n",
       "    </tr>\n",
       "    <tr>\n",
       "      <th>13GS</th>\n",
       "      <td>0.0</td>\n",
       "      <td>0.0</td>\n",
       "    </tr>\n",
       "    <tr>\n",
       "      <th>16GS</th>\n",
       "      <td>0.0</td>\n",
       "      <td>0.0</td>\n",
       "    </tr>\n",
       "    <tr>\n",
       "      <th>...</th>\n",
       "      <td>...</td>\n",
       "      <td>...</td>\n",
       "    </tr>\n",
       "    <tr>\n",
       "      <th>PYDXO</th>\n",
       "      <td>0.0</td>\n",
       "      <td>0.0</td>\n",
       "    </tr>\n",
       "    <tr>\n",
       "      <th>PYK</th>\n",
       "      <td>1.0</td>\n",
       "      <td>0.0</td>\n",
       "    </tr>\n",
       "    <tr>\n",
       "      <th>PYNP2r</th>\n",
       "      <td>0.0</td>\n",
       "      <td>0.0</td>\n",
       "    </tr>\n",
       "    <tr>\n",
       "      <th>PYR5CDm</th>\n",
       "      <td>0.0</td>\n",
       "      <td>0.0</td>\n",
       "    </tr>\n",
       "    <tr>\n",
       "      <th>PYRDC</th>\n",
       "      <td>1.0</td>\n",
       "      <td>0.0</td>\n",
       "    </tr>\n",
       "  </tbody>\n",
       "</table>\n",
       "<p>1577 rows × 2 columns</p>\n",
       "</div>"
      ],
      "text/plain": [
       "<Solution 0.000 at 0x19aa367d8c8>"
      ]
     },
     "execution_count": 33,
     "metadata": {},
     "output_type": "execute_result"
    }
   ],
   "source": [
    "#Perform a FBA with anaerobic conditions\n",
    "anaerobic_solution = model.optimize()\n",
    "anaerobic_solution"
   ]
  },
  {
   "cell_type": "code",
   "execution_count": 34,
   "id": "3cfd62ee",
   "metadata": {},
   "outputs": [
    {
     "data": {
      "text/html": [
       "\n",
       "        <table>\n",
       "            <tr>\n",
       "                <td><strong>Reaction identifier</strong></td><td>EX_o2_e</td>\n",
       "            </tr><tr>\n",
       "                <td><strong>Name</strong></td><td>O2 exchange</td>\n",
       "            </tr><tr>\n",
       "                <td><strong>Memory address</strong></td>\n",
       "                <td>0x19aa5b10188</td>\n",
       "            </tr><tr>\n",
       "                <td><strong>Stoichiometry</strong></td>\n",
       "                <td>\n",
       "                    <p style='text-align:right'>o2_e <=></p>\n",
       "                    <p style='text-align:right'>O2 O2 <=></p>\n",
       "                </td>\n",
       "            </tr><tr>\n",
       "                <td><strong>GPR</strong></td><td></td>\n",
       "            </tr><tr>\n",
       "                <td><strong>Lower bound</strong></td><td>-2</td>\n",
       "            </tr><tr>\n",
       "                <td><strong>Upper bound</strong></td><td>1000</td>\n",
       "            </tr>\n",
       "        </table>\n",
       "        "
      ],
      "text/plain": [
       "<Reaction EX_o2_e at 0x19aa5b10188>"
      ]
     },
     "execution_count": 34,
     "metadata": {},
     "output_type": "execute_result"
    }
   ],
   "source": [
    "#setting the environmental conditions to replicate an aerobic medium\n",
    "o2 = model.reactions.get_by_id('EX_o2_e')\n",
    "o2.bounds = (-2,1000)\n",
    "o2"
   ]
  },
  {
   "cell_type": "markdown",
   "id": "7671c09e",
   "metadata": {},
   "source": [
    "#### Flux Variability Analysis (FVA)"
   ]
  },
  {
   "cell_type": "code",
   "execution_count": 35,
   "id": "6c985d5b",
   "metadata": {},
   "outputs": [
    {
     "data": {
      "text/html": [
       "<div>\n",
       "<style scoped>\n",
       "    .dataframe tbody tr th:only-of-type {\n",
       "        vertical-align: middle;\n",
       "    }\n",
       "\n",
       "    .dataframe tbody tr th {\n",
       "        vertical-align: top;\n",
       "    }\n",
       "\n",
       "    .dataframe thead th {\n",
       "        text-align: right;\n",
       "    }\n",
       "</style>\n",
       "<table border=\"1\" class=\"dataframe\">\n",
       "  <thead>\n",
       "    <tr style=\"text-align: right;\">\n",
       "      <th></th>\n",
       "      <th>minimum</th>\n",
       "      <th>maximum</th>\n",
       "    </tr>\n",
       "  </thead>\n",
       "  <tbody>\n",
       "    <tr>\n",
       "      <th>CITtcp</th>\n",
       "      <td>0.000000</td>\n",
       "      <td>0.000000</td>\n",
       "    </tr>\n",
       "    <tr>\n",
       "      <th>13BGH</th>\n",
       "      <td>0.000000</td>\n",
       "      <td>10.823974</td>\n",
       "    </tr>\n",
       "    <tr>\n",
       "      <th>13BGHe</th>\n",
       "      <td>0.000000</td>\n",
       "      <td>0.000000</td>\n",
       "    </tr>\n",
       "    <tr>\n",
       "      <th>13GS</th>\n",
       "      <td>0.032667</td>\n",
       "      <td>10.856641</td>\n",
       "    </tr>\n",
       "    <tr>\n",
       "      <th>16GS</th>\n",
       "      <td>0.000000</td>\n",
       "      <td>0.000000</td>\n",
       "    </tr>\n",
       "    <tr>\n",
       "      <th>...</th>\n",
       "      <td>...</td>\n",
       "      <td>...</td>\n",
       "    </tr>\n",
       "    <tr>\n",
       "      <th>PYDXO</th>\n",
       "      <td>0.000000</td>\n",
       "      <td>0.000000</td>\n",
       "    </tr>\n",
       "    <tr>\n",
       "      <th>PYK</th>\n",
       "      <td>0.000000</td>\n",
       "      <td>41.459171</td>\n",
       "    </tr>\n",
       "    <tr>\n",
       "      <th>PYNP2r</th>\n",
       "      <td>-10.823974</td>\n",
       "      <td>10.823974</td>\n",
       "    </tr>\n",
       "    <tr>\n",
       "      <th>PYR5CDm</th>\n",
       "      <td>0.000000</td>\n",
       "      <td>9.426427</td>\n",
       "    </tr>\n",
       "    <tr>\n",
       "      <th>PYRDC</th>\n",
       "      <td>0.000000</td>\n",
       "      <td>21.391930</td>\n",
       "    </tr>\n",
       "  </tbody>\n",
       "</table>\n",
       "<p>1577 rows × 2 columns</p>\n",
       "</div>"
      ],
      "text/plain": [
       "           minimum    maximum\n",
       "CITtcp    0.000000   0.000000\n",
       "13BGH     0.000000  10.823974\n",
       "13BGHe    0.000000   0.000000\n",
       "13GS      0.032667  10.856641\n",
       "16GS      0.000000   0.000000\n",
       "...            ...        ...\n",
       "PYDXO     0.000000   0.000000\n",
       "PYK       0.000000  41.459171\n",
       "PYNP2r  -10.823974  10.823974\n",
       "PYR5CDm   0.000000   9.426427\n",
       "PYRDC     0.000000  21.391930\n",
       "\n",
       "[1577 rows x 2 columns]"
      ]
     },
     "execution_count": 35,
     "metadata": {},
     "output_type": "execute_result"
    }
   ],
   "source": [
    "#performing fva simulation\n",
    "fva_solution = cobra.flux_analysis.flux_variability_analysis(model, fraction_of_optimum=0.1)\n",
    "fva_solution"
   ]
  },
  {
   "cell_type": "code",
   "execution_count": 36,
   "id": "b0f4c979",
   "metadata": {},
   "outputs": [
    {
     "name": "stdout",
     "output_type": "stream",
     "text": [
      "Theoretical production rate interval for Acetate: 0.0 to 12.536161700800076 mmol/gDW/h\n",
      "Theoretical production rate interval of Formate: 0.0 to 2.6299919299464114 mmol/gDW/h\n"
     ]
    }
   ],
   "source": [
    "# maximum theoretical production rates of Acetate (EX_ac_e) and Formate (EX_for_e)\n",
    "\n",
    "print(f'Theoretical production rate interval for Acetate:', fva_solution.loc['EX_ac_e', 'minimum'], 'to', fva_solution.loc['EX_ac_e', 'maximum'], 'mmol/gDW/h')\n",
    "print(f'Theoretical production rate interval of Formate:', fva_solution.loc['EX_for_e', 'minimum'], 'to', fva_solution.loc['EX_for_e', 'maximum'], 'mmol/gDW/h')"
   ]
  },
  {
   "cell_type": "markdown",
   "id": "4cfc5514",
   "metadata": {
    "pycharm": {
     "name": "#%% md\n"
    }
   },
   "source": [
    "#### Parsimonious Flux Balance Analysis (pFBA)"
   ]
  },
  {
   "cell_type": "code",
   "execution_count": 37,
   "id": "98aa146c",
   "metadata": {
    "pycharm": {
     "name": "#%%\n"
    },
    "scrolled": true
   },
   "outputs": [
    {
     "data": {
      "text/html": [
       "<strong><em>Optimal</em> solution with objective value 338.006</strong><br><div>\n",
       "<style scoped>\n",
       "    .dataframe tbody tr th:only-of-type {\n",
       "        vertical-align: middle;\n",
       "    }\n",
       "\n",
       "    .dataframe tbody tr th {\n",
       "        vertical-align: top;\n",
       "    }\n",
       "\n",
       "    .dataframe thead th {\n",
       "        text-align: right;\n",
       "    }\n",
       "</style>\n",
       "<table border=\"1\" class=\"dataframe\">\n",
       "  <thead>\n",
       "    <tr style=\"text-align: right;\">\n",
       "      <th></th>\n",
       "      <th>fluxes</th>\n",
       "      <th>reduced_costs</th>\n",
       "    </tr>\n",
       "  </thead>\n",
       "  <tbody>\n",
       "    <tr>\n",
       "      <th>CITtcp</th>\n",
       "      <td>0.000000</td>\n",
       "      <td>-2.0</td>\n",
       "    </tr>\n",
       "    <tr>\n",
       "      <th>13BGH</th>\n",
       "      <td>0.000000</td>\n",
       "      <td>444.0</td>\n",
       "    </tr>\n",
       "    <tr>\n",
       "      <th>13BGHe</th>\n",
       "      <td>0.000000</td>\n",
       "      <td>-2.0</td>\n",
       "    </tr>\n",
       "    <tr>\n",
       "      <th>13GS</th>\n",
       "      <td>0.326670</td>\n",
       "      <td>-2.0</td>\n",
       "    </tr>\n",
       "    <tr>\n",
       "      <th>16GS</th>\n",
       "      <td>0.000000</td>\n",
       "      <td>-2.0</td>\n",
       "    </tr>\n",
       "    <tr>\n",
       "      <th>...</th>\n",
       "      <td>...</td>\n",
       "      <td>...</td>\n",
       "    </tr>\n",
       "    <tr>\n",
       "      <th>PYDXO</th>\n",
       "      <td>0.000000</td>\n",
       "      <td>-2.0</td>\n",
       "    </tr>\n",
       "    <tr>\n",
       "      <th>PYK</th>\n",
       "      <td>17.721990</td>\n",
       "      <td>-2.0</td>\n",
       "    </tr>\n",
       "    <tr>\n",
       "      <th>PYNP2r</th>\n",
       "      <td>0.000000</td>\n",
       "      <td>-2.0</td>\n",
       "    </tr>\n",
       "    <tr>\n",
       "      <th>PYR5CDm</th>\n",
       "      <td>0.000000</td>\n",
       "      <td>270.0</td>\n",
       "    </tr>\n",
       "    <tr>\n",
       "      <th>PYRDC</th>\n",
       "      <td>15.946051</td>\n",
       "      <td>-2.0</td>\n",
       "    </tr>\n",
       "  </tbody>\n",
       "</table>\n",
       "<p>1577 rows × 2 columns</p>\n",
       "</div>"
      ],
      "text/plain": [
       "<Solution 338.006 at 0x19aa5e8a608>"
      ]
     },
     "execution_count": 37,
     "metadata": {},
     "output_type": "execute_result"
    }
   ],
   "source": [
    "#performing pfba simulation\n",
    "pfba_solution = cobra.flux_analysis.pfba(model)\n",
    "pfba_solution"
   ]
  },
  {
   "cell_type": "markdown",
   "id": "a30ce575",
   "metadata": {},
   "source": [
    "### Simulating Deletions"
   ]
  },
  {
   "cell_type": "markdown",
   "id": "f88b0085",
   "metadata": {},
   "source": [
    "#### Knock outs"
   ]
  },
  {
   "cell_type": "code",
   "execution_count": 40,
   "id": "54b4b0a7",
   "metadata": {},
   "outputs": [
    {
     "name": "stdout",
     "output_type": "stream",
     "text": [
      "ENO mutant growth rate:  0.0516867210336672\n",
      "ENO flux rate:  0.0\n"
     ]
    }
   ],
   "source": [
    "#knock out the ENO reaction\n",
    "with model:\n",
    "    model.reactions.ENO.knock_out()\n",
    "    fba_solution = model.optimize()\n",
    "    print('ENO mutant growth rate: ', fba_solution.fluxes['BIOMASS_SC5_notrace'])\n",
    "    print('ENO flux rate: ', fba_solution.fluxes['ENO'])"
   ]
  },
  {
   "cell_type": "code",
   "execution_count": null,
   "outputs": [],
   "source": [
    "#knock out the ACS gene\n",
    "with model:\n",
    "    model.genes.YLR153C.knock_out()\n",
    "    fba_solution = model.optimize()\n",
    "    print('ACS mutant growth rate: ', fba_solution.fluxes['BIOMASS_SC5_notrace'])\n",
    "    print('ACS flux rate: ', fba_solution.fluxes['ACS'])"
   ],
   "metadata": {
    "collapsed": false,
    "pycharm": {
     "name": "#%%\n"
    }
   }
  },
  {
   "cell_type": "code",
   "execution_count": null,
   "outputs": [],
   "source": [
    "#knock out the PGM GPRs\n",
    "with model:\n",
    "    model.genes.YKL152C.knock_out()\n",
    "    model.genes.YDL021W.knock_out()\n",
    "    model.genes.YOL056W.knock_out()\n",
    "    fba_solution = model.optimize()\n",
    "    print('PGM mutant growth rate: ', fba_solution.fluxes['BIOMASS_SC5_notrace'])\n",
    "    print('PGM flux rate: ', fba_solution.fluxes['PGM'])"
   ],
   "metadata": {
    "collapsed": false,
    "pycharm": {
     "name": "#%%\n"
    }
   }
  },
  {
   "cell_type": "code",
   "execution_count": null,
   "outputs": [],
   "source": [
    "#all knock outs at once\n",
    "with model:\n",
    "    fba_solution = model.optimize()\n",
    "    model.reactions.ENO.knock_out()\n",
    "    model.genes.YLR153C.knock_out()\n",
    "    model.genes.YKL152C.knock_out()\n",
    "    model.genes.YDL021W.knock_out()\n",
    "    model.genes.YOL056W.knock_out()\n",
    "    mutant_fba = model.optimize()\n",
    "    print('Wild type growth rate: ', fba_solution.fluxes['BIOMASS_SC5_notrace'])\n",
    "    print('Mutant growth rate: ', mutant_fba.fluxes['BIOMASS_SC5_notrace'])"
   ],
   "metadata": {
    "collapsed": false,
    "pycharm": {
     "name": "#%%\n"
    }
   }
  },
  {
   "cell_type": "markdown",
   "source": [
    "#### MOMA and ROOM"
   ],
   "metadata": {
    "collapsed": false,
    "pycharm": {
     "name": "#%% md\n"
    }
   }
  },
  {
   "cell_type": "code",
   "execution_count": null,
   "outputs": [],
   "source": [
    "with model:\n",
    "    fba_solution = model.optimize()\n",
    "    model.reactions.ENO.knock_out()\n",
    "    model.genes.YLR153C.knock_out()\n",
    "    model.genes.YKL152C.knock_out()\n",
    "    model.genes.YDL021W.knock_out()\n",
    "    model.genes.YOL056W.knock_out()\n",
    "    moma_result = cobra.flux_analysis.moma(model, fba_solution)\n",
    "    print('MOMA Result: ', moma_result)"
   ],
   "metadata": {
    "collapsed": false,
    "pycharm": {
     "name": "#%%\n"
    }
   }
  },
  {
   "cell_type": "code",
   "execution_count": null,
   "outputs": [],
   "source": [
    "with model:\n",
    "    fba_solution = model.optimize()\n",
    "    model.reactions.ENO.knock_out()\n",
    "    model.genes.YLR153C.knock_out()\n",
    "    model.genes.YKL152C.knock_out()\n",
    "    model.genes.YDL021W.knock_out()\n",
    "    model.genes.YOL056W.knock_out()\n",
    "    room_result = cobra.flux_analysis.room(model, fba_solution)\n",
    "    print('ROOM Result: ', room_result)"
   ],
   "metadata": {
    "collapsed": false,
    "pycharm": {
     "name": "#%%\n"
    }
   }
  },
  {
   "cell_type": "markdown",
   "source": [
    "#### Single Delections"
   ],
   "metadata": {
    "collapsed": false,
    "pycharm": {
     "name": "#%% md\n"
    }
   }
  },
  {
   "cell_type": "code",
   "execution_count": null,
   "outputs": [],
   "source": [
    "#single reaction deletion\n",
    "double_reaction_deletion_results = cobra.flux_analysis.single_reaction_deletion(model)\n",
    "double_reaction_deletion_results"
   ],
   "metadata": {
    "collapsed": false,
    "pycharm": {
     "name": "#%%\n"
    }
   }
  },
  {
   "cell_type": "markdown",
   "source": [],
   "metadata": {
    "collapsed": false,
    "pycharm": {
     "name": "#%% md\n"
    }
   }
  },
  {
   "cell_type": "code",
   "execution_count": null,
   "outputs": [],
   "source": [
    "#double gene deletion\n",
    "double_gene_deletion_results = cobra.flux_analysis.single_gene_deletion(model)\n",
    "double_gene_deletion_results"
   ],
   "metadata": {
    "collapsed": false,
    "pycharm": {
     "name": "#%%\n"
    }
   }
  },
  {
   "cell_type": "markdown",
   "source": [
    "### Production envelopes"
   ],
   "metadata": {
    "collapsed": false,
    "pycharm": {
     "name": "#%% md\n"
    }
   }
  },
  {
   "cell_type": "code",
   "execution_count": null,
   "outputs": [],
   "source": [
    "#obtain a plot of a production envelope using glucose as carbon source and optimizing Formate production\n",
    "prod_env = cobra.flux_analysis.production_envelope(model, [\"BIOMASS_SC5_notrace\"], objective=\"EX_for_e\", carbon_sources=\"EX_glc__D_e\")\n",
    "prod_env.plot(kind='line', x='BIOMASS_SC5_notrace', y='carbon_yield_maximum')"
   ],
   "metadata": {
    "collapsed": false,
    "pycharm": {
     "name": "#%%\n"
    }
   }
  }
 ],
 "metadata": {
  "kernelspec": {
   "display_name": "Python 3 (ipykernel)",
   "language": "python",
   "name": "python3"
  },
  "language_info": {
   "codemirror_mode": {
    "name": "ipython",
    "version": 3
   },
   "file_extension": ".py",
   "mimetype": "text/x-python",
   "name": "python",
   "nbconvert_exporter": "python",
   "pygments_lexer": "ipython3",
   "version": "3.7.13"
  }
 },
 "nbformat": 4,
 "nbformat_minor": 5
}