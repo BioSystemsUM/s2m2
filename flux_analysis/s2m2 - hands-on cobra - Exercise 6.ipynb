{
 "cells": [
  {
   "cell_type": "markdown",
   "id": "alternate-newcastle",
   "metadata": {
    "pycharm": {
     "name": "#%% md\n"
    }
   },
   "source": [
    "# COBRApy\n",
    "\n",
    "COBRApy is a package for constraint-based modeling of biological networks written in Python.\n",
    "\n",
    "This tool allows loading and inspecting Genome-Scale Metabolic (GEM) models written in the Systems Biology Markup Language (SBML) format.\n",
    "\n",
    "Using COBRApy, one can analyse the following model contents:\n",
    "1. Reactions\n",
    "2. Metabolites\n",
    "3. Genes\n",
    "4. Exchange reactions (Environmental Conditions)\n",
    "\n",
    "COBRApy allows manipulating the contents of a GEM model. For instance, one can edit reactions' flux bounds, knock out a metabolic gene, or change the environmental conditions.\n",
    "\n",
    "Phenotype prediction can be simulated with several flux analysis methods implemented in COBRApy. These include Flux Balance Analysis (FBA), Parsimonious FBA, or Flux Variability Analysis (FVA).\n",
    "\n",
    "The simulation of gene and reaction deletions for a given GEM model is a simple and straightforward process. One can simulate single or double knock outs using one of the flux analysis methods mentioned above."
   ]
  },
  {
   "cell_type": "markdown",
   "id": "optimum-intellectual",
   "metadata": {
    "pycharm": {
     "name": "#%% md\n"
    }
   },
   "source": [
    "## Instalation\n",
    "\n",
    "\n",
    "### Requirements\n",
    "The following requirements need to be installed to use COBRApy:\n",
    "- Python 3.6 or higher\n",
    "- pip must be installed\n",
    "- GLPK solver is used by default but CPLEX is prefered\n",
    "\n",
    "\n",
    "### How to install COBRApy?\n",
    "```\n",
    "pip install cobra\n",
    "```"
   ]
  },
  {
   "cell_type": "markdown",
   "id": "accessible-detail",
   "metadata": {
    "pycharm": {
     "name": "#%% md\n"
    }
   },
   "source": [
    "# Exercise 5 - Phenotype prediction"
   ]
  },
  {
   "cell_type": "markdown",
   "id": "comprehensive-illinois",
   "metadata": {
    "pycharm": {
     "name": "#%% md\n"
    }
   },
   "source": [
    "## Working with a GEM model\n",
    "\n",
    "For this practical session, we will be using the following model:\n",
    "- _iMM904_ model which contains the whole metabolism of _S. cerevisiae_ -> file: ../data/iMM904.xml\n",
    "\n",
    "You can read more about _S. cerevisiae_ iMM804 model (Mo et al 2009) in the following links:\n",
    "- https://bmcsystbiol.biomedcentral.com/articles/10.1186/1752-0509-3-37\n",
    "- http://bigg.ucsd.edu/models/iMM904\n",
    "\n",
    "This exercise consists of exploring the phenotype prediction tools of COBRApy. Thus, the following steps will be followed:\n",
    "- Loading the model with COBRApy;\n",
    "- Perform a FBA simulation using an aerobic/anaerobic medium;\n",
    "- Perform reaction and gene deletions\n",
    "- Perform other flux analysis methods, such as pFBA, FVA, ROOM and MOMA;\n",
    "- Analyzing the model essential "
   ]
  },
  {
   "cell_type": "code",
   "execution_count": 1,
   "id": "academic-aaron",
   "metadata": {
    "pycharm": {
     "is_executing": true,
     "name": "#%%\n"
    }
   },
   "outputs": [
    {
     "data": {
      "text/html": [
       "\n",
       "        <table>\n",
       "            <tr>\n",
       "                <td><strong>Name</strong></td>\n",
       "                <td>iMM904</td>\n",
       "            </tr><tr>\n",
       "                <td><strong>Memory address</strong></td>\n",
       "                <td>0x025d25fafe48</td>\n",
       "            </tr><tr>\n",
       "                <td><strong>Number of metabolites</strong></td>\n",
       "                <td>1226</td>\n",
       "            </tr><tr>\n",
       "                <td><strong>Number of reactions</strong></td>\n",
       "                <td>1577</td>\n",
       "            </tr><tr>\n",
       "                <td><strong>Number of groups</strong></td>\n",
       "                <td>0</td>\n",
       "            </tr><tr>\n",
       "                <td><strong>Objective expression</strong></td>\n",
       "                <td>1.0*BIOMASS_SC5_notrace - 1.0*BIOMASS_SC5_notrace_reverse_93090</td>\n",
       "            </tr><tr>\n",
       "                <td><strong>Compartments</strong></td>\n",
       "                <td>cytosol, extracellular space, mitochondria, peroxisome/glyoxysome, endoplasmic reticulum, vacuole, golgi apparatus, nucleus</td>\n",
       "            </tr>\n",
       "          </table>"
      ],
      "text/plain": [
       "<Model iMM904 at 0x25d25fafe48>"
      ]
     },
     "execution_count": 1,
     "metadata": {},
     "output_type": "execute_result"
    }
   ],
   "source": [
    "# importing cobra\n",
    "import cobra\n",
    "\n",
    "# Loading a model\n",
    "model_path = '../data/iMM904.xml'\n",
    "model = cobra.io.read_sbml_model(model_path)\n",
    "\n",
    "model"
   ]
  },
  {
   "cell_type": "markdown",
   "id": "normal-circumstances",
   "metadata": {
    "pycharm": {
     "name": "#%% md\n"
    }
   },
   "source": [
    "## Phenotype Prediction"
   ]
  },
  {
   "cell_type": "markdown",
   "id": "elder-spine",
   "metadata": {
    "pycharm": {
     "name": "#%% md\n"
    }
   },
   "source": [
    "### pFBA - Aerobiosis"
   ]
  },
  {
   "cell_type": "code",
   "execution_count": 2,
   "id": "smaller-plymouth",
   "metadata": {
    "pycharm": {
     "name": "#%%\n"
    }
   },
   "outputs": [
    {
     "name": "stdout",
     "output_type": "stream",
     "text": [
      "Episterol ester  yeast specific exchange -> (0.0, 999999.0)\n",
      "Episterol exchange -> (0.0, 999999.0)\n",
      "Ergosterol exchange -> (0.0, 999999.0)\n",
      "Ergosterol ester  yeast specific exchange -> (0.0, 999999.0)\n",
      "1 3 beta D Glucan exchange -> (0.0, 999999.0)\n",
      "Ethanolamine exchange -> (0.0, 999999.0)\n",
      "2 Hydroxybutyrate exchange -> (0.0, 999999.0)\n",
      "Ethanol exchange -> (0.0, 999999.0)\n",
      "Fe2+ exchange -> (-999999.0, 999999.0)\n",
      "Fecosterol exchange -> (0.0, 999999.0)\n",
      "2 methylbutyl acetate exchange -> (0.0, 999999.0)\n",
      "2 methylbutyraldehyde exchange -> (0.0, 999999.0)\n",
      "2 methyl 1 butanol exchange -> (0.0, 999999.0)\n",
      "2 methylpropanal exchange -> (0.0, 999999.0)\n",
      "2 phenylethanol exchange -> (0.0, 999999.0)\n",
      "Fecosterol ester  yeast specific exchange -> (0.0, 999999.0)\n",
      "FMN exchange -> (0.0, 999999.0)\n",
      "3 Carboxy 3 hydroxy 4 methylpentanoate exchange -> (0.0, 999999.0)\n",
      "3 Methylbutanal exchange -> (0.0, 999999.0)\n",
      "Formate exchange -> (0.0, 999999.0)\n",
      "D-Fructose exchange -> (0.0, 999999.0)\n",
      "3mop exchange -> (0.0, 999999.0)\n",
      "4-Aminobutanoate exchange -> (0.0, 999999.0)\n",
      "Fumarate exchange -> (0.0, 999999.0)\n",
      "Sn-Glycero-3-phosphocholine exchange -> (0.0, 999999.0)\n",
      "4 Aminobenzoate exchange -> (0.0, 999999.0)\n",
      "5 Amino 4 oxopentanoate exchange -> (0.0, 999999.0)\n",
      "Sn-Glycero-3-phospho-1-inositol exchange -> (0.0, 999999.0)\n",
      "D-Galactose exchange -> (0.0, 999999.0)\n",
      "8 Amino 7 oxononanoate exchange -> (0.0, 999999.0)\n",
      "N N bisformyl dityrosine exchange -> (0.0, 999999.0)\n",
      "L Arabinitol exchange -> (0.0, 999999.0)\n",
      "Acetate exchange -> (0.0, 999999.0)\n",
      "Acetaldehyde exchange -> (0.0, 999999.0)\n",
      "Acetic ester exchange -> (0.0, 999999.0)\n",
      "D-Galacturonate exchange -> (0.0, 999999.0)\n",
      "D-Glucosamine 6-phosphate exchange -> (0.0, 999999.0)\n",
      "Glycolaldehyde exchange -> (0.0, 999999.0)\n",
      "D-Glucose exchange -> (-10.0, 999999.0)\n",
      "L-Glutamine exchange -> (0.0, 999999.0)\n",
      "L-Glutamate exchange -> (0.0, 999999.0)\n",
      "Glyoxylate exchange -> (0.0, 999999.0)\n",
      "Adenine exchange -> (0.0, 999999.0)\n",
      "Adenosine exchange -> (0.0, 999999.0)\n",
      "2-Oxoglutarate exchange -> (0.0, 999999.0)\n",
      "L-Alanine exchange -> (0.0, 999999.0)\n",
      "Glycine exchange -> (0.0, 999999.0)\n",
      "Glycerol exchange -> (0.0, 999999.0)\n",
      "Guanosine exchange -> (0.0, 999999.0)\n",
      "Oxidized glutathione exchange -> (0.0, 999999.0)\n",
      "Reduced glutathione exchange -> (0.0, 999999.0)\n",
      "Allantoin exchange -> (0.0, 999999.0)\n",
      "Allantoate exchange -> (0.0, 999999.0)\n",
      "S Adenosyl L methionine exchange -> (0.0, 999999.0)\n",
      "D Arabinose exchange -> (0.0, 999999.0)\n",
      "L-Arabinose exchange -> (0.0, 999999.0)\n",
      "Guanine exchange -> (0.0, 999999.0)\n",
      "L-Arginine exchange -> (0.0, 999999.0)\n",
      "H2O exchange -> (-999999.0, 999999.0)\n",
      "H+ exchange -> (-999999.0, 999999.0)\n",
      "Hexadecanoate (n-C16:0) exchange -> (0.0, 999999.0)\n",
      "Hexadecenoate (n-C16:1) exchange -> (0.0, 999999.0)\n",
      "L-Asparagine exchange -> (0.0, 999999.0)\n",
      "L-Aspartate exchange -> (0.0, 999999.0)\n",
      " R R  2 3 Butanediol exchange -> (0.0, 999999.0)\n",
      "Biotin exchange -> (0.0, 999999.0)\n",
      "Hexacosanoate  n C260  exchange -> (0.0, 999999.0)\n",
      "L-Histidine exchange -> (0.0, 999999.0)\n",
      "Hypoxanthine exchange -> (0.0, 999999.0)\n",
      "Isoamyl acetate exchange -> (0.0, 999999.0)\n",
      "Isoamyl alcohol exchange -> (0.0, 999999.0)\n",
      "Isobutyl acetate exchange -> (0.0, 999999.0)\n",
      "Choline exchange -> (0.0, 999999.0)\n",
      "Citrate exchange -> (0.0, 999999.0)\n",
      "CO2 exchange -> (0.0, 999999.0)\n",
      "L-Carnitine exchange -> (0.0, 999999.0)\n",
      "Cytosine exchange -> (0.0, 999999.0)\n",
      "L-Cysteine exchange -> (0.0, 999999.0)\n",
      "Cytidine exchange -> (0.0, 999999.0)\n",
      "Deoxyadenosine exchange -> (0.0, 999999.0)\n",
      "7 8 Diaminononanoate exchange -> (0.0, 999999.0)\n",
      "Isobutyl alcohol exchange -> (0.0, 999999.0)\n",
      "Indole 3 acetaldehyde exchange -> (0.0, 999999.0)\n",
      "L-Isoleucine exchange -> (0.0, 999999.0)\n",
      "Indole 3 ethanol exchange -> (0.0, 999999.0)\n",
      "Myo-Inositol exchange -> (0.0, 999999.0)\n",
      "Decanoate (n-C10:0) exchange -> (0.0, 999999.0)\n",
      "Deoxycytidine exchange -> (0.0, 999999.0)\n",
      "Dodecanoate (n-C12:0) exchange -> (0.0, 999999.0)\n",
      "Inosine exchange -> (0.0, 999999.0)\n",
      "K+ exchange -> (-999999.0, 999999.0)\n",
      "Deoxyguanosine exchange -> (0.0, 999999.0)\n",
      "Deoxyinosine exchange -> (0.0, 999999.0)\n",
      "D-lactate exchange -> (0.0, 999999.0)\n",
      "L-Lactate exchange -> (0.0, 999999.0)\n",
      "Lanosterol exchange -> (0.0, 999999.0)\n",
      "Lanosterol ester  yeast specific exchange -> (0.0, 999999.0)\n",
      "DTTP exchange -> (0.0, 999999.0)\n",
      "Deoxyuridine exchange -> (0.0, 999999.0)\n",
      "L-Leucine exchange -> (0.0, 999999.0)\n",
      "L-Lysine exchange -> (0.0, 999999.0)\n",
      "L-Malate exchange -> (0.0, 999999.0)\n",
      "Maltose exchange -> (0.0, 999999.0)\n",
      "Riboflavin exchange -> (0.0, 999999.0)\n",
      "D-Sorbitol exchange -> (0.0, 999999.0)\n",
      "D-Mannose exchange -> (0.0, 999999.0)\n",
      "Melibiose exchange -> (0.0, 999999.0)\n",
      "L-Methionine exchange -> (0.0, 999999.0)\n",
      "S-Methyl-L-methionine exchange -> (0.0, 999999.0)\n",
      "Sodium exchange -> (-999999.0, 999999.0)\n",
      "Nicotinate exchange -> (0.0, 999999.0)\n",
      "L Sorbitol exchange -> (0.0, 999999.0)\n",
      "L-Serine exchange -> (0.0, 999999.0)\n",
      "Sulfite exchange -> (0.0, 999999.0)\n",
      "Sulfate exchange -> (-999999.0, 999999.0)\n",
      "Spermidine exchange -> (0.0, 999999.0)\n",
      "Spermine exchange -> (0.0, 999999.0)\n",
      "L Sorbose exchange -> (0.0, 999999.0)\n",
      "Succinate exchange -> (0.0, 999999.0)\n",
      "Nicotinamide adenine dinucleotide phosphate exchange -> (0.0, 999999.0)\n",
      "Ammonia exchange -> (-999999.0, 999999.0)\n",
      "NMN exchange -> (0.0, 999999.0)\n",
      "Sucrose exchange -> (0.0, 999999.0)\n",
      "O2 exchange -> (-2.0, 999999.0)\n",
      "Taurine exchange -> (0.0, 999999.0)\n",
      "Thiamin exchange -> (0.0, 999999.0)\n",
      "Oxaloacetate exchange -> (0.0, 999999.0)\n",
      "Octadecanoate (n-C18:0) exchange -> (0.0, 999999.0)\n",
      "Octadecenoate (n-C18:1) exchange -> (0.0, 999999.0)\n",
      "Octadecynoate  n C182  exchange -> (0.0, 999999.0)\n",
      "Ornithine exchange -> (0.0, 999999.0)\n",
      "Thiamin monophosphate exchange -> (0.0, 999999.0)\n",
      "Thiamine diphosphate exchange -> (0.0, 999999.0)\n",
      "L-Threonine exchange -> (0.0, 999999.0)\n",
      "Thymine exchange -> (0.0, 999999.0)\n",
      "Phenylacetaldehyde exchange -> (0.0, 999999.0)\n",
      "Adenosine 3  5  bisphosphate exchange -> (0.0, 999999.0)\n",
      "Thymidine exchange -> (0.0, 999999.0)\n",
      "Trehalose exchange -> (0.0, 999999.0)\n",
      "L-Tryptophan exchange -> (0.0, 999999.0)\n",
      "Phosphatidylcholine  yeast specific exchange -> (0.0, 999999.0)\n",
      "Pectin exchange -> (0.0, 999999.0)\n",
      "Peptide exchange -> (0.0, 999999.0)\n",
      "L-Phenylalanine exchange -> (0.0, 999999.0)\n",
      "Phenethyl acetate exchange -> (0.0, 999999.0)\n",
      "Phosphate exchange -> (-999999.0, 999999.0)\n",
      "(R)-Pantothenate exchange -> (0.0, 999999.0)\n",
      "Tetradecanoate (n-C14:0) exchange -> (0.0, 999999.0)\n",
      "L-Tyrosine exchange -> (0.0, 999999.0)\n",
      "Uracil exchange -> (0.0, 999999.0)\n",
      "Urea exchange -> (0.0, 999999.0)\n",
      "Uridine exchange -> (0.0, 999999.0)\n",
      "L-Valine exchange -> (0.0, 999999.0)\n",
      "Xanthine exchange -> (0.0, 999999.0)\n",
      "Xanthosine exchange -> (0.0, 999999.0)\n",
      "L-Proline exchange -> (0.0, 999999.0)\n",
      "Phosphatidyl 1D myo inositol  yeast specific exchange -> (0.0, 999999.0)\n",
      "Putrescine exchange -> (0.0, 999999.0)\n",
      "Pyruvate exchange -> (0.0, 999999.0)\n",
      "D-Xylose exchange -> (0.0, 999999.0)\n",
      "Xylitol exchange -> (0.0, 999999.0)\n",
      "D-Ribose exchange -> (0.0, 999999.0)\n",
      "Zymosterol exchange -> (0.0, 999999.0)\n",
      "Zymosterol ester  yeast specific exchange -> (0.0, 999999.0)\n"
     ]
    }
   ],
   "source": [
    "#check model exchanges\n",
    "for exchange in model.exchanges:\n",
    "    print(exchange.name, '->', exchange.bounds)"
   ]
  },
  {
   "cell_type": "code",
   "execution_count": 3,
   "id": "focal-terrain",
   "metadata": {
    "scrolled": true
   },
   "outputs": [
    {
     "data": {
      "text/html": [
       "\n",
       "        <table>\n",
       "            <tr>\n",
       "                <td><strong>Reaction identifier</strong></td><td>EX_o2_e</td>\n",
       "            </tr><tr>\n",
       "                <td><strong>Name</strong></td><td>O2 exchange</td>\n",
       "            </tr><tr>\n",
       "                <td><strong>Memory address</strong></td>\n",
       "                <td>0x25d2e9a4e88</td>\n",
       "            </tr><tr>\n",
       "                <td><strong>Stoichiometry</strong></td>\n",
       "                <td>\n",
       "                    <p style='text-align:right'>o2_e <=></p>\n",
       "                    <p style='text-align:right'>O2 O2 <=></p>\n",
       "                </td>\n",
       "            </tr><tr>\n",
       "                <td><strong>GPR</strong></td><td></td>\n",
       "            </tr><tr>\n",
       "                <td><strong>Lower bound</strong></td><td>-2.0</td>\n",
       "            </tr><tr>\n",
       "                <td><strong>Upper bound</strong></td><td>999999.0</td>\n",
       "            </tr>\n",
       "        </table>\n",
       "        "
      ],
      "text/plain": [
       "<Reaction EX_o2_e at 0x25d2e9a4e88>"
      ]
     },
     "execution_count": 3,
     "metadata": {},
     "output_type": "execute_result"
    }
   ],
   "source": [
    "model.exchanges.EX_o2_e"
   ]
  },
  {
   "cell_type": "code",
   "execution_count": 4,
   "id": "initial-fundamentals",
   "metadata": {
    "pycharm": {
     "name": "#%%\n"
    },
    "scrolled": false
   },
   "outputs": [
    {
     "data": {
      "text/html": [
       "<h3>Objective</h3><p>1.0 BIOMASS_SC5_notrace = 0.28786570370401643</p><h4>Uptake</h4><table border=\"1\" class=\"dataframe\">\n",
       "  <thead>\n",
       "    <tr style=\"text-align: right;\">\n",
       "      <th>Metabolite</th>\n",
       "      <th>Reaction</th>\n",
       "      <th>Flux</th>\n",
       "      <th>C-Number</th>\n",
       "      <th>C-Flux</th>\n",
       "    </tr>\n",
       "  </thead>\n",
       "  <tbody>\n",
       "    <tr>\n",
       "      <td>glc__D_e</td>\n",
       "      <td>EX_glc__D_e</td>\n",
       "      <td>10</td>\n",
       "      <td>6</td>\n",
       "      <td>100.00%</td>\n",
       "    </tr>\n",
       "    <tr>\n",
       "      <td>nh4_e</td>\n",
       "      <td>EX_nh4_e</td>\n",
       "      <td>1.611</td>\n",
       "      <td>0</td>\n",
       "      <td>0.00%</td>\n",
       "    </tr>\n",
       "    <tr>\n",
       "      <td>o2_e</td>\n",
       "      <td>EX_o2_e</td>\n",
       "      <td>2</td>\n",
       "      <td>0</td>\n",
       "      <td>0.00%</td>\n",
       "    </tr>\n",
       "    <tr>\n",
       "      <td>pi_e</td>\n",
       "      <td>EX_pi_e</td>\n",
       "      <td>0.05691</td>\n",
       "      <td>0</td>\n",
       "      <td>0.00%</td>\n",
       "    </tr>\n",
       "    <tr>\n",
       "      <td>so4_e</td>\n",
       "      <td>EX_so4_e</td>\n",
       "      <td>0.02225</td>\n",
       "      <td>0</td>\n",
       "      <td>0.00%</td>\n",
       "    </tr>\n",
       "  </tbody>\n",
       "</table><h4>Secretion</h4><table border=\"1\" class=\"dataframe\">\n",
       "  <thead>\n",
       "    <tr style=\"text-align: right;\">\n",
       "      <th>Metabolite</th>\n",
       "      <th>Reaction</th>\n",
       "      <th>Flux</th>\n",
       "      <th>C-Number</th>\n",
       "      <th>C-Flux</th>\n",
       "    </tr>\n",
       "  </thead>\n",
       "  <tbody>\n",
       "    <tr>\n",
       "      <td>co2_e</td>\n",
       "      <td>EX_co2_e</td>\n",
       "      <td>-18.02</td>\n",
       "      <td>1</td>\n",
       "      <td>36.29%</td>\n",
       "    </tr>\n",
       "    <tr>\n",
       "      <td>etoh_e</td>\n",
       "      <td>EX_etoh_e</td>\n",
       "      <td>-15.82</td>\n",
       "      <td>2</td>\n",
       "      <td>63.70%</td>\n",
       "    </tr>\n",
       "    <tr>\n",
       "      <td>for_e</td>\n",
       "      <td>EX_for_e</td>\n",
       "      <td>-0.001488</td>\n",
       "      <td>1</td>\n",
       "      <td>0.00%</td>\n",
       "    </tr>\n",
       "    <tr>\n",
       "      <td>h2o_e</td>\n",
       "      <td>EX_h2o_e</td>\n",
       "      <td>-5.64</td>\n",
       "      <td>0</td>\n",
       "      <td>0.00%</td>\n",
       "    </tr>\n",
       "    <tr>\n",
       "      <td>h_e</td>\n",
       "      <td>EX_h_e</td>\n",
       "      <td>-1.45</td>\n",
       "      <td>0</td>\n",
       "      <td>0.00%</td>\n",
       "    </tr>\n",
       "  </tbody>\n",
       "</table>"
      ],
      "text/plain": [
       "<cobra.summary.model_summary.ModelSummary at 0x25d2ff54408>"
      ]
     },
     "execution_count": 4,
     "metadata": {},
     "output_type": "execute_result"
    }
   ],
   "source": [
    "#performing pfba simulation\n",
    "pfba_solution = cobra.flux_analysis.pfba(model)\n",
    "model.summary(pfba_solution)"
   ]
  },
  {
   "cell_type": "markdown",
   "id": "structural-posting",
   "metadata": {},
   "source": [
    "### Setting up anaerobiosis"
   ]
  },
  {
   "cell_type": "code",
   "execution_count": 5,
   "id": "other-woman",
   "metadata": {},
   "outputs": [],
   "source": [
    "# setting the environmental conditions to replicate an anaerobic medium\n",
    "aneorobic_conditions = {'EX_ergstest_SC_e': (-2, 1000), \n",
    "                        'EX_pro__L_e': (-2, 1000), \n",
    "                        'EX_ptd1ino_SC_e':(-2, 1000), \n",
    "                        'EX_zymst_e': (-2, 1000),\n",
    "                        'EX_o2_e': (0, 1000)}\n",
    "\n",
    "for exchange_id, bds in aneorobic_conditions.items():\n",
    "    model.exchanges.get_by_id(exchange_id).bounds = bds"
   ]
  },
  {
   "cell_type": "markdown",
   "id": "inappropriate-graduation",
   "metadata": {
    "pycharm": {
     "name": "#%% md\n"
    }
   },
   "source": [
    "### pFBA - Anaerobiosis"
   ]
  },
  {
   "cell_type": "code",
   "execution_count": 6,
   "id": "selected-sugar",
   "metadata": {},
   "outputs": [
    {
     "data": {
      "text/html": [
       "<h3>Objective</h3><p>1.0 BIOMASS_SC5_notrace = 0.215240305038561</p><h4>Uptake</h4><table border=\"1\" class=\"dataframe\">\n",
       "  <thead>\n",
       "    <tr style=\"text-align: right;\">\n",
       "      <th>Metabolite</th>\n",
       "      <th>Reaction</th>\n",
       "      <th>Flux</th>\n",
       "      <th>C-Number</th>\n",
       "      <th>C-Flux</th>\n",
       "    </tr>\n",
       "  </thead>\n",
       "  <tbody>\n",
       "    <tr>\n",
       "      <td>ergstest_SC_e</td>\n",
       "      <td>EX_ergstest_SC_e</td>\n",
       "      <td>0.0001507</td>\n",
       "      <td>1695</td>\n",
       "      <td>0.42%</td>\n",
       "    </tr>\n",
       "    <tr>\n",
       "      <td>glc__D_e</td>\n",
       "      <td>EX_glc__D_e</td>\n",
       "      <td>10</td>\n",
       "      <td>6</td>\n",
       "      <td>98.08%</td>\n",
       "    </tr>\n",
       "    <tr>\n",
       "      <td>nh4_e</td>\n",
       "      <td>EX_nh4_e</td>\n",
       "      <td>1.073</td>\n",
       "      <td>0</td>\n",
       "      <td>0.00%</td>\n",
       "    </tr>\n",
       "    <tr>\n",
       "      <td>pi_e</td>\n",
       "      <td>EX_pi_e</td>\n",
       "      <td>0.04255</td>\n",
       "      <td>0</td>\n",
       "      <td>0.00%</td>\n",
       "    </tr>\n",
       "    <tr>\n",
       "      <td>pro__L_e</td>\n",
       "      <td>EX_pro__L_e</td>\n",
       "      <td>0.1316</td>\n",
       "      <td>5</td>\n",
       "      <td>1.08%</td>\n",
       "    </tr>\n",
       "    <tr>\n",
       "      <td>ptd1ino_SC_e</td>\n",
       "      <td>EX_ptd1ino_SC_e</td>\n",
       "      <td>6.027E-05</td>\n",
       "      <td>4140</td>\n",
       "      <td>0.41%</td>\n",
       "    </tr>\n",
       "    <tr>\n",
       "      <td>so4_e</td>\n",
       "      <td>EX_so4_e</td>\n",
       "      <td>0.01664</td>\n",
       "      <td>0</td>\n",
       "      <td>0.00%</td>\n",
       "    </tr>\n",
       "    <tr>\n",
       "      <td>zymst_e</td>\n",
       "      <td>EX_zymst_e</td>\n",
       "      <td>0.0003229</td>\n",
       "      <td>27</td>\n",
       "      <td>0.01%</td>\n",
       "    </tr>\n",
       "  </tbody>\n",
       "</table><h4>Secretion</h4><table border=\"1\" class=\"dataframe\">\n",
       "  <thead>\n",
       "    <tr style=\"text-align: right;\">\n",
       "      <th>Metabolite</th>\n",
       "      <th>Reaction</th>\n",
       "      <th>Flux</th>\n",
       "      <th>C-Number</th>\n",
       "      <th>C-Flux</th>\n",
       "    </tr>\n",
       "  </thead>\n",
       "  <tbody>\n",
       "    <tr>\n",
       "      <td>co2_e</td>\n",
       "      <td>EX_co2_e</td>\n",
       "      <td>-16.79</td>\n",
       "      <td>1</td>\n",
       "      <td>31.42%</td>\n",
       "    </tr>\n",
       "    <tr>\n",
       "      <td>dca_e</td>\n",
       "      <td>EX_dca_e</td>\n",
       "      <td>-0.0002411</td>\n",
       "      <td>10</td>\n",
       "      <td>0.00%</td>\n",
       "    </tr>\n",
       "    <tr>\n",
       "      <td>ddca_e</td>\n",
       "      <td>EX_ddca_e</td>\n",
       "      <td>-0.0007232</td>\n",
       "      <td>12</td>\n",
       "      <td>0.02%</td>\n",
       "    </tr>\n",
       "    <tr>\n",
       "      <td>etoh_e</td>\n",
       "      <td>EX_etoh_e</td>\n",
       "      <td>-17.06</td>\n",
       "      <td>2</td>\n",
       "      <td>63.85%</td>\n",
       "    </tr>\n",
       "    <tr>\n",
       "      <td>g3pi_e</td>\n",
       "      <td>EX_g3pi_e</td>\n",
       "      <td>-0.006027</td>\n",
       "      <td>9</td>\n",
       "      <td>0.10%</td>\n",
       "    </tr>\n",
       "    <tr>\n",
       "      <td>h2o_e</td>\n",
       "      <td>EX_h2o_e</td>\n",
       "      <td>-2.55</td>\n",
       "      <td>0</td>\n",
       "      <td>0.00%</td>\n",
       "    </tr>\n",
       "    <tr>\n",
       "      <td>h_e</td>\n",
       "      <td>EX_h_e</td>\n",
       "      <td>-2.071</td>\n",
       "      <td>0</td>\n",
       "      <td>0.00%</td>\n",
       "    </tr>\n",
       "    <tr>\n",
       "      <td>hdca_e</td>\n",
       "      <td>EX_hdca_e</td>\n",
       "      <td>-0.0003013</td>\n",
       "      <td>16</td>\n",
       "      <td>0.01%</td>\n",
       "    </tr>\n",
       "    <tr>\n",
       "      <td>hdcea_e</td>\n",
       "      <td>EX_hdcea_e</td>\n",
       "      <td>-0.009869</td>\n",
       "      <td>16</td>\n",
       "      <td>0.30%</td>\n",
       "    </tr>\n",
       "    <tr>\n",
       "      <td>hexc_e</td>\n",
       "      <td>EX_hexc_e</td>\n",
       "      <td>-0.0001507</td>\n",
       "      <td>26</td>\n",
       "      <td>0.01%</td>\n",
       "    </tr>\n",
       "    <tr>\n",
       "      <td>ocdca_e</td>\n",
       "      <td>EX_ocdca_e</td>\n",
       "      <td>-0.000452</td>\n",
       "      <td>18</td>\n",
       "      <td>0.02%</td>\n",
       "    </tr>\n",
       "    <tr>\n",
       "      <td>ocdcea_e</td>\n",
       "      <td>EX_ocdcea_e</td>\n",
       "      <td>-0.004068</td>\n",
       "      <td>18</td>\n",
       "      <td>0.14%</td>\n",
       "    </tr>\n",
       "    <tr>\n",
       "      <td>succ_e</td>\n",
       "      <td>EX_succ_e</td>\n",
       "      <td>-0.5522</td>\n",
       "      <td>4</td>\n",
       "      <td>4.13%</td>\n",
       "    </tr>\n",
       "    <tr>\n",
       "      <td>ttdca_e</td>\n",
       "      <td>EX_ttdca_e</td>\n",
       "      <td>-0.000226</td>\n",
       "      <td>14</td>\n",
       "      <td>0.01%</td>\n",
       "    </tr>\n",
       "  </tbody>\n",
       "</table>"
      ],
      "text/plain": [
       "<cobra.summary.model_summary.ModelSummary at 0x25d2ff6ef08>"
      ]
     },
     "execution_count": 6,
     "metadata": {},
     "output_type": "execute_result"
    }
   ],
   "source": [
    "#performing pfba simulation\n",
    "pfba_solution = cobra.flux_analysis.pfba(model)\n",
    "model.summary(pfba_solution)"
   ]
  },
  {
   "cell_type": "markdown",
   "id": "metallic-fruit",
   "metadata": {},
   "source": [
    "### Flux Variability Analysis (FVA)"
   ]
  },
  {
   "cell_type": "code",
   "execution_count": 7,
   "id": "nasty-current",
   "metadata": {},
   "outputs": [
    {
     "data": {
      "text/html": [
       "<div>\n",
       "<style scoped>\n",
       "    .dataframe tbody tr th:only-of-type {\n",
       "        vertical-align: middle;\n",
       "    }\n",
       "\n",
       "    .dataframe tbody tr th {\n",
       "        vertical-align: top;\n",
       "    }\n",
       "\n",
       "    .dataframe thead th {\n",
       "        text-align: right;\n",
       "    }\n",
       "</style>\n",
       "<table border=\"1\" class=\"dataframe\">\n",
       "  <thead>\n",
       "    <tr style=\"text-align: right;\">\n",
       "      <th></th>\n",
       "      <th>minimum</th>\n",
       "      <th>maximum</th>\n",
       "    </tr>\n",
       "  </thead>\n",
       "  <tbody>\n",
       "    <tr>\n",
       "      <th>CITtcp</th>\n",
       "      <td>0.000000</td>\n",
       "      <td>0.000000</td>\n",
       "    </tr>\n",
       "    <tr>\n",
       "      <th>13BGH</th>\n",
       "      <td>0.000000</td>\n",
       "      <td>8.550000</td>\n",
       "    </tr>\n",
       "    <tr>\n",
       "      <th>13BGHe</th>\n",
       "      <td>0.000000</td>\n",
       "      <td>0.000000</td>\n",
       "    </tr>\n",
       "    <tr>\n",
       "      <th>13GS</th>\n",
       "      <td>0.024425</td>\n",
       "      <td>8.574425</td>\n",
       "    </tr>\n",
       "    <tr>\n",
       "      <th>16GS</th>\n",
       "      <td>0.000000</td>\n",
       "      <td>0.000000</td>\n",
       "    </tr>\n",
       "    <tr>\n",
       "      <th>...</th>\n",
       "      <td>...</td>\n",
       "      <td>...</td>\n",
       "    </tr>\n",
       "    <tr>\n",
       "      <th>PYDXO</th>\n",
       "      <td>0.000000</td>\n",
       "      <td>0.000000</td>\n",
       "    </tr>\n",
       "    <tr>\n",
       "      <th>PYK</th>\n",
       "      <td>2.749686</td>\n",
       "      <td>36.949750</td>\n",
       "    </tr>\n",
       "    <tr>\n",
       "      <th>PYNP2r</th>\n",
       "      <td>-8.550000</td>\n",
       "      <td>8.550000</td>\n",
       "    </tr>\n",
       "    <tr>\n",
       "      <th>PYR5CDm</th>\n",
       "      <td>0.000000</td>\n",
       "      <td>4.807041</td>\n",
       "    </tr>\n",
       "    <tr>\n",
       "      <th>PYRDC</th>\n",
       "      <td>0.000000</td>\n",
       "      <td>19.779511</td>\n",
       "    </tr>\n",
       "  </tbody>\n",
       "</table>\n",
       "<p>1577 rows × 2 columns</p>\n",
       "</div>"
      ],
      "text/plain": [
       "          minimum    maximum\n",
       "CITtcp   0.000000   0.000000\n",
       "13BGH    0.000000   8.550000\n",
       "13BGHe   0.000000   0.000000\n",
       "13GS     0.024425   8.574425\n",
       "16GS     0.000000   0.000000\n",
       "...           ...        ...\n",
       "PYDXO    0.000000   0.000000\n",
       "PYK      2.749686  36.949750\n",
       "PYNP2r  -8.550000   8.550000\n",
       "PYR5CDm  0.000000   4.807041\n",
       "PYRDC    0.000000  19.779511\n",
       "\n",
       "[1577 rows x 2 columns]"
      ]
     },
     "execution_count": 7,
     "metadata": {},
     "output_type": "execute_result"
    }
   ],
   "source": [
    "#performing fva simulation\n",
    "fva_solution = cobra.flux_analysis.flux_variability_analysis(model, fraction_of_optimum=0.1)\n",
    "fva_solution"
   ]
  },
  {
   "cell_type": "code",
   "execution_count": 8,
   "id": "governing-chinese",
   "metadata": {
    "scrolled": true
   },
   "outputs": [
    {
     "name": "stdout",
     "output_type": "stream",
     "text": [
      "Theoretical production rate interval for Ethanol: 0.0 to 21.092216193102136 mmol/gDW/h\n",
      "Theoretical production rate interval for Carbon Dioxide: 0.0 to 23.163365984192872 mmol/gDW/h\n"
     ]
    }
   ],
   "source": [
    "# maximum theoretical production rates of Ethanol (EX_eth_e), Carbon dioxide (EX_co2_e)\n",
    "\n",
    "print(f'Theoretical production rate interval for Ethanol:', fva_solution.loc['EX_etoh_e', 'minimum'], 'to', fva_solution.loc['EX_etoh_e', 'maximum'], 'mmol/gDW/h')\n",
    "print(f'Theoretical production rate interval for Carbon Dioxide:', fva_solution.loc['EX_co2_e', 'minimum'], 'to', fva_solution.loc['EX_co2_e', 'maximum'], 'mmol/gDW/h')"
   ]
  },
  {
   "cell_type": "markdown",
   "id": "fifteen-paint",
   "metadata": {},
   "source": [
    "### Simulating Deletions"
   ]
  },
  {
   "cell_type": "markdown",
   "id": "realistic-steps",
   "metadata": {},
   "source": [
    "#### Knock outs"
   ]
  },
  {
   "cell_type": "code",
   "execution_count": 9,
   "id": "dirty-migration",
   "metadata": {},
   "outputs": [
    {
     "data": {
      "text/html": [
       "\n",
       "        <table>\n",
       "            <tr>\n",
       "                <td><strong>Gene identifier</strong></td><td>YPL262W</td>\n",
       "            </tr><tr>\n",
       "                <td><strong>Name</strong></td><td>FUM1</td>\n",
       "            </tr><tr>\n",
       "                <td><strong>Memory address</strong></td>\n",
       "                <td>0x25d2e365d48</td>\n",
       "            </tr><tr>\n",
       "                <td><strong>Functional</strong></td><td>True</td>\n",
       "            </tr><tr>\n",
       "                <td><strong>In 2 reaction(s)</strong></td><td>\n",
       "                    FUMm, FUM\n",
       "                    </td>\n",
       "            </tr>\n",
       "        </table>"
      ],
      "text/plain": [
       "<Gene YPL262W at 0x25d2e365d48>"
      ]
     },
     "execution_count": 9,
     "metadata": {},
     "output_type": "execute_result"
    }
   ],
   "source": [
    "model.genes.YPL262W"
   ]
  },
  {
   "cell_type": "code",
   "execution_count": 10,
   "id": "extraordinary-friday",
   "metadata": {
    "scrolled": true
   },
   "outputs": [
    {
     "data": {
      "text/html": [
       "\n",
       "        <table>\n",
       "            <tr>\n",
       "                <td><strong>Reaction identifier</strong></td><td>FUM</td>\n",
       "            </tr><tr>\n",
       "                <td><strong>Name</strong></td><td>Fumarase</td>\n",
       "            </tr><tr>\n",
       "                <td><strong>Memory address</strong></td>\n",
       "                <td>0x25d2fede9c8</td>\n",
       "            </tr><tr>\n",
       "                <td><strong>Stoichiometry</strong></td>\n",
       "                <td>\n",
       "                    <p style='text-align:right'>fum_c + h2o_c <=> mal__L_c</p>\n",
       "                    <p style='text-align:right'>Fumarate + H2O H2O <=> L-Malate</p>\n",
       "                </td>\n",
       "            </tr><tr>\n",
       "                <td><strong>GPR</strong></td><td>YPL262W</td>\n",
       "            </tr><tr>\n",
       "                <td><strong>Lower bound</strong></td><td>-999999.0</td>\n",
       "            </tr><tr>\n",
       "                <td><strong>Upper bound</strong></td><td>999999.0</td>\n",
       "            </tr>\n",
       "        </table>\n",
       "        "
      ],
      "text/plain": [
       "<Reaction FUM at 0x25d2fede9c8>"
      ]
     },
     "execution_count": 10,
     "metadata": {},
     "output_type": "execute_result"
    }
   ],
   "source": [
    "model.reactions.FUM"
   ]
  },
  {
   "cell_type": "code",
   "execution_count": 11,
   "id": "normal-rebound",
   "metadata": {},
   "outputs": [
    {
     "data": {
      "text/html": [
       "\n",
       "        <table>\n",
       "            <tr>\n",
       "                <td><strong>Reaction identifier</strong></td><td>FUMm</td>\n",
       "            </tr><tr>\n",
       "                <td><strong>Name</strong></td><td>Fumarase mitochondrial</td>\n",
       "            </tr><tr>\n",
       "                <td><strong>Memory address</strong></td>\n",
       "                <td>0x25d2ff18a88</td>\n",
       "            </tr><tr>\n",
       "                <td><strong>Stoichiometry</strong></td>\n",
       "                <td>\n",
       "                    <p style='text-align:right'>fum_m + h2o_m <=> mal__L_m</p>\n",
       "                    <p style='text-align:right'>Fumarate + H2O H2O <=> L-Malate</p>\n",
       "                </td>\n",
       "            </tr><tr>\n",
       "                <td><strong>GPR</strong></td><td>YPL262W</td>\n",
       "            </tr><tr>\n",
       "                <td><strong>Lower bound</strong></td><td>-999999.0</td>\n",
       "            </tr><tr>\n",
       "                <td><strong>Upper bound</strong></td><td>999999.0</td>\n",
       "            </tr>\n",
       "        </table>\n",
       "        "
      ],
      "text/plain": [
       "<Reaction FUMm at 0x25d2ff18a88>"
      ]
     },
     "execution_count": 11,
     "metadata": {},
     "output_type": "execute_result"
    }
   ],
   "source": [
    "model.reactions.FUMm"
   ]
  },
  {
   "cell_type": "code",
   "execution_count": 12,
   "id": "indirect-stable",
   "metadata": {},
   "outputs": [
    {
     "name": "stdout",
     "output_type": "stream",
     "text": [
      "FUM1 mutant growth rate:  0.21347511876332417\n",
      "Ethanol production rate:  17.62964664175147\n"
     ]
    }
   ],
   "source": [
    "#knock out the YPL262W (FUM1) gene associated with FUM and FUMm reactions\n",
    "with model:\n",
    "    model.genes.YPL262W.knock_out()\n",
    "    pfba_solution = cobra.flux_analysis.pfba(model)\n",
    "    print('FUM1 mutant growth rate: ', pfba_solution.fluxes['BIOMASS_SC5_notrace'])\n",
    "    print('Ethanol production rate: ', pfba_solution.fluxes['EX_etoh_e'])"
   ]
  },
  {
   "cell_type": "code",
   "execution_count": 13,
   "id": "gross-tracy",
   "metadata": {},
   "outputs": [
    {
     "name": "stdout",
     "output_type": "stream",
     "text": [
      "Downloading Map from https://escher.github.io/1-0-0/6/maps/Saccharomyces%20cerevisiae/iMM904.Central%20carbon%20metabolism.json\n"
     ]
    },
    {
     "data": {
      "application/vnd.jupyter.widget-view+json": {
       "model_id": "b49efa5bbdb9464baa40964b9c135da3",
       "version_major": 2,
       "version_minor": 0
      },
      "text/plain": [
       "Builder(reaction_data={'CITtcp': 0.0, '13BGH': 0.0, '13BGHe': 0.0, '13GS': 0.24225156477262028, '16GS': 0.0, '…"
      ]
     },
     "metadata": {},
     "output_type": "display_data"
    }
   ],
   "source": [
    "import escher\n",
    "builder = escher.Builder(map_name='iMM904.Central carbon metabolism', model=model, reaction_data=pfba_solution.fluxes)\n",
    "builder"
   ]
  },
  {
   "cell_type": "markdown",
   "id": "muslim-galaxy",
   "metadata": {
    "pycharm": {
     "name": "#%% md\n"
    }
   },
   "source": [
    "#### Single Deletions"
   ]
  },
  {
   "cell_type": "code",
   "execution_count": 14,
   "id": "tamil-campaign",
   "metadata": {
    "pycharm": {
     "name": "#%%\n"
    }
   },
   "outputs": [
    {
     "data": {
      "text/html": [
       "<div>\n",
       "<style scoped>\n",
       "    .dataframe tbody tr th:only-of-type {\n",
       "        vertical-align: middle;\n",
       "    }\n",
       "\n",
       "    .dataframe tbody tr th {\n",
       "        vertical-align: top;\n",
       "    }\n",
       "\n",
       "    .dataframe thead th {\n",
       "        text-align: right;\n",
       "    }\n",
       "</style>\n",
       "<table border=\"1\" class=\"dataframe\">\n",
       "  <thead>\n",
       "    <tr style=\"text-align: right;\">\n",
       "      <th></th>\n",
       "      <th>ids</th>\n",
       "      <th>growth</th>\n",
       "      <th>status</th>\n",
       "    </tr>\n",
       "  </thead>\n",
       "  <tbody>\n",
       "    <tr>\n",
       "      <th>0</th>\n",
       "      <td>{FRDPtm}</td>\n",
       "      <td>2.152403e-01</td>\n",
       "      <td>optimal</td>\n",
       "    </tr>\n",
       "    <tr>\n",
       "      <th>1</th>\n",
       "      <td>{FBP}</td>\n",
       "      <td>2.152403e-01</td>\n",
       "      <td>optimal</td>\n",
       "    </tr>\n",
       "    <tr>\n",
       "      <th>2</th>\n",
       "      <td>{OHACT3}</td>\n",
       "      <td>2.152403e-01</td>\n",
       "      <td>optimal</td>\n",
       "    </tr>\n",
       "    <tr>\n",
       "      <th>3</th>\n",
       "      <td>{MI145PKn}</td>\n",
       "      <td>2.152403e-01</td>\n",
       "      <td>optimal</td>\n",
       "    </tr>\n",
       "    <tr>\n",
       "      <th>4</th>\n",
       "      <td>{FAO240p}</td>\n",
       "      <td>2.152403e-01</td>\n",
       "      <td>optimal</td>\n",
       "    </tr>\n",
       "    <tr>\n",
       "      <th>...</th>\n",
       "      <td>...</td>\n",
       "      <td>...</td>\n",
       "      <td>...</td>\n",
       "    </tr>\n",
       "    <tr>\n",
       "      <th>1572</th>\n",
       "      <td>{ETHAK}</td>\n",
       "      <td>2.152403e-01</td>\n",
       "      <td>optimal</td>\n",
       "    </tr>\n",
       "    <tr>\n",
       "      <th>1573</th>\n",
       "      <td>{SO4ti}</td>\n",
       "      <td>3.012039e-09</td>\n",
       "      <td>optimal</td>\n",
       "    </tr>\n",
       "    <tr>\n",
       "      <th>1574</th>\n",
       "      <td>{ZYMSTt}</td>\n",
       "      <td>0.000000e+00</td>\n",
       "      <td>optimal</td>\n",
       "    </tr>\n",
       "    <tr>\n",
       "      <th>1575</th>\n",
       "      <td>{CPPPGO}</td>\n",
       "      <td>2.152403e-01</td>\n",
       "      <td>optimal</td>\n",
       "    </tr>\n",
       "    <tr>\n",
       "      <th>1576</th>\n",
       "      <td>{EX_ttdca_e}</td>\n",
       "      <td>2.152301e-01</td>\n",
       "      <td>optimal</td>\n",
       "    </tr>\n",
       "  </tbody>\n",
       "</table>\n",
       "<p>1577 rows × 3 columns</p>\n",
       "</div>"
      ],
      "text/plain": [
       "               ids        growth   status\n",
       "0         {FRDPtm}  2.152403e-01  optimal\n",
       "1            {FBP}  2.152403e-01  optimal\n",
       "2         {OHACT3}  2.152403e-01  optimal\n",
       "3       {MI145PKn}  2.152403e-01  optimal\n",
       "4        {FAO240p}  2.152403e-01  optimal\n",
       "...            ...           ...      ...\n",
       "1572       {ETHAK}  2.152403e-01  optimal\n",
       "1573       {SO4ti}  3.012039e-09  optimal\n",
       "1574      {ZYMSTt}  0.000000e+00  optimal\n",
       "1575      {CPPPGO}  2.152403e-01  optimal\n",
       "1576  {EX_ttdca_e}  2.152301e-01  optimal\n",
       "\n",
       "[1577 rows x 3 columns]"
      ]
     },
     "execution_count": 14,
     "metadata": {},
     "output_type": "execute_result"
    }
   ],
   "source": [
    "#single reaction deletion\n",
    "double_reaction_deletion_results = cobra.flux_analysis.single_reaction_deletion(model)\n",
    "double_reaction_deletion_results"
   ]
  },
  {
   "cell_type": "code",
   "execution_count": 15,
   "id": "median-disaster",
   "metadata": {
    "pycharm": {
     "name": "#%%\n"
    }
   },
   "outputs": [
    {
     "data": {
      "text/html": [
       "<div>\n",
       "<style scoped>\n",
       "    .dataframe tbody tr th:only-of-type {\n",
       "        vertical-align: middle;\n",
       "    }\n",
       "\n",
       "    .dataframe tbody tr th {\n",
       "        vertical-align: top;\n",
       "    }\n",
       "\n",
       "    .dataframe thead th {\n",
       "        text-align: right;\n",
       "    }\n",
       "</style>\n",
       "<table border=\"1\" class=\"dataframe\">\n",
       "  <thead>\n",
       "    <tr style=\"text-align: right;\">\n",
       "      <th></th>\n",
       "      <th>ids</th>\n",
       "      <th>growth</th>\n",
       "      <th>status</th>\n",
       "    </tr>\n",
       "  </thead>\n",
       "  <tbody>\n",
       "    <tr>\n",
       "      <th>0</th>\n",
       "      <td>{YCR036W}</td>\n",
       "      <td>0.215240</td>\n",
       "      <td>optimal</td>\n",
       "    </tr>\n",
       "    <tr>\n",
       "      <th>1</th>\n",
       "      <td>{YBR036C}</td>\n",
       "      <td>0.215240</td>\n",
       "      <td>optimal</td>\n",
       "    </tr>\n",
       "    <tr>\n",
       "      <th>2</th>\n",
       "      <td>{YLL028W}</td>\n",
       "      <td>0.215240</td>\n",
       "      <td>optimal</td>\n",
       "    </tr>\n",
       "    <tr>\n",
       "      <th>3</th>\n",
       "      <td>{YKL104C}</td>\n",
       "      <td>0.215240</td>\n",
       "      <td>optimal</td>\n",
       "    </tr>\n",
       "    <tr>\n",
       "      <th>4</th>\n",
       "      <td>{YER070W}</td>\n",
       "      <td>0.215240</td>\n",
       "      <td>optimal</td>\n",
       "    </tr>\n",
       "    <tr>\n",
       "      <th>...</th>\n",
       "      <td>...</td>\n",
       "      <td>...</td>\n",
       "      <td>...</td>\n",
       "    </tr>\n",
       "    <tr>\n",
       "      <th>900</th>\n",
       "      <td>{YCL050C}</td>\n",
       "      <td>0.215101</td>\n",
       "      <td>optimal</td>\n",
       "    </tr>\n",
       "    <tr>\n",
       "      <th>901</th>\n",
       "      <td>{YDR284C}</td>\n",
       "      <td>0.215240</td>\n",
       "      <td>optimal</td>\n",
       "    </tr>\n",
       "    <tr>\n",
       "      <th>902</th>\n",
       "      <td>{Q0085}</td>\n",
       "      <td>0.215240</td>\n",
       "      <td>optimal</td>\n",
       "    </tr>\n",
       "    <tr>\n",
       "      <th>903</th>\n",
       "      <td>{YOR142W}</td>\n",
       "      <td>0.215240</td>\n",
       "      <td>optimal</td>\n",
       "    </tr>\n",
       "    <tr>\n",
       "      <th>904</th>\n",
       "      <td>{YGR020C}</td>\n",
       "      <td>0.215240</td>\n",
       "      <td>optimal</td>\n",
       "    </tr>\n",
       "  </tbody>\n",
       "</table>\n",
       "<p>905 rows × 3 columns</p>\n",
       "</div>"
      ],
      "text/plain": [
       "           ids    growth   status\n",
       "0    {YCR036W}  0.215240  optimal\n",
       "1    {YBR036C}  0.215240  optimal\n",
       "2    {YLL028W}  0.215240  optimal\n",
       "3    {YKL104C}  0.215240  optimal\n",
       "4    {YER070W}  0.215240  optimal\n",
       "..         ...       ...      ...\n",
       "900  {YCL050C}  0.215101  optimal\n",
       "901  {YDR284C}  0.215240  optimal\n",
       "902    {Q0085}  0.215240  optimal\n",
       "903  {YOR142W}  0.215240  optimal\n",
       "904  {YGR020C}  0.215240  optimal\n",
       "\n",
       "[905 rows x 3 columns]"
      ]
     },
     "execution_count": 15,
     "metadata": {},
     "output_type": "execute_result"
    }
   ],
   "source": [
    "#single gene deletion\n",
    "single_gene_deletion_results = cobra.flux_analysis.single_gene_deletion(model)\n",
    "single_gene_deletion_results"
   ]
  },
  {
   "cell_type": "markdown",
   "id": "corrected-palestinian",
   "metadata": {
    "pycharm": {
     "name": "#%% md\n"
    }
   },
   "source": [
    "### Production envelopes"
   ]
  },
  {
   "cell_type": "code",
   "execution_count": 16,
   "id": "supported-curve",
   "metadata": {},
   "outputs": [],
   "source": [
    "# setting the environmental conditions to replicate an aerobic medium again\n",
    "aneorobic_conditions = {'EX_ergstest_SC_e': (0, 1000), \n",
    "                        'EX_pro__L_e': (0, 1000), \n",
    "                        'EX_ptd1ino_SC_e':(0, 1000), \n",
    "                        'EX_zymst_e': (0, 1000),\n",
    "                        'EX_o2_e': (-60, 1000)}\n",
    "\n",
    "for exchange_id, bds in aneorobic_conditions.items():\n",
    "    model.exchanges.get_by_id(exchange_id).bounds = bds"
   ]
  },
  {
   "cell_type": "code",
   "execution_count": 17,
   "id": "addressed-neighborhood",
   "metadata": {
    "pycharm": {
     "name": "#%%\n"
    },
    "scrolled": true
   },
   "outputs": [
    {
     "data": {
      "text/plain": [
       "<matplotlib.axes._subplots.AxesSubplot at 0x25d31776688>"
      ]
     },
     "execution_count": 17,
     "metadata": {},
     "output_type": "execute_result"
    },
    {
     "data": {
      "image/png": "[encoded data removed]",
      "text/plain": [
       "<Figure size 432x288 with 1 Axes>"
      ]
     },
     "metadata": {
      "needs_background": "light"
     },
     "output_type": "display_data"
    }
   ],
   "source": [
    "# Production envolope for Ethanol production as a function of oxygen consumption rate\n",
    "prod_env = cobra.flux_analysis.production_envelope(model, [\"EX_o2_e\"], objective=\"EX_etoh_e\", carbon_sources=\"EX_glc__D_e\")\n",
    "prod_env.plot(kind='line', x='EX_o2_e', y='carbon_yield_maximum')"
   ]
  }
 ],
 "metadata": {
  "kernelspec": {
   "display_name": "Python 3",
   "language": "python",
   "name": "python3"
  },
  "language_info": {
   "codemirror_mode": {
    "name": "ipython",
    "version": 3
   },
   "file_extension": ".py",
   "mimetype": "text/x-python",
   "name": "python",
   "nbconvert_exporter": "python",
   "pygments_lexer": "ipython3",
   "version": "3.7.7"
  }
 },
 "nbformat": 4,
 "nbformat_minor": 5
}
