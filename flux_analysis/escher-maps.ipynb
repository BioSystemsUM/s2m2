{
 "cells": [
  {
   "cell_type": "code",
   "execution_count": 1,
   "metadata": {
    "pycharm": {
     "name": "#%%\n"
    }
   },
   "outputs": [],
   "source": [
    "import cobra\n",
    "import escher"
   ]
  },
  {
   "cell_type": "code",
   "execution_count": 2,
   "metadata": {
    "pycharm": {
     "name": "#%%\n"
    }
   },
   "outputs": [
    {
     "data": {
      "text/plain": "[{'organism': 'Saccharomyces cerevisiae',\n  'map_name': 'iMM904.Central carbon metabolism'},\n {'organism': 'Homo sapiens',\n  'map_name': 'RECON1.Inositol retinol metabolism'},\n {'organism': 'Homo sapiens', 'map_name': 'RECON1.Glycolysis TCA PPP'},\n {'organism': 'Homo sapiens', 'map_name': 'RECON1.Tryptophan metabolism'},\n {'organism': 'Homo sapiens', 'map_name': 'RECON1.Carbohydrate metabolism'},\n {'organism': 'Homo sapiens',\n  'map_name': 'RECON1.Amino acid metabolism (partial)'},\n {'organism': 'Escherichia coli', 'map_name': 'iJO1366.Nucleotide metabolism'},\n {'organism': 'Escherichia coli',\n  'map_name': 'iJO1366.Fatty acid biosynthesis (saturated)'},\n {'organism': 'Escherichia coli',\n  'map_name': 'iJO1366.Nucleotide and histidine biosynthesis'},\n {'organism': 'Escherichia coli', 'map_name': 'e_coli_core.Core metabolism'},\n {'organism': 'Escherichia coli', 'map_name': 'iJO1366.Central metabolism'},\n {'organism': 'Escherichia coli',\n  'map_name': 'iJO1366.Fatty acid beta-oxidation'}]"
     },
     "execution_count": 2,
     "metadata": {},
     "output_type": "execute_result"
    }
   ],
   "source": [
    "escher.list_available_maps()"
   ]
  },
  {
   "cell_type": "code",
   "execution_count": 3,
   "metadata": {
    "pycharm": {
     "name": "#%%\n"
    }
   },
   "outputs": [],
   "source": [
    "model = cobra.io.read_sbml_model('../data/e_coli_core.xml')\n",
    "sol = model.optimize()"
   ]
  },
  {
   "cell_type": "code",
   "execution_count": 4,
   "metadata": {
    "pycharm": {
     "name": "#%%\n"
    }
   },
   "outputs": [
    {
     "name": "stdout",
     "output_type": "stream",
     "text": [
      "Downloading Map from https://escher.github.io/1-0-0/6/maps/Escherichia%20coli/e_coli_core.Core%20metabolism.json\n"
     ]
    },
    {
     "data": {
      "text/plain": "Builder(reaction_data={'PFK': 7.477381962160285, 'PFL': 0.0, 'PGI': 4.860861146496822, 'PGK': -16.023526143167…",
      "application/vnd.jupyter.widget-view+json": {
       "version_major": 2,
       "version_minor": 0,
       "model_id": "aec5e771bc9347c3a2ef997e93515af5"
      }
     },
     "metadata": {},
     "output_type": "display_data"
    }
   ],
   "source": [
    "builder = escher.Builder(map_name='e_coli_core.Core metabolism', model=model, reaction_data=sol.fluxes)\n",
    "builder"
   ]
  },
  {
   "cell_type": "code",
   "execution_count": 5,
   "metadata": {
    "pycharm": {
     "name": "#%%\n"
    }
   },
   "outputs": [],
   "source": [
    "model = cobra.io.read_sbml_model('../data/iJO1366.xml')\n",
    "sol = model.optimize()"
   ]
  },
  {
   "cell_type": "code",
   "execution_count": 6,
   "metadata": {
    "scrolled": true,
    "pycharm": {
     "name": "#%%\n"
    }
   },
   "outputs": [
    {
     "name": "stdout",
     "output_type": "stream",
     "text": [
      "Downloading Map from https://escher.github.io/1-0-0/6/maps/Escherichia%20coli/iJO1366.Central%20metabolism.json\n"
     ]
    },
    {
     "data": {
      "text/plain": "Builder(reaction_data={'EX_cm_e': -0.0, 'EX_cmp_e': 0.0, 'EX_co2_e': 19.675222635663268, 'EX_cobalt2_e': -2.45…",
      "application/vnd.jupyter.widget-view+json": {
       "version_major": 2,
       "version_minor": 0,
       "model_id": "28b7e6de81ee4c5b8e7717f02a6a6f8c"
      }
     },
     "metadata": {},
     "output_type": "display_data"
    }
   ],
   "source": [
    "builder = escher.Builder(map_name='iJO1366.Central metabolism', model=model, reaction_data=sol.fluxes)\n",
    "builder"
   ]
  },
  {
   "cell_type": "code",
   "execution_count": 7,
   "metadata": {
    "pycharm": {
     "name": "#%%\n"
    }
   },
   "outputs": [],
   "source": [
    "model = cobra.io.read_sbml_model('../data/iMM904.xml')\n",
    "sol = model.optimize()"
   ]
  },
  {
   "cell_type": "code",
   "execution_count": 8,
   "metadata": {
    "pycharm": {
     "name": "#%%\n"
    }
   },
   "outputs": [
    {
     "name": "stdout",
     "output_type": "stream",
     "text": [
      "Downloading Map from https://escher.github.io/1-0-0/6/maps/Saccharomyces%20cerevisiae/iMM904.Central%20carbon%20metabolism.json\n"
     ]
    },
    {
     "data": {
      "text/plain": "Builder(reaction_data={'CITtcp': 0.0, '13BGH': 0.0, '13BGHe': 0.0, '13GS': 0.3266700005633168, '16GS': 0.0, '2…",
      "application/vnd.jupyter.widget-view+json": {
       "version_major": 2,
       "version_minor": 0,
       "model_id": "ff8de674aeb54ba0ac5d430d21a24de4"
      }
     },
     "metadata": {},
     "output_type": "display_data"
    }
   ],
   "source": [
    "builder = escher.Builder(map_name='iMM904.Central carbon metabolism', model=model, reaction_data=sol.fluxes)\n",
    "builder"
   ]
  }
 ],
 "metadata": {
  "kernelspec": {
   "display_name": "Python 3",
   "language": "python",
   "name": "python3"
  },
  "language_info": {
   "codemirror_mode": {
    "name": "ipython",
    "version": 3
   },
   "file_extension": ".py",
   "mimetype": "text/x-python",
   "name": "python",
   "nbconvert_exporter": "python",
   "pygments_lexer": "ipython3",
   "version": "3.7.7"
  }
 },
 "nbformat": 4,
 "nbformat_minor": 1
}