{
 "cells": [
  {
   "cell_type": "markdown",
   "id": "sticky-reception",
   "metadata": {
    "pycharm": {
     "name": "#%% md\n"
    }
   },
   "source": [
    "# COBRApy\n",
    "\n",
    "COBRApy is a package for constraint-based modeling of biological networks written in Python.\n",
    "\n",
    "This tool allows loading and inspecting Genome-Scale Metabolic (GEM) models written in the Sytems Biology Markup Language (SBML) format.\n",
    "\n",
    "Using COBRApy, one can analyse the following model contents:\n",
    "1. Reactions\n",
    "2. Metabolites\n",
    "3. Genes\n",
    "4. Exchange reactions (Environmental Conditions)\n",
    "\n",
    "COBRApy allows manipulating the contents of a GEM model. For instance, one can edit reactions' flux bounds, knock out a metabolic gene, or change the environmental conditions.\n",
    "\n",
    "Phenotype prediction can be simulated with several flux analysis methods implemented in COBRApy. These include Flux Balance Anlysis (FBA), Parsimonious FBA, or Flux Variability Analysis (FVA).\n",
    "\n",
    "The simulation of gene and reaction deletions for a given GEM model is a simple and straightforward process. One can simulate single or double knock outs using one of the flux analysis methods mentioned above."
   ]
  },
  {
   "cell_type": "markdown",
   "id": "signed-encounter",
   "metadata": {
    "pycharm": {
     "name": "#%% md\n"
    }
   },
   "source": [
    "## Instalation\n",
    "\n",
    "\n",
    "### Requirements\n",
    "The following requirements need to be installed to use COBRApy:\n",
    "- Python 3.6 or higher\n",
    "- pip must be installed\n",
    "- GLPK solver is used by default but CPLEX is prefered\n",
    "\n",
    "\n",
    "### How to install COBRApy?\n",
    "```\n",
    "pip install cobra\n",
    "```"
   ]
  },
  {
   "cell_type": "markdown",
   "id": "tribal-oakland",
   "metadata": {},
   "source": [
    "# Exercise 7 - Phenotype prediction"
   ]
  },
  {
   "cell_type": "markdown",
   "id": "6c3c2841",
   "metadata": {},
   "source": [
    "For this practical session, we will be using the following model:\n",
    "- _E. coli_ core model which contains the central carbon metabolism of _Escherichia coli_ -> file: ../data/e_coli_core.xml\n",
    "\n",
    "This exercise consists of searching for potential candidate genes whose knock out would lead to increased Ethanol production. Thus, the following steps will be followed:\n",
    "- Loading the model with COBRApy;\n",
    "- Perform a FBA simulation using an anaerobic medium;\n",
    "- Load the escher map with the FBA simulation to visualize the flux distribution;\n",
    "- Identify potential reaction targets;\n",
    "- Determine the essential genes of the model;\n",
    "- Check the target reaction GPRs for essential genes;\n",
    "- Perform the gene knock outs;"
   ]
  },
  {
   "cell_type": "code",
   "execution_count": 1,
   "id": "d395172a",
   "metadata": {},
   "outputs": [
    {
     "data": {
      "text/html": [
       "\n",
       "        <table>\n",
       "            <tr>\n",
       "                <td><strong>Name</strong></td>\n",
       "                <td>e_coli_core</td>\n",
       "            </tr><tr>\n",
       "                <td><strong>Memory address</strong></td>\n",
       "                <td>0x013bc9ba7d08</td>\n",
       "            </tr><tr>\n",
       "                <td><strong>Number of metabolites</strong></td>\n",
       "                <td>72</td>\n",
       "            </tr><tr>\n",
       "                <td><strong>Number of reactions</strong></td>\n",
       "                <td>95</td>\n",
       "            </tr><tr>\n",
       "                <td><strong>Number of groups</strong></td>\n",
       "                <td>0</td>\n",
       "            </tr><tr>\n",
       "                <td><strong>Objective expression</strong></td>\n",
       "                <td>1.0*BIOMASS_Ecoli_core_w_GAM - 1.0*BIOMASS_Ecoli_core_w_GAM_reverse_712e5</td>\n",
       "            </tr><tr>\n",
       "                <td><strong>Compartments</strong></td>\n",
       "                <td>extracellular space, cytosol</td>\n",
       "            </tr>\n",
       "          </table>"
      ],
      "text/plain": [
       "<Model e_coli_core at 0x13bc9ba7d08>"
      ]
     },
     "execution_count": 1,
     "metadata": {},
     "output_type": "execute_result"
    }
   ],
   "source": [
    "# importing cobra\n",
    "import cobra\n",
    "\n",
    "# Loading a model\n",
    "model_path = '../data/e_coli_core.xml'\n",
    "model = cobra.io.read_sbml_model(model_path)\n",
    "\n",
    "model"
   ]
  },
  {
   "cell_type": "markdown",
   "id": "e3e55a03",
   "metadata": {},
   "source": [
    "### Phenotype Simulation\n",
    "\n",
    "By deafault, the environmental condictions of the _E. coli_ core model represent an aerobic medium. However, for _E. coli_ to produce ethanol, an anaerobic medium must be simulated. Hence, the first step of this exercise is to stop the Oxygen supply, by changing the lower bound of the o2 drain to zero. \n",
    "\n",
    "Following that, a standard FBA simulation can be performed with the goal of maximizing biomass production."
   ]
  },
  {
   "cell_type": "code",
   "execution_count": 2,
   "id": "61f98c0a",
   "metadata": {},
   "outputs": [
    {
     "data": {
      "text/html": [
       "\n",
       "        <table>\n",
       "            <tr>\n",
       "                <td><strong>Reaction identifier</strong></td><td>EX_o2_e</td>\n",
       "            </tr><tr>\n",
       "                <td><strong>Name</strong></td><td>O2 exchange</td>\n",
       "            </tr><tr>\n",
       "                <td><strong>Memory address</strong></td>\n",
       "                <td>0x13bcad14c48</td>\n",
       "            </tr><tr>\n",
       "                <td><strong>Stoichiometry</strong></td>\n",
       "                <td>\n",
       "                    <p style='text-align:right'>o2_e --></p>\n",
       "                    <p style='text-align:right'>O2 O2 --></p>\n",
       "                </td>\n",
       "            </tr><tr>\n",
       "                <td><strong>GPR</strong></td><td></td>\n",
       "            </tr><tr>\n",
       "                <td><strong>Lower bound</strong></td><td>0</td>\n",
       "            </tr><tr>\n",
       "                <td><strong>Upper bound</strong></td><td>1000</td>\n",
       "            </tr>\n",
       "        </table>\n",
       "        "
      ],
      "text/plain": [
       "<Reaction EX_o2_e at 0x13bcad14c48>"
      ]
     },
     "execution_count": 2,
     "metadata": {},
     "output_type": "execute_result"
    }
   ],
   "source": [
    "#setting the environmental conditions to replicate an anaerobic medium\n",
    "o2 = model.reactions.get_by_id('EX_o2_e')\n",
    "o2.bounds = (0,1000)\n",
    "o2"
   ]
  },
  {
   "cell_type": "code",
   "execution_count": 3,
   "id": "edd12ad1",
   "metadata": {},
   "outputs": [
    {
     "data": {
      "text/html": [
       "<strong><em>Optimal</em> solution with objective value 0.212</strong><br><div>\n",
       "<style scoped>\n",
       "    .dataframe tbody tr th:only-of-type {\n",
       "        vertical-align: middle;\n",
       "    }\n",
       "\n",
       "    .dataframe tbody tr th {\n",
       "        vertical-align: top;\n",
       "    }\n",
       "\n",
       "    .dataframe thead th {\n",
       "        text-align: right;\n",
       "    }\n",
       "</style>\n",
       "<table border=\"1\" class=\"dataframe\">\n",
       "  <thead>\n",
       "    <tr style=\"text-align: right;\">\n",
       "      <th></th>\n",
       "      <th>fluxes</th>\n",
       "      <th>reduced_costs</th>\n",
       "    </tr>\n",
       "  </thead>\n",
       "  <tbody>\n",
       "    <tr>\n",
       "      <th>PFK</th>\n",
       "      <td>9.789459</td>\n",
       "      <td>2.602085e-18</td>\n",
       "    </tr>\n",
       "    <tr>\n",
       "      <th>PFL</th>\n",
       "      <td>17.804674</td>\n",
       "      <td>0.000000e+00</td>\n",
       "    </tr>\n",
       "    <tr>\n",
       "      <th>PGI</th>\n",
       "      <td>9.956609</td>\n",
       "      <td>0.000000e+00</td>\n",
       "    </tr>\n",
       "    <tr>\n",
       "      <th>PGK</th>\n",
       "      <td>-19.437336</td>\n",
       "      <td>-0.000000e+00</td>\n",
       "    </tr>\n",
       "    <tr>\n",
       "      <th>PGL</th>\n",
       "      <td>0.000000</td>\n",
       "      <td>0.000000e+00</td>\n",
       "    </tr>\n",
       "    <tr>\n",
       "      <th>...</th>\n",
       "      <td>...</td>\n",
       "      <td>...</td>\n",
       "    </tr>\n",
       "    <tr>\n",
       "      <th>NADH16</th>\n",
       "      <td>0.000000</td>\n",
       "      <td>-5.538015e-03</td>\n",
       "    </tr>\n",
       "    <tr>\n",
       "      <th>NADTRHD</th>\n",
       "      <td>0.000000</td>\n",
       "      <td>-1.107603e-02</td>\n",
       "    </tr>\n",
       "    <tr>\n",
       "      <th>NH4t</th>\n",
       "      <td>1.154156</td>\n",
       "      <td>0.000000e+00</td>\n",
       "    </tr>\n",
       "    <tr>\n",
       "      <th>O2t</th>\n",
       "      <td>0.000000</td>\n",
       "      <td>0.000000e+00</td>\n",
       "    </tr>\n",
       "    <tr>\n",
       "      <th>PDH</th>\n",
       "      <td>0.000000</td>\n",
       "      <td>-2.769008e-03</td>\n",
       "    </tr>\n",
       "  </tbody>\n",
       "</table>\n",
       "<p>95 rows × 2 columns</p>\n",
       "</div>"
      ],
      "text/plain": [
       "<Solution 0.212 at 0x13bcaec2548>"
      ]
     },
     "execution_count": 3,
     "metadata": {},
     "output_type": "execute_result"
    }
   ],
   "source": [
    "#performing a FBA simulation\n",
    "wt_solution = model.optimize()\n",
    "wt_solution"
   ]
  },
  {
   "cell_type": "markdown",
   "id": "7c6161fd",
   "metadata": {},
   "source": [
    "### Metabolic Pathway Visualization\n",
    "\n",
    "Now that the environmental conditions were constrained and the model simulated with FBA, one can run the `escher.Builder` method to obtain the escher map of the _E. coli_ core model. This will help the user to visualize the flux distribution of the model, thus, making it simppler to manually detect any reaction that is deflecting flux from ethanol production."
   ]
  },
  {
   "cell_type": "code",
   "execution_count": 4,
   "id": "0b930757",
   "metadata": {},
   "outputs": [],
   "source": [
    "# first import escher\n",
    "import escher"
   ]
  },
  {
   "cell_type": "code",
   "execution_count": 5,
   "id": "2720e5bc",
   "metadata": {},
   "outputs": [
    {
     "name": "stdout",
     "output_type": "stream",
     "text": [
      "Downloading Map from https://escher.github.io/1-0-0/6/maps/Escherichia%20coli/e_coli_core.Core%20metabolism.json\n"
     ]
    },
    {
     "data": {
      "application/vnd.jupyter.widget-view+json": {
       "model_id": "03d2bf59b18b492faafc1b3024b149c0",
       "version_major": 2,
       "version_minor": 0
      },
      "text/plain": [
       "Builder(reaction_data={'PFK': 9.789458863898286, 'PFL': 17.804674217935304, 'PGI': 9.95660909530426, 'PGK': -1…"
      ]
     },
     "metadata": {},
     "output_type": "display_data"
    }
   ],
   "source": [
    "# create the builder object wich contains the metabolic map\n",
    "builder = escher.Builder(map_name='e_coli_core.Core metabolism', model=model, reaction_data=wt_solution.fluxes)\n",
    "builder"
   ]
  },
  {
   "cell_type": "markdown",
   "id": "40075215",
   "metadata": {},
   "source": [
    "From this map, one can quickly identify two reactions that are deflecting flux from ethanol production. These are the Citrate Synthase and the Phosphotransacetylase."
   ]
  },
  {
   "cell_type": "markdown",
   "id": "e923b93f",
   "metadata": {},
   "source": [
    "### Search for essential Genes\n",
    "\n",
    "Now that we have two candidate reactions, we can use the `find_essential_genes` function of the flux analysis package to identify a list of essential genes for this model. This list contains all the genes whose knock out would result in no growth. \n",
    "\n",
    "Hence, reactions associated with essential genes are not suitable candidates for a metabolic engineering strategy."
   ]
  },
  {
   "cell_type": "code",
   "execution_count": 6,
   "id": "dfd4c675",
   "metadata": {},
   "outputs": [
    {
     "data": {
      "text/plain": [
       "{<Gene b0720 at 0x13bcac24a08>,\n",
       " <Gene b1136 at 0x13bcac42748>,\n",
       " <Gene b1779 at 0x13bcac37608>,\n",
       " <Gene b2415 at 0x13bcac33f88>,\n",
       " <Gene b2416 at 0x13bcac33988>,\n",
       " <Gene b2779 at 0x13bcac28fc8>,\n",
       " <Gene b2926 at 0x13bcac57f48>,\n",
       " <Gene b3919 at 0x13bcac6ba88>,\n",
       " <Gene b3956 at 0x13bcac5d708>,\n",
       " <Gene b4025 at 0x13bcac579c8>}"
      ]
     },
     "execution_count": 6,
     "metadata": {},
     "output_type": "execute_result"
    }
   ],
   "source": [
    "#searching for essential genes\n",
    "essential = cobra.flux_analysis.find_essential_genes(model)\n",
    "essential"
   ]
  },
  {
   "cell_type": "markdown",
   "id": "ce9bcdee",
   "metadata": {},
   "source": [
    "### Check target candidates\n",
    "\n",
    "After discovering the essential genes of the model, one can now check if the target reactions are associated with any of those essential genes."
   ]
  },
  {
   "cell_type": "code",
   "execution_count": 7,
   "id": "7b5387df",
   "metadata": {},
   "outputs": [
    {
     "data": {
      "text/html": [
       "\n",
       "        <table>\n",
       "            <tr>\n",
       "                <td><strong>Reaction identifier</strong></td><td>PTAr</td>\n",
       "            </tr><tr>\n",
       "                <td><strong>Name</strong></td><td>Phosphotransacetylase</td>\n",
       "            </tr><tr>\n",
       "                <td><strong>Memory address</strong></td>\n",
       "                <td>0x13bcacb4d08</td>\n",
       "            </tr><tr>\n",
       "                <td><strong>Stoichiometry</strong></td>\n",
       "                <td>\n",
       "                    <p style='text-align:right'>accoa_c + pi_c <=> actp_c + coa_c</p>\n",
       "                    <p style='text-align:right'>Acetyl-CoA + Phosphate <=> Acetyl phosphate + Coenzyme A</p>\n",
       "                </td>\n",
       "            </tr><tr>\n",
       "                <td><strong>GPR</strong></td><td>b2297 or b2458</td>\n",
       "            </tr><tr>\n",
       "                <td><strong>Lower bound</strong></td><td>-1000.0</td>\n",
       "            </tr><tr>\n",
       "                <td><strong>Upper bound</strong></td><td>1000.0</td>\n",
       "            </tr>\n",
       "        </table>\n",
       "        "
      ],
      "text/plain": [
       "<Reaction PTAr at 0x13bcacb4d08>"
      ]
     },
     "execution_count": 7,
     "metadata": {},
     "output_type": "execute_result"
    }
   ],
   "source": [
    "model.reactions.PTAr"
   ]
  },
  {
   "cell_type": "code",
   "execution_count": 8,
   "id": "5402cbdd",
   "metadata": {},
   "outputs": [
    {
     "data": {
      "text/html": [
       "\n",
       "        <table>\n",
       "            <tr>\n",
       "                <td><strong>Reaction identifier</strong></td><td>CS</td>\n",
       "            </tr><tr>\n",
       "                <td><strong>Name</strong></td><td>Citrate synthase</td>\n",
       "            </tr><tr>\n",
       "                <td><strong>Memory address</strong></td>\n",
       "                <td>0x13bcacc14c8</td>\n",
       "            </tr><tr>\n",
       "                <td><strong>Stoichiometry</strong></td>\n",
       "                <td>\n",
       "                    <p style='text-align:right'>accoa_c + h2o_c + oaa_c --> cit_c + coa_c + h_c</p>\n",
       "                    <p style='text-align:right'>Acetyl-CoA + H2O H2O + Oxaloacetate --> Citrate + Coenzyme A + H+</p>\n",
       "                </td>\n",
       "            </tr><tr>\n",
       "                <td><strong>GPR</strong></td><td>b0720</td>\n",
       "            </tr><tr>\n",
       "                <td><strong>Lower bound</strong></td><td>0.0</td>\n",
       "            </tr><tr>\n",
       "                <td><strong>Upper bound</strong></td><td>1000.0</td>\n",
       "            </tr>\n",
       "        </table>\n",
       "        "
      ],
      "text/plain": [
       "<Reaction CS at 0x13bcacc14c8>"
      ]
     },
     "execution_count": 8,
     "metadata": {},
     "output_type": "execute_result"
    }
   ],
   "source": [
    "model.reactions.CS"
   ]
  },
  {
   "cell_type": "markdown",
   "id": "a9533cdf",
   "metadata": {},
   "source": [
    "As we can see, the Phosphotransacetylase reaction is a viable knock out target. By checking its GPR, we can see that none of those genes are in the list of essential genes.\n",
    "\n",
    "On the other hand, the Citrate synthase should not be knocked out, as the organism would not be able to grow."
   ]
  },
  {
   "cell_type": "markdown",
   "id": "ff4893fd",
   "metadata": {},
   "source": [
    "### Gene Knock outs"
   ]
  },
  {
   "cell_type": "code",
   "execution_count": 9,
   "id": "6b2d0051",
   "metadata": {},
   "outputs": [
    {
     "name": "stdout",
     "output_type": "stream",
     "text": [
      "Wt strain ethanol production: 8.279455380486581\n",
      "Mutant strain ethanol production: 16.584255740929652\n"
     ]
    }
   ],
   "source": [
    "print('Wt strain ethanol production:', wt_solution['EX_etoh_e'])\n",
    "\n",
    "with model:\n",
    "    model.genes.b2297.knock_out()\n",
    "    model.genes.b2458.knock_out()\n",
    "    mutant_solution = model.optimize()\n",
    "    print('Mutant strain ethanol production:', mutant_solution['EX_etoh_e'])"
   ]
  },
  {
   "cell_type": "code",
   "execution_count": 10,
   "id": "a33c5656",
   "metadata": {},
   "outputs": [
    {
     "name": "stdout",
     "output_type": "stream",
     "text": [
      "Downloading Map from https://escher.github.io/1-0-0/6/maps/Escherichia%20coli/e_coli_core.Core%20metabolism.json\n"
     ]
    },
    {
     "data": {
      "application/vnd.jupyter.widget-view+json": {
       "model_id": "6c75b770a56f44aeaad94deef09cf81a",
       "version_major": 2,
       "version_minor": 0
      },
      "text/plain": [
       "Builder(reaction_data={'PFK': 9.271232684579616, 'PFL': 3.9563473930779764, 'PGI': 8.339429028836893, 'PGK': -…"
      ]
     },
     "metadata": {},
     "output_type": "display_data"
    }
   ],
   "source": [
    "builder = escher.Builder(map_name='e_coli_core.Core metabolism', model=model, reaction_data=mutant_solution.fluxes)\n",
    "builder"
   ]
  }
 ],
 "metadata": {
  "kernelspec": {
   "display_name": "Python 3",
   "language": "python",
   "name": "python3"
  },
  "language_info": {
   "codemirror_mode": {
    "name": "ipython",
    "version": 3
   },
   "file_extension": ".py",
   "mimetype": "text/x-python",
   "name": "python",
   "nbconvert_exporter": "python",
   "pygments_lexer": "ipython3",
   "version": "3.7.7"
  }
 },
 "nbformat": 4,
 "nbformat_minor": 5
}
