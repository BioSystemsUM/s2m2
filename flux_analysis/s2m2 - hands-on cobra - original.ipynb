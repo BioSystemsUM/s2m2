{
 "cells": [
  {
   "cell_type": "markdown",
   "id": "sticky-reception",
   "metadata": {
    "pycharm": {
     "name": "#%% md\n"
    }
   },
   "source": [
    "# COBRApy\n",
    "\n",
    "COBRApy is a package for constraint-based modeling of biological networks written in Python.\n",
    "\n",
    "This tool allows loading and inspecting Genome-Scale Metabolic (GEM) models written in the Sytems Biology Markup Language (SBML) format.\n",
    "\n",
    "Using COBRApy, one can analyse the following model contents:\n",
    "1. Reactions\n",
    "2. Metabolites\n",
    "3. Genes\n",
    "4. Exchange reactions (Environmental Conditions)\n",
    "\n",
    "COBRApy allows manipulating the contents of a GEM model. For instance, one can edit reactions' flux bounds, knock out a metabolic gene, or change the environmental conditions.\n",
    "\n",
    "Phenotype prediction can be simulated with several flux analysis methods implemented in COBRApy. These include Flux Balance Anlysis (FBA), Parsimonious FBA, or Flux Variability Analysis (FVA).\n",
    "\n",
    "The simulation of gene and reaction deletions for a given GEM model is a simple and straightforward process. One can simulate single or double knock outs using one of the flux analysis methods mentioned above."
   ]
  },
  {
   "cell_type": "markdown",
   "id": "signed-encounter",
   "metadata": {
    "pycharm": {
     "name": "#%% md\n"
    }
   },
   "source": [
    "## Instalation\n",
    "\n",
    "\n",
    "### Requirements\n",
    "The following requirements need to be installed to use COBRApy:\n",
    "- Python 3.6 or higher\n",
    "- pip must be installed\n",
    "- GLPK solver is used by default but CPLEX is prefered\n",
    "\n",
    "\n",
    "### How to install COBRApy?\n",
    "```\n",
    "pip install cobra\n",
    "```"
   ]
  },
  {
   "cell_type": "markdown",
   "id": "declared-remainder",
   "metadata": {
    "pycharm": {
     "name": "#%% md\n"
    }
   },
   "source": [
    "## Working with a GEM model\n",
    "\n",
    "COBRApy can be used to read a GEM model in SBML format file.\n",
    "For this practical session, we will be using two models:\n",
    "- _E. coli_ core model which contains the central carbon metabolism of _Escherichia coli_ -> file: e_coli_core.xml\n",
    "- _iJO1366_ model which contains the whole metabolism of _Escherichia coli_ -> file: iJO1366.xml\n",
    "\n",
    "\n",
    "The reactions, metabolites, and genes encoded into a SBML format file can be parsed by COBRApy. These contents are loaded into Python objects simple to use, namely `cobra.Reaction`, `cobra.Metabolite`, and `cobra.Gene`\n",
    "\n",
    "The model itself will be available as an `cobra.Model` object containing all these attributes."
   ]
  },
  {
   "cell_type": "code",
   "execution_count": 44,
   "id": "minimal-productivity",
   "metadata": {
    "pycharm": {
     "name": "#%%\n"
    },
    "scrolled": true
   },
   "outputs": [
    {
     "data": {
      "text/html": [
       "\n",
       "        <table>\n",
       "            <tr>\n",
       "                <td><strong>Name</strong></td>\n",
       "                <td>e_coli_core</td>\n",
       "            </tr><tr>\n",
       "                <td><strong>Memory address</strong></td>\n",
       "                <td>0x021ba2c17d60</td>\n",
       "            </tr><tr>\n",
       "                <td><strong>Number of metabolites</strong></td>\n",
       "                <td>72</td>\n",
       "            </tr><tr>\n",
       "                <td><strong>Number of reactions</strong></td>\n",
       "                <td>95</td>\n",
       "            </tr><tr>\n",
       "                <td><strong>Number of groups</strong></td>\n",
       "                <td>0</td>\n",
       "            </tr><tr>\n",
       "                <td><strong>Objective expression</strong></td>\n",
       "                <td>1.0*Biomass_Ecoli_core - 1.0*Biomass_Ecoli_core_reverse_2cdba</td>\n",
       "            </tr><tr>\n",
       "                <td><strong>Compartments</strong></td>\n",
       "                <td>cytosol, extracellular</td>\n",
       "            </tr>\n",
       "          </table>"
      ],
      "text/plain": [
       "<Model e_coli_core at 0x21ba2c17d60>"
      ]
     },
     "execution_count": 44,
     "metadata": {},
     "output_type": "execute_result"
    }
   ],
   "source": [
    "# importing cobra\n",
    "import cobra\n",
    "\n",
    "# Loading a model\n",
    "model_path = 'e_coli_core.xml'\n",
    "model = cobra.io.read_sbml_model(model_path)\n",
    "\n",
    "model"
   ]
  },
  {
   "cell_type": "code",
   "execution_count": 2,
   "id": "271ea401",
   "metadata": {
    "pycharm": {
     "name": "#%%\n"
    }
   },
   "outputs": [
    {
     "data": {
      "text/plain": [
       "[<Reaction ACALD at 0x21ba2b7bdf0>,\n",
       " <Reaction ACALDt at 0x21ba2b7be20>,\n",
       " <Reaction ACKr at 0x21ba2b8b760>,\n",
       " <Reaction ACONTa at 0x21ba2b8b4c0>,\n",
       " <Reaction ACONTb at 0x21ba2b8b580>]"
      ]
     },
     "execution_count": 2,
     "metadata": {},
     "output_type": "execute_result"
    }
   ],
   "source": [
    "#retriving first five reactions of the model\n",
    "model.reactions[0:5]"
   ]
  },
  {
   "cell_type": "code",
   "execution_count": 3,
   "id": "db222e49",
   "metadata": {
    "pycharm": {
     "name": "#%%\n"
    },
    "scrolled": true
   },
   "outputs": [
    {
     "data": {
      "text/html": [
       "\n",
       "        <table>\n",
       "            <tr>\n",
       "                <td><strong>Reaction identifier</strong></td><td>ACALD</td>\n",
       "            </tr><tr>\n",
       "                <td><strong>Name</strong></td><td>acetaldehyde dehydrogenase (acetylating)</td>\n",
       "            </tr><tr>\n",
       "                <td><strong>Memory address</strong></td>\n",
       "                <td>0x021ba2b7bdf0</td>\n",
       "            </tr><tr>\n",
       "                <td><strong>Stoichiometry</strong></td>\n",
       "                <td>\n",
       "                    <p style='text-align:right'>acald_c + coa_c + nad_c <=> accoa_c + h_c + nadh_c</p>\n",
       "                    <p style='text-align:right'>Acetaldehyde + Coenzyme A + Nicotinamide adenine dinucleotide <=> Acetyl-CoA + H+ + Nicotinamide adenine dinucleotide - reduced</p>\n",
       "                </td>\n",
       "            </tr><tr>\n",
       "                <td><strong>GPR</strong></td><td>b0351 or b1241</td>\n",
       "            </tr><tr>\n",
       "                <td><strong>Lower bound</strong></td><td>-1000.0</td>\n",
       "            </tr><tr>\n",
       "                <td><strong>Upper bound</strong></td><td>1000.0</td>\n",
       "            </tr>\n",
       "        </table>\n",
       "        "
      ],
      "text/plain": [
       "<Reaction ACALD at 0x21ba2b7bdf0>"
      ]
     },
     "execution_count": 3,
     "metadata": {},
     "output_type": "execute_result"
    }
   ],
   "source": [
    "#inspecting the first reaction of the model\n",
    "model.reactions[0]"
   ]
  },
  {
   "cell_type": "code",
   "execution_count": 4,
   "id": "3204cb7c",
   "metadata": {
    "pycharm": {
     "name": "#%%\n"
    }
   },
   "outputs": [
    {
     "data": {
      "text/html": [
       "\n",
       "        <table>\n",
       "            <tr>\n",
       "                <td><strong>Reaction identifier</strong></td><td>ACALD</td>\n",
       "            </tr><tr>\n",
       "                <td><strong>Name</strong></td><td>acetaldehyde dehydrogenase (acetylating)</td>\n",
       "            </tr><tr>\n",
       "                <td><strong>Memory address</strong></td>\n",
       "                <td>0x021ba2b7bdf0</td>\n",
       "            </tr><tr>\n",
       "                <td><strong>Stoichiometry</strong></td>\n",
       "                <td>\n",
       "                    <p style='text-align:right'>acald_c + coa_c + nad_c <=> accoa_c + h_c + nadh_c</p>\n",
       "                    <p style='text-align:right'>Acetaldehyde + Coenzyme A + Nicotinamide adenine dinucleotide <=> Acetyl-CoA + H+ + Nicotinamide adenine dinucleotide - reduced</p>\n",
       "                </td>\n",
       "            </tr><tr>\n",
       "                <td><strong>GPR</strong></td><td>b0351 or b1241</td>\n",
       "            </tr><tr>\n",
       "                <td><strong>Lower bound</strong></td><td>-1000.0</td>\n",
       "            </tr><tr>\n",
       "                <td><strong>Upper bound</strong></td><td>1000.0</td>\n",
       "            </tr>\n",
       "        </table>\n",
       "        "
      ],
      "text/plain": [
       "<Reaction ACALD at 0x21ba2b7bdf0>"
      ]
     },
     "execution_count": 4,
     "metadata": {},
     "output_type": "execute_result"
    }
   ],
   "source": [
    "#inspecting a reaction by its ID\n",
    "model.reactions.get_by_id(\"ACALD\")"
   ]
  },
  {
   "cell_type": "code",
   "execution_count": 5,
   "id": "e0b93231",
   "metadata": {
    "pycharm": {
     "name": "#%%\n"
    }
   },
   "outputs": [
    {
     "data": {
      "text/plain": [
       "[<Metabolite 13dpg_c at 0x21ba1b472b0>,\n",
       " <Metabolite 2pg_c at 0x21ba1b47250>,\n",
       " <Metabolite 3pg_c at 0x21ba1b473d0>,\n",
       " <Metabolite 6pgc_c at 0x21ba1b473a0>,\n",
       " <Metabolite 6pgl_c at 0x21ba1b47610>]"
      ]
     },
     "execution_count": 5,
     "metadata": {},
     "output_type": "execute_result"
    }
   ],
   "source": [
    "#retriving first five metabolites of the model\n",
    "model.metabolites[0:5]"
   ]
  },
  {
   "cell_type": "code",
   "execution_count": 6,
   "id": "d31e05e5",
   "metadata": {
    "pycharm": {
     "name": "#%%\n"
    }
   },
   "outputs": [
    {
     "data": {
      "text/html": [
       "\n",
       "        <table>\n",
       "            <tr>\n",
       "                <td><strong>Metabolite identifier</strong></td><td>13dpg_c</td>\n",
       "            </tr><tr>\n",
       "                <td><strong>Name</strong></td><td>3-Phospho-D-glyceroyl phosphate</td>\n",
       "            </tr><tr>\n",
       "                <td><strong>Memory address</strong></td>\n",
       "                <td>0x021ba1b472b0</td>\n",
       "            </tr><tr>\n",
       "                <td><strong>Formula</strong></td><td>C3H4O10P2</td>\n",
       "            </tr><tr>\n",
       "                <td><strong>Compartment</strong></td><td>c</td>\n",
       "            </tr><tr>\n",
       "                <td><strong>In 2 reaction(s)</strong></td><td>\n",
       "                    PGK, GAPD</td>\n",
       "            </tr>\n",
       "        </table>"
      ],
      "text/plain": [
       "<Metabolite 13dpg_c at 0x21ba1b472b0>"
      ]
     },
     "execution_count": 6,
     "metadata": {},
     "output_type": "execute_result"
    }
   ],
   "source": [
    "#inspecting the first metabolite of the model\n",
    "model.metabolites[0]"
   ]
  },
  {
   "cell_type": "code",
   "execution_count": 7,
   "id": "1992e8f8",
   "metadata": {
    "pycharm": {
     "name": "#%%\n"
    }
   },
   "outputs": [
    {
     "data": {
      "text/html": [
       "\n",
       "        <table>\n",
       "            <tr>\n",
       "                <td><strong>Metabolite identifier</strong></td><td>13dpg_c</td>\n",
       "            </tr><tr>\n",
       "                <td><strong>Name</strong></td><td>3-Phospho-D-glyceroyl phosphate</td>\n",
       "            </tr><tr>\n",
       "                <td><strong>Memory address</strong></td>\n",
       "                <td>0x021ba1b472b0</td>\n",
       "            </tr><tr>\n",
       "                <td><strong>Formula</strong></td><td>C3H4O10P2</td>\n",
       "            </tr><tr>\n",
       "                <td><strong>Compartment</strong></td><td>c</td>\n",
       "            </tr><tr>\n",
       "                <td><strong>In 2 reaction(s)</strong></td><td>\n",
       "                    PGK, GAPD</td>\n",
       "            </tr>\n",
       "        </table>"
      ],
      "text/plain": [
       "<Metabolite 13dpg_c at 0x21ba1b472b0>"
      ]
     },
     "execution_count": 7,
     "metadata": {},
     "output_type": "execute_result"
    }
   ],
   "source": [
    "#inspecting a metabolite by its ID\n",
    "model.metabolites.get_by_id(\"13dpg_c\")"
   ]
  },
  {
   "cell_type": "code",
   "execution_count": 8,
   "id": "83287794",
   "metadata": {
    "pycharm": {
     "name": "#%%\n"
    }
   },
   "outputs": [
    {
     "data": {
      "text/plain": [
       "[<Gene b1241 at 0x21ba2b5f2b0>,\n",
       " <Gene b0351 at 0x21ba2b5f310>,\n",
       " <Gene s0001 at 0x21ba2b5f3d0>,\n",
       " <Gene b3115 at 0x21ba2b5f370>,\n",
       " <Gene b1849 at 0x21ba2b5f340>]"
      ]
     },
     "execution_count": 8,
     "metadata": {},
     "output_type": "execute_result"
    }
   ],
   "source": [
    "#retriving first five genes of the model\n",
    "model.genes[0:5]"
   ]
  },
  {
   "cell_type": "code",
   "execution_count": 9,
   "id": "b4683d3a",
   "metadata": {
    "pycharm": {
     "name": "#%%\n"
    }
   },
   "outputs": [
    {
     "data": {
      "text/html": [
       "\n",
       "        <table>\n",
       "            <tr>\n",
       "                <td><strong>Gene identifier</strong></td><td>b1241</td>\n",
       "            </tr><tr>\n",
       "                <td><strong>Name</strong></td><td>adhE</td>\n",
       "            </tr><tr>\n",
       "                <td><strong>Memory address</strong></td>\n",
       "                <td>0x021ba2b5f2b0</td>\n",
       "            </tr><tr>\n",
       "                <td><strong>Functional</strong></td><td>True</td>\n",
       "            </tr><tr>\n",
       "                <td><strong>In 2 reaction(s)</strong></td><td>\n",
       "                    ALCD2x, ACALD</td>\n",
       "            </tr>\n",
       "        </table>"
      ],
      "text/plain": [
       "<Gene b1241 at 0x21ba2b5f2b0>"
      ]
     },
     "execution_count": 9,
     "metadata": {},
     "output_type": "execute_result"
    }
   ],
   "source": [
    "#inspecting the first gene of the model\n",
    "model.genes[0]"
   ]
  },
  {
   "cell_type": "code",
   "execution_count": 10,
   "id": "7cae917a",
   "metadata": {
    "pycharm": {
     "name": "#%%\n"
    }
   },
   "outputs": [
    {
     "data": {
      "text/html": [
       "\n",
       "        <table>\n",
       "            <tr>\n",
       "                <td><strong>Gene identifier</strong></td><td>b1241</td>\n",
       "            </tr><tr>\n",
       "                <td><strong>Name</strong></td><td>adhE</td>\n",
       "            </tr><tr>\n",
       "                <td><strong>Memory address</strong></td>\n",
       "                <td>0x021ba2b5f2b0</td>\n",
       "            </tr><tr>\n",
       "                <td><strong>Functional</strong></td><td>True</td>\n",
       "            </tr><tr>\n",
       "                <td><strong>In 2 reaction(s)</strong></td><td>\n",
       "                    ALCD2x, ACALD</td>\n",
       "            </tr>\n",
       "        </table>"
      ],
      "text/plain": [
       "<Gene b1241 at 0x21ba2b5f2b0>"
      ]
     },
     "execution_count": 10,
     "metadata": {},
     "output_type": "execute_result"
    }
   ],
   "source": [
    "#inspecting a gene by its ID\n",
    "model.genes.get_by_id('b1241')"
   ]
  },
  {
   "cell_type": "markdown",
   "id": "d0c64159",
   "metadata": {
    "pycharm": {
     "name": "#%% md\n"
    }
   },
   "source": [
    "### Reactions\n",
    "\n",
    "In COBRApy reactions are objects that can be inspected. These objects can contain usefull information for all reactions in the model, such as:\n",
    "- name;\n",
    "- metabolites;\n",
    "- stoichiometry;\n",
    "- genes;\n",
    "- formula;\n",
    "- reversibility;\n",
    "- flux bounds;\n",
    "- gpr;"
   ]
  },
  {
   "cell_type": "code",
   "execution_count": 11,
   "id": "9c5ac10a",
   "metadata": {
    "pycharm": {
     "name": "#%%\n"
    }
   },
   "outputs": [
    {
     "name": "stdout",
     "output_type": "stream",
     "text": [
      "acetaldehyde dehydrogenase (acetylating) \n",
      "\n",
      "acald_c + coa_c + nad_c <=> accoa_c + h_c + nadh_c \n",
      "\n",
      "acald_c -> -1.0\n",
      "coa_c -> -1.0\n",
      "nad_c -> -1.0\n",
      "accoa_c -> 1.0\n",
      "h_c -> 1.0\n",
      "nadh_c -> 1.0\n"
     ]
    }
   ],
   "source": [
    "#inspecting the reaction name, formula, metabolites, and stoichiometry.\n",
    "reaction = model.reactions.get_by_id('ACALD')\n",
    "\n",
    "print(reaction.name, '\\n')\n",
    "print(reaction.reaction, '\\n')\n",
    "for metabolite, coefficient in reaction.metabolites.items():\n",
    "    print(metabolite, '->', coefficient)"
   ]
  },
  {
   "cell_type": "code",
   "execution_count": 12,
   "id": "24b8e81a",
   "metadata": {
    "pycharm": {
     "name": "#%%\n"
    }
   },
   "outputs": [
    {
     "name": "stdout",
     "output_type": "stream",
     "text": [
      "-1000.0 < ACALD < 1000.0 \n",
      "\n",
      "True \n",
      "\n",
      "(-1000.0, 1000.0)\n"
     ]
    }
   ],
   "source": [
    "#inspecting reversibility and flux bounds.\n",
    "print(reaction.lower_bound, \"< ACALD <\", reaction.upper_bound, '\\n')\n",
    "print(reaction.reversibility, '\\n')\n",
    "print(reaction.bounds)"
   ]
  },
  {
   "cell_type": "code",
   "execution_count": 13,
   "id": "7f189664",
   "metadata": {
    "pycharm": {
     "name": "#%%\n"
    }
   },
   "outputs": [
    {
     "name": "stdout",
     "output_type": "stream",
     "text": [
      "0 < ACALD < 1000 \n",
      "\n",
      "False\n"
     ]
    }
   ],
   "source": [
    "#change reaction bounds\n",
    "reaction.bounds = (0, 1000)\n",
    "print(reaction.lower_bound, \"< ACALD <\", reaction.upper_bound, '\\n')\n",
    "print(reaction.reversibility)"
   ]
  },
  {
   "cell_type": "code",
   "execution_count": 14,
   "id": "d0941fd8",
   "metadata": {
    "pycharm": {
     "name": "#%%\n"
    }
   },
   "outputs": [
    {
     "data": {
      "text/plain": [
       "'b0351 or b1241'"
      ]
     },
     "execution_count": 14,
     "metadata": {},
     "output_type": "execute_result"
    }
   ],
   "source": [
    "#inspect gene reaction rule\n",
    "reaction.gene_reaction_rule"
   ]
  },
  {
   "cell_type": "markdown",
   "id": "66289c1c",
   "metadata": {
    "pycharm": {
     "name": "#%% md\n"
    }
   },
   "source": [
    "### Metabolites\n",
    "\n",
    "In COBRApy metabolites are objects that can be inspected. These objects can contain usefull information for all metabolites in the model, such as:\n",
    "- name;\n",
    "- chemical formula;\n",
    "- compartment;\n",
    "- reactions;"
   ]
  },
  {
   "cell_type": "code",
   "execution_count": 15,
   "id": "4a10d4d8",
   "metadata": {
    "pycharm": {
     "name": "#%%\n"
    }
   },
   "outputs": [
    {
     "name": "stdout",
     "output_type": "stream",
     "text": [
      "3-Phospho-D-glyceroyl phosphate \n",
      "\n",
      "C3H4O10P2 \n",
      "\n",
      "Metabolite Compartment: c \n",
      "\n",
      "PGK : acald_c + coa_c + nad_c --> accoa_c + h_c + nadh_c\n",
      "GAPD : acald_c + coa_c + nad_c --> accoa_c + h_c + nadh_c\n"
     ]
    }
   ],
   "source": [
    "#inspecting metabolite name, chemical formula, compartment and reactions.\n",
    "metabolite = model.metabolites.get_by_id('13dpg_c')\n",
    "\n",
    "print(metabolite.name, '\\n')\n",
    "print(metabolite.formula, '\\n')\n",
    "print('Metabolite Compartment:',metabolite.compartment, '\\n')\n",
    "for _reaction in metabolite.reactions:\n",
    "    print(_reaction.id, ':', reaction.reaction)"
   ]
  },
  {
   "cell_type": "markdown",
   "id": "9b1f9f95",
   "metadata": {
    "pycharm": {
     "name": "#%% md\n"
    }
   },
   "source": [
    "### Genes\n",
    "\n",
    "In COBRApy metabolites are objects that can be inspected. These objects can contain usefull information for all metabolites in the model, such as:\n",
    "- name;\n",
    "- reactions;"
   ]
  },
  {
   "cell_type": "code",
   "execution_count": 16,
   "id": "d276d220",
   "metadata": {
    "pycharm": {
     "name": "#%%\n"
    }
   },
   "outputs": [
    {
     "name": "stdout",
     "output_type": "stream",
     "text": [
      "mhpF \n",
      "\n",
      "ACALD : b0351 or b1241\n"
     ]
    }
   ],
   "source": [
    "#inspect gene name and reactions.\n",
    "gene = model.genes.get_by_id('b0351')\n",
    "\n",
    "print(gene.name, '\\n')\n",
    "for reaction_ in gene.reactions:\n",
    "    print(reaction_.id, ':', reaction.gene_reaction_rule)"
   ]
  },
  {
   "cell_type": "markdown",
   "id": "2da1dce1",
   "metadata": {
    "pycharm": {
     "name": "#%% md\n"
    }
   },
   "source": [
    "### Exchanges"
   ]
  },
  {
   "cell_type": "markdown",
   "id": "b061d983",
   "metadata": {
    "pycharm": {
     "name": "#%% md\n"
    }
   },
   "source": [
    "In COBRApy exchanges are reaction objects that can be inspected in the model. These special reactions define the environmental condictions (eg. medium) of the model. According to the lower and upper bound of each exchange reactions, one can visualize the model's uptake and secretion metabolites."
   ]
  },
  {
   "cell_type": "code",
   "execution_count": 17,
   "id": "98894b23",
   "metadata": {
    "pycharm": {
     "name": "#%%\n"
    }
   },
   "outputs": [
    {
     "name": "stdout",
     "output_type": "stream",
     "text": [
      "Acetate exchange -> (0.0, 1000.0)\n",
      "Acetaldehyde exchange -> (0.0, 1000.0)\n",
      "2-Oxoglutarate exchange -> (0.0, 1000.0)\n",
      "CO2 exchange -> (-1000.0, 1000.0)\n",
      "Ethanol exchange -> (0.0, 1000.0)\n",
      "Formate exchange -> (0.0, 1000.0)\n",
      "D-Fructose exchange -> (0.0, 1000.0)\n",
      "Fumarate exchange -> (0.0, 1000.0)\n",
      "D-Glucose exchange -> (-10.0, 1000.0)\n",
      "L-Glutamine exchange -> (0.0, 1000.0)\n",
      "L-Glutamate exchange -> (0.0, 1000.0)\n",
      "H+ exchange -> (-1000.0, 1000.0)\n",
      "H2O exchange -> (-1000.0, 1000.0)\n",
      "D-lactate exchange -> (0.0, 1000.0)\n",
      "L-Malate exchange -> (0.0, 1000.0)\n",
      "Ammonia exchange -> (-1000.0, 1000.0)\n",
      "O2 exchange -> (-1000.0, 1000.0)\n",
      "Phosphate exchange -> (-1000.0, 1000.0)\n",
      "Pyruvate exchange -> (0.0, 1000.0)\n",
      "Succinate exchange -> (0.0, 1000.0)\n"
     ]
    }
   ],
   "source": [
    "#inspecting the reaction name, formula, metabolites, and stoichiometry.\n",
    "for exchange in model.exchanges:\n",
    "    print(exchange.name, '->', exchange.bounds)"
   ]
  },
  {
   "cell_type": "markdown",
   "id": "7de6bd17",
   "metadata": {
    "pycharm": {
     "name": "#%% md\n"
    }
   },
   "source": [
    "### Phenotype Prediction"
   ]
  },
  {
   "cell_type": "markdown",
   "id": "5fea53b7",
   "metadata": {
    "pycharm": {
     "name": "#%% md\n"
    }
   },
   "source": [
    "COBRApy includes three different algortithms for phenotype prediction. These include Flux Balance Analysis (FBA), Parsimonious Flux Balance Analysis (pFBA), and Flux Variability Analysis (FVA).\n",
    "\n",
    "To perform a simulation using one of these methods, you should first define an objective function. This can be a reaction or an exchange, which will be maximized or minimized. By default, the biomass reaction is set as the model objective function as this mimics the biological behavior of most organisms."
   ]
  },
  {
   "cell_type": "code",
   "execution_count": 18,
   "id": "f026a013",
   "metadata": {
    "pycharm": {
     "name": "#%%\n"
    }
   },
   "outputs": [],
   "source": [
    "model.objective = 'Biomass_Ecoli_core'"
   ]
  },
  {
   "cell_type": "markdown",
   "id": "3462f94e",
   "metadata": {
    "pycharm": {
     "name": "#%% md\n"
    }
   },
   "source": [
    "#### Flux Balance Analysis (FBA)"
   ]
  },
  {
   "cell_type": "markdown",
   "id": "75a8c7f0",
   "metadata": {
    "pycharm": {
     "name": "#%% md\n"
    }
   },
   "source": [
    "FBA simulations can be performed using `model.optimize()`. This returns a solution object, which includes the result of the simulation. This includes:\n",
    "- objective_value;\n",
    "- status;\n",
    "- fluxes;"
   ]
  },
  {
   "cell_type": "code",
   "execution_count": 19,
   "id": "a612d911",
   "metadata": {
    "pycharm": {
     "name": "#%%\n"
    }
   },
   "outputs": [
    {
     "data": {
      "text/html": [
       "<strong><em>Optimal</em> solution with objective value 0.874</strong><br><div>\n",
       "<style scoped>\n",
       "    .dataframe tbody tr th:only-of-type {\n",
       "        vertical-align: middle;\n",
       "    }\n",
       "\n",
       "    .dataframe tbody tr th {\n",
       "        vertical-align: top;\n",
       "    }\n",
       "\n",
       "    .dataframe thead th {\n",
       "        text-align: right;\n",
       "    }\n",
       "</style>\n",
       "<table border=\"1\" class=\"dataframe\">\n",
       "  <thead>\n",
       "    <tr style=\"text-align: right;\">\n",
       "      <th></th>\n",
       "      <th>fluxes</th>\n",
       "      <th>reduced_costs</th>\n",
       "    </tr>\n",
       "  </thead>\n",
       "  <tbody>\n",
       "    <tr>\n",
       "      <th>ACALD</th>\n",
       "      <td>0.000000</td>\n",
       "      <td>1.084202e-18</td>\n",
       "    </tr>\n",
       "    <tr>\n",
       "      <th>ACALDt</th>\n",
       "      <td>0.000000</td>\n",
       "      <td>0.000000e+00</td>\n",
       "    </tr>\n",
       "    <tr>\n",
       "      <th>ACKr</th>\n",
       "      <td>0.000000</td>\n",
       "      <td>8.673617e-19</td>\n",
       "    </tr>\n",
       "    <tr>\n",
       "      <th>ACONTa</th>\n",
       "      <td>6.007250</td>\n",
       "      <td>0.000000e+00</td>\n",
       "    </tr>\n",
       "    <tr>\n",
       "      <th>ACONTb</th>\n",
       "      <td>6.007250</td>\n",
       "      <td>0.000000e+00</td>\n",
       "    </tr>\n",
       "    <tr>\n",
       "      <th>...</th>\n",
       "      <td>...</td>\n",
       "      <td>...</td>\n",
       "    </tr>\n",
       "    <tr>\n",
       "      <th>TALA</th>\n",
       "      <td>1.496984</td>\n",
       "      <td>0.000000e+00</td>\n",
       "    </tr>\n",
       "    <tr>\n",
       "      <th>THD2</th>\n",
       "      <td>0.000000</td>\n",
       "      <td>-2.546243e-03</td>\n",
       "    </tr>\n",
       "    <tr>\n",
       "      <th>TKT1</th>\n",
       "      <td>1.496984</td>\n",
       "      <td>0.000000e+00</td>\n",
       "    </tr>\n",
       "    <tr>\n",
       "      <th>TKT2</th>\n",
       "      <td>1.181498</td>\n",
       "      <td>2.775558e-17</td>\n",
       "    </tr>\n",
       "    <tr>\n",
       "      <th>TPI</th>\n",
       "      <td>7.477382</td>\n",
       "      <td>0.000000e+00</td>\n",
       "    </tr>\n",
       "  </tbody>\n",
       "</table>\n",
       "<p>95 rows × 2 columns</p>\n",
       "</div>"
      ],
      "text/plain": [
       "<Solution 0.874 at 0x21ba2be49d0>"
      ]
     },
     "execution_count": 19,
     "metadata": {},
     "output_type": "execute_result"
    }
   ],
   "source": [
    "#performing a FBA simulation\n",
    "fba_solution = model.optimize()\n",
    "fba_solution"
   ]
  },
  {
   "cell_type": "markdown",
   "id": "326574a5",
   "metadata": {
    "pycharm": {
     "name": "#%% md\n"
    }
   },
   "source": [
    "Models solved using the FBA method can be further analysed using the `model.summary()` method.\n",
    "\n",
    "\n",
    "This method returns the flux value for the reaction defined as objective function. It also returns the fluxes for the exchange reactions. In this table, one can see uptake fluxes, which corresponds to the rates of metabolite cosumption in the model. On the other hand, the secretion fluxes corresponds to the rates of metabolite production in the model."
   ]
  },
  {
   "cell_type": "code",
   "execution_count": 20,
   "id": "89a661f7",
   "metadata": {
    "pycharm": {
     "name": "#%%\n"
    }
   },
   "outputs": [
    {
     "data": {
      "text/html": [
       "<h3>Objective</h3><p>1.0 Biomass_Ecoli_core = 0.8739215069684301</p><h4>Uptake</h4><table border=\"1\" class=\"dataframe\">\n",
       "  <thead>\n",
       "    <tr style=\"text-align: right;\">\n",
       "      <th>Metabolite</th>\n",
       "      <th>Reaction</th>\n",
       "      <th>Flux</th>\n",
       "      <th>C-Number</th>\n",
       "      <th>C-Flux</th>\n",
       "    </tr>\n",
       "  </thead>\n",
       "  <tbody>\n",
       "    <tr>\n",
       "      <td>glc__D_e</td>\n",
       "      <td>EX_glc__D_e</td>\n",
       "      <td>10</td>\n",
       "      <td>6</td>\n",
       "      <td>100.00%</td>\n",
       "    </tr>\n",
       "    <tr>\n",
       "      <td>nh4_e</td>\n",
       "      <td>EX_nh4_e</td>\n",
       "      <td>4.765</td>\n",
       "      <td>0</td>\n",
       "      <td>0.00%</td>\n",
       "    </tr>\n",
       "    <tr>\n",
       "      <td>o2_e</td>\n",
       "      <td>EX_o2_e</td>\n",
       "      <td>21.8</td>\n",
       "      <td>0</td>\n",
       "      <td>0.00%</td>\n",
       "    </tr>\n",
       "    <tr>\n",
       "      <td>pi_e</td>\n",
       "      <td>EX_pi_e</td>\n",
       "      <td>3.215</td>\n",
       "      <td>0</td>\n",
       "      <td>0.00%</td>\n",
       "    </tr>\n",
       "  </tbody>\n",
       "</table><h4>Secretion</h4><table border=\"1\" class=\"dataframe\">\n",
       "  <thead>\n",
       "    <tr style=\"text-align: right;\">\n",
       "      <th>Metabolite</th>\n",
       "      <th>Reaction</th>\n",
       "      <th>Flux</th>\n",
       "      <th>C-Number</th>\n",
       "      <th>C-Flux</th>\n",
       "    </tr>\n",
       "  </thead>\n",
       "  <tbody>\n",
       "    <tr>\n",
       "      <td>co2_e</td>\n",
       "      <td>EX_co2_e</td>\n",
       "      <td>-22.81</td>\n",
       "      <td>1</td>\n",
       "      <td>100.00%</td>\n",
       "    </tr>\n",
       "    <tr>\n",
       "      <td>h2o_e</td>\n",
       "      <td>EX_h2o_e</td>\n",
       "      <td>-29.18</td>\n",
       "      <td>0</td>\n",
       "      <td>0.00%</td>\n",
       "    </tr>\n",
       "    <tr>\n",
       "      <td>h_e</td>\n",
       "      <td>EX_h_e</td>\n",
       "      <td>-17.53</td>\n",
       "      <td>0</td>\n",
       "      <td>0.00%</td>\n",
       "    </tr>\n",
       "  </tbody>\n",
       "</table>"
      ],
      "text/plain": [
       "<cobra.summary.model_summary.ModelSummary at 0x21bee10a850>"
      ]
     },
     "execution_count": 20,
     "metadata": {},
     "output_type": "execute_result"
    }
   ],
   "source": [
    "model.summary()"
   ]
  },
  {
   "cell_type": "markdown",
   "id": "12014348",
   "metadata": {
    "pycharm": {
     "name": "#%% md\n"
    }
   },
   "source": [
    "#### Parsimonious Flux Balance Analysis (pFBA)"
   ]
  },
  {
   "cell_type": "markdown",
   "id": "abf11c94",
   "metadata": {
    "pycharm": {
     "name": "#%% md\n"
    }
   },
   "source": [
    "pFBA simulations gives the optimal growth rate, while minimizing the total sum of fluxes.\n",
    "pFBA can be used from the flux analysis package `cobra.flux_analysis.pfba(model)`."
   ]
  },
  {
   "cell_type": "code",
   "execution_count": 21,
   "id": "1b712fd0",
   "metadata": {
    "pycharm": {
     "name": "#%%\n"
    }
   },
   "outputs": [
    {
     "data": {
      "text/html": [
       "<strong><em>Optimal</em> solution with objective value 518.422</strong><br><div>\n",
       "<style scoped>\n",
       "    .dataframe tbody tr th:only-of-type {\n",
       "        vertical-align: middle;\n",
       "    }\n",
       "\n",
       "    .dataframe tbody tr th {\n",
       "        vertical-align: top;\n",
       "    }\n",
       "\n",
       "    .dataframe thead th {\n",
       "        text-align: right;\n",
       "    }\n",
       "</style>\n",
       "<table border=\"1\" class=\"dataframe\">\n",
       "  <thead>\n",
       "    <tr style=\"text-align: right;\">\n",
       "      <th></th>\n",
       "      <th>fluxes</th>\n",
       "      <th>reduced_costs</th>\n",
       "    </tr>\n",
       "  </thead>\n",
       "  <tbody>\n",
       "    <tr>\n",
       "      <th>ACALD</th>\n",
       "      <td>0.000000</td>\n",
       "      <td>-2.000000</td>\n",
       "    </tr>\n",
       "    <tr>\n",
       "      <th>ACALDt</th>\n",
       "      <td>0.000000</td>\n",
       "      <td>-2.000000</td>\n",
       "    </tr>\n",
       "    <tr>\n",
       "      <th>ACKr</th>\n",
       "      <td>0.000000</td>\n",
       "      <td>2.000000</td>\n",
       "    </tr>\n",
       "    <tr>\n",
       "      <th>ACONTa</th>\n",
       "      <td>6.007250</td>\n",
       "      <td>-2.000000</td>\n",
       "    </tr>\n",
       "    <tr>\n",
       "      <th>ACONTb</th>\n",
       "      <td>6.007250</td>\n",
       "      <td>-2.000000</td>\n",
       "    </tr>\n",
       "    <tr>\n",
       "      <th>...</th>\n",
       "      <td>...</td>\n",
       "      <td>...</td>\n",
       "    </tr>\n",
       "    <tr>\n",
       "      <th>TALA</th>\n",
       "      <td>1.496984</td>\n",
       "      <td>-2.000000</td>\n",
       "    </tr>\n",
       "    <tr>\n",
       "      <th>THD2</th>\n",
       "      <td>0.000000</td>\n",
       "      <td>3.822222</td>\n",
       "    </tr>\n",
       "    <tr>\n",
       "      <th>TKT1</th>\n",
       "      <td>1.496984</td>\n",
       "      <td>-2.000000</td>\n",
       "    </tr>\n",
       "    <tr>\n",
       "      <th>TKT2</th>\n",
       "      <td>1.181498</td>\n",
       "      <td>-2.000000</td>\n",
       "    </tr>\n",
       "    <tr>\n",
       "      <th>TPI</th>\n",
       "      <td>7.477382</td>\n",
       "      <td>-2.000000</td>\n",
       "    </tr>\n",
       "  </tbody>\n",
       "</table>\n",
       "<p>95 rows × 2 columns</p>\n",
       "</div>"
      ],
      "text/plain": [
       "<Solution 518.422 at 0x21ba2c36820>"
      ]
     },
     "execution_count": 21,
     "metadata": {},
     "output_type": "execute_result"
    }
   ],
   "source": [
    "#performing pfba simulation\n",
    "pfba_solution = cobra.flux_analysis.pfba(model)\n",
    "pfba_solution"
   ]
  },
  {
   "cell_type": "markdown",
   "id": "426310dc",
   "metadata": {
    "pycharm": {
     "name": "#%% md\n"
    }
   },
   "source": [
    "The optimal solution of the pFBA is considerably different from the FBA result. This happens because the objective value for the pFBA is defined as the sum of all flux values (`sum(abs(pfba_solution.fluxes.values))`). On the other hand the FBA result corresponds to the flux value of the reaction that is being optimized (`fba_solution.fluxes[\"Biomass_Ecoli_core\"]`)."
   ]
  },
  {
   "cell_type": "code",
   "execution_count": 25,
   "id": "e416cbc9",
   "metadata": {
    "pycharm": {
     "name": "#%%\n"
    }
   },
   "outputs": [
    {
     "data": {
      "text/plain": [
       "518.4220855176064"
      ]
     },
     "execution_count": 25,
     "metadata": {},
     "output_type": "execute_result"
    }
   ],
   "source": [
    "#calculating the objective value of a pFBA solution\n",
    "sum(abs(pfba_solution.fluxes.values))"
   ]
  },
  {
   "cell_type": "markdown",
   "id": "15c67909",
   "metadata": {
    "pycharm": {
     "name": "#%% md\n"
    }
   },
   "source": [
    "#### Flux Variability Analysis (FVA)"
   ]
  },
  {
   "cell_type": "markdown",
   "id": "c6cc5f62",
   "metadata": {
    "pycharm": {
     "name": "#%% md\n"
    }
   },
   "source": [
    "FBA does not obtain an unique flux distribution for a given objective function, but rathar a space with multiple optimum soltuion. FVA is a simulation method that finds the possible flux range for each reaction while optimizing the objective function. FVA can be used from the flux analysis package `cobra.flux_analysis.flux_variability_analysis(model)`."
   ]
  },
  {
   "cell_type": "code",
   "execution_count": 24,
   "id": "b2b4c04a",
   "metadata": {
    "pycharm": {
     "name": "#%%\n"
    },
    "scrolled": false
   },
   "outputs": [
    {
     "data": {
      "text/html": [
       "<div>\n",
       "<style scoped>\n",
       "    .dataframe tbody tr th:only-of-type {\n",
       "        vertical-align: middle;\n",
       "    }\n",
       "\n",
       "    .dataframe tbody tr th {\n",
       "        vertical-align: top;\n",
       "    }\n",
       "\n",
       "    .dataframe thead th {\n",
       "        text-align: right;\n",
       "    }\n",
       "</style>\n",
       "<table border=\"1\" class=\"dataframe\">\n",
       "  <thead>\n",
       "    <tr style=\"text-align: right;\">\n",
       "      <th></th>\n",
       "      <th>minimum</th>\n",
       "      <th>maximum</th>\n",
       "    </tr>\n",
       "  </thead>\n",
       "  <tbody>\n",
       "    <tr>\n",
       "      <th>ACALD</th>\n",
       "      <td>0.000000</td>\n",
       "      <td>0.000000</td>\n",
       "    </tr>\n",
       "    <tr>\n",
       "      <th>ACALDt</th>\n",
       "      <td>0.000000</td>\n",
       "      <td>0.000000</td>\n",
       "    </tr>\n",
       "    <tr>\n",
       "      <th>ACKr</th>\n",
       "      <td>0.000000</td>\n",
       "      <td>0.000000</td>\n",
       "    </tr>\n",
       "    <tr>\n",
       "      <th>ACONTa</th>\n",
       "      <td>6.007250</td>\n",
       "      <td>6.007250</td>\n",
       "    </tr>\n",
       "    <tr>\n",
       "      <th>ACONTb</th>\n",
       "      <td>6.007250</td>\n",
       "      <td>6.007250</td>\n",
       "    </tr>\n",
       "    <tr>\n",
       "      <th>...</th>\n",
       "      <td>...</td>\n",
       "      <td>...</td>\n",
       "    </tr>\n",
       "    <tr>\n",
       "      <th>TALA</th>\n",
       "      <td>1.496984</td>\n",
       "      <td>1.496984</td>\n",
       "    </tr>\n",
       "    <tr>\n",
       "      <th>THD2</th>\n",
       "      <td>0.000000</td>\n",
       "      <td>0.000000</td>\n",
       "    </tr>\n",
       "    <tr>\n",
       "      <th>TKT1</th>\n",
       "      <td>1.496984</td>\n",
       "      <td>1.496984</td>\n",
       "    </tr>\n",
       "    <tr>\n",
       "      <th>TKT2</th>\n",
       "      <td>1.181498</td>\n",
       "      <td>1.181498</td>\n",
       "    </tr>\n",
       "    <tr>\n",
       "      <th>TPI</th>\n",
       "      <td>7.477382</td>\n",
       "      <td>7.477382</td>\n",
       "    </tr>\n",
       "  </tbody>\n",
       "</table>\n",
       "<p>95 rows × 2 columns</p>\n",
       "</div>"
      ],
      "text/plain": [
       "         minimum   maximum\n",
       "ACALD   0.000000  0.000000\n",
       "ACALDt  0.000000  0.000000\n",
       "ACKr    0.000000  0.000000\n",
       "ACONTa  6.007250  6.007250\n",
       "ACONTb  6.007250  6.007250\n",
       "...          ...       ...\n",
       "TALA    1.496984  1.496984\n",
       "THD2    0.000000  0.000000\n",
       "TKT1    1.496984  1.496984\n",
       "TKT2    1.181498  1.181498\n",
       "TPI     7.477382  7.477382\n",
       "\n",
       "[95 rows x 2 columns]"
      ]
     },
     "execution_count": 24,
     "metadata": {},
     "output_type": "execute_result"
    }
   ],
   "source": [
    "#performing fva simulation\n",
    "fva_solution = cobra.flux_analysis.flux_variability_analysis(model)\n",
    "fva_solution"
   ]
  },
  {
   "cell_type": "markdown",
   "id": "e8ad48a1",
   "metadata": {
    "pycharm": {
     "name": "#%% md\n"
    }
   },
   "source": [
    "### Simulating Deletions"
   ]
  },
  {
   "cell_type": "markdown",
   "id": "f1aed98f",
   "metadata": {
    "pycharm": {
     "name": "#%% md\n"
    }
   },
   "source": [
    "As previously mentioned, COBRApy can be used to simulate gene or reaction knock outs or deletions."
   ]
  },
  {
   "cell_type": "markdown",
   "id": "227c1a25",
   "metadata": {
    "pycharm": {
     "name": "#%% md\n"
    }
   },
   "source": [
    "#### Single Reaction and Gene Knock outs"
   ]
  },
  {
   "cell_type": "markdown",
   "id": "0c0a6e67",
   "metadata": {
    "pycharm": {
     "name": "#%% md\n"
    }
   },
   "source": [
    "The function `knock_out()` can be used to access what happens when a specific reaction is knocked out and not allowed to have any flux. Considering the previously analysed PFK reaction:"
   ]
  },
  {
   "cell_type": "code",
   "execution_count": 36,
   "id": "fbb59894",
   "metadata": {
    "pycharm": {
     "name": "#%%\n"
    }
   },
   "outputs": [
    {
     "name": "stdout",
     "output_type": "stream",
     "text": [
      "PFK knocked out:  <Solution 0.704 at 0x21ba2d22130>\n"
     ]
    }
   ],
   "source": [
    "#knock out the ACALD reaction\n",
    "with model:\n",
    "    model.reactions.PFK.knock_out()\n",
    "    print('PFK knocked out: ', model.optimize())"
   ]
  },
  {
   "cell_type": "code",
   "execution_count": 39,
   "id": "b2ede2bc",
   "metadata": {
    "pycharm": {
     "name": "#%%\n"
    }
   },
   "outputs": [
    {
     "name": "stdout",
     "output_type": "stream",
     "text": [
      "b1723 knocked out:  <Solution 0.874 at 0x21ba2ba4160>\n",
      "pfkB knocked out:  <Solution 0.704 at 0x21ba2ba4220>\n"
     ]
    }
   ],
   "source": [
    "#knock out the b1723 and b3916 genes, which are associated with the pfk reaction\n",
    "with model:\n",
    "    model.genes.b1723.knock_out()\n",
    "    print('b1723 knocked out: ', model.optimize())\n",
    "    model.genes.b3916.knock_out()\n",
    "    print('b3916 knocked out: ', model.optimize())"
   ]
  },
  {
   "cell_type": "markdown",
   "id": "92f18d76",
   "metadata": {
    "pycharm": {
     "name": "#%% md\n"
    }
   },
   "source": [
    "Moreover, COBRApy incorporates to simulation methods that are used predict the flux distribution after a gene knock out. These are the Minimization of Metabolic Adjustment (MOMA), which can be called using `cobra.flux_analysis.moma()`, and Regulatory On/Off Minimization (ROOM), using `cobra.flux_analysis.room()`."
   ]
  },
  {
   "cell_type": "code",
   "execution_count": 57,
   "id": "6101d834",
   "metadata": {
    "pycharm": {
     "name": "#%%\n"
    }
   },
   "outputs": [
    {
     "name": "stdout",
     "output_type": "stream",
     "text": [
      "MOMA Result:  <Solution 288.041 at 0x21ba3a335e0>\n"
     ]
    }
   ],
   "source": [
    "#using MOMA with COBRApy\n",
    "with model:\n",
    "    model.genes.b1723.knock_out()\n",
    "    model.genes.b3916.knock_out()\n",
    "    moma_result = cobra.flux_analysis.moma(model, fba_solution)\n",
    "    print('MOMA Result: ', moma_result)"
   ]
  },
  {
   "cell_type": "code",
   "execution_count": 59,
   "id": "5f90bbc6",
   "metadata": {
    "pycharm": {
     "name": "#%%\n"
    }
   },
   "outputs": [
    {
     "name": "stdout",
     "output_type": "stream",
     "text": [
      "ROOM Result:  <Solution 41.000 at 0x21ba3a56fd0>\n"
     ]
    }
   ],
   "source": [
    "#using ROOM with COBRApy\n",
    "with model:\n",
    "    model.genes.b1723.knock_out()\n",
    "    model.genes.b3916.knock_out()\n",
    "    room_result = cobra.flux_analysis.room(model, fba_solution)\n",
    "    print('ROOM Result: ', room_result)"
   ]
  },
  {
   "cell_type": "markdown",
   "id": "fd66c161",
   "metadata": {
    "pycharm": {
     "name": "#%% md\n"
    }
   },
   "source": [
    "#### Single Deletions"
   ]
  },
  {
   "cell_type": "markdown",
   "id": "613a478b",
   "metadata": {
    "pycharm": {
     "name": "#%% md\n"
    }
   },
   "source": [
    "Single gene and reaction delections can also be simulated with the flux analysis package of COBRApy. To do so the `cobra.flux_analysis.single_gene_deletion()` and `cobra.flux_analysis.single_reaction_deletion()` methods."
   ]
  },
  {
   "cell_type": "code",
   "execution_count": 63,
   "id": "1841f60e",
   "metadata": {
    "pycharm": {
     "name": "#%%\n"
    }
   },
   "outputs": [
    {
     "data": {
      "text/html": [
       "<div>\n",
       "<style scoped>\n",
       "    .dataframe tbody tr th:only-of-type {\n",
       "        vertical-align: middle;\n",
       "    }\n",
       "\n",
       "    .dataframe tbody tr th {\n",
       "        vertical-align: top;\n",
       "    }\n",
       "\n",
       "    .dataframe thead th {\n",
       "        text-align: right;\n",
       "    }\n",
       "</style>\n",
       "<table border=\"1\" class=\"dataframe\">\n",
       "  <thead>\n",
       "    <tr style=\"text-align: right;\">\n",
       "      <th></th>\n",
       "      <th>ids</th>\n",
       "      <th>growth</th>\n",
       "      <th>status</th>\n",
       "    </tr>\n",
       "  </thead>\n",
       "  <tbody>\n",
       "    <tr>\n",
       "      <th>0</th>\n",
       "      <td>{ACt2r}</td>\n",
       "      <td>0.873922</td>\n",
       "      <td>optimal</td>\n",
       "    </tr>\n",
       "    <tr>\n",
       "      <th>1</th>\n",
       "      <td>{ALCD2x}</td>\n",
       "      <td>0.873922</td>\n",
       "      <td>optimal</td>\n",
       "    </tr>\n",
       "    <tr>\n",
       "      <th>2</th>\n",
       "      <td>{GAPD}</td>\n",
       "      <td>0.000000</td>\n",
       "      <td>optimal</td>\n",
       "    </tr>\n",
       "    <tr>\n",
       "      <th>3</th>\n",
       "      <td>{EX_glc__D_e}</td>\n",
       "      <td>NaN</td>\n",
       "      <td>infeasible</td>\n",
       "    </tr>\n",
       "    <tr>\n",
       "      <th>4</th>\n",
       "      <td>{SUCCt3}</td>\n",
       "      <td>0.873922</td>\n",
       "      <td>optimal</td>\n",
       "    </tr>\n",
       "    <tr>\n",
       "      <th>...</th>\n",
       "      <td>...</td>\n",
       "      <td>...</td>\n",
       "      <td>...</td>\n",
       "    </tr>\n",
       "    <tr>\n",
       "      <th>90</th>\n",
       "      <td>{MALt2_2}</td>\n",
       "      <td>0.873922</td>\n",
       "      <td>optimal</td>\n",
       "    </tr>\n",
       "    <tr>\n",
       "      <th>91</th>\n",
       "      <td>{ICDHyr}</td>\n",
       "      <td>0.000000</td>\n",
       "      <td>optimal</td>\n",
       "    </tr>\n",
       "    <tr>\n",
       "      <th>92</th>\n",
       "      <td>{PPS}</td>\n",
       "      <td>0.873922</td>\n",
       "      <td>optimal</td>\n",
       "    </tr>\n",
       "    <tr>\n",
       "      <th>93</th>\n",
       "      <td>{PYK}</td>\n",
       "      <td>0.864926</td>\n",
       "      <td>optimal</td>\n",
       "    </tr>\n",
       "    <tr>\n",
       "      <th>94</th>\n",
       "      <td>{PGK}</td>\n",
       "      <td>0.000000</td>\n",
       "      <td>optimal</td>\n",
       "    </tr>\n",
       "  </tbody>\n",
       "</table>\n",
       "<p>95 rows × 3 columns</p>\n",
       "</div>"
      ],
      "text/plain": [
       "              ids    growth      status\n",
       "0         {ACt2r}  0.873922     optimal\n",
       "1        {ALCD2x}  0.873922     optimal\n",
       "2          {GAPD}  0.000000     optimal\n",
       "3   {EX_glc__D_e}       NaN  infeasible\n",
       "4        {SUCCt3}  0.873922     optimal\n",
       "..            ...       ...         ...\n",
       "90      {MALt2_2}  0.873922     optimal\n",
       "91       {ICDHyr}  0.000000     optimal\n",
       "92          {PPS}  0.873922     optimal\n",
       "93          {PYK}  0.864926     optimal\n",
       "94          {PGK}  0.000000     optimal\n",
       "\n",
       "[95 rows x 3 columns]"
      ]
     },
     "execution_count": 63,
     "metadata": {},
     "output_type": "execute_result"
    }
   ],
   "source": [
    "#single reaction deletion\n",
    "reaction_deletion_results = cobra.flux_analysis.single_reaction_deletion(model)\n",
    "reaction_deletion_results"
   ]
  },
  {
   "cell_type": "code",
   "execution_count": 65,
   "id": "7ce5a73a",
   "metadata": {
    "pycharm": {
     "name": "#%%\n"
    }
   },
   "outputs": [
    {
     "data": {
      "text/html": [
       "<div>\n",
       "<style scoped>\n",
       "    .dataframe tbody tr th:only-of-type {\n",
       "        vertical-align: middle;\n",
       "    }\n",
       "\n",
       "    .dataframe tbody tr th {\n",
       "        vertical-align: top;\n",
       "    }\n",
       "\n",
       "    .dataframe thead th {\n",
       "        text-align: right;\n",
       "    }\n",
       "</style>\n",
       "<table border=\"1\" class=\"dataframe\">\n",
       "  <thead>\n",
       "    <tr style=\"text-align: right;\">\n",
       "      <th></th>\n",
       "      <th>ids</th>\n",
       "      <th>growth</th>\n",
       "      <th>status</th>\n",
       "    </tr>\n",
       "  </thead>\n",
       "  <tbody>\n",
       "    <tr>\n",
       "      <th>0</th>\n",
       "      <td>{b2914}</td>\n",
       "      <td>0.873922</td>\n",
       "      <td>optimal</td>\n",
       "    </tr>\n",
       "    <tr>\n",
       "      <th>1</th>\n",
       "      <td>{b0729}</td>\n",
       "      <td>0.858307</td>\n",
       "      <td>optimal</td>\n",
       "    </tr>\n",
       "    <tr>\n",
       "      <th>2</th>\n",
       "      <td>{b1849}</td>\n",
       "      <td>0.873922</td>\n",
       "      <td>optimal</td>\n",
       "    </tr>\n",
       "    <tr>\n",
       "      <th>3</th>\n",
       "      <td>{b3731}</td>\n",
       "      <td>0.374230</td>\n",
       "      <td>optimal</td>\n",
       "    </tr>\n",
       "    <tr>\n",
       "      <th>4</th>\n",
       "      <td>{b1612}</td>\n",
       "      <td>0.873922</td>\n",
       "      <td>optimal</td>\n",
       "    </tr>\n",
       "    <tr>\n",
       "      <th>...</th>\n",
       "      <td>...</td>\n",
       "      <td>...</td>\n",
       "      <td>...</td>\n",
       "    </tr>\n",
       "    <tr>\n",
       "      <th>132</th>\n",
       "      <td>{b0485}</td>\n",
       "      <td>0.873922</td>\n",
       "      <td>optimal</td>\n",
       "    </tr>\n",
       "    <tr>\n",
       "      <th>133</th>\n",
       "      <td>{b0724}</td>\n",
       "      <td>0.814298</td>\n",
       "      <td>optimal</td>\n",
       "    </tr>\n",
       "    <tr>\n",
       "      <th>134</th>\n",
       "      <td>{b2285}</td>\n",
       "      <td>0.211663</td>\n",
       "      <td>optimal</td>\n",
       "    </tr>\n",
       "    <tr>\n",
       "      <th>135</th>\n",
       "      <td>{b2415}</td>\n",
       "      <td>NaN</td>\n",
       "      <td>infeasible</td>\n",
       "    </tr>\n",
       "    <tr>\n",
       "      <th>136</th>\n",
       "      <td>{b2283}</td>\n",
       "      <td>0.211663</td>\n",
       "      <td>optimal</td>\n",
       "    </tr>\n",
       "  </tbody>\n",
       "</table>\n",
       "<p>137 rows × 3 columns</p>\n",
       "</div>"
      ],
      "text/plain": [
       "         ids    growth      status\n",
       "0    {b2914}  0.873922     optimal\n",
       "1    {b0729}  0.858307     optimal\n",
       "2    {b1849}  0.873922     optimal\n",
       "3    {b3731}  0.374230     optimal\n",
       "4    {b1612}  0.873922     optimal\n",
       "..       ...       ...         ...\n",
       "132  {b0485}  0.873922     optimal\n",
       "133  {b0724}  0.814298     optimal\n",
       "134  {b2285}  0.211663     optimal\n",
       "135  {b2415}       NaN  infeasible\n",
       "136  {b2283}  0.211663     optimal\n",
       "\n",
       "[137 rows x 3 columns]"
      ]
     },
     "execution_count": 65,
     "metadata": {},
     "output_type": "execute_result"
    }
   ],
   "source": [
    "#single gene deletion\n",
    "gene_deletion_results = cobra.flux_analysis.single_gene_deletion(model)\n",
    "gene_deletion_results"
   ]
  },
  {
   "cell_type": "markdown",
   "id": "e800f7aa",
   "metadata": {
    "pycharm": {
     "name": "#%% md\n"
    }
   },
   "source": [
    "It is worth noting that genes and reactions with a growth value equal to zero can be considered as essential genes or essential reactions, respectively."
   ]
  },
  {
   "cell_type": "markdown",
   "id": "f13be5b5",
   "metadata": {
    "pycharm": {
     "name": "#%% md\n"
    }
   },
   "source": [
    "#### Double Delections"
   ]
  },
  {
   "cell_type": "markdown",
   "id": "61f39278",
   "metadata": {
    "pycharm": {
     "name": "#%% md\n"
    }
   },
   "source": [
    "Double gene and reaction delections can also be simulated with the flux analysis package of COBRApy. To do so the `cobra.flux_analysis.double_gene_deletion()` and `cobra.flux_analysis.double_reaction_deletion()` methods. These methods test the deletion of all the possible combinations."
   ]
  },
  {
   "cell_type": "code",
   "execution_count": 66,
   "id": "4e16b218",
   "metadata": {
    "pycharm": {
     "name": "#%%\n"
    }
   },
   "outputs": [
    {
     "data": {
      "text/html": [
       "<div>\n",
       "<style scoped>\n",
       "    .dataframe tbody tr th:only-of-type {\n",
       "        vertical-align: middle;\n",
       "    }\n",
       "\n",
       "    .dataframe tbody tr th {\n",
       "        vertical-align: top;\n",
       "    }\n",
       "\n",
       "    .dataframe thead th {\n",
       "        text-align: right;\n",
       "    }\n",
       "</style>\n",
       "<table border=\"1\" class=\"dataframe\">\n",
       "  <thead>\n",
       "    <tr style=\"text-align: right;\">\n",
       "      <th></th>\n",
       "      <th>ids</th>\n",
       "      <th>growth</th>\n",
       "      <th>status</th>\n",
       "    </tr>\n",
       "  </thead>\n",
       "  <tbody>\n",
       "    <tr>\n",
       "      <th>0</th>\n",
       "      <td>{ALCD2x, EX_pyr_e}</td>\n",
       "      <td>0.873922</td>\n",
       "      <td>optimal</td>\n",
       "    </tr>\n",
       "    <tr>\n",
       "      <th>1</th>\n",
       "      <td>{PYK, CO2t}</td>\n",
       "      <td>0.429326</td>\n",
       "      <td>optimal</td>\n",
       "    </tr>\n",
       "    <tr>\n",
       "      <th>2</th>\n",
       "      <td>{FBP, EX_akg_e}</td>\n",
       "      <td>0.873922</td>\n",
       "      <td>optimal</td>\n",
       "    </tr>\n",
       "    <tr>\n",
       "      <th>3</th>\n",
       "      <td>{EX_mal__L_e, TALA}</td>\n",
       "      <td>0.864759</td>\n",
       "      <td>optimal</td>\n",
       "    </tr>\n",
       "    <tr>\n",
       "      <th>4</th>\n",
       "      <td>{MDH, GLNS}</td>\n",
       "      <td>0.000000</td>\n",
       "      <td>optimal</td>\n",
       "    </tr>\n",
       "    <tr>\n",
       "      <th>...</th>\n",
       "      <td>...</td>\n",
       "      <td>...</td>\n",
       "      <td>...</td>\n",
       "    </tr>\n",
       "    <tr>\n",
       "      <th>4555</th>\n",
       "      <td>{THD2, FORt2}</td>\n",
       "      <td>0.873922</td>\n",
       "      <td>optimal</td>\n",
       "    </tr>\n",
       "    <tr>\n",
       "      <th>4556</th>\n",
       "      <td>{EX_nh4_e, GLUDy}</td>\n",
       "      <td>0.000000</td>\n",
       "      <td>optimal</td>\n",
       "    </tr>\n",
       "    <tr>\n",
       "      <th>4557</th>\n",
       "      <td>{PYRt2, FRD7}</td>\n",
       "      <td>0.873922</td>\n",
       "      <td>optimal</td>\n",
       "    </tr>\n",
       "    <tr>\n",
       "      <th>4558</th>\n",
       "      <td>{RPE, GND}</td>\n",
       "      <td>0.000000</td>\n",
       "      <td>optimal</td>\n",
       "    </tr>\n",
       "    <tr>\n",
       "      <th>4559</th>\n",
       "      <td>{PYRt2, H2Ot}</td>\n",
       "      <td>0.383515</td>\n",
       "      <td>optimal</td>\n",
       "    </tr>\n",
       "  </tbody>\n",
       "</table>\n",
       "<p>4560 rows × 3 columns</p>\n",
       "</div>"
      ],
      "text/plain": [
       "                      ids    growth   status\n",
       "0      {ALCD2x, EX_pyr_e}  0.873922  optimal\n",
       "1             {PYK, CO2t}  0.429326  optimal\n",
       "2         {FBP, EX_akg_e}  0.873922  optimal\n",
       "3     {EX_mal__L_e, TALA}  0.864759  optimal\n",
       "4             {MDH, GLNS}  0.000000  optimal\n",
       "...                   ...       ...      ...\n",
       "4555        {THD2, FORt2}  0.873922  optimal\n",
       "4556    {EX_nh4_e, GLUDy}  0.000000  optimal\n",
       "4557        {PYRt2, FRD7}  0.873922  optimal\n",
       "4558           {RPE, GND}  0.000000  optimal\n",
       "4559        {PYRt2, H2Ot}  0.383515  optimal\n",
       "\n",
       "[4560 rows x 3 columns]"
      ]
     },
     "execution_count": 66,
     "metadata": {},
     "output_type": "execute_result"
    }
   ],
   "source": [
    "#double reaction deletion\n",
    "double_reaction_deletion_results = cobra.flux_analysis.double_reaction_deletion(model)\n",
    "double_reaction_deletion_results"
   ]
  },
  {
   "cell_type": "code",
   "execution_count": 67,
   "id": "4dd61842",
   "metadata": {
    "pycharm": {
     "name": "#%%\n"
    }
   },
   "outputs": [
    {
     "data": {
      "text/html": [
       "<div>\n",
       "<style scoped>\n",
       "    .dataframe tbody tr th:only-of-type {\n",
       "        vertical-align: middle;\n",
       "    }\n",
       "\n",
       "    .dataframe tbody tr th {\n",
       "        vertical-align: top;\n",
       "    }\n",
       "\n",
       "    .dataframe thead th {\n",
       "        text-align: right;\n",
       "    }\n",
       "</style>\n",
       "<table border=\"1\" class=\"dataframe\">\n",
       "  <thead>\n",
       "    <tr style=\"text-align: right;\">\n",
       "      <th></th>\n",
       "      <th>ids</th>\n",
       "      <th>growth</th>\n",
       "      <th>status</th>\n",
       "    </tr>\n",
       "  </thead>\n",
       "  <tbody>\n",
       "    <tr>\n",
       "      <th>0</th>\n",
       "      <td>{s0001, b0729}</td>\n",
       "      <td>0.211141</td>\n",
       "      <td>optimal</td>\n",
       "    </tr>\n",
       "    <tr>\n",
       "      <th>1</th>\n",
       "      <td>{b0978, b2296}</td>\n",
       "      <td>0.873922</td>\n",
       "      <td>optimal</td>\n",
       "    </tr>\n",
       "    <tr>\n",
       "      <th>2</th>\n",
       "      <td>{b0903, b1297}</td>\n",
       "      <td>0.873922</td>\n",
       "      <td>optimal</td>\n",
       "    </tr>\n",
       "    <tr>\n",
       "      <th>3</th>\n",
       "      <td>{b2277, b0721}</td>\n",
       "      <td>0.211663</td>\n",
       "      <td>optimal</td>\n",
       "    </tr>\n",
       "    <tr>\n",
       "      <th>4</th>\n",
       "      <td>{b2926, b3737}</td>\n",
       "      <td>NaN</td>\n",
       "      <td>infeasible</td>\n",
       "    </tr>\n",
       "    <tr>\n",
       "      <th>...</th>\n",
       "      <td>...</td>\n",
       "      <td>...</td>\n",
       "      <td>...</td>\n",
       "    </tr>\n",
       "    <tr>\n",
       "      <th>9448</th>\n",
       "      <td>{b3603, b0116}</td>\n",
       "      <td>0.782351</td>\n",
       "      <td>optimal</td>\n",
       "    </tr>\n",
       "    <tr>\n",
       "      <th>9449</th>\n",
       "      <td>{b1276, b3403}</td>\n",
       "      <td>0.873922</td>\n",
       "      <td>optimal</td>\n",
       "    </tr>\n",
       "    <tr>\n",
       "      <th>9450</th>\n",
       "      <td>{b2465, b3731}</td>\n",
       "      <td>0.374230</td>\n",
       "      <td>optimal</td>\n",
       "    </tr>\n",
       "    <tr>\n",
       "      <th>9451</th>\n",
       "      <td>{b1818, b1611}</td>\n",
       "      <td>0.873922</td>\n",
       "      <td>optimal</td>\n",
       "    </tr>\n",
       "    <tr>\n",
       "      <th>9452</th>\n",
       "      <td>{b0451, b3386}</td>\n",
       "      <td>0.873922</td>\n",
       "      <td>optimal</td>\n",
       "    </tr>\n",
       "  </tbody>\n",
       "</table>\n",
       "<p>9453 rows × 3 columns</p>\n",
       "</div>"
      ],
      "text/plain": [
       "                 ids    growth      status\n",
       "0     {s0001, b0729}  0.211141     optimal\n",
       "1     {b0978, b2296}  0.873922     optimal\n",
       "2     {b0903, b1297}  0.873922     optimal\n",
       "3     {b2277, b0721}  0.211663     optimal\n",
       "4     {b2926, b3737}       NaN  infeasible\n",
       "...              ...       ...         ...\n",
       "9448  {b3603, b0116}  0.782351     optimal\n",
       "9449  {b1276, b3403}  0.873922     optimal\n",
       "9450  {b2465, b3731}  0.374230     optimal\n",
       "9451  {b1818, b1611}  0.873922     optimal\n",
       "9452  {b0451, b3386}  0.873922     optimal\n",
       "\n",
       "[9453 rows x 3 columns]"
      ]
     },
     "execution_count": 67,
     "metadata": {},
     "output_type": "execute_result"
    }
   ],
   "source": [
    "#double reaction deletion\n",
    "double_gene_deletion_results = cobra.flux_analysis.double_gene_deletion(model)\n",
    "double_gene_deletion_results"
   ]
  },
  {
   "cell_type": "markdown",
   "id": "a7db1b17",
   "metadata": {
    "pycharm": {
     "name": "#%% md\n"
    }
   },
   "source": [
    "### Production envelopes"
   ]
  },
  {
   "cell_type": "markdown",
   "id": "46da3428",
   "metadata": {
    "pycharm": {
     "name": "#%% md\n"
    }
   },
   "source": [
    "Production Envelopes can be used to show distinct phases of optimal growth using two different carbon substrates. If we want to access a phenotype phase plane to evaluate uptakes of Glucose and Oxygen:"
   ]
  },
  {
   "cell_type": "code",
   "execution_count": 93,
   "id": "a765ac20",
   "metadata": {
    "pycharm": {
     "name": "#%%\n"
    }
   },
   "outputs": [
    {
     "data": {
      "text/html": [
       "<div>\n",
       "<style scoped>\n",
       "    .dataframe tbody tr th:only-of-type {\n",
       "        vertical-align: middle;\n",
       "    }\n",
       "\n",
       "    .dataframe tbody tr th {\n",
       "        vertical-align: top;\n",
       "    }\n",
       "\n",
       "    .dataframe thead th {\n",
       "        text-align: right;\n",
       "    }\n",
       "</style>\n",
       "<table border=\"1\" class=\"dataframe\">\n",
       "  <thead>\n",
       "    <tr style=\"text-align: right;\">\n",
       "      <th></th>\n",
       "      <th>carbon_source</th>\n",
       "      <th>flux_minimum</th>\n",
       "      <th>carbon_yield_minimum</th>\n",
       "      <th>mass_yield_minimum</th>\n",
       "      <th>flux_maximum</th>\n",
       "      <th>carbon_yield_maximum</th>\n",
       "      <th>mass_yield_maximum</th>\n",
       "      <th>EX_glc__D_e</th>\n",
       "      <th>EX_o2_e</th>\n",
       "    </tr>\n",
       "  </thead>\n",
       "  <tbody>\n",
       "    <tr>\n",
       "      <th>0</th>\n",
       "      <td>EX_glc__D_e</td>\n",
       "      <td>0.0</td>\n",
       "      <td>0.0</td>\n",
       "      <td>NaN</td>\n",
       "      <td>0.000000</td>\n",
       "      <td>0.00000</td>\n",
       "      <td>NaN</td>\n",
       "      <td>-10.0</td>\n",
       "      <td>-60.000000</td>\n",
       "    </tr>\n",
       "    <tr>\n",
       "      <th>1</th>\n",
       "      <td>EX_glc__D_e</td>\n",
       "      <td>0.0</td>\n",
       "      <td>0.0</td>\n",
       "      <td>NaN</td>\n",
       "      <td>0.072244</td>\n",
       "      <td>1.31005</td>\n",
       "      <td>NaN</td>\n",
       "      <td>-10.0</td>\n",
       "      <td>-56.842105</td>\n",
       "    </tr>\n",
       "    <tr>\n",
       "      <th>2</th>\n",
       "      <td>EX_glc__D_e</td>\n",
       "      <td>0.0</td>\n",
       "      <td>0.0</td>\n",
       "      <td>NaN</td>\n",
       "      <td>0.144488</td>\n",
       "      <td>2.62010</td>\n",
       "      <td>NaN</td>\n",
       "      <td>-10.0</td>\n",
       "      <td>-53.684211</td>\n",
       "    </tr>\n",
       "    <tr>\n",
       "      <th>3</th>\n",
       "      <td>EX_glc__D_e</td>\n",
       "      <td>0.0</td>\n",
       "      <td>0.0</td>\n",
       "      <td>NaN</td>\n",
       "      <td>0.216732</td>\n",
       "      <td>3.93015</td>\n",
       "      <td>NaN</td>\n",
       "      <td>-10.0</td>\n",
       "      <td>-50.526316</td>\n",
       "    </tr>\n",
       "    <tr>\n",
       "      <th>4</th>\n",
       "      <td>EX_glc__D_e</td>\n",
       "      <td>0.0</td>\n",
       "      <td>0.0</td>\n",
       "      <td>NaN</td>\n",
       "      <td>0.288975</td>\n",
       "      <td>5.24020</td>\n",
       "      <td>NaN</td>\n",
       "      <td>-10.0</td>\n",
       "      <td>-47.368421</td>\n",
       "    </tr>\n",
       "  </tbody>\n",
       "</table>\n",
       "</div>"
      ],
      "text/plain": [
       "  carbon_source  flux_minimum  carbon_yield_minimum  mass_yield_minimum  \\\n",
       "0   EX_glc__D_e           0.0                   0.0                 NaN   \n",
       "1   EX_glc__D_e           0.0                   0.0                 NaN   \n",
       "2   EX_glc__D_e           0.0                   0.0                 NaN   \n",
       "3   EX_glc__D_e           0.0                   0.0                 NaN   \n",
       "4   EX_glc__D_e           0.0                   0.0                 NaN   \n",
       "\n",
       "   flux_maximum  carbon_yield_maximum  mass_yield_maximum  EX_glc__D_e  \\\n",
       "0      0.000000               0.00000                 NaN        -10.0   \n",
       "1      0.072244               1.31005                 NaN        -10.0   \n",
       "2      0.144488               2.62010                 NaN        -10.0   \n",
       "3      0.216732               3.93015                 NaN        -10.0   \n",
       "4      0.288975               5.24020                 NaN        -10.0   \n",
       "\n",
       "     EX_o2_e  \n",
       "0 -60.000000  \n",
       "1 -56.842105  \n",
       "2 -53.684211  \n",
       "3 -50.526316  \n",
       "4 -47.368421  "
      ]
     },
     "execution_count": 93,
     "metadata": {},
     "output_type": "execute_result"
    }
   ],
   "source": [
    "#How to perform a production envolope\n",
    "prod_env = cobra.flux_analysis.production_envelope(model, [\"EX_glc__D_e\", \"EX_o2_e\"])\n",
    "prod_env.head()"
   ]
  },
  {
   "cell_type": "markdown",
   "id": "f375970f",
   "metadata": {
    "pycharm": {
     "name": "#%% md\n"
    }
   },
   "source": [
    "Moreover, if we want to specify the carbon source, the `production_envelope()` can also return the carbon and mass yield. For instance, when the objective is to produce Acetate, it is possible to obtain a production envelope as follows and quickly plot the results:"
   ]
  },
  {
   "cell_type": "code",
   "execution_count": 95,
   "id": "7880b2aa",
   "metadata": {
    "pycharm": {
     "name": "#%%\n"
    }
   },
   "outputs": [
    {
     "data": {
      "text/plain": [
       "<matplotlib.axes._subplots.AxesSubplot at 0x21bacf6cc70>"
      ]
     },
     "execution_count": 95,
     "metadata": {},
     "output_type": "execute_result"
    },
    {
     "data": {
      "image/png": "[encoded data removed]",
      "text/plain": [
       "<Figure size 432x288 with 1 Axes>"
      ]
     },
     "metadata": {
      "needs_background": "light"
     },
     "output_type": "display_data"
    }
   ],
   "source": [
    "#obtain a plot of a production envelope using glucose as carbon source and optimizing Acetate production\n",
    "prod_env = cobra.flux_analysis.production_envelope(model, [\"EX_o2_e\"], objective=\"EX_ac_e\", carbon_sources=\"EX_glc__D_e\")\n",
    "prod_env.plot(kind='line', x='EX_o2_e', y='carbon_yield_maximum')"
   ]
  },
  {
   "cell_type": "markdown",
   "id": "2807d7bf",
   "metadata": {
    "pycharm": {
     "name": "#%% md\n"
    }
   },
   "source": [
    "Finally, the production envelope can also be used obtain a flux variation plot. This can be achieved as follows:"
   ]
  },
  {
   "cell_type": "code",
   "execution_count": 96,
   "id": "878664b8",
   "metadata": {
    "pycharm": {
     "name": "#%%\n"
    }
   },
   "outputs": [
    {
     "data": {
      "text/plain": [
       "<matplotlib.axes._subplots.AxesSubplot at 0x21bacfb49d0>"
      ]
     },
     "execution_count": 96,
     "metadata": {},
     "output_type": "execute_result"
    },
    {
     "data": {
      "image/png": "[encoded data removed]",
      "text/plain": [
       "<Figure size 432x288 with 1 Axes>"
      ]
     },
     "metadata": {
      "needs_background": "light"
     },
     "output_type": "display_data"
    }
   ],
   "source": [
    "#obtain a flux varariation plot\n",
    "prod_env_co2 = cobra.flux_analysis.production_envelope(model, [\"Biomass_Ecoli_core\"], objective=['EX_co2_e'])\n",
    "prod_env_co2.plot(kind='line', x='Biomass_Ecoli_core', y=['flux_minimum', 'flux_maximum'])"
   ]
  },
  {
   "cell_type": "markdown",
   "id": "1e50d254",
   "metadata": {
    "pycharm": {
     "name": "#%% md\n"
    }
   },
   "source": [
    "### Pathway Visualization"
   ]
  },
  {
   "cell_type": "markdown",
   "id": "f4a21891",
   "metadata": {
    "pycharm": {
     "name": "#%% md\n"
    }
   },
   "source": [
    "COBRApy does not include any pathway visualization method. Nevertheless, independent tools that work with cobra models can be use for that goal. One of such tools is named Escher.\n",
    "\n",
    "Escher allows the visualization of metabolic pathway maps. Escher maps can be build using the `escher.Build()` function, which requires the model and a FBA solution.\n",
    "\n",
    "To obtain the metabolic map for the model in question, Escher can be run as follows:"
   ]
  },
  {
   "cell_type": "code",
   "execution_count": 98,
   "id": "1d0526c7",
   "metadata": {
    "pycharm": {
     "name": "#%%\n"
    }
   },
   "outputs": [
    {
     "ename": "ImportError",
     "evalue": "cannot import name 'soft_unicode' from 'markupsafe' (C:\\Users\\biosy\\AppData\\Local\\Programs\\Python\\Python38\\lib\\site-packages\\markupsafe\\__init__.py)",
     "output_type": "error",
     "traceback": [
      "\u001B[1;31m---------------------------------------------------------------------------\u001B[0m",
      "\u001B[1;31mImportError\u001B[0m                               Traceback (most recent call last)",
      "Input \u001B[1;32mIn [98]\u001B[0m, in \u001B[0;36m<cell line: 1>\u001B[1;34m()\u001B[0m\n\u001B[1;32m----> 1\u001B[0m \u001B[38;5;28;01mimport\u001B[39;00m \u001B[38;5;21;01mescher\u001B[39;00m\n\u001B[0;32m      3\u001B[0m builder \u001B[38;5;241m=\u001B[39m escher\u001B[38;5;241m.\u001B[39mBuilder(map_name\u001B[38;5;241m=\u001B[39m\u001B[38;5;124m'\u001B[39m\u001B[38;5;124me_coli_core.Core metabolism\u001B[39m\u001B[38;5;124m'\u001B[39m, model\u001B[38;5;241m=\u001B[39mmodel, reaction_data\u001B[38;5;241m=\u001B[39mfba_solution\u001B[38;5;241m.\u001B[39mfluxes)\n\u001B[0;32m      4\u001B[0m builder\n",
      "File \u001B[1;32m~\\AppData\\Local\\Programs\\Python\\Python38\\lib\\site-packages\\escher\\__init__.py:11\u001B[0m, in \u001B[0;36m<module>\u001B[1;34m\u001B[0m\n\u001B[0;32m      2\u001B[0m rc \u001B[38;5;241m=\u001B[39m {}\n\u001B[0;32m      5\u001B[0m \u001B[38;5;28;01mfrom\u001B[39;00m \u001B[38;5;21;01mescher\u001B[39;00m\u001B[38;5;21;01m.\u001B[39;00m\u001B[38;5;21;01mversion\u001B[39;00m \u001B[38;5;28;01mimport\u001B[39;00m (\n\u001B[0;32m      6\u001B[0m     __version__,\n\u001B[0;32m      7\u001B[0m     __schema_version__,\n\u001B[0;32m      8\u001B[0m     __map_model_version__,\n\u001B[0;32m      9\u001B[0m )\n\u001B[1;32m---> 11\u001B[0m \u001B[38;5;28;01mfrom\u001B[39;00m \u001B[38;5;21;01mescher\u001B[39;00m\u001B[38;5;21;01m.\u001B[39;00m\u001B[38;5;21;01mplots\u001B[39;00m \u001B[38;5;28;01mimport\u001B[39;00m (\n\u001B[0;32m     12\u001B[0m     Builder,\n\u001B[0;32m     13\u001B[0m     list_available_maps,\n\u001B[0;32m     14\u001B[0m     list_available_models,\n\u001B[0;32m     15\u001B[0m )\n\u001B[0;32m     18\u001B[0m \u001B[38;5;28;01mdef\u001B[39;00m \u001B[38;5;21m_jupyter_nbextension_paths\u001B[39m():\n\u001B[0;32m     19\u001B[0m     \u001B[38;5;28;01mreturn\u001B[39;00m [{\n\u001B[0;32m     20\u001B[0m         \u001B[38;5;124m'\u001B[39m\u001B[38;5;124msection\u001B[39m\u001B[38;5;124m'\u001B[39m: \u001B[38;5;124m'\u001B[39m\u001B[38;5;124mnotebook\u001B[39m\u001B[38;5;124m'\u001B[39m,\n\u001B[0;32m     21\u001B[0m         \u001B[38;5;124m'\u001B[39m\u001B[38;5;124msrc\u001B[39m\u001B[38;5;124m'\u001B[39m: \u001B[38;5;124m'\u001B[39m\u001B[38;5;124mstatic\u001B[39m\u001B[38;5;124m'\u001B[39m,\n\u001B[0;32m     22\u001B[0m         \u001B[38;5;124m'\u001B[39m\u001B[38;5;124mdest\u001B[39m\u001B[38;5;124m'\u001B[39m: \u001B[38;5;124m'\u001B[39m\u001B[38;5;124mescher\u001B[39m\u001B[38;5;124m'\u001B[39m,\n\u001B[0;32m     23\u001B[0m         \u001B[38;5;124m'\u001B[39m\u001B[38;5;124mrequire\u001B[39m\u001B[38;5;124m'\u001B[39m: \u001B[38;5;124m'\u001B[39m\u001B[38;5;124mescher/extension\u001B[39m\u001B[38;5;124m'\u001B[39m\n\u001B[0;32m     24\u001B[0m     }]\n",
      "File \u001B[1;32m~\\AppData\\Local\\Programs\\Python\\Python38\\lib\\site-packages\\escher\\plots.py:20\u001B[0m, in \u001B[0;36m<module>\u001B[1;34m\u001B[0m\n\u001B[0;32m     18\u001B[0m \u001B[38;5;28;01mimport\u001B[39;00m \u001B[38;5;21;01mshutil\u001B[39;00m\n\u001B[0;32m     19\u001B[0m \u001B[38;5;28;01mimport\u001B[39;00m \u001B[38;5;21;01mre\u001B[39;00m\n\u001B[1;32m---> 20\u001B[0m \u001B[38;5;28;01mfrom\u001B[39;00m \u001B[38;5;21;01mjinja2\u001B[39;00m \u001B[38;5;28;01mimport\u001B[39;00m Environment, PackageLoader, Template\n\u001B[0;32m     21\u001B[0m \u001B[38;5;28;01mimport\u001B[39;00m \u001B[38;5;21;01mcodecs\u001B[39;00m\n\u001B[0;32m     22\u001B[0m \u001B[38;5;28;01mimport\u001B[39;00m \u001B[38;5;21;01mrandom\u001B[39;00m\n",
      "File \u001B[1;32m~\\AppData\\Local\\Programs\\Python\\Python38\\lib\\site-packages\\jinja2\\__init__.py:12\u001B[0m, in \u001B[0;36m<module>\u001B[1;34m\u001B[0m\n\u001B[0;32m     10\u001B[0m \u001B[38;5;28;01mfrom\u001B[39;00m \u001B[38;5;21;01m.\u001B[39;00m\u001B[38;5;21;01mbccache\u001B[39;00m \u001B[38;5;28;01mimport\u001B[39;00m FileSystemBytecodeCache\n\u001B[0;32m     11\u001B[0m \u001B[38;5;28;01mfrom\u001B[39;00m \u001B[38;5;21;01m.\u001B[39;00m\u001B[38;5;21;01mbccache\u001B[39;00m \u001B[38;5;28;01mimport\u001B[39;00m MemcachedBytecodeCache\n\u001B[1;32m---> 12\u001B[0m \u001B[38;5;28;01mfrom\u001B[39;00m \u001B[38;5;21;01m.\u001B[39;00m\u001B[38;5;21;01menvironment\u001B[39;00m \u001B[38;5;28;01mimport\u001B[39;00m Environment\n\u001B[0;32m     13\u001B[0m \u001B[38;5;28;01mfrom\u001B[39;00m \u001B[38;5;21;01m.\u001B[39;00m\u001B[38;5;21;01menvironment\u001B[39;00m \u001B[38;5;28;01mimport\u001B[39;00m Template\n\u001B[0;32m     14\u001B[0m \u001B[38;5;28;01mfrom\u001B[39;00m \u001B[38;5;21;01m.\u001B[39;00m\u001B[38;5;21;01mexceptions\u001B[39;00m \u001B[38;5;28;01mimport\u001B[39;00m TemplateAssertionError\n",
      "File \u001B[1;32m~\\AppData\\Local\\Programs\\Python\\Python38\\lib\\site-packages\\jinja2\\environment.py:25\u001B[0m, in \u001B[0;36m<module>\u001B[1;34m\u001B[0m\n\u001B[0;32m     23\u001B[0m \u001B[38;5;28;01mfrom\u001B[39;00m \u001B[38;5;21;01m.\u001B[39;00m\u001B[38;5;21;01mcompiler\u001B[39;00m \u001B[38;5;28;01mimport\u001B[39;00m CodeGenerator\n\u001B[0;32m     24\u001B[0m \u001B[38;5;28;01mfrom\u001B[39;00m \u001B[38;5;21;01m.\u001B[39;00m\u001B[38;5;21;01mcompiler\u001B[39;00m \u001B[38;5;28;01mimport\u001B[39;00m generate\n\u001B[1;32m---> 25\u001B[0m \u001B[38;5;28;01mfrom\u001B[39;00m \u001B[38;5;21;01m.\u001B[39;00m\u001B[38;5;21;01mdefaults\u001B[39;00m \u001B[38;5;28;01mimport\u001B[39;00m BLOCK_END_STRING\n\u001B[0;32m     26\u001B[0m \u001B[38;5;28;01mfrom\u001B[39;00m \u001B[38;5;21;01m.\u001B[39;00m\u001B[38;5;21;01mdefaults\u001B[39;00m \u001B[38;5;28;01mimport\u001B[39;00m BLOCK_START_STRING\n\u001B[0;32m     27\u001B[0m \u001B[38;5;28;01mfrom\u001B[39;00m \u001B[38;5;21;01m.\u001B[39;00m\u001B[38;5;21;01mdefaults\u001B[39;00m \u001B[38;5;28;01mimport\u001B[39;00m COMMENT_END_STRING\n",
      "File \u001B[1;32m~\\AppData\\Local\\Programs\\Python\\Python38\\lib\\site-packages\\jinja2\\defaults.py:3\u001B[0m, in \u001B[0;36m<module>\u001B[1;34m\u001B[0m\n\u001B[0;32m      1\u001B[0m \u001B[38;5;66;03m# -*- coding: utf-8 -*-\u001B[39;00m\n\u001B[0;32m      2\u001B[0m \u001B[38;5;28;01mfrom\u001B[39;00m \u001B[38;5;21;01m.\u001B[39;00m\u001B[38;5;21;01m_compat\u001B[39;00m \u001B[38;5;28;01mimport\u001B[39;00m range_type\n\u001B[1;32m----> 3\u001B[0m \u001B[38;5;28;01mfrom\u001B[39;00m \u001B[38;5;21;01m.\u001B[39;00m\u001B[38;5;21;01mfilters\u001B[39;00m \u001B[38;5;28;01mimport\u001B[39;00m FILTERS \u001B[38;5;28;01mas\u001B[39;00m DEFAULT_FILTERS  \u001B[38;5;66;03m# noqa: F401\u001B[39;00m\n\u001B[0;32m      4\u001B[0m \u001B[38;5;28;01mfrom\u001B[39;00m \u001B[38;5;21;01m.\u001B[39;00m\u001B[38;5;21;01mtests\u001B[39;00m \u001B[38;5;28;01mimport\u001B[39;00m TESTS \u001B[38;5;28;01mas\u001B[39;00m DEFAULT_TESTS  \u001B[38;5;66;03m# noqa: F401\u001B[39;00m\n\u001B[0;32m      5\u001B[0m \u001B[38;5;28;01mfrom\u001B[39;00m \u001B[38;5;21;01m.\u001B[39;00m\u001B[38;5;21;01mutils\u001B[39;00m \u001B[38;5;28;01mimport\u001B[39;00m Cycler\n",
      "File \u001B[1;32m~\\AppData\\Local\\Programs\\Python\\Python38\\lib\\site-packages\\jinja2\\filters.py:13\u001B[0m, in \u001B[0;36m<module>\u001B[1;34m\u001B[0m\n\u001B[0;32m     11\u001B[0m \u001B[38;5;28;01mfrom\u001B[39;00m \u001B[38;5;21;01mmarkupsafe\u001B[39;00m \u001B[38;5;28;01mimport\u001B[39;00m escape\n\u001B[0;32m     12\u001B[0m \u001B[38;5;28;01mfrom\u001B[39;00m \u001B[38;5;21;01mmarkupsafe\u001B[39;00m \u001B[38;5;28;01mimport\u001B[39;00m Markup\n\u001B[1;32m---> 13\u001B[0m \u001B[38;5;28;01mfrom\u001B[39;00m \u001B[38;5;21;01mmarkupsafe\u001B[39;00m \u001B[38;5;28;01mimport\u001B[39;00m soft_unicode\n\u001B[0;32m     15\u001B[0m \u001B[38;5;28;01mfrom\u001B[39;00m \u001B[38;5;21;01m.\u001B[39;00m\u001B[38;5;21;01m_compat\u001B[39;00m \u001B[38;5;28;01mimport\u001B[39;00m abc\n\u001B[0;32m     16\u001B[0m \u001B[38;5;28;01mfrom\u001B[39;00m \u001B[38;5;21;01m.\u001B[39;00m\u001B[38;5;21;01m_compat\u001B[39;00m \u001B[38;5;28;01mimport\u001B[39;00m imap\n",
      "\u001B[1;31mImportError\u001B[0m: cannot import name 'soft_unicode' from 'markupsafe' (C:\\Users\\biosy\\AppData\\Local\\Programs\\Python\\Python38\\lib\\site-packages\\markupsafe\\__init__.py)"
     ]
    }
   ],
   "source": [
    "import escher\n",
    "\n",
    "builder = escher.Builder(map_name='e_coli_core.Core metabolism', model=model, reaction_data=fba_solution.fluxes)\n",
    "builder"
   ]
  },
  {
   "cell_type": "code",
   "execution_count": null,
   "id": "1cbb2360",
   "metadata": {
    "pycharm": {
     "name": "#%%\n"
    }
   },
   "outputs": [],
   "source": []
  }
 ],
 "metadata": {
  "kernelspec": {
   "display_name": "Python 3",
   "language": "python",
   "name": "python3"
  },
  "language_info": {
   "codemirror_mode": {
    "name": "ipython",
    "version": 3
   },
   "file_extension": ".py",
   "mimetype": "text/x-python",
   "name": "python",
   "nbconvert_exporter": "python",
   "pygments_lexer": "ipython3",
   "version": "3.7.7"
  }
 },
 "nbformat": 4,
 "nbformat_minor": 5
}