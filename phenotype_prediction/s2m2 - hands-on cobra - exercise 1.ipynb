{
 "cells": [
  {
   "cell_type": "markdown",
   "id": "9441980efe220baa",
   "metadata": {
    "pycharm": {
     "name": "#%% md\n"
    }
   },
   "source": [
    "# COBRApy\n",
    "\n",
    "COBRApy is a package for constraint-based modeling of biological networks written in Python.\n",
    "\n",
    "This tool allows loading and inspecting Genome-Scale Metabolic (GEM) models written in the Systems Biology Markup Language (SBML) format.\n",
    "\n",
    "Using COBRApy, one can analyze the following model contents:\n",
    "1. Reactions\n",
    "2. Metabolites\n",
    "3. Genes\n",
    "4. Exchange reactions (Environmental Conditions)\n",
    "\n",
    "COBRApy allows manipulating the contents of a GEM model. For instance, one can edit reactions' flux bounds, knock out a metabolic gene, or change environmental conditions.\n",
    "\n",
    "COBRApy contains flux analysis methods to simulate an organism's phenotypic behavior. These include Flux Balance Analysis (FBA), Parsimonious FBA, or Flux Variability Analysis (FVA).\n",
    "\n",
    "The simulation of gene and reaction deletions for a given GEM model is a straightforward process. One can simulate single or double knockouts using one of the flux analysis methods mentioned above."
   ]
  },
  {
   "cell_type": "markdown",
   "id": "9370849ea9eb54e5",
   "metadata": {
    "pycharm": {
     "name": "#%% md\n"
    }
   },
   "source": [
    "## Installation\n",
    "\n",
    "\n",
    "### Requirements\n",
    "The following requirements are needed to use COBRApy:\n",
    "- Python 3.6 or higher\n",
    "- pip must be installed\n",
    "- GLPK is the default solver, but CPLEX is preferred\n",
    "\n",
    "\n",
    "### How to install COBRApy?\n",
    "```\n",
    "pip install cobra\n",
    "```"
   ]
  },
  {
   "cell_type": "markdown",
   "id": "d598ce3dd462d684",
   "metadata": {
    "pycharm": {
     "name": "#%% md\n"
    }
   },
   "source": [
    "# Exercise 1 - Flux analysis & Constraint-based modeling"
   ]
  },
  {
   "cell_type": "markdown",
   "id": "9d35bad91d87b2e1",
   "metadata": {},
   "source": [
    "## Working with a GEM model\n",
    "\n",
    "COBRApy can be used to read a GEM model in an SBML format file.\n",
    "For this practical session, we will be using the following model:\n",
    "- _E. coli_ core model which contains the central carbon metabolism of _Escherichia coli_ -> file: ../data/e_coli_core.xml\n",
    "\n",
    "You can read more about _E. coli_ core model (Orth et al., 2010) in the following links:\n",
    "- https://journals.asm.org/doi/10.1128/ecosalplus.10.2.1\n",
    "- http://bigg.ucsd.edu/models/e_coli_core\n",
    "\n",
    "The reactions, metabolites, and genes encoded into an SBML format file can be parsed by COBRApy. These contents are loaded into Python objects simple to use, namely `cobra.Reaction`, `cobra.Metabolite`, and `cobra.Gene`\n",
    "\n",
    "The model itself will be available as an `cobra.Model` object containing all these attributes."
   ]
  },
  {
   "cell_type": "code",
   "execution_count": null,
   "id": "8a22bca656a62c36",
   "metadata": {
    "ExecuteTime": {
     "start_time": "2024-07-04T12:36:43.712111Z"
    },
    "jupyter": {
     "is_executing": true
    }
   },
   "outputs": [],
   "source": [
    "# importing cobra\n",
    "import cobra"
   ]
  },
  {
   "cell_type": "code",
   "execution_count": 2,
   "id": "f737a21731773eb7",
   "metadata": {
    "ExecuteTime": {
     "end_time": "2024-07-01T15:28:18.046732Z",
     "start_time": "2024-07-01T15:28:17.580592Z"
    }
   },
   "outputs": [
    {
     "data": {
      "text/html": [
       "\n",
       "        <table>\n",
       "            <tr>\n",
       "                <td><strong>Name</strong></td>\n",
       "                <td>e_coli_core</td>\n",
       "            </tr><tr>\n",
       "                <td><strong>Memory address</strong></td>\n",
       "                <td>282ef3cb688</td>\n",
       "            </tr><tr>\n",
       "                <td><strong>Number of metabolites</strong></td>\n",
       "                <td>72</td>\n",
       "            </tr><tr>\n",
       "                <td><strong>Number of reactions</strong></td>\n",
       "                <td>95</td>\n",
       "            </tr><tr>\n",
       "                <td><strong>Number of genes</strong></td>\n",
       "                <td>137</td>\n",
       "            </tr><tr>\n",
       "                <td><strong>Number of groups</strong></td>\n",
       "                <td>0</td>\n",
       "            </tr><tr>\n",
       "                <td><strong>Objective expression</strong></td>\n",
       "                <td>1.0*BIOMASS_Ecoli_core_w_GAM - 1.0*BIOMASS_Ecoli_core_w_GAM_reverse_712e5</td>\n",
       "            </tr><tr>\n",
       "                <td><strong>Compartments</strong></td>\n",
       "                <td>extracellular space, cytosol</td>\n",
       "            </tr>\n",
       "          </table>"
      ],
      "text/plain": [
       "<Model e_coli_core at 0x282ef3cb688>"
      ]
     },
     "execution_count": 2,
     "metadata": {},
     "output_type": "execute_result"
    }
   ],
   "source": [
    "# Loading a model\n",
    "model_path = '../data/e_coli_core.xml'\n",
    "model = cobra.io.read_sbml_model(model_path)\n",
    "\n",
    "model"
   ]
  },
  {
   "cell_type": "code",
   "execution_count": 3,
   "id": "c2be5ceca0438ede",
   "metadata": {
    "ExecuteTime": {
     "end_time": "2024-07-01T15:28:18.062729Z",
     "start_time": "2024-07-01T15:28:18.048704Z"
    }
   },
   "outputs": [
    {
     "data": {
      "text/plain": [
       "[<Reaction PFK at 0x282ef451ec8>,\n",
       " <Reaction PFL at 0x282ef451e88>,\n",
       " <Reaction PGI at 0x282ef45c288>,\n",
       " <Reaction PGK at 0x282ef460788>,\n",
       " <Reaction PGL at 0x282ef460208>]"
      ]
     },
     "execution_count": 3,
     "metadata": {},
     "output_type": "execute_result"
    }
   ],
   "source": [
    "# retrieving the first five reactions of the model\n",
    "model.reactions[0:5]"
   ]
  },
  {
   "cell_type": "code",
   "execution_count": 4,
   "id": "8a75241057f9917b",
   "metadata": {
    "ExecuteTime": {
     "end_time": "2024-07-01T15:28:18.078419Z",
     "start_time": "2024-07-01T15:28:18.063738Z"
    }
   },
   "outputs": [
    {
     "data": {
      "text/html": [
       "\n",
       "        <table>\n",
       "            <tr>\n",
       "                <td><strong>Reaction identifier</strong></td><td>PFK</td>\n",
       "            </tr><tr>\n",
       "                <td><strong>Name</strong></td><td>Phosphofructokinase</td>\n",
       "            </tr><tr>\n",
       "                <td><strong>Memory address</strong></td>\n",
       "                <td>0x282ef451ec8</td>\n",
       "            </tr><tr>\n",
       "                <td><strong>Stoichiometry</strong></td>\n",
       "                <td>\n",
       "                    <p style='text-align:right'>atp_c + f6p_c --> adp_c + fdp_c + h_c</p>\n",
       "                    <p style='text-align:right'>ATP C10H12N5O13P3 + D-Fructose 6-phosphate --> ADP C10H12N5O10P2 + D-Fructose 1,6-bisphosphate + H+</p>\n",
       "                </td>\n",
       "            </tr><tr>\n",
       "                <td><strong>GPR</strong></td><td>b3916 or b1723</td>\n",
       "            </tr><tr>\n",
       "                <td><strong>Lower bound</strong></td><td>0.0</td>\n",
       "            </tr><tr>\n",
       "                <td><strong>Upper bound</strong></td><td>1000.0</td>\n",
       "            </tr>\n",
       "        </table>\n",
       "        "
      ],
      "text/plain": [
       "<Reaction PFK at 0x282ef451ec8>"
      ]
     },
     "execution_count": 4,
     "metadata": {},
     "output_type": "execute_result"
    }
   ],
   "source": [
    "# inspecting the first reaction of the model\n",
    "model.reactions[0]"
   ]
  },
  {
   "cell_type": "code",
   "execution_count": 5,
   "id": "73f4610820222dec",
   "metadata": {
    "ExecuteTime": {
     "end_time": "2024-07-01T15:28:18.093509Z",
     "start_time": "2024-07-01T15:28:18.082929Z"
    }
   },
   "outputs": [
    {
     "data": {
      "text/html": [
       "\n",
       "        <table>\n",
       "            <tr>\n",
       "                <td><strong>Reaction identifier</strong></td><td>PFK</td>\n",
       "            </tr><tr>\n",
       "                <td><strong>Name</strong></td><td>Phosphofructokinase</td>\n",
       "            </tr><tr>\n",
       "                <td><strong>Memory address</strong></td>\n",
       "                <td>0x282ef451ec8</td>\n",
       "            </tr><tr>\n",
       "                <td><strong>Stoichiometry</strong></td>\n",
       "                <td>\n",
       "                    <p style='text-align:right'>atp_c + f6p_c --> adp_c + fdp_c + h_c</p>\n",
       "                    <p style='text-align:right'>ATP C10H12N5O13P3 + D-Fructose 6-phosphate --> ADP C10H12N5O10P2 + D-Fructose 1,6-bisphosphate + H+</p>\n",
       "                </td>\n",
       "            </tr><tr>\n",
       "                <td><strong>GPR</strong></td><td>b3916 or b1723</td>\n",
       "            </tr><tr>\n",
       "                <td><strong>Lower bound</strong></td><td>0.0</td>\n",
       "            </tr><tr>\n",
       "                <td><strong>Upper bound</strong></td><td>1000.0</td>\n",
       "            </tr>\n",
       "        </table>\n",
       "        "
      ],
      "text/plain": [
       "<Reaction PFK at 0x282ef451ec8>"
      ]
     },
     "execution_count": 5,
     "metadata": {},
     "output_type": "execute_result"
    }
   ],
   "source": [
    "# inspecting a reaction by its ID\n",
    "model.reactions.get_by_id(\"PFK\")"
   ]
  },
  {
   "cell_type": "code",
   "execution_count": 6,
   "id": "f0a4a19fda05abe0",
   "metadata": {
    "ExecuteTime": {
     "end_time": "2024-07-01T15:28:18.109646Z",
     "start_time": "2024-07-01T15:28:18.094515Z"
    }
   },
   "outputs": [
    {
     "data": {
      "text/html": [
       "\n",
       "        <table>\n",
       "            <tr>\n",
       "                <td><strong>Reaction identifier</strong></td><td>PFK</td>\n",
       "            </tr><tr>\n",
       "                <td><strong>Name</strong></td><td>Phosphofructokinase</td>\n",
       "            </tr><tr>\n",
       "                <td><strong>Memory address</strong></td>\n",
       "                <td>0x282ef451ec8</td>\n",
       "            </tr><tr>\n",
       "                <td><strong>Stoichiometry</strong></td>\n",
       "                <td>\n",
       "                    <p style='text-align:right'>atp_c + f6p_c --> adp_c + fdp_c + h_c</p>\n",
       "                    <p style='text-align:right'>ATP C10H12N5O13P3 + D-Fructose 6-phosphate --> ADP C10H12N5O10P2 + D-Fructose 1,6-bisphosphate + H+</p>\n",
       "                </td>\n",
       "            </tr><tr>\n",
       "                <td><strong>GPR</strong></td><td>b3916 or b1723</td>\n",
       "            </tr><tr>\n",
       "                <td><strong>Lower bound</strong></td><td>0.0</td>\n",
       "            </tr><tr>\n",
       "                <td><strong>Upper bound</strong></td><td>1000.0</td>\n",
       "            </tr>\n",
       "        </table>\n",
       "        "
      ],
      "text/plain": [
       "<Reaction PFK at 0x282ef451ec8>"
      ]
     },
     "execution_count": 6,
     "metadata": {},
     "output_type": "execute_result"
    }
   ],
   "source": [
    "# inspecting a reaction using the ID as attribute\n",
    "model.reactions.PFK"
   ]
  },
  {
   "cell_type": "code",
   "execution_count": 7,
   "id": "51ac4fd82c52d77a",
   "metadata": {
    "ExecuteTime": {
     "end_time": "2024-07-01T15:28:18.124863Z",
     "start_time": "2024-07-01T15:28:18.111624Z"
    }
   },
   "outputs": [
    {
     "data": {
      "text/plain": [
       "[<Metabolite glc__D_e at 0x282ef3c0748>,\n",
       " <Metabolite gln__L_c at 0x282ef3c0588>,\n",
       " <Metabolite gln__L_e at 0x282ef35f408>,\n",
       " <Metabolite glu__L_c at 0x282ef365588>,\n",
       " <Metabolite glu__L_e at 0x282ef35be48>]"
      ]
     },
     "execution_count": 7,
     "metadata": {},
     "output_type": "execute_result"
    }
   ],
   "source": [
    "# retrieving the first five metabolites of the model\n",
    "model.metabolites[0:5]"
   ]
  },
  {
   "cell_type": "code",
   "execution_count": 8,
   "id": "1a269855c26b89c",
   "metadata": {
    "ExecuteTime": {
     "end_time": "2024-07-01T15:28:18.140907Z",
     "start_time": "2024-07-01T15:28:18.127870Z"
    }
   },
   "outputs": [
    {
     "data": {
      "text/html": [
       "\n",
       "        <table>\n",
       "            <tr>\n",
       "                <td><strong>Metabolite identifier</strong></td><td>glc__D_e</td>\n",
       "            </tr><tr>\n",
       "                <td><strong>Name</strong></td><td>D-Glucose</td>\n",
       "            </tr><tr>\n",
       "                <td><strong>Memory address</strong></td>\n",
       "                <td>0x282ef3c0748</td>\n",
       "            </tr><tr>\n",
       "                <td><strong>Formula</strong></td><td>C6H12O6</td>\n",
       "            </tr><tr>\n",
       "                <td><strong>Compartment</strong></td><td>e</td>\n",
       "            </tr><tr>\n",
       "                <td><strong>In 2 reaction(s)</strong></td><td>\n",
       "                    EX_glc__D_e, GLCpts\n",
       "                    </td>\n",
       "            </tr>\n",
       "        </table>"
      ],
      "text/plain": [
       "<Metabolite glc__D_e at 0x282ef3c0748>"
      ]
     },
     "execution_count": 8,
     "metadata": {},
     "output_type": "execute_result"
    }
   ],
   "source": [
    "# inspecting the first metabolite of the model\n",
    "model.metabolites[0]"
   ]
  },
  {
   "cell_type": "code",
   "execution_count": 9,
   "id": "1d008f311faf2490",
   "metadata": {
    "ExecuteTime": {
     "end_time": "2024-07-01T15:28:18.156464Z",
     "start_time": "2024-07-01T15:28:18.142909Z"
    }
   },
   "outputs": [
    {
     "data": {
      "text/html": [
       "\n",
       "        <table>\n",
       "            <tr>\n",
       "                <td><strong>Metabolite identifier</strong></td><td>glc__D_e</td>\n",
       "            </tr><tr>\n",
       "                <td><strong>Name</strong></td><td>D-Glucose</td>\n",
       "            </tr><tr>\n",
       "                <td><strong>Memory address</strong></td>\n",
       "                <td>0x282ef3c0748</td>\n",
       "            </tr><tr>\n",
       "                <td><strong>Formula</strong></td><td>C6H12O6</td>\n",
       "            </tr><tr>\n",
       "                <td><strong>Compartment</strong></td><td>e</td>\n",
       "            </tr><tr>\n",
       "                <td><strong>In 2 reaction(s)</strong></td><td>\n",
       "                    EX_glc__D_e, GLCpts\n",
       "                    </td>\n",
       "            </tr>\n",
       "        </table>"
      ],
      "text/plain": [
       "<Metabolite glc__D_e at 0x282ef3c0748>"
      ]
     },
     "execution_count": 9,
     "metadata": {},
     "output_type": "execute_result"
    }
   ],
   "source": [
    "# inspecting a metabolite by its ID\n",
    "model.metabolites.get_by_id(\"glc__D_e\")"
   ]
  },
  {
   "cell_type": "code",
   "execution_count": 10,
   "id": "e2a8008006f9f33e",
   "metadata": {
    "ExecuteTime": {
     "end_time": "2024-07-01T15:28:18.171724Z",
     "start_time": "2024-07-01T15:28:18.158465Z"
    }
   },
   "outputs": [
    {
     "data": {
      "text/html": [
       "\n",
       "        <table>\n",
       "            <tr>\n",
       "                <td><strong>Metabolite identifier</strong></td><td>glc__D_e</td>\n",
       "            </tr><tr>\n",
       "                <td><strong>Name</strong></td><td>D-Glucose</td>\n",
       "            </tr><tr>\n",
       "                <td><strong>Memory address</strong></td>\n",
       "                <td>0x282ef3c0748</td>\n",
       "            </tr><tr>\n",
       "                <td><strong>Formula</strong></td><td>C6H12O6</td>\n",
       "            </tr><tr>\n",
       "                <td><strong>Compartment</strong></td><td>e</td>\n",
       "            </tr><tr>\n",
       "                <td><strong>In 2 reaction(s)</strong></td><td>\n",
       "                    EX_glc__D_e, GLCpts\n",
       "                    </td>\n",
       "            </tr>\n",
       "        </table>"
      ],
      "text/plain": [
       "<Metabolite glc__D_e at 0x282ef3c0748>"
      ]
     },
     "execution_count": 10,
     "metadata": {},
     "output_type": "execute_result"
    }
   ],
   "source": [
    "# inspecting a metabolite using the ID as attribute\n",
    "model.metabolites.glc__D_e"
   ]
  },
  {
   "cell_type": "code",
   "execution_count": 11,
   "id": "73b53c34e5fdc66f",
   "metadata": {
    "ExecuteTime": {
     "end_time": "2024-07-01T15:28:18.186956Z",
     "start_time": "2024-07-01T15:28:18.173734Z"
    }
   },
   "outputs": [
    {
     "data": {
      "text/plain": [
       "[<Gene b1241 at 0x282ef4b0808>,\n",
       " <Gene b0351 at 0x282ef4a9388>,\n",
       " <Gene s0001 at 0x282ef4b0908>,\n",
       " <Gene b1849 at 0x282ef4b0e88>,\n",
       " <Gene b3115 at 0x282ef4b8388>]"
      ]
     },
     "execution_count": 11,
     "metadata": {},
     "output_type": "execute_result"
    }
   ],
   "source": [
    "# retrieving the first five genes of the model\n",
    "model.genes[0:5]"
   ]
  },
  {
   "cell_type": "code",
   "execution_count": 12,
   "id": "1134bb1d5800175",
   "metadata": {
    "ExecuteTime": {
     "end_time": "2024-07-01T15:28:18.203050Z",
     "start_time": "2024-07-01T15:28:18.187933Z"
    }
   },
   "outputs": [
    {
     "data": {
      "text/html": [
       "\n",
       "        <table>\n",
       "            <tr>\n",
       "                <td><strong>Gene identifier</strong></td><td>b1241</td>\n",
       "            </tr><tr>\n",
       "                <td><strong>Name</strong></td><td>adhE</td>\n",
       "            </tr><tr>\n",
       "                <td><strong>Memory address</strong></td>\n",
       "                <td>0x282ef4b0808</td>\n",
       "            </tr><tr>\n",
       "                <td><strong>Functional</strong></td><td>True</td>\n",
       "            </tr><tr>\n",
       "                <td><strong>In 2 reaction(s)</strong></td><td>\n",
       "                    ACALD, ALCD2x\n",
       "                    </td>\n",
       "            </tr>\n",
       "        </table>"
      ],
      "text/plain": [
       "<Gene b1241 at 0x282ef4b0808>"
      ]
     },
     "execution_count": 12,
     "metadata": {},
     "output_type": "execute_result"
    }
   ],
   "source": [
    "#inspecting the first gene of the model\n",
    "model.genes[0]"
   ]
  },
  {
   "cell_type": "code",
   "execution_count": 13,
   "id": "46a1a96e7b5d0e2b",
   "metadata": {
    "ExecuteTime": {
     "end_time": "2024-07-01T15:28:18.218485Z",
     "start_time": "2024-07-01T15:28:18.204968Z"
    }
   },
   "outputs": [
    {
     "data": {
      "text/html": [
       "\n",
       "        <table>\n",
       "            <tr>\n",
       "                <td><strong>Gene identifier</strong></td><td>b1241</td>\n",
       "            </tr><tr>\n",
       "                <td><strong>Name</strong></td><td>adhE</td>\n",
       "            </tr><tr>\n",
       "                <td><strong>Memory address</strong></td>\n",
       "                <td>0x282ef4b0808</td>\n",
       "            </tr><tr>\n",
       "                <td><strong>Functional</strong></td><td>True</td>\n",
       "            </tr><tr>\n",
       "                <td><strong>In 2 reaction(s)</strong></td><td>\n",
       "                    ACALD, ALCD2x\n",
       "                    </td>\n",
       "            </tr>\n",
       "        </table>"
      ],
      "text/plain": [
       "<Gene b1241 at 0x282ef4b0808>"
      ]
     },
     "execution_count": 13,
     "metadata": {},
     "output_type": "execute_result"
    }
   ],
   "source": [
    "# inspecting a gene by its ID\n",
    "model.genes.get_by_id('b1241')"
   ]
  },
  {
   "cell_type": "code",
   "execution_count": 14,
   "id": "93e346cc09b8544e",
   "metadata": {
    "ExecuteTime": {
     "end_time": "2024-07-01T15:28:18.233432Z",
     "start_time": "2024-07-01T15:28:18.222484Z"
    }
   },
   "outputs": [
    {
     "data": {
      "text/html": [
       "\n",
       "        <table>\n",
       "            <tr>\n",
       "                <td><strong>Gene identifier</strong></td><td>b1241</td>\n",
       "            </tr><tr>\n",
       "                <td><strong>Name</strong></td><td>adhE</td>\n",
       "            </tr><tr>\n",
       "                <td><strong>Memory address</strong></td>\n",
       "                <td>0x282ef4b0808</td>\n",
       "            </tr><tr>\n",
       "                <td><strong>Functional</strong></td><td>True</td>\n",
       "            </tr><tr>\n",
       "                <td><strong>In 2 reaction(s)</strong></td><td>\n",
       "                    ACALD, ALCD2x\n",
       "                    </td>\n",
       "            </tr>\n",
       "        </table>"
      ],
      "text/plain": [
       "<Gene b1241 at 0x282ef4b0808>"
      ]
     },
     "execution_count": 14,
     "metadata": {},
     "output_type": "execute_result"
    }
   ],
   "source": [
    "# inspecting a gene using the ID as attribute\n",
    "model.genes.b1241"
   ]
  },
  {
   "cell_type": "markdown",
   "id": "37dd5d83d7c5537d",
   "metadata": {},
   "source": [
    "### Reactions\n",
    "\n",
    "In COBRApy, reactions are objects that can be inspected. A `Reaction` object usually contains the following information:\n",
    "- name;\n",
    "- metabolites;\n",
    "- stoichiometry;\n",
    "- genes;\n",
    "- formula;\n",
    "- reversibility;\n",
    "- bounds;\n",
    "- gpr;"
   ]
  },
  {
   "cell_type": "code",
   "execution_count": 20,
   "id": "10a31617",
   "metadata": {},
   "outputs": [
    {
     "data": {
      "text/html": [
       "\n",
       "        <table>\n",
       "            <tr>\n",
       "                <td><strong>Reaction identifier</strong></td><td>ACALD</td>\n",
       "            </tr><tr>\n",
       "                <td><strong>Name</strong></td><td>Acetaldehyde dehydrogenase (acetylating)</td>\n",
       "            </tr><tr>\n",
       "                <td><strong>Memory address</strong></td>\n",
       "                <td>0x282ef468908</td>\n",
       "            </tr><tr>\n",
       "                <td><strong>Stoichiometry</strong></td>\n",
       "                <td>\n",
       "                    <p style='text-align:right'>acald_c + coa_c + nad_c --> accoa_c + h_c + nadh_c</p>\n",
       "                    <p style='text-align:right'>Acetaldehyde + Coenzyme A + Nicotinamide adenine dinucleotide --> Acetyl-CoA + H+ + Nicotinamide adenine dinucleotide - reduced</p>\n",
       "                </td>\n",
       "            </tr><tr>\n",
       "                <td><strong>GPR</strong></td><td>b0351 or b1241</td>\n",
       "            </tr><tr>\n",
       "                <td><strong>Lower bound</strong></td><td>0</td>\n",
       "            </tr><tr>\n",
       "                <td><strong>Upper bound</strong></td><td>1000</td>\n",
       "            </tr>\n",
       "        </table>\n",
       "        "
      ],
      "text/plain": [
       "<Reaction ACALD at 0x282ef468908>"
      ]
     },
     "execution_count": 20,
     "metadata": {},
     "output_type": "execute_result"
    }
   ],
   "source": [
    "#inspecting the reaction name, formula, metabolites, and stoichiometry.\n",
    "reaction = model.reactions.get_by_id('ACALD')\n",
    "reaction"
   ]
  },
  {
   "cell_type": "code",
   "execution_count": 15,
   "id": "30a41988a23a7c8d",
   "metadata": {
    "ExecuteTime": {
     "end_time": "2024-07-01T15:28:18.248884Z",
     "start_time": "2024-07-01T15:28:18.234747Z"
    }
   },
   "outputs": [
    {
     "name": "stdout",
     "output_type": "stream",
     "text": [
      "Reaction name: Acetaldehyde dehydrogenase (acetylating) \n",
      "\n",
      "Reaction formula acald_c + coa_c + nad_c <=> accoa_c + h_c + nadh_c \n",
      "\n",
      "acald_c -> -1.0\n",
      "coa_c -> -1.0\n",
      "nad_c -> -1.0\n",
      "accoa_c -> 1.0\n",
      "h_c -> 1.0\n",
      "nadh_c -> 1.0\n"
     ]
    }
   ],
   "source": [
    "print('Reaction name:', reaction.name, '\\n')\n",
    "print('Reaction formula', reaction.reaction, '\\n')\n",
    "for metabolite, coefficient in reaction.metabolites.items():\n",
    "    print(metabolite, '->', coefficient)"
   ]
  },
  {
   "cell_type": "code",
   "execution_count": 16,
   "id": "69d52506",
   "metadata": {},
   "outputs": [
    {
     "data": {
      "text/plain": [
       "{<Metabolite acald_c at 0x282ef487188>: -1.0,\n",
       " <Metabolite coa_c at 0x282ef49ac08>: -1.0,\n",
       " <Metabolite nad_c at 0x282ef3ee408>: -1.0,\n",
       " <Metabolite accoa_c at 0x282ef488d08>: 1.0,\n",
       " <Metabolite h_c at 0x282ef3e6808>: 1.0,\n",
       " <Metabolite nadh_c at 0x282ef3eeb48>: 1.0}"
      ]
     },
     "execution_count": 16,
     "metadata": {},
     "output_type": "execute_result"
    }
   ],
   "source": [
    "reaction.metabolites"
   ]
  },
  {
   "cell_type": "code",
   "execution_count": 19,
   "id": "c403684ef6b902bc",
   "metadata": {
    "ExecuteTime": {
     "end_time": "2024-07-01T15:28:18.264483Z",
     "start_time": "2024-07-01T15:28:18.250850Z"
    },
    "scrolled": true
   },
   "outputs": [
    {
     "name": "stdout",
     "output_type": "stream",
     "text": [
      "0 < ACALD < 1000 \n",
      "\n",
      "Reaction reversibility: False \n",
      "\n",
      "Reaction bounds: (0, 1000)\n"
     ]
    }
   ],
   "source": [
    "# inspecting reversibility and flux bounds.\n",
    "print(reaction.lower_bound, \"< ACALD <\", reaction.upper_bound, '\\n')\n",
    "print('Reaction reversibility:', reaction.reversibility, '\\n')\n",
    "print('Reaction bounds:', reaction.bounds)"
   ]
  },
  {
   "cell_type": "code",
   "execution_count": 17,
   "id": "fcda52f69dfb4b31",
   "metadata": {
    "ExecuteTime": {
     "end_time": "2024-07-01T15:28:18.279836Z",
     "start_time": "2024-07-01T15:28:18.266456Z"
    }
   },
   "outputs": [],
   "source": [
    "# change reaction bounds\n",
    "reaction.bounds = (0, 1000)\n",
    "print(reaction.lower_bound, \"< ACALD <\", reaction.upper_bound, '\\n')\n",
    "print('Reaction reversibility:', reaction.reversibility, '\\n')"
   ]
  },
  {
   "cell_type": "markdown",
   "id": "c2a30dd7b7b54fec",
   "metadata": {},
   "source": [
    "### Metabolites\n",
    "\n",
    "In COBRApy, metabolites are objects that can be inspected. A `Metabolite` object usually contains the following information:\n",
    "- name;\n",
    "- chemical formula;\n",
    "- compartment;\n",
    "- reactions;"
   ]
  },
  {
   "cell_type": "code",
   "execution_count": 21,
   "id": "d7ceb0fa4a32186a",
   "metadata": {
    "ExecuteTime": {
     "end_time": "2024-07-01T15:28:18.295593Z",
     "start_time": "2024-07-01T15:28:18.280838Z"
    }
   },
   "outputs": [
    {
     "name": "stdout",
     "output_type": "stream",
     "text": [
      "Metabolite name: D-Glucose \n",
      "\n",
      "Metabolite chemical formula: C6H12O6 \n",
      "\n",
      "Metabolite compartment: e \n",
      "\n",
      "EX_glc__D_e : glc__D_e <=> \n",
      "GLCpts : glc__D_e + pep_c --> g6p_c + pyr_c\n"
     ]
    }
   ],
   "source": [
    "# inspecting metabolite name, chemical formula, compartment and reactions.\n",
    "metabolite = model.metabolites.get_by_id('glc__D_e')\n",
    "\n",
    "print('Metabolite name:', metabolite.name, '\\n')\n",
    "print('Metabolite chemical formula:', metabolite.formula, '\\n')\n",
    "print('Metabolite compartment:', metabolite.compartment, '\\n')\n",
    "for _reaction in metabolite.reactions:\n",
    "    print(_reaction.id, ':', _reaction.reaction)"
   ]
  },
  {
   "cell_type": "code",
   "execution_count": 22,
   "id": "e645b709",
   "metadata": {},
   "outputs": [
    {
     "data": {
      "text/plain": [
       "frozenset({<Reaction EX_glc__D_e at 0x282ef4eed48>,\n",
       "           <Reaction GLCpts at 0x282f052f348>})"
      ]
     },
     "execution_count": 22,
     "metadata": {},
     "output_type": "execute_result"
    }
   ],
   "source": [
    "metabolite.reactions"
   ]
  },
  {
   "cell_type": "markdown",
   "id": "2f39bdd7fdd96ec3",
   "metadata": {},
   "source": [
    "### Genes\n",
    "\n",
    "In COBRApy, genes are objects that can be inspected. A `Gene` object usually contains the following information:\n",
    "- name;\n",
    "- reactions;"
   ]
  },
  {
   "cell_type": "code",
   "execution_count": 23,
   "id": "64f771eccfe2b7a9",
   "metadata": {
    "ExecuteTime": {
     "end_time": "2024-07-01T15:28:18.310626Z",
     "start_time": "2024-07-01T15:28:18.296562Z"
    }
   },
   "outputs": [
    {
     "name": "stdout",
     "output_type": "stream",
     "text": [
      "Gene name: mhpF \n",
      "\n",
      "ACALD : b0351 or b1241\n"
     ]
    }
   ],
   "source": [
    "# inspect gene name and reactions.\n",
    "gene = model.genes.get_by_id('b0351')\n",
    "\n",
    "print('Gene name:', gene.name, '\\n')\n",
    "for reaction_ in gene.reactions:\n",
    "    print(reaction_.id, ':', reaction.gene_reaction_rule)"
   ]
  },
  {
   "cell_type": "code",
   "execution_count": 24,
   "id": "4254ea51",
   "metadata": {},
   "outputs": [
    {
     "data": {
      "text/plain": [
       "'b0351 or b1241'"
      ]
     },
     "execution_count": 24,
     "metadata": {},
     "output_type": "execute_result"
    }
   ],
   "source": [
    "reaction.gene_reaction_rule"
   ]
  },
  {
   "cell_type": "markdown",
   "id": "58bebb78876c164b",
   "metadata": {},
   "source": [
    "### Exchanges"
   ]
  },
  {
   "cell_type": "markdown",
   "id": "9a0519f16879f1d4",
   "metadata": {},
   "source": [
    "In COBRApy, exchanges are reaction objects that can be inspected in the model. These special reactions define the environmental conditions (e.g. medium) of the model. According to the lower and upper bound of each exchange reaction, one can visualize the model's uptake and secretion metabolites."
   ]
  },
  {
   "cell_type": "code",
   "execution_count": 25,
   "id": "d9b86d86ed00d099",
   "metadata": {
    "ExecuteTime": {
     "end_time": "2024-07-01T15:28:18.326441Z",
     "start_time": "2024-07-01T15:28:18.312627Z"
    }
   },
   "outputs": [
    {
     "name": "stdout",
     "output_type": "stream",
     "text": [
      "Acetate exchange -> (0.0, 1000.0)\n",
      "Acetaldehyde exchange -> (0.0, 1000.0)\n",
      "2-Oxoglutarate exchange -> (0.0, 1000.0)\n",
      "CO2 exchange -> (-1000.0, 1000.0)\n",
      "Ethanol exchange -> (0.0, 1000.0)\n",
      "Formate exchange -> (0.0, 1000.0)\n",
      "D-Fructose exchange -> (0.0, 1000.0)\n",
      "Fumarate exchange -> (0.0, 1000.0)\n",
      "D-Glucose exchange -> (-10.0, 1000.0)\n",
      "L-Glutamine exchange -> (0.0, 1000.0)\n",
      "L-Glutamate exchange -> (0.0, 1000.0)\n",
      "H+ exchange -> (-1000.0, 1000.0)\n",
      "H2O exchange -> (-1000.0, 1000.0)\n",
      "D-lactate exchange -> (0.0, 1000.0)\n",
      "L-Malate exchange -> (0.0, 1000.0)\n",
      "Ammonia exchange -> (-1000.0, 1000.0)\n",
      "O2 exchange -> (-1000.0, 1000.0)\n",
      "Phosphate exchange -> (-1000.0, 1000.0)\n",
      "Pyruvate exchange -> (0.0, 1000.0)\n",
      "Succinate exchange -> (0.0, 1000.0)\n"
     ]
    }
   ],
   "source": [
    "# inspecting the exchange reactions.\n",
    "for exchange in model.exchanges:\n",
    "    print(exchange.name, '->', exchange.bounds)"
   ]
  },
  {
   "cell_type": "code",
   "execution_count": 21,
   "id": "9d63f1d8774f77e6",
   "metadata": {
    "ExecuteTime": {
     "end_time": "2024-07-01T15:29:10.833615Z",
     "start_time": "2024-07-01T15:29:10.826975Z"
    }
   },
   "outputs": [],
   "source": [
    "# How to change multiple bounds at the time:\n",
    "\n",
    "# environmental_conditions = {\n",
    "#     'R1': (-1, 0),\n",
    "#     'R2': (0.5, 1000),\n",
    "#     'R3': (0.5, 1000),\n",
    "# }\n",
    "# \n",
    "# for reaction_id, bound in environmental_conditions.items():\n",
    "#     model.reactions.get_by_id(reaction_id).bounds = bound"
   ]
  },
  {
   "cell_type": "code",
   "execution_count": null,
   "id": "fc84714b17d09a02",
   "metadata": {},
   "outputs": [],
   "source": []
  }
 ],
 "metadata": {
  "kernelspec": {
   "display_name": "Python 3 (ipykernel)",
   "language": "python",
   "name": "python3"
  },
  "language_info": {
   "codemirror_mode": {
    "name": "ipython",
    "version": 3
   },
   "file_extension": ".py",
   "mimetype": "text/x-python",
   "name": "python",
   "nbconvert_exporter": "python",
   "pygments_lexer": "ipython3",
   "version": "3.7.16"
  }
 },
 "nbformat": 4,
 "nbformat_minor": 5
}
