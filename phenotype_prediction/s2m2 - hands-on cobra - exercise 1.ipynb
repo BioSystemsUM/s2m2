{
 "cells": [
  {
   "cell_type": "markdown",
   "metadata": {
    "pycharm": {
     "name": "#%% md\n"
    }
   },
   "source": [
    "# COBRApy\n",
    "\n",
    "COBRApy is a package for constraint-based modeling of biological networks written in Python.\n",
    "\n",
    "This tool allows loading and inspecting Genome-Scale Metabolic (GEM) models written in the Systems Biology Markup Language (SBML) format.\n",
    "\n",
    "Using COBRApy, one can analyze the following model contents:\n",
    "1. Reactions\n",
    "2. Metabolites\n",
    "3. Genes\n",
    "4. Exchange reactions (Environmental Conditions)\n",
    "\n",
    "COBRApy allows manipulating the contents of a GEM model. For instance, one can edit reactions' flux bounds, knock out a metabolic gene, or change environmental conditions.\n",
    "\n",
    "COBRApy contains flux analysis methods to simulate an organism's phenotypic behavior. These include Flux Balance Analysis (FBA), Parsimonious FBA, or Flux Variability Analysis (FVA).\n",
    "\n",
    "The simulation of gene and reaction deletions for a given GEM model is a straightforward process. One can simulate single or double knockouts using one of the flux analysis methods mentioned above."
   ],
   "id": "9441980efe220baa"
  },
  {
   "cell_type": "markdown",
   "metadata": {
    "pycharm": {
     "name": "#%% md\n"
    }
   },
   "source": [
    "## Installation\n",
    "\n",
    "\n",
    "### Requirements\n",
    "The following requirements are needed to use COBRApy:\n",
    "- Python 3.6 or higher\n",
    "- pip must be installed\n",
    "- GLPK is the default solver, but CPLEX is preferred\n",
    "\n",
    "\n",
    "### How to install COBRApy?\n",
    "```\n",
    "pip install cobra\n",
    "```"
   ],
   "id": "9370849ea9eb54e5"
  },
  {
   "cell_type": "markdown",
   "metadata": {
    "pycharm": {
     "name": "#%% md\n"
    }
   },
   "source": "# Exercise 1 - Flux analysis & Constraint-based modeling",
   "id": "d598ce3dd462d684"
  },
  {
   "metadata": {},
   "cell_type": "markdown",
   "source": [
    "## Working with a GEM model\n",
    "\n",
    "COBRApy can be used to read a GEM model in an SBML format file.\n",
    "For this practical session, we will be using the following model:\n",
    "- _E. coli_ core model which contains the central carbon metabolism of _Escherichia coli_ -> file: ../data/e_coli_core.xml\n",
    "\n",
    "You can read more about _E. coli_ core model (Orth et al., 2010) in the following links:\n",
    "- https://journals.asm.org/doi/10.1128/ecosalplus.10.2.1\n",
    "- http://bigg.ucsd.edu/models/e_coli_core\n",
    "\n",
    "The reactions, metabolites, and genes encoded into an SBML format file can be parsed by COBRApy. These contents are loaded into Python objects simple to use, namely `cobra.Reaction`, `cobra.Metabolite`, and `cobra.Gene`\n",
    "\n",
    "The model itself will be available as an `cobra.Model` object containing all these attributes."
   ],
   "id": "9d35bad91d87b2e1"
  },
  {
   "metadata": {
    "ExecuteTime": {
     "end_time": "2024-07-01T15:28:17.578587Z",
     "start_time": "2024-07-01T15:28:14.240441Z"
    }
   },
   "cell_type": "code",
   "source": [
    "# importing cobra\n",
    "import cobra"
   ],
   "id": "8a22bca656a62c36",
   "execution_count": 1,
   "outputs": []
  },
  {
   "metadata": {
    "ExecuteTime": {
     "end_time": "2024-07-01T15:28:18.046732Z",
     "start_time": "2024-07-01T15:28:17.580592Z"
    }
   },
   "cell_type": "code",
   "source": [
    "# Loading a model\n",
    "model_path = '../data/e_coli_core.xml'\n",
    "model = cobra.io.read_sbml_model(model_path)\n",
    "\n",
    "model"
   ],
   "id": "f737a21731773eb7",
   "execution_count": 2,
   "outputs": []
  },
  {
   "metadata": {
    "ExecuteTime": {
     "end_time": "2024-07-01T15:28:18.062729Z",
     "start_time": "2024-07-01T15:28:18.048704Z"
    }
   },
   "cell_type": "code",
   "source": [
    "# retrieving the first five reactions of the model\n",
    "model.reactions[0:5]"
   ],
   "id": "c2be5ceca0438ede",
   "execution_count": 3,
   "outputs": []
  },
  {
   "metadata": {
    "ExecuteTime": {
     "end_time": "2024-07-01T15:28:18.078419Z",
     "start_time": "2024-07-01T15:28:18.063738Z"
    }
   },
   "cell_type": "code",
   "source": [
    "# inspecting the first reaction of the model\n",
    "model.reactions[0]"
   ],
   "id": "8a75241057f9917b",
   "execution_count": 4,
   "outputs": []
  },
  {
   "metadata": {
    "ExecuteTime": {
     "end_time": "2024-07-01T15:28:18.093509Z",
     "start_time": "2024-07-01T15:28:18.082929Z"
    }
   },
   "cell_type": "code",
   "source": [
    "# inspecting a reaction by its ID\n",
    "model.reactions.get_by_id(\"PFK\")"
   ],
   "id": "73f4610820222dec",
   "execution_count": 5,
   "outputs": []
  },
  {
   "metadata": {
    "ExecuteTime": {
     "end_time": "2024-07-01T15:28:18.109646Z",
     "start_time": "2024-07-01T15:28:18.094515Z"
    }
   },
   "cell_type": "code",
   "source": [
    "# inspecting a reaction using the ID as attribute\n",
    "model.reactions.PFK"
   ],
   "id": "f0a4a19fda05abe0",
   "execution_count": 6,
   "outputs": []
  },
  {
   "metadata": {
    "ExecuteTime": {
     "end_time": "2024-07-01T15:28:18.124863Z",
     "start_time": "2024-07-01T15:28:18.111624Z"
    }
   },
   "cell_type": "code",
   "source": [
    "# retrieving the first five metabolites of the model\n",
    "model.metabolites[0:5]"
   ],
   "id": "51ac4fd82c52d77a",
   "execution_count": 7,
   "outputs": []
  },
  {
   "metadata": {
    "ExecuteTime": {
     "end_time": "2024-07-01T15:28:18.140907Z",
     "start_time": "2024-07-01T15:28:18.127870Z"
    }
   },
   "cell_type": "code",
   "source": [
    "# inspecting the first metabolite of the model\n",
    "model.metabolites[0]"
   ],
   "id": "1a269855c26b89c",
   "execution_count": 8,
   "outputs": []
  },
  {
   "metadata": {
    "ExecuteTime": {
     "end_time": "2024-07-01T15:28:18.156464Z",
     "start_time": "2024-07-01T15:28:18.142909Z"
    }
   },
   "cell_type": "code",
   "source": [
    "# inspecting a metabolite by its ID\n",
    "model.metabolites.get_by_id(\"glc__D_e\")"
   ],
   "id": "1d008f311faf2490",
   "execution_count": 9,
   "outputs": []
  },
  {
   "metadata": {
    "ExecuteTime": {
     "end_time": "2024-07-01T15:28:18.171724Z",
     "start_time": "2024-07-01T15:28:18.158465Z"
    }
   },
   "cell_type": "code",
   "source": [
    "# inspecting a metabolite using the ID as attribute\n",
    "model.metabolites.glc__D_e"
   ],
   "id": "e2a8008006f9f33e",
   "execution_count": 10,
   "outputs": []
  },
  {
   "metadata": {
    "ExecuteTime": {
     "end_time": "2024-07-01T15:28:18.186956Z",
     "start_time": "2024-07-01T15:28:18.173734Z"
    }
   },
   "cell_type": "code",
   "source": [
    "# retrieving the first five genes of the model\n",
    "model.genes[0:5]"
   ],
   "id": "73b53c34e5fdc66f",
   "execution_count": 11,
   "outputs": []
  },
  {
   "metadata": {
    "ExecuteTime": {
     "end_time": "2024-07-01T15:28:18.203050Z",
     "start_time": "2024-07-01T15:28:18.187933Z"
    }
   },
   "cell_type": "code",
   "source": [
    "#inspecting the first gene of the model\n",
    "model.genes[0]"
   ],
   "id": "1134bb1d5800175",
   "execution_count": 12,
   "outputs": []
  },
  {
   "metadata": {
    "ExecuteTime": {
     "end_time": "2024-07-01T15:28:18.218485Z",
     "start_time": "2024-07-01T15:28:18.204968Z"
    }
   },
   "cell_type": "code",
   "source": [
    "# inspecting a gene by its ID\n",
    "model.genes.get_by_id('b1241')"
   ],
   "id": "46a1a96e7b5d0e2b",
   "execution_count": 13,
   "outputs": []
  },
  {
   "metadata": {
    "ExecuteTime": {
     "end_time": "2024-07-01T15:28:18.233432Z",
     "start_time": "2024-07-01T15:28:18.222484Z"
    }
   },
   "cell_type": "code",
   "source": [
    "# inspecting a gene using the ID as attribute\n",
    "model.genes.b1241"
   ],
   "id": "93e346cc09b8544e",
   "execution_count": 14,
   "outputs": []
  },
  {
   "metadata": {},
   "cell_type": "markdown",
   "source": [
    "### Reactions\n",
    "\n",
    "In COBRApy, reactions are objects that can be inspected. A `Reaction` object usually contains the following information:\n",
    "- name;\n",
    "- metabolites;\n",
    "- stoichiometry;\n",
    "- genes;\n",
    "- formula;\n",
    "- reversibility;\n",
    "- bounds;\n",
    "- gpr;"
   ],
   "id": "37dd5d83d7c5537d"
  },
  {
   "metadata": {
    "ExecuteTime": {
     "end_time": "2024-07-01T15:28:18.248884Z",
     "start_time": "2024-07-01T15:28:18.234747Z"
    }
   },
   "cell_type": "code",
   "source": [
    "#inspecting the reaction name, formula, metabolites, and stoichiometry.\n",
    "reaction = model.reactions.get_by_id('ACALD')\n",
    "\n",
    "print('Reaction name:', reaction.name, '\\n')\n",
    "print('Reaction formula', reaction.reaction, '\\n')\n",
    "for metabolite, coefficient in reaction.metabolites.items():\n",
    "    print(metabolite, '->', coefficient)"
   ],
   "id": "30a41988a23a7c8d",
   "execution_count": 15,
   "outputs": []
  },
  {
   "metadata": {
    "ExecuteTime": {
     "end_time": "2024-07-01T15:28:18.264483Z",
     "start_time": "2024-07-01T15:28:18.250850Z"
    }
   },
   "cell_type": "code",
   "source": [
    "# inspecting reversibility and flux bounds.\n",
    "print(reaction.lower_bound, \"< ACALD <\", reaction.upper_bound, '\\n')\n",
    "print('Reaction reversibility:', reaction.reversibility, '\\n')\n",
    "print('Reaction bounds:', reaction.bounds)"
   ],
   "id": "c403684ef6b902bc",
   "execution_count": 16,
   "outputs": []
  },
  {
   "metadata": {
    "ExecuteTime": {
     "end_time": "2024-07-01T15:28:18.279836Z",
     "start_time": "2024-07-01T15:28:18.266456Z"
    }
   },
   "cell_type": "code",
   "source": [
    "# change reaction bounds\n",
    "reaction.bounds = (0, 1000)\n",
    "print(reaction.lower_bound, \"< ACALD <\", reaction.upper_bound, '\\n')\n",
    "print('Reaction reversibility:', reaction.reversibility, '\\n')"
   ],
   "id": "fcda52f69dfb4b31",
   "execution_count": 17,
   "outputs": []
  },
  {
   "metadata": {},
   "cell_type": "markdown",
   "source": [
    "### Metabolites\n",
    "\n",
    "In COBRApy, metabolites are objects that can be inspected. A `Metabolite` object usually contains the following information:\n",
    "- name;\n",
    "- chemical formula;\n",
    "- compartment;\n",
    "- reactions;"
   ],
   "id": "c2a30dd7b7b54fec"
  },
  {
   "metadata": {
    "ExecuteTime": {
     "end_time": "2024-07-01T15:28:18.295593Z",
     "start_time": "2024-07-01T15:28:18.280838Z"
    }
   },
   "cell_type": "code",
   "source": [
    "# inspecting metabolite name, chemical formula, compartment and reactions.\n",
    "metabolite = model.metabolites.get_by_id('glc__D_e')\n",
    "\n",
    "print('Metabolite name:', metabolite.name, '\\n')\n",
    "print('Metabolite chemical formula:', metabolite.formula, '\\n')\n",
    "print('Metabolite compartment:', metabolite.compartment, '\\n')\n",
    "for _reaction in metabolite.reactions:\n",
    "    print(_reaction.id, ':', _reaction.reaction)"
   ],
   "id": "d7ceb0fa4a32186a",
   "execution_count": 18,
   "outputs": []
  },
  {
   "metadata": {},
   "cell_type": "markdown",
   "source": [
    "### Genes\n",
    "\n",
    "In COBRApy, genes are objects that can be inspected. A `Gene` object usually contains the following information:\n",
    "- name;\n",
    "- reactions;"
   ],
   "id": "2f39bdd7fdd96ec3"
  },
  {
   "metadata": {
    "ExecuteTime": {
     "end_time": "2024-07-01T15:28:18.310626Z",
     "start_time": "2024-07-01T15:28:18.296562Z"
    }
   },
   "cell_type": "code",
   "source": [
    "# inspect gene name and reactions.\n",
    "gene = model.genes.get_by_id('b0351')\n",
    "\n",
    "print('Gene name:', gene.name, '\\n')\n",
    "for reaction_ in gene.reactions:\n",
    "    print(reaction_.id, ':', reaction.gene_reaction_rule)"
   ],
   "id": "64f771eccfe2b7a9",
   "execution_count": 19,
   "outputs": []
  },
  {
   "metadata": {},
   "cell_type": "markdown",
   "source": "### Exchanges",
   "id": "58bebb78876c164b"
  },
  {
   "metadata": {},
   "cell_type": "markdown",
   "source": "In COBRApy, exchanges are reaction objects that can be inspected in the model. These special reactions define the environmental conditions (e.g. medium) of the model. According to the lower and upper bound of each exchange reaction, one can visualize the model's uptake and secretion metabolites.",
   "id": "9a0519f16879f1d4"
  },
  {
   "metadata": {
    "ExecuteTime": {
     "end_time": "2024-07-01T15:28:18.326441Z",
     "start_time": "2024-07-01T15:28:18.312627Z"
    }
   },
   "cell_type": "code",
   "source": [
    "# inspecting the exchange reactions.\n",
    "for exchange in model.exchanges:\n",
    "    print(exchange.name, '->', exchange.bounds)"
   ],
   "id": "d9b86d86ed00d099",
   "execution_count": 20,
   "outputs": []
  },
  {
   "metadata": {
    "ExecuteTime": {
     "end_time": "2024-07-01T15:29:10.833615Z",
     "start_time": "2024-07-01T15:29:10.826975Z"
    }
   },
   "cell_type": "code",
   "source": [
    "# How to change multiple bounds at the time:\n",
    "\n",
    "# environmental_conditions = {\n",
    "#     'R1': (-1, 0),\n",
    "#     'R2': (0.5, 1000),\n",
    "#     'R3': (0.5, 1000),\n",
    "# }\n",
    "# \n",
    "# for reaction_id, bound in environmental_conditions.items():\n",
    "#     model.reactions.get_by_id(reaction_id).bounds = bound"
   ],
   "id": "9d63f1d8774f77e6",
   "execution_count": 21,
   "outputs": []
  },
  {
   "metadata": {},
   "cell_type": "code",
   "execution_count": null,
   "source": "",
   "id": "fc84714b17d09a02",
   "outputs": []
  }
 ],
 "metadata": {
  "kernelspec": {
   "display_name": "Python 3",
   "language": "python",
   "name": "python3"
  },
  "language_info": {
   "codemirror_mode": {
    "name": "ipython",
    "version": 3
   },
   "file_extension": ".py",
   "mimetype": "text/x-python",
   "name": "python",
   "nbconvert_exporter": "python",
   "pygments_lexer": "ipython3",
   "version": "3.7.7"
  }
 },
 "nbformat": 4,
 "nbformat_minor": 5
}
