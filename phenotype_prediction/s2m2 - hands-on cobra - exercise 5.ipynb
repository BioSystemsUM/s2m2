{
 "cells": [
  {
   "cell_type": "markdown",
   "id": "9db85786",
   "metadata": {
    "pycharm": {
     "name": "#%% md\n"
    }
   },
   "source": [
    "# COBRApy\n",
    "\n",
    "COBRApy is a package for constraint-based modeling of biological networks written in Python.\n",
    "\n",
    "This tool allows loading and inspecting Genome-Scale Metabolic (GEM) models written in the Systems Biology Markup Language (SBML) format.\n",
    "\n",
    "Using COBRApy, one can analyze the following model contents:\n",
    "1. Reactions\n",
    "2. Metabolites\n",
    "3. Genes\n",
    "4. Exchange reactions (Environmental Conditions)\n",
    "\n",
    "COBRApy allows manipulating the contents of a GEM model. For instance, one can edit reactions' flux bounds, knock out a metabolic gene, or change environmental conditions.\n",
    "\n",
    "COBRApy contains flux analysis methods to simulate an organism's phenotypic behavior. These include Flux Balance Analysis (FBA), Parsimonious FBA, or Flux Variability Analysis (FVA).\n",
    "\n",
    "The simulation of gene and reaction deletions for a given GEM model is a straightforward process. One can simulate single or double knockouts using one of the flux analysis methods mentioned above."
   ]
  },
  {
   "cell_type": "markdown",
   "id": "855f18a1",
   "metadata": {
    "pycharm": {
     "name": "#%% md\n"
    }
   },
   "source": [
    "## Installation\n",
    "\n",
    "\n",
    "### Requirements\n",
    "The following requirements are needed to use COBRApy:\n",
    "- Python 3.6 or higher\n",
    "- pip must be installed\n",
    "- GLPK is the default solver, but CPLEX is preferred\n",
    "\n",
    "\n",
    "### How to install COBRApy?\n",
    "```\n",
    "pip install cobra\n",
    "```"
   ]
  },
  {
   "cell_type": "markdown",
   "id": "a356f707",
   "metadata": {
    "pycharm": {
     "name": "#%% md\n"
    }
   },
   "source": [
    "# Exercise 5 - Phenotype prediction"
   ]
  },
  {
   "cell_type": "markdown",
   "id": "9f0f18e0",
   "metadata": {
    "pycharm": {
     "name": "#%% md\n"
    }
   },
   "source": [
    "## Working with a GEM model\n",
    "\n",
    "For this practical session, we will be using the following model:\n",
    "- _E. coli_ core model which contains the central carbon metabolism of _Escherichia coli_ -> file: ../data/e_coli_core.xml\n",
    "\n",
    "You can read more about _E. coli_ core model (Orth et al., 2010) in the following links:\n",
    "- https://journals.asm.org/doi/10.1128/ecosalplus.10.2.1\n",
    "- http://bigg.ucsd.edu/models/e_coli_core\n",
    "\n",
    "This exercise consists of exploring the phenotype prediction tools of COBRApy. Thus, the following steps will be followed:\n",
    "- Perform an FBA simulation using an aerobic/anaerobic conditions;\n",
    "- Perform an pFBA simulation;\n",
    "- Perform an FVA simulation;\n",
    "- Perform reaction and gene deletions;\n",
    "- Perform mutant-specific simulation methods, such as ROOM and MOMA;\n",
    "- Perform single and double deletions\n",
    "- Perform production envelopes"
   ]
  },
  {
   "cell_type": "code",
   "execution_count": null,
   "id": "fffef510",
   "metadata": {
    "ExecuteTime": {
     "end_time": "2023-06-26T14:03:42.053465300Z",
     "start_time": "2023-06-26T14:03:40.250175900Z"
    },
    "pycharm": {
     "name": "#%%\n"
    }
   },
   "outputs": [],
   "source": [
    "# imports\n",
    "import cobra\n",
    "import escher"
   ]
  },
  {
   "cell_type": "code",
   "execution_count": null,
   "id": "4b728266",
   "metadata": {
    "pycharm": {
     "name": "#%%\n"
    }
   },
   "outputs": [],
   "source": [
    "# Loading a model\n",
    "model_path = '../data/e_coli_core.xml'\n",
    "model = cobra.io.read_sbml_model(model_path)\n",
    "\n",
    "model"
   ]
  },
  {
   "cell_type": "markdown",
   "id": "7f6f1841",
   "metadata": {
    "pycharm": {
     "name": "#%% md\n"
    }
   },
   "source": [
    "## Phenotype Prediction"
   ]
  },
  {
   "cell_type": "markdown",
   "id": "091934a1",
   "metadata": {
    "pycharm": {
     "name": "#%% md\n"
    }
   },
   "source": [
    "COBRApy includes different algorithms for phenotype prediction. These include:\n",
    "- Flux Balance Analysis (FBA); \n",
    "- Parsimonious Flux Balance Analysis (pFBA);\n",
    "- Flux Variability Analysis (FVA);\n",
    "- Regulatory On/Off Minimization (ROOM);\n",
    "- Minimization of Metabolic Adjustment (MOMA);"
   ]
  },
  {
   "cell_type": "markdown",
   "id": "0c8b031e",
   "metadata": {
    "pycharm": {
     "name": "#%% md\n"
    }
   },
   "source": [
    "### Flux Balance Analysis (FBA) - Aerobiosis"
   ]
  },
  {
   "cell_type": "markdown",
   "id": "460d019f",
   "metadata": {
    "pycharm": {
     "name": "#%% md\n"
    }
   },
   "source": [
    "First, the exchange reactions should be verified to make sure that the aerobic conditions are all set up in the model."
   ]
  },
  {
   "cell_type": "code",
   "execution_count": null,
   "id": "8a3c3835",
   "metadata": {
    "pycharm": {
     "name": "#%%\n"
    }
   },
   "outputs": [],
   "source": [
    "#inspecting the exchange reactions.\n",
    "for exchange in model.exchanges:\n",
    "    print(exchange.name, '->', exchange.bounds)"
   ]
  },
  {
   "cell_type": "code",
   "execution_count": null,
   "id": "c80a1e5b",
   "metadata": {
    "pycharm": {
     "name": "#%%\n"
    }
   },
   "outputs": [],
   "source": [
    "# performing a FBA simulation in aerobiosis\n",
    "model.summary()"
   ]
  },
  {
   "cell_type": "markdown",
   "id": "993d0ad4",
   "metadata": {
    "pycharm": {
     "name": "#%% md\n"
    }
   },
   "source": [
    "### Flux Balance Analysis (FBA) - Anaerobiosis"
   ]
  },
  {
   "cell_type": "markdown",
   "id": "a807f1af",
   "metadata": {
    "pycharm": {
     "name": "#%% md\n"
    }
   },
   "source": [
    "Now, we should alter the exchange reactions to anaerobic conditions."
   ]
  },
  {
   "cell_type": "code",
   "execution_count": null,
   "id": "d094f83c",
   "metadata": {
    "pycharm": {
     "name": "#%%\n"
    }
   },
   "outputs": [],
   "source": [
    "#setting an anaerobic medium\n",
    "o2_exchange = model.exchanges.get_by_id('EX_o2_e')\n",
    "o2_exchange.bounds = (0, 1000)\n",
    "o2_exchange"
   ]
  },
  {
   "cell_type": "code",
   "execution_count": null,
   "id": "87faa163",
   "metadata": {
    "pycharm": {
     "name": "#%%\n"
    },
    "scrolled": false
   },
   "outputs": [],
   "source": [
    "# performing a FBA simulation in anaerobiosis\n",
    "model.summary()"
   ]
  },
  {
   "cell_type": "code",
   "execution_count": null,
   "id": "beab0d95",
   "metadata": {
    "pycharm": {
     "name": "#%%\n"
    }
   },
   "outputs": [],
   "source": [
    "# now we should revert the model changes to aerobic conditions\n",
    "o2_exchange.bounds = (-1000, 1000)\n",
    "o2_exchange"
   ]
  },
  {
   "cell_type": "markdown",
   "id": "eb68a700",
   "metadata": {
    "pycharm": {
     "name": "#%% md\n"
    }
   },
   "source": [
    "### Making reversible changes in the model"
   ]
  },
  {
   "cell_type": "markdown",
   "id": "aceb2e8c",
   "metadata": {
    "pycharm": {
     "name": "#%% md\n"
    }
   },
   "source": [
    "All changes performed in a GEM model using CORBApy are irreversible by default.\n",
    "That is, if we change the bounds of the oxygen exchange reaction, our model will no longer continue under aerobic conditions during this exercise."
   ]
  },
  {
   "cell_type": "markdown",
   "id": "45e0e8b2",
   "metadata": {
    "pycharm": {
     "name": "#%% md\n"
    }
   },
   "source": [
    "However, there is a way to perform reversible changes in a GEM model using COBRApy. For that, one can use the `with` context manager in our `model`. All changes performed within the `with` context manager block will be reverted automatically by COBRApy."
   ]
  },
  {
   "cell_type": "code",
   "execution_count": null,
   "id": "269c3a44",
   "metadata": {
    "pycharm": {
     "name": "#%%\n"
    }
   },
   "outputs": [],
   "source": [
    "# verifying that we have reverted the model changes to aerobic conditions\n",
    "o2_exchange = model.exchanges.get_by_id('EX_o2_e')\n",
    "o2_exchange"
   ]
  },
  {
   "cell_type": "code",
   "execution_count": null,
   "id": "2196d993",
   "metadata": {
    "pycharm": {
     "name": "#%%\n"
    }
   },
   "outputs": [],
   "source": [
    "# making reversible changes in the model\n",
    "with model:\n",
    "    o2_exchange.bounds = (0, 1000)\n",
    "    model_summary = model.summary()\n",
    "\n",
    "model_summary"
   ]
  },
  {
   "cell_type": "code",
   "execution_count": null,
   "id": "e74bad62",
   "metadata": {
    "pycharm": {
     "name": "#%%\n"
    }
   },
   "outputs": [],
   "source": [
    "# the bounds of the oxygen exchange reaction have been reverted automatically this time\n",
    "o2_exchange"
   ]
  },
  {
   "cell_type": "markdown",
   "id": "afffac30",
   "metadata": {
    "pycharm": {
     "name": "#%% md\n"
    }
   },
   "source": [
    "### Flux Variability Analysis (FVA)"
   ]
  },
  {
   "cell_type": "markdown",
   "id": "feadf1d4",
   "metadata": {
    "pycharm": {
     "name": "#%% md\n"
    }
   },
   "source": [
    "FBA can only obtain a unique flux distribution for a given objective function. Nevertheless, the space of flux distributions is very large and can vary significantly for a different objective. _FVA_ is a simulation method that finds the possible flux range for each reaction. _FVA_ can be used from the flux analysis package `cobra.flux_analysis.flux_variability_analysis(model)`. Note that, _FVA_ allows setting a minimum value of growth rate. In this case, we will be using 10% (that is, 0.1) of the wild-type growth rate."
   ]
  },
  {
   "cell_type": "code",
   "execution_count": null,
   "id": "649e6ea1",
   "metadata": {
    "pycharm": {
     "name": "#%%\n"
    },
    "scrolled": true
   },
   "outputs": [],
   "source": [
    "# performing fva simulation\n",
    "fva_solution = cobra.flux_analysis.flux_variability_analysis(model, fraction_of_optimum=0.1)\n",
    "fva_solution"
   ]
  },
  {
   "cell_type": "code",
   "execution_count": null,
   "id": "54d25b35",
   "metadata": {
    "pycharm": {
     "name": "#%%\n"
    }
   },
   "outputs": [],
   "source": [
    "# maximum theoretical production rates of Acetate (EX_ac_e), Ethanol (EX_etoh_e), and Formate (EX_for_e)\n",
    "\n",
    "print(f'Maximum theoretical production rate of Acetate:', fva_solution.loc['EX_ac_e', 'maximum'], 'mmol/gDW/h')\n",
    "print(f'Maximum theoretical production rate of Ethanol:', fva_solution.loc['EX_etoh_e', 'maximum'], 'mmol/gDW/h')\n",
    "print(f'Maximum theoretical production rate of Formate:', fva_solution.loc['EX_for_e', 'maximum'], 'mmol/gDW/h')"
   ]
  },
  {
   "cell_type": "markdown",
   "id": "6010b0f2",
   "metadata": {
    "pycharm": {
     "name": "#%% md\n"
    }
   },
   "source": [
    "### Parsimonious Flux Balance Analysis (pFBA)"
   ]
  },
  {
   "cell_type": "markdown",
   "id": "8cc5c822",
   "metadata": {
    "pycharm": {
     "name": "#%% md\n"
    }
   },
   "source": [
    "pFBA simulations gives the optimal growth rate, while minimizing the total sum of fluxes.\n",
    "pFBA can be used from the flux analysis package `cobra.flux_analysis.pfba(model)`."
   ]
  },
  {
   "cell_type": "code",
   "execution_count": null,
   "id": "84b81a3d",
   "metadata": {
    "pycharm": {
     "name": "#%%\n"
    }
   },
   "outputs": [],
   "source": [
    "#performing pfba simulation\n",
    "pfba_solution = cobra.flux_analysis.pfba(model)\n",
    "pfba_solution"
   ]
  },
  {
   "cell_type": "markdown",
   "id": "0d1eeb57",
   "metadata": {
    "pycharm": {
     "name": "#%% md\n"
    }
   },
   "source": [
    "The optimal solution of the pFBA is considerably different from the FBA result. This happens because the objective value for the pFBA is defined as the sum of all flux values (`sum(abs(pfba_solution.fluxes.values))`). On the other hand, the FBA result corresponds to the flux value of the reaction that is being optimized (`fba_solution.fluxes[\"BIOMASS_Ecoli_core_w_GAM\"]`)."
   ]
  },
  {
   "cell_type": "code",
   "execution_count": null,
   "id": "0bdf17aa",
   "metadata": {
    "pycharm": {
     "name": "#%%\n"
    }
   },
   "outputs": [],
   "source": [
    "#calculating the objective value of a pFBA solution\n",
    "sum(abs(pfba_solution.fluxes.values))"
   ]
  },
  {
   "cell_type": "markdown",
   "id": "73943a53",
   "metadata": {
    "pycharm": {
     "name": "#%% md\n"
    }
   },
   "source": [
    "### Simulating Deletions"
   ]
  },
  {
   "cell_type": "markdown",
   "id": "cf5f50f1",
   "metadata": {
    "pycharm": {
     "name": "#%% md\n"
    }
   },
   "source": [
    "As previously mentioned, COBRApy can be used to simulate gene or reaction deletions. The function `knock_out()` can be used to knock out a given reaction or gene."
   ]
  },
  {
   "cell_type": "code",
   "execution_count": null,
   "id": "422c889b",
   "metadata": {
    "pycharm": {
     "name": "#%%\n"
    }
   },
   "outputs": [],
   "source": [
    "#knock out the SUCDi reaction\n",
    "with model:\n",
    "    model.reactions.SUCDi.knock_out()\n",
    "    pfba_solution = cobra.flux_analysis.pfba(model)\n",
    "    print('SUCDi mutant growth rate: ', pfba_solution.fluxes['BIOMASS_Ecoli_core_w_GAM'])\n",
    "    print('SUCDi flux rate: ', pfba_solution.fluxes['SUCDi'])\n",
    "    print('SUCDi mutant succinate production rate: ', pfba_solution.fluxes['EX_succ_e'])"
   ]
  },
  {
   "cell_type": "code",
   "execution_count": null,
   "id": "510d2f4e",
   "metadata": {
    "pycharm": {
     "name": "#%%\n"
    }
   },
   "outputs": [],
   "source": [
    "# knock out the b1852 gene associated with reaction G6PDH2r\n",
    "with model:\n",
    "    model.genes.b1852.knock_out()\n",
    "    pfba_solution = cobra.flux_analysis.pfba(model)\n",
    "    print('b1852 mutant growth rate: ', pfba_solution.fluxes['BIOMASS_Ecoli_core_w_GAM'])\n",
    "    print('G6PDH2r flux rate: ', pfba_solution.fluxes['G6PDH2r'])\n",
    "    print('b1852 mutant succinate production rate: ', pfba_solution.fluxes['EX_succ_e'])"
   ]
  },
  {
   "cell_type": "markdown",
   "id": "28fe2260",
   "metadata": {
    "pycharm": {
     "name": "#%% md\n"
    }
   },
   "source": [
    "Gene-Protein-Reaction (GPR) rules can be used to understand which genes are associated with a given reaction. Besides, one can understand by the GPR rule if the reaction is being catalyzed by a single gene, isoenzyme or protein complex. In COBRApy, one can inspect the GPR rule of a given reaction or which reactions are associated with a given gene."
   ]
  },
  {
   "cell_type": "code",
   "execution_count": null,
   "id": "179c371c",
   "metadata": {
    "pycharm": {
     "name": "#%%\n"
    }
   },
   "outputs": [],
   "source": [
    "# ACKr GPR rule. This reaction is being catalyzed by an isoenzyme\n",
    "model.reactions.ACKr.gene_reaction_rule"
   ]
  },
  {
   "cell_type": "code",
   "execution_count": null,
   "id": "394e87c7",
   "metadata": {
    "pycharm": {
     "name": "#%%\n"
    }
   },
   "outputs": [],
   "source": [
    "# knock out the b3115 & b2296 & b1849 genes associated with reaction ACKr\n",
    "with model:\n",
    "    model.genes.b3115.knock_out()\n",
    "    model.genes.b2296.knock_out()\n",
    "    model.genes.b1849.knock_out()\n",
    "    pfba_solution = cobra.flux_analysis.pfba(model)\n",
    "    print('b3115, b2296, b1849 mutant growth rate: ', pfba_solution.fluxes['BIOMASS_Ecoli_core_w_GAM'])\n",
    "    print('ACKr flux rate: ', pfba_solution.fluxes['ACKr'])\n",
    "    print('b3115, b2296, b1849 mutant succinate production rate: ', pfba_solution.fluxes['EX_succ_e'])"
   ]
  },
  {
   "cell_type": "code",
   "execution_count": null,
   "id": "a606624c",
   "metadata": {
    "pycharm": {
     "name": "#%%\n"
    },
    "scrolled": true
   },
   "outputs": [],
   "source": [
    "# performing all deletions at once to verify succinate production rate, EX_succ_e\n",
    "with model:\n",
    "    wt_pfba_solution = cobra.flux_analysis.pfba(model)\n",
    "    print('WT growth rate: ', wt_pfba_solution.fluxes['BIOMASS_Ecoli_core_w_GAM'])\n",
    "    print('WT succinate production rate: ', wt_pfba_solution.fluxes['EX_succ_e'])\n",
    "    model.reactions.SUCDi.knock_out()\n",
    "    model.genes.b1852.knock_out()\n",
    "    model.genes.b3115.knock_out()\n",
    "    model.genes.b2296.knock_out()\n",
    "    model.genes.b1849.knock_out()\n",
    "    mutant_pfba_solution = cobra.flux_analysis.pfba(model)\n",
    "    print('MUTANT growth rate: ', mutant_pfba_solution.fluxes['BIOMASS_Ecoli_core_w_GAM'])\n",
    "    print('MUTANT succinate production rate: ', mutant_pfba_solution.fluxes['EX_succ_e'])"
   ]
  },
  {
   "cell_type": "code",
   "execution_count": null,
   "id": "60189db3",
   "metadata": {
    "pycharm": {
     "name": "#%%\n"
    },
    "scrolled": true
   },
   "outputs": [],
   "source": [
    "# WILD-TYPE flux distribution\n",
    "builder = escher.Builder(map_name='e_coli_core.Core metabolism', model=model, reaction_data=wt_pfba_solution.fluxes)\n",
    "builder"
   ]
  },
  {
   "cell_type": "code",
   "execution_count": null,
   "id": "074a2715",
   "metadata": {
    "pycharm": {
     "name": "#%%\n"
    }
   },
   "outputs": [],
   "source": [
    "# MUTANT flux distribution\n",
    "builder = escher.Builder(map_name='e_coli_core.Core metabolism', model=model, reaction_data=mutant_pfba_solution.fluxes)\n",
    "builder"
   ]
  },
  {
   "cell_type": "markdown",
   "id": "8b16303d",
   "metadata": {
    "pycharm": {
     "name": "#%% md\n"
    }
   },
   "source": [
    "### MOMA and ROOM"
   ]
  },
  {
   "cell_type": "markdown",
   "id": "03b1be47",
   "metadata": {
    "pycharm": {
     "name": "#%% md\n"
    }
   },
   "source": [
    "COBRApy includes phenotype prediction methods that are used predict the flux distribution after a gene knock out. These are the Minimization of Metabolic Adjustment (MOMA), which can be called using `cobra.flux_analysis.moma()`, and Regulatory On/Off Minimization (ROOM), using `cobra.flux_analysis.room()`."
   ]
  },
  {
   "cell_type": "code",
   "execution_count": null,
   "id": "df528258",
   "metadata": {
    "pycharm": {
     "name": "#%%\n"
    }
   },
   "outputs": [],
   "source": [
    "#using MOMA with COBRApy\n",
    "with model:\n",
    "    pfba_solution = cobra.flux_analysis.pfba(model)\n",
    "    model.reactions.SUCDi.knock_out()\n",
    "    model.genes.b1852.knock_out()\n",
    "    model.genes.b3115.knock_out()\n",
    "    model.genes.b2296.knock_out()\n",
    "    model.genes.b1849.knock_out()\n",
    "    moma_result = cobra.flux_analysis.moma(model, pfba_solution)\n",
    "    print('MOMA Result: ', moma_result)"
   ]
  },
  {
   "cell_type": "code",
   "execution_count": null,
   "id": "643d47fd",
   "metadata": {
    "pycharm": {
     "name": "#%%\n"
    }
   },
   "outputs": [],
   "source": [
    "model.summary(moma_result)"
   ]
  },
  {
   "cell_type": "code",
   "execution_count": null,
   "id": "06650a37",
   "metadata": {
    "pycharm": {
     "name": "#%%\n"
    }
   },
   "outputs": [],
   "source": [
    "#using ROOM with COBRApy\n",
    "with model:\n",
    "    pfba_solution = cobra.flux_analysis.pfba(model)\n",
    "    model.reactions.SUCDi.knock_out()\n",
    "    model.genes.b1852.knock_out()\n",
    "    model.genes.b3115.knock_out()\n",
    "    model.genes.b2296.knock_out()\n",
    "    model.genes.b1849.knock_out()\n",
    "    room_result = cobra.flux_analysis.room(model, pfba_solution)\n",
    "    print('ROOM Result: ', room_result)"
   ]
  },
  {
   "cell_type": "code",
   "execution_count": null,
   "id": "a02242e0",
   "metadata": {
    "pycharm": {
     "name": "#%%\n"
    }
   },
   "outputs": [],
   "source": [
    "model.summary(room_result)"
   ]
  },
  {
   "cell_type": "markdown",
   "id": "3071e542",
   "metadata": {
    "pycharm": {
     "name": "#%% md\n"
    }
   },
   "source": [
    "### Single Deletions"
   ]
  },
  {
   "cell_type": "markdown",
   "id": "31f3527c",
   "metadata": {
    "pycharm": {
     "name": "#%% md\n"
    }
   },
   "source": [
    "Single gene and reaction deletions can also be simulated with the flux analysis package of COBRApy. To do so, one can use the `cobra.flux_analysis.single_gene_deletion()` and `cobra.flux_analysis.single_reaction_deletion()` methods."
   ]
  },
  {
   "cell_type": "code",
   "execution_count": null,
   "id": "70d5ced5",
   "metadata": {
    "pycharm": {
     "name": "#%%\n"
    }
   },
   "outputs": [],
   "source": [
    "#single reaction deletion\n",
    "reaction_deletion_results = cobra.flux_analysis.single_reaction_deletion(model)\n",
    "reaction_deletion_results"
   ]
  },
  {
   "cell_type": "code",
   "execution_count": null,
   "id": "646cd58a",
   "metadata": {
    "pycharm": {
     "name": "#%%\n"
    }
   },
   "outputs": [],
   "source": [
    "#single gene deletion\n",
    "gene_deletion_results = cobra.flux_analysis.single_gene_deletion(model)\n",
    "gene_deletion_results"
   ]
  },
  {
   "cell_type": "markdown",
   "id": "17e8d095",
   "metadata": {
    "pycharm": {
     "name": "#%% md\n"
    }
   },
   "source": [
    "It is worth noting that genes and reactions with a growth rate equal to zero can be considered as essential genes or essential reactions, respectively."
   ]
  },
  {
   "cell_type": "markdown",
   "id": "ac1b24aa",
   "metadata": {
    "pycharm": {
     "name": "#%% md\n"
    }
   },
   "source": [
    "### Double Deletions"
   ]
  },
  {
   "cell_type": "markdown",
   "id": "49b919e2",
   "metadata": {
    "pycharm": {
     "name": "#%% md\n"
    }
   },
   "source": [
    "Double gene and reaction deletions can also be simulated with the flux analysis package of COBRApy. To do so, one can use the `cobra.flux_analysis.double_gene_deletion()` and `cobra.flux_analysis.double_reaction_deletion()` methods. These methods perform all possible combinations."
   ]
  },
  {
   "cell_type": "code",
   "execution_count": null,
   "id": "b628ec67",
   "metadata": {
    "pycharm": {
     "name": "#%%\n"
    }
   },
   "outputs": [],
   "source": [
    "#double reaction deletion\n",
    "double_reaction_deletion_results = cobra.flux_analysis.double_reaction_deletion(model)\n",
    "double_reaction_deletion_results"
   ]
  },
  {
   "cell_type": "code",
   "execution_count": null,
   "id": "01521135",
   "metadata": {
    "pycharm": {
     "name": "#%%\n"
    },
    "scrolled": true
   },
   "outputs": [],
   "source": [
    "#double gene deletion\n",
    "double_gene_deletion_results = cobra.flux_analysis.double_gene_deletion(model)\n",
    "double_gene_deletion_results"
   ]
  }
 ],
 "metadata": {
  "kernelspec": {
   "display_name": "Python 3 (ipykernel)",
   "language": "python",
   "name": "python3"
  },
  "language_info": {
   "codemirror_mode": {
    "name": "ipython",
    "version": 3
   },
   "file_extension": ".py",
   "mimetype": "text/x-python",
   "name": "python",
   "nbconvert_exporter": "python",
   "pygments_lexer": "ipython3",
   "version": "3.7.16"
  }
 },
 "nbformat": 4,
 "nbformat_minor": 5
}
