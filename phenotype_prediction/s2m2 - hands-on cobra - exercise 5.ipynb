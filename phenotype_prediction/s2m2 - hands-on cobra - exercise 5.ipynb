{
 "cells": [
  {
   "cell_type": "markdown",
   "id": "9db85786",
   "metadata": {
    "pycharm": {
     "name": "#%% md\n"
    }
   },
   "source": [
    "# COBRApy\n",
    "\n",
    "COBRApy is a package for constraint-based modeling of biological networks written in Python.\n",
    "\n",
    "This tool allows loading and inspecting Genome-Scale Metabolic (GEM) models written in the Systems Biology Markup Language (SBML) format.\n",
    "\n",
    "Using COBRApy, one can analyze the following model contents:\n",
    "1. Reactions\n",
    "2. Metabolites\n",
    "3. Genes\n",
    "4. Exchange reactions (Environmental Conditions)\n",
    "\n",
    "COBRApy allows manipulating the contents of a GEM model. For instance, one can edit reactions' flux bounds, knock out a metabolic gene, or change environmental conditions.\n",
    "\n",
    "COBRApy contains flux analysis methods to simulate an organism's phenotypic behavior. These include Flux Balance Analysis (FBA), Parsimonious FBA, or Flux Variability Analysis (FVA).\n",
    "\n",
    "The simulation of gene and reaction deletions for a given GEM model is a straightforward process. One can simulate single or double knockouts using one of the flux analysis methods mentioned above."
   ]
  },
  {
   "cell_type": "markdown",
   "id": "855f18a1",
   "metadata": {
    "pycharm": {
     "name": "#%% md\n"
    }
   },
   "source": [
    "## Installation\n",
    "\n",
    "\n",
    "### Requirements\n",
    "The following requirements are needed to use COBRApy:\n",
    "- Python 3.6 or higher\n",
    "- pip must be installed\n",
    "- GLPK is the default solver, but CPLEX is preferred\n",
    "\n",
    "\n",
    "### How to install COBRApy?\n",
    "```\n",
    "pip install cobra\n",
    "```"
   ]
  },
  {
   "cell_type": "markdown",
   "id": "a356f707",
   "metadata": {
    "pycharm": {
     "name": "#%% md\n"
    }
   },
   "source": [
    "# Exercise 5 - Phenotype prediction"
   ]
  },
  {
   "cell_type": "markdown",
   "id": "9f0f18e0",
   "metadata": {
    "pycharm": {
     "name": "#%% md\n"
    }
   },
   "source": [
    "## Working with a GEM model\n",
    "\n",
    "For this practical session, we will be using the following model:\n",
    "- _E. coli_ core model which contains the central carbon metabolism of _Escherichia coli_ -> file: ../data/e_coli_core.xml\n",
    "\n",
    "You can read more about _E. coli_ core model (Orth et al., 2010) in the following links:\n",
    "- https://journals.asm.org/doi/10.1128/ecosalplus.10.2.1\n",
    "- http://bigg.ucsd.edu/models/e_coli_core\n",
    "\n",
    "This exercise consists of exploring the phenotype prediction tools of COBRApy. Thus, the following steps will be followed:\n",
    "- Perform an FBA simulation using an aerobic/anaerobic conditions;\n",
    "- Perform an pFBA simulation;\n",
    "- Perform an FVA simulation;\n",
    "- Perform reaction and gene deletions;\n",
    "- Perform mutant-specific simulation methods, such as ROOM and MOMA;\n",
    "- Perform single and double deletions\n",
    "- Perform production envelopes"
   ]
  },
  {
   "cell_type": "code",
   "execution_count": 1,
   "id": "fffef510",
   "metadata": {
    "pycharm": {
     "name": "#%%\n"
    },
    "ExecuteTime": {
     "end_time": "2024-06-19T14:22:10.624184400Z",
     "start_time": "2024-06-19T14:22:04.475620300Z"
    }
   },
   "outputs": [],
   "source": [
    "# imports\n",
    "import cobra\n",
    "import escher"
   ]
  },
  {
   "cell_type": "code",
   "execution_count": 2,
   "id": "4b728266",
   "metadata": {
    "pycharm": {
     "name": "#%%\n"
    },
    "ExecuteTime": {
     "end_time": "2024-06-19T14:22:11.546312200Z",
     "start_time": "2024-06-19T14:22:10.622184700Z"
    }
   },
   "outputs": [
    {
     "data": {
      "text/plain": "<Model e_coli_core at 0x29f388fb248>",
      "text/html": "\n        <table>\n            <tr>\n                <td><strong>Name</strong></td>\n                <td>e_coli_core</td>\n            </tr><tr>\n                <td><strong>Memory address</strong></td>\n                <td>29f388fb248</td>\n            </tr><tr>\n                <td><strong>Number of metabolites</strong></td>\n                <td>72</td>\n            </tr><tr>\n                <td><strong>Number of reactions</strong></td>\n                <td>95</td>\n            </tr><tr>\n                <td><strong>Number of genes</strong></td>\n                <td>137</td>\n            </tr><tr>\n                <td><strong>Number of groups</strong></td>\n                <td>0</td>\n            </tr><tr>\n                <td><strong>Objective expression</strong></td>\n                <td>1.0*BIOMASS_Ecoli_core_w_GAM - 1.0*BIOMASS_Ecoli_core_w_GAM_reverse_712e5</td>\n            </tr><tr>\n                <td><strong>Compartments</strong></td>\n                <td>extracellular space, cytosol</td>\n            </tr>\n          </table>"
     },
     "execution_count": 2,
     "metadata": {},
     "output_type": "execute_result"
    }
   ],
   "source": [
    "# Loading a model\n",
    "model_path = '../data/e_coli_core.xml'\n",
    "model = cobra.io.read_sbml_model(model_path)\n",
    "\n",
    "model"
   ]
  },
  {
   "cell_type": "markdown",
   "id": "7f6f1841",
   "metadata": {
    "pycharm": {
     "name": "#%% md\n"
    }
   },
   "source": [
    "## Phenotype Prediction"
   ]
  },
  {
   "cell_type": "markdown",
   "id": "091934a1",
   "metadata": {
    "pycharm": {
     "name": "#%% md\n"
    }
   },
   "source": [
    "COBRApy includes different algorithms for phenotype prediction. These include:\n",
    "- Flux Balance Analysis (FBA); \n",
    "- Parsimonious Flux Balance Analysis (pFBA);\n",
    "- Flux Variability Analysis (FVA);\n",
    "- Regulatory On/Off Minimization (ROOM);\n",
    "- Minimization of Metabolic Adjustment (MOMA);"
   ]
  },
  {
   "cell_type": "markdown",
   "id": "0c8b031e",
   "metadata": {
    "pycharm": {
     "name": "#%% md\n"
    }
   },
   "source": [
    "### Flux Balance Analysis (FBA) - Aerobiosis"
   ]
  },
  {
   "cell_type": "markdown",
   "id": "460d019f",
   "metadata": {
    "pycharm": {
     "name": "#%% md\n"
    }
   },
   "source": [
    "First, the exchange reactions should be verified to make sure that the aerobic conditions are all set up in the model."
   ]
  },
  {
   "cell_type": "code",
   "execution_count": 3,
   "id": "8a3c3835",
   "metadata": {
    "pycharm": {
     "name": "#%%\n"
    },
    "ExecuteTime": {
     "end_time": "2024-06-19T14:22:11.647656900Z",
     "start_time": "2024-06-19T14:22:11.542321900Z"
    }
   },
   "outputs": [
    {
     "name": "stdout",
     "output_type": "stream",
     "text": [
      "Acetate exchange -> (0.0, 1000.0)\n",
      "Acetaldehyde exchange -> (0.0, 1000.0)\n",
      "2-Oxoglutarate exchange -> (0.0, 1000.0)\n",
      "CO2 exchange -> (-1000.0, 1000.0)\n",
      "Ethanol exchange -> (0.0, 1000.0)\n",
      "Formate exchange -> (0.0, 1000.0)\n",
      "D-Fructose exchange -> (0.0, 1000.0)\n",
      "Fumarate exchange -> (0.0, 1000.0)\n",
      "D-Glucose exchange -> (-10.0, 1000.0)\n",
      "L-Glutamine exchange -> (0.0, 1000.0)\n",
      "L-Glutamate exchange -> (0.0, 1000.0)\n",
      "H+ exchange -> (-1000.0, 1000.0)\n",
      "H2O exchange -> (-1000.0, 1000.0)\n",
      "D-lactate exchange -> (0.0, 1000.0)\n",
      "L-Malate exchange -> (0.0, 1000.0)\n",
      "Ammonia exchange -> (-1000.0, 1000.0)\n",
      "O2 exchange -> (-1000.0, 1000.0)\n",
      "Phosphate exchange -> (-1000.0, 1000.0)\n",
      "Pyruvate exchange -> (0.0, 1000.0)\n",
      "Succinate exchange -> (0.0, 1000.0)\n"
     ]
    }
   ],
   "source": [
    "#inspecting the exchange reactions.\n",
    "for exchange in model.exchanges:\n",
    "    print(exchange.name, '->', exchange.bounds)"
   ]
  },
  {
   "cell_type": "code",
   "execution_count": 4,
   "id": "c80a1e5b",
   "metadata": {
    "pycharm": {
     "name": "#%%\n"
    },
    "ExecuteTime": {
     "end_time": "2024-06-19T14:22:11.765713300Z",
     "start_time": "2024-06-19T14:22:11.570454100Z"
    }
   },
   "outputs": [
    {
     "data": {
      "text/plain": "<cobra.summary.model_summary.ModelSummary at 0x29f388f9fc8>",
      "text/html": "<h3>Objective</h3><p>1.0 BIOMASS_Ecoli_core_w_GAM = 0.8739215069684302</p><h4>Uptake</h4><table border=\"1\" class=\"dataframe\">\n  <thead>\n    <tr style=\"text-align: right;\">\n      <th>Metabolite</th>\n      <th>Reaction</th>\n      <th>Flux</th>\n      <th>C-Number</th>\n      <th>C-Flux</th>\n    </tr>\n  </thead>\n  <tbody>\n    <tr>\n      <td>glc__D_e</td>\n      <td>EX_glc__D_e</td>\n      <td>10</td>\n      <td>6</td>\n      <td>100.00%</td>\n    </tr>\n    <tr>\n      <td>nh4_e</td>\n      <td>EX_nh4_e</td>\n      <td>4.765</td>\n      <td>0</td>\n      <td>0.00%</td>\n    </tr>\n    <tr>\n      <td>o2_e</td>\n      <td>EX_o2_e</td>\n      <td>21.8</td>\n      <td>0</td>\n      <td>0.00%</td>\n    </tr>\n    <tr>\n      <td>pi_e</td>\n      <td>EX_pi_e</td>\n      <td>3.215</td>\n      <td>0</td>\n      <td>0.00%</td>\n    </tr>\n  </tbody>\n</table><h4>Secretion</h4><table border=\"1\" class=\"dataframe\">\n  <thead>\n    <tr style=\"text-align: right;\">\n      <th>Metabolite</th>\n      <th>Reaction</th>\n      <th>Flux</th>\n      <th>C-Number</th>\n      <th>C-Flux</th>\n    </tr>\n  </thead>\n  <tbody>\n    <tr>\n      <td>co2_e</td>\n      <td>EX_co2_e</td>\n      <td>-22.81</td>\n      <td>1</td>\n      <td>100.00%</td>\n    </tr>\n    <tr>\n      <td>h2o_e</td>\n      <td>EX_h2o_e</td>\n      <td>-29.18</td>\n      <td>0</td>\n      <td>0.00%</td>\n    </tr>\n    <tr>\n      <td>h_e</td>\n      <td>EX_h_e</td>\n      <td>-17.53</td>\n      <td>0</td>\n      <td>0.00%</td>\n    </tr>\n  </tbody>\n</table>"
     },
     "execution_count": 4,
     "metadata": {},
     "output_type": "execute_result"
    }
   ],
   "source": [
    "# performing a FBA simulation in aerobiosis\n",
    "model.summary()"
   ]
  },
  {
   "cell_type": "markdown",
   "id": "993d0ad4",
   "metadata": {
    "pycharm": {
     "name": "#%% md\n"
    }
   },
   "source": [
    "### Flux Balance Analysis (FBA) - Anaerobiosis"
   ]
  },
  {
   "cell_type": "markdown",
   "id": "a807f1af",
   "metadata": {
    "pycharm": {
     "name": "#%% md\n"
    }
   },
   "source": [
    "Now, we should alter the exchange reactions to anaerobic conditions."
   ]
  },
  {
   "cell_type": "code",
   "execution_count": 5,
   "id": "d094f83c",
   "metadata": {
    "pycharm": {
     "name": "#%%\n"
    },
    "ExecuteTime": {
     "end_time": "2024-06-19T14:22:11.826571800Z",
     "start_time": "2024-06-19T14:22:11.757102800Z"
    }
   },
   "outputs": [
    {
     "data": {
      "text/plain": "<Reaction EX_o2_e at 0x29f38a7d2c8>",
      "text/html": "\n        <table>\n            <tr>\n                <td><strong>Reaction identifier</strong></td><td>EX_o2_e</td>\n            </tr><tr>\n                <td><strong>Name</strong></td><td>O2 exchange</td>\n            </tr><tr>\n                <td><strong>Memory address</strong></td>\n                <td>0x29f38a7d2c8</td>\n            </tr><tr>\n                <td><strong>Stoichiometry</strong></td>\n                <td>\n                    <p style='text-align:right'>o2_e --></p>\n                    <p style='text-align:right'>O2 O2 --></p>\n                </td>\n            </tr><tr>\n                <td><strong>GPR</strong></td><td></td>\n            </tr><tr>\n                <td><strong>Lower bound</strong></td><td>0</td>\n            </tr><tr>\n                <td><strong>Upper bound</strong></td><td>1000</td>\n            </tr>\n        </table>\n        "
     },
     "execution_count": 5,
     "metadata": {},
     "output_type": "execute_result"
    }
   ],
   "source": [
    "#setting an anaerobic medium\n",
    "o2_exchange = model.exchanges.get_by_id('EX_o2_e')\n",
    "o2_exchange.bounds = (0, 1000)\n",
    "o2_exchange"
   ]
  },
  {
   "cell_type": "code",
   "execution_count": 6,
   "id": "87faa163",
   "metadata": {
    "pycharm": {
     "name": "#%%\n"
    },
    "scrolled": false,
    "ExecuteTime": {
     "end_time": "2024-06-19T14:22:11.940604900Z",
     "start_time": "2024-06-19T14:22:11.770728Z"
    }
   },
   "outputs": [
    {
     "data": {
      "text/plain": "<cobra.summary.model_summary.ModelSummary at 0x29f38cdc208>",
      "text/html": "<h3>Objective</h3><p>1.0 BIOMASS_Ecoli_core_w_GAM = 0.21166294973531058</p><h4>Uptake</h4><table border=\"1\" class=\"dataframe\">\n  <thead>\n    <tr style=\"text-align: right;\">\n      <th>Metabolite</th>\n      <th>Reaction</th>\n      <th>Flux</th>\n      <th>C-Number</th>\n      <th>C-Flux</th>\n    </tr>\n  </thead>\n  <tbody>\n    <tr>\n      <td>co2_e</td>\n      <td>EX_co2_e</td>\n      <td>0.3782</td>\n      <td>1</td>\n      <td>0.63%</td>\n    </tr>\n    <tr>\n      <td>glc__D_e</td>\n      <td>EX_glc__D_e</td>\n      <td>10</td>\n      <td>6</td>\n      <td>99.37%</td>\n    </tr>\n    <tr>\n      <td>h2o_e</td>\n      <td>EX_h2o_e</td>\n      <td>7.116</td>\n      <td>0</td>\n      <td>0.00%</td>\n    </tr>\n    <tr>\n      <td>nh4_e</td>\n      <td>EX_nh4_e</td>\n      <td>1.154</td>\n      <td>0</td>\n      <td>0.00%</td>\n    </tr>\n    <tr>\n      <td>pi_e</td>\n      <td>EX_pi_e</td>\n      <td>0.7786</td>\n      <td>0</td>\n      <td>0.00%</td>\n    </tr>\n  </tbody>\n</table><h4>Secretion</h4><table border=\"1\" class=\"dataframe\">\n  <thead>\n    <tr style=\"text-align: right;\">\n      <th>Metabolite</th>\n      <th>Reaction</th>\n      <th>Flux</th>\n      <th>C-Number</th>\n      <th>C-Flux</th>\n    </tr>\n  </thead>\n  <tbody>\n    <tr>\n      <td>ac_e</td>\n      <td>EX_ac_e</td>\n      <td>-8.504</td>\n      <td>2</td>\n      <td>33.11%</td>\n    </tr>\n    <tr>\n      <td>etoh_e</td>\n      <td>EX_etoh_e</td>\n      <td>-8.279</td>\n      <td>2</td>\n      <td>32.23%</td>\n    </tr>\n    <tr>\n      <td>for_e</td>\n      <td>EX_for_e</td>\n      <td>-17.8</td>\n      <td>1</td>\n      <td>34.66%</td>\n    </tr>\n    <tr>\n      <td>h_e</td>\n      <td>EX_h_e</td>\n      <td>-30.55</td>\n      <td>0</td>\n      <td>0.00%</td>\n    </tr>\n  </tbody>\n</table>"
     },
     "execution_count": 6,
     "metadata": {},
     "output_type": "execute_result"
    }
   ],
   "source": [
    "# performing a FBA simulation in anaerobiosis\n",
    "model.summary()"
   ]
  },
  {
   "cell_type": "code",
   "execution_count": 7,
   "id": "beab0d95",
   "metadata": {
    "pycharm": {
     "name": "#%%\n"
    },
    "ExecuteTime": {
     "end_time": "2024-06-19T14:22:11.992764200Z",
     "start_time": "2024-06-19T14:22:11.830586500Z"
    }
   },
   "outputs": [
    {
     "data": {
      "text/plain": "<Reaction EX_o2_e at 0x29f38a7d2c8>",
      "text/html": "\n        <table>\n            <tr>\n                <td><strong>Reaction identifier</strong></td><td>EX_o2_e</td>\n            </tr><tr>\n                <td><strong>Name</strong></td><td>O2 exchange</td>\n            </tr><tr>\n                <td><strong>Memory address</strong></td>\n                <td>0x29f38a7d2c8</td>\n            </tr><tr>\n                <td><strong>Stoichiometry</strong></td>\n                <td>\n                    <p style='text-align:right'>o2_e <=></p>\n                    <p style='text-align:right'>O2 O2 <=></p>\n                </td>\n            </tr><tr>\n                <td><strong>GPR</strong></td><td></td>\n            </tr><tr>\n                <td><strong>Lower bound</strong></td><td>-1000</td>\n            </tr><tr>\n                <td><strong>Upper bound</strong></td><td>1000</td>\n            </tr>\n        </table>\n        "
     },
     "execution_count": 7,
     "metadata": {},
     "output_type": "execute_result"
    }
   ],
   "source": [
    "# now we should revert the model changes to aerobic conditions\n",
    "o2_exchange.bounds = (-1000, 1000)\n",
    "o2_exchange"
   ]
  },
  {
   "cell_type": "markdown",
   "id": "eb68a700",
   "metadata": {
    "pycharm": {
     "name": "#%% md\n"
    }
   },
   "source": [
    "### Making reversible changes in the model"
   ]
  },
  {
   "cell_type": "markdown",
   "id": "aceb2e8c",
   "metadata": {
    "pycharm": {
     "name": "#%% md\n"
    }
   },
   "source": [
    "All changes performed in a GEM model using CORBApy are irreversible by default.\n",
    "That is, if we change the bounds of the oxygen exchange reaction, our model will no longer continue under aerobic conditions during this exercise."
   ]
  },
  {
   "cell_type": "markdown",
   "id": "45e0e8b2",
   "metadata": {
    "pycharm": {
     "name": "#%% md\n"
    }
   },
   "source": [
    "However, there is a way to perform reversible changes in a GEM model using COBRApy. For that, one can use the `with` context manager in our `model`. All changes performed within the `with` context manager block will be reverted automatically by COBRApy."
   ]
  },
  {
   "cell_type": "code",
   "execution_count": 8,
   "id": "269c3a44",
   "metadata": {
    "pycharm": {
     "name": "#%%\n"
    },
    "ExecuteTime": {
     "end_time": "2024-06-19T14:22:12.290595700Z",
     "start_time": "2024-06-19T14:22:11.847646900Z"
    }
   },
   "outputs": [
    {
     "data": {
      "text/plain": "<Reaction EX_o2_e at 0x29f38a7d2c8>",
      "text/html": "\n        <table>\n            <tr>\n                <td><strong>Reaction identifier</strong></td><td>EX_o2_e</td>\n            </tr><tr>\n                <td><strong>Name</strong></td><td>O2 exchange</td>\n            </tr><tr>\n                <td><strong>Memory address</strong></td>\n                <td>0x29f38a7d2c8</td>\n            </tr><tr>\n                <td><strong>Stoichiometry</strong></td>\n                <td>\n                    <p style='text-align:right'>o2_e <=></p>\n                    <p style='text-align:right'>O2 O2 <=></p>\n                </td>\n            </tr><tr>\n                <td><strong>GPR</strong></td><td></td>\n            </tr><tr>\n                <td><strong>Lower bound</strong></td><td>-1000</td>\n            </tr><tr>\n                <td><strong>Upper bound</strong></td><td>1000</td>\n            </tr>\n        </table>\n        "
     },
     "execution_count": 8,
     "metadata": {},
     "output_type": "execute_result"
    }
   ],
   "source": [
    "# verifying that we have reverted the model changes to aerobic conditions\n",
    "o2_exchange = model.exchanges.get_by_id('EX_o2_e')\n",
    "o2_exchange"
   ]
  },
  {
   "cell_type": "code",
   "execution_count": 9,
   "id": "2196d993",
   "metadata": {
    "pycharm": {
     "name": "#%%\n"
    },
    "ExecuteTime": {
     "end_time": "2024-06-19T14:22:12.467445400Z",
     "start_time": "2024-06-19T14:22:11.862703800Z"
    }
   },
   "outputs": [
    {
     "data": {
      "text/plain": "<cobra.summary.model_summary.ModelSummary at 0x29f38d0d8c8>",
      "text/html": "<h3>Objective</h3><p>1.0 BIOMASS_Ecoli_core_w_GAM = 0.21166294973531058</p><h4>Uptake</h4><table border=\"1\" class=\"dataframe\">\n  <thead>\n    <tr style=\"text-align: right;\">\n      <th>Metabolite</th>\n      <th>Reaction</th>\n      <th>Flux</th>\n      <th>C-Number</th>\n      <th>C-Flux</th>\n    </tr>\n  </thead>\n  <tbody>\n    <tr>\n      <td>co2_e</td>\n      <td>EX_co2_e</td>\n      <td>0.3782</td>\n      <td>1</td>\n      <td>0.63%</td>\n    </tr>\n    <tr>\n      <td>glc__D_e</td>\n      <td>EX_glc__D_e</td>\n      <td>10</td>\n      <td>6</td>\n      <td>99.37%</td>\n    </tr>\n    <tr>\n      <td>h2o_e</td>\n      <td>EX_h2o_e</td>\n      <td>7.116</td>\n      <td>0</td>\n      <td>0.00%</td>\n    </tr>\n    <tr>\n      <td>nh4_e</td>\n      <td>EX_nh4_e</td>\n      <td>1.154</td>\n      <td>0</td>\n      <td>0.00%</td>\n    </tr>\n    <tr>\n      <td>pi_e</td>\n      <td>EX_pi_e</td>\n      <td>0.7786</td>\n      <td>0</td>\n      <td>0.00%</td>\n    </tr>\n  </tbody>\n</table><h4>Secretion</h4><table border=\"1\" class=\"dataframe\">\n  <thead>\n    <tr style=\"text-align: right;\">\n      <th>Metabolite</th>\n      <th>Reaction</th>\n      <th>Flux</th>\n      <th>C-Number</th>\n      <th>C-Flux</th>\n    </tr>\n  </thead>\n  <tbody>\n    <tr>\n      <td>ac_e</td>\n      <td>EX_ac_e</td>\n      <td>-8.504</td>\n      <td>2</td>\n      <td>33.11%</td>\n    </tr>\n    <tr>\n      <td>etoh_e</td>\n      <td>EX_etoh_e</td>\n      <td>-8.279</td>\n      <td>2</td>\n      <td>32.23%</td>\n    </tr>\n    <tr>\n      <td>for_e</td>\n      <td>EX_for_e</td>\n      <td>-17.8</td>\n      <td>1</td>\n      <td>34.66%</td>\n    </tr>\n    <tr>\n      <td>h_e</td>\n      <td>EX_h_e</td>\n      <td>-30.55</td>\n      <td>0</td>\n      <td>0.00%</td>\n    </tr>\n  </tbody>\n</table>"
     },
     "execution_count": 9,
     "metadata": {},
     "output_type": "execute_result"
    }
   ],
   "source": [
    "# making reversible changes in the model\n",
    "with model:\n",
    "    o2_exchange.bounds = (0, 1000)\n",
    "    model_summary = model.summary()\n",
    "\n",
    "model_summary"
   ]
  },
  {
   "cell_type": "code",
   "execution_count": 10,
   "id": "e74bad62",
   "metadata": {
    "pycharm": {
     "name": "#%%\n"
    },
    "ExecuteTime": {
     "end_time": "2024-06-19T14:22:12.652395500Z",
     "start_time": "2024-06-19T14:22:11.941613500Z"
    }
   },
   "outputs": [
    {
     "data": {
      "text/plain": "<Reaction EX_o2_e at 0x29f38a7d2c8>",
      "text/html": "\n        <table>\n            <tr>\n                <td><strong>Reaction identifier</strong></td><td>EX_o2_e</td>\n            </tr><tr>\n                <td><strong>Name</strong></td><td>O2 exchange</td>\n            </tr><tr>\n                <td><strong>Memory address</strong></td>\n                <td>0x29f38a7d2c8</td>\n            </tr><tr>\n                <td><strong>Stoichiometry</strong></td>\n                <td>\n                    <p style='text-align:right'>o2_e <=></p>\n                    <p style='text-align:right'>O2 O2 <=></p>\n                </td>\n            </tr><tr>\n                <td><strong>GPR</strong></td><td></td>\n            </tr><tr>\n                <td><strong>Lower bound</strong></td><td>-1000</td>\n            </tr><tr>\n                <td><strong>Upper bound</strong></td><td>1000</td>\n            </tr>\n        </table>\n        "
     },
     "execution_count": 10,
     "metadata": {},
     "output_type": "execute_result"
    }
   ],
   "source": [
    "# the bounds of the oxygen exchange reaction have been reverted automatically this time\n",
    "o2_exchange"
   ]
  },
  {
   "cell_type": "markdown",
   "id": "afffac30",
   "metadata": {
    "pycharm": {
     "name": "#%% md\n"
    }
   },
   "source": [
    "### Flux Variability Analysis (FVA)"
   ]
  },
  {
   "cell_type": "markdown",
   "id": "feadf1d4",
   "metadata": {
    "pycharm": {
     "name": "#%% md\n"
    }
   },
   "source": [
    "FBA can only obtain a unique flux distribution for a given objective function. Nevertheless, the space of flux distributions is very large and can vary significantly for a different objective. _FVA_ is a simulation method that finds the possible flux range for each reaction. _FVA_ can be used from the flux analysis package `cobra.flux_analysis.flux_variability_analysis(model)`. Note that, _FVA_ allows setting a minimum value of growth rate. In this case, we will be using 10% (that is, 0.1) of the wild-type growth rate."
   ]
  },
  {
   "cell_type": "code",
   "execution_count": 11,
   "id": "649e6ea1",
   "metadata": {
    "pycharm": {
     "name": "#%%\n"
    },
    "scrolled": true,
    "ExecuteTime": {
     "end_time": "2024-06-19T14:22:34.171819200Z",
     "start_time": "2024-06-19T14:22:11.959661600Z"
    }
   },
   "outputs": [
    {
     "data": {
      "text/plain": "           minimum     maximum\nPFK       0.000000  160.068737\nPFL       0.000000   37.765356\nPGI     -46.033227    9.982085\nPGK     -19.767685   -1.095915\nPGL       0.000000   56.015311\n...            ...         ...\nNADH16    0.000000  112.359899\nNADTRHD   0.000000  341.373936\nNH4t      0.476532    9.812417\nO2t       0.000000   56.179949\nPDH       0.000000   37.765356\n\n[95 rows x 2 columns]",
      "text/html": "<div>\n<style scoped>\n    .dataframe tbody tr th:only-of-type {\n        vertical-align: middle;\n    }\n\n    .dataframe tbody tr th {\n        vertical-align: top;\n    }\n\n    .dataframe thead th {\n        text-align: right;\n    }\n</style>\n<table border=\"1\" class=\"dataframe\">\n  <thead>\n    <tr style=\"text-align: right;\">\n      <th></th>\n      <th>minimum</th>\n      <th>maximum</th>\n    </tr>\n  </thead>\n  <tbody>\n    <tr>\n      <th>PFK</th>\n      <td>0.000000</td>\n      <td>160.068737</td>\n    </tr>\n    <tr>\n      <th>PFL</th>\n      <td>0.000000</td>\n      <td>37.765356</td>\n    </tr>\n    <tr>\n      <th>PGI</th>\n      <td>-46.033227</td>\n      <td>9.982085</td>\n    </tr>\n    <tr>\n      <th>PGK</th>\n      <td>-19.767685</td>\n      <td>-1.095915</td>\n    </tr>\n    <tr>\n      <th>PGL</th>\n      <td>0.000000</td>\n      <td>56.015311</td>\n    </tr>\n    <tr>\n      <th>...</th>\n      <td>...</td>\n      <td>...</td>\n    </tr>\n    <tr>\n      <th>NADH16</th>\n      <td>0.000000</td>\n      <td>112.359899</td>\n    </tr>\n    <tr>\n      <th>NADTRHD</th>\n      <td>0.000000</td>\n      <td>341.373936</td>\n    </tr>\n    <tr>\n      <th>NH4t</th>\n      <td>0.476532</td>\n      <td>9.812417</td>\n    </tr>\n    <tr>\n      <th>O2t</th>\n      <td>0.000000</td>\n      <td>56.179949</td>\n    </tr>\n    <tr>\n      <th>PDH</th>\n      <td>0.000000</td>\n      <td>37.765356</td>\n    </tr>\n  </tbody>\n</table>\n<p>95 rows × 2 columns</p>\n</div>"
     },
     "execution_count": 11,
     "metadata": {},
     "output_type": "execute_result"
    }
   ],
   "source": [
    "# performing fva simulation\n",
    "fva_solution = cobra.flux_analysis.flux_variability_analysis(model, fraction_of_optimum=0.1)\n",
    "fva_solution"
   ]
  },
  {
   "cell_type": "code",
   "execution_count": 12,
   "id": "54d25b35",
   "metadata": {
    "pycharm": {
     "name": "#%%\n"
    },
    "ExecuteTime": {
     "end_time": "2024-06-19T14:22:34.203556300Z",
     "start_time": "2024-06-19T14:22:34.142721400Z"
    }
   },
   "outputs": [
    {
     "name": "stdout",
     "output_type": "stream",
     "text": [
      "Maximum theoretical production rate of Acetate: 18.671770397634035 mmol/gDW/h\n",
      "Maximum theoretical production rate of Ethanol: 18.67177039763403 mmol/gDW/h\n",
      "Maximum theoretical production rate of Formate: 37.76535648903652 mmol/gDW/h\n"
     ]
    }
   ],
   "source": [
    "# maximum theoretical production rates of Acetate (EX_ac_e), Ethanol (EX_etoh_e), and Formate (EX_for_e)\n",
    "\n",
    "print(f'Maximum theoretical production rate of Acetate:', fva_solution.loc['EX_ac_e', 'maximum'], 'mmol/gDW/h')\n",
    "print(f'Maximum theoretical production rate of Ethanol:', fva_solution.loc['EX_etoh_e', 'maximum'], 'mmol/gDW/h')\n",
    "print(f'Maximum theoretical production rate of Formate:', fva_solution.loc['EX_for_e', 'maximum'], 'mmol/gDW/h')"
   ]
  },
  {
   "cell_type": "markdown",
   "id": "6010b0f2",
   "metadata": {
    "pycharm": {
     "name": "#%% md\n"
    }
   },
   "source": [
    "### Parsimonious Flux Balance Analysis (pFBA)"
   ]
  },
  {
   "cell_type": "markdown",
   "id": "8cc5c822",
   "metadata": {
    "pycharm": {
     "name": "#%% md\n"
    }
   },
   "source": [
    "pFBA simulations gives the optimal growth rate, while minimizing the total sum of fluxes.\n",
    "pFBA can be used from the flux analysis package `cobra.flux_analysis.pfba(model)`."
   ]
  },
  {
   "cell_type": "code",
   "execution_count": 13,
   "id": "84b81a3d",
   "metadata": {
    "pycharm": {
     "name": "#%%\n"
    },
    "ExecuteTime": {
     "end_time": "2024-06-19T14:22:34.346693900Z",
     "start_time": "2024-06-19T14:22:34.162794900Z"
    }
   },
   "outputs": [
    {
     "data": {
      "text/plain": "<Solution 518.422 at 0x29f38db39c8>",
      "text/html": "<strong><em>Optimal</em> solution with objective value 518.422</strong><br><div>\n<style scoped>\n    .dataframe tbody tr th:only-of-type {\n        vertical-align: middle;\n    }\n\n    .dataframe tbody tr th {\n        vertical-align: top;\n    }\n\n    .dataframe thead th {\n        text-align: right;\n    }\n</style>\n<table border=\"1\" class=\"dataframe\">\n  <thead>\n    <tr style=\"text-align: right;\">\n      <th></th>\n      <th>fluxes</th>\n      <th>reduced_costs</th>\n    </tr>\n  </thead>\n  <tbody>\n    <tr>\n      <th>PFK</th>\n      <td>7.477382</td>\n      <td>-2.000000</td>\n    </tr>\n    <tr>\n      <th>PFL</th>\n      <td>0.000000</td>\n      <td>5.733333</td>\n    </tr>\n    <tr>\n      <th>PGI</th>\n      <td>4.860861</td>\n      <td>-2.000000</td>\n    </tr>\n    <tr>\n      <th>PGK</th>\n      <td>-16.023526</td>\n      <td>2.000000</td>\n    </tr>\n    <tr>\n      <th>PGL</th>\n      <td>4.959985</td>\n      <td>-2.000000</td>\n    </tr>\n    <tr>\n      <th>...</th>\n      <td>...</td>\n      <td>...</td>\n    </tr>\n    <tr>\n      <th>NADH16</th>\n      <td>38.534610</td>\n      <td>-2.000000</td>\n    </tr>\n    <tr>\n      <th>NADTRHD</th>\n      <td>0.000000</td>\n      <td>1.422222</td>\n    </tr>\n    <tr>\n      <th>NH4t</th>\n      <td>4.765319</td>\n      <td>-2.000000</td>\n    </tr>\n    <tr>\n      <th>O2t</th>\n      <td>21.799493</td>\n      <td>-2.000000</td>\n    </tr>\n    <tr>\n      <th>PDH</th>\n      <td>9.282533</td>\n      <td>-2.000000</td>\n    </tr>\n  </tbody>\n</table>\n<p>95 rows × 2 columns</p>\n</div>"
     },
     "execution_count": 13,
     "metadata": {},
     "output_type": "execute_result"
    }
   ],
   "source": [
    "#performing pfba simulation\n",
    "pfba_solution = cobra.flux_analysis.pfba(model)\n",
    "pfba_solution"
   ]
  },
  {
   "cell_type": "markdown",
   "id": "0d1eeb57",
   "metadata": {
    "pycharm": {
     "name": "#%% md\n"
    }
   },
   "source": [
    "The optimal solution of the pFBA is considerably different from the FBA result. This happens because the objective value for the pFBA is defined as the sum of all flux values (`sum(abs(pfba_solution.fluxes.values))`). On the other hand, the FBA result corresponds to the flux value of the reaction that is being optimized (`fba_solution.fluxes[\"BIOMASS_Ecoli_core_w_GAM\"]`)."
   ]
  },
  {
   "cell_type": "code",
   "execution_count": 14,
   "id": "0bdf17aa",
   "metadata": {
    "pycharm": {
     "name": "#%%\n"
    },
    "ExecuteTime": {
     "end_time": "2024-06-19T14:22:34.423662700Z",
     "start_time": "2024-06-19T14:22:34.227629600Z"
    }
   },
   "outputs": [
    {
     "data": {
      "text/plain": "518.4220855176067"
     },
     "execution_count": 14,
     "metadata": {},
     "output_type": "execute_result"
    }
   ],
   "source": [
    "#calculating the objective value of a pFBA solution\n",
    "sum(abs(pfba_solution.fluxes.values))"
   ]
  },
  {
   "cell_type": "markdown",
   "id": "73943a53",
   "metadata": {
    "pycharm": {
     "name": "#%% md\n"
    }
   },
   "source": [
    "### Simulating Deletions"
   ]
  },
  {
   "cell_type": "markdown",
   "id": "cf5f50f1",
   "metadata": {
    "pycharm": {
     "name": "#%% md\n"
    }
   },
   "source": [
    "As previously mentioned, COBRApy can be used to simulate gene or reaction deletions. The function `knock_out()` can be used to knock out a given reaction or gene."
   ]
  },
  {
   "cell_type": "code",
   "execution_count": 15,
   "id": "422c889b",
   "metadata": {
    "pycharm": {
     "name": "#%%\n"
    },
    "ExecuteTime": {
     "end_time": "2024-06-19T14:22:34.474548700Z",
     "start_time": "2024-06-19T14:22:34.252736800Z"
    }
   },
   "outputs": [
    {
     "name": "stdout",
     "output_type": "stream",
     "text": [
      "SUCDi mutant growth rate:  0.8142975075325306\n",
      "SUCDi flux rate:  0.0\n",
      "SUCDi mutant succinate production rate:  -0.0\n"
     ]
    }
   ],
   "source": [
    "#knock out the SUCDi reaction\n",
    "with model:\n",
    "    model.reactions.SUCDi.knock_out()\n",
    "    pfba_solution = cobra.flux_analysis.pfba(model)\n",
    "    print('SUCDi mutant growth rate: ', pfba_solution.fluxes['BIOMASS_Ecoli_core_w_GAM'])\n",
    "    print('SUCDi flux rate: ', pfba_solution.fluxes['SUCDi'])\n",
    "    print('SUCDi mutant succinate production rate: ', pfba_solution.fluxes['EX_succ_e'])"
   ]
  },
  {
   "cell_type": "code",
   "execution_count": 16,
   "id": "510d2f4e",
   "metadata": {
    "pycharm": {
     "name": "#%%\n"
    },
    "ExecuteTime": {
     "end_time": "2024-06-19T14:22:34.705536800Z",
     "start_time": "2024-06-19T14:22:34.300435500Z"
    }
   },
   "outputs": [
    {
     "name": "stdout",
     "output_type": "stream",
     "text": [
      "b1852 mutant growth rate:  0.8638133095040005\n",
      "G6PDH2r flux rate:  0.0\n",
      "b1852 mutant succinate production rate:  0.0\n"
     ]
    }
   ],
   "source": [
    "# knock out the b1852 gene associated with reaction G6PDH2r\n",
    "with model:\n",
    "    model.genes.b1852.knock_out()\n",
    "    pfba_solution = cobra.flux_analysis.pfba(model)\n",
    "    print('b1852 mutant growth rate: ', pfba_solution.fluxes['BIOMASS_Ecoli_core_w_GAM'])\n",
    "    print('G6PDH2r flux rate: ', pfba_solution.fluxes['G6PDH2r'])\n",
    "    print('b1852 mutant succinate production rate: ', pfba_solution.fluxes['EX_succ_e'])"
   ]
  },
  {
   "cell_type": "markdown",
   "id": "28fe2260",
   "metadata": {
    "pycharm": {
     "name": "#%% md\n"
    }
   },
   "source": [
    "Gene-Protein-Reaction (GPR) rules can be used to understand which genes are associated with a given reaction. Besides, one can understand by the GPR rule if the reaction is being catalyzed by a single gene, isoenzyme or protein complex. In COBRApy, one can inspect the GPR rule of a given reaction or which reactions are associated with a given gene."
   ]
  },
  {
   "cell_type": "code",
   "execution_count": 17,
   "id": "179c371c",
   "metadata": {
    "pycharm": {
     "name": "#%%\n"
    },
    "ExecuteTime": {
     "end_time": "2024-06-19T14:22:34.812488Z",
     "start_time": "2024-06-19T14:22:34.348691100Z"
    }
   },
   "outputs": [
    {
     "data": {
      "text/plain": "'b3115 or b2296 or b1849'"
     },
     "execution_count": 17,
     "metadata": {},
     "output_type": "execute_result"
    }
   ],
   "source": [
    "# ACKr GPR rule. This reaction is being catalyzed by an isoenzyme\n",
    "model.reactions.ACKr.gene_reaction_rule"
   ]
  },
  {
   "cell_type": "code",
   "execution_count": 18,
   "id": "394e87c7",
   "metadata": {
    "pycharm": {
     "name": "#%%\n"
    },
    "ExecuteTime": {
     "end_time": "2024-06-19T14:22:34.849582200Z",
     "start_time": "2024-06-19T14:22:34.363782300Z"
    }
   },
   "outputs": [
    {
     "name": "stdout",
     "output_type": "stream",
     "text": [
      "b3115, b2296, b1849 mutant growth rate:  0.8739215069684302\n",
      "ACKr flux rate:  0.0\n",
      "b3115, b2296, b1849 mutant succinate production rate:  0.0\n"
     ]
    }
   ],
   "source": [
    "# knock out the b3115 & b2296 & b1849 genes associated with reaction ACKr\n",
    "with model:\n",
    "    model.genes.b3115.knock_out()\n",
    "    model.genes.b2296.knock_out()\n",
    "    model.genes.b1849.knock_out()\n",
    "    pfba_solution = cobra.flux_analysis.pfba(model)\n",
    "    print('b3115, b2296, b1849 mutant growth rate: ', pfba_solution.fluxes['BIOMASS_Ecoli_core_w_GAM'])\n",
    "    print('ACKr flux rate: ', pfba_solution.fluxes['ACKr'])\n",
    "    print('b3115, b2296, b1849 mutant succinate production rate: ', pfba_solution.fluxes['EX_succ_e'])"
   ]
  },
  {
   "cell_type": "code",
   "execution_count": 19,
   "id": "a606624c",
   "metadata": {
    "pycharm": {
     "name": "#%%\n"
    },
    "scrolled": true,
    "ExecuteTime": {
     "end_time": "2024-06-19T14:22:34.862641400Z",
     "start_time": "2024-06-19T14:22:34.414582400Z"
    }
   },
   "outputs": [
    {
     "name": "stdout",
     "output_type": "stream",
     "text": [
      "WT growth rate:  0.8739215069684301\n",
      "WT succinate production rate:  0.0\n",
      "MUTANT growth rate:  0.574434304340685\n",
      "MUTANT succinate production rate:  5.6347301127390494\n"
     ]
    }
   ],
   "source": [
    "# performing all deletions at once to verify succinate production rate, EX_succ_e\n",
    "with model:\n",
    "    wt_pfba_solution = cobra.flux_analysis.pfba(model)\n",
    "    print('WT growth rate: ', wt_pfba_solution.fluxes['BIOMASS_Ecoli_core_w_GAM'])\n",
    "    print('WT succinate production rate: ', wt_pfba_solution.fluxes['EX_succ_e'])\n",
    "    model.reactions.SUCDi.knock_out()\n",
    "    model.genes.b1852.knock_out()\n",
    "    model.genes.b3115.knock_out()\n",
    "    model.genes.b2296.knock_out()\n",
    "    model.genes.b1849.knock_out()\n",
    "    mutant_pfba_solution = cobra.flux_analysis.pfba(model)\n",
    "    print('MUTANT growth rate: ', mutant_pfba_solution.fluxes['BIOMASS_Ecoli_core_w_GAM'])\n",
    "    print('MUTANT succinate production rate: ', mutant_pfba_solution.fluxes['EX_succ_e'])"
   ]
  },
  {
   "cell_type": "code",
   "execution_count": 20,
   "id": "60189db3",
   "metadata": {
    "pycharm": {
     "name": "#%%\n"
    },
    "scrolled": true,
    "ExecuteTime": {
     "end_time": "2024-06-19T14:22:35.311755700Z",
     "start_time": "2024-06-19T14:22:34.474548700Z"
    }
   },
   "outputs": [
    {
     "name": "stdout",
     "output_type": "stream",
     "text": [
      "Downloading Map from https://escher.github.io/1-0-0/6/maps/Escherichia%20coli/e_coli_core.Core%20metabolism.json\n"
     ]
    },
    {
     "data": {
      "text/plain": "Builder(reaction_data={'PFK': 7.47738196216028, 'PFL': 0.0, 'PGI': 4.8608611464968075, 'PGK': -16.023526143167…",
      "application/vnd.jupyter.widget-view+json": {
       "version_major": 2,
       "version_minor": 0,
       "model_id": "f923e35329e64fd4b6f763aec5efec6d"
      }
     },
     "metadata": {},
     "output_type": "display_data"
    }
   ],
   "source": [
    "# WILD-TYPE flux distribution\n",
    "builder = escher.Builder(map_name='e_coli_core.Core metabolism', model=model, reaction_data=wt_pfba_solution.fluxes)\n",
    "builder"
   ]
  },
  {
   "cell_type": "code",
   "execution_count": 21,
   "id": "074a2715",
   "metadata": {
    "pycharm": {
     "name": "#%%\n"
    },
    "ExecuteTime": {
     "end_time": "2024-06-19T14:22:35.514495600Z",
     "start_time": "2024-06-19T14:22:35.169796100Z"
    }
   },
   "outputs": [
    {
     "name": "stdout",
     "output_type": "stream",
     "text": [
      "Downloading Map from https://escher.github.io/1-0-0/6/maps/Escherichia%20coli/e_coli_core.Core%20metabolism.json\n"
     ]
    },
    {
     "data": {
      "text/plain": "Builder(reaction_data={'PFK': 9.42861019747232, 'PFL': 0.0, 'PGI': 9.88224096761016, 'PGK': -18.47298128877115…",
      "application/vnd.jupyter.widget-view+json": {
       "version_major": 2,
       "version_minor": 0,
       "model_id": "981d03cab89f4869bb916f14fb136672"
      }
     },
     "metadata": {},
     "output_type": "display_data"
    }
   ],
   "source": [
    "# MUTANT flux distribution\n",
    "builder = escher.Builder(map_name='e_coli_core.Core metabolism', model=model, reaction_data=mutant_pfba_solution.fluxes)\n",
    "builder"
   ]
  },
  {
   "cell_type": "markdown",
   "id": "8b16303d",
   "metadata": {
    "pycharm": {
     "name": "#%% md\n"
    }
   },
   "source": [
    "### MOMA and ROOM"
   ]
  },
  {
   "cell_type": "markdown",
   "id": "03b1be47",
   "metadata": {
    "pycharm": {
     "name": "#%% md\n"
    }
   },
   "source": [
    "COBRApy includes phenotype prediction methods that are used predict the flux distribution after a gene knock out. These are the Minimization of Metabolic Adjustment (MOMA), which can be called using `cobra.flux_analysis.moma()`, and Regulatory On/Off Minimization (ROOM), using `cobra.flux_analysis.room()`."
   ]
  },
  {
   "cell_type": "code",
   "execution_count": 22,
   "id": "df528258",
   "metadata": {
    "pycharm": {
     "name": "#%%\n"
    },
    "ExecuteTime": {
     "end_time": "2024-06-19T14:22:36.169676400Z",
     "start_time": "2024-06-19T14:22:35.458703700Z"
    }
   },
   "outputs": [
    {
     "name": "stdout",
     "output_type": "stream",
     "text": [
      "MOMA Result:  <Solution 176.082 at 0x29f38e8e788>\n"
     ]
    }
   ],
   "source": [
    "#using MOMA with COBRApy\n",
    "with model:\n",
    "    pfba_solution = cobra.flux_analysis.pfba(model)\n",
    "    model.reactions.SUCDi.knock_out()\n",
    "    model.genes.b1852.knock_out()\n",
    "    model.genes.b3115.knock_out()\n",
    "    model.genes.b2296.knock_out()\n",
    "    model.genes.b1849.knock_out()\n",
    "    moma_result = cobra.flux_analysis.moma(model, pfba_solution)\n",
    "    print('MOMA Result: ', moma_result)"
   ]
  },
  {
   "cell_type": "code",
   "execution_count": 23,
   "id": "643d47fd",
   "metadata": {
    "pycharm": {
     "name": "#%%\n"
    },
    "ExecuteTime": {
     "end_time": "2024-06-19T14:22:36.371739800Z",
     "start_time": "2024-06-19T14:22:36.129560600Z"
    }
   },
   "outputs": [
    {
     "data": {
      "text/plain": "<cobra.summary.model_summary.ModelSummary at 0x29f38ddfac8>",
      "text/html": "<h3>Objective</h3><p>1.0 BIOMASS_Ecoli_core_w_GAM = 0.3349666826714205</p><h4>Uptake</h4><table border=\"1\" class=\"dataframe\">\n  <thead>\n    <tr style=\"text-align: right;\">\n      <th>Metabolite</th>\n      <th>Reaction</th>\n      <th>Flux</th>\n      <th>C-Number</th>\n      <th>C-Flux</th>\n    </tr>\n  </thead>\n  <tbody>\n    <tr>\n      <td>glc__D_e</td>\n      <td>EX_glc__D_e</td>\n      <td>10</td>\n      <td>6</td>\n      <td>100.00%</td>\n    </tr>\n    <tr>\n      <td>nh4_e</td>\n      <td>EX_nh4_e</td>\n      <td>1.827</td>\n      <td>0</td>\n      <td>0.00%</td>\n    </tr>\n    <tr>\n      <td>o2_e</td>\n      <td>EX_o2_e</td>\n      <td>19.27</td>\n      <td>0</td>\n      <td>0.00%</td>\n    </tr>\n    <tr>\n      <td>pi_e</td>\n      <td>EX_pi_e</td>\n      <td>1.232</td>\n      <td>0</td>\n      <td>0.00%</td>\n    </tr>\n  </tbody>\n</table><h4>Secretion</h4><table border=\"1\" class=\"dataframe\">\n  <thead>\n    <tr style=\"text-align: right;\">\n      <th>Metabolite</th>\n      <th>Reaction</th>\n      <th>Flux</th>\n      <th>C-Number</th>\n      <th>C-Flux</th>\n    </tr>\n  </thead>\n  <tbody>\n    <tr>\n      <td>co2_e</td>\n      <td>EX_co2_e</td>\n      <td>-15.93</td>\n      <td>1</td>\n      <td>34.82%</td>\n    </tr>\n    <tr>\n      <td>h2o_e</td>\n      <td>EX_h2o_e</td>\n      <td>-25.82</td>\n      <td>0</td>\n      <td>0.00%</td>\n    </tr>\n    <tr>\n      <td>h_e</td>\n      <td>EX_h_e</td>\n      <td>-21.63</td>\n      <td>0</td>\n      <td>0.00%</td>\n    </tr>\n    <tr>\n      <td>succ_e</td>\n      <td>EX_succ_e</td>\n      <td>-7.455</td>\n      <td>4</td>\n      <td>65.18%</td>\n    </tr>\n  </tbody>\n</table>"
     },
     "execution_count": 23,
     "metadata": {},
     "output_type": "execute_result"
    }
   ],
   "source": [
    "model.summary(moma_result)"
   ]
  },
  {
   "cell_type": "code",
   "execution_count": 24,
   "id": "06650a37",
   "metadata": {
    "pycharm": {
     "name": "#%%\n"
    },
    "ExecuteTime": {
     "end_time": "2024-06-19T14:22:41.382556800Z",
     "start_time": "2024-06-19T14:22:36.207416500Z"
    }
   },
   "outputs": [
    {
     "name": "stdout",
     "output_type": "stream",
     "text": [
      "ROOM Result:  <Solution 39.000 at 0x29f38fd7108>\n"
     ]
    }
   ],
   "source": [
    "#using ROOM with COBRApy\n",
    "with model:\n",
    "    pfba_solution = cobra.flux_analysis.pfba(model)\n",
    "    model.reactions.SUCDi.knock_out()\n",
    "    model.genes.b1852.knock_out()\n",
    "    model.genes.b3115.knock_out()\n",
    "    model.genes.b2296.knock_out()\n",
    "    model.genes.b1849.knock_out()\n",
    "    room_result = cobra.flux_analysis.room(model, pfba_solution)\n",
    "    print('ROOM Result: ', room_result)"
   ]
  },
  {
   "cell_type": "code",
   "execution_count": 25,
   "id": "a02242e0",
   "metadata": {
    "pycharm": {
     "name": "#%%\n"
    },
    "ExecuteTime": {
     "end_time": "2024-06-19T14:22:41.391770300Z",
     "start_time": "2024-06-19T14:22:39.516537600Z"
    }
   },
   "outputs": [
    {
     "data": {
      "text/plain": "<cobra.summary.model_summary.ModelSummary at 0x29f38f0a848>",
      "text/html": "<h3>Objective</h3><p>1.0 BIOMASS_Ecoli_core_w_GAM = 0.3312055892222283</p><h4>Uptake</h4><table border=\"1\" class=\"dataframe\">\n  <thead>\n    <tr style=\"text-align: right;\">\n      <th>Metabolite</th>\n      <th>Reaction</th>\n      <th>Flux</th>\n      <th>C-Number</th>\n      <th>C-Flux</th>\n    </tr>\n  </thead>\n  <tbody>\n    <tr>\n      <td>glc__D_e</td>\n      <td>EX_glc__D_e</td>\n      <td>8.032</td>\n      <td>6</td>\n      <td>100.00%</td>\n    </tr>\n    <tr>\n      <td>nh4_e</td>\n      <td>EX_nh4_e</td>\n      <td>4.621</td>\n      <td>0</td>\n      <td>0.00%</td>\n    </tr>\n    <tr>\n      <td>o2_e</td>\n      <td>EX_o2_e</td>\n      <td>10.25</td>\n      <td>0</td>\n      <td>0.00%</td>\n    </tr>\n    <tr>\n      <td>pi_e</td>\n      <td>EX_pi_e</td>\n      <td>1.218</td>\n      <td>0</td>\n      <td>0.00%</td>\n    </tr>\n  </tbody>\n</table><h4>Secretion</h4><table border=\"1\" class=\"dataframe\">\n  <thead>\n    <tr style=\"text-align: right;\">\n      <th>Metabolite</th>\n      <th>Reaction</th>\n      <th>Flux</th>\n      <th>C-Number</th>\n      <th>C-Flux</th>\n    </tr>\n  </thead>\n  <tbody>\n    <tr>\n      <td>akg_e</td>\n      <td>EX_akg_e</td>\n      <td>-2.7</td>\n      <td>5</td>\n      <td>39.59%</td>\n    </tr>\n    <tr>\n      <td>co2_e</td>\n      <td>EX_co2_e</td>\n      <td>-6.522</td>\n      <td>1</td>\n      <td>19.13%</td>\n    </tr>\n    <tr>\n      <td>glu__L_e</td>\n      <td>EX_glu__L_e</td>\n      <td>-2.815</td>\n      <td>5</td>\n      <td>41.28%</td>\n    </tr>\n    <tr>\n      <td>h2o_e</td>\n      <td>EX_h2o_e</td>\n      <td>-19.97</td>\n      <td>0</td>\n      <td>0.00%</td>\n    </tr>\n    <tr>\n      <td>h_e</td>\n      <td>EX_h_e</td>\n      <td>-17.67</td>\n      <td>0</td>\n      <td>0.00%</td>\n    </tr>\n  </tbody>\n</table>"
     },
     "execution_count": 25,
     "metadata": {},
     "output_type": "execute_result"
    }
   ],
   "source": [
    "model.summary(room_result)"
   ]
  },
  {
   "cell_type": "markdown",
   "id": "3071e542",
   "metadata": {
    "pycharm": {
     "name": "#%% md\n"
    }
   },
   "source": [
    "### Single Deletions"
   ]
  },
  {
   "cell_type": "markdown",
   "id": "31f3527c",
   "metadata": {
    "pycharm": {
     "name": "#%% md\n"
    }
   },
   "source": [
    "Single gene and reaction deletions can also be simulated with the flux analysis package of COBRApy. To do so, one can use the `cobra.flux_analysis.single_gene_deletion()` and `cobra.flux_analysis.single_reaction_deletion()` methods."
   ]
  },
  {
   "cell_type": "code",
   "execution_count": 26,
   "id": "70d5ced5",
   "metadata": {
    "pycharm": {
     "name": "#%%\n"
    },
    "ExecuteTime": {
     "end_time": "2024-06-19T14:22:51.156693300Z",
     "start_time": "2024-06-19T14:22:39.561671800Z"
    }
   },
   "outputs": [
    {
     "data": {
      "text/plain": "           ids    growth   status\n0       {GLNS}  0.000000  optimal\n1        {PYK}  0.864926  optimal\n2        {PFK}  0.704037  optimal\n3   {EX_for_e}  0.873922  optimal\n4       {FORt}  0.873922  optimal\n..         ...       ...      ...\n90      {NH4t}  0.000000  optimal\n91   {EX_ac_e}  0.873922  optimal\n92      {TKT2}  0.866674  optimal\n93       {O2t}  0.211663  optimal\n94  {EX_akg_e}  0.873922  optimal\n\n[95 rows x 3 columns]",
      "text/html": "<div>\n<style scoped>\n    .dataframe tbody tr th:only-of-type {\n        vertical-align: middle;\n    }\n\n    .dataframe tbody tr th {\n        vertical-align: top;\n    }\n\n    .dataframe thead th {\n        text-align: right;\n    }\n</style>\n<table border=\"1\" class=\"dataframe\">\n  <thead>\n    <tr style=\"text-align: right;\">\n      <th></th>\n      <th>ids</th>\n      <th>growth</th>\n      <th>status</th>\n    </tr>\n  </thead>\n  <tbody>\n    <tr>\n      <th>0</th>\n      <td>{GLNS}</td>\n      <td>0.000000</td>\n      <td>optimal</td>\n    </tr>\n    <tr>\n      <th>1</th>\n      <td>{PYK}</td>\n      <td>0.864926</td>\n      <td>optimal</td>\n    </tr>\n    <tr>\n      <th>2</th>\n      <td>{PFK}</td>\n      <td>0.704037</td>\n      <td>optimal</td>\n    </tr>\n    <tr>\n      <th>3</th>\n      <td>{EX_for_e}</td>\n      <td>0.873922</td>\n      <td>optimal</td>\n    </tr>\n    <tr>\n      <th>4</th>\n      <td>{FORt}</td>\n      <td>0.873922</td>\n      <td>optimal</td>\n    </tr>\n    <tr>\n      <th>...</th>\n      <td>...</td>\n      <td>...</td>\n      <td>...</td>\n    </tr>\n    <tr>\n      <th>90</th>\n      <td>{NH4t}</td>\n      <td>0.000000</td>\n      <td>optimal</td>\n    </tr>\n    <tr>\n      <th>91</th>\n      <td>{EX_ac_e}</td>\n      <td>0.873922</td>\n      <td>optimal</td>\n    </tr>\n    <tr>\n      <th>92</th>\n      <td>{TKT2}</td>\n      <td>0.866674</td>\n      <td>optimal</td>\n    </tr>\n    <tr>\n      <th>93</th>\n      <td>{O2t}</td>\n      <td>0.211663</td>\n      <td>optimal</td>\n    </tr>\n    <tr>\n      <th>94</th>\n      <td>{EX_akg_e}</td>\n      <td>0.873922</td>\n      <td>optimal</td>\n    </tr>\n  </tbody>\n</table>\n<p>95 rows × 3 columns</p>\n</div>"
     },
     "execution_count": 26,
     "metadata": {},
     "output_type": "execute_result"
    }
   ],
   "source": [
    "#single reaction deletion\n",
    "reaction_deletion_results = cobra.flux_analysis.single_reaction_deletion(model)\n",
    "reaction_deletion_results"
   ]
  },
  {
   "cell_type": "code",
   "execution_count": 27,
   "id": "646cd58a",
   "metadata": {
    "pycharm": {
     "name": "#%%\n"
    },
    "ExecuteTime": {
     "end_time": "2024-06-19T14:23:15.893963700Z",
     "start_time": "2024-06-19T14:22:51.137639900Z"
    }
   },
   "outputs": [
    {
     "data": {
      "text/plain": "         ids    growth   status\n0    {b4122}  0.873922  optimal\n1    {b3115}  0.873922  optimal\n2    {b3952}  0.873922  optimal\n3    {b1854}  0.873922  optimal\n4    {b2277}  0.211663  optimal\n..       ...       ...      ...\n132  {b2282}  0.211663  optimal\n133  {b2976}  0.873922  optimal\n134  {b0724}  0.814298  optimal\n135  {b1676}  0.873922  optimal\n136  {b3733}  0.374230  optimal\n\n[137 rows x 3 columns]",
      "text/html": "<div>\n<style scoped>\n    .dataframe tbody tr th:only-of-type {\n        vertical-align: middle;\n    }\n\n    .dataframe tbody tr th {\n        vertical-align: top;\n    }\n\n    .dataframe thead th {\n        text-align: right;\n    }\n</style>\n<table border=\"1\" class=\"dataframe\">\n  <thead>\n    <tr style=\"text-align: right;\">\n      <th></th>\n      <th>ids</th>\n      <th>growth</th>\n      <th>status</th>\n    </tr>\n  </thead>\n  <tbody>\n    <tr>\n      <th>0</th>\n      <td>{b4122}</td>\n      <td>0.873922</td>\n      <td>optimal</td>\n    </tr>\n    <tr>\n      <th>1</th>\n      <td>{b3115}</td>\n      <td>0.873922</td>\n      <td>optimal</td>\n    </tr>\n    <tr>\n      <th>2</th>\n      <td>{b3952}</td>\n      <td>0.873922</td>\n      <td>optimal</td>\n    </tr>\n    <tr>\n      <th>3</th>\n      <td>{b1854}</td>\n      <td>0.873922</td>\n      <td>optimal</td>\n    </tr>\n    <tr>\n      <th>4</th>\n      <td>{b2277}</td>\n      <td>0.211663</td>\n      <td>optimal</td>\n    </tr>\n    <tr>\n      <th>...</th>\n      <td>...</td>\n      <td>...</td>\n      <td>...</td>\n    </tr>\n    <tr>\n      <th>132</th>\n      <td>{b2282}</td>\n      <td>0.211663</td>\n      <td>optimal</td>\n    </tr>\n    <tr>\n      <th>133</th>\n      <td>{b2976}</td>\n      <td>0.873922</td>\n      <td>optimal</td>\n    </tr>\n    <tr>\n      <th>134</th>\n      <td>{b0724}</td>\n      <td>0.814298</td>\n      <td>optimal</td>\n    </tr>\n    <tr>\n      <th>135</th>\n      <td>{b1676}</td>\n      <td>0.873922</td>\n      <td>optimal</td>\n    </tr>\n    <tr>\n      <th>136</th>\n      <td>{b3733}</td>\n      <td>0.374230</td>\n      <td>optimal</td>\n    </tr>\n  </tbody>\n</table>\n<p>137 rows × 3 columns</p>\n</div>"
     },
     "execution_count": 27,
     "metadata": {},
     "output_type": "execute_result"
    }
   ],
   "source": [
    "#single gene deletion\n",
    "gene_deletion_results = cobra.flux_analysis.single_gene_deletion(model)\n",
    "gene_deletion_results"
   ]
  },
  {
   "cell_type": "markdown",
   "id": "17e8d095",
   "metadata": {
    "pycharm": {
     "name": "#%% md\n"
    }
   },
   "source": [
    "It is worth noting that genes and reactions with a growth rate equal to zero can be considered as essential genes or essential reactions, respectively."
   ]
  },
  {
   "cell_type": "markdown",
   "id": "ac1b24aa",
   "metadata": {
    "pycharm": {
     "name": "#%% md\n"
    }
   },
   "source": [
    "### Double Deletions"
   ]
  },
  {
   "cell_type": "markdown",
   "id": "49b919e2",
   "metadata": {
    "pycharm": {
     "name": "#%% md\n"
    }
   },
   "source": [
    "Double gene and reaction deletions can also be simulated with the flux analysis package of COBRApy. To do so, one can use the `cobra.flux_analysis.double_gene_deletion()` and `cobra.flux_analysis.double_reaction_deletion()` methods. These methods perform all possible combinations."
   ]
  },
  {
   "cell_type": "code",
   "execution_count": 28,
   "id": "b628ec67",
   "metadata": {
    "pycharm": {
     "name": "#%%\n"
    },
    "ExecuteTime": {
     "end_time": "2024-06-19T14:23:27.290975200Z",
     "start_time": "2024-06-19T14:23:15.878889600Z"
    }
   },
   "outputs": [
    {
     "data": {
      "text/plain": "                                   ids    growth      status\n0                     {CYTBD, NADTRHD}  0.211663     optimal\n1                         {FRD7, TKT1}  0.864759     optimal\n2                   {EX_h_e, EX_co2_e}       NaN  infeasible\n3                          {FUM, ATPM}  0.866208     optimal\n4     {GAPD, BIOMASS_Ecoli_core_w_GAM}  0.000000     optimal\n...                                ...       ...         ...\n4555                   {EX_fru_e, PGM}  0.000000     optimal\n4556                        {MDH, PPC}  0.000000     optimal\n4557                 {ACONTb, NADTRHD}  0.000000     optimal\n4558                    {SUCOAS, ATPM}  0.907093     optimal\n4559                   {PGM, SUCCt2_2}  0.000000     optimal\n\n[4560 rows x 3 columns]",
      "text/html": "<div>\n<style scoped>\n    .dataframe tbody tr th:only-of-type {\n        vertical-align: middle;\n    }\n\n    .dataframe tbody tr th {\n        vertical-align: top;\n    }\n\n    .dataframe thead th {\n        text-align: right;\n    }\n</style>\n<table border=\"1\" class=\"dataframe\">\n  <thead>\n    <tr style=\"text-align: right;\">\n      <th></th>\n      <th>ids</th>\n      <th>growth</th>\n      <th>status</th>\n    </tr>\n  </thead>\n  <tbody>\n    <tr>\n      <th>0</th>\n      <td>{CYTBD, NADTRHD}</td>\n      <td>0.211663</td>\n      <td>optimal</td>\n    </tr>\n    <tr>\n      <th>1</th>\n      <td>{FRD7, TKT1}</td>\n      <td>0.864759</td>\n      <td>optimal</td>\n    </tr>\n    <tr>\n      <th>2</th>\n      <td>{EX_h_e, EX_co2_e}</td>\n      <td>NaN</td>\n      <td>infeasible</td>\n    </tr>\n    <tr>\n      <th>3</th>\n      <td>{FUM, ATPM}</td>\n      <td>0.866208</td>\n      <td>optimal</td>\n    </tr>\n    <tr>\n      <th>4</th>\n      <td>{GAPD, BIOMASS_Ecoli_core_w_GAM}</td>\n      <td>0.000000</td>\n      <td>optimal</td>\n    </tr>\n    <tr>\n      <th>...</th>\n      <td>...</td>\n      <td>...</td>\n      <td>...</td>\n    </tr>\n    <tr>\n      <th>4555</th>\n      <td>{EX_fru_e, PGM}</td>\n      <td>0.000000</td>\n      <td>optimal</td>\n    </tr>\n    <tr>\n      <th>4556</th>\n      <td>{MDH, PPC}</td>\n      <td>0.000000</td>\n      <td>optimal</td>\n    </tr>\n    <tr>\n      <th>4557</th>\n      <td>{ACONTb, NADTRHD}</td>\n      <td>0.000000</td>\n      <td>optimal</td>\n    </tr>\n    <tr>\n      <th>4558</th>\n      <td>{SUCOAS, ATPM}</td>\n      <td>0.907093</td>\n      <td>optimal</td>\n    </tr>\n    <tr>\n      <th>4559</th>\n      <td>{PGM, SUCCt2_2}</td>\n      <td>0.000000</td>\n      <td>optimal</td>\n    </tr>\n  </tbody>\n</table>\n<p>4560 rows × 3 columns</p>\n</div>"
     },
     "execution_count": 28,
     "metadata": {},
     "output_type": "execute_result"
    }
   ],
   "source": [
    "#double reaction deletion\n",
    "double_reaction_deletion_results = cobra.flux_analysis.double_reaction_deletion(model)\n",
    "double_reaction_deletion_results"
   ]
  },
  {
   "cell_type": "code",
   "execution_count": 29,
   "id": "01521135",
   "metadata": {
    "pycharm": {
     "name": "#%%\n"
    },
    "scrolled": true,
    "ExecuteTime": {
     "end_time": "2024-06-19T14:23:50.110224400Z",
     "start_time": "2024-06-19T14:23:27.294508300Z"
    }
   },
   "outputs": [
    {
     "data": {
      "text/plain": "                 ids    growth   status\n0     {b4395, b1479}  0.873922  optimal\n1     {b3736, b1818}  0.374230  optimal\n2     {b0810, b2029}  0.863813  optimal\n3     {b2284, b2465}  0.211663  optimal\n4     {b3870, b0728}  0.858307  optimal\n...              ...       ...      ...\n9448  {b2133, b0875}  0.873922  optimal\n9449  {b2133, b4014}  0.873922  optimal\n9450  {b0902, b3603}  0.873922  optimal\n9451  {b4015, b3951}  0.873922  optimal\n9452  {b1602, b3962}  0.873922  optimal\n\n[9453 rows x 3 columns]",
      "text/html": "<div>\n<style scoped>\n    .dataframe tbody tr th:only-of-type {\n        vertical-align: middle;\n    }\n\n    .dataframe tbody tr th {\n        vertical-align: top;\n    }\n\n    .dataframe thead th {\n        text-align: right;\n    }\n</style>\n<table border=\"1\" class=\"dataframe\">\n  <thead>\n    <tr style=\"text-align: right;\">\n      <th></th>\n      <th>ids</th>\n      <th>growth</th>\n      <th>status</th>\n    </tr>\n  </thead>\n  <tbody>\n    <tr>\n      <th>0</th>\n      <td>{b4395, b1479}</td>\n      <td>0.873922</td>\n      <td>optimal</td>\n    </tr>\n    <tr>\n      <th>1</th>\n      <td>{b3736, b1818}</td>\n      <td>0.374230</td>\n      <td>optimal</td>\n    </tr>\n    <tr>\n      <th>2</th>\n      <td>{b0810, b2029}</td>\n      <td>0.863813</td>\n      <td>optimal</td>\n    </tr>\n    <tr>\n      <th>3</th>\n      <td>{b2284, b2465}</td>\n      <td>0.211663</td>\n      <td>optimal</td>\n    </tr>\n    <tr>\n      <th>4</th>\n      <td>{b3870, b0728}</td>\n      <td>0.858307</td>\n      <td>optimal</td>\n    </tr>\n    <tr>\n      <th>...</th>\n      <td>...</td>\n      <td>...</td>\n      <td>...</td>\n    </tr>\n    <tr>\n      <th>9448</th>\n      <td>{b2133, b0875}</td>\n      <td>0.873922</td>\n      <td>optimal</td>\n    </tr>\n    <tr>\n      <th>9449</th>\n      <td>{b2133, b4014}</td>\n      <td>0.873922</td>\n      <td>optimal</td>\n    </tr>\n    <tr>\n      <th>9450</th>\n      <td>{b0902, b3603}</td>\n      <td>0.873922</td>\n      <td>optimal</td>\n    </tr>\n    <tr>\n      <th>9451</th>\n      <td>{b4015, b3951}</td>\n      <td>0.873922</td>\n      <td>optimal</td>\n    </tr>\n    <tr>\n      <th>9452</th>\n      <td>{b1602, b3962}</td>\n      <td>0.873922</td>\n      <td>optimal</td>\n    </tr>\n  </tbody>\n</table>\n<p>9453 rows × 3 columns</p>\n</div>"
     },
     "execution_count": 29,
     "metadata": {},
     "output_type": "execute_result"
    }
   ],
   "source": [
    "#double gene deletion\n",
    "double_gene_deletion_results = cobra.flux_analysis.double_gene_deletion(model)\n",
    "double_gene_deletion_results"
   ]
  }
 ],
 "metadata": {
  "kernelspec": {
   "display_name": "Python 3 (ipykernel)",
   "language": "python",
   "name": "python3"
  },
  "language_info": {
   "codemirror_mode": {
    "name": "ipython",
    "version": 3
   },
   "file_extension": ".py",
   "mimetype": "text/x-python",
   "name": "python",
   "nbconvert_exporter": "python",
   "pygments_lexer": "ipython3",
   "version": "3.7.16"
  }
 },
 "nbformat": 4,
 "nbformat_minor": 5
}
