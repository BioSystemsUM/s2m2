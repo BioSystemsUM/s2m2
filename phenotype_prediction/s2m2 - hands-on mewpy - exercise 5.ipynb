{
 "cells": [
  {
   "cell_type": "markdown",
   "metadata": {},
   "source": [
    "# MEWpy Simulation \n",
    "\n",
    "Author: Vitor Pereira\n",
    "\n",
    "License: [CC BY-SA 4.0](http://creativecommons.org/licenses/by-sa/4.0/)\n",
    "\n",
    "-------\n",
    "This notebook exemplifies how MEWpy may be used for phenotype simulation."
   ]
  },
  {
   "cell_type": "markdown",
   "metadata": {},
   "source": [
    "Models can be loaded using MEW, REFRAMED, or COBRApy. \n",
    "\n",
    "Load a model using REFRAMED: "
   ]
  },
  {
   "cell_type": "code",
   "execution_count": null,
   "metadata": {},
   "source": [
    "! pip install -U -q mewpy"
   ],
   "outputs": []
  },
  {
   "cell_type": "code",
   "metadata": {
    "ExecuteTime": {
     "end_time": "2024-07-01T15:40:37.632345Z",
     "start_time": "2024-07-01T15:40:33.931152Z"
    }
   },
   "source": [
    "import mewpy\n",
    "mewpy.info()"
   ],
   "execution_count": 1,
   "outputs": []
  },
  {
   "cell_type": "markdown",
   "metadata": {},
   "source": [
    "IMPORTANT: The notebooks require a MEWpy version >= 0.1.16"
   ]
  },
  {
   "cell_type": "code",
   "metadata": {
    "ExecuteTime": {
     "end_time": "2024-07-01T15:40:37.959074Z",
     "start_time": "2024-07-01T15:40:37.635856Z"
    }
   },
   "source": [
    "from reframed.io.sbml import load_cbmodel\n",
    "model = load_cbmodel('../data/e_coli_core.xml.gz')"
   ],
   "execution_count": 2,
   "outputs": []
  },
  {
   "cell_type": "markdown",
   "metadata": {},
   "source": [
    "or using COBRApy:"
   ]
  },
  {
   "cell_type": "code",
   "metadata": {
    "ExecuteTime": {
     "end_time": "2024-07-01T15:40:38.350131Z",
     "start_time": "2024-07-01T15:40:37.962865Z"
    }
   },
   "source": [
    "from cobra.io import read_sbml_model\n",
    "model = read_sbml_model('../data/e_coli_core.xml.gz')"
   ],
   "execution_count": 3,
   "outputs": []
  },
  {
   "cell_type": "markdown",
   "metadata": {},
   "source": [
    "A simulator object provides a common interface to realize the main phenotype analysis tasks. The *get_simulator* function returns a simulator, a wrapper,  for the provided model. The simulator interface remains the same regardless of how the model was loaded, using REFRAMED or COBRApy. This simplify the use of both environments and ease the management of future changes and deprecation on their APIs.\n"
   ]
  },
  {
   "cell_type": "code",
   "metadata": {
    "ExecuteTime": {
     "end_time": "2024-07-01T15:40:38.413644Z",
     "start_time": "2024-07-01T15:40:38.352128Z"
    }
   },
   "source": [
    "from mewpy.simulation import get_simulator\n",
    "simul = get_simulator(model)"
   ],
   "execution_count": 4,
   "outputs": []
  },
  {
   "cell_type": "markdown",
   "metadata": {},
   "source": [
    "The simulator offers a wide API, and enable to perform basic tasks, such as, list  metabolites, reactions, genes, compartments, uptake reactions, and transport reactions:"
   ]
  },
  {
   "cell_type": "code",
   "metadata": {
    "ExecuteTime": {
     "end_time": "2024-07-01T15:40:38.429123Z",
     "start_time": "2024-07-01T15:40:38.416652Z"
    }
   },
   "source": [
    "# first 10 metabolites\n",
    "simul.metabolites[:10]"
   ],
   "execution_count": 5,
   "outputs": []
  },
  {
   "cell_type": "code",
   "metadata": {
    "ExecuteTime": {
     "end_time": "2024-07-01T15:40:38.444655Z",
     "start_time": "2024-07-01T15:40:38.431104Z"
    }
   },
   "source": [
    "# first 10 metabolites\n",
    "simul.reactions[:10]"
   ],
   "execution_count": 6,
   "outputs": []
  },
  {
   "cell_type": "code",
   "metadata": {
    "ExecuteTime": {
     "end_time": "2024-07-01T15:40:38.460187Z",
     "start_time": "2024-07-01T15:40:38.447695Z"
    }
   },
   "source": [
    "# first 10 genes\n",
    "simul.genes[:10]"
   ],
   "execution_count": 7,
   "outputs": []
  },
  {
   "cell_type": "code",
   "metadata": {
    "ExecuteTime": {
     "end_time": "2024-07-01T15:40:38.475678Z",
     "start_time": "2024-07-01T15:40:38.461160Z"
    }
   },
   "source": [
    "simul.compartments"
   ],
   "execution_count": 8,
   "outputs": []
  },
  {
   "cell_type": "markdown",
   "metadata": {},
   "source": [
    "For a more compreensive look at the list of reactions, you may use the `find` function, without any parameters (list all reactions), or by adding a _filter_:"
   ]
  },
  {
   "cell_type": "code",
   "metadata": {
    "ExecuteTime": {
     "end_time": "2024-07-01T15:40:38.522090Z",
     "start_time": "2024-07-01T15:40:38.478229Z"
    }
   },
   "source": [
    "simul.find()"
   ],
   "execution_count": 9,
   "outputs": []
  },
  {
   "cell_type": "code",
   "metadata": {
    "ExecuteTime": {
     "end_time": "2024-07-01T15:40:38.584057Z",
     "start_time": "2024-07-01T15:40:38.524095Z"
    }
   },
   "source": [
    "simul.find(['EX_','BIO'])"
   ],
   "execution_count": 10,
   "outputs": []
  },
  {
   "cell_type": "code",
   "metadata": {
    "ExecuteTime": {
     "end_time": "2024-07-01T15:40:38.599977Z",
     "start_time": "2024-07-01T15:40:38.587003Z"
    }
   },
   "source": [
    "# metabolites\n",
    "simul.find_metabolites()"
   ],
   "execution_count": 11,
   "outputs": []
  },
  {
   "cell_type": "code",
   "metadata": {
    "ExecuteTime": {
     "end_time": "2024-07-01T15:40:38.616086Z",
     "start_time": "2024-07-01T15:40:38.601978Z"
    }
   },
   "source": [
    "# metabolites\n",
    "simul.find_genes()"
   ],
   "execution_count": 12,
   "outputs": []
  },
  {
   "cell_type": "markdown",
   "metadata": {},
   "source": [
    "Listing the uptake reactions:"
   ]
  },
  {
   "cell_type": "code",
   "metadata": {
    "ExecuteTime": {
     "end_time": "2024-07-01T15:40:38.631669Z",
     "start_time": "2024-07-01T15:40:38.618108Z"
    }
   },
   "source": [
    "simul.get_uptake_reactions()"
   ],
   "execution_count": 13,
   "outputs": []
  },
  {
   "cell_type": "code",
   "metadata": {
    "ExecuteTime": {
     "end_time": "2024-07-01T15:40:38.676973Z",
     "start_time": "2024-07-01T15:40:38.637731Z"
    }
   },
   "source": [
    "# for a more compreensive listage\n",
    "simul.find(simul.get_uptake_reactions())"
   ],
   "execution_count": 14,
   "outputs": []
  },
  {
   "cell_type": "markdown",
   "metadata": {},
   "source": [
    "A simulator may also be loaded considering environmental conditions, that will be considered during phenotype simulations. In the next example, glucose consumption is limited to 10 mmol/gDW/h in anaerobical conditions."
   ]
  },
  {
   "cell_type": "code",
   "metadata": {
    "ExecuteTime": {
     "end_time": "2024-07-01T15:40:38.692220Z",
     "start_time": "2024-07-01T15:40:38.679907Z"
    }
   },
   "source": [
    "envcond = {'EX_glc__D_e': (-10.0, 100000.0),\n",
    "           'EX_o2_e':(0,0)}\n",
    "\n",
    "simul = get_simulator(model,envcond=envcond)"
   ],
   "execution_count": 15,
   "outputs": []
  },
  {
   "cell_type": "markdown",
   "metadata": {},
   "source": [
    "All phenotype simulations will consider the imposed environmental conditions, and as such they only need to be set once. Also, these conditions do not persistently alter the model, which can be reused with a different simulator instance."
   ]
  },
  {
   "cell_type": "markdown",
   "metadata": {},
   "source": [
    "## Phenotype simulation\n",
    "\n",
    "Phenotype simulations are also run using the simulator instance using  the `simulate` method. "
   ]
  },
  {
   "cell_type": "code",
   "metadata": {
    "ExecuteTime": {
     "end_time": "2024-07-01T15:40:38.723152Z",
     "start_time": "2024-07-01T15:40:38.694217Z"
    }
   },
   "source": [
    "# FBA \n",
    "result = simul.simulate()\n",
    "# or \n",
    "result = simul.simulate(method='FBA')\n",
    "\n",
    "result"
   ],
   "execution_count": 16,
   "outputs": []
  },
  {
   "cell_type": "markdown",
   "metadata": {},
   "source": [
    "Flux Balance Analysis (FBA) can be run without identifying any method, or  by passing the 'FBA' as method parameter. Other phenotype simulation methods may also be run using one of the identifiers:\n",
    "\n",
    "- Flux Balance Analysis: `method = 'FBA'`\n",
    "- Parsimonious FBA:`method = 'pFBA'`\n",
    "- Minimization of Metabolic Adjustment:`method = 'MOMA'`\n",
    "- Linear MOMA: `method = 'lMOMA'`\n",
    "- Regulatory on/off minimization of metabolic flux: `method = 'ROOM'`"
   ]
  },
  {
   "cell_type": "code",
   "metadata": {
    "ExecuteTime": {
     "end_time": "2024-07-01T15:40:38.884709Z",
     "start_time": "2024-07-01T15:40:38.725154Z"
    }
   },
   "source": [
    "# pFBA\n",
    "result = simul.simulate(method = 'pFBA')\n",
    "result"
   ],
   "execution_count": 17,
   "outputs": []
  },
  {
   "cell_type": "markdown",
   "metadata": {},
   "source": [
    "## Reaction fluxes\n",
    "\n",
    "The phenotype simulation result object, besides containing the objective value and solver status, also include reaction fluxes in the form of a dictionary:\n"
   ]
  },
  {
   "cell_type": "code",
   "metadata": {
    "ExecuteTime": {
     "end_time": "2024-07-01T15:40:38.911836Z",
     "start_time": "2024-07-01T15:40:38.891749Z"
    }
   },
   "source": [
    "result.fluxes"
   ],
   "execution_count": 18,
   "outputs": []
  },
  {
   "cell_type": "markdown",
   "metadata": {},
   "source": [
    "or as a dataframe:"
   ]
  },
  {
   "cell_type": "code",
   "metadata": {
    "ExecuteTime": {
     "end_time": "2024-07-01T15:40:38.942472Z",
     "start_time": "2024-07-01T15:40:38.916855Z"
    }
   },
   "source": [
    "result.find()"
   ],
   "execution_count": 19,
   "outputs": []
  },
  {
   "cell_type": "markdown",
   "metadata": {},
   "source": [
    "Individual reaction flux values can be obtained from the dictionary representation. For example, the *triose-phosphate isomerase* (TPI) reaction flux can be obtained from the previous pFBA simulation using the reaction identifier:"
   ]
  },
  {
   "cell_type": "code",
   "metadata": {
    "ExecuteTime": {
     "end_time": "2024-07-01T15:40:38.958555Z",
     "start_time": "2024-07-01T15:40:38.944469Z"
    }
   },
   "source": [
    "result.fluxes['TPI']"
   ],
   "execution_count": 20,
   "outputs": []
  },
  {
   "cell_type": "code",
   "metadata": {
    "ExecuteTime": {
     "end_time": "2024-07-01T15:40:38.988323Z",
     "start_time": "2024-07-01T15:40:38.961554Z"
    }
   },
   "source": [
    "result.find(['TPI','BIO'])"
   ],
   "execution_count": 21,
   "outputs": []
  },
  {
   "cell_type": "markdown",
   "metadata": {},
   "source": [
    "To retrieve the net conversion equation invoke the `get_net_conversion` method. Exchange reactions with no flux are not presented."
   ]
  },
  {
   "cell_type": "code",
   "metadata": {
    "ExecuteTime": {
     "end_time": "2024-07-01T15:40:39.018826Z",
     "start_time": "2024-07-01T15:40:38.991720Z"
    }
   },
   "source": [
    "result.get_net_conversion()"
   ],
   "execution_count": 22,
   "outputs": []
  },
  {
   "cell_type": "markdown",
   "metadata": {},
   "source": [
    "\n",
    "\n",
    "\n",
    "## Retrieving and setting the model objective\n",
    "\n",
    "The simulation objective, when running FBA or pFBA phenotype simulations, is, by default, the model objective which can be seen using the simulator."
   ]
  },
  {
   "cell_type": "code",
   "metadata": {
    "ExecuteTime": {
     "end_time": "2024-07-01T15:40:39.034376Z",
     "start_time": "2024-07-01T15:40:39.021350Z"
    }
   },
   "source": [
    "simul.objective"
   ],
   "execution_count": 23,
   "outputs": []
  },
  {
   "cell_type": "markdown",
   "metadata": {},
   "source": [
    "The simulator may also be used to change the model objective, for example, to optimize the ATP maintenance requirement (ATPM):"
   ]
  },
  {
   "cell_type": "code",
   "metadata": {
    "ExecuteTime": {
     "end_time": "2024-07-01T15:40:39.050442Z",
     "start_time": "2024-07-01T15:40:39.037401Z"
    }
   },
   "source": [
    "simul.objective = 'ATPM'"
   ],
   "execution_count": 24,
   "outputs": []
  },
  {
   "cell_type": "code",
   "metadata": {
    "ExecuteTime": {
     "end_time": "2024-07-01T15:40:39.065991Z",
     "start_time": "2024-07-01T15:40:39.053443Z"
    }
   },
   "source": [
    "simul.objective"
   ],
   "execution_count": 25,
   "outputs": []
  },
  {
   "cell_type": "code",
   "metadata": {
    "ExecuteTime": {
     "end_time": "2024-07-01T15:40:39.081555Z",
     "start_time": "2024-07-01T15:40:39.068519Z"
    }
   },
   "source": [
    "simul.objective='BIOMASS_Ecoli_core_w_GAM'"
   ],
   "execution_count": 26,
   "outputs": []
  },
  {
   "cell_type": "markdown",
   "metadata": {},
   "source": [
    "## Adding additional constraints to phenotype simulations\n",
    "\n",
    "Simulations may include additional metabolic constraints on reaction fluxes. From the previous pFBA simulation one can observe that the organism does not produce succinate:"
   ]
  },
  {
   "cell_type": "code",
   "metadata": {
    "ExecuteTime": {
     "end_time": "2024-07-01T15:40:39.098134Z",
     "start_time": "2024-07-01T15:40:39.084560Z"
    }
   },
   "source": [
    "result.fluxes['EX_succ_e']"
   ],
   "execution_count": 27,
   "outputs": []
  },
  {
   "cell_type": "markdown",
   "metadata": {},
   "source": [
    "Additional constraints may be added to the model so that the organism start to produce this aromatic amino acid. We may alter, for example, the *phosphogluconate dehydrogenase* reaction bounds, among others, starting by verifying its initial bounds:"
   ]
  },
  {
   "cell_type": "code",
   "metadata": {
    "ExecuteTime": {
     "end_time": "2024-07-01T15:40:39.113714Z",
     "start_time": "2024-07-01T15:40:39.102651Z"
    }
   },
   "source": [
    "simul.get_reaction_bounds('GND')"
   ],
   "execution_count": 28,
   "outputs": []
  },
  {
   "cell_type": "code",
   "metadata": {
    "ExecuteTime": {
     "end_time": "2024-07-01T15:40:39.161578Z",
     "start_time": "2024-07-01T15:40:39.118007Z"
    }
   },
   "source": [
    "constraints = {'GND': 0, # deletion\n",
    "               'PYK': 0, # deletion\n",
    "               'ME2': 0, # deletion\n",
    "              }\n",
    "\n",
    "# run a pFBA simulation accounting with the new constraint\n",
    "result = simul.simulate(method='pFBA',constraints=constraints)\n",
    "\n",
    "result.fluxes['EX_succ_e']"
   ],
   "execution_count": 29,
   "outputs": []
  },
  {
   "cell_type": "markdown",
   "metadata": {},
   "source": [
    "Note that the modifications are not persistently applied to the model, they only exist during the simulation.\n",
    "\n",
    "We also need to verify that the organism continues to grow:"
   ]
  },
  {
   "cell_type": "code",
   "metadata": {
    "ExecuteTime": {
     "end_time": "2024-07-01T15:40:39.176754Z",
     "start_time": "2024-07-01T15:40:39.166643Z"
    }
   },
   "source": [
    "result.fluxes['BIOMASS_Ecoli_core_w_GAM']"
   ],
   "execution_count": 30,
   "outputs": []
  },
  {
   "cell_type": "markdown",
   "metadata": {},
   "source": [
    "We can also plot the production envelope:"
   ]
  },
  {
   "cell_type": "code",
   "metadata": {
    "ExecuteTime": {
     "end_time": "2024-07-01T15:40:39.691940Z",
     "start_time": "2024-07-01T15:40:39.179711Z"
    }
   },
   "source": [
    "%matplotlib inline\n",
    "from mewpy.visualization.envelope import plot_flux_envelope\n",
    "\n",
    "plot_flux_envelope(simul,'BIOMASS_Ecoli_core_w_GAM','EX_succ_e',constraints = constraints)"
   ],
   "execution_count": 31,
   "outputs": []
  },
  {
   "cell_type": "markdown",
   "metadata": {},
   "source": [
    "The `simulate` method includes additional parameters, such as the optimization direction. For a full description please refer to the module documentation. "
   ]
  },
  {
   "cell_type": "markdown",
   "metadata": {},
   "source": [
    "## Flux Variability Analysis\n",
    "\n",
    "The simulator interface also allows to perform Flux Variability Analysis (FVA) for all reactions, a list of reactions, or only for succinate:\n"
   ]
  },
  {
   "cell_type": "code",
   "metadata": {
    "ExecuteTime": {
     "end_time": "2024-07-01T15:40:57.276345Z",
     "start_time": "2024-07-01T15:40:39.694938Z"
    }
   },
   "source": [
    "# returns a dictionary\n",
    "simul.FVA(format='df')"
   ],
   "execution_count": 32,
   "outputs": []
  },
  {
   "cell_type": "code",
   "metadata": {
    "ExecuteTime": {
     "end_time": "2024-07-01T15:40:57.307990Z",
     "start_time": "2024-07-01T15:40:57.278872Z"
    }
   },
   "source": [
    "# or a data frame\n",
    "simul.FVA('EX_succ_e',format='df')"
   ],
   "execution_count": 33,
   "outputs": []
  },
  {
   "cell_type": "markdown",
   "metadata": {},
   "source": [
    "By default, MEWpy sets the model objective fraction to 90%, however this fraction may be altered. For example, one might want to consider a fraction of 10% from optimal growth:"
   ]
  },
  {
   "cell_type": "code",
   "metadata": {
    "ExecuteTime": {
     "end_time": "2024-07-01T15:40:57.360850Z",
     "start_time": "2024-07-01T15:40:57.311001Z"
    }
   },
   "source": [
    "simul.FVA('EX_succ_e',obj_frac=0.9,format='df')"
   ],
   "execution_count": 34,
   "outputs": []
  },
  {
   "cell_type": "markdown",
   "metadata": {},
   "source": [
    "The FVA simulations are run considering the defined environmental conditions. Additional constraints may be added, or changed, such as the previouly used to increase L-tyrosine production."
   ]
  },
  {
   "cell_type": "code",
   "metadata": {
    "ExecuteTime": {
     "end_time": "2024-07-01T15:40:57.417775Z",
     "start_time": "2024-07-01T15:40:57.372882Z"
    }
   },
   "source": [
    "simul.FVA('EX_succ_e', constraints=constraints,format='df')"
   ],
   "execution_count": 35,
   "outputs": []
  },
  {
   "cell_type": "markdown",
   "metadata": {},
   "source": [
    "COBRApy users may have noticed that this same task would have required many additional coding lines if using the COBRApy API directly."
   ]
  },
  {
   "cell_type": "markdown",
   "metadata": {},
   "source": [
    "## Genes and reactions essentiality\n",
    "\n",
    "Gene and reaction essentiality tests identify, respectively, the list of genes and reactions whose deletion would prevent the organism to grow. "
   ]
  },
  {
   "cell_type": "code",
   "metadata": {
    "ExecuteTime": {
     "end_time": "2024-07-01T15:40:57.713004Z",
     "start_time": "2024-07-01T15:40:57.422290Z"
    }
   },
   "source": [
    "simul.essential_reactions()"
   ],
   "execution_count": 36,
   "outputs": []
  },
  {
   "cell_type": "code",
   "metadata": {
    "ExecuteTime": {
     "end_time": "2024-07-01T15:40:57.946941Z",
     "start_time": "2024-07-01T15:40:57.715551Z"
    }
   },
   "source": [
    "simul.essential_genes()"
   ],
   "execution_count": 37,
   "outputs": []
  },
  {
   "cell_type": "markdown",
   "metadata": {},
   "source": [
    "For more options and methods please refer to the MEWpy documentation."
   ]
  }
 ],
 "metadata": {
  "kernelspec": {
   "display_name": "Python 3.9.6 64-bit",
   "language": "python",
   "name": "python3"
  },
  "language_info": {
   "codemirror_mode": {
    "name": "ipython",
    "version": 3
   },
   "file_extension": ".py",
   "mimetype": "text/x-python",
   "name": "python",
   "nbconvert_exporter": "python",
   "pygments_lexer": "ipython3",
   "version": "3.9.6"
  },
  "vscode": {
   "interpreter": {
    "hash": "31f2aee4e71d21fbe5cf8b01ff0e069b9275f58929596ceb00d14d90e3e16cd6"
   }
  }
 },
 "nbformat": 4,
 "nbformat_minor": 4
}
