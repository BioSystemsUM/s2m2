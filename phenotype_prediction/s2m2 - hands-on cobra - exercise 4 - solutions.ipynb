{
 "cells": [
  {
   "cell_type": "markdown",
   "id": "89bbde41",
   "metadata": {
    "pycharm": {
     "name": "#%% md\n"
    }
   },
   "source": [
    "# COBRApy\n",
    "\n",
    "COBRApy is a package for constraint-based modeling of biological networks written in Python.\n",
    "\n",
    "This tool allows loading and inspecting Genome-Scale Metabolic (GEM) models written in the Systems Biology Markup Language (SBML) format.\n",
    "\n",
    "Using COBRApy, one can analyze the following model contents:\n",
    "1. Reactions\n",
    "2. Metabolites\n",
    "3. Genes\n",
    "4. Exchange reactions (Environmental Conditions)\n",
    "\n",
    "COBRApy allows manipulating the contents of a GEM model. For instance, one can edit reactions' flux bounds, knock out a metabolic gene, or change environmental conditions.\n",
    "\n",
    "COBRApy contains flux analysis methods to simulate an organism's phenotypic behavior. These include Flux Balance Analysis (FBA), Parsimonious FBA, or Flux Variability Analysis (FVA).\n",
    "\n",
    "The simulation of gene and reaction deletions for a given GEM model is a straightforward process. One can simulate single or double knockouts using one of the flux analysis methods mentioned above."
   ]
  },
  {
   "cell_type": "markdown",
   "id": "4263edd3",
   "metadata": {
    "pycharm": {
     "name": "#%% md\n"
    }
   },
   "source": [
    "## Installation\n",
    "\n",
    "\n",
    "### Requirements\n",
    "The following requirements are needed to use COBRApy:\n",
    "- Python 3.6 or higher\n",
    "- pip must be installed\n",
    "- GLPK is the default solver, but CPLEX is preferred\n",
    "\n",
    "\n",
    "### How to install COBRApy?\n",
    "```\n",
    "pip install cobra\n",
    "```"
   ]
  },
  {
   "cell_type": "markdown",
   "id": "65dd1f42",
   "metadata": {
    "pycharm": {
     "name": "#%% md\n"
    }
   },
   "source": "# Exercise 4 - Phenotype prediction"
  },
  {
   "cell_type": "markdown",
   "id": "05846d91",
   "metadata": {
    "pycharm": {
     "name": "#%% md\n"
    }
   },
   "source": [
    "## Working with a GEM model\n",
    "\n",
    "For this practical session, we will be using the following model:\n",
    "- _iMM904_ model which contains the whole metabolism of _S. cerevisiae_ -> file: ../data/iMM904.xml\n",
    "\n",
    "You can read more about _S. cerevisiae_ iMM804 model (Mo et al., 2009) in the following links:\n",
    "- https://bmcsystbiol.biomedcentral.com/articles/10.1186/1752-0509-3-37\n",
    "- http://bigg.ucsd.edu/models/iMM904\n",
    "\n",
    "This exercise consists of exploring the phenotype prediction tools of COBRApy. Thus, the following steps will be followed:\n",
    "- Perform an pFBA simulation using an aerobic/anaerobic conditions;\n",
    "- Perform an FVA simulation;\n",
    "- Perform gene deletions;\n",
    "- Perform single deletions\n",
    "- Perform production envelopes"
   ]
  },
  {
   "cell_type": "code",
   "id": "4521e398",
   "metadata": {
    "pycharm": {
     "name": "#%%\n"
    },
    "ExecuteTime": {
     "end_time": "2024-07-01T15:35:39.474735Z",
     "start_time": "2024-07-01T15:35:37.189531Z"
    }
   },
   "source": [
    "# imports\n",
    "import cobra\n",
    "import escher"
   ],
   "execution_count": 1,
   "outputs": []
  },
  {
   "cell_type": "code",
   "id": "cc0d3b5f",
   "metadata": {
    "pycharm": {
     "is_executing": true,
     "name": "#%%\n"
    },
    "ExecuteTime": {
     "end_time": "2024-07-01T15:35:43.311812Z",
     "start_time": "2024-07-01T15:35:39.477213Z"
    }
   },
   "source": [
    "# Loading a model\n",
    "model_path = '../data/iMM904.xml'\n",
    "model = cobra.io.read_sbml_model(model_path)\n",
    "\n",
    "model"
   ],
   "execution_count": 2,
   "outputs": []
  },
  {
   "cell_type": "markdown",
   "id": "6f3bbaa3",
   "metadata": {
    "pycharm": {
     "name": "#%% md\n"
    }
   },
   "source": [
    "## Phenotype Prediction"
   ]
  },
  {
   "cell_type": "markdown",
   "id": "36910563",
   "metadata": {
    "pycharm": {
     "name": "#%% md\n"
    }
   },
   "source": [
    "### pFBA - Aerobiosis"
   ]
  },
  {
   "cell_type": "code",
   "id": "d1aef65a",
   "metadata": {
    "pycharm": {
     "name": "#%%\n"
    },
    "ExecuteTime": {
     "end_time": "2024-07-01T15:35:43.423524Z",
     "start_time": "2024-07-01T15:35:43.313778Z"
    }
   },
   "source": [
    "#check model exchanges\n",
    "for exchange in model.exchanges:\n",
    "    print(exchange.name, '->', exchange.bounds)"
   ],
   "execution_count": 3,
   "outputs": []
  },
  {
   "cell_type": "code",
   "id": "4cff233b",
   "metadata": {
    "pycharm": {
     "name": "#%%\n"
    },
    "scrolled": true,
    "ExecuteTime": {
     "end_time": "2024-07-01T15:35:43.470699Z",
     "start_time": "2024-07-01T15:35:43.426548Z"
    }
   },
   "source": [
    "model.exchanges.EX_o2_e"
   ],
   "execution_count": 4,
   "outputs": []
  },
  {
   "cell_type": "code",
   "id": "515430a0",
   "metadata": {
    "pycharm": {
     "name": "#%%\n"
    },
    "scrolled": false,
    "ExecuteTime": {
     "end_time": "2024-07-01T15:35:45.892725Z",
     "start_time": "2024-07-01T15:35:43.475706Z"
    }
   },
   "source": [
    "#performing pfba simulation\n",
    "pfba_solution = cobra.flux_analysis.pfba(model)\n",
    "model.summary(pfba_solution)"
   ],
   "execution_count": 5,
   "outputs": []
  },
  {
   "cell_type": "markdown",
   "id": "57ddea5d",
   "metadata": {
    "pycharm": {
     "name": "#%% md\n"
    }
   },
   "source": [
    "### Setting up anaerobiosis"
   ]
  },
  {
   "cell_type": "code",
   "id": "a19ca24a",
   "metadata": {
    "pycharm": {
     "name": "#%%\n"
    },
    "ExecuteTime": {
     "end_time": "2024-07-01T15:35:46.000989Z",
     "start_time": "2024-07-01T15:35:45.894906Z"
    }
   },
   "source": [
    "# setting the environmental conditions to replicate an anaerobic medium\n",
    "anaerobic_conditions = {'EX_ergstest_SC_e': (-2, 1000),\n",
    "                        'EX_pro__L_e': (-2, 1000), \n",
    "                        'EX_ptd1ino_SC_e':(-2, 1000), \n",
    "                        'EX_zymst_e': (-2, 1000),\n",
    "                        'EX_o2_e': (0, 1000)}\n",
    "\n",
    "for exchange_id, bds in anaerobic_conditions.items():\n",
    "    model.exchanges.get_by_id(exchange_id).bounds = bds"
   ],
   "execution_count": 6,
   "outputs": []
  },
  {
   "cell_type": "markdown",
   "id": "7974bd91",
   "metadata": {
    "pycharm": {
     "name": "#%% md\n"
    }
   },
   "source": [
    "### pFBA - Anaerobiosis"
   ]
  },
  {
   "cell_type": "code",
   "id": "a8a5c385",
   "metadata": {
    "pycharm": {
     "name": "#%%\n"
    },
    "ExecuteTime": {
     "end_time": "2024-07-01T15:35:47.979466Z",
     "start_time": "2024-07-01T15:35:46.002982Z"
    }
   },
   "source": [
    "#performing pfba simulation\n",
    "pfba_solution = cobra.flux_analysis.pfba(model)\n",
    "model.summary(pfba_solution)"
   ],
   "execution_count": 7,
   "outputs": []
  },
  {
   "cell_type": "markdown",
   "id": "0cab3a55",
   "metadata": {
    "pycharm": {
     "name": "#%% md\n"
    }
   },
   "source": [
    "### Flux Variability Analysis (FVA)"
   ]
  },
  {
   "cell_type": "code",
   "id": "9e382ca7",
   "metadata": {
    "pycharm": {
     "name": "#%%\n"
    },
    "ExecuteTime": {
     "end_time": "2024-07-01T15:36:07.441853Z",
     "start_time": "2024-07-01T15:35:47.981467Z"
    }
   },
   "source": [
    "#performing fva simulation\n",
    "fva_solution = cobra.flux_analysis.flux_variability_analysis(model, fraction_of_optimum=0.1)\n",
    "fva_solution"
   ],
   "execution_count": 8,
   "outputs": []
  },
  {
   "cell_type": "code",
   "id": "16a842bf",
   "metadata": {
    "pycharm": {
     "name": "#%%\n"
    },
    "scrolled": true,
    "ExecuteTime": {
     "end_time": "2024-07-01T15:36:07.457744Z",
     "start_time": "2024-07-01T15:36:07.443857Z"
    }
   },
   "source": [
    "# maximum theoretical production rates of Ethanol (EX_eth_e), Carbon dioxide (EX_co2_e)\n",
    "\n",
    "print(f'Theoretical production rate interval for Ethanol:', fva_solution.loc['EX_etoh_e', 'minimum'], 'to', fva_solution.loc['EX_etoh_e', 'maximum'], 'mmol/gDW/h')\n",
    "print(f'Theoretical production rate interval for Carbon Dioxide:', fva_solution.loc['EX_co2_e', 'minimum'], 'to', fva_solution.loc['EX_co2_e', 'maximum'], 'mmol/gDW/h')"
   ],
   "execution_count": 9,
   "outputs": []
  }
 ],
 "metadata": {
  "kernelspec": {
   "display_name": "Python 3 (ipykernel)",
   "language": "python",
   "name": "python3"
  },
  "language_info": {
   "codemirror_mode": {
    "name": "ipython",
    "version": 3
   },
   "file_extension": ".py",
   "mimetype": "text/x-python",
   "name": "python",
   "nbconvert_exporter": "python",
   "pygments_lexer": "ipython3",
   "version": "3.7.16"
  }
 },
 "nbformat": 4,
 "nbformat_minor": 5
}
