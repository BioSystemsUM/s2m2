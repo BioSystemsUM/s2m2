{
 "cells": [
  {
   "cell_type": "markdown",
   "id": "df393fdd",
   "metadata": {
    "pycharm": {
     "name": "#%% md\n"
    }
   },
   "source": [
    "# COBRApy\n",
    "\n",
    "COBRApy is a package for constraint-based modeling of biological networks written in Python.\n",
    "\n",
    "This tool allows loading and inspecting Genome-Scale Metabolic (GEM) models written in the Systems Biology Markup Language (SBML) format.\n",
    "\n",
    "Using COBRApy, one can analyze the following model contents:\n",
    "1. Reactions\n",
    "2. Metabolites\n",
    "3. Genes\n",
    "4. Exchange reactions (Environmental Conditions)\n",
    "\n",
    "COBRApy allows manipulating the contents of a GEM model. For instance, one can edit reactions' flux bounds, knock out a metabolic gene, or change environmental conditions.\n",
    "\n",
    "COBRApy contains flux analysis methods to simulate an organism's phenotypic behavior. These include Flux Balance Analysis (FBA), Parsimonious FBA, or Flux Variability Analysis (FVA).\n",
    "\n",
    "The simulation of gene and reaction deletions for a given GEM model is a straightforward process. One can simulate single or double knockouts using one of the flux analysis methods mentioned above."
   ]
  },
  {
   "cell_type": "markdown",
   "id": "d942983e",
   "metadata": {
    "pycharm": {
     "name": "#%% md\n"
    }
   },
   "source": [
    "## Installation\n",
    "\n",
    "\n",
    "### Requirements\n",
    "The following requirements are needed to use COBRApy:\n",
    "- Python 3.6 or higher\n",
    "- pip must be installed\n",
    "- GLPK is the default solver, but CPLEX is preferred\n",
    "\n",
    "\n",
    "### How to install COBRApy?\n",
    "```\n",
    "pip install cobra\n",
    "```"
   ]
  },
  {
   "cell_type": "markdown",
   "id": "37bf9a39",
   "metadata": {
    "pycharm": {
     "name": "#%% md\n"
    }
   },
   "source": [
    "# Exercise 7 - Phenotype prediction"
   ]
  },
  {
   "cell_type": "markdown",
   "id": "7cf00320",
   "metadata": {
    "pycharm": {
     "name": "#%% md\n"
    }
   },
   "source": [
    "For this practical session, we will be using the following model:\n",
    "- _E. coli_ core model which contains the central carbon metabolism of _Escherichia coli_ -> file: ../data/e_coli_core.xml\n",
    "\n",
    "You can read more about _E. coli_ core model (Orth et al., 2010) in the following links:\n",
    "- https://journals.asm.org/doi/10.1128/ecosalplus.10.2.1\n",
    "- http://bigg.ucsd.edu/models/e_coli_core\n",
    "\n",
    "This exercise consists of searching for potential candidate genes whose knock out would lead to increased Ethanol production. Thus, the following steps will be followed:\n",
    "- Perform a FBA simulation using an anaerobic medium;\n",
    "- Load the escher map with the FBA simulation to visualize the flux distribution;\n",
    "- Identify candidate mutants to increase the production of a compound of interest;\n",
    "- Determine the essential genes of the model;\n",
    "- Check the candidates for their essentiality;\n",
    "- Perform the gene knock-outs;"
   ]
  },
  {
   "cell_type": "code",
   "execution_count": null,
   "id": "a2b96b11",
   "metadata": {
    "ExecuteTime": {
     "end_time": "2023-06-26T14:28:45.409795Z",
     "start_time": "2023-06-26T14:28:43.707430900Z"
    },
    "pycharm": {
     "name": "#%%\n"
    }
   },
   "outputs": [],
   "source": [
    "# imports\n",
    "import cobra\n",
    "import escher"
   ]
  },
  {
   "cell_type": "code",
   "execution_count": null,
   "id": "26b9ff75",
   "metadata": {
    "pycharm": {
     "name": "#%%\n"
    }
   },
   "outputs": [],
   "source": [
    "# Loading a model"
   ]
  },
  {
   "cell_type": "markdown",
   "id": "0be5ab02",
   "metadata": {
    "pycharm": {
     "name": "#%% md\n"
    }
   },
   "source": [
    "### Phenotype Simulation\n",
    "\n",
    "The default environmental conditions of the _E. coli_ core model represent an aerobic medium. However, the production of ethanol in _E. coli_ is often associated with mixed-acid fermentation. Hence, we should use anaerobic conditions."
   ]
  },
  {
   "cell_type": "code",
   "execution_count": null,
   "id": "ae8fce66",
   "metadata": {
    "pycharm": {
     "name": "#%%\n"
    }
   },
   "outputs": [],
   "source": [
    "#setting the environmental conditions to replicate an anaerobic medium"
   ]
  },
  {
   "cell_type": "code",
   "execution_count": null,
   "id": "183ab8d7",
   "metadata": {
    "pycharm": {
     "name": "#%%\n"
    }
   },
   "outputs": [],
   "source": [
    "#performing a FBA simulation"
   ]
  },
  {
   "cell_type": "markdown",
   "id": "e5981c4c",
   "metadata": {
    "pycharm": {
     "name": "#%% md\n"
    }
   },
   "source": [
    "### Metabolic Pathway Visualization\n",
    "\n",
    "Now that we have performed an FBA simulation under anaerobic conditions, we can run the `escher.Builder` method to display the flux distribution on the _E. coli_ core metabolism map. This may help to identify reactions deflecting flux from ethanol production."
   ]
  },
  {
   "cell_type": "code",
   "execution_count": null,
   "id": "d0e0772e",
   "metadata": {
    "pycharm": {
     "name": "#%%\n"
    }
   },
   "outputs": [],
   "source": [
    "# create the builder object which contains the metabolic map"
   ]
  },
  {
   "cell_type": "markdown",
   "id": "faf5d5e2",
   "metadata": {
    "pycharm": {
     "name": "#%% md\n"
    }
   },
   "source": [
    "Citrate synthase and Phosphotransacetylase reactions seem to be deflecting the flux distribution from ethanol production."
   ]
  },
  {
   "cell_type": "markdown",
   "id": "914786cc",
   "metadata": {
    "pycharm": {
     "name": "#%% md\n"
    }
   },
   "source": [
    "### Search for essential Genes\n",
    "\n",
    "Now that we have two candidate reactions, we can use the `find_essential_genes` function of the flux analysis package to identify a list of essential genes for this model. This list contains all the genes whose knock out would result in no growth. \n",
    "\n",
    "Hence, reactions associated with essential genes are not suitable candidates for a metabolic engineering strategy."
   ]
  },
  {
   "cell_type": "code",
   "execution_count": null,
   "id": "fe597b5f",
   "metadata": {
    "pycharm": {
     "name": "#%%\n"
    }
   },
   "outputs": [],
   "source": [
    "#searching for essential genes"
   ]
  },
  {
   "cell_type": "markdown",
   "id": "cfac6fd8",
   "metadata": {
    "pycharm": {
     "name": "#%% md\n"
    }
   },
   "source": [
    "### Check the mutant candidates\n",
    "\n",
    "After discovering the essential genes of the model, one can now check if the target reactions are associated with any of those essential genes."
   ]
  },
  {
   "cell_type": "code",
   "execution_count": null,
   "id": "9fa2f471",
   "metadata": {
    "pycharm": {
     "name": "#%%\n"
    }
   },
   "outputs": [],
   "source": []
  },
  {
   "cell_type": "code",
   "execution_count": null,
   "id": "d88c793e",
   "metadata": {
    "pycharm": {
     "name": "#%%\n"
    }
   },
   "outputs": [],
   "source": []
  },
  {
   "cell_type": "markdown",
   "id": "d770a62c",
   "metadata": {
    "pycharm": {
     "name": "#%% md\n"
    }
   },
   "source": [
    "As we can see, the Phosphotransacetylase reaction is a viable knock-out target. By checking its GPR, we can see that none of its genes are in the list of essential genes.\n",
    "\n",
    "On the other hand, the Citrate synthase should not be knocked out, as the organism would not be able to grow."
   ]
  },
  {
   "cell_type": "markdown",
   "id": "41af0169",
   "metadata": {
    "pycharm": {
     "name": "#%% md\n"
    }
   },
   "source": [
    "### Gene knock-outs"
   ]
  },
  {
   "cell_type": "code",
   "execution_count": null,
   "id": "6b80c4ac",
   "metadata": {
    "pycharm": {
     "name": "#%%\n"
    }
   },
   "outputs": [],
   "source": []
  },
  {
   "cell_type": "code",
   "execution_count": null,
   "id": "0ac9bb51",
   "metadata": {
    "pycharm": {
     "name": "#%%\n"
    }
   },
   "outputs": [],
   "source": []
  },
  {
   "cell_type": "code",
   "execution_count": null,
   "id": "210088d7",
   "metadata": {},
   "outputs": [],
   "source": []
  }
 ],
 "metadata": {
  "kernelspec": {
   "display_name": "Python 3 (ipykernel)",
   "language": "python",
   "name": "python3"
  },
  "language_info": {
   "codemirror_mode": {
    "name": "ipython",
    "version": 3
   },
   "file_extension": ".py",
   "mimetype": "text/x-python",
   "name": "python",
   "nbconvert_exporter": "python",
   "pygments_lexer": "ipython3",
   "version": "3.7.16"
  }
 },
 "nbformat": 4,
 "nbformat_minor": 5
}
