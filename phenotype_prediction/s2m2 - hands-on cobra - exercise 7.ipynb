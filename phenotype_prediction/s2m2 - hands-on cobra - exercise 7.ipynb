{
 "cells": [
  {
   "cell_type": "markdown",
   "id": "9db85786",
   "metadata": {
    "pycharm": {
     "name": "#%% md\n"
    }
   },
   "source": [
    "# COBRApy\n",
    "\n",
    "COBRApy is a package for constraint-based modeling of biological networks written in Python.\n",
    "\n",
    "This tool allows loading and inspecting Genome-Scale Metabolic (GEM) models written in the Systems Biology Markup Language (SBML) format.\n",
    "\n",
    "Using COBRApy, one can analyze the following model contents:\n",
    "1. Reactions\n",
    "2. Metabolites\n",
    "3. Genes\n",
    "4. Exchange reactions (Environmental Conditions)\n",
    "\n",
    "COBRApy allows manipulating the contents of a GEM model. For instance, one can edit reactions' flux bounds, knock out a metabolic gene, or change environmental conditions.\n",
    "\n",
    "COBRApy contains flux analysis methods to simulate an organism's phenotypic behavior. These include Flux Balance Analysis (FBA), Parsimonious FBA, or Flux Variability Analysis (FVA).\n",
    "\n",
    "The simulation of gene and reaction deletions for a given GEM model is a straightforward process. One can simulate single or double knockouts using one of the flux analysis methods mentioned above."
   ]
  },
  {
   "cell_type": "markdown",
   "id": "855f18a1",
   "metadata": {
    "pycharm": {
     "name": "#%% md\n"
    }
   },
   "source": [
    "## Installation\n",
    "\n",
    "\n",
    "### Requirements\n",
    "The following requirements are needed to use COBRApy:\n",
    "- Python 3.6 or higher\n",
    "- pip must be installed\n",
    "- GLPK is the default solver, but CPLEX is preferred\n",
    "\n",
    "\n",
    "### How to install COBRApy?\n",
    "```\n",
    "pip install cobra\n",
    "```"
   ]
  },
  {
   "cell_type": "markdown",
   "id": "a356f707",
   "metadata": {
    "pycharm": {
     "name": "#%% md\n"
    }
   },
   "source": "# Exercise 7 - Phenotype prediction"
  },
  {
   "cell_type": "markdown",
   "id": "9f0f18e0",
   "metadata": {
    "pycharm": {
     "name": "#%% md\n"
    }
   },
   "source": [
    "## Working with a GEM model\n",
    "\n",
    "For this practical session, we will be using the following model:\n",
    "- _E. coli_ core model which contains the central carbon metabolism of _Escherichia coli_ -> file: ../data/e_coli_core.xml\n",
    "\n",
    "You can read more about _E. coli_ core model (Orth et al., 2010) in the following links:\n",
    "- https://journals.asm.org/doi/10.1128/ecosalplus.10.2.1\n",
    "- http://bigg.ucsd.edu/models/e_coli_core\n",
    "\n",
    "This exercise consists of exploring the phenotype prediction tools of COBRApy. Thus, the following steps will be followed:\n",
    "- Perform reaction and gene deletions;\n",
    "- Perform mutant-specific simulation methods, such as ROOM and MOMA;\n",
    "- Perform single and double deletions"
   ]
  },
  {
   "cell_type": "code",
   "id": "fffef510",
   "metadata": {
    "pycharm": {
     "name": "#%%\n"
    },
    "ExecuteTime": {
     "end_time": "2024-07-01T15:48:43.778206Z",
     "start_time": "2024-07-01T15:48:40.370104Z"
    }
   },
   "source": [
    "# imports\n",
    "import cobra\n",
    "import escher\n",
    "# Loading a model\n",
    "model_path = '../data/e_coli_core.xml'\n",
    "model = cobra.io.read_sbml_model(model_path)\n",
    "\n",
    "model"
   ],
   "execution_count": 1,
   "outputs": []
  },
  {
   "cell_type": "markdown",
   "id": "7f6f1841",
   "metadata": {
    "pycharm": {
     "name": "#%% md\n"
    }
   },
   "source": [
    "## Phenotype Prediction"
   ]
  },
  {
   "cell_type": "markdown",
   "id": "091934a1",
   "metadata": {
    "pycharm": {
     "name": "#%% md\n"
    }
   },
   "source": [
    "COBRApy includes different algorithms for phenotype prediction. These include:\n",
    "- Flux Balance Analysis (FBA); \n",
    "- Parsimonious Flux Balance Analysis (pFBA);\n",
    "- Flux Variability Analysis (FVA);\n",
    "- Regulatory On/Off Minimization (ROOM);\n",
    "- Minimization of Metabolic Adjustment (MOMA);"
   ]
  },
  {
   "cell_type": "markdown",
   "id": "73943a53",
   "metadata": {
    "pycharm": {
     "name": "#%% md\n"
    }
   },
   "source": [
    "### Simulating Deletions"
   ]
  },
  {
   "cell_type": "markdown",
   "id": "cf5f50f1",
   "metadata": {
    "pycharm": {
     "name": "#%% md\n"
    }
   },
   "source": [
    "As previously mentioned, COBRApy can be used to simulate gene or reaction deletions. The function `knock_out()` can be used to knock out a given reaction or gene."
   ]
  },
  {
   "cell_type": "code",
   "id": "422c889b",
   "metadata": {
    "pycharm": {
     "name": "#%%\n"
    },
    "ExecuteTime": {
     "end_time": "2024-07-01T15:48:43.872112Z",
     "start_time": "2024-07-01T15:48:43.782445Z"
    }
   },
   "source": [
    "#knock out the SUCDi reaction\n",
    "with model:\n",
    "    model.reactions.SUCDi.knock_out()\n",
    "    pfba_solution = cobra.flux_analysis.pfba(model)\n",
    "    print('SUCDi mutant growth rate: ', pfba_solution.fluxes['BIOMASS_Ecoli_core_w_GAM'])\n",
    "    print('SUCDi flux rate: ', pfba_solution.fluxes['SUCDi'])\n",
    "    print('SUCDi mutant succinate production rate: ', pfba_solution.fluxes['EX_succ_e'])"
   ],
   "execution_count": 2,
   "outputs": []
  },
  {
   "cell_type": "code",
   "id": "510d2f4e",
   "metadata": {
    "pycharm": {
     "name": "#%%\n"
    },
    "ExecuteTime": {
     "end_time": "2024-07-01T15:48:43.903310Z",
     "start_time": "2024-07-01T15:48:43.874082Z"
    }
   },
   "source": [
    "# knock out the b1852 gene associated with reaction G6PDH2r\n",
    "with model:\n",
    "    model.genes.b1852.knock_out()\n",
    "    pfba_solution = cobra.flux_analysis.pfba(model)\n",
    "    print('b1852 mutant growth rate: ', pfba_solution.fluxes['BIOMASS_Ecoli_core_w_GAM'])\n",
    "    print('G6PDH2r flux rate: ', pfba_solution.fluxes['G6PDH2r'])\n",
    "    print('b1852 mutant succinate production rate: ', pfba_solution.fluxes['EX_succ_e'])"
   ],
   "execution_count": 3,
   "outputs": []
  },
  {
   "cell_type": "markdown",
   "id": "28fe2260",
   "metadata": {
    "pycharm": {
     "name": "#%% md\n"
    }
   },
   "source": [
    "Gene-Protein-Reaction (GPR) rules can be used to understand which genes are associated with a given reaction. Besides, one can understand by the GPR rule if the reaction is being catalyzed by a single gene, isoenzyme or protein complex. In COBRApy, one can inspect the GPR rule of a given reaction or which reactions are associated with a given gene."
   ]
  },
  {
   "cell_type": "code",
   "id": "179c371c",
   "metadata": {
    "pycharm": {
     "name": "#%%\n"
    },
    "ExecuteTime": {
     "end_time": "2024-07-01T15:48:43.918916Z",
     "start_time": "2024-07-01T15:48:43.906277Z"
    }
   },
   "source": [
    "# ACKr GPR rule. This reaction is being catalyzed by an isoenzyme\n",
    "model.reactions.ACKr.gene_reaction_rule"
   ],
   "execution_count": 4,
   "outputs": []
  },
  {
   "cell_type": "code",
   "id": "394e87c7",
   "metadata": {
    "pycharm": {
     "name": "#%%\n"
    },
    "ExecuteTime": {
     "end_time": "2024-07-01T15:48:43.948969Z",
     "start_time": "2024-07-01T15:48:43.920856Z"
    }
   },
   "source": [
    "# knock out the b3115 & b2296 & b1849 genes associated with reaction ACKr\n",
    "with model:\n",
    "    model.genes.b3115.knock_out()\n",
    "    model.genes.b2296.knock_out()\n",
    "    model.genes.b1849.knock_out()\n",
    "    pfba_solution = cobra.flux_analysis.pfba(model)\n",
    "    print('b3115, b2296, b1849 mutant growth rate: ', pfba_solution.fluxes['BIOMASS_Ecoli_core_w_GAM'])\n",
    "    print('ACKr flux rate: ', pfba_solution.fluxes['ACKr'])\n",
    "    print('b3115, b2296, b1849 mutant succinate production rate: ', pfba_solution.fluxes['EX_succ_e'])"
   ],
   "execution_count": 5,
   "outputs": []
  },
  {
   "cell_type": "code",
   "id": "a606624c",
   "metadata": {
    "pycharm": {
     "name": "#%%\n"
    },
    "scrolled": true,
    "ExecuteTime": {
     "end_time": "2024-07-01T15:48:43.995229Z",
     "start_time": "2024-07-01T15:48:43.950909Z"
    }
   },
   "source": [
    "# performing all deletions at once to verify succinate production rate, EX_succ_e\n",
    "with model:\n",
    "    wt_pfba_solution = cobra.flux_analysis.pfba(model)\n",
    "    print('WT growth rate: ', wt_pfba_solution.fluxes['BIOMASS_Ecoli_core_w_GAM'])\n",
    "    print('WT succinate production rate: ', wt_pfba_solution.fluxes['EX_succ_e'])\n",
    "    model.reactions.SUCDi.knock_out()\n",
    "    model.genes.b1852.knock_out()\n",
    "    model.genes.b3115.knock_out()\n",
    "    model.genes.b2296.knock_out()\n",
    "    model.genes.b1849.knock_out()\n",
    "    mutant_pfba_solution = cobra.flux_analysis.pfba(model)\n",
    "    print('MUTANT growth rate: ', mutant_pfba_solution.fluxes['BIOMASS_Ecoli_core_w_GAM'])\n",
    "    print('MUTANT succinate production rate: ', mutant_pfba_solution.fluxes['EX_succ_e'])"
   ],
   "execution_count": 6,
   "outputs": []
  },
  {
   "cell_type": "code",
   "id": "60189db3",
   "metadata": {
    "pycharm": {
     "name": "#%%\n"
    },
    "scrolled": true,
    "ExecuteTime": {
     "end_time": "2024-07-01T15:48:44.601235Z",
     "start_time": "2024-07-01T15:48:43.996229Z"
    }
   },
   "source": [
    "# WILD-TYPE flux distribution\n",
    "builder = escher.Builder(map_name='e_coli_core.Core metabolism', model=model, reaction_data=wt_pfba_solution.fluxes)\n",
    "builder"
   ],
   "execution_count": 7,
   "outputs": []
  },
  {
   "cell_type": "code",
   "id": "074a2715",
   "metadata": {
    "pycharm": {
     "name": "#%%\n"
    },
    "ExecuteTime": {
     "end_time": "2024-07-01T15:48:44.819798Z",
     "start_time": "2024-07-01T15:48:44.602235Z"
    }
   },
   "source": [
    "# MUTANT flux distribution\n",
    "builder = escher.Builder(map_name='e_coli_core.Core metabolism', model=model, reaction_data=mutant_pfba_solution.fluxes)\n",
    "builder"
   ],
   "execution_count": 8,
   "outputs": []
  },
  {
   "cell_type": "markdown",
   "id": "8b16303d",
   "metadata": {
    "pycharm": {
     "name": "#%% md\n"
    }
   },
   "source": [
    "### MOMA and ROOM"
   ]
  },
  {
   "cell_type": "markdown",
   "id": "03b1be47",
   "metadata": {
    "pycharm": {
     "name": "#%% md\n"
    }
   },
   "source": [
    "COBRApy includes phenotype prediction methods that are used predict the flux distribution after a gene knock out. These are the Minimization of Metabolic Adjustment (MOMA), which can be called using `cobra.flux_analysis.moma()`, and Regulatory On/Off Minimization (ROOM), using `cobra.flux_analysis.room()`."
   ]
  },
  {
   "cell_type": "code",
   "id": "df528258",
   "metadata": {
    "pycharm": {
     "name": "#%%\n"
    },
    "ExecuteTime": {
     "end_time": "2024-07-01T15:48:45.256308Z",
     "start_time": "2024-07-01T15:48:44.822805Z"
    }
   },
   "source": [
    "#using MOMA with COBRApy\n",
    "with model:\n",
    "    pfba_solution = cobra.flux_analysis.pfba(model)\n",
    "    model.reactions.SUCDi.knock_out()\n",
    "    model.genes.b1852.knock_out()\n",
    "    model.genes.b3115.knock_out()\n",
    "    model.genes.b2296.knock_out()\n",
    "    model.genes.b1849.knock_out()\n",
    "    moma_result = cobra.flux_analysis.moma(model, pfba_solution)\n",
    "    print('MOMA Result: ', moma_result)"
   ],
   "execution_count": 9,
   "outputs": []
  },
  {
   "cell_type": "code",
   "id": "643d47fd",
   "metadata": {
    "pycharm": {
     "name": "#%%\n"
    },
    "ExecuteTime": {
     "end_time": "2024-07-01T15:48:45.303878Z",
     "start_time": "2024-07-01T15:48:45.259824Z"
    }
   },
   "source": [
    "model.summary(moma_result)"
   ],
   "execution_count": 10,
   "outputs": []
  },
  {
   "cell_type": "code",
   "id": "06650a37",
   "metadata": {
    "pycharm": {
     "name": "#%%\n"
    },
    "ExecuteTime": {
     "end_time": "2024-07-01T15:48:46.929406Z",
     "start_time": "2024-07-01T15:48:45.305881Z"
    }
   },
   "source": [
    "#using ROOM with COBRApy\n",
    "with model:\n",
    "    pfba_solution = cobra.flux_analysis.pfba(model)\n",
    "    model.reactions.SUCDi.knock_out()\n",
    "    model.genes.b1852.knock_out()\n",
    "    model.genes.b3115.knock_out()\n",
    "    model.genes.b2296.knock_out()\n",
    "    model.genes.b1849.knock_out()\n",
    "    room_result = cobra.flux_analysis.room(model, pfba_solution)\n",
    "    print('ROOM Result: ', room_result)"
   ],
   "execution_count": 11,
   "outputs": []
  },
  {
   "cell_type": "code",
   "id": "a02242e0",
   "metadata": {
    "pycharm": {
     "name": "#%%\n"
    },
    "ExecuteTime": {
     "end_time": "2024-07-01T15:48:46.961230Z",
     "start_time": "2024-07-01T15:48:46.931316Z"
    }
   },
   "source": [
    "model.summary(room_result)"
   ],
   "execution_count": 12,
   "outputs": []
  },
  {
   "cell_type": "markdown",
   "id": "3071e542",
   "metadata": {
    "pycharm": {
     "name": "#%% md\n"
    }
   },
   "source": [
    "### Single Deletions"
   ]
  },
  {
   "cell_type": "markdown",
   "id": "31f3527c",
   "metadata": {
    "pycharm": {
     "name": "#%% md\n"
    }
   },
   "source": [
    "Single gene and reaction deletions can also be simulated with the flux analysis package of COBRApy. To do so, one can use the `cobra.flux_analysis.single_gene_deletion()` and `cobra.flux_analysis.single_reaction_deletion()` methods."
   ]
  },
  {
   "cell_type": "code",
   "id": "70d5ced5",
   "metadata": {
    "pycharm": {
     "name": "#%%\n"
    },
    "ExecuteTime": {
     "end_time": "2024-07-01T15:48:56.108266Z",
     "start_time": "2024-07-01T15:48:46.963229Z"
    }
   },
   "source": [
    "#single reaction deletion\n",
    "reaction_deletion_results = cobra.flux_analysis.single_reaction_deletion(model)\n",
    "reaction_deletion_results"
   ],
   "execution_count": 13,
   "outputs": []
  },
  {
   "cell_type": "code",
   "id": "646cd58a",
   "metadata": {
    "pycharm": {
     "name": "#%%\n"
    },
    "ExecuteTime": {
     "end_time": "2024-07-01T15:49:05.334101Z",
     "start_time": "2024-07-01T15:48:56.111308Z"
    }
   },
   "source": [
    "#single gene deletion\n",
    "gene_deletion_results = cobra.flux_analysis.single_gene_deletion(model)\n",
    "gene_deletion_results"
   ],
   "execution_count": 14,
   "outputs": []
  },
  {
   "cell_type": "markdown",
   "id": "17e8d095",
   "metadata": {
    "pycharm": {
     "name": "#%% md\n"
    }
   },
   "source": [
    "It is worth noting that genes and reactions with a growth rate equal to zero can be considered as essential genes or essential reactions, respectively."
   ]
  },
  {
   "cell_type": "markdown",
   "id": "ac1b24aa",
   "metadata": {
    "pycharm": {
     "name": "#%% md\n"
    }
   },
   "source": [
    "### Double Deletions"
   ]
  },
  {
   "cell_type": "markdown",
   "id": "49b919e2",
   "metadata": {
    "pycharm": {
     "name": "#%% md\n"
    }
   },
   "source": [
    "Double gene and reaction deletions can also be simulated with the flux analysis package of COBRApy. To do so, one can use the `cobra.flux_analysis.double_gene_deletion()` and `cobra.flux_analysis.double_reaction_deletion()` methods. These methods perform all possible combinations."
   ]
  },
  {
   "cell_type": "code",
   "id": "b628ec67",
   "metadata": {
    "pycharm": {
     "name": "#%%\n"
    },
    "ExecuteTime": {
     "end_time": "2024-07-01T15:49:17.544011Z",
     "start_time": "2024-07-01T15:49:05.337103Z"
    }
   },
   "source": [
    "#double reaction deletion\n",
    "double_reaction_deletion_results = cobra.flux_analysis.double_reaction_deletion(model)\n",
    "double_reaction_deletion_results"
   ],
   "execution_count": 15,
   "outputs": []
  },
  {
   "cell_type": "code",
   "id": "01521135",
   "metadata": {
    "pycharm": {
     "name": "#%%\n"
    },
    "scrolled": true,
    "ExecuteTime": {
     "end_time": "2024-07-01T15:49:28.639364Z",
     "start_time": "2024-07-01T15:49:17.545934Z"
    }
   },
   "source": [
    "#double gene deletion\n",
    "double_gene_deletion_results = cobra.flux_analysis.double_gene_deletion(model)\n",
    "double_gene_deletion_results"
   ],
   "execution_count": 16,
   "outputs": []
  }
 ],
 "metadata": {
  "kernelspec": {
   "display_name": "Python 3 (ipykernel)",
   "language": "python",
   "name": "python3"
  },
  "language_info": {
   "codemirror_mode": {
    "name": "ipython",
    "version": 3
   },
   "file_extension": ".py",
   "mimetype": "text/x-python",
   "name": "python",
   "nbconvert_exporter": "python",
   "pygments_lexer": "ipython3",
   "version": "3.7.16"
  }
 },
 "nbformat": 4,
 "nbformat_minor": 5
}
