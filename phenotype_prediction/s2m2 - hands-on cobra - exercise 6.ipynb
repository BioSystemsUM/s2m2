{
 "cells": [
  {
   "cell_type": "markdown",
   "id": "89bbde41",
   "metadata": {
    "pycharm": {
     "name": "#%% md\n"
    }
   },
   "source": [
    "# COBRApy\n",
    "\n",
    "COBRApy is a package for constraint-based modeling of biological networks written in Python.\n",
    "\n",
    "This tool allows loading and inspecting Genome-Scale Metabolic (GEM) models written in the Systems Biology Markup Language (SBML) format.\n",
    "\n",
    "Using COBRApy, one can analyze the following model contents:\n",
    "1. Reactions\n",
    "2. Metabolites\n",
    "3. Genes\n",
    "4. Exchange reactions (Environmental Conditions)\n",
    "\n",
    "COBRApy allows manipulating the contents of a GEM model. For instance, one can edit reactions' flux bounds, knock out a metabolic gene, or change environmental conditions.\n",
    "\n",
    "COBRApy contains flux analysis methods to simulate an organism's phenotypic behavior. These include Flux Balance Analysis (FBA), Parsimonious FBA, or Flux Variability Analysis (FVA).\n",
    "\n",
    "The simulation of gene and reaction deletions for a given GEM model is a straightforward process. One can simulate single or double knockouts using one of the flux analysis methods mentioned above."
   ]
  },
  {
   "cell_type": "markdown",
   "id": "4263edd3",
   "metadata": {
    "pycharm": {
     "name": "#%% md\n"
    }
   },
   "source": [
    "## Installation\n",
    "\n",
    "\n",
    "### Requirements\n",
    "The following requirements are needed to use COBRApy:\n",
    "- Python 3.6 or higher\n",
    "- pip must be installed\n",
    "- GLPK is the default solver, but CPLEX is preferred\n",
    "\n",
    "\n",
    "### How to install COBRApy?\n",
    "```\n",
    "pip install cobra\n",
    "```"
   ]
  },
  {
   "cell_type": "markdown",
   "id": "65dd1f42",
   "metadata": {
    "pycharm": {
     "name": "#%% md\n"
    }
   },
   "source": [
    "# Exercise 6 - Phenotype prediction"
   ]
  },
  {
   "cell_type": "markdown",
   "id": "05846d91",
   "metadata": {
    "pycharm": {
     "name": "#%% md\n"
    }
   },
   "source": [
    "## Working with a GEM model\n",
    "\n",
    "For this practical session, we will be using the following model:\n",
    "- _iMM904_ model which contains the whole metabolism of _S. cerevisiae_ -> file: ../data/iMM904.xml\n",
    "\n",
    "You can read more about _S. cerevisiae_ iMM804 model (Mo et al., 2009) in the following links:\n",
    "- https://bmcsystbiol.biomedcentral.com/articles/10.1186/1752-0509-3-37\n",
    "- http://bigg.ucsd.edu/models/iMM904\n",
    "\n",
    "This exercise consists of exploring the phenotype prediction tools of COBRApy. Thus, the following steps will be followed:\n",
    "- Perform an pFBA simulation using an aerobic/anaerobic conditions;\n",
    "- Perform an FVA simulation;\n",
    "- Perform gene deletions;\n",
    "- Perform single deletions\n",
    "- Perform production envelopes"
   ]
  },
  {
   "cell_type": "code",
   "execution_count": null,
   "id": "4521e398",
   "metadata": {
    "ExecuteTime": {
     "end_time": "2023-06-26T14:24:19.256151Z",
     "start_time": "2023-06-26T14:24:17.538567Z"
    },
    "pycharm": {
     "name": "#%%\n"
    }
   },
   "outputs": [],
   "source": [
    "# imports\n",
    "import cobra\n",
    "import escher"
   ]
  },
  {
   "cell_type": "code",
   "execution_count": null,
   "id": "cc0d3b5f",
   "metadata": {
    "pycharm": {
     "is_executing": true,
     "name": "#%%\n"
    }
   },
   "outputs": [],
   "source": [
    "# Loading a model\n"
   ]
  },
  {
   "cell_type": "markdown",
   "id": "6f3bbaa3",
   "metadata": {
    "pycharm": {
     "name": "#%% md\n"
    }
   },
   "source": [
    "## Phenotype Prediction"
   ]
  },
  {
   "cell_type": "markdown",
   "id": "36910563",
   "metadata": {
    "pycharm": {
     "name": "#%% md\n"
    }
   },
   "source": [
    "### pFBA - Aerobiosis"
   ]
  },
  {
   "cell_type": "code",
   "execution_count": null,
   "id": "d1aef65a",
   "metadata": {
    "pycharm": {
     "name": "#%%\n"
    }
   },
   "outputs": [],
   "source": [
    "#check model exchanges"
   ]
  },
  {
   "cell_type": "code",
   "execution_count": null,
   "id": "515430a0",
   "metadata": {
    "pycharm": {
     "name": "#%%\n"
    },
    "scrolled": false
   },
   "outputs": [],
   "source": [
    "#performing pfba simulation"
   ]
  },
  {
   "cell_type": "markdown",
   "id": "57ddea5d",
   "metadata": {
    "pycharm": {
     "name": "#%% md\n"
    }
   },
   "source": [
    "### Setting up anaerobiosis"
   ]
  },
  {
   "cell_type": "code",
   "execution_count": null,
   "id": "a19ca24a",
   "metadata": {
    "pycharm": {
     "name": "#%%\n"
    }
   },
   "outputs": [],
   "source": [
    "# setting the environmental conditions to replicate an anaerobic medium"
   ]
  },
  {
   "cell_type": "markdown",
   "id": "7974bd91",
   "metadata": {
    "pycharm": {
     "name": "#%% md\n"
    }
   },
   "source": [
    "### pFBA - Anaerobiosis"
   ]
  },
  {
   "cell_type": "code",
   "execution_count": null,
   "id": "a8a5c385",
   "metadata": {
    "pycharm": {
     "name": "#%%\n"
    }
   },
   "outputs": [],
   "source": [
    "#performing pfba simulation"
   ]
  },
  {
   "cell_type": "markdown",
   "id": "0cab3a55",
   "metadata": {
    "pycharm": {
     "name": "#%% md\n"
    }
   },
   "source": [
    "### Flux Variability Analysis (FVA)"
   ]
  },
  {
   "cell_type": "code",
   "execution_count": null,
   "id": "9e382ca7",
   "metadata": {
    "pycharm": {
     "name": "#%%\n"
    }
   },
   "outputs": [],
   "source": [
    "#performing fva simulation"
   ]
  },
  {
   "cell_type": "code",
   "execution_count": null,
   "id": "16a842bf",
   "metadata": {
    "pycharm": {
     "name": "#%%\n"
    },
    "scrolled": true
   },
   "outputs": [],
   "source": [
    "# print results\n",
    "# maximum theoretical production rates of Ethanol (EX_eth_e), Carbon dioxide (EX_co2_e)\n",
    "\n",
    "print(f'Theoretical production rate interval for Ethanol:', fva_solution.loc['EX_etoh_e', 'minimum'], 'to', fva_solution.loc['EX_etoh_e', 'maximum'], 'mmol/gDW/h')\n",
    "print(f'Theoretical production rate interval for Carbon Dioxide:', fva_solution.loc['EX_co2_e', 'minimum'], 'to', fva_solution.loc['EX_co2_e', 'maximum'], 'mmol/gDW/h')"
   ]
  },
  {
   "cell_type": "markdown",
   "id": "c8e704a2",
   "metadata": {
    "pycharm": {
     "name": "#%% md\n"
    }
   },
   "source": [
    "### Simulating Deletions"
   ]
  },
  {
   "cell_type": "markdown",
   "id": "d71a2e12",
   "metadata": {
    "pycharm": {
     "name": "#%% md\n"
    }
   },
   "source": [
    "#### Knock outs"
   ]
  },
  {
   "cell_type": "code",
   "execution_count": null,
   "id": "aa1f3317",
   "metadata": {
    "pycharm": {
     "name": "#%%\n"
    }
   },
   "outputs": [],
   "source": [
    "# Check the reactions"
   ]
  },
  {
   "cell_type": "code",
   "execution_count": null,
   "id": "e0ce8a1a",
   "metadata": {
    "pycharm": {
     "name": "#%%\n"
    }
   },
   "outputs": [],
   "source": [
    "# knock out the YPL262W (FUM1) gene associated with FUM and FUMm reactions"
   ]
  },
  {
   "cell_type": "code",
   "execution_count": null,
   "id": "a0501307",
   "metadata": {
    "pycharm": {
     "name": "#%%\n"
    }
   },
   "outputs": [],
   "source": [
    "# Build escher map\n",
    "builder = escher.Builder(map_name='iMM904.Central carbon metabolism', model=model, reaction_data=pfba_solution.fluxes)\n",
    "builder"
   ]
  },
  {
   "cell_type": "markdown",
   "id": "6d3f5a64",
   "metadata": {
    "pycharm": {
     "name": "#%% md\n"
    }
   },
   "source": [
    "#### Single Deletions"
   ]
  },
  {
   "cell_type": "code",
   "execution_count": null,
   "id": "eb82fb9d",
   "metadata": {
    "pycharm": {
     "name": "#%%\n"
    }
   },
   "outputs": [],
   "source": [
    "#single reaction deletion"
   ]
  },
  {
   "cell_type": "code",
   "execution_count": null,
   "id": "b87a9d83",
   "metadata": {
    "pycharm": {
     "name": "#%%\n"
    }
   },
   "outputs": [],
   "source": [
    "#single gene deletion"
   ]
  }
 ],
 "metadata": {
  "kernelspec": {
   "display_name": "Python 3 (ipykernel)",
   "language": "python",
   "name": "python3"
  },
  "language_info": {
   "codemirror_mode": {
    "name": "ipython",
    "version": 3
   },
   "file_extension": ".py",
   "mimetype": "text/x-python",
   "name": "python",
   "nbconvert_exporter": "python",
   "pygments_lexer": "ipython3",
   "version": "3.7.16"
  }
 },
 "nbformat": 4,
 "nbformat_minor": 5
}
