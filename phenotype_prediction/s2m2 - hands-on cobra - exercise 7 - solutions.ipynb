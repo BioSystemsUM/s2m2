{
 "cells": [
  {
   "cell_type": "markdown",
   "id": "df393fdd",
   "metadata": {
    "pycharm": {
     "name": "#%% md\n"
    }
   },
   "source": [
    "# COBRApy\n",
    "\n",
    "COBRApy is a package for constraint-based modeling of biological networks written in Python.\n",
    "\n",
    "This tool allows loading and inspecting Genome-Scale Metabolic (GEM) models written in the Systems Biology Markup Language (SBML) format.\n",
    "\n",
    "Using COBRApy, one can analyze the following model contents:\n",
    "1. Reactions\n",
    "2. Metabolites\n",
    "3. Genes\n",
    "4. Exchange reactions (Environmental Conditions)\n",
    "\n",
    "COBRApy allows manipulating the contents of a GEM model. For instance, one can edit reactions' flux bounds, knock out a metabolic gene, or change environmental conditions.\n",
    "\n",
    "COBRApy contains flux analysis methods to simulate an organism's phenotypic behavior. These include Flux Balance Analysis (FBA), Parsimonious FBA, or Flux Variability Analysis (FVA).\n",
    "\n",
    "The simulation of gene and reaction deletions for a given GEM model is a straightforward process. One can simulate single or double knockouts using one of the flux analysis methods mentioned above."
   ]
  },
  {
   "cell_type": "markdown",
   "id": "d942983e",
   "metadata": {
    "pycharm": {
     "name": "#%% md\n"
    }
   },
   "source": [
    "## Installation\n",
    "\n",
    "\n",
    "### Requirements\n",
    "The following requirements are needed to use COBRApy:\n",
    "- Python 3.6 or higher\n",
    "- pip must be installed\n",
    "- GLPK is the default solver, but CPLEX is preferred\n",
    "\n",
    "\n",
    "### How to install COBRApy?\n",
    "```\n",
    "pip install cobra\n",
    "```"
   ]
  },
  {
   "cell_type": "markdown",
   "id": "37bf9a39",
   "metadata": {
    "pycharm": {
     "name": "#%% md\n"
    }
   },
   "source": [
    "# Exercise 7 - Phenotype prediction"
   ]
  },
  {
   "cell_type": "markdown",
   "id": "7cf00320",
   "metadata": {
    "pycharm": {
     "name": "#%% md\n"
    }
   },
   "source": [
    "For this practical session, we will be using the following model:\n",
    "- _E. coli_ core model which contains the central carbon metabolism of _Escherichia coli_ -> file: ../data/e_coli_core.xml\n",
    "\n",
    "You can read more about _E. coli_ core model (Orth et al., 2010) in the following links:\n",
    "- https://journals.asm.org/doi/10.1128/ecosalplus.10.2.1\n",
    "- http://bigg.ucsd.edu/models/e_coli_core\n",
    "\n",
    "This exercise consists of searching for potential candidate genes whose knock out would lead to increased Ethanol production. Thus, the following steps will be followed:\n",
    "- Perform a FBA simulation using an anaerobic medium;\n",
    "- Load the escher map with the FBA simulation to visualize the flux distribution;\n",
    "- Identify candidate mutants to increase the production of a compound of interest;\n",
    "- Determine the essential genes of the model;\n",
    "- Check the candidates for their essentiality;\n",
    "- Perform the gene knock-outs;"
   ]
  },
  {
   "cell_type": "code",
   "execution_count": 1,
   "id": "a2b96b11",
   "metadata": {
    "pycharm": {
     "name": "#%%\n"
    },
    "ExecuteTime": {
     "end_time": "2024-06-19T14:33:52.232172800Z",
     "start_time": "2024-06-19T14:33:50.398806700Z"
    }
   },
   "outputs": [],
   "source": [
    "# imports\n",
    "import cobra\n",
    "import escher"
   ]
  },
  {
   "cell_type": "code",
   "execution_count": 2,
   "id": "26b9ff75",
   "metadata": {
    "pycharm": {
     "name": "#%%\n"
    },
    "ExecuteTime": {
     "end_time": "2024-06-19T14:33:52.548261200Z",
     "start_time": "2024-06-19T14:33:52.386141700Z"
    }
   },
   "outputs": [
    {
     "data": {
      "text/plain": "<Model e_coli_core at 0x28e293b2c48>",
      "text/html": "\n        <table>\n            <tr>\n                <td><strong>Name</strong></td>\n                <td>e_coli_core</td>\n            </tr><tr>\n                <td><strong>Memory address</strong></td>\n                <td>28e293b2c48</td>\n            </tr><tr>\n                <td><strong>Number of metabolites</strong></td>\n                <td>72</td>\n            </tr><tr>\n                <td><strong>Number of reactions</strong></td>\n                <td>95</td>\n            </tr><tr>\n                <td><strong>Number of genes</strong></td>\n                <td>137</td>\n            </tr><tr>\n                <td><strong>Number of groups</strong></td>\n                <td>0</td>\n            </tr><tr>\n                <td><strong>Objective expression</strong></td>\n                <td>1.0*BIOMASS_Ecoli_core_w_GAM - 1.0*BIOMASS_Ecoli_core_w_GAM_reverse_712e5</td>\n            </tr><tr>\n                <td><strong>Compartments</strong></td>\n                <td>extracellular space, cytosol</td>\n            </tr>\n          </table>"
     },
     "execution_count": 2,
     "metadata": {},
     "output_type": "execute_result"
    }
   ],
   "source": [
    "# Loading a model\n",
    "model_path = '../data/e_coli_core.xml'\n",
    "model = cobra.io.read_sbml_model(model_path)\n",
    "\n",
    "model"
   ]
  },
  {
   "cell_type": "markdown",
   "id": "0be5ab02",
   "metadata": {
    "pycharm": {
     "name": "#%% md\n"
    }
   },
   "source": [
    "### Phenotype Simulation\n",
    "\n",
    "The default environmental conditions of the _E. coli_ core model represent an aerobic medium. However, the production of ethanol in _E. coli_ is often associated with mixed-acid fermentation. Hence, we should use anaerobic conditions."
   ]
  },
  {
   "cell_type": "code",
   "execution_count": 3,
   "id": "ae8fce66",
   "metadata": {
    "pycharm": {
     "name": "#%%\n"
    },
    "ExecuteTime": {
     "end_time": "2024-06-19T14:33:52.563275500Z",
     "start_time": "2024-06-19T14:33:52.549258600Z"
    }
   },
   "outputs": [
    {
     "data": {
      "text/plain": "<Reaction EX_o2_e at 0x28e5e4dd1c8>",
      "text/html": "\n        <table>\n            <tr>\n                <td><strong>Reaction identifier</strong></td><td>EX_o2_e</td>\n            </tr><tr>\n                <td><strong>Name</strong></td><td>O2 exchange</td>\n            </tr><tr>\n                <td><strong>Memory address</strong></td>\n                <td>0x28e5e4dd1c8</td>\n            </tr><tr>\n                <td><strong>Stoichiometry</strong></td>\n                <td>\n                    <p style='text-align:right'>o2_e --></p>\n                    <p style='text-align:right'>O2 O2 --></p>\n                </td>\n            </tr><tr>\n                <td><strong>GPR</strong></td><td></td>\n            </tr><tr>\n                <td><strong>Lower bound</strong></td><td>0</td>\n            </tr><tr>\n                <td><strong>Upper bound</strong></td><td>1000</td>\n            </tr>\n        </table>\n        "
     },
     "execution_count": 3,
     "metadata": {},
     "output_type": "execute_result"
    }
   ],
   "source": [
    "#setting the environmental conditions to replicate an anaerobic medium\n",
    "o2 = model.reactions.get_by_id('EX_o2_e')\n",
    "o2.bounds = (0, 1000)\n",
    "o2"
   ]
  },
  {
   "cell_type": "code",
   "execution_count": 4,
   "id": "183ab8d7",
   "metadata": {
    "pycharm": {
     "name": "#%%\n"
    },
    "ExecuteTime": {
     "end_time": "2024-06-19T14:33:52.596259600Z",
     "start_time": "2024-06-19T14:33:52.563275500Z"
    }
   },
   "outputs": [
    {
     "data": {
      "text/plain": "<Solution 0.212 at 0x28e5e66c9c8>",
      "text/html": "<strong><em>Optimal</em> solution with objective value 0.212</strong><br><div>\n<style scoped>\n    .dataframe tbody tr th:only-of-type {\n        vertical-align: middle;\n    }\n\n    .dataframe tbody tr th {\n        vertical-align: top;\n    }\n\n    .dataframe thead th {\n        text-align: right;\n    }\n</style>\n<table border=\"1\" class=\"dataframe\">\n  <thead>\n    <tr style=\"text-align: right;\">\n      <th></th>\n      <th>fluxes</th>\n      <th>reduced_costs</th>\n    </tr>\n  </thead>\n  <tbody>\n    <tr>\n      <th>PFK</th>\n      <td>9.789459</td>\n      <td>2.602085e-18</td>\n    </tr>\n    <tr>\n      <th>PFL</th>\n      <td>17.804674</td>\n      <td>0.000000e+00</td>\n    </tr>\n    <tr>\n      <th>PGI</th>\n      <td>9.956609</td>\n      <td>0.000000e+00</td>\n    </tr>\n    <tr>\n      <th>PGK</th>\n      <td>-19.437336</td>\n      <td>-0.000000e+00</td>\n    </tr>\n    <tr>\n      <th>PGL</th>\n      <td>0.000000</td>\n      <td>0.000000e+00</td>\n    </tr>\n    <tr>\n      <th>...</th>\n      <td>...</td>\n      <td>...</td>\n    </tr>\n    <tr>\n      <th>NADH16</th>\n      <td>0.000000</td>\n      <td>-5.538015e-03</td>\n    </tr>\n    <tr>\n      <th>NADTRHD</th>\n      <td>0.000000</td>\n      <td>-1.107603e-02</td>\n    </tr>\n    <tr>\n      <th>NH4t</th>\n      <td>1.154156</td>\n      <td>0.000000e+00</td>\n    </tr>\n    <tr>\n      <th>O2t</th>\n      <td>0.000000</td>\n      <td>0.000000e+00</td>\n    </tr>\n    <tr>\n      <th>PDH</th>\n      <td>0.000000</td>\n      <td>-2.769008e-03</td>\n    </tr>\n  </tbody>\n</table>\n<p>95 rows × 2 columns</p>\n</div>"
     },
     "execution_count": 4,
     "metadata": {},
     "output_type": "execute_result"
    }
   ],
   "source": [
    "#performing a FBA simulation\n",
    "wt_solution = model.optimize()\n",
    "wt_solution"
   ]
  },
  {
   "cell_type": "markdown",
   "id": "e5981c4c",
   "metadata": {
    "pycharm": {
     "name": "#%% md\n"
    }
   },
   "source": [
    "### Metabolic Pathway Visualization\n",
    "\n",
    "Now that we have performed an FBA simulation under anaerobic conditions, we can run the `escher.Builder` method to display the flux distribution on the _E. coli_ core metabolism map. This may help to identify reactions deflecting flux from ethanol production."
   ]
  },
  {
   "cell_type": "code",
   "execution_count": 5,
   "id": "d0e0772e",
   "metadata": {
    "pycharm": {
     "name": "#%%\n"
    },
    "ExecuteTime": {
     "end_time": "2024-06-19T14:33:52.943030900Z",
     "start_time": "2024-06-19T14:33:52.582262900Z"
    }
   },
   "outputs": [
    {
     "name": "stdout",
     "output_type": "stream",
     "text": [
      "Downloading Map from https://escher.github.io/1-0-0/6/maps/Escherichia%20coli/e_coli_core.Core%20metabolism.json\n"
     ]
    },
    {
     "data": {
      "text/plain": "Builder(reaction_data={'PFK': 9.789458863898286, 'PFL': 17.804674217935304, 'PGI': 9.95660909530426, 'PGK': -1…",
      "application/vnd.jupyter.widget-view+json": {
       "version_major": 2,
       "version_minor": 0,
       "model_id": "922a7c752b86432dadc00c1ad8b1e099"
      }
     },
     "metadata": {},
     "output_type": "display_data"
    }
   ],
   "source": [
    "# create the builder object which contains the metabolic map\n",
    "builder = escher.Builder(map_name='e_coli_core.Core metabolism', model=model, reaction_data=wt_solution.fluxes)\n",
    "builder"
   ]
  },
  {
   "cell_type": "markdown",
   "id": "faf5d5e2",
   "metadata": {
    "pycharm": {
     "name": "#%% md\n"
    }
   },
   "source": [
    "Citrate synthase and Phosphotransacetylase reactions seem to be deflecting the flux distribution from ethanol production."
   ]
  },
  {
   "cell_type": "markdown",
   "id": "914786cc",
   "metadata": {
    "pycharm": {
     "name": "#%% md\n"
    }
   },
   "source": [
    "### Search for essential Genes\n",
    "\n",
    "Now that we have two candidate reactions, we can use the `find_essential_genes` function of the flux analysis package to identify a list of essential genes for this model. This list contains all the genes whose knock out would result in no growth. \n",
    "\n",
    "Hence, reactions associated with essential genes are not suitable candidates for a metabolic engineering strategy."
   ]
  },
  {
   "cell_type": "code",
   "execution_count": 6,
   "id": "fe597b5f",
   "metadata": {
    "pycharm": {
     "name": "#%%\n"
    },
    "ExecuteTime": {
     "end_time": "2024-06-19T14:33:58.362770Z",
     "start_time": "2024-06-19T14:33:52.941000300Z"
    }
   },
   "outputs": [
    {
     "data": {
      "text/plain": "{<Gene b0720 at 0x28e5e3eefc8>,\n <Gene b1136 at 0x28e5e40cd48>,\n <Gene b1779 at 0x28e5e400c08>,\n <Gene b2415 at 0x28e5e3fd5c8>,\n <Gene b2416 at 0x28e5e3faf88>,\n <Gene b2779 at 0x28e5e3f4648>,\n <Gene b2926 at 0x28e5e4224c8>,\n <Gene b3919 at 0x28e5e432fc8>,\n <Gene b3956 at 0x28e5e427c08>,\n <Gene b4025 at 0x28e5e421f48>}"
     },
     "execution_count": 6,
     "metadata": {},
     "output_type": "execute_result"
    }
   ],
   "source": [
    "#searching for essential genes\n",
    "essential = cobra.flux_analysis.find_essential_genes(model)\n",
    "essential"
   ]
  },
  {
   "cell_type": "markdown",
   "id": "cfac6fd8",
   "metadata": {
    "pycharm": {
     "name": "#%% md\n"
    }
   },
   "source": [
    "### Check the mutant candidates\n",
    "\n",
    "After discovering the essential genes of the model, one can now check if the target reactions are associated with any of those essential genes."
   ]
  },
  {
   "cell_type": "code",
   "execution_count": 7,
   "id": "9fa2f471",
   "metadata": {
    "pycharm": {
     "name": "#%%\n"
    },
    "ExecuteTime": {
     "end_time": "2024-06-19T14:33:58.405769300Z",
     "start_time": "2024-06-19T14:33:58.363772Z"
    }
   },
   "outputs": [
    {
     "data": {
      "text/plain": "<Reaction PTAr at 0x28e5e47f2c8>",
      "text/html": "\n        <table>\n            <tr>\n                <td><strong>Reaction identifier</strong></td><td>PTAr</td>\n            </tr><tr>\n                <td><strong>Name</strong></td><td>Phosphotransacetylase</td>\n            </tr><tr>\n                <td><strong>Memory address</strong></td>\n                <td>0x28e5e47f2c8</td>\n            </tr><tr>\n                <td><strong>Stoichiometry</strong></td>\n                <td>\n                    <p style='text-align:right'>accoa_c + pi_c <=> actp_c + coa_c</p>\n                    <p style='text-align:right'>Acetyl-CoA + Phosphate <=> Acetyl phosphate + Coenzyme A</p>\n                </td>\n            </tr><tr>\n                <td><strong>GPR</strong></td><td>b2297 or b2458</td>\n            </tr><tr>\n                <td><strong>Lower bound</strong></td><td>-1000.0</td>\n            </tr><tr>\n                <td><strong>Upper bound</strong></td><td>1000.0</td>\n            </tr>\n        </table>\n        "
     },
     "execution_count": 7,
     "metadata": {},
     "output_type": "execute_result"
    }
   ],
   "source": [
    "model.reactions.PTAr"
   ]
  },
  {
   "cell_type": "code",
   "execution_count": 8,
   "id": "d88c793e",
   "metadata": {
    "pycharm": {
     "name": "#%%\n"
    },
    "ExecuteTime": {
     "end_time": "2024-06-19T14:33:58.463286100Z",
     "start_time": "2024-06-19T14:33:58.378769600Z"
    }
   },
   "outputs": [
    {
     "data": {
      "text/plain": "<Reaction CS at 0x28e5e485a48>",
      "text/html": "\n        <table>\n            <tr>\n                <td><strong>Reaction identifier</strong></td><td>CS</td>\n            </tr><tr>\n                <td><strong>Name</strong></td><td>Citrate synthase</td>\n            </tr><tr>\n                <td><strong>Memory address</strong></td>\n                <td>0x28e5e485a48</td>\n            </tr><tr>\n                <td><strong>Stoichiometry</strong></td>\n                <td>\n                    <p style='text-align:right'>accoa_c + h2o_c + oaa_c --> cit_c + coa_c + h_c</p>\n                    <p style='text-align:right'>Acetyl-CoA + H2O H2O + Oxaloacetate --> Citrate + Coenzyme A + H+</p>\n                </td>\n            </tr><tr>\n                <td><strong>GPR</strong></td><td>b0720</td>\n            </tr><tr>\n                <td><strong>Lower bound</strong></td><td>0.0</td>\n            </tr><tr>\n                <td><strong>Upper bound</strong></td><td>1000.0</td>\n            </tr>\n        </table>\n        "
     },
     "execution_count": 8,
     "metadata": {},
     "output_type": "execute_result"
    }
   ],
   "source": [
    "model.reactions.CS"
   ]
  },
  {
   "cell_type": "markdown",
   "id": "d770a62c",
   "metadata": {
    "pycharm": {
     "name": "#%% md\n"
    }
   },
   "source": [
    "As we can see, the Phosphotransacetylase reaction is a viable knock-out target. By checking its GPR, we can see that none of its genes are in the list of essential genes.\n",
    "\n",
    "On the other hand, the Citrate synthase should not be knocked out, as the organism would not be able to grow."
   ]
  },
  {
   "cell_type": "markdown",
   "id": "41af0169",
   "metadata": {
    "pycharm": {
     "name": "#%% md\n"
    }
   },
   "source": [
    "### Gene knock-outs"
   ]
  },
  {
   "cell_type": "code",
   "execution_count": 9,
   "id": "6b80c4ac",
   "metadata": {
    "pycharm": {
     "name": "#%%\n"
    },
    "ExecuteTime": {
     "end_time": "2024-06-19T14:33:58.465285600Z",
     "start_time": "2024-06-19T14:33:58.442288Z"
    }
   },
   "outputs": [
    {
     "name": "stdout",
     "output_type": "stream",
     "text": [
      "Wt strain ethanol production: 8.279455380486581\n",
      "Mutant strain ethanol production: 16.584255740929652\n"
     ]
    }
   ],
   "source": [
    "print('Wt strain ethanol production:', wt_solution['EX_etoh_e'])\n",
    "\n",
    "with model:\n",
    "    model.genes.b2297.knock_out()\n",
    "    model.genes.b2458.knock_out()\n",
    "    mutant_solution = model.optimize()\n",
    "    print('Mutant strain ethanol production:', mutant_solution['EX_etoh_e'])"
   ]
  },
  {
   "cell_type": "code",
   "execution_count": 10,
   "id": "0ac9bb51",
   "metadata": {
    "pycharm": {
     "name": "#%%\n"
    },
    "ExecuteTime": {
     "end_time": "2024-06-19T14:33:58.681967700Z",
     "start_time": "2024-06-19T14:33:58.456287300Z"
    }
   },
   "outputs": [
    {
     "name": "stdout",
     "output_type": "stream",
     "text": [
      "Downloading Map from https://escher.github.io/1-0-0/6/maps/Escherichia%20coli/e_coli_core.Core%20metabolism.json\n"
     ]
    },
    {
     "data": {
      "text/plain": "Builder(reaction_data={'PFK': 9.271232684579616, 'PFL': 3.9563473930779764, 'PGI': 8.339429028836893, 'PGK': -…",
      "application/vnd.jupyter.widget-view+json": {
       "version_major": 2,
       "version_minor": 0,
       "model_id": "d9ad21ec3ac146ed966ba5029433835a"
      }
     },
     "metadata": {},
     "output_type": "display_data"
    }
   ],
   "source": [
    "builder = escher.Builder(map_name='e_coli_core.Core metabolism', model=model, reaction_data=mutant_solution.fluxes)\n",
    "builder"
   ]
  },
  {
   "cell_type": "code",
   "execution_count": 10,
   "id": "210088d7",
   "metadata": {
    "ExecuteTime": {
     "end_time": "2024-06-19T14:33:58.688966400Z",
     "start_time": "2024-06-19T14:33:58.681967700Z"
    }
   },
   "outputs": [],
   "source": []
  }
 ],
 "metadata": {
  "kernelspec": {
   "display_name": "Python 3 (ipykernel)",
   "language": "python",
   "name": "python3"
  },
  "language_info": {
   "codemirror_mode": {
    "name": "ipython",
    "version": 3
   },
   "file_extension": ".py",
   "mimetype": "text/x-python",
   "name": "python",
   "nbconvert_exporter": "python",
   "pygments_lexer": "ipython3",
   "version": "3.7.16"
  }
 },
 "nbformat": 4,
 "nbformat_minor": 5
}
